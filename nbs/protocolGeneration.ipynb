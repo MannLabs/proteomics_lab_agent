{
 "cells": [
  {
   "cell_type": "code",
   "execution_count": null,
   "id": "c0253e8f",
   "metadata": {},
   "outputs": [],
   "source": [
    "from __future__ import annotations\n",
    "\n",
    "%reload_ext autoreload\n",
    "%autoreload 2\n",
    "\n",
    "import sys\n",
    "from pathlib import Path\n",
    "\n",
    "path_to_append = Path(Path.cwd()).parent\n",
    "sys.path.append(str(path_to_append))"
   ]
  },
  {
   "cell_type": "code",
   "execution_count": null,
   "id": "db263298",
   "metadata": {},
   "outputs": [],
   "source": [
    "# Uploading a single file to gcs\n",
    "import os\n",
    "\n",
    "from google.cloud import storage\n",
    "\n",
    "from proteomics_specialist.sub_agents import utils\n",
    "\n",
    "bucket_name = os.getenv(\"GOOGLE_CLOUD_STORAGE_BUCKET\")\n",
    "storage_client = storage.Client()\n",
    "bucket = storage_client.bucket(bucket_name)\n",
    "\n",
    "path = \"/Users/patriciaskowronek/Documents/documentation_agent_few_shot_examples/benchmark_dataset/protocols/ConnectingColumnSampleLine_protocolCorrect.MP4\"\n",
    "file_path, file_uri, filename = utils.upload_file_from_path_to_gcs(\n",
    "    path, bucket, \"input_for_protocol\"\n",
    ")\n",
    "print(file_path, file_uri, filename)"
   ]
  },
  {
   "cell_type": "code",
   "execution_count": null,
   "id": "9e29e13b",
   "metadata": {},
   "outputs": [],
   "source": [
    "from IPython.display import Markdown\n",
    "\n",
    "from proteomics_specialist.sub_agents.protocol_generator_agent import agent\n",
    "\n",
    "result = agent.generate_protocols(\n",
    "    query=\"\"\"Generate a protocol based on this video \"gs://ai-proteomics-advisor/input_for_protocol/ConnectingColumnSampleLine_protocolCorrect.MP4\".\"\"\"\n",
    ")"
   ]
  },
  {
   "cell_type": "code",
   "execution_count": null,
   "id": "c52bc21b",
   "metadata": {},
   "outputs": [],
   "source": [
    "Markdown(result[\"protocol\"])"
   ]
  },
  {
   "cell_type": "code",
   "execution_count": null,
   "id": "969a4278",
   "metadata": {},
   "outputs": [],
   "source": [
    "from IPython.display import Markdown\n",
    "\n",
    "from proteomics_specialist.sub_agents.protocol_generator_agent import agent\n",
    "\n",
    "result2 = agent.generate_protocols(\n",
    "    query=\"\"\"Generate a protocol based on these notes:\n",
    "    #Magnetic beads - Sample preparation\n",
    "\n",
    "     Aliquot 10 µl bead slurry\n",
    "    Wash 2x with ddH2O\n",
    "    Remove supernatant\n",
    "    Add 100 µl buffer as defined in table\n",
    "    Dependent on what buffer you want to use for the beads → either specified by the bead protocol itself or Philipps buffer screen\n",
    "    Add 10 µl plasma\n",
    "    or platelet contaminated plasma if needed\n",
    "    Incubate 30 min at 37°C\n",
    "    Centrifuge at 2000 g, discard supernatant\n",
    "    Wash with 100 µl buffer\n",
    "    Discard supernatant\n",
    "    Wash with 100 µl buffer\n",
    "    Discard supernatant\n",
    "    50 µl lysis buffer\n",
    "    100 mM Tris, 40 mM CAA, 10 mM TCEP\n",
    "    for 40 ml buffer: 149.6 mg CAA, 526.6 mg Tris and 0.8 mL 0.5M TCEP\n",
    "    or\n",
    "    for 40 ml buffer: 149.6 mg CAA, 526.6 mg Tris and 100.1 mg TCEP → check pH !!!!!\n",
    "    10 min 90°C\n",
    "    Spin down\n",
    "    Add 10 µl of trypsin/lysC stock: per sample: 8 µl lysis buffer, 1 µl trypsin, 1 µl lysC per sample\n",
    "    1200 µl lysis buffer, 150 µl trypsin, 150 µl lysC\n",
    "    Digest for XX h\n",
    "    Add 50 µl 0.2% TFA\n",
    "    Mix\n",
    "    Transfer 100 µl on a fresh plate, discard bead plate\n",
    "    Approximation: 10 µl of plasma using the enrichment should results in 800 ng peptides; Load 20 µl of the transferred 100 µl digest (is approx. 160 ng)\n",
    "    \"\"\"\n",
    ")\n",
    "result2"
   ]
  },
  {
   "cell_type": "code",
   "execution_count": null,
   "id": "7023d401",
   "metadata": {},
   "outputs": [],
   "source": [
    "Markdown(result2[\"protocol\"])"
   ]
  },
  {
   "cell_type": "code",
   "execution_count": null,
   "id": "ee50da27",
   "metadata": {},
   "outputs": [],
   "source": [
    "result2[\"protocol_generation_time\"]"
   ]
  },
  {
   "cell_type": "code",
   "execution_count": null,
   "id": "17097f91",
   "metadata": {},
   "outputs": [],
   "source": []
  }
 ],
 "metadata": {
  "kernelspec": {
   "display_name": "agent_workflow",
   "language": "python",
   "name": "python3"
  },
  "language_info": {
   "codemirror_mode": {
    "name": "ipython",
    "version": 3
   },
   "file_extension": ".py",
   "mimetype": "text/x-python",
   "name": "python",
   "nbconvert_exporter": "python",
   "pygments_lexer": "ipython3",
   "version": "3.13.5"
  }
 },
 "nbformat": 4,
 "nbformat_minor": 5
}
