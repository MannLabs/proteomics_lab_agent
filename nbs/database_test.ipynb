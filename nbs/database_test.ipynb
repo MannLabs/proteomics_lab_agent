{
 "cells": [
  {
   "cell_type": "markdown",
   "id": "2946fbb9",
   "metadata": {},
   "source": [
    "## MCP database functionalities\n",
    "\n",
    "This notebook helps to develop and debug the SQL database functionalities."
   ]
  },
  {
   "cell_type": "code",
   "execution_count": 2,
   "id": "0933ddd4",
   "metadata": {},
   "outputs": [],
   "source": [
    "import sys\n",
    "from pathlib import Path\n",
    "\n",
    "path_to_append = (\n",
    "    Path(Path.cwd()).parent / \"proteomics_specialist/sub_agents/qc_memory_agent\"\n",
    ")\n",
    "sys.path.append(str(path_to_append))\n",
    "import database_utils\n",
    "\n",
    "%reload_ext autoreload\n",
    "%autoreload 2"
   ]
  },
  {
   "cell_type": "code",
   "execution_count": 4,
   "id": "97594cde",
   "metadata": {},
   "outputs": [
    {
     "data": {
      "text/plain": [
       "{'success': True,\n",
       " 'message': 'Tables listed successfully.',\n",
       " 'tables': ['performance_data',\n",
       "  'sqlite_sequence',\n",
       "  'raw_files',\n",
       "  'raw_file_to_session']}"
      ]
     },
     "execution_count": 4,
     "metadata": {},
     "output_type": "execute_result"
    }
   ],
   "source": [
    "database_utils.list_db_tables()"
   ]
  },
  {
   "cell_type": "code",
   "execution_count": 5,
   "id": "d6c0ea86",
   "metadata": {},
   "outputs": [
    {
     "data": {
      "text/plain": [
       "{'table_name': 'performance_data',\n",
       " 'columns': [{'name': 'id', 'type': 'INTEGER'},\n",
       "  {'name': 'performance_status', 'type': 'BOOLEAN'},\n",
       "  {'name': 'performance_rating', 'type': 'INTEGER'},\n",
       "  {'name': 'performance_comment', 'type': 'TEXT'},\n",
       "  {'name': 'created_at', 'type': 'TIMESTAMP'}]}"
      ]
     },
     "execution_count": 5,
     "metadata": {},
     "output_type": "execute_result"
    }
   ],
   "source": [
    "database_utils.get_table_schema(\"performance_data\")"
   ]
  },
  {
   "cell_type": "code",
   "execution_count": 6,
   "id": "7651ef23",
   "metadata": {},
   "outputs": [
    {
     "data": {
      "text/plain": [
       "[{'performance_status': 1},\n",
       " {'performance_status': 1},\n",
       " {'performance_status': 1},\n",
       " {'performance_status': 1},\n",
       " {'performance_status': 1},\n",
       " {'performance_status': 1},\n",
       " {'performance_status': 1}]"
      ]
     },
     "execution_count": 6,
     "metadata": {},
     "output_type": "execute_result"
    }
   ],
   "source": [
    "database_utils.query_db_table(\n",
    "    \"performance_data\", \"performance_status\", \"performance_status = 1\"\n",
    ")"
   ]
  },
  {
   "cell_type": "code",
   "execution_count": null,
   "id": "fc37fafc",
   "metadata": {},
   "outputs": [
    {
     "data": {
      "text/plain": [
       "{'success': True,\n",
       " 'message': 'Data inserted successfully. Row ID: 27',\n",
       " 'row_id': 27}"
      ]
     },
     "execution_count": 5,
     "metadata": {},
     "output_type": "execute_result"
    }
   ],
   "source": [
    "sample_sessions = {\n",
    "    \"performance_status\": 1,\n",
    "    \"performance_comment\": \"Excellent run - all parameters optimal\",\n",
    "}\n",
    "database_utils.insert_data(\"performance_data\", sample_sessions)"
   ]
  },
  {
   "cell_type": "code",
   "execution_count": 17,
   "id": "813bb3b8",
   "metadata": {},
   "outputs": [
    {
     "data": {
      "text/plain": [
       "{'success': True,\n",
       " 'message': 'Session created with 1 files (0 new, 0 updated, 1 reused)',\n",
       " 'performance_id': 13,\n",
       " 'raw_file_ids': [19],\n",
       " 'files_created': 0,\n",
       " 'files_updated': 0,\n",
       " 'files_reused': 1,\n",
       " 'links_created': 1}"
      ]
     },
     "execution_count": 17,
     "metadata": {},
     "output_type": "execute_result"
    }
   ],
   "source": [
    "test_session = {\n",
    "    \"performance_status\": 1,\n",
    "    \"performance_rating\": 5,\n",
    "    \"performance_comment\": \"excellent performance while using the new hardware AIP. This was the performance freshly after the entire ion path was cleaned.\",\n",
    "    \"raw_files\": [\n",
    "        {\n",
    "            \"file_name\": \"20250429_TIMS01scp_PaSk_DIAMA_HeLa_5ng_wh80_diaP_8scans_100ms_AIP_650-0_26_3_s25_d16_S1-A12_1_11367.d\",\n",
    "            \"instrument\": \"tims01\",\n",
    "            \"gradient\": 16.299,\n",
    "        },\n",
    "    ],\n",
    "}\n",
    "database_utils.insert_performance_session(test_session)"
   ]
  },
  {
   "cell_type": "code",
   "execution_count": 16,
   "id": "2fbb7a0f",
   "metadata": {},
   "outputs": [
    {
     "data": {
      "text/plain": [
       "{'success': True,\n",
       " 'message': 'Query executed successfully. Found 38 record(s).',\n",
       " 'data': [{'id': 1,\n",
       "   'file_name': '20250611_TIMS02_EVO05_PaSk_DIAMA_HeLa_200ng_44min_S1-A3_1_21296.d',\n",
       "   'instrument': 'tims2',\n",
       "   'gradient': 43.998,\n",
       "   'performance_status': 1,\n",
       "   'performance_rating': 4,\n",
       "   'performance_comment': 'good performance'},\n",
       "  {'id': 3,\n",
       "   'file_name': '20250620_TIMS02_EVO05_PaSk_DIAMA_HeLa_200ng_44min_S1-A1_1_21379.d',\n",
       "   'instrument': 'tims2',\n",
       "   'gradient': 43.998,\n",
       "   'performance_status': 1,\n",
       "   'performance_rating': 4,\n",
       "   'performance_comment': 'It is a good performance'},\n",
       "  {'id': 4,\n",
       "   'file_name': '20250620_TIMS02_EVO05_PaSk_DIAMA_HeLa_200ng_44min_S1-A2_1_21380.d',\n",
       "   'instrument': 'tims2',\n",
       "   'gradient': 43.997,\n",
       "   'performance_status': 1,\n",
       "   'performance_rating': 4,\n",
       "   'performance_comment': 'It is a good performance'},\n",
       "  {'id': 5,\n",
       "   'file_name': '20250620_TIMS02_EVO05_PaSk_DIAMA_HeLa_200ng_44min_S1-A3_1_21381.d',\n",
       "   'instrument': 'tims2',\n",
       "   'gradient': 43.998,\n",
       "   'performance_status': 1,\n",
       "   'performance_rating': 4,\n",
       "   'performance_comment': 'It is a good performance'},\n",
       "  {'id': 6,\n",
       "   'file_name': '20250623_TIMS02_EVO05_PaSk_DIAMA_HeLa_200ng_44min_S1-A3_1_21402.d',\n",
       "   'instrument': 'tims2',\n",
       "   'gradient': 43.998,\n",
       "   'performance_status': 1,\n",
       "   'performance_rating': 4,\n",
       "   'performance_comment': 'It is a good performance'},\n",
       "  {'id': 7,\n",
       "   'file_name': '20250623_TIMS02_EVO05_PaSk_DIAMA_HeLa_200ng_44min_S1-A4_1_21403.d',\n",
       "   'instrument': 'tims2',\n",
       "   'gradient': 43.998,\n",
       "   'performance_status': 1,\n",
       "   'performance_rating': 4,\n",
       "   'performance_comment': 'It is a good performance'},\n",
       "  {'id': 8,\n",
       "   'file_name': '20250708_TIMS03_PaSk_DIAMA_HeLa_200ng_44min_S1-A1_1_50491.d',\n",
       "   'instrument': 'tims3',\n",
       "   'gradient': 44.0,\n",
       "   'performance_status': 1,\n",
       "   'performance_rating': 4,\n",
       "   'performance_comment': 'good performance'},\n",
       "  {'id': 9,\n",
       "   'file_name': '20250708_TIMS03_PaSk_DIAMA_HeLa_200ng_44min_S1-A2_1_50492.d',\n",
       "   'instrument': 'tims3',\n",
       "   'gradient': 44.0,\n",
       "   'performance_status': 1,\n",
       "   'performance_rating': 4,\n",
       "   'performance_comment': 'good performance'},\n",
       "  {'id': 10,\n",
       "   'file_name': '20250708_TIMS03_PaSk_DIAMA_HeLa_200ng_44min_S1-A3_1_50493.d',\n",
       "   'instrument': 'tims3',\n",
       "   'gradient': 44.0,\n",
       "   'performance_status': 1,\n",
       "   'performance_rating': 4,\n",
       "   'performance_comment': 'good performance'},\n",
       "  {'id': 11,\n",
       "   'file_name': '20250708_TIMS03_PaSk_DIAMA_HeLa_200ng_44min_S1-A4_1_50494.d',\n",
       "   'instrument': 'tims3',\n",
       "   'gradient': 44.0,\n",
       "   'performance_status': 1,\n",
       "   'performance_rating': 4,\n",
       "   'performance_comment': 'good performance'},\n",
       "  {'id': 12,\n",
       "   'file_name': '20250708_TIMS03_PaSk_DIAMA_HeLa_200ng_44min_S1-A5_1_50495.d',\n",
       "   'instrument': 'tims3',\n",
       "   'gradient': 44.0,\n",
       "   'performance_status': 1,\n",
       "   'performance_rating': 4,\n",
       "   'performance_comment': 'good performance'},\n",
       "  {'id': 13,\n",
       "   'file_name': '20250708_TIMS03_PaSk_DIAMA_HeLa_200ng_44min_S1-A6_1_50496.d',\n",
       "   'instrument': 'tims3',\n",
       "   'gradient': 43.998,\n",
       "   'performance_status': 1,\n",
       "   'performance_rating': 4,\n",
       "   'performance_comment': 'good performance'},\n",
       "  {'id': 14,\n",
       "   'file_name': '20250708_TIMS03_PaSk_DIAMA_HeLa_200ng_44min_S1-A7_1_50497.d',\n",
       "   'instrument': 'tims3',\n",
       "   'gradient': 44.0,\n",
       "   'performance_status': 1,\n",
       "   'performance_rating': 4,\n",
       "   'performance_comment': 'good performance'},\n",
       "  {'id': 15,\n",
       "   'file_name': '20250708_TIMS03_PaSk_DIAMA_HeLa_200ng_44min_S1-A8_1_50498.d',\n",
       "   'instrument': 'tims3',\n",
       "   'gradient': 44.0,\n",
       "   'performance_status': 1,\n",
       "   'performance_rating': 4,\n",
       "   'performance_comment': 'good performance'},\n",
       "  {'id': 16,\n",
       "   'file_name': '20250708_TIMS03_PaSk_DIAMA_HeLa_200ng_44min_S1-A9_1_50499.d',\n",
       "   'instrument': 'tims3',\n",
       "   'gradient': 44.0,\n",
       "   'performance_status': 1,\n",
       "   'performance_rating': 4,\n",
       "   'performance_comment': 'good performance'},\n",
       "  {'id': 19,\n",
       "   'file_name': '20250429_TIMS01scp_PaSk_DIAMA_HeLa_5ng_wh80_diaP_8scans_100ms_AIP_650-0_26_3_s25_d16_S1-A12_1_11367.d',\n",
       "   'instrument': 'tims1',\n",
       "   'gradient': 16.299,\n",
       "   'performance_status': 1,\n",
       "   'performance_rating': 5,\n",
       "   'performance_comment': 'excellent performance while using the new hardware AIP. This was the performance freshly after the entire ion path was cleaned.'},\n",
       "  {'id': 8,\n",
       "   'file_name': '20250708_TIMS03_PaSk_DIAMA_HeLa_200ng_44min_S1-A1_1_50491.d',\n",
       "   'instrument': 'tims3',\n",
       "   'gradient': 44.0,\n",
       "   'performance_status': 1,\n",
       "   'performance_rating': 4,\n",
       "   'performance_comment': 'This is a good performance'},\n",
       "  {'id': 9,\n",
       "   'file_name': '20250708_TIMS03_PaSk_DIAMA_HeLa_200ng_44min_S1-A2_1_50492.d',\n",
       "   'instrument': 'tims3',\n",
       "   'gradient': 44.0,\n",
       "   'performance_status': 1,\n",
       "   'performance_rating': 4,\n",
       "   'performance_comment': 'This is a good performance'},\n",
       "  {'id': 10,\n",
       "   'file_name': '20250708_TIMS03_PaSk_DIAMA_HeLa_200ng_44min_S1-A3_1_50493.d',\n",
       "   'instrument': 'tims3',\n",
       "   'gradient': 44.0,\n",
       "   'performance_status': 1,\n",
       "   'performance_rating': 4,\n",
       "   'performance_comment': 'This is a good performance'},\n",
       "  {'id': 11,\n",
       "   'file_name': '20250708_TIMS03_PaSk_DIAMA_HeLa_200ng_44min_S1-A4_1_50494.d',\n",
       "   'instrument': 'tims3',\n",
       "   'gradient': 44.0,\n",
       "   'performance_status': 1,\n",
       "   'performance_rating': 4,\n",
       "   'performance_comment': 'This is a good performance'},\n",
       "  {'id': 12,\n",
       "   'file_name': '20250708_TIMS03_PaSk_DIAMA_HeLa_200ng_44min_S1-A5_1_50495.d',\n",
       "   'instrument': 'tims3',\n",
       "   'gradient': 44.0,\n",
       "   'performance_status': 1,\n",
       "   'performance_rating': 4,\n",
       "   'performance_comment': 'This is a good performance'},\n",
       "  {'id': 13,\n",
       "   'file_name': '20250708_TIMS03_PaSk_DIAMA_HeLa_200ng_44min_S1-A6_1_50496.d',\n",
       "   'instrument': 'tims3',\n",
       "   'gradient': 43.998,\n",
       "   'performance_status': 1,\n",
       "   'performance_rating': 4,\n",
       "   'performance_comment': 'This is a good performance'},\n",
       "  {'id': 14,\n",
       "   'file_name': '20250708_TIMS03_PaSk_DIAMA_HeLa_200ng_44min_S1-A7_1_50497.d',\n",
       "   'instrument': 'tims3',\n",
       "   'gradient': 44.0,\n",
       "   'performance_status': 1,\n",
       "   'performance_rating': 4,\n",
       "   'performance_comment': 'This is a good performance'},\n",
       "  {'id': 15,\n",
       "   'file_name': '20250708_TIMS03_PaSk_DIAMA_HeLa_200ng_44min_S1-A8_1_50498.d',\n",
       "   'instrument': 'tims3',\n",
       "   'gradient': 44.0,\n",
       "   'performance_status': 1,\n",
       "   'performance_rating': 4,\n",
       "   'performance_comment': 'This is a good performance'},\n",
       "  {'id': 16,\n",
       "   'file_name': '20250708_TIMS03_PaSk_DIAMA_HeLa_200ng_44min_S1-A9_1_50499.d',\n",
       "   'instrument': 'tims3',\n",
       "   'gradient': 44.0,\n",
       "   'performance_status': 1,\n",
       "   'performance_rating': 4,\n",
       "   'performance_comment': 'This is a good performance'},\n",
       "  {'id': 23,\n",
       "   'file_name': '20250715_TIMS03_PaSk_DIAMA_HeLa_200ng_44min_S1-A1_1_50487.d',\n",
       "   'instrument': 'tims3',\n",
       "   'gradient': 43.998,\n",
       "   'performance_status': 1,\n",
       "   'performance_rating': 4,\n",
       "   'performance_comment': 'This is a good performance'},\n",
       "  {'id': 24,\n",
       "   'file_name': '20250715_TIMS03_PaSk_DIAMA_HeLa_200ng_44min_S1-A2_1_50488.d',\n",
       "   'instrument': 'tims3',\n",
       "   'gradient': 43.999,\n",
       "   'performance_status': 1,\n",
       "   'performance_rating': 4,\n",
       "   'performance_comment': 'This is a good performance'},\n",
       "  {'id': 25,\n",
       "   'file_name': '20250715_TIMS03_PaSk_DIAMA_HeLa_200ng_44min_S1-A3_1_50489.d',\n",
       "   'instrument': 'tims3',\n",
       "   'gradient': 43.999,\n",
       "   'performance_status': 1,\n",
       "   'performance_rating': 4,\n",
       "   'performance_comment': 'This is a good performance'},\n",
       "  {'id': 26,\n",
       "   'file_name': '20250707_TIMS05_Evo9_w80_LoGr_DIAMA_HeLa_5ng_w80_dia_AID8_01_S1-A1_1_8972.d',\n",
       "   'instrument': 'tims5',\n",
       "   'gradient': 16.298,\n",
       "   'performance_status': 1,\n",
       "   'performance_rating': 5,\n",
       "   'performance_comment': 'excellent performance'},\n",
       "  {'id': 27,\n",
       "   'file_name': '20250707_TIMS05_Evo9_w80_LoGr_DIAMA_HeLa_5ng_w80_dia_AID8_02_S1-A2_1_8973.d',\n",
       "   'instrument': 'tims5',\n",
       "   'gradient': 16.297,\n",
       "   'performance_status': 1,\n",
       "   'performance_rating': 5,\n",
       "   'performance_comment': 'excellent performance'},\n",
       "  {'id': 28,\n",
       "   'file_name': '20250707_TIMS05_Evo9_w80_LoGr_DIAMA_HeLa_5ng_w80_dia_AID8_03_S1-A3_1_8974.d',\n",
       "   'instrument': 'tims5',\n",
       "   'gradient': 16.297,\n",
       "   'performance_status': 1,\n",
       "   'performance_rating': 5,\n",
       "   'performance_comment': 'excellent performance'},\n",
       "  {'id': 29,\n",
       "   'file_name': '20250707_TIMS05_Evo9_w80_LoGr_DIAMA_HeLa_5ng_w80_dia_AID8_04_S1-A4_1_8975.d',\n",
       "   'instrument': 'tims5',\n",
       "   'gradient': 16.297,\n",
       "   'performance_status': 1,\n",
       "   'performance_rating': 5,\n",
       "   'performance_comment': 'excellent performance'},\n",
       "  {'id': 30,\n",
       "   'file_name': '20250707_TIMS05_Evo9_w80_LoGr_DIAMA_HeLa_5ng_w80_dia_AID8_S1-A4_1_8971.d',\n",
       "   'instrument': 'tims5',\n",
       "   'gradient': 16.297,\n",
       "   'performance_status': 1,\n",
       "   'performance_rating': 5,\n",
       "   'performance_comment': 'excellent performance'},\n",
       "  {'id': 3,\n",
       "   'file_name': '20250620_TIMS02_EVO05_PaSk_DIAMA_HeLa_200ng_44min_S1-A1_1_21379.d',\n",
       "   'instrument': 'tims2',\n",
       "   'gradient': 43.998,\n",
       "   'performance_status': 1,\n",
       "   'performance_rating': 4,\n",
       "   'performance_comment': 'It is a good performance'},\n",
       "  {'id': 4,\n",
       "   'file_name': '20250620_TIMS02_EVO05_PaSk_DIAMA_HeLa_200ng_44min_S1-A2_1_21380.d',\n",
       "   'instrument': 'tims2',\n",
       "   'gradient': 43.997,\n",
       "   'performance_status': 1,\n",
       "   'performance_rating': 4,\n",
       "   'performance_comment': 'It is a good performance'},\n",
       "  {'id': 5,\n",
       "   'file_name': '20250620_TIMS02_EVO05_PaSk_DIAMA_HeLa_200ng_44min_S1-A3_1_21381.d',\n",
       "   'instrument': 'tims2',\n",
       "   'gradient': 43.998,\n",
       "   'performance_status': 1,\n",
       "   'performance_rating': 4,\n",
       "   'performance_comment': 'It is a good performance'},\n",
       "  {'id': 6,\n",
       "   'file_name': '20250623_TIMS02_EVO05_PaSk_DIAMA_HeLa_200ng_44min_S1-A3_1_21402.d',\n",
       "   'instrument': 'tims2',\n",
       "   'gradient': 43.998,\n",
       "   'performance_status': 1,\n",
       "   'performance_rating': 4,\n",
       "   'performance_comment': 'It is a good performance'},\n",
       "  {'id': 7,\n",
       "   'file_name': '20250623_TIMS02_EVO05_PaSk_DIAMA_HeLa_200ng_44min_S1-A4_1_21403.d',\n",
       "   'instrument': 'tims2',\n",
       "   'gradient': 43.998,\n",
       "   'performance_status': 1,\n",
       "   'performance_rating': 4,\n",
       "   'performance_comment': 'It is a good performance'}]}"
      ]
     },
     "execution_count": 16,
     "metadata": {},
     "output_type": "execute_result"
    }
   ],
   "source": [
    "database_utils.query_performance_data({\"performance_status\": 1})"
   ]
  },
  {
   "cell_type": "code",
   "execution_count": 8,
   "id": "aba08947",
   "metadata": {
    "vscode": {
     "languageId": "javascript"
    }
   },
   "outputs": [
    {
     "data": {
      "text/plain": [
       "{'success': True,\n",
       " 'message': 'Query executed successfully. Found 12 record(s).',\n",
       " 'data': [{'id': 1,\n",
       "   'file_name': '20250611_TIMS02_EVO05_PaSk_DIAMA_HeLa_200ng_44min_S1-A3_1_21296.d',\n",
       "   'instrument': 'tims2',\n",
       "   'gradient': 43.998,\n",
       "   'performance_status': 1,\n",
       "   'performance_rating': 4,\n",
       "   'performance_comment': 'good performance'},\n",
       "  {'id': 2,\n",
       "   'file_name': '20250528_TIMS02_EVO05_LuHe_DIAMA_HeLa_200ng_44min_01_S6-H2_1_21203.d',\n",
       "   'instrument': 'tims2',\n",
       "   'gradient': 43.998,\n",
       "   'performance_status': 0,\n",
       "   'performance_rating': 0,\n",
       "   'performance_comment': 'High mass error for MS1 and MS2. TOF needs calibration.'},\n",
       "  {'id': 3,\n",
       "   'file_name': '20250620_TIMS02_EVO05_PaSk_DIAMA_HeLa_200ng_44min_S1-A1_1_21379.d',\n",
       "   'instrument': 'tims2',\n",
       "   'gradient': 43.998,\n",
       "   'performance_status': 1,\n",
       "   'performance_rating': 4,\n",
       "   'performance_comment': 'It is a good performance'},\n",
       "  {'id': 4,\n",
       "   'file_name': '20250620_TIMS02_EVO05_PaSk_DIAMA_HeLa_200ng_44min_S1-A2_1_21380.d',\n",
       "   'instrument': 'tims2',\n",
       "   'gradient': 43.997,\n",
       "   'performance_status': 1,\n",
       "   'performance_rating': 4,\n",
       "   'performance_comment': 'It is a good performance'},\n",
       "  {'id': 5,\n",
       "   'file_name': '20250620_TIMS02_EVO05_PaSk_DIAMA_HeLa_200ng_44min_S1-A3_1_21381.d',\n",
       "   'instrument': 'tims2',\n",
       "   'gradient': 43.998,\n",
       "   'performance_status': 1,\n",
       "   'performance_rating': 4,\n",
       "   'performance_comment': 'It is a good performance'},\n",
       "  {'id': 6,\n",
       "   'file_name': '20250623_TIMS02_EVO05_PaSk_DIAMA_HeLa_200ng_44min_S1-A3_1_21402.d',\n",
       "   'instrument': 'tims2',\n",
       "   'gradient': 43.998,\n",
       "   'performance_status': 1,\n",
       "   'performance_rating': 4,\n",
       "   'performance_comment': 'It is a good performance'},\n",
       "  {'id': 7,\n",
       "   'file_name': '20250623_TIMS02_EVO05_PaSk_DIAMA_HeLa_200ng_44min_S1-A4_1_21403.d',\n",
       "   'instrument': 'tims2',\n",
       "   'gradient': 43.998,\n",
       "   'performance_status': 1,\n",
       "   'performance_rating': 4,\n",
       "   'performance_comment': 'It is a good performance'},\n",
       "  {'id': 3,\n",
       "   'file_name': '20250620_TIMS02_EVO05_PaSk_DIAMA_HeLa_200ng_44min_S1-A1_1_21379.d',\n",
       "   'instrument': 'tims2',\n",
       "   'gradient': 43.998,\n",
       "   'performance_status': 1,\n",
       "   'performance_rating': 4,\n",
       "   'performance_comment': 'It is a good performance'},\n",
       "  {'id': 4,\n",
       "   'file_name': '20250620_TIMS02_EVO05_PaSk_DIAMA_HeLa_200ng_44min_S1-A2_1_21380.d',\n",
       "   'instrument': 'tims2',\n",
       "   'gradient': 43.997,\n",
       "   'performance_status': 1,\n",
       "   'performance_rating': 4,\n",
       "   'performance_comment': 'It is a good performance'},\n",
       "  {'id': 5,\n",
       "   'file_name': '20250620_TIMS02_EVO05_PaSk_DIAMA_HeLa_200ng_44min_S1-A3_1_21381.d',\n",
       "   'instrument': 'tims2',\n",
       "   'gradient': 43.998,\n",
       "   'performance_status': 1,\n",
       "   'performance_rating': 4,\n",
       "   'performance_comment': 'It is a good performance'},\n",
       "  {'id': 6,\n",
       "   'file_name': '20250623_TIMS02_EVO05_PaSk_DIAMA_HeLa_200ng_44min_S1-A3_1_21402.d',\n",
       "   'instrument': 'tims2',\n",
       "   'gradient': 43.998,\n",
       "   'performance_status': 1,\n",
       "   'performance_rating': 4,\n",
       "   'performance_comment': 'It is a good performance'},\n",
       "  {'id': 7,\n",
       "   'file_name': '20250623_TIMS02_EVO05_PaSk_DIAMA_HeLa_200ng_44min_S1-A4_1_21403.d',\n",
       "   'instrument': 'tims2',\n",
       "   'gradient': 43.998,\n",
       "   'performance_status': 1,\n",
       "   'performance_rating': 4,\n",
       "   'performance_comment': 'It is a good performance'}]}"
      ]
     },
     "execution_count": 8,
     "metadata": {},
     "output_type": "execute_result"
    }
   ],
   "source": [
    "database_utils.query_performance_data({\n",
    "        'instrument': 'tims2',\n",
    "        'gradient': {'min': 40.0, 'max': 45.0}\n",
    "    })"
   ]
  },
  {
   "cell_type": "code",
   "execution_count": 9,
   "id": "34bae8ef",
   "metadata": {},
   "outputs": [
    {
     "data": {
      "text/plain": [
       "{'success': False,\n",
       " 'message': \"Invalid filter field(s): ['invalid_field']. Valid fields: ['performance_status', 'performance_rating', 'performance_comment', 'instrument', 'gradient', 'file_name']\",\n",
       " 'data': []}"
      ]
     },
     "execution_count": 9,
     "metadata": {},
     "output_type": "execute_result"
    }
   ],
   "source": [
    "database_utils.query_performance_data({\"invalid_field\": \"test\"})"
   ]
  },
  {
   "cell_type": "code",
   "execution_count": 10,
   "id": "067f9f6e",
   "metadata": {},
   "outputs": [
    {
     "data": {
      "text/plain": [
       "{'success': True,\n",
       " 'message': 'Query executed successfully. Found 0 record(s).',\n",
       " 'data': []}"
      ]
     },
     "execution_count": 10,
     "metadata": {},
     "output_type": "execute_result"
    }
   ],
   "source": [
    "database_utils.query_performance_data(\n",
    "    {\n",
    "        \"instrument\": \"tims02\",\n",
    "        \"performance_status\": 0,\n",
    "    }\n",
    ")"
   ]
  },
  {
   "cell_type": "code",
   "execution_count": 11,
   "id": "288be1a2",
   "metadata": {},
   "outputs": [
    {
     "data": {
      "text/plain": [
       "{'success': True,\n",
       " 'message': 'Query executed successfully. Found 1 record(s).',\n",
       " 'data': [{'id': 2,\n",
       "   'file_name': '20250528_TIMS02_EVO05_LuHe_DIAMA_HeLa_200ng_44min_01_S6-H2_1_21203.d',\n",
       "   'instrument': 'tims2',\n",
       "   'gradient': 43.998,\n",
       "   'performance_status': 0,\n",
       "   'performance_rating': 0,\n",
       "   'performance_comment': 'High mass error for MS1 and MS2. TOF needs calibration.'}]}"
      ]
     },
     "execution_count": 11,
     "metadata": {},
     "output_type": "execute_result"
    }
   ],
   "source": [
    "database_utils.query_performance_data(\n",
    "    {\n",
    "        \"instrument\": \"tims2\",\n",
    "        \"performance_status\": 0,\n",
    "        \"gradient\": {\"tolerance\": 0.5, \"value\": 44.0},\n",
    "    }\n",
    ")"
   ]
  },
  {
   "cell_type": "code",
   "execution_count": null,
   "id": "d385c9df",
   "metadata": {},
   "outputs": [],
   "source": []
  }
 ],
 "metadata": {
  "kernelspec": {
   "display_name": "docu_test",
   "language": "python",
   "name": "python3"
  },
  "language_info": {
   "codemirror_mode": {
    "name": "ipython",
    "version": 3
   },
   "file_extension": ".py",
   "mimetype": "text/x-python",
   "name": "python",
   "nbconvert_exporter": "python",
   "pygments_lexer": "ipython3",
   "version": "3.9.21"
  }
 },
 "nbformat": 4,
 "nbformat_minor": 5
}
