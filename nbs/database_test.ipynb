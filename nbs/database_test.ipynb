{
 "cells": [
  {
   "cell_type": "markdown",
   "id": "2946fbb9",
   "metadata": {},
   "source": [
    "## MCP database functionalities\n",
    "\n",
    "This notebook helps to develop and debug the SQL database functionalities.\n",
    "Uncomment all lines related to the MCP server in server.py in order to execute it."
   ]
  },
  {
   "cell_type": "code",
   "execution_count": null,
   "id": "0933ddd4",
   "metadata": {},
   "outputs": [],
   "source": [
    "import sys\n",
    "from pathlib import Path\n",
    "\n",
    "path_to_append = (\n",
    "    Path(Path.cwd()).parent / \"proteomics_specialist/sub_agents/database_agent\"\n",
    ")\n",
    "sys.path.append(str(path_to_append))\n",
    "import server\n",
    "\n",
    "%reload_ext autoreload\n",
    "%autoreload 2"
   ]
  },
  {
   "cell_type": "code",
   "execution_count": 2,
   "id": "97594cde",
   "metadata": {},
   "outputs": [
    {
     "data": {
      "text/plain": [
       "{'success': True,\n",
       " 'message': 'Tables listed successfully.',\n",
       " 'tables': ['performance_data',\n",
       "  'sqlite_sequence',\n",
       "  'raw_files',\n",
       "  'raw_file_to_session']}"
      ]
     },
     "execution_count": 2,
     "metadata": {},
     "output_type": "execute_result"
    }
   ],
   "source": [
    "server.list_db_tables(\"\")"
   ]
  },
  {
   "cell_type": "code",
   "execution_count": 7,
   "id": "d6c0ea86",
   "metadata": {},
   "outputs": [
    {
     "data": {
      "text/plain": [
       "{'table_name': 'performance_data',\n",
       " 'columns': [{'name': 'id', 'type': 'INTEGER'},\n",
       "  {'name': 'performance_status', 'type': 'BOOLEAN'},\n",
       "  {'name': 'performance_rating', 'type': 'INTEGER'},\n",
       "  {'name': 'performance_comment', 'type': 'TEXT'},\n",
       "  {'name': 'created_at', 'type': 'TIMESTAMP'}]}"
      ]
     },
     "execution_count": 7,
     "metadata": {},
     "output_type": "execute_result"
    }
   ],
   "source": [
    "server.get_table_schema(\"performance_data\")"
   ]
  },
  {
   "cell_type": "code",
   "execution_count": 4,
   "id": "7651ef23",
   "metadata": {},
   "outputs": [
    {
     "data": {
      "text/plain": [
       "[{'performance_status': 1},\n",
       " {'performance_status': 1},\n",
       " {'performance_status': 1},\n",
       " {'performance_status': 1},\n",
       " {'performance_status': 1},\n",
       " {'performance_status': 1},\n",
       " {'performance_status': 1},\n",
       " {'performance_status': 1},\n",
       " {'performance_status': 1},\n",
       " {'performance_status': 1},\n",
       " {'performance_status': 1},\n",
       " {'performance_status': 1},\n",
       " {'performance_status': 1},\n",
       " {'performance_status': 1},\n",
       " {'performance_status': 1},\n",
       " {'performance_status': 1},\n",
       " {'performance_status': 1},\n",
       " {'performance_status': 1},\n",
       " {'performance_status': 1},\n",
       " {'performance_status': 1},\n",
       " {'performance_status': 1},\n",
       " {'performance_status': 1},\n",
       " {'performance_status': 1},\n",
       " {'performance_status': 1},\n",
       " {'performance_status': 1}]"
      ]
     },
     "execution_count": 4,
     "metadata": {},
     "output_type": "execute_result"
    }
   ],
   "source": [
    "server.query_db_table(\n",
    "    \"performance_data\", \"performance_status\", \"performance_status = 1\"\n",
    ")"
   ]
  },
  {
   "cell_type": "code",
   "execution_count": 5,
   "id": "fc37fafc",
   "metadata": {},
   "outputs": [
    {
     "data": {
      "text/plain": [
       "{'success': True,\n",
       " 'message': 'Data inserted successfully. Row ID: 27',\n",
       " 'row_id': 27}"
      ]
     },
     "execution_count": 5,
     "metadata": {},
     "output_type": "execute_result"
    }
   ],
   "source": [
    "sample_sessions = {\n",
    "    \"performance_status\": 1,\n",
    "    \"performance_comment\": \"Excellent run - all parameters optimal\",\n",
    "}\n",
    "server.insert_data(\"performance_data\", sample_sessions)"
   ]
  },
  {
   "cell_type": "code",
   "execution_count": 17,
   "id": "0e53ba48",
   "metadata": {},
   "outputs": [
    {
     "data": {
      "text/plain": [
       "{'success': False,\n",
       " 'message': \"Error batch inserting data into table 'raw_files': database is locked\"}"
      ]
     },
     "execution_count": 17,
     "metadata": {},
     "output_type": "execute_result"
    }
   ],
   "source": [
    "new_files = [\n",
    "    {\"file_name\": \"batch_001.d\", \"instrument\": \"tims2\", \"gradient\": 44.5},\n",
    "    {\"file_name\": \"batch_002.d\", \"instrument\": \"tims2\", \"gradient\": 44.6},\n",
    "]\n",
    "server.insert_many_data(\"raw_files\", new_files)"
   ]
  },
  {
   "cell_type": "code",
   "execution_count": 20,
   "id": "813bb3b8",
   "metadata": {},
   "outputs": [
    {
     "name": "stdout",
     "output_type": "stream",
     "text": [
      "tims1\n",
      "tims1\n"
     ]
    },
    {
     "data": {
      "text/plain": [
       "{'success': True,\n",
       " 'message': 'Session created with 1 files (1 new, 0 updated, 0 reused)',\n",
       " 'performance_id': 7,\n",
       " 'raw_file_ids': [19],\n",
       " 'files_created': 1,\n",
       " 'files_updated': 0,\n",
       " 'files_reused': 0,\n",
       " 'links_created': 1}"
      ]
     },
     "execution_count": 20,
     "metadata": {},
     "output_type": "execute_result"
    }
   ],
   "source": [
    "test_session = {\n",
    "    \"performance_status\": 1,\n",
    "    \"performance_rating\": 5,\n",
    "    \"performance_comment\": \"excellent performance while using the new hardware AIP. This was the performance freshly after the entire ion path was cleaned.\",\n",
    "    \"raw_files\": [\n",
    "        {\n",
    "            \"file_name\": \"20250429_TIMS01scp_PaSk_DIAMA_HeLa_5ng_wh80_diaP_8scans_100ms_AIP_650-0_26_3_s25_d16_S1-A12_1_11367.d\",\n",
    "            \"instrument\": \"tims1\",\n",
    "            \"gradient\": 16.299,\n",
    "        },\n",
    "    ],\n",
    "}\n",
    "server.insert_performance_session(test_session)"
   ]
  },
  {
   "cell_type": "code",
   "execution_count": 8,
   "id": "2fbb7a0f",
   "metadata": {},
   "outputs": [
    {
     "data": {
      "text/plain": [
       "{'success': True,\n",
       " 'message': 'Query executed successfully. Found 28 record(s).',\n",
       " 'data': [{'id': 1,\n",
       "   'file_name': '20250611_TIMS02_EVO05_PaSk_DIAMA_HeLa_200ng_44min_S1-A3_1_21296.d',\n",
       "   'instrument': 'tims2',\n",
       "   'gradient': 43.998,\n",
       "   'performance_status': 1,\n",
       "   'performance_comment': 'good performance'},\n",
       "  {'id': 3,\n",
       "   'file_name': '2025-06-23_11:53:40 - 20250623_TIMS02_EVO05_PaSk_DIAMA_HeLa_200ng_44min_S1-A3_1_21402.d',\n",
       "   'instrument': 'tims2',\n",
       "   'gradient': 43.998,\n",
       "   'performance_status': 1,\n",
       "   'performance_comment': 'Great performance'},\n",
       "  {'id': 4,\n",
       "   'file_name': '2025-06-23_12:42:11 - 20250623_TIMS02_EVO05_PaSk_DIAMA_HeLa_200ng_44min_S1-A4_1_21403.d',\n",
       "   'instrument': 'tims2',\n",
       "   'gradient': 43.998,\n",
       "   'performance_status': 1,\n",
       "   'performance_comment': 'Great performance'},\n",
       "  {'id': 5,\n",
       "   'file_name': '20250620_TIMS02_EVO05_PaSk_DIAMA_HeLa_200ng_44min_S1-A3_1_21381.d',\n",
       "   'instrument': 'TIMS02',\n",
       "   'gradient': 43.998,\n",
       "   'performance_status': 1,\n",
       "   'performance_comment': 'great performance'},\n",
       "  {'id': 6,\n",
       "   'file_name': '20250623_TIMS02_EVO05_PaSk_DIAMA_HeLa_200ng_44min_S1-A3_1_21402.d',\n",
       "   'instrument': 'TIMS02',\n",
       "   'gradient': 43.998,\n",
       "   'performance_status': 1,\n",
       "   'performance_comment': 'Great performance'},\n",
       "  {'id': 7,\n",
       "   'file_name': '20250623_TIMS02_EVO05_PaSk_DIAMA_HeLa_200ng_44min_S1-A4_1_21403.d',\n",
       "   'instrument': 'TIMS02',\n",
       "   'gradient': 43.998,\n",
       "   'performance_status': 1,\n",
       "   'performance_comment': 'great performance'},\n",
       "  {'id': 8,\n",
       "   'file_name': '20250620_TIMS02_EVO05_PaSk_DIAMA_HeLa_200ng_44min_S1-A2_1_21380.d',\n",
       "   'instrument': 'tims2',\n",
       "   'gradient': 43.997,\n",
       "   'performance_status': 1,\n",
       "   'performance_comment': 'Good performance'},\n",
       "  {'id': 9,\n",
       "   'file_name': 'tims2',\n",
       "   'instrument': '43.998',\n",
       "   'gradient': '20250620_TIMS02_EVO05_PaSk_DIAMA_HeLa_200ng_44min_S1-A1_1_21379.d',\n",
       "   'performance_status': 1,\n",
       "   'performance_comment': 'Good performance'},\n",
       "  {'id': 12,\n",
       "   'file_name': 'session_file_001.d',\n",
       "   'instrument': 'tims2',\n",
       "   'gradient': 43.998,\n",
       "   'performance_status': 1,\n",
       "   'performance_comment': 'Debug test session'},\n",
       "  {'id': 13,\n",
       "   'file_name': 'session_file_002.d',\n",
       "   'instrument': 'tims2',\n",
       "   'gradient': 43.998,\n",
       "   'performance_status': 1,\n",
       "   'performance_comment': 'Debug test session'},\n",
       "  {'id': 12,\n",
       "   'file_name': 'session_file_001.d',\n",
       "   'instrument': 'tims2',\n",
       "   'gradient': 43.998,\n",
       "   'performance_status': 1,\n",
       "   'performance_comment': 'Debug test session'},\n",
       "  {'id': 13,\n",
       "   'file_name': 'session_file_002.d',\n",
       "   'instrument': 'tims2',\n",
       "   'gradient': 43.998,\n",
       "   'performance_status': 1,\n",
       "   'performance_comment': 'Debug test session'},\n",
       "  {'id': 12,\n",
       "   'file_name': 'session_file_001.d',\n",
       "   'instrument': 'tims2',\n",
       "   'gradient': 43.998,\n",
       "   'performance_status': 1,\n",
       "   'performance_comment': 'Debug test session'},\n",
       "  {'id': 13,\n",
       "   'file_name': 'session_file_002.d',\n",
       "   'instrument': 'tims2',\n",
       "   'gradient': 43.998,\n",
       "   'performance_status': 1,\n",
       "   'performance_comment': 'Debug test session'},\n",
       "  {'id': 14,\n",
       "   'file_name': 'session_file_003.d',\n",
       "   'instrument': 'tims2',\n",
       "   'gradient': 43.998,\n",
       "   'performance_status': 1,\n",
       "   'performance_comment': 'Debug test session'},\n",
       "  {'id': 15,\n",
       "   'file_name': 'session_file_004.d',\n",
       "   'instrument': 'tims1',\n",
       "   'gradient': 43.98,\n",
       "   'performance_status': 1,\n",
       "   'performance_comment': 'Debug test session'},\n",
       "  {'id': 15,\n",
       "   'file_name': 'session_file_004.d',\n",
       "   'instrument': 'tims1',\n",
       "   'gradient': 43.98,\n",
       "   'performance_status': 1,\n",
       "   'performance_comment': 'Debug test session'},\n",
       "  {'id': 16,\n",
       "   'file_name': 'session_file_005.d',\n",
       "   'instrument': 'tims2',\n",
       "   'gradient': 43.998,\n",
       "   'performance_status': 1,\n",
       "   'performance_comment': 'Debug test session'},\n",
       "  {'id': 15,\n",
       "   'file_name': 'session_file_004.d',\n",
       "   'instrument': 'tims1',\n",
       "   'gradient': 43.98,\n",
       "   'performance_status': 1,\n",
       "   'performance_comment': 'Debug test session'},\n",
       "  {'id': 16,\n",
       "   'file_name': 'session_file_005.d',\n",
       "   'instrument': 'tims2',\n",
       "   'gradient': 43.998,\n",
       "   'performance_status': 1,\n",
       "   'performance_comment': 'Debug test session'},\n",
       "  {'id': 15,\n",
       "   'file_name': 'session_file_004.d',\n",
       "   'instrument': 'tims1',\n",
       "   'gradient': 43.98,\n",
       "   'performance_status': 1,\n",
       "   'performance_comment': 'Debug test session'},\n",
       "  {'id': 16,\n",
       "   'file_name': 'session_file_005.d',\n",
       "   'instrument': 'tims2',\n",
       "   'gradient': 43.998,\n",
       "   'performance_status': 1,\n",
       "   'performance_comment': 'Debug test session'},\n",
       "  {'id': 15,\n",
       "   'file_name': 'session_file_004.d',\n",
       "   'instrument': 'tims1',\n",
       "   'gradient': 43.98,\n",
       "   'performance_status': 1,\n",
       "   'performance_comment': 'Debug test session'},\n",
       "  {'id': 16,\n",
       "   'file_name': 'session_file_005.d',\n",
       "   'instrument': 'tims2',\n",
       "   'gradient': 43.998,\n",
       "   'performance_status': 1,\n",
       "   'performance_comment': 'Debug test session'},\n",
       "  {'id': 15,\n",
       "   'file_name': 'session_file_004.d',\n",
       "   'instrument': 'tims1',\n",
       "   'gradient': 43.98,\n",
       "   'performance_status': 1,\n",
       "   'performance_comment': 'Debug test session'},\n",
       "  {'id': 16,\n",
       "   'file_name': 'session_file_005.d',\n",
       "   'instrument': 'tims2',\n",
       "   'gradient': 43.998,\n",
       "   'performance_status': 1,\n",
       "   'performance_comment': 'Debug test session'},\n",
       "  {'id': 15,\n",
       "   'file_name': 'session_file_004.d',\n",
       "   'instrument': 'tims1',\n",
       "   'gradient': 43.98,\n",
       "   'performance_status': 1,\n",
       "   'performance_comment': 'Debug test session'},\n",
       "  {'id': 16,\n",
       "   'file_name': 'session_file_005.d',\n",
       "   'instrument': 'tims2',\n",
       "   'gradient': 43.998,\n",
       "   'performance_status': 1,\n",
       "   'performance_comment': 'Debug test session'}]}"
      ]
     },
     "execution_count": 8,
     "metadata": {},
     "output_type": "execute_result"
    }
   ],
   "source": [
    "server.query_performance_data({\"performance_status\": 1})"
   ]
  },
  {
   "cell_type": "code",
   "execution_count": 9,
   "id": "aba08947",
   "metadata": {
    "vscode": {
     "languageId": "javascript"
    }
   },
   "outputs": [
    {
     "data": {
      "text/plain": [
       "{'success': True,\n",
       " 'message': 'Query executed successfully. Found 18 record(s).',\n",
       " 'data': [{'id': 1,\n",
       "   'file_name': '20250611_TIMS02_EVO05_PaSk_DIAMA_HeLa_200ng_44min_S1-A3_1_21296.d',\n",
       "   'instrument': 'tims2',\n",
       "   'gradient': 43.998,\n",
       "   'performance_status': 1,\n",
       "   'performance_comment': 'good performance'},\n",
       "  {'id': 2,\n",
       "   'file_name': '20250528_TIMS02_EVO05_LuHe_DIAMA_HeLa_200ng_44min_01_S6-H2_1_21203.d',\n",
       "   'instrument': 'tims2',\n",
       "   'gradient': 43.998,\n",
       "   'performance_status': 0,\n",
       "   'performance_comment': 'High mass error for MS1 and MS2. TOF needs calibration.'},\n",
       "  {'id': 3,\n",
       "   'file_name': '2025-06-23_11:53:40 - 20250623_TIMS02_EVO05_PaSk_DIAMA_HeLa_200ng_44min_S1-A3_1_21402.d',\n",
       "   'instrument': 'tims2',\n",
       "   'gradient': 43.998,\n",
       "   'performance_status': 1,\n",
       "   'performance_comment': 'Great performance'},\n",
       "  {'id': 4,\n",
       "   'file_name': '2025-06-23_12:42:11 - 20250623_TIMS02_EVO05_PaSk_DIAMA_HeLa_200ng_44min_S1-A4_1_21403.d',\n",
       "   'instrument': 'tims2',\n",
       "   'gradient': 43.998,\n",
       "   'performance_status': 1,\n",
       "   'performance_comment': 'Great performance'},\n",
       "  {'id': 8,\n",
       "   'file_name': '20250620_TIMS02_EVO05_PaSk_DIAMA_HeLa_200ng_44min_S1-A2_1_21380.d',\n",
       "   'instrument': 'tims2',\n",
       "   'gradient': 43.997,\n",
       "   'performance_status': 1,\n",
       "   'performance_comment': 'Good performance'},\n",
       "  {'id': 12,\n",
       "   'file_name': 'session_file_001.d',\n",
       "   'instrument': 'tims2',\n",
       "   'gradient': 43.998,\n",
       "   'performance_status': 1,\n",
       "   'performance_comment': 'Debug test session'},\n",
       "  {'id': 13,\n",
       "   'file_name': 'session_file_002.d',\n",
       "   'instrument': 'tims2',\n",
       "   'gradient': 43.998,\n",
       "   'performance_status': 1,\n",
       "   'performance_comment': 'Debug test session'},\n",
       "  {'id': 12,\n",
       "   'file_name': 'session_file_001.d',\n",
       "   'instrument': 'tims2',\n",
       "   'gradient': 43.998,\n",
       "   'performance_status': 1,\n",
       "   'performance_comment': 'Debug test session'},\n",
       "  {'id': 13,\n",
       "   'file_name': 'session_file_002.d',\n",
       "   'instrument': 'tims2',\n",
       "   'gradient': 43.998,\n",
       "   'performance_status': 1,\n",
       "   'performance_comment': 'Debug test session'},\n",
       "  {'id': 12,\n",
       "   'file_name': 'session_file_001.d',\n",
       "   'instrument': 'tims2',\n",
       "   'gradient': 43.998,\n",
       "   'performance_status': 1,\n",
       "   'performance_comment': 'Debug test session'},\n",
       "  {'id': 13,\n",
       "   'file_name': 'session_file_002.d',\n",
       "   'instrument': 'tims2',\n",
       "   'gradient': 43.998,\n",
       "   'performance_status': 1,\n",
       "   'performance_comment': 'Debug test session'},\n",
       "  {'id': 14,\n",
       "   'file_name': 'session_file_003.d',\n",
       "   'instrument': 'tims2',\n",
       "   'gradient': 43.998,\n",
       "   'performance_status': 1,\n",
       "   'performance_comment': 'Debug test session'},\n",
       "  {'id': 16,\n",
       "   'file_name': 'session_file_005.d',\n",
       "   'instrument': 'tims2',\n",
       "   'gradient': 43.998,\n",
       "   'performance_status': 1,\n",
       "   'performance_comment': 'Debug test session'},\n",
       "  {'id': 16,\n",
       "   'file_name': 'session_file_005.d',\n",
       "   'instrument': 'tims2',\n",
       "   'gradient': 43.998,\n",
       "   'performance_status': 1,\n",
       "   'performance_comment': 'Debug test session'},\n",
       "  {'id': 16,\n",
       "   'file_name': 'session_file_005.d',\n",
       "   'instrument': 'tims2',\n",
       "   'gradient': 43.998,\n",
       "   'performance_status': 1,\n",
       "   'performance_comment': 'Debug test session'},\n",
       "  {'id': 16,\n",
       "   'file_name': 'session_file_005.d',\n",
       "   'instrument': 'tims2',\n",
       "   'gradient': 43.998,\n",
       "   'performance_status': 1,\n",
       "   'performance_comment': 'Debug test session'},\n",
       "  {'id': 16,\n",
       "   'file_name': 'session_file_005.d',\n",
       "   'instrument': 'tims2',\n",
       "   'gradient': 43.998,\n",
       "   'performance_status': 1,\n",
       "   'performance_comment': 'Debug test session'},\n",
       "  {'id': 16,\n",
       "   'file_name': 'session_file_005.d',\n",
       "   'instrument': 'tims2',\n",
       "   'gradient': 43.998,\n",
       "   'performance_status': 1,\n",
       "   'performance_comment': 'Debug test session'}]}"
      ]
     },
     "execution_count": 9,
     "metadata": {},
     "output_type": "execute_result"
    }
   ],
   "source": [
    "server.query_performance_data({\n",
    "        'instrument': 'tims2',\n",
    "        'gradient': {'min': 40.0, 'max': 45.0}\n",
    "    })"
   ]
  },
  {
   "cell_type": "code",
   "execution_count": 10,
   "id": "34bae8ef",
   "metadata": {},
   "outputs": [
    {
     "data": {
      "text/plain": [
       "{'success': False,\n",
       " 'message': \"Invalid filter field(s): ['invalid_field']. Valid fields: ['performance_status', 'performance_comment', 'instrument', 'gradient', 'file_name']\",\n",
       " 'data': []}"
      ]
     },
     "execution_count": 10,
     "metadata": {},
     "output_type": "execute_result"
    }
   ],
   "source": [
    "server.query_performance_data({\"invalid_field\": \"test\"})"
   ]
  },
  {
   "cell_type": "code",
   "execution_count": 13,
   "id": "067f9f6e",
   "metadata": {},
   "outputs": [
    {
     "data": {
      "text/plain": [
       "{'success': True,\n",
       " 'message': 'Query executed successfully. Found 2 record(s).',\n",
       " 'data': [{'id': 18,\n",
       "   'file_name': 'file1.d',\n",
       "   'instrument': 'tims02',\n",
       "   'gradient': 43.998,\n",
       "   'performance_status': 0,\n",
       "   'performance_comment': 'Bad performance'},\n",
       "  {'id': 19,\n",
       "   'file_name': 'file2.d',\n",
       "   'instrument': 'tims02',\n",
       "   'gradient': 43.998,\n",
       "   'performance_status': 0,\n",
       "   'performance_comment': 'Bad performance'}]}"
      ]
     },
     "execution_count": 13,
     "metadata": {},
     "output_type": "execute_result"
    }
   ],
   "source": [
    "server.query_performance_data(\n",
    "    {\n",
    "        \"instrument\": \"tims02\",\n",
    "        \"performance_status\": 0,\n",
    "    }\n",
    ")"
   ]
  },
  {
   "cell_type": "code",
   "execution_count": 15,
   "id": "288be1a2",
   "metadata": {},
   "outputs": [
    {
     "data": {
      "text/plain": [
       "{'success': True,\n",
       " 'message': 'Query executed successfully. Found 1 record(s).',\n",
       " 'data': [{'id': 2,\n",
       "   'file_name': '20250528_TIMS02_EVO05_LuHe_DIAMA_HeLa_200ng_44min_01_S6-H2_1_21203.d',\n",
       "   'instrument': 'tims2',\n",
       "   'gradient': 43.998,\n",
       "   'performance_status': 0,\n",
       "   'performance_rating': 0,\n",
       "   'performance_comment': 'High mass error for MS1 and MS2. TOF needs calibration.'}]}"
      ]
     },
     "execution_count": 15,
     "metadata": {},
     "output_type": "execute_result"
    }
   ],
   "source": [
    "server.query_performance_data(\n",
    "    {\n",
    "        \"instrument\": \"tims2\",\n",
    "        \"performance_status\": 0,\n",
    "        \"gradient\": {\"tolerance\": 0.5, \"value\": 44.0},\n",
    "    }\n",
    ")"
   ]
  },
  {
   "cell_type": "code",
   "execution_count": null,
   "id": "d385c9df",
   "metadata": {},
   "outputs": [],
   "source": []
  }
 ],
 "metadata": {
  "kernelspec": {
   "display_name": "docu_test",
   "language": "python",
   "name": "python3"
  },
  "language_info": {
   "codemirror_mode": {
    "name": "ipython",
    "version": 3
   },
   "file_extension": ".py",
   "mimetype": "text/x-python",
   "name": "python",
   "nbconvert_exporter": "python",
   "pygments_lexer": "ipython3",
   "version": "3.9.21"
  }
 },
 "nbformat": 4,
 "nbformat_minor": 5
}
