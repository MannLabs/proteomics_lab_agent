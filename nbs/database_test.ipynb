{
 "cells": [
  {
   "cell_type": "markdown",
   "id": "2946fbb9",
   "metadata": {},
   "source": [
    "## MCP database functionalities\n",
    "\n",
    "This notebook helps to develop and debug the SQL database functionalities."
   ]
  },
  {
   "cell_type": "code",
   "execution_count": null,
   "id": "0933ddd4",
   "metadata": {},
   "outputs": [],
   "source": [
    "import sys\n",
    "from pathlib import Path\n",
    "\n",
    "path_to_append = (\n",
    "    Path(Path.cwd()).parent / \"proteomics_lab_agent/sub_agents/qc_memory_agent\"\n",
    ")\n",
    "sys.path.append(str(path_to_append))\n",
    "import database_utils\n",
    "\n",
    "%reload_ext autoreload\n",
    "%autoreload 2"
   ]
  },
  {
   "cell_type": "code",
   "execution_count": null,
   "id": "97594cde",
   "metadata": {},
   "outputs": [],
   "source": [
    "database_utils.list_db_tables()"
   ]
  },
  {
   "cell_type": "code",
   "execution_count": null,
   "id": "d6c0ea86",
   "metadata": {},
   "outputs": [],
   "source": [
    "database_utils.get_table_schema(\"performance_data\")"
   ]
  },
  {
   "cell_type": "code",
   "execution_count": null,
   "id": "813bb3b8",
   "metadata": {},
   "outputs": [],
   "source": [
    "# test_session = {\n",
    "#     \"performance_status\": 1,\n",
    "#     \"performance_rating\": 4.5,\n",
    "#     \"performance_comment\": \"excellent performance while using the new hardware AIP. This was the performance freshly after the entire ion path was cleaned.\",\n",
    "#     \"raw_files\": [\n",
    "#         {\n",
    "#             \"file_name\": \"20250429_TIMS01scp_PaSk_DIAMA_HeLa_5ng_wh80_diaP_8scans_100ms_AIP_650-0_26_3_s25_d16_S1-A12_1_11367.d\",\n",
    "#             \"instrument_id\": \"tims01\",\n",
    "#             \"gradient\": 16.299,\n",
    "#         },\n",
    "#     ],\n",
    "# }\n",
    "\n",
    "# test_session = {\n",
    "# 'performance_status': 0,\n",
    "# 'performance_rating': 0,\n",
    "# 'performance_comment': 'No spitting anymore, but the chromatography is shifted back by 5-10 minutes. This was on a Friday afternoon. So Monday morning, Igor suggested to take another Nano Viper',\n",
    "# 'raw_files': [\n",
    "#     {\n",
    "#         'file_name': '20250829_TIMS02_Eno06_KaKo_DIAMA_HeLa_30SPD_200ng_01_S1-A1_1_22075.d',\n",
    "#         'instrument_id': 'tims2',\n",
    "#         'gradient': 45.397\n",
    "#     },\n",
    "#     {\n",
    "#         'file_name': '20250829_TIMS02_Eno06_KaKo_DIAMA_HeLa_30SPD_200ng_02_S1-A2_1_22077.d',\n",
    "#         'instrument_id': 'tims2',\n",
    "#         'gradient': 45.398\n",
    "#     },\n",
    "#     {\n",
    "#         'file_name': '20250829_TIMS02_Eno06_KaKo_DIAMA_HeLa_30SPD_200ng_03_S1-A3_1_22078.d',\n",
    "#         'instrument_id': 'tims2',\n",
    "#         'gradient': 45.398\n",
    "#     }\n",
    "#     ]\n",
    "#     }\n",
    "\n",
    "test_session = {\n",
    "    \"performance_status\": 0,\n",
    "    \"performance_rating\": 0,\n",
    "    \"performance_comment\": \"No spitting anymore, but the chromatography is shifted back by 5-10 minutes. This was on a Friday afternoon. So Monday morning, Igor suggested to take another Nano Viper\",\n",
    "    \"raw_files\": [\n",
    "        {\n",
    "            \"file_name\": \"20250829_TIMS02_Eno06_KaKo_DIAMA_HeLa_30SPD_200ng_01_S1-A1_1_22075.d\",\n",
    "            \"instrument_id\": \"tims2\",\n",
    "            \"gradient\": \"45.397\",\n",
    "        },\n",
    "        {\n",
    "            \"file_name\": \"20250829_TIMS02_Eno06_KaKo_DIAMA_HeLa_30SPD_200ng_02_S1-A2_1_22077.d\",\n",
    "            \"instrument_id\": \"tims2\",\n",
    "            \"gradient\": \"45.398\",\n",
    "        },\n",
    "        {\n",
    "            \"file_name\": \"20250829_TIMS02_Eno06_KaKo_DIAMA_HeLa_30SPD_200ng_03_S1-A3_1_22078.d\",\n",
    "            \"instrument_id\": \"tims2\",\n",
    "            \"gradient\": \"45.398\",\n",
    "        },\n",
    "    ],\n",
    "}\n",
    "database_utils.insert_performance_and_raw_file_info(test_session)"
   ]
  },
  {
   "cell_type": "code",
   "execution_count": null,
   "id": "2fbb7a0f",
   "metadata": {},
   "outputs": [],
   "source": [
    "database_utils.query_performance_data({\"performance_status\": 1})"
   ]
  },
  {
   "cell_type": "code",
   "execution_count": null,
   "id": "aba08947",
   "metadata": {
    "vscode": {
     "languageId": "javascript"
    }
   },
   "outputs": [],
   "source": [
    "database_utils.query_performance_data({\n",
    "        'instrument_id': 'tims2',\n",
    "        'gradient': {'min': 40.0, 'max': 45.0}\n",
    "    })"
   ]
  },
  {
   "cell_type": "code",
   "execution_count": null,
   "id": "34bae8ef",
   "metadata": {},
   "outputs": [],
   "source": [
    "database_utils.query_performance_data({\"invalid_field\": \"test\"})"
   ]
  },
  {
   "cell_type": "code",
   "execution_count": null,
   "id": "067f9f6e",
   "metadata": {},
   "outputs": [],
   "source": [
    "database_utils.query_performance_data(\n",
    "    {\n",
    "        \"instrument_id\": \"tims02\",\n",
    "        \"performance_status\": 0,\n",
    "    }\n",
    ")"
   ]
  },
  {
   "cell_type": "code",
   "execution_count": null,
   "id": "288be1a2",
   "metadata": {},
   "outputs": [],
   "source": [
    "database_utils.query_performance_data(\n",
    "    {\n",
    "        \"instrument_id\": \"tims2\",\n",
    "        \"performance_status\": 0,\n",
    "        \"gradient\": {\"tolerance\": 0.5, \"value\": 44.0},\n",
    "    }\n",
    ")"
   ]
  },
  {
   "cell_type": "code",
   "execution_count": null,
   "id": "fe143f82",
   "metadata": {},
   "outputs": [],
   "source": []
  }
 ],
 "metadata": {
  "kernelspec": {
   "display_name": "agent_workflow",
   "language": "python",
   "name": "python3"
  },
  "language_info": {
   "codemirror_mode": {
    "name": "ipython",
    "version": 3
   },
   "file_extension": ".py",
   "mimetype": "text/x-python",
   "name": "python",
   "nbconvert_exporter": "python",
   "pygments_lexer": "ipython3",
   "version": "3.13.5"
  }
 },
 "nbformat": 4,
 "nbformat_minor": 5
}
