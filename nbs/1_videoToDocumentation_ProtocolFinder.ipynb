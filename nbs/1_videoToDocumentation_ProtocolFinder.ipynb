{
 "cells": [
  {
   "cell_type": "markdown",
   "metadata": {},
   "source": [
    "# Documentation assistant\n",
    "\n",
    "This notebook demonstrates a documentation assistant: Video-to-documentation conversion using Vertex AI\n",
    "\n",
    "Converting videos-to-documentation involves three steps: \n",
    "1. Protocol finder: Select protocol which best captures the step being performed in the video\n",
    "2. Video comparing to ground-of-truth protocol → lab documentation + errors in procedure\n",
    "3. Analytics based on benchmark dataset: automatic comparison of errors found by documentation assistent vs actual errors\n",
    "\n",
    "In this notebook, I will focus on the first step - the protocol finder."
   ]
  },
  {
   "cell_type": "code",
   "execution_count": 1,
   "metadata": {},
   "outputs": [],
   "source": [
    "# %pip install google-cloud-storage\n",
    "# %pip install --upgrade --user --quiet google-cloud-aiplatform"
   ]
  },
  {
   "cell_type": "code",
   "execution_count": 1,
   "metadata": {},
   "outputs": [
    {
     "data": {
      "text/plain": [
       "['../secrets.ini']"
      ]
     },
     "execution_count": 1,
     "metadata": {},
     "output_type": "execute_result"
    }
   ],
   "source": [
    "from __future__ import annotations\n",
    "\n",
    "# %load_ext autoreload\n",
    "%reload_ext autoreload\n",
    "%autoreload 2\n",
    "\n",
    "import configparser\n",
    "import os\n",
    "import sys\n",
    "from pathlib import Path\n",
    "\n",
    "from IPython.display import Markdown\n",
    "\n",
    "path_to_append = Path(Path.cwd()).parent / \"proteomics_specialist\"\n",
    "sys.path.append(str(path_to_append))\n",
    "import video_to_protocol\n",
    "\n",
    "config = configparser.ConfigParser()\n",
    "config.read(\"../secrets.ini\")"
   ]
  },
  {
   "cell_type": "code",
   "execution_count": 2,
   "metadata": {},
   "outputs": [],
   "source": [
    "import vertexai\n",
    "\n",
    "config = configparser.ConfigParser()\n",
    "config.read(\"../secrets.ini\")\n",
    "\n",
    "PROJECT_ID = config[\"DEFAULT\"][\"PROJECT_ID\"]\n",
    "vertexai.init(project=PROJECT_ID, location=\"europe-west9\")  # europe-west9 is Paris"
   ]
  },
  {
   "cell_type": "code",
   "execution_count": 3,
   "metadata": {},
   "outputs": [],
   "source": [
    "from google.cloud import storage\n",
    "\n",
    "os.environ[\"GOOGLE_CLOUD_PROJECT\"] = config[\"DEFAULT\"][\"PROJECT_ID\"]\n",
    "\n",
    "# Initialize Cloud Storage client\n",
    "storage_client = storage.Client()\n",
    "bucket_name = \"mannlab_videos\"\n",
    "bucket = storage_client.bucket(bucket_name)"
   ]
  },
  {
   "cell_type": "code",
   "execution_count": 4,
   "metadata": {},
   "outputs": [],
   "source": [
    "from vertexai.generative_models import Part\n",
    "from vertexai.preview.generative_models import GenerativeModel\n",
    "\n",
    "MODEL_ID = \"gemini-1.5-pro-001\"\n",
    "\n",
    "# Following: https://github.com/GoogleCloudPlatform/generative-ai/blob/main/gemini/context-caching/intro_context_caching_vertex_ai_sdk.ipynb"
   ]
  },
  {
   "cell_type": "code",
   "execution_count": 5,
   "metadata": {},
   "outputs": [
    {
     "data": {
      "text/plain": [
       "['gs://mannlab_videos/protocol_finder_2/QueueSamples_protocolCorrect.md',\n",
       " 'gs://mannlab_videos/protocol_finder_2/PlaceEvotips_protocolCorrect.md',\n",
       " 'gs://mannlab_videos/protocol_finder_2/DisconnectColumn_protocolCorrect.md',\n",
       " 'gs://mannlab_videos/protocol_finder_2/Diluting_protocolCorrect.md',\n",
       " 'gs://mannlab_videos/protocol_finder_2/TimsCalibration_protocolCorrect.md',\n",
       " 'gs://mannlab_videos/protocol_finder_2/ConnectingColumnSampleLine_protocolCorrect.md',\n",
       " 'gs://mannlab_videos/protocol_finder_2/UltraSourceToESIsource_protocolCorrect.md',\n",
       " 'gs://mannlab_videos/protocol_finder_2/Pipette_protocolCorrect.md',\n",
       " 'gs://mannlab_videos/protocol_finder_2/ESIsourceToUltraSource_protocolCorrect_CapillaryPushedIn.md',\n",
       " 'gs://mannlab_videos/protocol_finder_2/Evotip_protocolCorrect.md']"
      ]
     },
     "execution_count": 5,
     "metadata": {},
     "output_type": "execute_result"
    }
   ],
   "source": [
    "# Upload protocols to GCS\n",
    "\n",
    "directory = \"/Users/patriciaskowronek/Documents/proteomics_specialist/data/\"\n",
    "\n",
    "list_protocol_gcs = [\n",
    "    video_to_protocol.upload_video_to_gcs(Path(directory) / file, bucket, \"protocol_finder_2\")\n",
    "    for file in os.listdir(directory) \n",
    "    if \"protocol\" in file.lower()\n",
    "]\n",
    "\n",
    "list_protocol_gcs"
   ]
  },
  {
   "cell_type": "code",
   "execution_count": 6,
   "metadata": {},
   "outputs": [],
   "source": [
    "# Prepare protocols as model input\n",
    "\n",
    "protocol_input = []\n",
    "count = 1\n",
    "for protocol in list_protocol_gcs:\n",
    "    protocol_input.append(\"number: \" + str(count))\n",
    "    protocol_input.append(\"file name: \" + os.path.basename(protocol))\n",
    "    protocol_input.append(Part.from_uri(protocol, mime_type=\"text/md\"))\n",
    "    count += 1"
   ]
  },
  {
   "cell_type": "code",
   "execution_count": null,
   "metadata": {},
   "outputs": [],
   "source": [
    "# Prepare video for model input\n",
    "video_path = \"/Users/patriciaskowronek/Documents/documentation_agent_few_shot_examples/benchmark_dataset/PlaceEvotips_docuLiquidNotChecked.MP4\"\n",
    "video_uri = video_to_protocol.upload_video_to_gcs(video_path, bucket, \"protocol_finder_2\")\n",
    "\n",
    "video_input = [\n",
    "    \"Lab video:\",\n",
    "    Part.from_uri(video_uri, mime_type=\"video/mp4\"),\n",
    "]"
   ]
  },
  {
   "cell_type": "code",
   "execution_count": 104,
   "metadata": {},
   "outputs": [],
   "source": [
    "# Prompt\n",
    "\n",
    "inputs = [\n",
    "    \"\"\"\n",
    "    You are Professor Matthias Mann, a pioneering scientist in proteomics and mass spectrometry.\n",
    "    Your task is to find the protocol that captures the step being performed in the video. \n",
    "    Protocols:\n",
    "    \"\"\"\n",
    "]\n",
    "\n",
    "inputs.extend(protocol_input)\n",
    "inputs.extend(video_input)\n",
    "\n",
    "inputs.append(\"Output format: Number of protocol\")"
   ]
  },
  {
   "cell_type": "code",
   "execution_count": 105,
   "metadata": {},
   "outputs": [
    {
     "name": "stdout",
     "output_type": "stream",
     "text": [
      "prompt_token_count: 17655\n",
      "candidates_token_count: 27\n",
      "total_token_count: 17682\n",
      "prompt_tokens_details {\n",
      "  modality: TEXT\n",
      "  token_count: 7110\n",
      "}\n",
      "prompt_tokens_details {\n",
      "  modality: VIDEO\n",
      "  token_count: 10545\n",
      "}\n",
      "candidates_tokens_details {\n",
      "  modality: TEXT\n",
      "  token_count: 27\n",
      "}\n",
      "\n",
      "/Users/patriciaskowronek/Documents/documentation_agent_few_shot_examples/benchmark_dataset/PlaceEvotips_docuLiquidNotChecked.MP4\n"
     ]
    },
    {
     "data": {
      "text/markdown": [
       "The video shows the step of spinning Evotips in a centrifuge.  Therefore, protocol number **10** is the correct one."
      ],
      "text/plain": [
       "<IPython.core.display.Markdown object>"
      ]
     },
     "execution_count": 105,
     "metadata": {},
     "output_type": "execute_result"
    }
   ],
   "source": [
    "import vertexai\n",
    "from vertexai.generative_models import GenerativeModel, Part\n",
    "\n",
    "model = GenerativeModel(\"gemini-1.5-flash-002\")\n",
    "response = model.generate_content(inputs, generation_config={\"temperature\": 0.9})\n",
    "observation = response.text\n",
    "print(response.usage_metadata)\n",
    "print(video_path)\n",
    "Markdown(observation)\n"
   ]
  },
  {
   "cell_type": "code",
   "execution_count": null,
   "metadata": {},
   "outputs": [],
   "source": [
    "import vertexai\n",
    "from vertexai.generative_models import GenerativeModel, Part\n",
    "from IPython.display import Markdown\n",
    "\n",
    "def identify_protocol_from_video(\n",
    "    model_input,\n",
    "    model_name=\"gemini-1.5-flash-002\", \n",
    "    temperature=0.9\n",
    "):\n",
    "    \"\"\"Identifies the protocol number from a lab video using Gemini model with customizable prompts.\n",
    "    \n",
    "    Parameters\n",
    "    ----------\n",
    "    model_input : object\n",
    "        Input to be processed by the model\n",
    "    model_name : str\n",
    "        Name of the Gemini model to use\n",
    "    temperature : float\n",
    "        Temperature for model generation\n",
    "    \n",
    "    Returns\n",
    "    -------\n",
    "    dict\n",
    "        Dictionary containing the model response and metadata including:\n",
    "        - observation: The text response from the model\n",
    "        - usage_metadata: Usage statistics from the model\n",
    "        - markdown_observation: Markdown formatted observation\n",
    "    \"\"\"\n",
    "    model = GenerativeModel(model_name)\n",
    "    response = model.generate_content(\n",
    "        model_input, \n",
    "        generation_config={\"temperature\": temperature}\n",
    "    )\n",
    "    observation = response.text\n",
    "    \n",
    "    return {\n",
    "        \"observation\": observation,\n",
    "        \"usage_metadata\": response.usage_metadata,\n",
    "        \"video_path\": video_path,\n",
    "        \"markdown_observation\": Markdown(observation)\n",
    "    }"
   ]
  },
  {
   "cell_type": "code",
   "execution_count": null,
   "metadata": {},
   "outputs": [],
   "source": [
    "# Evaluation if correct\n",
    "\n",
    "import re\n",
    "import os\n",
    "import pandas as pd\n",
    "\n",
    "def validate_protocol_number(video_path, csv_path, observation):\n",
    "    \"\"\"Validates if the protocol number in the observation matches the expected protocol number from the benchmark dataset (csv).\n",
    "    \n",
    "    Parameters\n",
    "    ----------\n",
    "    video_path : str\n",
    "        Path to the video file\n",
    "    csv_path : str\n",
    "        Path to the benchmark dataset as csv file containing protocol information\n",
    "    observation : str\n",
    "        Text containing protocol number to be extracted\n",
    "    \n",
    "    Returns\n",
    "    -------\n",
    "    dict\n",
    "        Result of the validation containing match status and relevant details including:\n",
    "        - matches: Boolean indicating if protocol numbers match\n",
    "        - video: Basename of the video file\n",
    "        - expected_protocol: Protocol number from CSV\n",
    "        - found_protocol: Protocol number extracted from observation\n",
    "        - message: Optional explanation message (only present on failure)\n",
    "    \"\"\"\n",
    "    video_basename = os.path.basename(video_path)\n",
    "    \n",
    "    df_link = pd.read_csv(csv_path, delimiter=\";\")\n",
    "    df_link = df_link.dropna()\n",
    "    \n",
    "    if video_basename not in list(df_link[\"documentation video\"]):\n",
    "        return {\n",
    "            \"matches\": False,\n",
    "            \"video\": video_basename,\n",
    "            \"expected_protocol\": [],\n",
    "            \"found_protocol\": [],\n",
    "            \"message\": f\"Video not part of benchmark dataset: {video_basename}\"\n",
    "        }\n",
    "    \n",
    "    expected_protocol_number = str(df_link['Number'][df_link[\"documentation video\"]==video_basename].item())\n",
    "    \n",
    "    protocol_match = re.search(r'[Pp]rotocol number:?\\s*(?:\\*\\*)?(\\d+)(?:\\*\\*)?', observation)\n",
    "    \n",
    "    if not protocol_match:\n",
    "        return {\n",
    "            \"matches\": False,\n",
    "            \"video\": video_basename,\n",
    "            \"expected_protocol\": expected_protocol_number,\n",
    "            \"found_protocol\": None,\n",
    "            \"message\": \"No protocol number found in observation\"\n",
    "        }\n",
    "    \n",
    "    found_protocol_number = protocol_match.group(1)\n",
    "    \n",
    "    return {\n",
    "        \"matches\": expected_protocol_number == found_protocol_number,\n",
    "        \"video\": video_basename,\n",
    "        \"expected_protocol\": expected_protocol_number,\n",
    "        \"found_protocol\": found_protocol_number\n",
    "    }\n",
    "    "
   ]
  },
  {
   "cell_type": "code",
   "execution_count": null,
   "metadata": {},
   "outputs": [
    {
     "name": "stdout",
     "output_type": "stream",
     "text": [
      "UltraSourceToESIsource_docuForgotN2Line.MP4\n",
      ".DS_Store\n",
      "TimsCalibration_docuCorrect_camera.MP4\n",
      "TimsCalibration_docuNotAllClicksVisibleOnVideo.MP4\n",
      "PlaceEvotips_docuBoxAngeled.MP4\n",
      "UltraSourceToESIsource_docuForgotGlovesANDCapillaryCap.MP4\n",
      "QueueSamples_docuCorrect_1.mov\n",
      "QueueSamples_docuNoBlankNoSampleIDWrongMSmethod.mov\n",
      "UltraSourceToESIsource_docuCorrect.MP4\n",
      "DisconnectingColumn_docuWithoutStandby_1.MP4\n",
      "QueueSamples_docuDiffSampleNameAndEvotipNotAtPosition.mov\n",
      "Pipette_ducoBufferBInsteadBufferA.MP4\n",
      "ESIsourceToUltraSource_docuFogotOvenPowerSupply.MP4\n",
      "Pipette_docu_WrongRowB_B10Twice_B11LeftOut.MP4\n",
      "ConnectingColumnSampleLine_docuWithoutStandbyANDtimsControl.mp4\n",
      "TimsCalibration_docuSavedMethod.mov\n",
      "Dilute_docuWrongSolvent.MP4\n",
      "TimsCalibration_docuWrongOrderSteps.mov\n",
      "Dilute_docuWrongVolume_PipettTipNotChanged.MP4\n",
      "DisconnectingColumn_docuCorrect.MP4\n",
      "Pipette_docuFirstTwoWrongVolumneANDA2Twice.MP4\n",
      "PlaceEvotips_docuWrongPosition.MP4\n",
      "TimsCalibration_docuCorrect.mov\n",
      "QueueSamples_docuWrongRow_S3A1Twice.mov\n",
      "PlaceEvotips_docuCorrect.MP4\n",
      "ESIsourceToUltraSource_docuCorrect.MP4\n",
      "QueueSamples_docuEvotipNotAtPositionNoSampleID.mov\n",
      "UltraSourceToESIsource_docuForgotCapillaryCap.MP4\n",
      "PlaceEvotips_docuLiquidNotChecked.MP4\n",
      "Evotip_docuWrongSpinInEvotipBox_wrongSpeed.MP4\n"
     ]
    }
   ],
   "source": [
    "# First upload videos to Google Cloud Storage and convert to model input (reusable info, time consuming step)\n",
    "\n",
    "video_directory = \"/Users/patriciaskowronek/Documents/documentation_agent_few_shot_examples/benchmark_dataset/documentation\"\n",
    "\n",
    "video_parts = {}\n",
    "\n",
    "for video in os.listdir(video_directory):\n",
    "    print(video)\n",
    "    video_path = Path(video_directory) / video\n",
    "    \n",
    "    if video.lower().endswith(('.mp4', '.mov')):\n",
    "        file_extension = os.path.splitext(video_path)[1].lower()[1:]\n",
    "        \n",
    "        video_uri = video_to_protocol.upload_video_to_gcs(video_path, bucket, \"protocol_finder_2\")\n",
    "\n",
    "        video_parts[video] = {\n",
    "            \"path\": str(video_path),\n",
    "            \"gcs_uri\": video_uri,\n",
    "            \"part\": [\n",
    "                \"Lab video:\",\n",
    "                Part.from_uri(video_uri, mime_type=f\"video/{file_extension}\")\n",
    "            ]\n",
    "        }"
   ]
  },
  {
   "cell_type": "code",
   "execution_count": null,
   "metadata": {},
   "outputs": [
    {
     "name": "stdout",
     "output_type": "stream",
     "text": [
      "Processing video: UltraSourceToESIsource_docuForgotN2Line.MP4\n",
      "/Users/patriciaskowronek/Documents/documentation_agent_few_shot_examples/benchmark_dataset/documentation/UltraSourceToESIsource_docuForgotN2Line.MP4\n"
     ]
    },
    {
     "data": {
      "text/markdown": [
       "The video shows the change of the source from ESI to UltraSource. The protocol number 9 is the right one."
      ],
      "text/plain": [
       "<IPython.core.display.Markdown object>"
      ]
     },
     "metadata": {},
     "output_type": "display_data"
    },
    {
     "name": "stdout",
     "output_type": "stream",
     "text": [
      "{'matches': False, 'video': 'UltraSourceToESIsource_docuForgotN2Line.MP4', 'expected_protocol': '7', 'found_protocol': '9'}\n",
      "Processing video: TimsCalibration_docuCorrect_camera.MP4\n",
      "/Users/patriciaskowronek/Documents/documentation_agent_few_shot_examples/benchmark_dataset/documentation/TimsCalibration_docuCorrect_camera.MP4\n"
     ]
    },
    {
     "data": {
      "text/markdown": [
       "Protocol number: 5"
      ],
      "text/plain": [
       "<IPython.core.display.Markdown object>"
      ]
     },
     "metadata": {},
     "output_type": "display_data"
    },
    {
     "name": "stdout",
     "output_type": "stream",
     "text": [
      "{'matches': True, 'video': 'TimsCalibration_docuCorrect_camera.MP4', 'expected_protocol': '5', 'found_protocol': '5'}\n",
      "Processing video: TimsCalibration_docuNotAllClicksVisibleOnVideo.MP4\n",
      "/Users/patriciaskowronek/Documents/documentation_agent_few_shot_examples/benchmark_dataset/documentation/TimsCalibration_docuNotAllClicksVisibleOnVideo.MP4\n"
     ]
    },
    {
     "data": {
      "text/markdown": [
       "The video shows a TIMS calibration.  Therefore, the appropriate protocol is **protocol number: 5**.\n"
      ],
      "text/plain": [
       "<IPython.core.display.Markdown object>"
      ]
     },
     "metadata": {},
     "output_type": "display_data"
    },
    {
     "name": "stdout",
     "output_type": "stream",
     "text": [
      "{'matches': True, 'video': 'TimsCalibration_docuNotAllClicksVisibleOnVideo.MP4', 'expected_protocol': '5', 'found_protocol': '5'}\n",
      "Processing video: PlaceEvotips_docuBoxAngeled.MP4\n",
      "/Users/patriciaskowronek/Documents/documentation_agent_few_shot_examples/benchmark_dataset/documentation/PlaceEvotips_docuBoxAngeled.MP4\n"
     ]
    },
    {
     "data": {
      "text/markdown": [
       "Protocol number: 10"
      ],
      "text/plain": [
       "<IPython.core.display.Markdown object>"
      ]
     },
     "metadata": {},
     "output_type": "display_data"
    },
    {
     "name": "stdout",
     "output_type": "stream",
     "text": [
      "{'matches': False, 'video': 'PlaceEvotips_docuBoxAngeled.MP4', 'expected_protocol': '2', 'found_protocol': '10'}\n",
      "Processing video: UltraSourceToESIsource_docuForgotGlovesANDCapillaryCap.MP4\n",
      "/Users/patriciaskowronek/Documents/documentation_agent_few_shot_examples/benchmark_dataset/documentation/UltraSourceToESIsource_docuForgotGlovesANDCapillaryCap.MP4\n"
     ]
    },
    {
     "data": {
      "text/markdown": [
       "Protocol number: 9"
      ],
      "text/plain": [
       "<IPython.core.display.Markdown object>"
      ]
     },
     "metadata": {},
     "output_type": "display_data"
    },
    {
     "name": "stdout",
     "output_type": "stream",
     "text": [
      "{'matches': False, 'video': 'UltraSourceToESIsource_docuForgotGlovesANDCapillaryCap.MP4', 'expected_protocol': '7', 'found_protocol': '9'}\n",
      "Processing video: QueueSamples_docuCorrect_1.mov\n",
      "/Users/patriciaskowronek/Documents/documentation_agent_few_shot_examples/benchmark_dataset/documentation/QueueSamples_docuCorrect_1.mov\n"
     ]
    },
    {
     "data": {
      "text/markdown": [
       "Protocol number: 1"
      ],
      "text/plain": [
       "<IPython.core.display.Markdown object>"
      ]
     },
     "metadata": {},
     "output_type": "display_data"
    },
    {
     "name": "stdout",
     "output_type": "stream",
     "text": [
      "{'matches': True, 'video': 'QueueSamples_docuCorrect_1.mov', 'expected_protocol': '1', 'found_protocol': '1'}\n",
      "Processing video: QueueSamples_docuNoBlankNoSampleIDWrongMSmethod.mov\n",
      "/Users/patriciaskowronek/Documents/documentation_agent_few_shot_examples/benchmark_dataset/documentation/QueueSamples_docuNoBlankNoSampleIDWrongMSmethod.mov\n"
     ]
    },
    {
     "data": {
      "text/markdown": [
       "Protocol number: 1"
      ],
      "text/plain": [
       "<IPython.core.display.Markdown object>"
      ]
     },
     "metadata": {},
     "output_type": "display_data"
    },
    {
     "name": "stdout",
     "output_type": "stream",
     "text": [
      "{'matches': True, 'video': 'QueueSamples_docuNoBlankNoSampleIDWrongMSmethod.mov', 'expected_protocol': '1', 'found_protocol': '1'}\n",
      "Processing video: UltraSourceToESIsource_docuCorrect.MP4\n",
      "/Users/patriciaskowronek/Documents/documentation_agent_few_shot_examples/benchmark_dataset/documentation/UltraSourceToESIsource_docuCorrect.MP4\n"
     ]
    },
    {
     "data": {
      "text/markdown": [
       "Protocol number: 9.  The video shows the change of the source from ESI to UltraSource.  The operator removes the ESI source and installs the UltraSource, including connecting the column and sample line."
      ],
      "text/plain": [
       "<IPython.core.display.Markdown object>"
      ]
     },
     "metadata": {},
     "output_type": "display_data"
    },
    {
     "name": "stdout",
     "output_type": "stream",
     "text": [
      "{'matches': False, 'video': 'UltraSourceToESIsource_docuCorrect.MP4', 'expected_protocol': '7', 'found_protocol': '9'}\n",
      "Processing video: DisconnectingColumn_docuWithoutStandby_1.MP4\n",
      "/Users/patriciaskowronek/Documents/documentation_agent_few_shot_examples/benchmark_dataset/documentation/DisconnectingColumn_docuWithoutStandby_1.MP4\n"
     ]
    },
    {
     "data": {
      "text/markdown": [
       "The video shows the step of spinning Evotips in a centrifuge.  Therefore, the matching protocol is **protocol number: 10**."
      ],
      "text/plain": [
       "<IPython.core.display.Markdown object>"
      ]
     },
     "metadata": {},
     "output_type": "display_data"
    },
    {
     "name": "stdout",
     "output_type": "stream",
     "text": [
      "{'matches': False, 'video': 'DisconnectingColumn_docuWithoutStandby_1.MP4', 'expected_protocol': '3', 'found_protocol': '10'}\n",
      "Processing video: QueueSamples_docuDiffSampleNameAndEvotipNotAtPosition.mov\n",
      "/Users/patriciaskowronek/Documents/documentation_agent_few_shot_examples/benchmark_dataset/documentation/QueueSamples_docuDiffSampleNameAndEvotipNotAtPosition.mov\n"
     ]
    },
    {
     "data": {
      "text/markdown": [
       "Protocol number: 1"
      ],
      "text/plain": [
       "<IPython.core.display.Markdown object>"
      ]
     },
     "metadata": {},
     "output_type": "display_data"
    },
    {
     "name": "stdout",
     "output_type": "stream",
     "text": [
      "{'matches': True, 'video': 'QueueSamples_docuDiffSampleNameAndEvotipNotAtPosition.mov', 'expected_protocol': '1', 'found_protocol': '1'}\n",
      "Processing video: Pipette_ducoBufferBInsteadBufferA.MP4\n",
      "/Users/patriciaskowronek/Documents/documentation_agent_few_shot_examples/benchmark_dataset/documentation/Pipette_ducoBufferBInsteadBufferA.MP4\n"
     ]
    },
    {
     "data": {
      "text/markdown": [
       "Protocol number: 8"
      ],
      "text/plain": [
       "<IPython.core.display.Markdown object>"
      ]
     },
     "metadata": {},
     "output_type": "display_data"
    },
    {
     "name": "stdout",
     "output_type": "stream",
     "text": [
      "{'matches': True, 'video': 'Pipette_ducoBufferBInsteadBufferA.MP4', 'expected_protocol': '8', 'found_protocol': '8'}\n",
      "Processing video: ESIsourceToUltraSource_docuFogotOvenPowerSupply.MP4\n",
      "/Users/patriciaskowronek/Documents/documentation_agent_few_shot_examples/benchmark_dataset/documentation/ESIsourceToUltraSource_docuFogotOvenPowerSupply.MP4\n"
     ]
    },
    {
     "data": {
      "text/markdown": [
       "Protocol number: 6"
      ],
      "text/plain": [
       "<IPython.core.display.Markdown object>"
      ]
     },
     "metadata": {},
     "output_type": "display_data"
    },
    {
     "name": "stdout",
     "output_type": "stream",
     "text": [
      "{'matches': False, 'video': 'ESIsourceToUltraSource_docuFogotOvenPowerSupply.MP4', 'expected_protocol': '9', 'found_protocol': '6'}\n",
      "Processing video: Pipette_docu_WrongRowB_B10Twice_B11LeftOut.MP4\n",
      "/Users/patriciaskowronek/Documents/documentation_agent_few_shot_examples/benchmark_dataset/documentation/Pipette_docu_WrongRowB_B10Twice_B11LeftOut.MP4\n"
     ]
    },
    {
     "data": {
      "text/markdown": [
       "Protocol number: 8"
      ],
      "text/plain": [
       "<IPython.core.display.Markdown object>"
      ]
     },
     "metadata": {},
     "output_type": "display_data"
    },
    {
     "name": "stdout",
     "output_type": "stream",
     "text": [
      "{'matches': True, 'video': 'Pipette_docu_WrongRowB_B10Twice_B11LeftOut.MP4', 'expected_protocol': '8', 'found_protocol': '8'}\n",
      "Processing video: ConnectingColumnSampleLine_docuWithoutStandbyANDtimsControl.mp4\n",
      "/Users/patriciaskowronek/Documents/documentation_agent_few_shot_examples/benchmark_dataset/documentation/ConnectingColumnSampleLine_docuWithoutStandbyANDtimsControl.mp4\n"
     ]
    },
    {
     "data": {
      "text/markdown": [
       "Protocol number: 10"
      ],
      "text/plain": [
       "<IPython.core.display.Markdown object>"
      ]
     },
     "metadata": {},
     "output_type": "display_data"
    },
    {
     "name": "stdout",
     "output_type": "stream",
     "text": [
      "{'matches': False, 'video': 'ConnectingColumnSampleLine_docuWithoutStandbyANDtimsControl.mp4', 'expected_protocol': '6', 'found_protocol': '10'}\n",
      "Processing video: TimsCalibration_docuSavedMethod.mov\n",
      "/Users/patriciaskowronek/Documents/documentation_agent_few_shot_examples/benchmark_dataset/documentation/TimsCalibration_docuSavedMethod.mov\n"
     ]
    },
    {
     "data": {
      "text/markdown": [
       "Protocol number: 5"
      ],
      "text/plain": [
       "<IPython.core.display.Markdown object>"
      ]
     },
     "metadata": {},
     "output_type": "display_data"
    },
    {
     "name": "stdout",
     "output_type": "stream",
     "text": [
      "{'matches': True, 'video': 'TimsCalibration_docuSavedMethod.mov', 'expected_protocol': '5', 'found_protocol': '5'}\n",
      "Processing video: Dilute_docuWrongSolvent.MP4\n",
      "/Users/patriciaskowronek/Documents/documentation_agent_few_shot_examples/benchmark_dataset/documentation/Dilute_docuWrongSolvent.MP4\n"
     ]
    },
    {
     "data": {
      "text/markdown": [
       "Protocol number: 8"
      ],
      "text/plain": [
       "<IPython.core.display.Markdown object>"
      ]
     },
     "metadata": {},
     "output_type": "display_data"
    },
    {
     "name": "stdout",
     "output_type": "stream",
     "text": [
      "{'matches': False, 'video': 'Dilute_docuWrongSolvent.MP4', 'expected_protocol': '4', 'found_protocol': '8'}\n",
      "Processing video: TimsCalibration_docuWrongOrderSteps.mov\n",
      "/Users/patriciaskowronek/Documents/documentation_agent_few_shot_examples/benchmark_dataset/documentation/TimsCalibration_docuWrongOrderSteps.mov\n"
     ]
    },
    {
     "data": {
      "text/markdown": [
       "The video shows a TIMS calibration.  Therefore, the correct protocol is **protocol number: 5**.\n"
      ],
      "text/plain": [
       "<IPython.core.display.Markdown object>"
      ]
     },
     "metadata": {},
     "output_type": "display_data"
    },
    {
     "name": "stdout",
     "output_type": "stream",
     "text": [
      "{'matches': True, 'video': 'TimsCalibration_docuWrongOrderSteps.mov', 'expected_protocol': '5', 'found_protocol': '5'}\n",
      "Processing video: Dilute_docuWrongVolume_PipettTipNotChanged.MP4\n",
      "/Users/patriciaskowronek/Documents/documentation_agent_few_shot_examples/benchmark_dataset/documentation/Dilute_docuWrongVolume_PipettTipNotChanged.MP4\n"
     ]
    },
    {
     "data": {
      "text/markdown": [
       "Protocol number: 4"
      ],
      "text/plain": [
       "<IPython.core.display.Markdown object>"
      ]
     },
     "metadata": {},
     "output_type": "display_data"
    },
    {
     "name": "stdout",
     "output_type": "stream",
     "text": [
      "{'matches': True, 'video': 'Dilute_docuWrongVolume_PipettTipNotChanged.MP4', 'expected_protocol': '4', 'found_protocol': '4'}\n",
      "Processing video: DisconnectingColumn_docuCorrect.MP4\n",
      "/Users/patriciaskowronek/Documents/documentation_agent_few_shot_examples/benchmark_dataset/documentation/DisconnectingColumn_docuCorrect.MP4\n"
     ]
    },
    {
     "data": {
      "text/markdown": [
       "Protocol number: 6"
      ],
      "text/plain": [
       "<IPython.core.display.Markdown object>"
      ]
     },
     "metadata": {},
     "output_type": "display_data"
    },
    {
     "name": "stdout",
     "output_type": "stream",
     "text": [
      "{'matches': False, 'video': 'DisconnectingColumn_docuCorrect.MP4', 'expected_protocol': '3', 'found_protocol': '6'}\n",
      "Processing video: Pipette_docuFirstTwoWrongVolumneANDA2Twice.MP4\n",
      "/Users/patriciaskowronek/Documents/documentation_agent_few_shot_examples/benchmark_dataset/documentation/Pipette_docuFirstTwoWrongVolumneANDA2Twice.MP4\n"
     ]
    },
    {
     "data": {
      "text/markdown": [
       "Based on the video, the protocol that best describes the actions performed is **protocol number: 8**,  **Pipette_protocolCorrect.md**.\n",
       "\n",
       "The video shows a researcher pipetting 20µl of Buffer A into wells A1 through A12 of a PCR plate. This precisely matches the description and procedure outlined in protocol number 8.\n"
      ],
      "text/plain": [
       "<IPython.core.display.Markdown object>"
      ]
     },
     "metadata": {},
     "output_type": "display_data"
    },
    {
     "name": "stdout",
     "output_type": "stream",
     "text": [
      "{'matches': True, 'video': 'Pipette_docuFirstTwoWrongVolumneANDA2Twice.MP4', 'expected_protocol': '8', 'found_protocol': '8'}\n",
      "Processing video: PlaceEvotips_docuWrongPosition.MP4\n",
      "/Users/patriciaskowronek/Documents/documentation_agent_few_shot_examples/benchmark_dataset/documentation/PlaceEvotips_docuWrongPosition.MP4\n"
     ]
    },
    {
     "data": {
      "text/markdown": [
       "Protocol number: 10"
      ],
      "text/plain": [
       "<IPython.core.display.Markdown object>"
      ]
     },
     "metadata": {},
     "output_type": "display_data"
    },
    {
     "name": "stdout",
     "output_type": "stream",
     "text": [
      "{'matches': False, 'video': 'PlaceEvotips_docuWrongPosition.MP4', 'expected_protocol': '2', 'found_protocol': '10'}\n",
      "Processing video: TimsCalibration_docuCorrect.mov\n",
      "/Users/patriciaskowronek/Documents/documentation_agent_few_shot_examples/benchmark_dataset/documentation/TimsCalibration_docuCorrect.mov\n"
     ]
    },
    {
     "data": {
      "text/markdown": [
       "Protocol number: 5"
      ],
      "text/plain": [
       "<IPython.core.display.Markdown object>"
      ]
     },
     "metadata": {},
     "output_type": "display_data"
    },
    {
     "name": "stdout",
     "output_type": "stream",
     "text": [
      "{'matches': True, 'video': 'TimsCalibration_docuCorrect.mov', 'expected_protocol': '5', 'found_protocol': '5'}\n",
      "Processing video: QueueSamples_docuWrongRow_S3A1Twice.mov\n",
      "/Users/patriciaskowronek/Documents/documentation_agent_few_shot_examples/benchmark_dataset/documentation/QueueSamples_docuWrongRow_S3A1Twice.mov\n"
     ]
    },
    {
     "data": {
      "text/markdown": [
       "Protocol number: 1"
      ],
      "text/plain": [
       "<IPython.core.display.Markdown object>"
      ]
     },
     "metadata": {},
     "output_type": "display_data"
    },
    {
     "name": "stdout",
     "output_type": "stream",
     "text": [
      "{'matches': True, 'video': 'QueueSamples_docuWrongRow_S3A1Twice.mov', 'expected_protocol': '1', 'found_protocol': '1'}\n",
      "Processing video: PlaceEvotips_docuCorrect.MP4\n",
      "/Users/patriciaskowronek/Documents/documentation_agent_few_shot_examples/benchmark_dataset/documentation/PlaceEvotips_docuCorrect.MP4\n"
     ]
    },
    {
     "data": {
      "text/markdown": [
       "Protocol number: 10"
      ],
      "text/plain": [
       "<IPython.core.display.Markdown object>"
      ]
     },
     "metadata": {},
     "output_type": "display_data"
    },
    {
     "name": "stdout",
     "output_type": "stream",
     "text": [
      "{'matches': False, 'video': 'PlaceEvotips_docuCorrect.MP4', 'expected_protocol': '2', 'found_protocol': '10'}\n",
      "Processing video: ESIsourceToUltraSource_docuCorrect.MP4\n",
      "/Users/patriciaskowronek/Documents/documentation_agent_few_shot_examples/benchmark_dataset/documentation/ESIsourceToUltraSource_docuCorrect.MP4\n"
     ]
    },
    {
     "data": {
      "text/markdown": [
       "Protocol number: 10"
      ],
      "text/plain": [
       "<IPython.core.display.Markdown object>"
      ]
     },
     "metadata": {},
     "output_type": "display_data"
    },
    {
     "name": "stdout",
     "output_type": "stream",
     "text": [
      "{'matches': False, 'video': 'ESIsourceToUltraSource_docuCorrect.MP4', 'expected_protocol': '9', 'found_protocol': '10'}\n",
      "Processing video: QueueSamples_docuEvotipNotAtPositionNoSampleID.mov\n",
      "/Users/patriciaskowronek/Documents/documentation_agent_few_shot_examples/benchmark_dataset/documentation/QueueSamples_docuEvotipNotAtPositionNoSampleID.mov\n"
     ]
    },
    {
     "data": {
      "text/markdown": [
       "Protocol number: 1"
      ],
      "text/plain": [
       "<IPython.core.display.Markdown object>"
      ]
     },
     "metadata": {},
     "output_type": "display_data"
    },
    {
     "name": "stdout",
     "output_type": "stream",
     "text": [
      "{'matches': True, 'video': 'QueueSamples_docuEvotipNotAtPositionNoSampleID.mov', 'expected_protocol': '1', 'found_protocol': '1'}\n",
      "Processing video: UltraSourceToESIsource_docuForgotCapillaryCap.MP4\n",
      "/Users/patriciaskowronek/Documents/documentation_agent_few_shot_examples/benchmark_dataset/documentation/UltraSourceToESIsource_docuForgotCapillaryCap.MP4\n"
     ]
    },
    {
     "data": {
      "text/markdown": [
       "Protocol number: 10"
      ],
      "text/plain": [
       "<IPython.core.display.Markdown object>"
      ]
     },
     "metadata": {},
     "output_type": "display_data"
    },
    {
     "name": "stdout",
     "output_type": "stream",
     "text": [
      "{'matches': False, 'video': 'UltraSourceToESIsource_docuForgotCapillaryCap.MP4', 'expected_protocol': '7', 'found_protocol': '10'}\n",
      "Processing video: PlaceEvotips_docuLiquidNotChecked.MP4\n",
      "/Users/patriciaskowronek/Documents/documentation_agent_few_shot_examples/benchmark_dataset/documentation/PlaceEvotips_docuLiquidNotChecked.MP4\n"
     ]
    },
    {
     "data": {
      "text/markdown": [
       "Protocol number: 10"
      ],
      "text/plain": [
       "<IPython.core.display.Markdown object>"
      ]
     },
     "metadata": {},
     "output_type": "display_data"
    },
    {
     "name": "stdout",
     "output_type": "stream",
     "text": [
      "{'matches': False, 'video': 'PlaceEvotips_docuLiquidNotChecked.MP4', 'expected_protocol': '2', 'found_protocol': '10'}\n",
      "Processing video: Evotip_docuWrongSpinInEvotipBox_wrongSpeed.MP4\n",
      "/Users/patriciaskowronek/Documents/documentation_agent_few_shot_examples/benchmark_dataset/documentation/Evotip_docuWrongSpinInEvotipBox_wrongSpeed.MP4\n"
     ]
    },
    {
     "data": {
      "text/markdown": [
       "Protocol number: 10"
      ],
      "text/plain": [
       "<IPython.core.display.Markdown object>"
      ]
     },
     "metadata": {},
     "output_type": "display_data"
    },
    {
     "name": "stdout",
     "output_type": "stream",
     "text": [
      "{'matches': True, 'video': 'Evotip_docuWrongSpinInEvotipBox_wrongSpeed.MP4', 'expected_protocol': '10', 'found_protocol': '10'}\n",
      "Success rate: 51.72%\n"
     ]
    }
   ],
   "source": [
    "system_prompt = [\"\"\"\n",
    "    You are Professor Matthias Mann, a pioneering scientist in proteomics and mass spectrometry.\n",
    "    Your task is to find the protocol that captures the step being performed in the video.\n",
    "    \"\"\"]\n",
    "protocol_intro= [\"Protocols:\"]\n",
    "output_format = [\"Output: Number of protocol e.g. 'protocol number: 1'\"]\n",
    "\n",
    "csv_path = \"/Users/patriciaskowronek/Documents/documentation_agent_few_shot_examples/benchmark_dataset/Link_protocol_lab_video.csv\"\n",
    "\n",
    "validation_list = list()\n",
    "for video in video_parts: \n",
    "    print(f\"Processing video: {video}\")\n",
    "    video_path = video_parts[video][\"path\"]\n",
    "    order = [system_prompt, protocol_intro, protocol_input, video_parts[video][\"part\"], output_format]\n",
    "    model_input = list()\n",
    "    for input in order:\n",
    "        model_input.extend(input)\n",
    "\n",
    "    result = identify_protocol_from_video(\n",
    "        model_input,\n",
    "        model_name=\"gemini-1.5-flash-002\", \n",
    "        temperature=0.9\n",
    "    )\n",
    "\n",
    "    # print(result[\"usage_metadata\"])\n",
    "    print(result[\"video_path\"])\n",
    "    display(result[\"markdown_observation\"]) \n",
    "\n",
    "    result_validation = validate_protocol_number(video_path, csv_path, result[\"observation\"])\n",
    "    print(result_validation)\n",
    "    validation_list.append(result_validation[\"matches\"])\n",
    "\n",
    "success_ratio = sum(validation_list) / len(validation_list) if len(validation_list) > 0 else 0\n",
    "print(f\"Success rate: {success_ratio:.2%}\")"
   ]
  },
  {
   "cell_type": "code",
   "execution_count": 18,
   "metadata": {},
   "outputs": [
    {
     "name": "stdout",
     "output_type": "stream",
     "text": [
      "Processing video: UltraSourceToESIsource_docuForgotN2Line.MP4\n",
      "/Users/patriciaskowronek/Documents/documentation_agent_few_shot_examples/benchmark_dataset/documentation/UltraSourceToESIsource_docuForgotN2Line.MP4\n"
     ]
    },
    {
     "data": {
      "text/markdown": [
       "Protocol number: 6"
      ],
      "text/plain": [
       "<IPython.core.display.Markdown object>"
      ]
     },
     "metadata": {},
     "output_type": "display_data"
    },
    {
     "name": "stdout",
     "output_type": "stream",
     "text": [
      "{'matches': False, 'video': 'UltraSourceToESIsource_docuForgotN2Line.MP4', 'expected_protocol': '7', 'found_protocol': '6'}\n",
      "Processing video: TimsCalibration_docuCorrect_camera.MP4\n",
      "/Users/patriciaskowronek/Documents/documentation_agent_few_shot_examples/benchmark_dataset/documentation/TimsCalibration_docuCorrect_camera.MP4\n"
     ]
    },
    {
     "data": {
      "text/markdown": [
       "Based on the video, the protocol being performed is **protocol number: 1**,  \"Queue and measure samples in HyStar\".  The video shows a computer screen displaying the HyStar software interface, which is used for queuing and controlling LC-MS experiments.  The chromatograms and spectral data shown are consistent with data acquired during a mass spectrometry-based analysis.  The various parameters being adjusted (e.g., scan range, cycle time) further support this identification.\n"
      ],
      "text/plain": [
       "<IPython.core.display.Markdown object>"
      ]
     },
     "metadata": {},
     "output_type": "display_data"
    },
    {
     "name": "stdout",
     "output_type": "stream",
     "text": [
      "{'matches': False, 'video': 'TimsCalibration_docuCorrect_camera.MP4', 'expected_protocol': '5', 'found_protocol': '1'}\n",
      "Processing video: TimsCalibration_docuNotAllClicksVisibleOnVideo.MP4\n",
      "/Users/patriciaskowronek/Documents/documentation_agent_few_shot_examples/benchmark_dataset/documentation/TimsCalibration_docuNotAllClicksVisibleOnVideo.MP4\n"
     ]
    },
    {
     "data": {
      "text/markdown": [
       "Protocol number: 1"
      ],
      "text/plain": [
       "<IPython.core.display.Markdown object>"
      ]
     },
     "metadata": {},
     "output_type": "display_data"
    },
    {
     "name": "stdout",
     "output_type": "stream",
     "text": [
      "{'matches': False, 'video': 'TimsCalibration_docuNotAllClicksVisibleOnVideo.MP4', 'expected_protocol': '5', 'found_protocol': '1'}\n",
      "Processing video: PlaceEvotips_docuBoxAngeled.MP4\n",
      "/Users/patriciaskowronek/Documents/documentation_agent_few_shot_examples/benchmark_dataset/documentation/PlaceEvotips_docuBoxAngeled.MP4\n"
     ]
    },
    {
     "data": {
      "text/markdown": [
       "Protocol number: 2"
      ],
      "text/plain": [
       "<IPython.core.display.Markdown object>"
      ]
     },
     "metadata": {},
     "output_type": "display_data"
    },
    {
     "name": "stdout",
     "output_type": "stream",
     "text": [
      "{'matches': True, 'video': 'PlaceEvotips_docuBoxAngeled.MP4', 'expected_protocol': '2', 'found_protocol': '2'}\n",
      "Processing video: UltraSourceToESIsource_docuForgotGlovesANDCapillaryCap.MP4\n",
      "/Users/patriciaskowronek/Documents/documentation_agent_few_shot_examples/benchmark_dataset/documentation/UltraSourceToESIsource_docuForgotGlovesANDCapillaryCap.MP4\n"
     ]
    },
    {
     "data": {
      "text/markdown": [
       "Based on the video, the protocol being performed is **protocol number: 6**,  \"Connecting IonOpticks Column & sample line of Evosep\".  The video shows the careful connection of the nanoViper to the column and the subsequent securing of the column oven.\n"
      ],
      "text/plain": [
       "<IPython.core.display.Markdown object>"
      ]
     },
     "metadata": {},
     "output_type": "display_data"
    },
    {
     "name": "stdout",
     "output_type": "stream",
     "text": [
      "{'matches': False, 'video': 'UltraSourceToESIsource_docuForgotGlovesANDCapillaryCap.MP4', 'expected_protocol': '7', 'found_protocol': '6'}\n",
      "Processing video: QueueSamples_docuCorrect_1.mov\n",
      "/Users/patriciaskowronek/Documents/documentation_agent_few_shot_examples/benchmark_dataset/documentation/QueueSamples_docuCorrect_1.mov\n"
     ]
    },
    {
     "data": {
      "text/markdown": [
       "protocol number: 1"
      ],
      "text/plain": [
       "<IPython.core.display.Markdown object>"
      ]
     },
     "metadata": {},
     "output_type": "display_data"
    },
    {
     "name": "stdout",
     "output_type": "stream",
     "text": [
      "{'matches': True, 'video': 'QueueSamples_docuCorrect_1.mov', 'expected_protocol': '1', 'found_protocol': '1'}\n",
      "Processing video: QueueSamples_docuNoBlankNoSampleIDWrongMSmethod.mov\n",
      "/Users/patriciaskowronek/Documents/documentation_agent_few_shot_examples/benchmark_dataset/documentation/QueueSamples_docuNoBlankNoSampleIDWrongMSmethod.mov\n"
     ]
    },
    {
     "data": {
      "text/markdown": [
       "protocol number: 1"
      ],
      "text/plain": [
       "<IPython.core.display.Markdown object>"
      ]
     },
     "metadata": {},
     "output_type": "display_data"
    },
    {
     "name": "stdout",
     "output_type": "stream",
     "text": [
      "{'matches': True, 'video': 'QueueSamples_docuNoBlankNoSampleIDWrongMSmethod.mov', 'expected_protocol': '1', 'found_protocol': '1'}\n",
      "Processing video: UltraSourceToESIsource_docuCorrect.MP4\n",
      "/Users/patriciaskowronek/Documents/documentation_agent_few_shot_examples/benchmark_dataset/documentation/UltraSourceToESIsource_docuCorrect.MP4\n"
     ]
    },
    {
     "data": {
      "text/markdown": [
       "Protocol number: 6"
      ],
      "text/plain": [
       "<IPython.core.display.Markdown object>"
      ]
     },
     "metadata": {},
     "output_type": "display_data"
    },
    {
     "name": "stdout",
     "output_type": "stream",
     "text": [
      "{'matches': False, 'video': 'UltraSourceToESIsource_docuCorrect.MP4', 'expected_protocol': '7', 'found_protocol': '6'}\n",
      "Processing video: DisconnectingColumn_docuWithoutStandby_1.MP4\n",
      "/Users/patriciaskowronek/Documents/documentation_agent_few_shot_examples/benchmark_dataset/documentation/DisconnectingColumn_docuWithoutStandby_1.MP4\n"
     ]
    },
    {
     "data": {
      "text/markdown": [
       "Protocol number: 6"
      ],
      "text/plain": [
       "<IPython.core.display.Markdown object>"
      ]
     },
     "metadata": {},
     "output_type": "display_data"
    },
    {
     "name": "stdout",
     "output_type": "stream",
     "text": [
      "{'matches': False, 'video': 'DisconnectingColumn_docuWithoutStandby_1.MP4', 'expected_protocol': '3', 'found_protocol': '6'}\n",
      "Processing video: QueueSamples_docuDiffSampleNameAndEvotipNotAtPosition.mov\n",
      "/Users/patriciaskowronek/Documents/documentation_agent_few_shot_examples/benchmark_dataset/documentation/QueueSamples_docuDiffSampleNameAndEvotipNotAtPosition.mov\n"
     ]
    },
    {
     "data": {
      "text/markdown": [
       "Protocol number: 1"
      ],
      "text/plain": [
       "<IPython.core.display.Markdown object>"
      ]
     },
     "metadata": {},
     "output_type": "display_data"
    },
    {
     "name": "stdout",
     "output_type": "stream",
     "text": [
      "{'matches': True, 'video': 'QueueSamples_docuDiffSampleNameAndEvotipNotAtPosition.mov', 'expected_protocol': '1', 'found_protocol': '1'}\n",
      "Processing video: Pipette_ducoBufferBInsteadBufferA.MP4\n",
      "/Users/patriciaskowronek/Documents/documentation_agent_few_shot_examples/benchmark_dataset/documentation/Pipette_ducoBufferBInsteadBufferA.MP4\n"
     ]
    },
    {
     "data": {
      "text/markdown": [
       "Protocol number: 8"
      ],
      "text/plain": [
       "<IPython.core.display.Markdown object>"
      ]
     },
     "metadata": {},
     "output_type": "display_data"
    },
    {
     "name": "stdout",
     "output_type": "stream",
     "text": [
      "{'matches': True, 'video': 'Pipette_ducoBufferBInsteadBufferA.MP4', 'expected_protocol': '8', 'found_protocol': '8'}\n",
      "Processing video: ESIsourceToUltraSource_docuFogotOvenPowerSupply.MP4\n",
      "/Users/patriciaskowronek/Documents/documentation_agent_few_shot_examples/benchmark_dataset/documentation/ESIsourceToUltraSource_docuFogotOvenPowerSupply.MP4\n"
     ]
    },
    {
     "data": {
      "text/markdown": [
       "Protocol number: 6"
      ],
      "text/plain": [
       "<IPython.core.display.Markdown object>"
      ]
     },
     "metadata": {},
     "output_type": "display_data"
    },
    {
     "name": "stdout",
     "output_type": "stream",
     "text": [
      "{'matches': False, 'video': 'ESIsourceToUltraSource_docuFogotOvenPowerSupply.MP4', 'expected_protocol': '9', 'found_protocol': '6'}\n",
      "Processing video: Pipette_docu_WrongRowB_B10Twice_B11LeftOut.MP4\n",
      "/Users/patriciaskowronek/Documents/documentation_agent_few_shot_examples/benchmark_dataset/documentation/Pipette_docu_WrongRowB_B10Twice_B11LeftOut.MP4\n"
     ]
    },
    {
     "data": {
      "text/markdown": [
       "Protocol number: 8"
      ],
      "text/plain": [
       "<IPython.core.display.Markdown object>"
      ]
     },
     "metadata": {},
     "output_type": "display_data"
    },
    {
     "name": "stdout",
     "output_type": "stream",
     "text": [
      "{'matches': True, 'video': 'Pipette_docu_WrongRowB_B10Twice_B11LeftOut.MP4', 'expected_protocol': '8', 'found_protocol': '8'}\n",
      "Processing video: ConnectingColumnSampleLine_docuWithoutStandbyANDtimsControl.mp4\n",
      "/Users/patriciaskowronek/Documents/documentation_agent_few_shot_examples/benchmark_dataset/documentation/ConnectingColumnSampleLine_docuWithoutStandbyANDtimsControl.mp4\n"
     ]
    },
    {
     "data": {
      "text/markdown": [
       "Protocol number: 6"
      ],
      "text/plain": [
       "<IPython.core.display.Markdown object>"
      ]
     },
     "metadata": {},
     "output_type": "display_data"
    },
    {
     "name": "stdout",
     "output_type": "stream",
     "text": [
      "{'matches': True, 'video': 'ConnectingColumnSampleLine_docuWithoutStandbyANDtimsControl.mp4', 'expected_protocol': '6', 'found_protocol': '6'}\n",
      "Processing video: TimsCalibration_docuSavedMethod.mov\n",
      "/Users/patriciaskowronek/Documents/documentation_agent_few_shot_examples/benchmark_dataset/documentation/TimsCalibration_docuSavedMethod.mov\n"
     ]
    },
    {
     "data": {
      "text/markdown": [
       "Protocol number: 5"
      ],
      "text/plain": [
       "<IPython.core.display.Markdown object>"
      ]
     },
     "metadata": {},
     "output_type": "display_data"
    },
    {
     "name": "stdout",
     "output_type": "stream",
     "text": [
      "{'matches': True, 'video': 'TimsCalibration_docuSavedMethod.mov', 'expected_protocol': '5', 'found_protocol': '5'}\n",
      "Processing video: Dilute_docuWrongSolvent.MP4\n",
      "/Users/patriciaskowronek/Documents/documentation_agent_few_shot_examples/benchmark_dataset/documentation/Dilute_docuWrongSolvent.MP4\n"
     ]
    },
    {
     "data": {
      "text/markdown": [
       "Protocol number: 4"
      ],
      "text/plain": [
       "<IPython.core.display.Markdown object>"
      ]
     },
     "metadata": {},
     "output_type": "display_data"
    },
    {
     "name": "stdout",
     "output_type": "stream",
     "text": [
      "{'matches': True, 'video': 'Dilute_docuWrongSolvent.MP4', 'expected_protocol': '4', 'found_protocol': '4'}\n",
      "Processing video: TimsCalibration_docuWrongOrderSteps.mov\n",
      "/Users/patriciaskowronek/Documents/documentation_agent_few_shot_examples/benchmark_dataset/documentation/TimsCalibration_docuWrongOrderSteps.mov\n"
     ]
    },
    {
     "data": {
      "text/markdown": [
       "Protocol number: 5"
      ],
      "text/plain": [
       "<IPython.core.display.Markdown object>"
      ]
     },
     "metadata": {},
     "output_type": "display_data"
    },
    {
     "name": "stdout",
     "output_type": "stream",
     "text": [
      "{'matches': True, 'video': 'TimsCalibration_docuWrongOrderSteps.mov', 'expected_protocol': '5', 'found_protocol': '5'}\n",
      "Processing video: Dilute_docuWrongVolume_PipettTipNotChanged.MP4\n",
      "/Users/patriciaskowronek/Documents/documentation_agent_few_shot_examples/benchmark_dataset/documentation/Dilute_docuWrongVolume_PipettTipNotChanged.MP4\n"
     ]
    },
    {
     "data": {
      "text/markdown": [
       "Protocol number: 4"
      ],
      "text/plain": [
       "<IPython.core.display.Markdown object>"
      ]
     },
     "metadata": {},
     "output_type": "display_data"
    },
    {
     "name": "stdout",
     "output_type": "stream",
     "text": [
      "{'matches': True, 'video': 'Dilute_docuWrongVolume_PipettTipNotChanged.MP4', 'expected_protocol': '4', 'found_protocol': '4'}\n",
      "Processing video: DisconnectingColumn_docuCorrect.MP4\n",
      "/Users/patriciaskowronek/Documents/documentation_agent_few_shot_examples/benchmark_dataset/documentation/DisconnectingColumn_docuCorrect.MP4\n"
     ]
    },
    {
     "data": {
      "text/markdown": [
       "Protocol number: 6"
      ],
      "text/plain": [
       "<IPython.core.display.Markdown object>"
      ]
     },
     "metadata": {},
     "output_type": "display_data"
    },
    {
     "name": "stdout",
     "output_type": "stream",
     "text": [
      "{'matches': False, 'video': 'DisconnectingColumn_docuCorrect.MP4', 'expected_protocol': '3', 'found_protocol': '6'}\n",
      "Processing video: Pipette_docuFirstTwoWrongVolumneANDA2Twice.MP4\n",
      "/Users/patriciaskowronek/Documents/documentation_agent_few_shot_examples/benchmark_dataset/documentation/Pipette_docuFirstTwoWrongVolumneANDA2Twice.MP4\n"
     ]
    },
    {
     "data": {
      "text/markdown": [
       "Protocol number: 8"
      ],
      "text/plain": [
       "<IPython.core.display.Markdown object>"
      ]
     },
     "metadata": {},
     "output_type": "display_data"
    },
    {
     "name": "stdout",
     "output_type": "stream",
     "text": [
      "{'matches': True, 'video': 'Pipette_docuFirstTwoWrongVolumneANDA2Twice.MP4', 'expected_protocol': '8', 'found_protocol': '8'}\n",
      "Processing video: PlaceEvotips_docuWrongPosition.MP4\n",
      "/Users/patriciaskowronek/Documents/documentation_agent_few_shot_examples/benchmark_dataset/documentation/PlaceEvotips_docuWrongPosition.MP4\n"
     ]
    },
    {
     "data": {
      "text/markdown": [
       "Protocol number: 2"
      ],
      "text/plain": [
       "<IPython.core.display.Markdown object>"
      ]
     },
     "metadata": {},
     "output_type": "display_data"
    },
    {
     "name": "stdout",
     "output_type": "stream",
     "text": [
      "{'matches': True, 'video': 'PlaceEvotips_docuWrongPosition.MP4', 'expected_protocol': '2', 'found_protocol': '2'}\n",
      "Processing video: TimsCalibration_docuCorrect.mov\n",
      "/Users/patriciaskowronek/Documents/documentation_agent_few_shot_examples/benchmark_dataset/documentation/TimsCalibration_docuCorrect.mov\n"
     ]
    },
    {
     "data": {
      "text/markdown": [
       "Protocol number: 5"
      ],
      "text/plain": [
       "<IPython.core.display.Markdown object>"
      ]
     },
     "metadata": {},
     "output_type": "display_data"
    },
    {
     "name": "stdout",
     "output_type": "stream",
     "text": [
      "{'matches': True, 'video': 'TimsCalibration_docuCorrect.mov', 'expected_protocol': '5', 'found_protocol': '5'}\n",
      "Processing video: QueueSamples_docuWrongRow_S3A1Twice.mov\n",
      "/Users/patriciaskowronek/Documents/documentation_agent_few_shot_examples/benchmark_dataset/documentation/QueueSamples_docuWrongRow_S3A1Twice.mov\n"
     ]
    },
    {
     "data": {
      "text/markdown": [
       "Protocol number: 1"
      ],
      "text/plain": [
       "<IPython.core.display.Markdown object>"
      ]
     },
     "metadata": {},
     "output_type": "display_data"
    },
    {
     "name": "stdout",
     "output_type": "stream",
     "text": [
      "{'matches': True, 'video': 'QueueSamples_docuWrongRow_S3A1Twice.mov', 'expected_protocol': '1', 'found_protocol': '1'}\n",
      "Processing video: PlaceEvotips_docuCorrect.MP4\n",
      "/Users/patriciaskowronek/Documents/documentation_agent_few_shot_examples/benchmark_dataset/documentation/PlaceEvotips_docuCorrect.MP4\n"
     ]
    },
    {
     "data": {
      "text/markdown": [
       "Protocol number: 2"
      ],
      "text/plain": [
       "<IPython.core.display.Markdown object>"
      ]
     },
     "metadata": {},
     "output_type": "display_data"
    },
    {
     "name": "stdout",
     "output_type": "stream",
     "text": [
      "{'matches': True, 'video': 'PlaceEvotips_docuCorrect.MP4', 'expected_protocol': '2', 'found_protocol': '2'}\n",
      "Processing video: ESIsourceToUltraSource_docuCorrect.MP4\n",
      "/Users/patriciaskowronek/Documents/documentation_agent_few_shot_examples/benchmark_dataset/documentation/ESIsourceToUltraSource_docuCorrect.MP4\n"
     ]
    },
    {
     "data": {
      "text/markdown": [
       "Protocol number: 6"
      ],
      "text/plain": [
       "<IPython.core.display.Markdown object>"
      ]
     },
     "metadata": {},
     "output_type": "display_data"
    },
    {
     "name": "stdout",
     "output_type": "stream",
     "text": [
      "{'matches': False, 'video': 'ESIsourceToUltraSource_docuCorrect.MP4', 'expected_protocol': '9', 'found_protocol': '6'}\n",
      "Processing video: QueueSamples_docuEvotipNotAtPositionNoSampleID.mov\n",
      "/Users/patriciaskowronek/Documents/documentation_agent_few_shot_examples/benchmark_dataset/documentation/QueueSamples_docuEvotipNotAtPositionNoSampleID.mov\n"
     ]
    },
    {
     "data": {
      "text/markdown": [
       "protocol number: 1"
      ],
      "text/plain": [
       "<IPython.core.display.Markdown object>"
      ]
     },
     "metadata": {},
     "output_type": "display_data"
    },
    {
     "name": "stdout",
     "output_type": "stream",
     "text": [
      "{'matches': True, 'video': 'QueueSamples_docuEvotipNotAtPositionNoSampleID.mov', 'expected_protocol': '1', 'found_protocol': '1'}\n",
      "Processing video: UltraSourceToESIsource_docuForgotCapillaryCap.MP4\n",
      "/Users/patriciaskowronek/Documents/documentation_agent_few_shot_examples/benchmark_dataset/documentation/UltraSourceToESIsource_docuForgotCapillaryCap.MP4\n"
     ]
    },
    {
     "data": {
      "text/markdown": [
       "Protocol number: 6"
      ],
      "text/plain": [
       "<IPython.core.display.Markdown object>"
      ]
     },
     "metadata": {},
     "output_type": "display_data"
    },
    {
     "name": "stdout",
     "output_type": "stream",
     "text": [
      "{'matches': False, 'video': 'UltraSourceToESIsource_docuForgotCapillaryCap.MP4', 'expected_protocol': '7', 'found_protocol': '6'}\n",
      "Processing video: PlaceEvotips_docuLiquidNotChecked.MP4\n",
      "/Users/patriciaskowronek/Documents/documentation_agent_few_shot_examples/benchmark_dataset/documentation/PlaceEvotips_docuLiquidNotChecked.MP4\n"
     ]
    },
    {
     "data": {
      "text/markdown": [
       "Protocol number: 2"
      ],
      "text/plain": [
       "<IPython.core.display.Markdown object>"
      ]
     },
     "metadata": {},
     "output_type": "display_data"
    },
    {
     "name": "stdout",
     "output_type": "stream",
     "text": [
      "{'matches': True, 'video': 'PlaceEvotips_docuLiquidNotChecked.MP4', 'expected_protocol': '2', 'found_protocol': '2'}\n",
      "Processing video: Evotip_docuWrongSpinInEvotipBox_wrongSpeed.MP4\n",
      "/Users/patriciaskowronek/Documents/documentation_agent_few_shot_examples/benchmark_dataset/documentation/Evotip_docuWrongSpinInEvotipBox_wrongSpeed.MP4\n"
     ]
    },
    {
     "data": {
      "text/markdown": [
       "Protocol number: 10"
      ],
      "text/plain": [
       "<IPython.core.display.Markdown object>"
      ]
     },
     "metadata": {},
     "output_type": "display_data"
    },
    {
     "name": "stdout",
     "output_type": "stream",
     "text": [
      "{'matches': True, 'video': 'Evotip_docuWrongSpinInEvotipBox_wrongSpeed.MP4', 'expected_protocol': '10', 'found_protocol': '10'}\n",
      "Success rate: 65.52%\n"
     ]
    }
   ],
   "source": [
    "system_prompt = [\"\"\"\n",
    "    You are Professor Matthias Mann, a pioneering scientist in proteomics and mass spectrometry.\n",
    "    Your task is to find the protocol that captures the step being performed in the video.\n",
    "    \"\"\"]\n",
    "protocol_intro= [\"Protocols:\"]\n",
    "output_format = [\"Output: Number of protocol e.g. 'protocol number: 1'\"]\n",
    "\n",
    "csv_path = \"/Users/patriciaskowronek/Documents/documentation_agent_few_shot_examples/benchmark_dataset/Link_protocol_lab_video.csv\"\n",
    "\n",
    "validation_list = list()\n",
    "for video in video_parts: \n",
    "    print(f\"Processing video: {video}\")\n",
    "    video_path = video_parts[video][\"path\"]\n",
    "    order = [system_prompt, video_parts[video][\"part\"], protocol_intro, protocol_input, output_format ]\n",
    "    model_input = list()\n",
    "    for input in order:\n",
    "        model_input.extend(input)\n",
    "\n",
    "    result = identify_protocol_from_video(\n",
    "        model_input,\n",
    "        model_name=\"gemini-1.5-flash-002\", \n",
    "        temperature=0.9\n",
    "    )\n",
    "\n",
    "    # print(result[\"usage_metadata\"])\n",
    "    print(result[\"video_path\"])\n",
    "    display(result[\"markdown_observation\"]) \n",
    "\n",
    "    result_validation = validate_protocol_number(video_path, csv_path, result[\"observation\"])\n",
    "    print(result_validation)\n",
    "    validation_list.append(result_validation[\"matches\"])\n",
    "\n",
    "success_ratio = sum(validation_list) / len(validation_list) if len(validation_list) > 0 else 0\n",
    "print(f\"Success rate: {success_ratio:.2%}\")"
   ]
  },
  {
   "cell_type": "code",
   "execution_count": 19,
   "metadata": {},
   "outputs": [
    {
     "name": "stdout",
     "output_type": "stream",
     "text": [
      "Processing video: UltraSourceToESIsource_docuForgotN2Line.MP4\n",
      "/Users/patriciaskowronek/Documents/documentation_agent_few_shot_examples/benchmark_dataset/documentation/UltraSourceToESIsource_docuForgotN2Line.MP4\n"
     ]
    },
    {
     "data": {
      "text/markdown": [
       "Based on my expertise in proteomics and mass spectrometry, after analyzing the video, the most relevant protocol is **protocol number: 6**,  \"Connecting IonOpticks Column & sample line of Evosep\".\n",
       "\n",
       "The video clearly shows the process of connecting a sample line to a column, which is precisely what protocol 6 describes.  The other protocols deal with sample preparation, software operation, and source switching – none of which are the central focus of the visual information provided.\n"
      ],
      "text/plain": [
       "<IPython.core.display.Markdown object>"
      ]
     },
     "metadata": {},
     "output_type": "display_data"
    },
    {
     "name": "stdout",
     "output_type": "stream",
     "text": [
      "{'matches': False, 'video': 'UltraSourceToESIsource_docuForgotN2Line.MP4', 'expected_protocol': '7', 'found_protocol': '6'}\n",
      "Processing video: TimsCalibration_docuCorrect_camera.MP4\n",
      "/Users/patriciaskowronek/Documents/documentation_agent_few_shot_examples/benchmark_dataset/documentation/TimsCalibration_docuCorrect_camera.MP4\n"
     ]
    },
    {
     "data": {
      "text/markdown": [
       "Protocol number: 1"
      ],
      "text/plain": [
       "<IPython.core.display.Markdown object>"
      ]
     },
     "metadata": {},
     "output_type": "display_data"
    },
    {
     "name": "stdout",
     "output_type": "stream",
     "text": [
      "{'matches': False, 'video': 'TimsCalibration_docuCorrect_camera.MP4', 'expected_protocol': '5', 'found_protocol': '1'}\n",
      "Processing video: TimsCalibration_docuNotAllClicksVisibleOnVideo.MP4\n",
      "/Users/patriciaskowronek/Documents/documentation_agent_few_shot_examples/benchmark_dataset/documentation/TimsCalibration_docuNotAllClicksVisibleOnVideo.MP4\n"
     ]
    },
    {
     "data": {
      "text/markdown": [
       "Based on the video, the protocol being performed is **protocol number: 1**,  \"Queue and measure samples in HyStar\".\n",
       "\n",
       "The video clearly shows a HyStar software interface displaying chromatograms and mass spectrometry data, along with a sample queue being managed and a measurement in progress.  This aligns perfectly with the actions and displays described in protocol 1.\n"
      ],
      "text/plain": [
       "<IPython.core.display.Markdown object>"
      ]
     },
     "metadata": {},
     "output_type": "display_data"
    },
    {
     "name": "stdout",
     "output_type": "stream",
     "text": [
      "{'matches': False, 'video': 'TimsCalibration_docuNotAllClicksVisibleOnVideo.MP4', 'expected_protocol': '5', 'found_protocol': '1'}\n",
      "Processing video: PlaceEvotips_docuBoxAngeled.MP4\n",
      "/Users/patriciaskowronek/Documents/documentation_agent_few_shot_examples/benchmark_dataset/documentation/PlaceEvotips_docuBoxAngeled.MP4\n"
     ]
    },
    {
     "data": {
      "text/markdown": [
       "Protocol number: 2"
      ],
      "text/plain": [
       "<IPython.core.display.Markdown object>"
      ]
     },
     "metadata": {},
     "output_type": "display_data"
    },
    {
     "name": "stdout",
     "output_type": "stream",
     "text": [
      "{'matches': True, 'video': 'PlaceEvotips_docuBoxAngeled.MP4', 'expected_protocol': '2', 'found_protocol': '2'}\n",
      "Processing video: UltraSourceToESIsource_docuForgotGlovesANDCapillaryCap.MP4\n",
      "/Users/patriciaskowronek/Documents/documentation_agent_few_shot_examples/benchmark_dataset/documentation/UltraSourceToESIsource_docuForgotGlovesANDCapillaryCap.MP4\n"
     ]
    },
    {
     "data": {
      "text/markdown": [
       "Based on the video, the most appropriate protocol is **protocol number: 6**,  \"Connecting IonOpticks Column & sample line of Evosep\".\n",
       "\n",
       "The video clearly shows the process of connecting a NanoViper adapter to a sample line and then attaching that line to an IonOpticks column already installed in the timsTOF mass spectrometer. This aligns precisely with the steps described in protocol 6.  Other protocols deal with software settings, sample preparation, or other instrument manipulations not shown in the video.\n"
      ],
      "text/plain": [
       "<IPython.core.display.Markdown object>"
      ]
     },
     "metadata": {},
     "output_type": "display_data"
    },
    {
     "name": "stdout",
     "output_type": "stream",
     "text": [
      "{'matches': False, 'video': 'UltraSourceToESIsource_docuForgotGlovesANDCapillaryCap.MP4', 'expected_protocol': '7', 'found_protocol': '6'}\n",
      "Processing video: QueueSamples_docuCorrect_1.mov\n",
      "/Users/patriciaskowronek/Documents/documentation_agent_few_shot_examples/benchmark_dataset/documentation/QueueSamples_docuCorrect_1.mov\n"
     ]
    },
    {
     "data": {
      "text/markdown": [
       "Protocol number: 1"
      ],
      "text/plain": [
       "<IPython.core.display.Markdown object>"
      ]
     },
     "metadata": {},
     "output_type": "display_data"
    },
    {
     "name": "stdout",
     "output_type": "stream",
     "text": [
      "{'matches': True, 'video': 'QueueSamples_docuCorrect_1.mov', 'expected_protocol': '1', 'found_protocol': '1'}\n",
      "Processing video: QueueSamples_docuNoBlankNoSampleIDWrongMSmethod.mov\n",
      "/Users/patriciaskowronek/Documents/documentation_agent_few_shot_examples/benchmark_dataset/documentation/QueueSamples_docuNoBlankNoSampleIDWrongMSmethod.mov\n"
     ]
    },
    {
     "data": {
      "text/markdown": [
       "Protocol number: 1"
      ],
      "text/plain": [
       "<IPython.core.display.Markdown object>"
      ]
     },
     "metadata": {},
     "output_type": "display_data"
    },
    {
     "name": "stdout",
     "output_type": "stream",
     "text": [
      "{'matches': True, 'video': 'QueueSamples_docuNoBlankNoSampleIDWrongMSmethod.mov', 'expected_protocol': '1', 'found_protocol': '1'}\n",
      "Processing video: UltraSourceToESIsource_docuCorrect.MP4\n",
      "/Users/patriciaskowronek/Documents/documentation_agent_few_shot_examples/benchmark_dataset/documentation/UltraSourceToESIsource_docuCorrect.MP4\n"
     ]
    },
    {
     "data": {
      "text/markdown": [
       "Based on the video, the protocol being performed is **protocol number: 6**,  \"Connecting IonOpticks Column & sample line of Evosep\".\n",
       "\n",
       "The video clearly shows the connection of a NanoViper to the column and the subsequent connection to the sample line.  The actions of the person in the video directly match the steps described in protocol 6.\n"
      ],
      "text/plain": [
       "<IPython.core.display.Markdown object>"
      ]
     },
     "metadata": {},
     "output_type": "display_data"
    },
    {
     "name": "stdout",
     "output_type": "stream",
     "text": [
      "{'matches': False, 'video': 'UltraSourceToESIsource_docuCorrect.MP4', 'expected_protocol': '7', 'found_protocol': '6'}\n",
      "Processing video: DisconnectingColumn_docuWithoutStandby_1.MP4\n",
      "/Users/patriciaskowronek/Documents/documentation_agent_few_shot_examples/benchmark_dataset/documentation/DisconnectingColumn_docuWithoutStandby_1.MP4\n"
     ]
    },
    {
     "data": {
      "text/markdown": [
       "Protocol number: 6"
      ],
      "text/plain": [
       "<IPython.core.display.Markdown object>"
      ]
     },
     "metadata": {},
     "output_type": "display_data"
    },
    {
     "name": "stdout",
     "output_type": "stream",
     "text": [
      "{'matches': False, 'video': 'DisconnectingColumn_docuWithoutStandby_1.MP4', 'expected_protocol': '3', 'found_protocol': '6'}\n",
      "Processing video: QueueSamples_docuDiffSampleNameAndEvotipNotAtPosition.mov\n",
      "/Users/patriciaskowronek/Documents/documentation_agent_few_shot_examples/benchmark_dataset/documentation/QueueSamples_docuDiffSampleNameAndEvotipNotAtPosition.mov\n"
     ]
    },
    {
     "data": {
      "text/markdown": [
       "Protocol number: 1"
      ],
      "text/plain": [
       "<IPython.core.display.Markdown object>"
      ]
     },
     "metadata": {},
     "output_type": "display_data"
    },
    {
     "name": "stdout",
     "output_type": "stream",
     "text": [
      "{'matches': True, 'video': 'QueueSamples_docuDiffSampleNameAndEvotipNotAtPosition.mov', 'expected_protocol': '1', 'found_protocol': '1'}\n",
      "Processing video: Pipette_ducoBufferBInsteadBufferA.MP4\n",
      "/Users/patriciaskowronek/Documents/documentation_agent_few_shot_examples/benchmark_dataset/documentation/Pipette_ducoBufferBInsteadBufferA.MP4\n"
     ]
    },
    {
     "data": {
      "text/markdown": [
       "Protocol number: 8"
      ],
      "text/plain": [
       "<IPython.core.display.Markdown object>"
      ]
     },
     "metadata": {},
     "output_type": "display_data"
    },
    {
     "name": "stdout",
     "output_type": "stream",
     "text": [
      "{'matches': True, 'video': 'Pipette_ducoBufferBInsteadBufferA.MP4', 'expected_protocol': '8', 'found_protocol': '8'}\n",
      "Processing video: ESIsourceToUltraSource_docuFogotOvenPowerSupply.MP4\n",
      "/Users/patriciaskowronek/Documents/documentation_agent_few_shot_examples/benchmark_dataset/documentation/ESIsourceToUltraSource_docuFogotOvenPowerSupply.MP4\n"
     ]
    },
    {
     "data": {
      "text/markdown": [
       "Based on the video, the protocol number 6,  `ConnectingColumnSampleLine_protocolCorrect.md# Connecting IonOpticks Column & sample line of Evosep` is the most accurate description of the procedure being performed.\n",
       "\n",
       "The video shows a lab technician connecting a sample line to an IonOpticks column which is already installed in the timsTOF Ultra mass spectrometer.  This aligns precisely with the steps outlined in protocol 6.\n"
      ],
      "text/plain": [
       "<IPython.core.display.Markdown object>"
      ]
     },
     "metadata": {},
     "output_type": "display_data"
    },
    {
     "name": "stdout",
     "output_type": "stream",
     "text": [
      "{'matches': False, 'video': 'ESIsourceToUltraSource_docuFogotOvenPowerSupply.MP4', 'expected_protocol': '9', 'found_protocol': '6'}\n",
      "Processing video: Pipette_docu_WrongRowB_B10Twice_B11LeftOut.MP4\n",
      "/Users/patriciaskowronek/Documents/documentation_agent_few_shot_examples/benchmark_dataset/documentation/Pipette_docu_WrongRowB_B10Twice_B11LeftOut.MP4\n"
     ]
    },
    {
     "data": {
      "text/markdown": [
       "Protocol number: 8"
      ],
      "text/plain": [
       "<IPython.core.display.Markdown object>"
      ]
     },
     "metadata": {},
     "output_type": "display_data"
    },
    {
     "name": "stdout",
     "output_type": "stream",
     "text": [
      "{'matches': True, 'video': 'Pipette_docu_WrongRowB_B10Twice_B11LeftOut.MP4', 'expected_protocol': '8', 'found_protocol': '8'}\n",
      "Processing video: ConnectingColumnSampleLine_docuWithoutStandbyANDtimsControl.mp4\n",
      "/Users/patriciaskowronek/Documents/documentation_agent_few_shot_examples/benchmark_dataset/documentation/ConnectingColumnSampleLine_docuWithoutStandbyANDtimsControl.mp4\n"
     ]
    },
    {
     "data": {
      "text/markdown": [
       "Protocol number: 6"
      ],
      "text/plain": [
       "<IPython.core.display.Markdown object>"
      ]
     },
     "metadata": {},
     "output_type": "display_data"
    },
    {
     "name": "stdout",
     "output_type": "stream",
     "text": [
      "{'matches': True, 'video': 'ConnectingColumnSampleLine_docuWithoutStandbyANDtimsControl.mp4', 'expected_protocol': '6', 'found_protocol': '6'}\n",
      "Processing video: TimsCalibration_docuSavedMethod.mov\n",
      "/Users/patriciaskowronek/Documents/documentation_agent_few_shot_examples/benchmark_dataset/documentation/TimsCalibration_docuSavedMethod.mov\n"
     ]
    },
    {
     "data": {
      "text/markdown": [
       "Protocol number: 5"
      ],
      "text/plain": [
       "<IPython.core.display.Markdown object>"
      ]
     },
     "metadata": {},
     "output_type": "display_data"
    },
    {
     "name": "stdout",
     "output_type": "stream",
     "text": [
      "{'matches': True, 'video': 'TimsCalibration_docuSavedMethod.mov', 'expected_protocol': '5', 'found_protocol': '5'}\n",
      "Processing video: Dilute_docuWrongSolvent.MP4\n",
      "/Users/patriciaskowronek/Documents/documentation_agent_few_shot_examples/benchmark_dataset/documentation/Dilute_docuWrongSolvent.MP4\n"
     ]
    },
    {
     "data": {
      "text/markdown": [
       "Protocol number: 4"
      ],
      "text/plain": [
       "<IPython.core.display.Markdown object>"
      ]
     },
     "metadata": {},
     "output_type": "display_data"
    },
    {
     "name": "stdout",
     "output_type": "stream",
     "text": [
      "{'matches': True, 'video': 'Dilute_docuWrongSolvent.MP4', 'expected_protocol': '4', 'found_protocol': '4'}\n",
      "Processing video: TimsCalibration_docuWrongOrderSteps.mov\n",
      "/Users/patriciaskowronek/Documents/documentation_agent_few_shot_examples/benchmark_dataset/documentation/TimsCalibration_docuWrongOrderSteps.mov\n"
     ]
    },
    {
     "data": {
      "text/markdown": [
       "Based on the video, the protocol being performed is **protocol number: 5**,  \"Calibrate the TIMS device\".\n",
       "\n",
       "The video clearly shows a user interacting with the timsControl software, specifically navigating to the \"Calibration\" -> \"Mobility\" section.  The user then selects a reference list, adjusts parameters (calibration mode, detection range, width), and initiates the calibration process by clicking \"Calibrate\".  The process is monitored via the displayed chromatogram and the final calibration score is checked. All of these steps directly correspond to the procedures detailed in protocol 5.\n"
      ],
      "text/plain": [
       "<IPython.core.display.Markdown object>"
      ]
     },
     "metadata": {},
     "output_type": "display_data"
    },
    {
     "name": "stdout",
     "output_type": "stream",
     "text": [
      "{'matches': True, 'video': 'TimsCalibration_docuWrongOrderSteps.mov', 'expected_protocol': '5', 'found_protocol': '5'}\n",
      "Processing video: Dilute_docuWrongVolume_PipettTipNotChanged.MP4\n",
      "/Users/patriciaskowronek/Documents/documentation_agent_few_shot_examples/benchmark_dataset/documentation/Dilute_docuWrongVolume_PipettTipNotChanged.MP4\n"
     ]
    },
    {
     "data": {
      "text/markdown": [
       "Protocol number: 4"
      ],
      "text/plain": [
       "<IPython.core.display.Markdown object>"
      ]
     },
     "metadata": {},
     "output_type": "display_data"
    },
    {
     "name": "stdout",
     "output_type": "stream",
     "text": [
      "{'matches': True, 'video': 'Dilute_docuWrongVolume_PipettTipNotChanged.MP4', 'expected_protocol': '4', 'found_protocol': '4'}\n",
      "Processing video: DisconnectingColumn_docuCorrect.MP4\n",
      "/Users/patriciaskowronek/Documents/documentation_agent_few_shot_examples/benchmark_dataset/documentation/DisconnectingColumn_docuCorrect.MP4\n"
     ]
    },
    {
     "data": {
      "text/markdown": [
       "Protocol number: 6"
      ],
      "text/plain": [
       "<IPython.core.display.Markdown object>"
      ]
     },
     "metadata": {},
     "output_type": "display_data"
    },
    {
     "name": "stdout",
     "output_type": "stream",
     "text": [
      "{'matches': False, 'video': 'DisconnectingColumn_docuCorrect.MP4', 'expected_protocol': '3', 'found_protocol': '6'}\n",
      "Processing video: Pipette_docuFirstTwoWrongVolumneANDA2Twice.MP4\n",
      "/Users/patriciaskowronek/Documents/documentation_agent_few_shot_examples/benchmark_dataset/documentation/Pipette_docuFirstTwoWrongVolumneANDA2Twice.MP4\n"
     ]
    },
    {
     "data": {
      "text/markdown": [
       "Protocol number: 8"
      ],
      "text/plain": [
       "<IPython.core.display.Markdown object>"
      ]
     },
     "metadata": {},
     "output_type": "display_data"
    },
    {
     "name": "stdout",
     "output_type": "stream",
     "text": [
      "{'matches': True, 'video': 'Pipette_docuFirstTwoWrongVolumneANDA2Twice.MP4', 'expected_protocol': '8', 'found_protocol': '8'}\n",
      "Processing video: PlaceEvotips_docuWrongPosition.MP4\n",
      "/Users/patriciaskowronek/Documents/documentation_agent_few_shot_examples/benchmark_dataset/documentation/PlaceEvotips_docuWrongPosition.MP4\n"
     ]
    },
    {
     "data": {
      "text/markdown": [
       "Protocol number: 2"
      ],
      "text/plain": [
       "<IPython.core.display.Markdown object>"
      ]
     },
     "metadata": {},
     "output_type": "display_data"
    },
    {
     "name": "stdout",
     "output_type": "stream",
     "text": [
      "{'matches': True, 'video': 'PlaceEvotips_docuWrongPosition.MP4', 'expected_protocol': '2', 'found_protocol': '2'}\n",
      "Processing video: TimsCalibration_docuCorrect.mov\n",
      "/Users/patriciaskowronek/Documents/documentation_agent_few_shot_examples/benchmark_dataset/documentation/TimsCalibration_docuCorrect.mov\n"
     ]
    },
    {
     "data": {
      "text/markdown": [
       "Protocol number: 5"
      ],
      "text/plain": [
       "<IPython.core.display.Markdown object>"
      ]
     },
     "metadata": {},
     "output_type": "display_data"
    },
    {
     "name": "stdout",
     "output_type": "stream",
     "text": [
      "{'matches': True, 'video': 'TimsCalibration_docuCorrect.mov', 'expected_protocol': '5', 'found_protocol': '5'}\n",
      "Processing video: QueueSamples_docuWrongRow_S3A1Twice.mov\n",
      "/Users/patriciaskowronek/Documents/documentation_agent_few_shot_examples/benchmark_dataset/documentation/QueueSamples_docuWrongRow_S3A1Twice.mov\n"
     ]
    },
    {
     "data": {
      "text/markdown": [
       "Protocol number: 1"
      ],
      "text/plain": [
       "<IPython.core.display.Markdown object>"
      ]
     },
     "metadata": {},
     "output_type": "display_data"
    },
    {
     "name": "stdout",
     "output_type": "stream",
     "text": [
      "{'matches': True, 'video': 'QueueSamples_docuWrongRow_S3A1Twice.mov', 'expected_protocol': '1', 'found_protocol': '1'}\n",
      "Processing video: PlaceEvotips_docuCorrect.MP4\n",
      "/Users/patriciaskowronek/Documents/documentation_agent_few_shot_examples/benchmark_dataset/documentation/PlaceEvotips_docuCorrect.MP4\n"
     ]
    },
    {
     "data": {
      "text/markdown": [
       "Based on the video, the protocol being performed is **protocol number: 2**, \"Placing Evotips in Evotip Boxes on the Evosep One System\".  The video clearly shows a researcher preparing and placing Evotips into the designated boxes on the Evosep One system.  The actions align precisely with the steps described in protocol 2.\n"
      ],
      "text/plain": [
       "<IPython.core.display.Markdown object>"
      ]
     },
     "metadata": {},
     "output_type": "display_data"
    },
    {
     "name": "stdout",
     "output_type": "stream",
     "text": [
      "{'matches': True, 'video': 'PlaceEvotips_docuCorrect.MP4', 'expected_protocol': '2', 'found_protocol': '2'}\n",
      "Processing video: ESIsourceToUltraSource_docuCorrect.MP4\n",
      "/Users/patriciaskowronek/Documents/documentation_agent_few_shot_examples/benchmark_dataset/documentation/ESIsourceToUltraSource_docuCorrect.MP4\n"
     ]
    },
    {
     "data": {
      "text/markdown": [
       "Protocol number: 6"
      ],
      "text/plain": [
       "<IPython.core.display.Markdown object>"
      ]
     },
     "metadata": {},
     "output_type": "display_data"
    },
    {
     "name": "stdout",
     "output_type": "stream",
     "text": [
      "{'matches': False, 'video': 'ESIsourceToUltraSource_docuCorrect.MP4', 'expected_protocol': '9', 'found_protocol': '6'}\n",
      "Processing video: QueueSamples_docuEvotipNotAtPositionNoSampleID.mov\n",
      "/Users/patriciaskowronek/Documents/documentation_agent_few_shot_examples/benchmark_dataset/documentation/QueueSamples_docuEvotipNotAtPositionNoSampleID.mov\n"
     ]
    },
    {
     "data": {
      "text/markdown": [
       "Protocol number: 1"
      ],
      "text/plain": [
       "<IPython.core.display.Markdown object>"
      ]
     },
     "metadata": {},
     "output_type": "display_data"
    },
    {
     "name": "stdout",
     "output_type": "stream",
     "text": [
      "{'matches': True, 'video': 'QueueSamples_docuEvotipNotAtPositionNoSampleID.mov', 'expected_protocol': '1', 'found_protocol': '1'}\n",
      "Processing video: UltraSourceToESIsource_docuForgotCapillaryCap.MP4\n",
      "/Users/patriciaskowronek/Documents/documentation_agent_few_shot_examples/benchmark_dataset/documentation/UltraSourceToESIsource_docuForgotCapillaryCap.MP4\n"
     ]
    },
    {
     "data": {
      "text/markdown": [
       "Based on the video, the most appropriate protocol is **protocol number: 6**,  \"Connecting IonOpticks Column & sample line of Evosep\".\n",
       "\n",
       "The video clearly shows the process of connecting a sample line (likely from an Evosep system) to an IonOpticks column already installed in a timsTOF mass spectrometer's UltraSource.  The actions performed, including the use of a NanoViper adapter and careful handling of the connections, directly align with the steps outlined in protocol 6.\n"
      ],
      "text/plain": [
       "<IPython.core.display.Markdown object>"
      ]
     },
     "metadata": {},
     "output_type": "display_data"
    },
    {
     "name": "stdout",
     "output_type": "stream",
     "text": [
      "{'matches': False, 'video': 'UltraSourceToESIsource_docuForgotCapillaryCap.MP4', 'expected_protocol': '7', 'found_protocol': '6'}\n",
      "Processing video: PlaceEvotips_docuLiquidNotChecked.MP4\n",
      "/Users/patriciaskowronek/Documents/documentation_agent_few_shot_examples/benchmark_dataset/documentation/PlaceEvotips_docuLiquidNotChecked.MP4\n"
     ]
    },
    {
     "data": {
      "text/markdown": [
       "Protocol number: 2"
      ],
      "text/plain": [
       "<IPython.core.display.Markdown object>"
      ]
     },
     "metadata": {},
     "output_type": "display_data"
    },
    {
     "name": "stdout",
     "output_type": "stream",
     "text": [
      "{'matches': True, 'video': 'PlaceEvotips_docuLiquidNotChecked.MP4', 'expected_protocol': '2', 'found_protocol': '2'}\n",
      "Processing video: Evotip_docuWrongSpinInEvotipBox_wrongSpeed.MP4\n",
      "/Users/patriciaskowronek/Documents/documentation_agent_few_shot_examples/benchmark_dataset/documentation/Evotip_docuWrongSpinInEvotipBox_wrongSpeed.MP4\n"
     ]
    },
    {
     "data": {
      "text/markdown": [
       "Protocol number: 10"
      ],
      "text/plain": [
       "<IPython.core.display.Markdown object>"
      ]
     },
     "metadata": {},
     "output_type": "display_data"
    },
    {
     "name": "stdout",
     "output_type": "stream",
     "text": [
      "{'matches': True, 'video': 'Evotip_docuWrongSpinInEvotipBox_wrongSpeed.MP4', 'expected_protocol': '10', 'found_protocol': '10'}\n",
      "Success rate: 65.52%\n"
     ]
    }
   ],
   "source": [
    "system_prompt = [\"\"\"\n",
    "    You are Professor Matthias Mann, a pioneering scientist in proteomics and mass spectrometry.\n",
    "    Your task is to find the protocol that captures the step being performed in the video. \n",
    "    I will first provide you with the to analyze video and then with the selection of protocols.\n",
    "    \"\"\"]\n",
    "protocol_intro= [\"Protocols:\"]\n",
    "output_format = [\"Output: Number of protocol e.g. 'protocol number: 1'\"]\n",
    "\n",
    "csv_path = \"/Users/patriciaskowronek/Documents/documentation_agent_few_shot_examples/benchmark_dataset/Link_protocol_lab_video.csv\"\n",
    "\n",
    "validation_list = list()\n",
    "for video in video_parts: \n",
    "    print(f\"Processing video: {video}\")\n",
    "    video_path = video_parts[video][\"path\"]\n",
    "    order = [system_prompt, video_parts[video][\"part\"], protocol_intro, protocol_input, output_format ]\n",
    "    model_input = list()\n",
    "    for input in order:\n",
    "        model_input.extend(input)\n",
    "\n",
    "    result = identify_protocol_from_video(\n",
    "        model_input,\n",
    "        model_name=\"gemini-1.5-flash-002\", \n",
    "        temperature=0.9\n",
    "    )\n",
    "\n",
    "    # print(result[\"usage_metadata\"])\n",
    "    print(result[\"video_path\"])\n",
    "    display(result[\"markdown_observation\"]) \n",
    "\n",
    "    result_validation = validate_protocol_number(video_path, csv_path, result[\"observation\"])\n",
    "    print(result_validation)\n",
    "    validation_list.append(result_validation[\"matches\"])\n",
    "\n",
    "success_ratio = sum(validation_list) / len(validation_list) if len(validation_list) > 0 else 0\n",
    "print(f\"Success rate: {success_ratio:.2%}\")"
   ]
  },
  {
   "cell_type": "code",
   "execution_count": 20,
   "metadata": {},
   "outputs": [
    {
     "name": "stdout",
     "output_type": "stream",
     "text": [
      "Processing video: UltraSourceToESIsource_docuForgotN2Line.MP4\n",
      "/Users/patriciaskowronek/Documents/documentation_agent_few_shot_examples/benchmark_dataset/documentation/UltraSourceToESIsource_docuForgotN2Line.MP4\n"
     ]
    },
    {
     "data": {
      "text/markdown": [
       "Good day.  Professor Matthias Mann here.\n",
       "\n",
       "\n",
       "The video depicts a laboratory procedure involving the connection and disconnection of components within a mass spectrometry workflow, specifically focusing on a Bruker timsTOF mass spectrometer coupled with an Evosep One liquid chromatography system.\n",
       "\n",
       "\n",
       "The video begins with a view of the assembled system, showing the timsTOF (the black and blue mass spectrometer), the Evosep One (the orange and grey liquid chromatography system), and associated computer monitors displaying software interfaces (likely HyStar and timsControl).\n",
       "\n",
       "\n",
       "The first part of the video shows the removal of a component from the timsTOF, which appears to be the nano-electrospray source. The person carefully disconnects a capillary tube and then physically removes the part. They then move to a separate bench, putting on gloves before cleaning the component.\n",
       "\n",
       "\n",
       "The next step shows the replacement of the removed component (the nano-electrospray source) back into the timsTOF, which is now shown to be in standby mode. The person carefully lines up the component and ensures a proper connection.  The use of gloves and attention to detail indicate a careful approach to prevent contamination or damage.\n",
       "\n",
       "\n",
       "The final part involves utilizing a syringe to introduce liquid (likely calibration solution or cleaning solution) into the mass spectrometer.  This is done with precision and care inside a fume hood or a safety enclosure to handle potentially volatile solvents.\n",
       "\n",
       "\n",
       "Based on my extensive experience in proteomics and mass spectrometry, the video demonstrates the procedure of removing and reattaching a nano-electrospray source on a Bruker timsTOF coupled with an Evosep system. This procedure is a crucial aspect of maintaining the instrument and ensuring accurate measurements.\n",
       "\n",
       "**protocol number: 6**\n"
      ],
      "text/plain": [
       "<IPython.core.display.Markdown object>"
      ]
     },
     "metadata": {},
     "output_type": "display_data"
    },
    {
     "name": "stdout",
     "output_type": "stream",
     "text": [
      "{'matches': False, 'video': 'UltraSourceToESIsource_docuForgotN2Line.MP4', 'expected_protocol': '7', 'found_protocol': '6'}\n",
      "Processing video: TimsCalibration_docuCorrect_camera.MP4\n",
      "/Users/patriciaskowronek/Documents/documentation_agent_few_shot_examples/benchmark_dataset/documentation/TimsCalibration_docuCorrect_camera.MP4\n"
     ]
    },
    {
     "data": {
      "text/markdown": [
       "As Professor Matthias Mann, I have reviewed the provided video. The video shows a computer screen displaying the Bruker HyStar software.  The software is actively monitoring a mass spectrometry experiment, specifically what appears to be a liquid chromatography-mass spectrometry (LC-MS) run.  The display shows a chromatogram, a total ion chromatogram (TIC) that is tracking the total ion intensity over time, indicating the separation process is ongoing and that peptides or other analytes are eluting from the LC column. There is also a table of detected peaks with their respective mass-to-charge ratios (m/z), retention times, and intensities. The data suggests a data-dependent acquisition (DDA) or data-independent acquisition (DIA) method is being used, allowing for the identification and quantification of peptides or other molecules in the sample.\n",
       "\n",
       "The software interface shows parameters such as scan range, ion mobility settings, and other instrument settings, all typical for a high-resolution mass spectrometry experiment. The video doesn't show any physical manipulation of equipment but instead focuses on the data acquisition and analysis phase of the experiment.  The parameters being adjusted on screen seem related to the optimization of the data acquisition process. The user is actively monitoring the instrument's performance, indicating a step in the experiment where the researcher is verifying the quality of the data acquisition in real-time.\n",
       "\n",
       "Based on my expertise in proteomics and mass spectrometry, I believe the procedure shown is most likely the **data acquisition and monitoring stage of an LC-MS experiment** using the HyStar software for control and data analysis.  No sample handling or equipment changes are visible in this video; instead, it shows the software display during a live experiment.\n",
       "\n",
       "\n",
       "**Protocol number: 1**\n"
      ],
      "text/plain": [
       "<IPython.core.display.Markdown object>"
      ]
     },
     "metadata": {},
     "output_type": "display_data"
    },
    {
     "name": "stdout",
     "output_type": "stream",
     "text": [
      "{'matches': False, 'video': 'TimsCalibration_docuCorrect_camera.MP4', 'expected_protocol': '5', 'found_protocol': '1'}\n",
      "Processing video: TimsCalibration_docuNotAllClicksVisibleOnVideo.MP4\n",
      "/Users/patriciaskowronek/Documents/documentation_agent_few_shot_examples/benchmark_dataset/documentation/TimsCalibration_docuNotAllClicksVisibleOnVideo.MP4\n"
     ]
    },
    {
     "data": {
      "text/markdown": [
       "The video shows a computer screen displaying data analysis software, likely from a mass spectrometry experiment.  The software interface shows several panels. The prominent panel displays a chromatogram, a typical output from liquid chromatography (LC), showing peaks representing separated components over time.  The x-axis represents retention time, and the y-axis represents signal intensity (likely total ion current, TIC).  The peaks are labeled with m/z values, indicating the mass-to-charge ratio of detected ions.  Another panel shows an ion mobility separation plot, which is a characteristic feature of trapped ion mobility spectrometry (TIMS). The displayed data includes a series of peaks corresponding to different molecules. This strongly suggests that the experiment involves LC-MS/MS analysis, and this stage of the experiment is data analysis, specifically reviewing the results of a mass spectrometry run.\n",
       "\n",
       "\n",
       "Another panel shows a table listing identified peptides or proteins, complete with retention time, intensity data and potentially other information such as charge states. This is a typical result of a proteomics experiment where the software is matching the detected masses to a protein database.  The software appears to be Bruker's HyStar software, commonly used in conjunction with Bruker timsTOF mass spectrometers and Evosep liquid chromatography systems. The presence of a \"Calibration\" tab and associated metrics hints that the operator may be assessing the instrument's performance or reviewing a calibration procedure. Finally, the software displays messages related to potential data processing issues, suggesting a need for operator attention and intervention during data analysis.\n",
       "\n",
       "\n",
       "Based on this observation, the most likely protocol is **protocol number: 1 (QueueSamples_protocolCorrect.md)**.  While the video shows data analysis, this protocol is the only one that covers the complete workflow, including the sample queuing and measurement process that generates the data being analyzed on the screen. The other protocols deal with more specific aspects of the sample preparation or instrument setup and maintenance, which are not the focus of the displayed video. The chromatogram and the listed peptides/proteins are the direct result of the procedure outlined in protocol 1.\n",
       "\n",
       "\n",
       "\n"
      ],
      "text/plain": [
       "<IPython.core.display.Markdown object>"
      ]
     },
     "metadata": {},
     "output_type": "display_data"
    },
    {
     "name": "stdout",
     "output_type": "stream",
     "text": [
      "{'matches': False, 'video': 'TimsCalibration_docuNotAllClicksVisibleOnVideo.MP4', 'expected_protocol': '5', 'found_protocol': '1'}\n",
      "Processing video: PlaceEvotips_docuBoxAngeled.MP4\n",
      "/Users/patriciaskowronek/Documents/documentation_agent_few_shot_examples/benchmark_dataset/documentation/PlaceEvotips_docuBoxAngeled.MP4\n"
     ]
    },
    {
     "data": {
      "text/markdown": [
       "Good day.  Professor Matthias Mann here. Let's analyze this video.\n",
       "\n",
       "The video depicts a laboratory procedure involving the preparation and loading of samples onto an Evosep One liquid chromatography system coupled to a Bruker timsTOF mass spectrometer.\n",
       "\n",
       "**Observations:**\n",
       "\n",
       "The central piece of equipment is the Evosep One, clearly visible with its orange base and multiple slots designed for sample containers.  These slots are labeled S1 through S6, suggesting multiple sample positions.  A clear acrylic shield protects the sample area. The video shows two yellow 96-well Evotip boxes being placed on the Evosep One. These boxes contain Evotips, which are specialized pipette tips used for sample preparation and injection in proteomics experiments.  The person handling the Evotips is wearing black nitrile gloves, adhering to standard laboratory safety protocols.\n",
       "\n",
       "The procedure shown focuses on the manual placement of Evotips into the Evosep's designated slots.  The individual carefully selects individual Evotips from a separate 96-well box using fine-tipped forceps and places them in the appropriate positions within the Evotip boxes already situated on the Evosep One.  Precise placement is emphasized; the positioning of the Evotips is carefully considered.\n",
       "\n",
       "The background shows other standard laboratory equipment, including a microscope and additional laboratory instruments, consistent with a proteomics laboratory environment. The video also shows a small container with handwritten labels, suggesting manual sample tracking.\n",
       "\n",
       "The overall procedure is akin to preparing a sample queue for automated LC-MS analysis. The meticulous handling and attention to detail suggest an emphasis on minimizing contamination and ensuring the accuracy and reproducibility of the subsequent mass spectrometry experiment.\n",
       "\n",
       "\n",
       "**Protocol Selection:**\n",
       "\n",
       "\n",
       "Based on my analysis, protocol number **2**, \"Placing Evotips in Evotip Boxes on the Evosep One System,\" most accurately describes the procedure being demonstrated in the video. The video clearly shows the careful placement of Evotips into the Evotip boxes on the Evosep One system.  Protocol 1 describes queuing samples in HyStar software which is a downstream step that would follow the sample loading.\n",
       "\n",
       "**Output:**\n",
       "\n",
       "protocol number: 2\n"
      ],
      "text/plain": [
       "<IPython.core.display.Markdown object>"
      ]
     },
     "metadata": {},
     "output_type": "display_data"
    },
    {
     "name": "stdout",
     "output_type": "stream",
     "text": [
      "{'matches': True, 'video': 'PlaceEvotips_docuBoxAngeled.MP4', 'expected_protocol': '2', 'found_protocol': '2'}\n",
      "Processing video: UltraSourceToESIsource_docuForgotGlovesANDCapillaryCap.MP4\n",
      "/Users/patriciaskowronek/Documents/documentation_agent_few_shot_examples/benchmark_dataset/documentation/UltraSourceToESIsource_docuForgotGlovesANDCapillaryCap.MP4\n"
     ]
    },
    {
     "data": {
      "text/markdown": [
       "Good morning.  As Professor Matthias Mann, I have reviewed the video depicting a laboratory procedure.\n",
       "\n",
       "The video shows a person interacting with a Bruker timsTOF mass spectrometer. The initial focus is on the instrument’s source region.  The person carefully removes a small, black, dome-shaped component from the source. This appears to be the CaptiveSpray source housing.  The removal is done methodically, suggesting a deliberate procedure rather than a casual inspection.  The person then handles a small metallic component, seemingly a part of the source interface, likely a fitting or cap.  They carefully clean the interface on the timsTOF, suggesting a need for cleanliness before reassembly.  A syringe is then shown, and the person carefully fills it from a solvent reservoir inside what looks like a fume hood or safety cabinet.  The syringe appears to be designed for precise fluid delivery, appropriate for mass spectrometry applications. Finally, the individual reassembles the CaptiveSpray housing onto the instrument and inserts the syringe's needle into the appropriate port. The procedure is completed with the person checking the software interface, likely to confirm the proper connection and instrument readiness.  Throughout the process, the focus remains on precision and avoidance of contamination. The overall impression is that the procedure involves the preparation and connection of the CaptiveSpray source for a mass spectrometry analysis.  The presence of multiple pieces of equipment, including an Evosep One LC system and two computer monitors displaying what looks like mass spectrometry data acquisition software (likely HyStar and timsControl), points toward a high-throughput proteomics workflow.\n",
       "\n",
       "\n",
       "Based on this observation, the protocol that best describes the step being performed in the video is **protocol number: 6**. This protocol details the process of connecting an IonOpticks column and the sample line of an Evosep to the UltraSource of a timsTOF mass spectrometer.  The actions performed in the video directly correlate to the steps outlined in protocol 6, particularly the careful handling of the CaptiveSpray source, the use of a syringe to introduce solvents, and the emphasis on a clean and precise connection. The other protocols, while related to the broader mass spectrometry workflow, do not accurately reflect the specific actions shown in the video.\n",
       "\n"
      ],
      "text/plain": [
       "<IPython.core.display.Markdown object>"
      ]
     },
     "metadata": {},
     "output_type": "display_data"
    },
    {
     "name": "stdout",
     "output_type": "stream",
     "text": [
      "{'matches': False, 'video': 'UltraSourceToESIsource_docuForgotGlovesANDCapillaryCap.MP4', 'expected_protocol': '7', 'found_protocol': '6'}\n",
      "Processing video: QueueSamples_docuCorrect_1.mov\n",
      "/Users/patriciaskowronek/Documents/documentation_agent_few_shot_examples/benchmark_dataset/documentation/QueueSamples_docuCorrect_1.mov\n"
     ]
    },
    {
     "data": {
      "text/markdown": [
       "As Professor Matthias Mann, I have reviewed the provided video.  The video shows a software interface, specifically what appears to be the Bruker HyStar software used to control an Evosep One liquid chromatography system coupled to a timsTOF mass spectrometer.\n",
       "\n",
       "The video demonstrates the process of setting up a sample queue for LC-MS analysis.  No physical manipulation of samples or equipment is visible; the entire procedure is conducted within the software.  The steps shown include:\n",
       "\n",
       "1. **Sample Table Review/Creation:** The video begins with a pre-existing sample table displayed. The table shows various samples (identified by names and IDs) and their designated positions on the Evosep system (indicated by \"vial\" designations like S1-A1). There are also blank samples included. \n",
       "\n",
       "2. **Sample Queue Modification:**  The user modifies this existing sample table, potentially adding or adjusting sample IDs, locations, and associated methods (dda-PASEF, dia-PASEF, and blanks).  The video shows the user making adjustments to the sample positions in the queue.\n",
       "\n",
       "3. **Method Selection:** The sample table includes columns specifying the separation and MS methods to be used for each sample.\n",
       "\n",
       "4. **Tray Configuration:** The user accesses and verifies the tray configuration settings within the software, specifically confirming the Evotip tray type and the auto-completion settings for well positions.\n",
       "\n",
       "5. **Sample Queue Upload:**  The video shows the user uploading the modified sample queue (after saving it). The status of the entries shifts to \"Loaded.\"\n",
       "\n",
       "6. **Sequence Initiation:** Finally, the video shows the user initiating the analysis by starting the sequence within HyStar.  The chromatogram display shows a live update of the ongoing acquisition.\n",
       "\n",
       "7. **Additional observation:** The software shows that the TIMS device has been calibrated prior to the initiation of the measurement sequence.\n",
       "\n",
       "Based on this observation, **protocol number: 1** (\"Queue and measure samples in HyStar\") is the most accurate description of the laboratory procedure shown in the video.  The video does not depict any of the steps from protocols 2 through 10.\n",
       "\n",
       "**Output:** protocol number: 1\n"
      ],
      "text/plain": [
       "<IPython.core.display.Markdown object>"
      ]
     },
     "metadata": {},
     "output_type": "display_data"
    },
    {
     "name": "stdout",
     "output_type": "stream",
     "text": [
      "{'matches': True, 'video': 'QueueSamples_docuCorrect_1.mov', 'expected_protocol': '1', 'found_protocol': '1'}\n",
      "Processing video: QueueSamples_docuNoBlankNoSampleIDWrongMSmethod.mov\n",
      "/Users/patriciaskowronek/Documents/documentation_agent_few_shot_examples/benchmark_dataset/documentation/QueueSamples_docuNoBlankNoSampleIDWrongMSmethod.mov\n"
     ]
    },
    {
     "data": {
      "text/markdown": [
       "The video shows a computer screen displaying the HyStar software interface.  The interface shows a sample table with numerous entries, each representing a sample to be analyzed by liquid chromatography-mass spectrometry (LC-MS).  The columns in the table include sample ID, vial location (Evotip position on the instrument), data path, separation method, and MS method. A graph at the bottom displays a real-time signal representing the total ion current (TIC) from the mass spectrometer.\n",
       "\n",
       "The user is manually editing the sample table.  Specific actions include:\n",
       "\n",
       "* **Adding new samples to the queue:** The user adds several samples by inputting sample IDs and their corresponding locations in the sample tray (\"vial\" column). The samples appear to be 5 nanogram HeLa cell lysates and blanks. The sample IDs are systematically generated, incorporating date, instrument identifier, user initials, sample type, project ID, and sample name (e.g., `20241026_timsTOF_PM_MA_HeLa_4507_A1`).\n",
       "\n",
       "* **Modifying existing samples:** The user adjusts the sample order and possibly other parameters.\n",
       "\n",
       "* **Configuring the Autocompletion Settings:** The user accesses and modifies the settings for auto-filling vial positions in the sample table, ensuring proper sequencing of samples from the Evotip boxes.\n",
       "\n",
       "* **Checking Method Loading:** The user uploads the sample conditions to verify that the specified LC and MS methods are correctly loaded for each sample.\n",
       "\n",
       "* **Starting the Sequence:** After making all the changes and verifying the sample table, the user initiates the LC-MS analysis by clicking the \"Start\" and \"Start Sequence\" buttons.\n",
       "\n",
       "The procedure being demonstrated is the **queueing of samples for LC-MS analysis** using the HyStar software.  No physical handling of samples or equipment is visible; only the software interface and its controls are shown.  The procedure utilizes the automated sample handling capabilities of the Evosep One LC system, integrated with a mass spectrometer. The user's actions suggest that the samples have already been prepared and loaded onto Evotips.\n",
       "\n",
       "\n",
       "Protocol number: 1\n"
      ],
      "text/plain": [
       "<IPython.core.display.Markdown object>"
      ]
     },
     "metadata": {},
     "output_type": "display_data"
    },
    {
     "name": "stdout",
     "output_type": "stream",
     "text": [
      "{'matches': True, 'video': 'QueueSamples_docuNoBlankNoSampleIDWrongMSmethod.mov', 'expected_protocol': '1', 'found_protocol': '1'}\n",
      "Processing video: UltraSourceToESIsource_docuCorrect.MP4\n",
      "/Users/patriciaskowronek/Documents/documentation_agent_few_shot_examples/benchmark_dataset/documentation/UltraSourceToESIsource_docuCorrect.MP4\n"
     ]
    },
    {
     "data": {
      "text/markdown": [
       "As Professor Matthias Mann, I have reviewed the video.  The video shows a laboratory procedure involving a Bruker timsTOF SCP mass spectrometer coupled with an Evosep One liquid chromatography system.  The procedure focuses on the connection and disconnection of the nanoelectrospray ionization (nanoESI) source, specifically the capillary used for sample introduction in the timsTOF.\n",
       "\n",
       "The video begins with a wide shot of the laboratory setup, showing the timsTOF, the Evosep One with its sample racks (containing Evotips), and computer monitors displaying the HyStar and timsControl software interfaces.  These interfaces display chromatograms and mass spectrometry data, indicative of ongoing or recently completed proteomics experiments.\n",
       "\n",
       "A person, wearing first a red sweater and later black nitrile gloves, is shown performing the following actions:\n",
       "\n",
       "1. **Disconnecting the capillary:** The individual carefully removes a metal component from the timsTOF's source housing using their hands.  This appears to be a part of the nanoESI source assembly.  There is a slight adjustment made to a small tube before the main removal.\n",
       "\n",
       "2. **Cleaning (implied):**  The removed component is taken to a separate area of the lab, possibly for cleaning, although this step isn't explicitly shown.\n",
       "\n",
       "3. **Reconnecting the capillary:** After the implied cleaning, the person returns the metal component to the timsTOF, making sure it is properly seated.\n",
       "\n",
       "4. **Capillary alignment (implied):** Some fine adjustment steps are made to ensure proper alignment of the nanoESI capillary with the mass spectrometer's inlet, but again, the details of this are not fully clear without a closer view.\n",
       "\n",
       "5. **Final checks (implied):**  The individual makes further manipulations to tubing and connectors, suggesting final connection checks and preparations for operation. At the end of the video a long thin object is shown and the individual uses it to possibly check a different part of the device.\n",
       "\n",
       "\n",
       "The equipment used includes:\n",
       "\n",
       "* Bruker timsTOF SCP mass spectrometer\n",
       "* Evosep One liquid chromatography system with Evotips and racks.\n",
       "* Computer workstation with HyStar and timsControl software.\n",
       "* Nitrile gloves\n",
       "* Various tools (pliers, small screwdriver)\n",
       "* possibly a cleaning solution (not clearly shown)\n",
       "\n",
       "The overall technique is consistent with routine maintenance or sample preparation steps within a proteomics laboratory utilizing high-end mass spectrometry and liquid chromatography technologies.  The specific procedure seems to center around the careful handling and connection of a nanoESI source, a critical component for ensuring the quality and reproducibility of mass spectrometry-based proteomics experiments.\n",
       "\n",
       "\n",
       "Based on my extensive experience, the protocol that best matches the actions in the video is **protocol number: 6**. The video shows the disconnection and reconnection of the IonOpticks column and the Evosep sample line to the timsTOF Ultra mass spectrometer.  The steps shown are very much in line with the detailed instructions provided in protocol number 6.\n",
       "\n",
       "Output: protocol number: 6\n",
       "\n"
      ],
      "text/plain": [
       "<IPython.core.display.Markdown object>"
      ]
     },
     "metadata": {},
     "output_type": "display_data"
    },
    {
     "name": "stdout",
     "output_type": "stream",
     "text": [
      "{'matches': False, 'video': 'UltraSourceToESIsource_docuCorrect.MP4', 'expected_protocol': '7', 'found_protocol': '6'}\n",
      "Processing video: DisconnectingColumn_docuWithoutStandby_1.MP4\n",
      "/Users/patriciaskowronek/Documents/documentation_agent_few_shot_examples/benchmark_dataset/documentation/DisconnectingColumn_docuWithoutStandby_1.MP4\n"
     ]
    },
    {
     "data": {
      "text/markdown": [
       "As Professor Matthias Mann, I have reviewed the provided video. The video shows a laboratory procedure involving the connection and disconnection of a nanoViper capillary to an IonOpticks column, which is integrated into a Bruker timsTOF mass spectrometer.  The process is performed on an Evosep One liquid chromatography system.  The video begins with the capillary already connected; a person carefully disconnects it using small pliers. The disconnected capillary is then placed in a nearby container.  The person then connects the capillary to the column using similar caution, ensuring a secure connection. The entire procedure demonstrates meticulous attention to detail and precision, which is crucial for maintaining the integrity of the nano-scale liquid chromatography system and preventing damage to the delicate components.\n",
       "\n",
       "\n",
       "Based on my analysis of the video and comparing it to the provided protocols, the most accurate description is **protocol number: 6**. This protocol, titled \"Connecting IonOpticks Column & sample line of Evosep,\" precisely matches the steps shown in the video:  the use of pliers, the NanoViper adapter, the connection to the IonOpticks column within the timsTOF Ultra, and the overall aim of connecting the LC sample line to the column.  Other protocols describe different procedures like sample queuing, calibrating the TIMS device, or general pipetting techniques. While some equipment overlaps, the actions and focus of the video are clearly aligned with protocol 6.\n"
      ],
      "text/plain": [
       "<IPython.core.display.Markdown object>"
      ]
     },
     "metadata": {},
     "output_type": "display_data"
    },
    {
     "name": "stdout",
     "output_type": "stream",
     "text": [
      "{'matches': False, 'video': 'DisconnectingColumn_docuWithoutStandby_1.MP4', 'expected_protocol': '3', 'found_protocol': '6'}\n",
      "Processing video: QueueSamples_docuDiffSampleNameAndEvotipNotAtPosition.mov\n",
      "/Users/patriciaskowronek/Documents/documentation_agent_few_shot_examples/benchmark_dataset/documentation/QueueSamples_docuDiffSampleNameAndEvotipNotAtPosition.mov\n"
     ]
    },
    {
     "data": {
      "text/markdown": [
       "As Professor Matthias Mann, I have reviewed the provided video.  The video shows a computer screen displaying the HyStar software interface, specifically the \"Sample Table\" for an Evosep One LC system coupled to a timsTOF mass spectrometer.\n",
       "\n",
       "The video demonstrates the process of queuing samples for LC-MS analysis. The user has already physically placed Evotips (presumably containing prepared protein samples) into the Evosep's sample tray. The positions of these Evotips (S1, A1-A6; S3, A1-A6) are indicated on-screen.  The video shows the user then inputting this sample information into the HyStar software, specifying the sample IDs, file paths, separation method (which appears to be a standard method), and MS method (which includes both dda-PASEF and dia-PASEF methods, suggesting a quality control strategy). The user also configures the auto-completion settings to match the Evotip tray layout. Lastly, the user uploads the sample conditions and initiates the measurement sequence by pressing \"Start\" and \"Start Sequence.\" The chromatogram in the lower panel shows a trace consistent with a successful LC-MS run. The entire procedure is carried out within the HyStar software environment, indicating that the instrument has already been calibrated and is ready for sample analysis.\n",
       "\n",
       "Based on my extensive experience in proteomics and mass spectrometry, and after careful examination of the video, the protocol that most accurately describes the demonstrated procedure is **Protocol number: 1**. This protocol details the steps involved in queuing samples for measurement in HyStar, including prerequisites such as sample preparation and TIMS calibration, which are mentioned as being completed prior to the start of the video.  The specific details of sample ID naming, method selection (standard separation and dda/dia-PASEF MS methods), auto-completion configuration, and the final steps of uploading conditions and starting acquisition all precisely match the actions observed in the video.\n",
       "\n",
       "\n"
      ],
      "text/plain": [
       "<IPython.core.display.Markdown object>"
      ]
     },
     "metadata": {},
     "output_type": "display_data"
    },
    {
     "name": "stdout",
     "output_type": "stream",
     "text": [
      "{'matches': True, 'video': 'QueueSamples_docuDiffSampleNameAndEvotipNotAtPosition.mov', 'expected_protocol': '1', 'found_protocol': '1'}\n",
      "Processing video: Pipette_ducoBufferBInsteadBufferA.MP4\n",
      "/Users/patriciaskowronek/Documents/documentation_agent_few_shot_examples/benchmark_dataset/documentation/Pipette_ducoBufferBInsteadBufferA.MP4\n"
     ]
    },
    {
     "data": {
      "text/markdown": [
       "As Professor Matthias Mann, I have reviewed the provided video. The video shows a scientist performing a liquid handling procedure in a laboratory setting. \n",
       "\n",
       "\n",
       "Here's a detailed description of my observations:\n",
       "\n",
       "The video depicts a person wearing black nitrile gloves performing a pipetting task. The equipment visible includes:\n",
       "\n",
       "*   A multichannel pipette (likely a 20 µL setting, judging by the verbal description): This is the central instrument used to transfer liquids.\n",
       "*   Two small, clear glass bottles with blue screw caps: These appear to contain the liquids being pipetted, labeled \"Buffer A\".\n",
       "*   A 96-well PCR plate: This is the recipient of the liquid being transferred. The plate is held in the scientist's hand during the pipetting process.\n",
       "*   A box containing yellow pipette tips: These are single-use tips for the pipette, ensuring sterility and preventing cross-contamination.\n",
       "*   Other lab equipment is visible, including test tube racks, additional containers (possibly more reagents), and labeled boxes, indicating a well-organized workstation.  There's also a waste container visible.\n",
       "\n",
       "\n",
       "The actions shown are consistent with liquid handling in a 96-well plate. The scientist appears to be carefully aspirating a specific volume (20 µL) of Buffer A from one of the bottles and dispensing it into each well of the plate, seemingly from A1 to A12. The process is methodical and precise, indicative of a standard laboratory technique. The use of the multichannel pipette suggests that multiple samples are being handled simultaneously.  The overall process takes about 30 seconds.\n",
       "\n",
       "\n",
       "Based on my extensive proteomics and mass spectrometry experience, the procedure demonstrated in the video is most accurately described by **protocol number: 8**.  The specific volume (20 µL), type of plate (PCR plate), and reagent (Buffer A) are all consistent with the stated protocol, which describes how to dispense 20 µL of Buffer A into consecutive wells (A1 to A12) of a PCR plate."
      ],
      "text/plain": [
       "<IPython.core.display.Markdown object>"
      ]
     },
     "metadata": {},
     "output_type": "display_data"
    },
    {
     "name": "stdout",
     "output_type": "stream",
     "text": [
      "{'matches': True, 'video': 'Pipette_ducoBufferBInsteadBufferA.MP4', 'expected_protocol': '8', 'found_protocol': '8'}\n",
      "Processing video: ESIsourceToUltraSource_docuFogotOvenPowerSupply.MP4\n",
      "/Users/patriciaskowronek/Documents/documentation_agent_few_shot_examples/benchmark_dataset/documentation/ESIsourceToUltraSource_docuFogotOvenPowerSupply.MP4\n"
     ]
    },
    {
     "data": {
      "text/markdown": [
       "As Professor Matthias Mann, I have reviewed the provided video. The video shows a laboratory procedure involving a Bruker timsTOF mass spectrometer.  The procedure focuses on the connection and disconnection of a capillary and sample line from the instrument's UltraSource.\n",
       "\n",
       "Specifically, the video demonstrates the following:\n",
       "\n",
       "* **Equipment:** A Bruker timsTOF SCP mass spectrometer with an UltraSource, an Evosep One LC system (partially visible), a computer running HyStar and timsControl software,  various small tools including pliers, and a waste container.\n",
       "\n",
       "* **Actions Performed:** A gloved individual performs a series of actions focused on the UltraSource.  These actions include:\n",
       "    * Disconnecting a capillary from the UltraSource. This involves careful manipulation to avoid damage.\n",
       "    * Removing a component (possibly a NanoViper adapter) from the sample line.\n",
       "    * Removing a small metal component from the UltraSource area.\n",
       "    * Reconnecting the capillary to the UltraSource using pliers for precise positioning and secure tightening. The process emphasizes careful handling of the delicate capillary and connections.\n",
       "    * The video shows the connection between the capillary and the instrument's inlet.\n",
       "    * The actions suggest a routine maintenance or sample preparation step that requires precision to ensure proper functionality and prevent damage to the expensive equipment.\n",
       "\n",
       "* **Materials Handled:** The primary materials are the capillary tubing and several small metal parts belonging to the UltraSource.  The use of gloves highlights the importance of maintaining cleanliness and minimizing contamination of the equipment and samples.\n",
       "\n",
       "* **Notable Techniques:** The technician demonstrates careful and precise manipulation of the components, suggesting experience with the equipment. The use of pliers demonstrates a need for controlled force and precise alignment during the connection and disconnection steps.   Cleanliness and prevention of contamination are also implicit given the use of gloves.\n",
       "\n",
       "\n",
       "Based on my analysis, the video accurately describes the procedure outlined in **protocol number: 6, `ConnectingColumnSampleLine_protocolCorrect.md`**.  The steps of connecting the IonOpticks column and sample line to the timsTOF's UltraSource, using the NanoViper adapter and pliers, are precisely what is shown in the video.  The emphasis on careful handling and the tools used perfectly match the visual evidence.  Other protocols deal with unrelated aspects of the workflow, such as sample queuing or TIMS calibration.\n"
      ],
      "text/plain": [
       "<IPython.core.display.Markdown object>"
      ]
     },
     "metadata": {},
     "output_type": "display_data"
    },
    {
     "name": "stdout",
     "output_type": "stream",
     "text": [
      "{'matches': False, 'video': 'ESIsourceToUltraSource_docuFogotOvenPowerSupply.MP4', 'expected_protocol': '9', 'found_protocol': '6'}\n",
      "Processing video: Pipette_docu_WrongRowB_B10Twice_B11LeftOut.MP4\n",
      "/Users/patriciaskowronek/Documents/documentation_agent_few_shot_examples/benchmark_dataset/documentation/Pipette_docu_WrongRowB_B10Twice_B11LeftOut.MP4\n"
     ]
    },
    {
     "data": {
      "text/markdown": [
       "As Professor Matthias Mann, I have reviewed the provided video. The video shows a person wearing black nitrile gloves performing a liquid handling procedure. \n",
       "\n",
       "\n",
       "The lab bench is equipped with:\n",
       "\n",
       "\n",
       "*   A multichannel pipette.\n",
       "*   Single channel pipettes.\n",
       "*   A 96-well PCR plate.\n",
       "*   Two small glass reagent bottles labeled \"Buffer A\".\n",
       "*   A box of yellow-tipped pipette tips.\n",
       "*   Several other containers (possibly containing additional reagents), test tubes, and other standard laboratory equipment.\n",
       "*   A waste container.\n",
       "\n",
       "\n",
       "The procedure involves the following steps:\n",
       "\n",
       "\n",
       "1.  The person selects a multichannel pipette and sets the volume.\n",
       "2.  They open one of the Buffer A bottles.\n",
       "3.  They aspirate Buffer A into the pipette.\n",
       "4.  They dispense 20 µl of Buffer A into each well of the 96 well plate, from A1 to A12, using the multichannel pipette.\n",
       "5.  They repeat the aspiration and dispensing steps, likely to fill more wells in the plate or repeat the procedure for the other rows of the plate.\n",
       "\n",
       "\n",
       "The technique is a standard multichannel pipetting procedure used in many high-throughput applications in proteomics and other areas of biological research. The use of a multichannel pipette significantly speeds up the process of dispensing equal volumes of liquid into multiple wells.\n",
       "\n",
       "\n",
       "Considering the various protocols provided, the procedure most accurately aligns with **protocol number: 8**.  This protocol explicitly details the steps of pipetting a specific volume (20 µl) of Buffer A into multiple wells (A1-A12) of a PCR plate.  The other protocols describe different laboratory procedures like sample queuing, Evotip handling, column connections, calibrations, and dilutions.  They do not match the actions observed in the video.\n",
       "\n",
       "Output: Protocol number: 8\n"
      ],
      "text/plain": [
       "<IPython.core.display.Markdown object>"
      ]
     },
     "metadata": {},
     "output_type": "display_data"
    },
    {
     "name": "stdout",
     "output_type": "stream",
     "text": [
      "{'matches': True, 'video': 'Pipette_docu_WrongRowB_B10Twice_B11LeftOut.MP4', 'expected_protocol': '8', 'found_protocol': '8'}\n",
      "Processing video: ConnectingColumnSampleLine_docuWithoutStandbyANDtimsControl.mp4\n",
      "/Users/patriciaskowronek/Documents/documentation_agent_few_shot_examples/benchmark_dataset/documentation/ConnectingColumnSampleLine_docuWithoutStandbyANDtimsControl.mp4\n"
     ]
    },
    {
     "data": {
      "text/markdown": [
       "As Professor Matthias Mann, I have reviewed the provided video.  The video depicts a laboratory technician performing the procedure of connecting an IonOpticks column, already installed in the UltraSource of a Bruker timsTOF mass spectrometer, to the sample line of an Evosep One liquid chromatography system.\n",
       "\n",
       "The video shows a person wearing black nitrile gloves carefully manipulating a nanoViper connector and an IonOpticks column using needle-nose pliers. The equipment includes a Bruker timsTOF SCP mass spectrometer with its UltraSource, an Evosep One LC system, a NanoViper adapter, and needle-nose pliers.  The technician initially inspects a nanoViper-equipped sample line before carefully connecting it to the column fitting.  The connection is secured, and the technician then manually tightens the connection with the pliers.  The process is precise and demonstrates a clear understanding of the equipment's delicate nature. The video ends with the connection being secured.\n",
       "\n",
       "Based on my extensive experience with mass spectrometry and proteomics workflows, this procedure aligns precisely with the protocol for connecting a column to the sample line. The use of the NanoViper adapter, the care in handling the delicate components, and the final secure connection all point to this conclusion.\n",
       "\n",
       "\n",
       "Output: protocol number: 6"
      ],
      "text/plain": [
       "<IPython.core.display.Markdown object>"
      ]
     },
     "metadata": {},
     "output_type": "display_data"
    },
    {
     "name": "stdout",
     "output_type": "stream",
     "text": [
      "{'matches': True, 'video': 'ConnectingColumnSampleLine_docuWithoutStandbyANDtimsControl.mp4', 'expected_protocol': '6', 'found_protocol': '6'}\n",
      "Processing video: TimsCalibration_docuSavedMethod.mov\n",
      "/Users/patriciaskowronek/Documents/documentation_agent_few_shot_examples/benchmark_dataset/documentation/TimsCalibration_docuSavedMethod.mov\n"
     ]
    },
    {
     "data": {
      "text/markdown": [
       "As Professor Matthias Mann, I have reviewed the provided video. The video shows a computer screen displaying the Bruker timsControl software interface.  The software is actively displaying data related to a mass spectrometry experiment, specifically focusing on ion mobility spectrometry (IMS) calibration.\n",
       "\n",
       "The interface shows a chromatogram, a series of peaks representing the elution of different ions over time.  The peaks also show information of ion intensity. The peaks are further characterized by their drift times indicating their ion mobility.  There is a clear focus on the manipulation of parameters within the \"Calibration Mode\" section of the software.  A list of reference masses is visible, suggesting the use of a calibration standard.  The user interacts with the software by selecting different parameters, including calibration mode (linear), detection range, width, and reviewing a calibration score. The user also manipulates the range of the drift time to select the peaks of the calibrants. The user eventually clicks \"Accept\" after achieving a satisfactory calibration score (presumably 100%).\n",
       "\n",
       "The software itself is clearly Bruker timsControl and the data indicates a calibration procedure for the ion mobility separation within a timsTOF mass spectrometer. No physical laboratory manipulations are shown.  Therefore, the actions are purely software-based and relate to instrument setup and calibration.\n",
       "\n",
       "Based on my analysis of the video, the protocol that most accurately describes the procedure is **protocol number: 5**. This protocol details the calibration of the TIMS device using timsControl software.  The video perfectly matches the steps outlined in this protocol, including the selection of reference masses, setting parameters for linear calibration, and achieving a 100% score.  The other protocols deal with sample preparation, column handling, and source switching – none of which are shown in the video.\n"
      ],
      "text/plain": [
       "<IPython.core.display.Markdown object>"
      ]
     },
     "metadata": {},
     "output_type": "display_data"
    },
    {
     "name": "stdout",
     "output_type": "stream",
     "text": [
      "{'matches': True, 'video': 'TimsCalibration_docuSavedMethod.mov', 'expected_protocol': '5', 'found_protocol': '5'}\n",
      "Processing video: Dilute_docuWrongSolvent.MP4\n",
      "/Users/patriciaskowronek/Documents/documentation_agent_few_shot_examples/benchmark_dataset/documentation/Dilute_docuWrongSolvent.MP4\n"
     ]
    },
    {
     "data": {
      "text/markdown": [
       "As Professor Matthias Mann, I have reviewed the provided video. The video shows a laboratory procedure involving the preparation of samples for analysis.\n",
       "\n",
       "\n",
       "Here's a detailed description of my observations:\n",
       "\n",
       "The video shows a laboratory bench with various equipment and materials. The key items are:\n",
       "\n",
       "* **Equipment:** A multichannel pipette (Eppendorf Research plus), an orange 96-well microplate, a box of Eppendorf microtips, two small glass vials labeled \"Buffer A\" and \"Buffer B\", respectively, and a vortex mixer is visible in the background.  There is also what appears to be an Eppendorf tube box.\n",
       "\n",
       "* **Materials:** The vials contain clear liquids.  A bag of Eppendorf tubes is present, along with several boxes that appear to contain further lab consumables.  A piece of paper is on the bench with some handwritten notes on it.\n",
       "\n",
       "\n",
       "* **Actions Performed:** The individual in the video, wearing black nitrile gloves, first sets the multichannel pipette to a volume of 200 µL, then selects new tips from the box. The person then draws 200 µL from Buffer A into the pipette, and dispenses this into wells of the microplate. Next, the volume is changed to 100 µL, and 100 µL of Buffer B is drawn from the second vial and dispensed into the same wells of the microplate as Buffer A.  The video then shows the individual removing the used tips, and the procedure appears to be complete.\n",
       "\n",
       "\n",
       "\n",
       "* **Notable Techniques:** The technique used is liquid handling, specifically dispensing precise volumes of two different buffers into multiple wells of a microplate using a multichannel pipette.  No advanced techniques beyond accurate pipetting are apparent.\n",
       "\n",
       "\n",
       "Based on my observations, the video depicts a simple liquid handling procedure for preparing samples in a 96-well plate, most likely for further processing such as mass spectrometry analysis. The procedure demonstrated aligns most closely with **protocol number: 4** (\"Dispensing Protocol\"). While other protocols involve liquid handling, they focus on different aspects of a more extensive process (such as TIMS calibration or sample queue management) and do not match the simple pipetting demonstrated in the video.\n",
       "\n",
       "\n",
       "Therefore, my response is: protocol number: 4"
      ],
      "text/plain": [
       "<IPython.core.display.Markdown object>"
      ]
     },
     "metadata": {},
     "output_type": "display_data"
    },
    {
     "name": "stdout",
     "output_type": "stream",
     "text": [
      "{'matches': True, 'video': 'Dilute_docuWrongSolvent.MP4', 'expected_protocol': '4', 'found_protocol': '4'}\n",
      "Processing video: TimsCalibration_docuWrongOrderSteps.mov\n",
      "/Users/patriciaskowronek/Documents/documentation_agent_few_shot_examples/benchmark_dataset/documentation/TimsCalibration_docuWrongOrderSteps.mov\n"
     ]
    },
    {
     "data": {
      "text/markdown": [
       "The video shows a calibration procedure being performed on a Bruker timsTOF mass spectrometer using the timsControl software.  No physical manipulation of hardware is visible; the entire procedure is software-based.\n",
       "\n",
       "The video starts with a chromatogram display showing multiple peaks. The software interface displays various parameters, including scan mode, ion polarity, and mass range.  A table listing reference masses is visible. The user navigates to the “Calibration” then “Mobility” section of the software.  The calibration mode is set to “Linear.”  A list of reference compounds (likely a tuning mix) is displayed, with associated masses and expected mobility values. The user selects the appropriate reference list and adjusts parameters such as the detection range and width around the peaks. Then, the user initiates the calibration procedure by clicking \"Calibrate\". The software then calculates a score based on the match between the observed and expected peak positions. The process is repeated several times with minor adjustments to parameters until an optimal score (100%) is achieved. Finally, the calibrated method is accepted and saved. The video ends with a new method being loaded into the software, presumably the one that was just calibrated.\n",
       "\n",
       "\n",
       "Based on my analysis, the video accurately depicts **protocol number: 5**, \"Calibrate the TIMS device\". The specific steps of selecting the reference list, adjusting parameters, initiating calibration, and evaluating the score are all clearly shown in the video and match the protocol's description.  The other protocols describe different laboratory procedures (sample handling, column connection/disconnection, etc.), which are not shown in this video.\n"
      ],
      "text/plain": [
       "<IPython.core.display.Markdown object>"
      ]
     },
     "metadata": {},
     "output_type": "display_data"
    },
    {
     "name": "stdout",
     "output_type": "stream",
     "text": [
      "{'matches': True, 'video': 'TimsCalibration_docuWrongOrderSteps.mov', 'expected_protocol': '5', 'found_protocol': '5'}\n",
      "Processing video: Dilute_docuWrongVolume_PipettTipNotChanged.MP4\n",
      "/Users/patriciaskowronek/Documents/documentation_agent_few_shot_examples/benchmark_dataset/documentation/Dilute_docuWrongVolume_PipettTipNotChanged.MP4\n"
     ]
    },
    {
     "data": {
      "text/markdown": [
       "As Professor Matthias Mann, I have reviewed the provided video. The video shows a laboratory procedure involving the preparation of samples for mass spectrometry analysis. \n",
       "\n",
       "\n",
       "Here's a detailed description of my observations:\n",
       "\n",
       "**Equipment Used:**\n",
       "\n",
       "*   **Multichannel Pipette:** A motorized pipette is used for precise dispensing of liquids.  The video shows the pipette being set to 400 µL and then 100 µL.\n",
       "*   **Pipette Tips:**  A box of pipette tips is present and tips are attached to and removed from the pipette. The tips appear to be designed for use with a multichannel pipette.\n",
       "*   **Eppendorf Tubes:** Two small glass vials are visible, capped with blue lids. These are likely Eppendorf tubes or similar small sample vials.\n",
       "*   **Microcentrifuge Tubes:** An orange rack is seen that holds numerous small tubes suitable for use in a microcentrifuge.\n",
       "*   **Vortex Mixer:** A vortex mixer is shown in the background, indicating that mixing of solutions is part of the workflow.\n",
       "*   **Box for pipette tips:** A box filled with pipette tips is visible throughout the video.  \n",
       "\n",
       "\n",
       "**Actions Performed:**\n",
       "\n",
       "1.  **Pipetting:** The main action is the use of a multichannel pipette to dispense 400 µL of liquid from one vial into multiple microcentrifuge tubes, followed by dispensing 100 µL of liquid from a second vial into the same tubes. The person performing the task is wearing black nitrile gloves.\n",
       "2.  **Tip Changing:** The pipette tip is changed after dispensing the first liquid, indicating careful attention to avoid cross-contamination.\n",
       "3.  **Sample Labeling:** After pipetting, the person in the video uses a blue marker pen to label the tubes within the orange rack.\n",
       "4.  **Vortexing:** The filled microcentrifuge tubes are briefly placed on a vortex mixer for mixing.\n",
       "\n",
       "**Materials Handled:**\n",
       "\n",
       "*   **Two Different Buffers:** Two clear liquids labeled \"Buffer A\" and \"Buffer B\" are used. The exact composition isn't shown but the quantities and the subsequent vortexing suggest these are reagents for preparing samples.\n",
       "*   **Microcentrifuge Tubes:** Empty microcentrifuge tubes in the orange rack are filled with the prepared solutions.\n",
       "\n",
       "\n",
       "**Notable Techniques:**\n",
       "\n",
       "*   **Aseptic Technique:** The use of gloves suggests an attempt to maintain a clean and sterile environment to prevent contamination.\n",
       "*   **Precise Pipetting:** The use of a multichannel pipette demonstrates a need for accurate and reproducible liquid handling.\n",
       "*   **Sample Tracking:** Labeling the tubes ensures proper tracking of the samples.\n",
       "\n",
       "\n",
       "**Conclusion:**\n",
       "\n",
       "Based on the video, the procedure being performed is the dilution of two different buffers into microcentrifuge tubes followed by labeling and vortexing. This process is most accurately described by **Protocol number: 4, Dispensing Protocol**.\n",
       "\n",
       "\n"
      ],
      "text/plain": [
       "<IPython.core.display.Markdown object>"
      ]
     },
     "metadata": {},
     "output_type": "display_data"
    },
    {
     "name": "stdout",
     "output_type": "stream",
     "text": [
      "{'matches': True, 'video': 'Dilute_docuWrongVolume_PipettTipNotChanged.MP4', 'expected_protocol': '4', 'found_protocol': '4'}\n",
      "Processing video: DisconnectingColumn_docuCorrect.MP4\n",
      "/Users/patriciaskowronek/Documents/documentation_agent_few_shot_examples/benchmark_dataset/documentation/DisconnectingColumn_docuCorrect.MP4\n"
     ]
    },
    {
     "data": {
      "text/markdown": [
       "As Professor Matthias Mann, I have reviewed the provided video. The video depicts a laboratory procedure involving the connection and disconnection of a liquid chromatography (LC) column to a mass spectrometer.  Specifically, it focuses on the interface between an IonOpticks nanoLC column (likely from an Evosep One system) and the nanoelectrospray ionization (nanoESI) source of a Bruker timsTOF mass spectrometer (specifically the UltraSource).\n",
       "\n",
       "\n",
       "The video shows a person manipulating a thin capillary tube connected to the LC column. This capillary is carefully connected to the mass spectrometer's source using a small, black fitting. A clear plastic tube is also visible, suggesting a connection to a solvent or buffer delivery system. The person uses small pliers to adjust the capillary’s position. The whole process takes place at the interface between the LC system and the timsTOF's ion source. The initial view shows the system already connected; the individual then disconnects it,  manipulates the capillary and reconnects it. A portion of the video also shows a computer screen displaying what appears to be mass spectrometry data and software control panels. The instruments clearly visible are a Bruker timsTOF mass spectrometer with its accompanying timsControl software, an Evosep One LC system, and a computer running HyStar software.\n",
       "\n",
       "Based on my extensive experience, the actions in the video are consistent with the procedures described in  **protocol number: 6**  (\"Connecting IonOpticks Column & sample line of Evosep\") and partially with **protocol number: 3** (\"Disconnecting a IonOpticks column from an Evosep System\"). Protocol 6 describes the process of attaching the nanoLC column to the mass spectrometer. Protocol 3 covers the disconnection procedure. The video shows both actions consecutively, making protocol 6 the most accurate match as it shows both connection and disconnection, however the protocol number 3 would also accurately reflect part of the video (the disconnection part).\n",
       "\n"
      ],
      "text/plain": [
       "<IPython.core.display.Markdown object>"
      ]
     },
     "metadata": {},
     "output_type": "display_data"
    },
    {
     "name": "stdout",
     "output_type": "stream",
     "text": [
      "{'matches': False, 'video': 'DisconnectingColumn_docuCorrect.MP4', 'expected_protocol': '3', 'found_protocol': '6'}\n",
      "Processing video: Pipette_docuFirstTwoWrongVolumneANDA2Twice.MP4\n",
      "/Users/patriciaskowronek/Documents/documentation_agent_few_shot_examples/benchmark_dataset/documentation/Pipette_docuFirstTwoWrongVolumneANDA2Twice.MP4\n"
     ]
    },
    {
     "data": {
      "text/markdown": [
       "As Professor Matthias Mann, I have reviewed the provided video. The video shows a scientist wearing black nitrile gloves performing a liquid handling procedure.  The scientist is using a manual pipette, specifically a  Eppendorf Research plus pipette, to transfer a liquid from a small clear bottle labeled \"Buffer A\" into a 96-well plate. The volume transferred appears to be 20 µL per well, as indicated by the pipette's digital display. The action is repeated across a row of wells (A1-A12) in the plate.  Other equipment visible on the lab bench includes: additional pipettes, a rack of microtubes, boxes of what appear to be additional 96 well plates, and a container labeled \"WASTE.\" A vortex mixer is partially visible in the background. The 96-well plate is empty at the start and is being filled sequentially.  No other manipulations are performed beyond the pipetting. The overall procedure appears to be a simple, routine liquid dispensing step in a larger experiment. Based on this observation, the procedure is a standard pipetting protocol.\n",
       "\n",
       "\n",
       "Based on my analysis of the video and comparison with the provided protocols, the procedure most accurately described by **protocol number: 8**. This protocol details the steps for pipetting a specific volume (20 µL) of a reagent (\"Buffer A\") into multiple wells (A1 to A12) of a PCR plate.  The video perfectly matches the described action of using a pipette to dispense a liquid into a 96-well plate. While a PCR plate isn't explicitly named, a 96-well plate is clearly shown, and the context is consistent with common proteomics applications. The other protocols deal with more complex processes like instrument calibration, column handling, and sample queuing, which are not represented in the video.\n",
       "\n"
      ],
      "text/plain": [
       "<IPython.core.display.Markdown object>"
      ]
     },
     "metadata": {},
     "output_type": "display_data"
    },
    {
     "name": "stdout",
     "output_type": "stream",
     "text": [
      "{'matches': True, 'video': 'Pipette_docuFirstTwoWrongVolumneANDA2Twice.MP4', 'expected_protocol': '8', 'found_protocol': '8'}\n",
      "Processing video: PlaceEvotips_docuWrongPosition.MP4\n",
      "/Users/patriciaskowronek/Documents/documentation_agent_few_shot_examples/benchmark_dataset/documentation/PlaceEvotips_docuWrongPosition.MP4\n"
     ]
    },
    {
     "data": {
      "text/markdown": [
       "As Professor Matthias Mann, I have reviewed the provided video. The video shows a laboratory procedure involving the handling and placement of Evotips into an Evosep One system. \n",
       "\n",
       "\n",
       "Here's a detailed description of my observations:\n",
       "\n",
       "* **Equipment:** The central piece of equipment is an Evosep One liquid chromatography system. It's a benchtop instrument with a clear, protective cover and a series of slots or wells for holding sample containers. A robotic arm is visible, suggesting automated sample handling capabilities. Additionally, a Bruker timsTOF mass spectrometer is partially visible in the background.  A microscope and other standard lab equipment are also in the background.  The individual is wearing nitrile gloves.\n",
       "* **Materials:** The main materials are boxes of Evotips – these are small, single-use stage tips used for sample preparation in proteomics workflows. The Evotips are in yellow and clear plastic 96-well racks. The video shows the researcher carefully handling the Evotips using forceps to transfer them from one rack to the wells of the Evosep One. A second rack is prepared, which seems to be for \"blanks\".\n",
       "* **Actions:** The researcher carefully takes two boxes of Evotips.  They are then placed into the designated wells of the Evosep system. The researcher uses forceps to transfer individual Evotips from a source rack into the wells. The action is methodical and careful, indicating a precise protocol is being followed. The researcher appears to be loading samples into a sample plate for high throughput analysis.\n",
       "* **Techniques:** The technique employed is consistent with standard sample preparation and loading protocols for high-throughput proteomics using automated liquid chromatography systems. The use of Evotips suggests the samples are being processed for mass spectrometry analysis. The careful placement and use of blanks suggest a high degree of attention to detail, which is crucial in quantitative proteomics experiments.\n",
       "\n",
       "\n",
       "Based on my extensive experience with proteomics and mass spectrometry, the procedure demonstrated in the video aligns most accurately with **protocol number: 2**, \"Placing Evotips in Evotip Boxes on the Evosep One System\".  The video clearly shows the visual inspection of Evotips and their careful placement into the Evosep's designated wells. The handling of the Evotip boxes and the use of forceps strongly supports this protocol.  While protocol 1 mentions Evotips as a prerequisite, it focuses on the software and sample queue setup, not the physical handling of Evotips, which is the central action in the video.\n",
       "\n",
       "\n",
       "Output: protocol number: 2\n"
      ],
      "text/plain": [
       "<IPython.core.display.Markdown object>"
      ]
     },
     "metadata": {},
     "output_type": "display_data"
    },
    {
     "name": "stdout",
     "output_type": "stream",
     "text": [
      "{'matches': True, 'video': 'PlaceEvotips_docuWrongPosition.MP4', 'expected_protocol': '2', 'found_protocol': '2'}\n",
      "Processing video: TimsCalibration_docuCorrect.mov\n",
      "/Users/patriciaskowronek/Documents/documentation_agent_few_shot_examples/benchmark_dataset/documentation/TimsCalibration_docuCorrect.mov\n"
     ]
    },
    {
     "data": {
      "text/markdown": [
       "As Professor Matthias Mann, I have reviewed the provided video.  The video shows a computer screen displaying the *timsControl* software interface for a Bruker timsTOF mass spectrometer. The interface shows a chromatogram and settings related to ion mobility calibration.\n",
       "\n",
       "Specifically, the video demonstrates the calibration of the ion mobility separation device (TIMS) within the mass spectrometer.  The user interacts with the software to select a reference mass list ([ESI] Tuning Mix ES-TOF (ESI)), sets parameters for the calibration (linear mode, detection range, width), and initiates the calibration process. The software then displays the calibration results, showing peaks corresponding to the reference masses and a final calibration score. The video concludes with the successful completion of the calibration, indicated by a message in the software interface and the display of the updated chromatogram.  There is no physical manipulation of equipment shown; the procedure is entirely software-driven.\n",
       "\n",
       "Based on my extensive experience in proteomics and mass spectrometry, particularly with Bruker instruments, the procedure shown clearly aligns with the protocol for TIMS calibration.\n",
       "\n",
       "**Output:** Protocol number: 5"
      ],
      "text/plain": [
       "<IPython.core.display.Markdown object>"
      ]
     },
     "metadata": {},
     "output_type": "display_data"
    },
    {
     "name": "stdout",
     "output_type": "stream",
     "text": [
      "{'matches': True, 'video': 'TimsCalibration_docuCorrect.mov', 'expected_protocol': '5', 'found_protocol': '5'}\n",
      "Processing video: QueueSamples_docuWrongRow_S3A1Twice.mov\n",
      "/Users/patriciaskowronek/Documents/documentation_agent_few_shot_examples/benchmark_dataset/documentation/QueueSamples_docuWrongRow_S3A1Twice.mov\n"
     ]
    },
    {
     "data": {
      "text/markdown": [
       "As Professor Matthias Mann, I have reviewed the provided video.  The video depicts a user interface, specifically the HyStar software used to control and monitor a Bruker Evosep One liquid chromatography system coupled to a timsTOF mass spectrometer. No physical laboratory equipment or actions are visible; instead, the video focuses solely on software operation.\n",
       "\n",
       "The user is shown setting up a sample queue for LC-MS analysis.  The steps involve:\n",
       "\n",
       "1. **Sample Table Navigation and Modification:** The video starts with a pre-existing sample table. The user then navigates and selects specific rows, adjusting sample IDs (adding date, user, sample type, etc.) and vial positions.  Several rows show a status of \"Cancelled Acquisition,\" suggesting previous attempts or adjustments to the queue.\n",
       "\n",
       "2. **Tip Configuration:** The user accesses and modifies the \"Tip Configuration\" settings via a right-click menu option. This section allows for defining the arrangement of Evotips in the 96-well plate, specifying the tray type as \"Evosep\" and defining the auto-completion behavior for vial selection.\n",
       "\n",
       "3. **Vial Position Assignment:** The user assigns specific Evotip locations (e.g., S1 A1 to A6) in the sample table, referencing the physical location of prepared Evotips on the Evosep system.\n",
       "\n",
       "4. **Method Selection:**  The \"Separation Method\" and \"MS Method\" columns are shown.  The user appears to select pre-existing methods (likely LC gradients and MS acquisition parameters) for each sample in the queue.  The methods selected are all designated as \"Standard.\"\n",
       "\n",
       "5. **Sample Condition Upload:** The video concludes with the user performing a \"Upload Sample Conditions\" step which involves right-clicking and selecting this option, likely a pre-run check for compatibility of the selected settings.\n",
       "\n",
       "\n",
       "Based on my extensive experience with proteomics and mass spectrometry workflows, this video clearly demonstrates the **queueing of samples** for LC-MS analysis.  Therefore, the protocol that most accurately matches the video is **Protocol 1: Queue and measure samples in HyStar**.  The other protocols describe individual steps (placing Evotips, calibrating TIMS, disconnecting columns, etc.), while protocol 1 encompasses the complete process shown in the video.\n",
       "\n",
       "Output: protocol number: 1\n"
      ],
      "text/plain": [
       "<IPython.core.display.Markdown object>"
      ]
     },
     "metadata": {},
     "output_type": "display_data"
    },
    {
     "name": "stdout",
     "output_type": "stream",
     "text": [
      "{'matches': True, 'video': 'QueueSamples_docuWrongRow_S3A1Twice.mov', 'expected_protocol': '1', 'found_protocol': '1'}\n",
      "Processing video: PlaceEvotips_docuCorrect.MP4\n",
      "/Users/patriciaskowronek/Documents/documentation_agent_few_shot_examples/benchmark_dataset/documentation/PlaceEvotips_docuCorrect.MP4\n"
     ]
    },
    {
     "data": {
      "text/markdown": [
       "As Professor Matthias Mann, I have reviewed the provided video. The video shows a laboratory procedure involving the preparation of an Evosep One system for a liquid chromatography-mass spectrometry (LC-MS) experiment.\n",
       "\n",
       "The video begins with a shot of an Evosep One system, which is a type of liquid chromatography (LC) instrument.  The system is equipped with a transparent acrylic enclosure, suggesting a focus on minimizing contamination. Three reagent bottles are visible, connected via tubing to the instrument, likely containing buffers A and B (common in proteomics workflows).  A yellow 96-well Evotip box is also shown, containing the single-use stage tips for sample injection. A Bruker timsTOF mass spectrometer is partially visible in the background, indicating the downstream analysis technique.\n",
       "\n",
       "The person in the video, wearing black nitrile gloves, carefully handles two Evotip boxes. They inspect the Evotips within one box, discarding any that appear dry or otherwise compromised, ensuring only tips in good condition are used.  The Evotips are then placed onto the Evosep One system within the designated slots (S1 and S3).  The person in the video then seems to pick up some empty Evotips from a separate box labeled with handwritten sample information and places them into the designated slots on the Evosep One. This meticulous sample handling suggests a focus on accuracy and minimizing experimental error.  The video concludes with a final view of the prepared Evosep system, ready for the LC-MS analysis to begin. The entire procedure focuses on the careful preparation and loading of samples into the Evosep One.  There's no indication of any column connection or disconnection, nor any calibration procedures visible.\n",
       "\n",
       "Based on my observation, the protocol most accurately describing the step performed in the video is **Protocol number: 2**, \"Placing Evotips in Evotip Boxes on the Evosep One System\".  The video clearly demonstrates the careful inspection, selection, and placement of Evotips into the designated positions on the instrument.  Other protocols deal with software calibration, column connection/disconnection, or different sample preparation aspects, none of which are visible in this video.\n"
      ],
      "text/plain": [
       "<IPython.core.display.Markdown object>"
      ]
     },
     "metadata": {},
     "output_type": "display_data"
    },
    {
     "name": "stdout",
     "output_type": "stream",
     "text": [
      "{'matches': True, 'video': 'PlaceEvotips_docuCorrect.MP4', 'expected_protocol': '2', 'found_protocol': '2'}\n",
      "Processing video: ESIsourceToUltraSource_docuCorrect.MP4\n",
      "/Users/patriciaskowronek/Documents/documentation_agent_few_shot_examples/benchmark_dataset/documentation/ESIsourceToUltraSource_docuCorrect.MP4\n"
     ]
    },
    {
     "data": {
      "text/markdown": [
       "Good day.  Professor Matthias Mann here. Let's analyze this video.\n",
       "\n",
       "\n",
       "The video depicts a laboratory procedure involving a Bruker timsTOF SCP mass spectrometer.  The individual, wearing black nitrile gloves, interacts with the instrument's source region. \n",
       "\n",
       "\n",
       "Specifically, the actions observed are:\n",
       "\n",
       "1. **Removal of a component:** A dark-colored, dome-shaped component (likely the source housing or a related part of the electrospray ionization (ESI) source) is removed from the mass spectrometer.  This is done carefully, with attention paid to the connections.\n",
       "\n",
       "2. **Manipulation of a small metal part:** A small, metallic piece is handled and inspected. It appears to be a component used in connecting the ESI source to a liquid chromatography (LC) system.  \n",
       "\n",
       "3. **Connecting a component:** A black metallic bracket, with a small metal pin, is precisely positioned and attached to the mass spectrometer's source region.  It is secured into place.\n",
       "\n",
       "4. **Connecting a capillary:** A thin capillary, presumably carrying the sample from the LC system, is carefully inserted and secured into a fitting in the same black metallic bracket.   This is done with precision, and the researcher checks that it is correctly positioned.  The researcher uses a pair of pliers to hold the capillary and aid in the connection process.\n",
       "\n",
       "5. **Additional component placement:** A small, black rectangular box (possibly a connection unit or adapter) is then attached to the same bracket, completing the assembly.\n",
       "\n",
       "\n",
       "**Equipment Used:**\n",
       "\n",
       "* Bruker timsTOF SCP mass spectrometer (the main focus)\n",
       "* Evosep One LC system (partially visible in the background, suggesting this is a coupled LC-MS system).\n",
       "* Computer with software controlling the mass spectrometer (shows chromatograms, mass spectra, and instrument parameters).\n",
       "* Pipettes (briefly shown in the background).\n",
       "* Pliers (used for precise manipulation of small components).\n",
       "* Nitrile gloves (worn by the researcher).\n",
       "\n",
       "\n",
       "**Materials Handled:**\n",
       "\n",
       "* The dome-shaped component of the ESI source.\n",
       "* Small metallic parts for source connection.\n",
       "* A capillary for sample introduction.\n",
       "* Small black rectangular box for connection.\n",
       "\n",
       "**Notable Techniques:**\n",
       "\n",
       "The procedure demonstrates precise handling of delicate components, characteristic of high-end mass spectrometry and LC-MS maintenance or setup.  The use of pliers indicates a need for precise alignment and connection of small parts.  The careful handling and attention to detail suggest an understanding of the instrument's sensitive nature.\n",
       "\n",
       "\n",
       "Based on my extensive experience, the video shows a procedure for **connecting the sample line of the Evosep LC system to the UltraSource of the timsTOF mass spectrometer.** Therefore, I conclude that the most accurate protocol is **protocol number: 6**.\n",
       "\n"
      ],
      "text/plain": [
       "<IPython.core.display.Markdown object>"
      ]
     },
     "metadata": {},
     "output_type": "display_data"
    },
    {
     "name": "stdout",
     "output_type": "stream",
     "text": [
      "{'matches': False, 'video': 'ESIsourceToUltraSource_docuCorrect.MP4', 'expected_protocol': '9', 'found_protocol': '6'}\n",
      "Processing video: QueueSamples_docuEvotipNotAtPositionNoSampleID.mov\n",
      "/Users/patriciaskowronek/Documents/documentation_agent_few_shot_examples/benchmark_dataset/documentation/QueueSamples_docuEvotipNotAtPositionNoSampleID.mov\n"
     ]
    },
    {
     "data": {
      "text/markdown": [
       "As Professor Matthias Mann, I have reviewed the provided video.  The video depicts a user interface, seemingly from Bruker's HyStar software, used to control an Evosep One liquid chromatography system coupled to a mass spectrometer (likely a Bruker timsTOF).  No physical laboratory manipulations are shown; the video focuses entirely on the software's sample table and queue management.\n",
       "\n",
       "\n",
       "The user is setting up a sample queue for LC-MS analysis.  Specifically, the actions involve:\n",
       "\n",
       "1. **Sample Table Navigation and Modification:** The video shows the user navigating to an existing sample table or creating a new one. They then select and modify entries in the table. The sample table includes columns for sample ID, vial location (Evotip position on the Evosep system, indicated by S# A# notation), file path, separation method, and MS method.\n",
       "\n",
       "2. **Sample ID Assignment:** The user appears to be carefully assigning sample IDs, potentially following a standardized naming convention (date, instrument, user, sample type, project ID, sample name).\n",
       "\n",
       "3. **Evotip Position Assignment:** The user manually enters or auto-completes Evotip positions within the sample table, correlating specific samples with their locations in the Evosep's Evotip racks. This involves choosing the starting position (e.g., S1 A1) and then filling the rest by dragging the selection like in an Excel spreadsheet, or by manually entering each one.\n",
       "\n",
       "4. **Method Selection:** The user selects pre-defined LC separation methods and MS methods (dda-PASEF or dia-PASEF, suggesting proteomics analysis) for each sample in the queue.\n",
       "\n",
       "\n",
       "5. **Tray Configuration:**  The user accesses and verifies the tray configuration settings within the software, confirming that the system correctly recognizes the Evotip tray type and positions.\n",
       "\n",
       "6. **Sample Queue Initiation:** Finally, the user initiates the sample queue by pressing the \"Start\" and \"Start Sequence\" buttons (or similar actions), commencing the automated LC-MS analysis.\n",
       "\n",
       "\n",
       "Based on this observation, the protocol that best matches the lab procedure shown in the video is **Protocol number: 1**. This protocol details the steps involved in queuing samples within HyStar for LC-MS measurement, encompassing all the software-based actions observed in the video. The other protocols describe different, non-software-based lab procedures (such as placing Evotips, calibrating the TIMS, or connecting/disconnecting columns).\n"
      ],
      "text/plain": [
       "<IPython.core.display.Markdown object>"
      ]
     },
     "metadata": {},
     "output_type": "display_data"
    },
    {
     "name": "stdout",
     "output_type": "stream",
     "text": [
      "{'matches': True, 'video': 'QueueSamples_docuEvotipNotAtPositionNoSampleID.mov', 'expected_protocol': '1', 'found_protocol': '1'}\n",
      "Processing video: UltraSourceToESIsource_docuForgotCapillaryCap.MP4\n",
      "/Users/patriciaskowronek/Documents/documentation_agent_few_shot_examples/benchmark_dataset/documentation/UltraSourceToESIsource_docuForgotCapillaryCap.MP4\n"
     ]
    },
    {
     "data": {
      "text/markdown": [
       "As Professor Matthias Mann, I have reviewed the provided video. The video shows a laboratory procedure involving a Bruker timsTOF mass spectrometer and an Evosep One liquid chromatography system.  The procedure focuses on the connection and disconnection of an IonOpticks nanoLC column to the timsTOF's UltraSource.\n",
       "\n",
       "Specifically, the video demonstrates the following:\n",
       "\n",
       "1. **Initial Setup:** The video begins with a view of the timsTOF and Evosep systems, highlighting their connected state.  Various pieces of equipment are present, including computers displaying software interfaces, likely for controlling the instruments, and several reagent bottles.\n",
       "\n",
       "2. **Disconnection Procedure (first part):** A person, wearing no gloves initially, begins to disconnect the capillary tubing from the timsTOF's ion source. This initial step appears to involve carefully maneuvering the capillary.\n",
       "\n",
       "3. **Cleaning/Preparation:**  The person then takes the removed part to a lab bench where several bottles of reagents and a sink are visible, and then puts on black nitrile gloves. It is not clear what cleaning or preparation, if any, is performed. \n",
       "\n",
       "4. **Disconnection Procedure (second part):**  The person returns to the mass spectrometer and uses tools (pliers appear to be used) to fully remove a component (the black cap) from the timsTOF's ion source.  This action involves careful manipulation of several small parts.\n",
       "\n",
       "5. **Connection Procedure (first part):** After a brief movement to another part of the lab (presumably to obtain a different part or equipment),  the person wearing gloves is observed adding back a different metal part onto the timsTOF's ion source.  Then the person appears to be adding a different small part on this metal part.\n",
       "\n",
       "\n",
       "6. **Connection Procedure (second part):**  The person is then seen meticulously connecting the capillary tubing back to the newly added part on the timsTOF's source.\n",
       "\n",
       "\n",
       "7. **Final Steps/Verification:** The video concludes with the instrument apparently reconnected and the person seeming to adjust a final component on the system. The computer monitors are visible at the end of the video but it is not apparent if any changes have been made to the parameters in the software.\n",
       "\n",
       "The procedure appears to be a routine maintenance or sample preparation step, requiring precision and care to avoid damage to the delicate components of the mass spectrometer and LC system. The use of gloves in later steps suggests a concern for cleanliness and preventing contamination.\n",
       "\n",
       "\n",
       "Considering the actions shown, the most accurate protocol is **protocol number: 6** (\"Connecting IonOpticks Column & sample line of Evosep\").  While protocol 3 involves disconnecting the column, it doesn't show the full process of reconnection as seen in the video.  The video displays a complete cycle of disconnection and reconnection of the column's sample line to the timsTOF, which is precisely detailed in protocol 6.\n"
      ],
      "text/plain": [
       "<IPython.core.display.Markdown object>"
      ]
     },
     "metadata": {},
     "output_type": "display_data"
    },
    {
     "name": "stdout",
     "output_type": "stream",
     "text": [
      "{'matches': False, 'video': 'UltraSourceToESIsource_docuForgotCapillaryCap.MP4', 'expected_protocol': '7', 'found_protocol': '6'}\n",
      "Processing video: PlaceEvotips_docuLiquidNotChecked.MP4\n",
      "/Users/patriciaskowronek/Documents/documentation_agent_few_shot_examples/benchmark_dataset/documentation/PlaceEvotips_docuLiquidNotChecked.MP4\n"
     ]
    },
    {
     "data": {
      "text/markdown": [
       "As Professor Matthias Mann, I have reviewed the provided video. The video shows a laboratory procedure involving the preparation of an Evosep One system for liquid chromatography-mass spectrometry (LC-MS) analysis. \n",
       "\n",
       "\n",
       "Here's a detailed description of my observations:\n",
       "\n",
       "The video focuses on a benchtop Evosep One LC system. The system is equipped with a 96-well plate holder designed to accommodate Evotip boxes. \n",
       "\n",
       "\n",
       "The actions performed include:\n",
       "\n",
       "1. **Placement of Evotip boxes:** Two boxes of Evotips are placed onto the Evosep One.  One box is labelled and appears to contain samples while the second is labelled as \"Blanks.\"  The boxes are meticulously positioned in designated slots (S1 and S3, presumably).\n",
       "\n",
       "2. **Evotip inspection and handling:** The researcher uses forceps to carefully inspect individual Evotips from a separate, labeled box. The selection criteria for these tips appear related to their hydration status (rejecting tips which seem dry).  The selected Evotips are then manually transferred to the designated \"Sample\" box on the LC system.\n",
       "\n",
       "3. **Documentation:** The hand-written labels on the boxes suggest a system for sample tracking and identification, a crucial aspect of any well-controlled experiment.\n",
       "\n",
       "\n",
       "The materials handled are:\n",
       "\n",
       "*   **Evotips:**  Single-use stage tips for sample preparation and injection.\n",
       "*   **Evotip boxes:**  Specifically designed 96-well boxes to hold the Evotips.\n",
       "*   **Forceps:** Used for handling individual Evotips.\n",
       "\n",
       "\n",
       "The notable techniques are:\n",
       "\n",
       "*   **Manual handling of Evotips:** Highlighting the importance of careful, contamination-free transfer of samples.\n",
       "*   **Visual inspection of Evotips:** This indicates a quality control step to ensure proper sample preparation before LC-MS analysis.\n",
       "\n",
       "\n",
       "**Based on my analysis, Protocol number: 2 (\"Placing Evotips in Evotip Boxes on the Evosep One System\") most accurately describes the laboratory procedure shown in the video.** The video does not show any steps related to the software operations (HyStar or TimsControl) or column connections/disconnections, which are prominent features of the other protocols. The focus is entirely on the physical placement and inspection of Evotips, and this aligns precisely with Protocol 2's objective.\n",
       "\n",
       "\n",
       "Output: Protocol number: 2\n",
       "\n"
      ],
      "text/plain": [
       "<IPython.core.display.Markdown object>"
      ]
     },
     "metadata": {},
     "output_type": "display_data"
    },
    {
     "name": "stdout",
     "output_type": "stream",
     "text": [
      "{'matches': True, 'video': 'PlaceEvotips_docuLiquidNotChecked.MP4', 'expected_protocol': '2', 'found_protocol': '2'}\n",
      "Processing video: Evotip_docuWrongSpinInEvotipBox_wrongSpeed.MP4\n",
      "/Users/patriciaskowronek/Documents/documentation_agent_few_shot_examples/benchmark_dataset/documentation/Evotip_docuWrongSpinInEvotipBox_wrongSpeed.MP4\n"
     ]
    },
    {
     "data": {
      "text/markdown": [
       "As Professor Matthias Mann, I have reviewed the provided video.  The video depicts a laboratory technician, wearing black nitrile gloves, preparing and loading  Evotip boxes into a centrifuge.\n",
       "\n",
       "Specifically, the video shows the following:\n",
       "\n",
       "1. **Equipment:** The video shows several pieces of equipment.  Most prominently, a Thermo Scientific Multifuge X Pro Series centrifuge is seen at the end of the procedure. The technician also uses a multichannel pipette to handle the Evotips.  There are also multiple boxes of Evotips visible, along with a rack for standard microcentrifuge tubes.\n",
       "\n",
       "2. **Actions Performed:** The technician begins by carefully taking two boxes labeled \"Evotips\" and \"Blank for injection\" and holding them up. Next, the technician balances the boxes against each other (possibly visually or by weight), then proceeds to carefully place the boxes in the centrifuge. The centrifuge is then programmed via its touchscreen interface, with the speed and duration clearly visible at 800g for 1 minute.  The centrifuge is then started via the touchscreen.  The video ends with the centrifuge running.\n",
       "\n",
       "3. **Materials Handled:** The primary materials are the Evotip boxes, pre-filled with what appears to be liquid. One box is labeled \"Evotips\" and the other \"Blank for injection\".  The blanks are likely empty or containing a wash solution.\n",
       "\n",
       "4. **Notable Techniques:** The careful handling of the Evotip boxes suggests that the contents are sensitive.  The balancing of the boxes in the centrifuge is a critical step to ensure even centrifugation and prevent damage or uneven distribution of contents.  The use of a multichannel pipette (implied, not explicitly shown) indicates a high-throughput application.\n",
       "\n",
       "\n",
       "Based on my observations, the protocol most accurately describing the laboratory procedure in the video is **protocol number: 10**. This protocol specifically details the procedure for spinning Evotips in a centrifuge, matching the actions and materials shown in the video precisely. The centrifugation parameters (800g for 1 minute) are also consistent with common practice in proteomics sample preparation.\n",
       "\n"
      ],
      "text/plain": [
       "<IPython.core.display.Markdown object>"
      ]
     },
     "metadata": {},
     "output_type": "display_data"
    },
    {
     "name": "stdout",
     "output_type": "stream",
     "text": [
      "{'matches': True, 'video': 'Evotip_docuWrongSpinInEvotipBox_wrongSpeed.MP4', 'expected_protocol': '10', 'found_protocol': '10'}\n",
      "Success rate: 65.52%\n"
     ]
    }
   ],
   "source": [
    "system_prompt = [\"\"\"\n",
    "    You are Professor Matthias Mann, a pioneering scientist in proteomics and mass spectrometry with extensive laboratory experience.\n",
    "    Your task is to analyze a video showing a laboratory procedure and identify which protocol from a provided list accurately describes the step being performed.\n",
    "    Before viewing the potential protocols, please describe in detail what you observe in the video. Include: equipment used, actions performed, materials handled, and any notable techniques. Be specific about the laboratory procedure being demonstrated.\n",
    "    I will first provide you with the to analyze video and then with the selection of protocols.\n",
    "    Finish your resonse with the requested output format. \n",
    "    Take your time with this analysis. \n",
    "    \"\"\"]\n",
    "protocol_intro= [\"Protocols:\"]\n",
    "output_format = [\"Output: Number of protocol e.g. 'protocol number: 1'\"]\n",
    "\n",
    "csv_path = \"/Users/patriciaskowronek/Documents/documentation_agent_few_shot_examples/benchmark_dataset/Link_protocol_lab_video.csv\"\n",
    "\n",
    "validation_list = list()\n",
    "for video in video_parts: \n",
    "    print(f\"Processing video: {video}\")\n",
    "    video_path = video_parts[video][\"path\"]\n",
    "    order = [system_prompt, video_parts[video][\"part\"], protocol_intro, protocol_input, output_format ]\n",
    "    model_input = list()\n",
    "    for input in order:\n",
    "        model_input.extend(input)\n",
    "\n",
    "    result = identify_protocol_from_video(\n",
    "        model_input,\n",
    "        model_name=\"gemini-1.5-flash-002\", \n",
    "        temperature=0.9\n",
    "    )\n",
    "\n",
    "    # print(result[\"usage_metadata\"])\n",
    "    print(result[\"video_path\"])\n",
    "    display(result[\"markdown_observation\"]) \n",
    "\n",
    "    result_validation = validate_protocol_number(video_path, csv_path, result[\"observation\"])\n",
    "    print(result_validation)\n",
    "    validation_list.append(result_validation[\"matches\"])\n",
    "\n",
    "success_ratio = sum(validation_list) / len(validation_list) if len(validation_list) > 0 else 0\n",
    "print(f\"Success rate: {success_ratio:.2%}\")"
   ]
  },
  {
   "cell_type": "code",
   "execution_count": 21,
   "metadata": {},
   "outputs": [
    {
     "name": "stdout",
     "output_type": "stream",
     "text": [
      "Processing video: UltraSourceToESIsource_docuForgotN2Line.MP4\n",
      "/Users/patriciaskowronek/Documents/documentation_agent_few_shot_examples/benchmark_dataset/documentation/UltraSourceToESIsource_docuForgotN2Line.MP4\n"
     ]
    },
    {
     "data": {
      "text/markdown": [
       "The researcher in the video is using the following equipment:\n",
       "\n",
       "- Evosep One LC system\n",
       "- Bruker timsTOF mass spectrometer\n",
       "- syringe\n",
       "- nitrile gloves\n",
       "\n",
       "\n",
       "Actions of the researcher in the video:\n",
       "\n",
       "- The researcher approaches the timsTOF mass spectrometer.\n",
       "- Removes a component from the timsTOF.\n",
       "- Puts on nitrile gloves.\n",
       "- Removes a second component from the timsTOF.\n",
       "- Retrieves a syringe from a cabinet.\n",
       "- Returns to the timsTOF and uses the syringe to perform some manipulation on the machine's components.\n",
       "- Places the components back into the timsTOF.\n",
       "\n",
       "\n",
       "- Protocol 1: 0%\n",
       "- Protocol 2: 0%\n",
       "- Protocol 3: 0%\n",
       "- Protocol 4: 0%\n",
       "- Protocol 5: 0%\n",
       "- Protocol 6: 0%\n",
       "- Protocol 7: 20% & but different order of steps\n",
       "- Protocol 8: 0%\n",
       "- Protocol 9: 20% & but different order of steps\n",
       "- Protocol 10: 0%\n",
       "\n",
       "Protocol number: 7"
      ],
      "text/plain": [
       "<IPython.core.display.Markdown object>"
      ]
     },
     "metadata": {},
     "output_type": "display_data"
    },
    {
     "name": "stdout",
     "output_type": "stream",
     "text": [
      "{'matches': True, 'video': 'UltraSourceToESIsource_docuForgotN2Line.MP4', 'expected_protocol': '7', 'found_protocol': '7'}\n",
      "Processing video: TimsCalibration_docuCorrect_camera.MP4\n",
      "/Users/patriciaskowronek/Documents/documentation_agent_few_shot_examples/benchmark_dataset/documentation/TimsCalibration_docuCorrect_camera.MP4\n"
     ]
    },
    {
     "data": {
      "text/markdown": [
       "As Professor Matthias Mann, I have analyzed the provided video.\n",
       "\n",
       "\n",
       "The video shows a computer screen displaying data from a mass spectrometry experiment.  The software interface is clearly shown, along with a chromatogram and a list of identified peptides. There is no manipulation of physical equipment.\n",
       "\n",
       "- Equipment observed: Computer, software interface (likely Bruker Hystar).\n",
       "\n",
       "- Actions performed: Monitoring of an ongoing mass spectrometry analysis.  The software displays the results in real-time, showing peaks corresponding to various peptides. No changes are being made to the experiment's parameters or setup.\n",
       "\n",
       "\n",
       "- Protocol 1: 0%\n",
       "- Protocol 2: 0%\n",
       "- Protocol 3: 0%\n",
       "- Protocol 4: 0%\n",
       "- Protocol 5: 0%\n",
       "- Protocol 6: 0%\n",
       "- Protocol 7: 0%\n",
       "- Protocol 8: 0%\n",
       "- Protocol 9: 0%\n",
       "- Protocol 10: 0%\n",
       "\n",
       "\n",
       "Protocol number: None\n"
      ],
      "text/plain": [
       "<IPython.core.display.Markdown object>"
      ]
     },
     "metadata": {},
     "output_type": "display_data"
    },
    {
     "name": "stdout",
     "output_type": "stream",
     "text": [
      "{'matches': False, 'video': 'TimsCalibration_docuCorrect_camera.MP4', 'expected_protocol': '5', 'found_protocol': None, 'message': 'No protocol number found in observation'}\n",
      "Processing video: TimsCalibration_docuNotAllClicksVisibleOnVideo.MP4\n",
      "/Users/patriciaskowronek/Documents/documentation_agent_few_shot_examples/benchmark_dataset/documentation/TimsCalibration_docuNotAllClicksVisibleOnVideo.MP4\n"
     ]
    },
    {
     "data": {
      "text/markdown": [
       "The video shows a computer screen displaying data from a mass spectrometry experiment.  The software appears to be Bruker's HyStar software, commonly used with their timsTOF mass spectrometers.\n",
       "\n",
       "* **Equipment Observed:**\n",
       "    * Computer monitor displaying HyStar software\n",
       "    * timsTOF mass spectrometer (inferred from software)\n",
       "    * Evosep One LC System (inferred from software)\n",
       "\n",
       "* **Actions Performed:**\n",
       "    * Monitoring a mass spectrometry run in progress, as shown by the chromatogram and spectrum data on the screen.\n",
       "    * Observing changes in the chromatographic peaks over time.\n",
       "    * The software is displaying information about the sample being analyzed including the name, retention time, and other MS parameters.\n",
       "\n",
       "- Protocol 1: 0%\n",
       "- Protocol 2: 0%\n",
       "- Protocol 3: 0%\n",
       "- Protocol 4: 0%\n",
       "- Protocol 5: 0%\n",
       "- Protocol 6: 0%\n",
       "- Protocol 7: 0%\n",
       "- Protocol 8: 0%\n",
       "- Protocol 9: 0%\n",
       "- Protocol 10: 0%\n",
       "\n",
       "Protocol number: None\n",
       "\n"
      ],
      "text/plain": [
       "<IPython.core.display.Markdown object>"
      ]
     },
     "metadata": {},
     "output_type": "display_data"
    },
    {
     "name": "stdout",
     "output_type": "stream",
     "text": [
      "{'matches': False, 'video': 'TimsCalibration_docuNotAllClicksVisibleOnVideo.MP4', 'expected_protocol': '5', 'found_protocol': None, 'message': 'No protocol number found in observation'}\n",
      "Processing video: PlaceEvotips_docuBoxAngeled.MP4\n",
      "/Users/patriciaskowronek/Documents/documentation_agent_few_shot_examples/benchmark_dataset/documentation/PlaceEvotips_docuBoxAngeled.MP4\n"
     ]
    },
    {
     "data": {
      "text/markdown": [
       "Here's an analysis of the provided lab video, following the specified format:\n",
       "\n",
       "**Equipment observed in the video:**\n",
       "\n",
       "* Evosep One LC System\n",
       "* EVOTIP boxes (96-well plates)\n",
       "* Multichannel pipette\n",
       "\n",
       "**Actions performed in the video:**\n",
       "\n",
       "* The researcher retrieves two EVOTIP boxes from a storage location.\n",
       "* One box is placed onto the Evosep One.\n",
       "* The researcher picks up a multichannel pipette and appears to load tips.\n",
       "* The researcher uses the multichannel pipette to transfer liquid from one EVOTIP box to another.\n",
       "* The researcher places the second EVOTIP box onto the Evosep One.\n",
       "* The researcher appears to double check the positions of the EVOTIP boxes on the Evosep One.\n",
       "\n",
       "**Protocol comparison:**\n",
       "\n",
       "- Protocol 1: 0%\n",
       "- Protocol 2: 80% & correct order of steps\n",
       "- Protocol 3: 0%\n",
       "- Protocol 4: 0%\n",
       "- Protocol 5: 0%\n",
       "- Protocol 6: 0%\n",
       "- Protocol 7: 0%\n",
       "- Protocol 8: 0%\n",
       "- Protocol 9: 0%\n",
       "- Protocol 10: 0%\n",
       "\n",
       "**Protocol number: 2**\n"
      ],
      "text/plain": [
       "<IPython.core.display.Markdown object>"
      ]
     },
     "metadata": {},
     "output_type": "display_data"
    },
    {
     "name": "stdout",
     "output_type": "stream",
     "text": [
      "{'matches': True, 'video': 'PlaceEvotips_docuBoxAngeled.MP4', 'expected_protocol': '2', 'found_protocol': '2'}\n",
      "Processing video: UltraSourceToESIsource_docuForgotGlovesANDCapillaryCap.MP4\n",
      "/Users/patriciaskowronek/Documents/documentation_agent_few_shot_examples/benchmark_dataset/documentation/UltraSourceToESIsource_docuForgotGlovesANDCapillaryCap.MP4\n"
     ]
    },
    {
     "data": {
      "text/markdown": [
       "The researcher in the video is using the following equipment:\n",
       "\n",
       "- Evosep One LC System\n",
       "- Bruker timsTOF mass spectrometer\n",
       "- syringe\n",
       "- gloves\n",
       "\n",
       "Actions performed in the video:\n",
       "\n",
       "\n",
       "- The researcher removes a component from the timsTOF.\n",
       "- They visually inspect the removed component.\n",
       "- The researcher retrieves a syringe.\n",
       "- They fill the syringe with liquid.\n",
       "- The researcher carefully inserts the syringe needle into a port on the timsTOF.\n",
       "- The researcher replaces the component removed at the beginning of the procedure.\n",
       "\n",
       "\n",
       "Comparison with protocols:\n",
       "\n",
       "- Protocol 1: 0%\n",
       "- Protocol 2: 0%\n",
       "- Protocol 3: 0%\n",
       "- Protocol 4: 0%\n",
       "- Protocol 5: 0%\n",
       "- Protocol 6: 0%\n",
       "- Protocol 7: 0%\n",
       "- Protocol 8: 0%\n",
       "- Protocol 9: 0%\n",
       "- Protocol 10: 0%\n",
       "\n",
       "Protocol number: None\n",
       "\n"
      ],
      "text/plain": [
       "<IPython.core.display.Markdown object>"
      ]
     },
     "metadata": {},
     "output_type": "display_data"
    },
    {
     "name": "stdout",
     "output_type": "stream",
     "text": [
      "{'matches': False, 'video': 'UltraSourceToESIsource_docuForgotGlovesANDCapillaryCap.MP4', 'expected_protocol': '7', 'found_protocol': None, 'message': 'No protocol number found in observation'}\n",
      "Processing video: QueueSamples_docuCorrect_1.mov\n",
      "/Users/patriciaskowronek/Documents/documentation_agent_few_shot_examples/benchmark_dataset/documentation/QueueSamples_docuCorrect_1.mov\n"
     ]
    },
    {
     "data": {
      "text/markdown": [
       "Here's an analysis of the provided video following the requested format:\n",
       "\n",
       "**Equipment Observed in the Video:**\n",
       "\n",
       "* Computer screen displaying Bruker Compass software (Evosep One and timsTOF SCP control software)\n",
       "\n",
       "\n",
       "**Actions Performed in the Video:**\n",
       "\n",
       "* The video shows a software interface where the user is queuing samples for analysis.\n",
       "* Samples and blanks are assigned to specific positions (lines and vials) on an Evosep system.\n",
       "* The user is initiating an acquisition sequence in the software. \n",
       "* The software shows the progress of the acquisition, including chromatogram data.\n",
       "\n",
       "\n",
       "**Protocol Comparison:**\n",
       "\n",
       "- Protocol 1: 0% []\n",
       "- Protocol 2: 0% []\n",
       "- Protocol 3: 0% []\n",
       "- Protocol 4: 0% []\n",
       "- Protocol 5: 0% []\n",
       "- Protocol 6: 0% []\n",
       "- Protocol 7: 0% []\n",
       "- Protocol 8: 0% []\n",
       "- Protocol 9: 0% []\n",
       "- Protocol 10: 0% []\n",
       "\n",
       "\n",
       "**Protocol Number: 1**"
      ],
      "text/plain": [
       "<IPython.core.display.Markdown object>"
      ]
     },
     "metadata": {},
     "output_type": "display_data"
    },
    {
     "name": "stdout",
     "output_type": "stream",
     "text": [
      "{'matches': False, 'video': 'QueueSamples_docuCorrect_1.mov', 'expected_protocol': '1', 'found_protocol': None, 'message': 'No protocol number found in observation'}\n",
      "Processing video: QueueSamples_docuNoBlankNoSampleIDWrongMSmethod.mov\n",
      "/Users/patriciaskowronek/Documents/documentation_agent_few_shot_examples/benchmark_dataset/documentation/QueueSamples_docuNoBlankNoSampleIDWrongMSmethod.mov\n"
     ]
    },
    {
     "data": {
      "text/markdown": [
       "The video shows a software interface, specifically the Bruker Compass software used for controlling the timsTOF mass spectrometer and Evosep One LC system.\n",
       "\n",
       "\n",
       "Actions performed in the video:\n",
       "\n",
       "\n",
       "- The user selects samples for analysis from a sample table.\n",
       "- The user reviews the sample queue.\n",
       "- The user adds new samples to the queue.\n",
       "- The user modifies sample information, such as the sample ID and location.\n",
       "- The user configures the tray type and autocompletion settings.\n",
       "- The user reviews and adjusts the separation method and MS method settings.\n",
       "- The user initiates the sample acquisition process.\n",
       "\n",
       "\n",
       "Comparison with protocols:\n",
       "\n",
       "\n",
       "- Protocol 1: 80% & correct order of steps\n",
       "- Protocol 2: 0%\n",
       "- Protocol 3: 0%\n",
       "- Protocol 4: 0%\n",
       "- Protocol 5: 0%\n",
       "- Protocol 6: 0%\n",
       "- Protocol 7: 0%\n",
       "- Protocol 8: 0%\n",
       "- Protocol 9: 0%\n",
       "- Protocol 10: 0%\n",
       "\n",
       "\n",
       "Protocol number: 1\n",
       "\n"
      ],
      "text/plain": [
       "<IPython.core.display.Markdown object>"
      ]
     },
     "metadata": {},
     "output_type": "display_data"
    },
    {
     "name": "stdout",
     "output_type": "stream",
     "text": [
      "{'matches': True, 'video': 'QueueSamples_docuNoBlankNoSampleIDWrongMSmethod.mov', 'expected_protocol': '1', 'found_protocol': '1'}\n",
      "Processing video: UltraSourceToESIsource_docuCorrect.MP4\n",
      "/Users/patriciaskowronek/Documents/documentation_agent_few_shot_examples/benchmark_dataset/documentation/UltraSourceToESIsource_docuCorrect.MP4\n"
     ]
    },
    {
     "data": {
      "text/markdown": [
       "The researcher in the video is using following equipment:\n",
       "\n",
       "- Bruker timsTOF mass spectrometer\n",
       "- Evosep One LC system\n",
       "- Pliers\n",
       "- Nitrile gloves\n",
       "\n",
       "\n",
       "Actions of the researcher in the video:\n",
       "\n",
       "- Opens the source housing of the timsTOF mass spectrometer.\n",
       "- Removes the source plate from the instrument.\n",
       "- Places the source plate on the lab bench.\n",
       "- Puts on nitrile gloves.\n",
       "- Removes the capillary from the source plate.\n",
       "- Places the capillary on the lab bench.\n",
       "- Retrieves a new capillary from a container.\n",
       "- Inserts the new capillary into the source plate.\n",
       "- Places the source plate back into the mass spectrometer.\n",
       "- Closes the source housing.\n",
       "\n",
       "\n",
       "- Protocol 1: 0%\n",
       "- Protocol 2: 0%\n",
       "- Protocol 3: 0%\n",
       "- Protocol 4: 0%\n",
       "- Protocol 5: 0%\n",
       "- Protocol 6: 0%\n",
       "- Protocol 7: 20% & but different order of steps\n",
       "- Protocol 8: 0%\n",
       "- Protocol 9: 20% & but different order of steps\n",
       "- Protocol 10: 0%\n",
       "\n",
       "Protocol number: None"
      ],
      "text/plain": [
       "<IPython.core.display.Markdown object>"
      ]
     },
     "metadata": {},
     "output_type": "display_data"
    },
    {
     "name": "stdout",
     "output_type": "stream",
     "text": [
      "{'matches': False, 'video': 'UltraSourceToESIsource_docuCorrect.MP4', 'expected_protocol': '7', 'found_protocol': None, 'message': 'No protocol number found in observation'}\n",
      "Processing video: DisconnectingColumn_docuWithoutStandby_1.MP4\n",
      "/Users/patriciaskowronek/Documents/documentation_agent_few_shot_examples/benchmark_dataset/documentation/DisconnectingColumn_docuWithoutStandby_1.MP4\n"
     ]
    },
    {
     "data": {
      "text/markdown": [
       "Here's an analysis of the provided lab video, following the requested format:\n",
       "\n",
       "**Equipment Observed in the Video:**\n",
       "\n",
       "- IonOpticks Column\n",
       "- timsTOF Mass Spectrometer (with UltraSource)\n",
       "- Evosep One LC System (with sample line)\n",
       "- NanoViper Adapter (black)\n",
       "- Pliers\n",
       "\n",
       "\n",
       "**Actions Performed in the Video:**\n",
       "\n",
       "- The researcher disconnects the sample line from the IonOpticks column.\n",
       "- They use pliers to help unscrew the connection.\n",
       "- The detached connector is then placed aside.\n",
       "\n",
       "\n",
       "**Protocol Comparison:**\n",
       "\n",
       "- Protocol 1: 0%\n",
       "- Protocol 2: 0%\n",
       "- Protocol 3: 95% & correct order of steps\n",
       "- Protocol 4: 0%\n",
       "- Protocol 5: 0%\n",
       "- Protocol 6: 50% but different order of steps\n",
       "- Protocol 7: 0%\n",
       "- Protocol 8: 0%\n",
       "- Protocol 9: 0%\n",
       "- Protocol 10: 0%\n",
       "\n",
       "\n",
       "**Protocol Number: 3**\n"
      ],
      "text/plain": [
       "<IPython.core.display.Markdown object>"
      ]
     },
     "metadata": {},
     "output_type": "display_data"
    },
    {
     "name": "stdout",
     "output_type": "stream",
     "text": [
      "{'matches': False, 'video': 'DisconnectingColumn_docuWithoutStandby_1.MP4', 'expected_protocol': '3', 'found_protocol': None, 'message': 'No protocol number found in observation'}\n",
      "Processing video: QueueSamples_docuDiffSampleNameAndEvotipNotAtPosition.mov\n",
      "/Users/patriciaskowronek/Documents/documentation_agent_few_shot_examples/benchmark_dataset/documentation/QueueSamples_docuDiffSampleNameAndEvotipNotAtPosition.mov\n"
     ]
    },
    {
     "data": {
      "text/markdown": [
       "The video shows a software interface, specifically the Bruker Compass software used to control and monitor an Evosep One LC system coupled with a timsTOF mass spectrometer.  No laboratory procedure involving physical manipulation of equipment is shown.\n",
       "\n",
       "\n",
       "- Protocol 1: 100% & correct order of steps\n",
       "- Protocol 2: 0%\n",
       "- Protocol 3: 0%\n",
       "- Protocol 4: 0%\n",
       "- Protocol 5: 0%\n",
       "- Protocol 6: 0%\n",
       "- Protocol 7: 0%\n",
       "- Protocol 8: 0%\n",
       "- Protocol 9: 0%\n",
       "- Protocol 10: 0%\n",
       "\n",
       "Protocol number: 1\n",
       "\n"
      ],
      "text/plain": [
       "<IPython.core.display.Markdown object>"
      ]
     },
     "metadata": {},
     "output_type": "display_data"
    },
    {
     "name": "stdout",
     "output_type": "stream",
     "text": [
      "{'matches': True, 'video': 'QueueSamples_docuDiffSampleNameAndEvotipNotAtPosition.mov', 'expected_protocol': '1', 'found_protocol': '1'}\n",
      "Processing video: Pipette_ducoBufferBInsteadBufferA.MP4\n",
      "/Users/patriciaskowronek/Documents/documentation_agent_few_shot_examples/benchmark_dataset/documentation/Pipette_ducoBufferBInsteadBufferA.MP4\n"
     ]
    },
    {
     "data": {
      "text/markdown": [
       "As Professor Matthias Mann, I have reviewed the provided video and protocols.\n",
       "\n",
       "\n",
       "The video shows:\n",
       "\n",
       "* Equipment:\n",
       "    * PCR plate\n",
       "    * Micropipette (20 µL)\n",
       "    * Buffer A in a small bottle\n",
       "    * Tip box\n",
       "\n",
       "* Actions:\n",
       "    * The researcher sets the micropipette to 20 µL.\n",
       "    * The researcher aspirates Buffer A.\n",
       "    * The researcher dispenses 20 µL of Buffer A into wells A1 and A2 of the PCR plate.\n",
       "\n",
       "\n",
       "Protocol Analysis:\n",
       "\n",
       "- Protocol 1: 0%\n",
       "- Protocol 2: 0%\n",
       "- Protocol 3: 0%\n",
       "- Protocol 4: 20% (but different order of steps)\n",
       "- Protocol 5: 0%\n",
       "- Protocol 6: 0%\n",
       "- Protocol 7: 0%\n",
       "- Protocol 8: 80% (and correct order of steps)\n",
       "- Protocol 9: 0%\n",
       "- Protocol 10: 0%\n",
       "\n",
       "\n",
       "Protocol number: 8"
      ],
      "text/plain": [
       "<IPython.core.display.Markdown object>"
      ]
     },
     "metadata": {},
     "output_type": "display_data"
    },
    {
     "name": "stdout",
     "output_type": "stream",
     "text": [
      "{'matches': True, 'video': 'Pipette_ducoBufferBInsteadBufferA.MP4', 'expected_protocol': '8', 'found_protocol': '8'}\n",
      "Processing video: ESIsourceToUltraSource_docuFogotOvenPowerSupply.MP4\n",
      "/Users/patriciaskowronek/Documents/documentation_agent_few_shot_examples/benchmark_dataset/documentation/ESIsourceToUltraSource_docuFogotOvenPowerSupply.MP4\n"
     ]
    },
    {
     "data": {
      "text/markdown": [
       "Certainly, let's analyze the video and match it to the provided protocols.\n",
       "\n",
       "\n",
       "**Equipment Observed in the Video:**\n",
       "\n",
       "* Bruker timsTOF mass spectrometer (with UltraSource ion source)\n",
       "* Evosep One LC system (with sample line)\n",
       "* NanoViper adapter (black)\n",
       "* Pliers\n",
       "\n",
       "\n",
       "**Actions Performed in the Video:**\n",
       "\n",
       "* The researcher, wearing black nitrile gloves, carefully removes a component from the timsTOF's ion source area.\n",
       "* A metal component is then manipulated and shown to the camera.\n",
       "* Next, the researcher re-inserts the metal component into the timsTOF's ion source.\n",
       "* Finally, the researcher connects the NanoViper adapter to the sample line and reattaches it to the timsTOF.\n",
       "\n",
       "\n",
       "**Protocol Matching:**\n",
       "\n",
       "- Protocol 1: 0%\n",
       "- Protocol 2: 0%\n",
       "- Protocol 3: 0%\n",
       "- Protocol 4: 0%\n",
       "- Protocol 5: 0%\n",
       "- Protocol 6: 80% & different order of steps\n",
       "- Protocol 7: 0%\n",
       "- Protocol 8: 0%\n",
       "- Protocol 9: 70% & different order of steps\n",
       "- Protocol 10: 0%\n",
       "\n",
       "\n",
       "**Protocol number: 6**\n",
       "\n"
      ],
      "text/plain": [
       "<IPython.core.display.Markdown object>"
      ]
     },
     "metadata": {},
     "output_type": "display_data"
    },
    {
     "name": "stdout",
     "output_type": "stream",
     "text": [
      "{'matches': False, 'video': 'ESIsourceToUltraSource_docuFogotOvenPowerSupply.MP4', 'expected_protocol': '9', 'found_protocol': '6'}\n",
      "Processing video: Pipette_docu_WrongRowB_B10Twice_B11LeftOut.MP4\n",
      "/Users/patriciaskowronek/Documents/documentation_agent_few_shot_examples/benchmark_dataset/documentation/Pipette_docu_WrongRowB_B10Twice_B11LeftOut.MP4\n"
     ]
    },
    {
     "data": {
      "text/markdown": [
       "As Professor Matthias Mann, I have analyzed the provided video.\n",
       "\n",
       "\n",
       "The equipment observed in the video includes:\n",
       "\n",
       "- A multichannel pipette\n",
       "- A 96-well PCR plate\n",
       "- Two bottles of buffer A\n",
       "\n",
       "The actions performed in the video are:\n",
       "\n",
       "- The researcher verbally states their intention to pipette 20µL of buffer A into wells A1 through A12 of a 96-well plate.\n",
       "- The researcher picks up a multichannel pipette and appears to set the volume.\n",
       "- The researcher aspirates buffer A.\n",
       "- The researcher dispenses 20µL of buffer A into each well of the plate, from A1 to A12.\n",
       "\n",
       "\n",
       "Comparison with the provided protocols:\n",
       "\n",
       "- Protocol 1: 0%\n",
       "- Protocol 2: 0%\n",
       "- Protocol 3: 0%\n",
       "- Protocol 4: 20% & but different order of steps\n",
       "- Protocol 5: 0%\n",
       "- Protocol 6: 0%\n",
       "- Protocol 7: 0%\n",
       "- Protocol 8: 95% & correct order of steps\n",
       "- Protocol 9: 0%\n",
       "- Protocol 10: 0%\n",
       "\n",
       "Protocol number: 8"
      ],
      "text/plain": [
       "<IPython.core.display.Markdown object>"
      ]
     },
     "metadata": {},
     "output_type": "display_data"
    },
    {
     "name": "stdout",
     "output_type": "stream",
     "text": [
      "{'matches': True, 'video': 'Pipette_docu_WrongRowB_B10Twice_B11LeftOut.MP4', 'expected_protocol': '8', 'found_protocol': '8'}\n",
      "Processing video: ConnectingColumnSampleLine_docuWithoutStandbyANDtimsControl.mp4\n",
      "/Users/patriciaskowronek/Documents/documentation_agent_few_shot_examples/benchmark_dataset/documentation/ConnectingColumnSampleLine_docuWithoutStandbyANDtimsControl.mp4\n"
     ]
    },
    {
     "data": {
      "text/markdown": [
       "Here's an analysis of the provided lab video, following the requested format:\n",
       "\n",
       "**Equipment Observed:**\n",
       "\n",
       "- IonOpticks Column\n",
       "- timsTOF Mass Spectrometer (Bruker)\n",
       "    - Equipped with UltraSource ion source\n",
       "- Evosep One LC System\n",
       "    - with sample line\n",
       "- NanoViper Adapter (black)\n",
       "- Pliers\n",
       "- Gloves\n",
       "\n",
       "\n",
       "**Actions Performed:**\n",
       "\n",
       "- The researcher, wearing gloves, carefully disconnects the sample line from the IonOpticks column using pliers to hold the connector.\n",
       "- The sample line is then manipulated, possibly to avoid kinks, before being guided away from the mass spectrometer.\n",
       "\n",
       "\n",
       "**Protocol Comparison:**\n",
       "\n",
       "- Protocol 1: 0%\n",
       "- Protocol 2: 0%\n",
       "- Protocol 3: 80% & correct order of steps\n",
       "- Protocol 4: 0%\n",
       "- Protocol 5: 0%\n",
       "- Protocol 6: 20% & but different order of steps\n",
       "- Protocol 7: 0%\n",
       "- Protocol 8: 0%\n",
       "- Protocol 9: 40% & but different order of steps\n",
       "- Protocol 10: 0%\n",
       "\n",
       "\n",
       "**Protocol number: 3**\n"
      ],
      "text/plain": [
       "<IPython.core.display.Markdown object>"
      ]
     },
     "metadata": {},
     "output_type": "display_data"
    },
    {
     "name": "stdout",
     "output_type": "stream",
     "text": [
      "{'matches': False, 'video': 'ConnectingColumnSampleLine_docuWithoutStandbyANDtimsControl.mp4', 'expected_protocol': '6', 'found_protocol': '3'}\n",
      "Processing video: TimsCalibration_docuSavedMethod.mov\n",
      "/Users/patriciaskowronek/Documents/documentation_agent_few_shot_examples/benchmark_dataset/documentation/TimsCalibration_docuSavedMethod.mov\n"
     ]
    },
    {
     "data": {
      "text/markdown": [
       "As Professor Matthias Mann, I have analyzed the provided video.\n",
       "\n",
       "\n",
       "The video shows a software interface, specifically the Bruker timsTOF software.  No physical laboratory equipment or actions are visible.\n",
       "\n",
       "\n",
       "- Protocol 1: 0%\n",
       "- Protocol 2: 0%\n",
       "- Protocol 3: 0%\n",
       "- Protocol 4: 0%\n",
       "- Protocol 5: 80% & correct order of steps\n",
       "- Protocol 6: 0%\n",
       "- Protocol 7: 0%\n",
       "- Protocol 8: 0%\n",
       "- Protocol 9: 0%\n",
       "- Protocol 10: 0%\n",
       "\n",
       "\n",
       "Protocol number: 5\n",
       "\n"
      ],
      "text/plain": [
       "<IPython.core.display.Markdown object>"
      ]
     },
     "metadata": {},
     "output_type": "display_data"
    },
    {
     "name": "stdout",
     "output_type": "stream",
     "text": [
      "{'matches': True, 'video': 'TimsCalibration_docuSavedMethod.mov', 'expected_protocol': '5', 'found_protocol': '5'}\n",
      "Processing video: Dilute_docuWrongSolvent.MP4\n",
      "/Users/patriciaskowronek/Documents/documentation_agent_few_shot_examples/benchmark_dataset/documentation/Dilute_docuWrongSolvent.MP4\n"
     ]
    },
    {
     "data": {
      "text/markdown": [
       "As Professor Matthias Mann, I have reviewed the provided video and protocols.\n",
       "\n",
       "\n",
       "The equipment observed in the video includes:\n",
       "\n",
       "- Eppendorf tubes\n",
       "- Multichannel pipette\n",
       "- Pipette tips\n",
       "- Buffer A\n",
       "- Buffer B\n",
       "- PCR plate (orange 96-well plate)\n",
       "\n",
       "\n",
       "The actions performed in the video are:\n",
       "\n",
       "- The researcher prepares a multichannel pipette.\n",
       "- The researcher pipettes 200 µL of Buffer A into wells of a 96-well plate.\n",
       "- The researcher pipettes 100 µL of Buffer B into the same wells of the 96-well plate.\n",
       "\n",
       "\n",
       "Comparison of video content with protocols:\n",
       "\n",
       "- Protocol 1: 0%\n",
       "- Protocol 2: 0%\n",
       "- Protocol 3: 0%\n",
       "- Protocol 4: 95% & correct order of steps\n",
       "- Protocol 5: 0%\n",
       "- Protocol 6: 0%\n",
       "- Protocol 7: 0%\n",
       "- Protocol 8: 0%\n",
       "- Protocol 9: 0%\n",
       "- Protocol 10: 0%\n",
       "\n",
       "\n",
       "Protocol number: 4\n",
       "\n"
      ],
      "text/plain": [
       "<IPython.core.display.Markdown object>"
      ]
     },
     "metadata": {},
     "output_type": "display_data"
    },
    {
     "name": "stdout",
     "output_type": "stream",
     "text": [
      "{'matches': True, 'video': 'Dilute_docuWrongSolvent.MP4', 'expected_protocol': '4', 'found_protocol': '4'}\n",
      "Processing video: TimsCalibration_docuWrongOrderSteps.mov\n",
      "/Users/patriciaskowronek/Documents/documentation_agent_few_shot_examples/benchmark_dataset/documentation/TimsCalibration_docuWrongOrderSteps.mov\n"
     ]
    },
    {
     "data": {
      "text/markdown": [
       "The video shows a screen recording of a Bruker timsTOF mass spectrometer software interface.  The user is performing a calibration of the ion mobility.\n",
       "\n",
       "\n",
       "- Equipment observed: Bruker timsTOF mass spectrometer software (timsControl).\n",
       "\n",
       "- Actions performed:\n",
       "    - The user navigates to the calibration section of the software.\n",
       "    - A reference list of compounds is shown.\n",
       "    - The user selects \"Calibrate\" to initiate the calibration process.\n",
       "    - The software displays progress and results of the calibration.\n",
       "    - The user accepts the calibration results after achieving a 100% score.\n",
       "\n",
       "\n",
       "- Protocol 1: 0% & no overlap\n",
       "- Protocol 2: 0% & no overlap\n",
       "- Protocol 3: 0% & no overlap\n",
       "- Protocol 4: 0% & no overlap\n",
       "- Protocol 5: 90% & correct order of steps\n",
       "- Protocol 6: 0% & no overlap\n",
       "- Protocol 7: 0% & no overlap\n",
       "- Protocol 8: 0% & no overlap\n",
       "- Protocol 9: 0% & no overlap\n",
       "- Protocol 10: 0% & no overlap\n",
       "\n",
       "Protocol number: 5"
      ],
      "text/plain": [
       "<IPython.core.display.Markdown object>"
      ]
     },
     "metadata": {},
     "output_type": "display_data"
    },
    {
     "name": "stdout",
     "output_type": "stream",
     "text": [
      "{'matches': True, 'video': 'TimsCalibration_docuWrongOrderSteps.mov', 'expected_protocol': '5', 'found_protocol': '5'}\n",
      "Processing video: Dilute_docuWrongVolume_PipettTipNotChanged.MP4\n",
      "/Users/patriciaskowronek/Documents/documentation_agent_few_shot_examples/benchmark_dataset/documentation/Dilute_docuWrongVolume_PipettTipNotChanged.MP4\n"
     ]
    },
    {
     "data": {
      "text/markdown": [
       "As Professor Matthias Mann, I have analyzed the provided video.\n",
       "\n",
       "**Equipment Observed:**\n",
       "\n",
       "* Eppendorf tubes (two)\n",
       "* Multichannel pipette\n",
       "* Pipette tips (box)\n",
       "* Vortex mixer\n",
       "* 96-well plate (orange)\n",
       "* Lab marker pen\n",
       "* Note pad\n",
       "\n",
       "\n",
       "**Actions Performed:**\n",
       "\n",
       "* The researcher prepares a multichannel pipette.\n",
       "* 400µl of liquid from a bottle is aspirated into the pipette.\n",
       "* The researcher dispenses 400µl of liquid into each of the two Eppendorf tubes.\n",
       "* 100µl of liquid from a second bottle is aspirated into the pipette.\n",
       "* The researcher dispenses 100µl of liquid into each of the two Eppendorf tubes.\n",
       "* The researcher labels the Eppendorf tubes.\n",
       "\n",
       "\n",
       "**Protocol Comparison:**\n",
       "\n",
       "- Protocol 1: 0%\n",
       "- Protocol 2: 0%\n",
       "- Protocol 3: 0%\n",
       "- Protocol 4: 90% & correct order of steps\n",
       "- Protocol 5: 0%\n",
       "- Protocol 6: 0%\n",
       "- Protocol 7: 0%\n",
       "- Protocol 8: 0%\n",
       "- Protocol 9: 0%\n",
       "- Protocol 10: 0%\n",
       "\n",
       "\n",
       "**Protocol number: 4**\n"
      ],
      "text/plain": [
       "<IPython.core.display.Markdown object>"
      ]
     },
     "metadata": {},
     "output_type": "display_data"
    },
    {
     "name": "stdout",
     "output_type": "stream",
     "text": [
      "{'matches': True, 'video': 'Dilute_docuWrongVolume_PipettTipNotChanged.MP4', 'expected_protocol': '4', 'found_protocol': '4'}\n",
      "Processing video: DisconnectingColumn_docuCorrect.MP4\n",
      "/Users/patriciaskowronek/Documents/documentation_agent_few_shot_examples/benchmark_dataset/documentation/DisconnectingColumn_docuCorrect.MP4\n"
     ]
    },
    {
     "data": {
      "text/markdown": [
       "The researcher in the video is using the following equipment:\n",
       "\n",
       "- IonOpticks Column\n",
       "- timsTOF Mass Spectrometer\n",
       "    - Equipped with UltraSource ion source\n",
       "- Evosep One LC System\n",
       "    - with sample line\n",
       "- NanoViper Adapter (black)\n",
       "- Pliers\n",
       "\n",
       "Actions of the researcher in the video:\n",
       "\n",
       "- Removes the NanoViper adapter from the sample line.\n",
       "- Uses pliers to disconnect the sample line from the IonOpticks column.\n",
       "\n",
       "\n",
       "Comparison with protocols:\n",
       "\n",
       "- Protocol 1: 0%\n",
       "- Protocol 2: 0%\n",
       "- Protocol 3: 80% & correct order of steps\n",
       "- Protocol 4: 0%\n",
       "- Protocol 5: 0%\n",
       "- Protocol 6: 20% but different order of steps\n",
       "- Protocol 7: 0%\n",
       "- Protocol 8: 0%\n",
       "- Protocol 9: 60% but different order of steps\n",
       "- Protocol 10: 0%\n",
       "\n",
       "Protocol number: 3"
      ],
      "text/plain": [
       "<IPython.core.display.Markdown object>"
      ]
     },
     "metadata": {},
     "output_type": "display_data"
    },
    {
     "name": "stdout",
     "output_type": "stream",
     "text": [
      "{'matches': True, 'video': 'DisconnectingColumn_docuCorrect.MP4', 'expected_protocol': '3', 'found_protocol': '3'}\n",
      "Processing video: Pipette_docuFirstTwoWrongVolumneANDA2Twice.MP4\n",
      "/Users/patriciaskowronek/Documents/documentation_agent_few_shot_examples/benchmark_dataset/documentation/Pipette_docuFirstTwoWrongVolumneANDA2Twice.MP4\n"
     ]
    },
    {
     "data": {
      "text/markdown": [
       "As Professor Matthias Mann, I have reviewed the provided video.\n",
       "\n",
       "\n",
       "The equipment observed in the video includes:\n",
       "\n",
       "- A multichannel pipette\n",
       "- A 96-well PCR plate\n",
       "- Two bottles, labeled \"Buffer A\" and \"Buffer B\"\n",
       "- Tip boxes\n",
       "\n",
       "\n",
       "Actions performed in the video:\n",
       "\n",
       "- The researcher picks up a multichannel pipette.\n",
       "- The researcher selects a tip from the tip box.\n",
       "- The researcher draws Buffer A into the pipette.\n",
       "- The researcher dispenses 20 µL of Buffer A into wells A1 through A12 of the PCR plate.\n",
       "- The researcher ejects the pipette tip.\n",
       "\n",
       "\n",
       "Comparison with protocols:\n",
       "\n",
       "- Protocol 1: 0%\n",
       "- Protocol 2: 0%\n",
       "- Protocol 3: 0%\n",
       "- Protocol 4: 20% but different order of steps\n",
       "- Protocol 5: 0%\n",
       "- Protocol 6: 0%\n",
       "- Protocol 7: 0%\n",
       "- Protocol 8: 95% & correct order of steps\n",
       "- Protocol 9: 0%\n",
       "- Protocol 10: 0%\n",
       "\n",
       "\n",
       "Protocol number: 8\n",
       "\n"
      ],
      "text/plain": [
       "<IPython.core.display.Markdown object>"
      ]
     },
     "metadata": {},
     "output_type": "display_data"
    },
    {
     "name": "stdout",
     "output_type": "stream",
     "text": [
      "{'matches': True, 'video': 'Pipette_docuFirstTwoWrongVolumneANDA2Twice.MP4', 'expected_protocol': '8', 'found_protocol': '8'}\n",
      "Processing video: PlaceEvotips_docuWrongPosition.MP4\n",
      "/Users/patriciaskowronek/Documents/documentation_agent_few_shot_examples/benchmark_dataset/documentation/PlaceEvotips_docuWrongPosition.MP4\n"
     ]
    },
    {
     "data": {
      "text/markdown": [
       "The researcher in the video is using the following equipment:\n",
       "\n",
       "- Evosep One LC System\n",
       "- Evotips\n",
       "- Tip Boxes\n",
       "\n",
       "Actions of the researcher in the video:\n",
       "\n",
       "- The researcher picks up two boxes of Evotips.\n",
       "- Places the boxes onto the deck of the Evosep.\n",
       "- Picks up a third box of Evotips.\n",
       "- Places individual Evotips from the third box into the other boxes.\n",
       "\n",
       "\n",
       "- Protocol 1: 0%\n",
       "- Protocol 2: 80% & correct order of steps\n",
       "- Protocol 3: 0%\n",
       "- Protocol 4: 0%\n",
       "- Protocol 5: 0%\n",
       "- Protocol 6: 0%\n",
       "- Protocol 7: 0%\n",
       "- Protocol 8: 0%\n",
       "- Protocol 9: 0%\n",
       "- Protocol 10: 0%\n",
       "\n",
       "Protocol number: 2\n",
       "\n"
      ],
      "text/plain": [
       "<IPython.core.display.Markdown object>"
      ]
     },
     "metadata": {},
     "output_type": "display_data"
    },
    {
     "name": "stdout",
     "output_type": "stream",
     "text": [
      "{'matches': True, 'video': 'PlaceEvotips_docuWrongPosition.MP4', 'expected_protocol': '2', 'found_protocol': '2'}\n",
      "Processing video: TimsCalibration_docuCorrect.mov\n",
      "/Users/patriciaskowronek/Documents/documentation_agent_few_shot_examples/benchmark_dataset/documentation/TimsCalibration_docuCorrect.mov\n"
     ]
    },
    {
     "data": {
      "text/markdown": [
       "The video shows a mobility calibration procedure on a Bruker timsTOF mass spectrometer.\n",
       "\n",
       "Equipment observed:\n",
       "\n",
       "- Computer with timsTOF software (timsControl)\n",
       "\n",
       "\n",
       "Actions performed:\n",
       "\n",
       "- The user opens the timsControl software.\n",
       "- The user checks the current calibration status.\n",
       "- The user selects the \"Calibration\" tab.\n",
       "- The user selects \"Mobility\" calibration mode.\n",
       "- The user initiates the calibration by pressing the \"Calibrate\" button.\n",
       "- The software displays the calibration progress.\n",
       "- The calibration is completed successfully, indicated by a 100% score.\n",
       "- The user accepts the calibration.\n",
       "\n",
       "\n",
       "Comparison with protocols:\n",
       "\n",
       "- Protocol 1: 0%\n",
       "- Protocol 2: 0%\n",
       "- Protocol 3: 0%\n",
       "- Protocol 4: 0%\n",
       "- Protocol 5: 90% & correct order of steps\n",
       "- Protocol 6: 0%\n",
       "- Protocol 7: 0%\n",
       "- Protocol 8: 0%\n",
       "- Protocol 9: 0%\n",
       "- Protocol 10: 0%\n",
       "\n",
       "\n",
       "Protocol number: 5"
      ],
      "text/plain": [
       "<IPython.core.display.Markdown object>"
      ]
     },
     "metadata": {},
     "output_type": "display_data"
    },
    {
     "name": "stdout",
     "output_type": "stream",
     "text": [
      "{'matches': True, 'video': 'TimsCalibration_docuCorrect.mov', 'expected_protocol': '5', 'found_protocol': '5'}\n",
      "Processing video: QueueSamples_docuWrongRow_S3A1Twice.mov\n",
      "/Users/patriciaskowronek/Documents/documentation_agent_few_shot_examples/benchmark_dataset/documentation/QueueSamples_docuWrongRow_S3A1Twice.mov\n"
     ]
    },
    {
     "data": {
      "text/markdown": [
       "As Professor Matthias Mann, I have reviewed the provided video and protocols.  My analysis is as follows:\n",
       "\n",
       "**Equipment Observed in the Video:**\n",
       "\n",
       "* Compass software (Bruker) displaying a sample queue table.\n",
       "* Evosep One LC system (indicated in the software).\n",
       "* timsTOF mass spectrometer (implied by the software).\n",
       "\n",
       "**Actions Performed in the Video:**\n",
       "\n",
       "* The video shows a user interacting with the Compass software to create and modify a sample queue for LC-MS analysis.\n",
       "* The user adds samples to the queue, specifying sample IDs, locations (Evotips), paths, separation methods, and MS methods.\n",
       "* The user modifies the tip configuration within the software.\n",
       "* The user initiates the sample queue.\n",
       "\n",
       "\n",
       "**Protocol Comparison:**\n",
       "\n",
       "- Protocol 1: 0% [No content overlap]\n",
       "- Protocol 2: 0% [No content overlap]\n",
       "- Protocol 3: 0% [No content overlap]\n",
       "- Protocol 4: 0% [No content overlap]\n",
       "- Protocol 5: 0% [No content overlap]\n",
       "- Protocol 6: 0% [No content overlap]\n",
       "- Protocol 7: 0% [No content overlap]\n",
       "- Protocol 8: 0% [No content overlap]\n",
       "- Protocol 9: 0% [No content overlap]\n",
       "- Protocol 10: 0% [No content overlap]\n",
       "\n",
       "Protocol number: None\n",
       "\n"
      ],
      "text/plain": [
       "<IPython.core.display.Markdown object>"
      ]
     },
     "metadata": {},
     "output_type": "display_data"
    },
    {
     "name": "stdout",
     "output_type": "stream",
     "text": [
      "{'matches': False, 'video': 'QueueSamples_docuWrongRow_S3A1Twice.mov', 'expected_protocol': '1', 'found_protocol': None, 'message': 'No protocol number found in observation'}\n",
      "Processing video: PlaceEvotips_docuCorrect.MP4\n",
      "/Users/patriciaskowronek/Documents/documentation_agent_few_shot_examples/benchmark_dataset/documentation/PlaceEvotips_docuCorrect.MP4\n"
     ]
    },
    {
     "data": {
      "text/markdown": [
       "The researcher in the video is using the following equipment:\n",
       "\n",
       "- Evosep One LC System\n",
       "- EVOTIP boxes\n",
       "- A box of EVOTIP tips\n",
       "- Tweezers\n",
       "\n",
       "\n",
       "Actions performed in the video:\n",
       "\n",
       "- The researcher picks up an EVOTIP box from a nearby bench.\n",
       "- Two EVOTIP boxes are already placed on the Evosep One.\n",
       "- The researcher carefully places the EVOTIP box onto the Evosep One.\n",
       "- The researcher selects two tips from a box of EVOTIPs using tweezers.\n",
       "- The researcher carefully places the selected tips into the EVOTIP boxes on the Evosep One.\n",
       "\n",
       "\n",
       "Comparison of video content with protocols:\n",
       "\n",
       "- Protocol 1: 0%\n",
       "- Protocol 2: 90% & correct order of steps\n",
       "- Protocol 3: 0%\n",
       "- Protocol 4: 0%\n",
       "- Protocol 5: 0%\n",
       "- Protocol 6: 0%\n",
       "- Protocol 7: 0%\n",
       "- Protocol 8: 0%\n",
       "- Protocol 9: 0%\n",
       "- Protocol 10: 0%\n",
       "\n",
       "\n",
       "Protocol number: 2\n",
       "\n"
      ],
      "text/plain": [
       "<IPython.core.display.Markdown object>"
      ]
     },
     "metadata": {},
     "output_type": "display_data"
    },
    {
     "name": "stdout",
     "output_type": "stream",
     "text": [
      "{'matches': True, 'video': 'PlaceEvotips_docuCorrect.MP4', 'expected_protocol': '2', 'found_protocol': '2'}\n",
      "Processing video: ESIsourceToUltraSource_docuCorrect.MP4\n",
      "/Users/patriciaskowronek/Documents/documentation_agent_few_shot_examples/benchmark_dataset/documentation/ESIsourceToUltraSource_docuCorrect.MP4\n"
     ]
    },
    {
     "data": {
      "text/markdown": [
       "Certainly, I can analyze the provided video and match it to the given protocols.  As a seasoned proteomics expert, I'll approach this systematically.\n",
       "\n",
       "\n",
       "**Equipment Observed in the Video:**\n",
       "\n",
       "* Bruker timsTOF mass spectrometer (with UltraSource)\n",
       "* Evosep One LC system (with sample line)\n",
       "* NanoViper adapter (black)\n",
       "* Pliers\n",
       "* Computer running HyStar software (for data acquisition and instrument control)\n",
       "\n",
       "\n",
       "**Actions Performed in the Video:**\n",
       "\n",
       "* The researcher, wearing black nitrile gloves, removes a small, metallic component (appears to be a part of the mass spectrometer's source housing) from the timsTOF.\n",
       "* The metallic component is set aside on the lab bench.\n",
       "* The researcher then re-attaches the component back onto the timsTOF.\n",
       "* The video shows the researcher checking the connections and adjusting some parts of the mass spectrometer.  The actions are focused on the UltraSource region of the instrument.\n",
       "\n",
       "\n",
       "**Protocol Comparison:**\n",
       "\n",
       "- Protocol 1: 0%\n",
       "- Protocol 2: 0%\n",
       "- Protocol 3: 10% (but different order of steps)\n",
       "- Protocol 4: 0%\n",
       "- Protocol 5: 0%\n",
       "- Protocol 6: 20% (but different order of steps)\n",
       "- Protocol 7: 0%\n",
       "- Protocol 8: 0%\n",
       "- Protocol 9: 20% (but different order of steps)\n",
       "- Protocol 10: 0%\n",
       "\n",
       "\n",
       "**Protocol number: None**\n",
       "\n"
      ],
      "text/plain": [
       "<IPython.core.display.Markdown object>"
      ]
     },
     "metadata": {},
     "output_type": "display_data"
    },
    {
     "name": "stdout",
     "output_type": "stream",
     "text": [
      "{'matches': False, 'video': 'ESIsourceToUltraSource_docuCorrect.MP4', 'expected_protocol': '9', 'found_protocol': None, 'message': 'No protocol number found in observation'}\n",
      "Processing video: QueueSamples_docuEvotipNotAtPositionNoSampleID.mov\n",
      "/Users/patriciaskowronek/Documents/documentation_agent_few_shot_examples/benchmark_dataset/documentation/QueueSamples_docuEvotipNotAtPositionNoSampleID.mov\n"
     ]
    },
    {
     "data": {
      "text/markdown": [
       "The video shows a software interface, specifically the Bruker Compass software used to control the Evosep One LC system and a timsTOF mass spectrometer.  There is no manipulation of physical equipment.\n",
       "\n",
       "- Equipment observed in the video:\n",
       "    - Computer screen displaying Bruker Compass software.\n",
       "\n",
       "- Actions performed in the video:\n",
       "    - The narrator explains that samples have been loaded onto Evotips and placed in the Evosep.\n",
       "    - The narrator then shows the sample table within the Compass software and highlights the samples' locations and types (HeLa and blanks).\n",
       "    - The narrator selects and then modifies the sample queue, and eventually starts the acquisition.\n",
       "\n",
       "\n",
       "- Protocol 1: 0%\n",
       "- Protocol 2: 0%\n",
       "- Protocol 3: 0%\n",
       "- Protocol 4: 0%\n",
       "- Protocol 5: 0%\n",
       "- Protocol 6: 0%\n",
       "- Protocol 7: 0%\n",
       "- Protocol 8: 0%\n",
       "- Protocol 9: 0%\n",
       "- Protocol 10: 0%\n",
       "\n",
       "Protocol number: None\n"
      ],
      "text/plain": [
       "<IPython.core.display.Markdown object>"
      ]
     },
     "metadata": {},
     "output_type": "display_data"
    },
    {
     "name": "stdout",
     "output_type": "stream",
     "text": [
      "{'matches': False, 'video': 'QueueSamples_docuEvotipNotAtPositionNoSampleID.mov', 'expected_protocol': '1', 'found_protocol': None, 'message': 'No protocol number found in observation'}\n",
      "Processing video: UltraSourceToESIsource_docuForgotCapillaryCap.MP4\n",
      "/Users/patriciaskowronek/Documents/documentation_agent_few_shot_examples/benchmark_dataset/documentation/UltraSourceToESIsource_docuForgotCapillaryCap.MP4\n"
     ]
    },
    {
     "data": {
      "text/markdown": [
       "Here's my analysis of the provided lab video, following the requested format:\n",
       "\n",
       "**Equipment observed in the video:**\n",
       "\n",
       "- Evosep One LC System\n",
       "- Bruker timsTOF mass spectrometer\n",
       "- UltraSource ion source\n",
       "- Pipette\n",
       "- Nitrile gloves\n",
       "- Waste beaker\n",
       "- Various solvents and buffers\n",
       "\n",
       "**Actions performed in the video:**\n",
       "\n",
       "- The researcher puts on nitrile gloves.\n",
       "- The researcher removes the UltraSource ion source from the timsTOF mass spectrometer.\n",
       "- The researcher cleans the area where the UltraSource was attached.\n",
       "- The researcher re-attaches the UltraSource to the timsTOF mass spectrometer.\n",
       "- The researcher connects the sample line from the Evosep to the UltraSource.\n",
       "- The researcher removes the gloves.\n",
       "\n",
       "\n",
       "**Protocol Comparison:**\n",
       "\n",
       "- Protocol 1: 0%\n",
       "- Protocol 2: 0%\n",
       "- Protocol 3: 0%\n",
       "- Protocol 4: 0%\n",
       "- Protocol 5: 0%\n",
       "- Protocol 6: 20% & but different order of steps\n",
       "- Protocol 7: 80% & but different order of steps\n",
       "- Protocol 8: 0%\n",
       "- Protocol 9: 80% & but different order of steps\n",
       "- Protocol 10: 0%\n",
       "\n",
       "**Protocol number: 7**\n",
       "\n"
      ],
      "text/plain": [
       "<IPython.core.display.Markdown object>"
      ]
     },
     "metadata": {},
     "output_type": "display_data"
    },
    {
     "name": "stdout",
     "output_type": "stream",
     "text": [
      "{'matches': True, 'video': 'UltraSourceToESIsource_docuForgotCapillaryCap.MP4', 'expected_protocol': '7', 'found_protocol': '7'}\n",
      "Processing video: PlaceEvotips_docuLiquidNotChecked.MP4\n",
      "/Users/patriciaskowronek/Documents/documentation_agent_few_shot_examples/benchmark_dataset/documentation/PlaceEvotips_docuLiquidNotChecked.MP4\n"
     ]
    },
    {
     "data": {
      "text/markdown": [
       "Here's an analysis of the provided lab video following the specified format:\n",
       "\n",
       "**Equipment Observed:**\n",
       "\n",
       "* Evosep One LC System\n",
       "* Evotip boxes\n",
       "* Multichannel pipette\n",
       "* Tips for multichannel pipette\n",
       "\n",
       "\n",
       "**Actions Performed:**\n",
       "\n",
       "* The researcher, wearing black nitrile gloves, retrieves two full boxes of Evotips from a drawer.\n",
       "* Two boxes of Evotips are placed onto the Evosep One LC system.\n",
       "* A third, partially filled Evotip box is also present.\n",
       "* Using a multichannel pipette, the researcher transfers Evotips from the partially filled box to the boxes already on the instrument.\n",
       "\n",
       "\n",
       "**Protocol Comparison:**\n",
       "\n",
       "- Protocol 1: 0%\n",
       "- Protocol 2: 90% & correct order of steps\n",
       "- Protocol 3: 0%\n",
       "- Protocol 4: 0%\n",
       "- Protocol 5: 0%\n",
       "- Protocol 6: 0%\n",
       "- Protocol 7: 0%\n",
       "- Protocol 8: 0%\n",
       "- Protocol 9: 0%\n",
       "- Protocol 10: 0%\n",
       "\n",
       "\n",
       "**Protocol number: 2**\n"
      ],
      "text/plain": [
       "<IPython.core.display.Markdown object>"
      ]
     },
     "metadata": {},
     "output_type": "display_data"
    },
    {
     "name": "stdout",
     "output_type": "stream",
     "text": [
      "{'matches': True, 'video': 'PlaceEvotips_docuLiquidNotChecked.MP4', 'expected_protocol': '2', 'found_protocol': '2'}\n",
      "Processing video: Evotip_docuWrongSpinInEvotipBox_wrongSpeed.MP4\n",
      "/Users/patriciaskowronek/Documents/documentation_agent_few_shot_examples/benchmark_dataset/documentation/Evotip_docuWrongSpinInEvotipBox_wrongSpeed.MP4\n"
     ]
    },
    {
     "data": {
      "text/markdown": [
       "Here's an analysis of the provided lab video, following the specified format:\n",
       "\n",
       "**Equipment Observed:**\n",
       "\n",
       "* Multifuge X Pro Series Centrifuge (Thermo Scientific)\n",
       "*  Boxes of Evotips\n",
       "* Multichannel pipette\n",
       "\n",
       "**Actions Performed:**\n",
       "\n",
       "* The researcher retrieves two boxes of Evotips.\n",
       "* The researcher places the boxes into the centrifuge.\n",
       "* The researcher programs the centrifuge for 800g for 1 minute.\n",
       "* The researcher starts the centrifuge.\n",
       "\n",
       "\n",
       "**Protocol Comparison:**\n",
       "\n",
       "- Protocol 1: 0%\n",
       "- Protocol 2: 0%\n",
       "- Protocol 3: 0%\n",
       "- Protocol 4: 0%\n",
       "- Protocol 5: 0%\n",
       "- Protocol 6: 0%\n",
       "- Protocol 7: 0%\n",
       "- Protocol 8: 0%\n",
       "- Protocol 9: 0%\n",
       "- Protocol 10: 95% & correct order of steps\n",
       "\n",
       "\n",
       "**Protocol number: 10**\n",
       "\n"
      ],
      "text/plain": [
       "<IPython.core.display.Markdown object>"
      ]
     },
     "metadata": {},
     "output_type": "display_data"
    },
    {
     "name": "stdout",
     "output_type": "stream",
     "text": [
      "{'matches': True, 'video': 'Evotip_docuWrongSpinInEvotipBox_wrongSpeed.MP4', 'expected_protocol': '10', 'found_protocol': '10'}\n",
      "Success rate: 62.07%\n"
     ]
    }
   ],
   "source": [
    "example_video_path = \"/Users/patriciaskowronek/Documents/documentation_agent_few_shot_examples/benchmark_dataset/unused/DisconnectingColumn_docuWithoutStandby_2.MP4\"\n",
    "example_video_uri = video_to_protocol.upload_video_to_gcs(example_video_path, bucket, \"protocol_finder_2\")\n",
    "\n",
    "example_video_input = [\n",
    "    \"EXAMPLE SECTION:\",\n",
    "    \"Eample Video:\",\n",
    "    Part.from_uri(example_video_uri, mime_type=\"video/mp4\"),\n",
    "    \"Example Response:\",\n",
    "    \"\"\"\n",
    "    The researcher in the video is using following equipment: \n",
    "    - IonOpticks Column\n",
    "    - timsTOF Mass Spectrometer\n",
    "        - Equipped with UltraSource ion source\n",
    "    - Evosep One LC System\n",
    "        - with sample line\n",
    "    - NanoViper Adapter (black)\n",
    "        - Pliers\n",
    "\n",
    "    Actions of the researcher in the video:\n",
    "    - Opens the lid of a column oven.\n",
    "    - Loosened the securing screw at the sample line - column connection. Lifts it up and moved the metal grounding screw away from the column-sample line connection.\n",
    "    - Attaches the NanoViper adapter to the sample line for easier handling.\n",
    "    - Helds the column fitting with pliers for easier handling.\n",
    "    - Unscrews the NanoViper connector to detach the sample line from the IonOpticks column by turning it counter clock-wise.\n",
    "    - Positions the sample line ensuring it formed a gentle curve. Placs it over the transparent bumper of the Evosep.\n",
    "    \n",
    "    Compare the video content with the content and order of steps in each of the protocols. \n",
    "    List your answer as follows:\n",
    "    - Protocol 1: No content overlap. \n",
    "    - Protocol 2: No content overlap. \n",
    "    - Protocol 3: Overlap in content 95% & correct order of steps \n",
    "    - Protocol 4: No content overlap. \n",
    "    - Protocol 5: No content overlap. \n",
    "    - Protocol 6: Overlap in content 50%, but different order of steps.\n",
    "    - Protocol 7: Overlap in content 20%, but different order of steps.\n",
    "    - Protocol 8: No content overlap. \n",
    "    - Protocol 9: No content overlap. \n",
    "    - Protocol 10: No content overlap. \n",
    "\n",
    "    Which protocol matches best?\n",
    "    Protocol number: 3 since content has the highest overlap and the order of steps matches best.\n",
    "    END OF EXAMPLE SECTION\n",
    "    \"\"\",\n",
    "]\n",
    "system_prompt = [\"\"\"\n",
    "    You are Professor Matthias Mann, a pioneering scientist in proteomics and mass spectrometry with extensive laboratory experience.\n",
    "    Your task is to analyze a video showing a laboratory procedure and identify which protocol from a provided list accurately describes the step being performed.\n",
    "    \n",
    "    I will first provide you with an EXAMPLE (video, and response). \n",
    "\"\"\"]\n",
    "system_prompt_2 = [\"\"\"\n",
    "    FORMATTING INSTRUCTIONS:\n",
    "    1. Always begin your analysis by listing the equipment observed in the video using bullet points.\n",
    "    2. Then describe the actions performed in the video using bullet points.\n",
    "    3. Compare the video content with each protocol using this exact format:\n",
    "    - Protocol 1: [Overlap percentage]% [& correct order of steps OR but different order of steps]\n",
    "    - Protocol 2: [Overlap percentage]% [& correct order of steps OR but different order of steps]\n",
    "    [Continue for all protocols]\n",
    "    4. Conclude with a clear statement using this exact format:\n",
    "    \"Protocol number: X\" where X is the number of the best matching protocol.\n",
    "    5. If no protocol matches, explicitly state \"Protocol number: None\".\n",
    "    6. Do not include any explanatory text after stating the protocol number.\n",
    "                   \n",
    "    YOUR TASK SECTION:\n",
    "    Now, I provide you with the actuall 'lab video'. Follow the thought process in the example to analyze the video and match it to the selection of protocols.\n",
    "\"\"\"]\n",
    "protocol_intro= [\"Protocols:\"]\n",
    "\n",
    "csv_path = \"/Users/patriciaskowronek/Documents/documentation_agent_few_shot_examples/benchmark_dataset/Link_protocol_lab_video.csv\"\n",
    "\n",
    "validation_list = list()\n",
    "for video in video_parts: \n",
    "    print(f\"Processing video: {video}\")\n",
    "    video_path = video_parts[video][\"path\"]\n",
    "\n",
    "    order = [system_prompt, example_video_input, system_prompt_2, video_parts[video][\"part\"], protocol_intro, protocol_input]\n",
    "    model_input = list()\n",
    "    for input in order:\n",
    "        model_input.extend(input)\n",
    "\n",
    "    result = identify_protocol_from_video(\n",
    "        model_input,\n",
    "        model_name=\"gemini-1.5-flash-002\", \n",
    "        temperature=0.9\n",
    "    )\n",
    "\n",
    "    # print(result[\"usage_metadata\"])\n",
    "    print(result[\"video_path\"])\n",
    "    display(result[\"markdown_observation\"]) \n",
    "\n",
    "    result_validation = validate_protocol_number(video_path, csv_path, result[\"observation\"])\n",
    "    print(result_validation)\n",
    "    validation_list.append(result_validation[\"matches\"])\n",
    "\n",
    "success_ratio = sum(validation_list) / len(validation_list) if len(validation_list) > 0 else 0\n",
    "print(f\"Success rate: {success_ratio:.2%}\")"
   ]
  },
  {
   "cell_type": "code",
   "execution_count": 22,
   "metadata": {},
   "outputs": [
    {
     "name": "stdout",
     "output_type": "stream",
     "text": [
      "Processing video: UltraSourceToESIsource_docuForgotN2Line.MP4\n",
      "/Users/patriciaskowronek/Documents/documentation_agent_few_shot_examples/benchmark_dataset/documentation/UltraSourceToESIsource_docuForgotN2Line.MP4\n"
     ]
    },
    {
     "data": {
      "text/markdown": [
       "Okay, let's analyze this video.  My expertise in proteomics and mass spectrometry will help me identify the specific protocol.\n",
       "\n",
       "\n",
       "**Equipment Observed:**\n",
       "\n",
       "*   IonOpticks Column\n",
       "*   timsTOF Mass Spectrometer (Bruker)\n",
       "    *   Equipped with UltraSource ion source\n",
       "*   Evosep One LC System\n",
       "    *   with sample line\n",
       "*   NanoViper Adapter (appears to be metallic)\n",
       "*   Pliers\n",
       "*   Screwdriver\n",
       "*   Black nitrile gloves\n",
       "\n",
       "\n",
       "**Actions Performed:**\n",
       "\n",
       "*   The researcher puts on black nitrile gloves.\n",
       "*   The researcher removes the top cover of the timsTOF's UltraSource.\n",
       "*   The researcher removes a metallic component (likely part of the UltraSource) from the timsTOF.\n",
       "*   The researcher carefully handles the removed component.\n",
       "*   The researcher appears to clean or inspect the removed component.\n",
       "*   The researcher re-inserts the metallic component into the timsTOF's UltraSource.\n",
       "*   The researcher connects something to the metallic component using a small screwdriver.\n",
       "*   The researcher reassembles the top cover of the timsTOF's UltraSource.\n",
       "\n",
       "\n",
       "**Protocol Comparison:**\n",
       "\n",
       "- Protocol 1: 0%\n",
       "- Protocol 2: 0%\n",
       "- Protocol 3: 0%\n",
       "- Protocol 4: 0%\n",
       "- Protocol 5: 0%\n",
       "- Protocol 6: 20% but different order of steps\n",
       "- Protocol 7: 90% & correct order of steps\n",
       "- Protocol 8: 0%\n",
       "- Protocol 9: 80% & correct order of steps\n",
       "- Protocol 10: 0%\n",
       "\n",
       "\n",
       "**Protocol number: 7**\n",
       "\n"
      ],
      "text/plain": [
       "<IPython.core.display.Markdown object>"
      ]
     },
     "metadata": {},
     "output_type": "display_data"
    },
    {
     "name": "stdout",
     "output_type": "stream",
     "text": [
      "{'matches': True, 'video': 'UltraSourceToESIsource_docuForgotN2Line.MP4', 'expected_protocol': '7', 'found_protocol': '7'}\n",
      "Processing video: TimsCalibration_docuCorrect_camera.MP4\n",
      "/Users/patriciaskowronek/Documents/documentation_agent_few_shot_examples/benchmark_dataset/documentation/TimsCalibration_docuCorrect_camera.MP4\n"
     ]
    },
    {
     "data": {
      "text/markdown": [
       "Professor Matthias Mann's Analysis of Lab Video:\n",
       "\n",
       "1. Equipment Observed:\n",
       "\n",
       "- Computer monitor displaying Bruker HyStar software.\n",
       "\n",
       "\n",
       "2. Actions Performed:\n",
       "\n",
       "- The software displays a chromatogram and mass spectrum.\n",
       "- The software shows a sample queue is being reviewed and modified.  Specific parameters, such as sample IDs, are being adjusted within the sample table.\n",
       "- The researcher appears to be checking and adjusting method settings within the software.\n",
       "- The researcher appears to be confirming the sample tray configuration.\n",
       "- The researcher initiates the sample queue.\n",
       "\n",
       "\n",
       "3. Protocol Comparison:\n",
       "\n",
       "- Protocol 1: 90% & correct order of steps\n",
       "- Protocol 2: 0%\n",
       "- Protocol 3: 0%\n",
       "- Protocol 4: 0%\n",
       "- Protocol 5: 0%\n",
       "- Protocol 6: 0%\n",
       "- Protocol 7: 0%\n",
       "- Protocol 8: 0%\n",
       "- Protocol 9: 0%\n",
       "- Protocol 10: 0%\n",
       "\n",
       "\n",
       "4. Best Matching Protocol:\n",
       "\n",
       "Protocol number: 1\n",
       "\n"
      ],
      "text/plain": [
       "<IPython.core.display.Markdown object>"
      ]
     },
     "metadata": {},
     "output_type": "display_data"
    },
    {
     "name": "stdout",
     "output_type": "stream",
     "text": [
      "{'matches': False, 'video': 'TimsCalibration_docuCorrect_camera.MP4', 'expected_protocol': '5', 'found_protocol': '1'}\n",
      "Processing video: TimsCalibration_docuNotAllClicksVisibleOnVideo.MP4\n",
      "/Users/patriciaskowronek/Documents/documentation_agent_few_shot_examples/benchmark_dataset/documentation/TimsCalibration_docuNotAllClicksVisibleOnVideo.MP4\n"
     ]
    },
    {
     "data": {
      "text/markdown": [
       "As Professor Matthias Mann, I have analyzed the provided video.\n",
       "\n",
       "\n",
       "**Equipment observed in the video:**\n",
       "\n",
       "- Computer monitor displaying Bruker HyStar software.\n",
       "\n",
       "\n",
       "**Actions performed in the video:**\n",
       "\n",
       "- The researcher reviews a pre-existing sample table within the HyStar software.\n",
       "- Adjustments are made to sample IDs.\n",
       "- The researcher adjusts the method parameters for the mass spectrometry run.\n",
       "- The researcher verifies the Evotip positions and tray configurations.\n",
       "- The researcher initiates the sample acquisition sequence.\n",
       "\n",
       "\n",
       "**Protocol comparison:**\n",
       "\n",
       "- Protocol 1: 90% & correct order of steps\n",
       "- Protocol 2: 0%\n",
       "- Protocol 3: 0%\n",
       "- Protocol 4: 0%\n",
       "- Protocol 5: 0%\n",
       "- Protocol 6: 0%\n",
       "- Protocol 7: 0%\n",
       "- Protocol 8: 0%\n",
       "- Protocol 9: 0%\n",
       "- Protocol 10: 0%\n",
       "\n",
       "\n",
       "**Protocol number: 1**\n"
      ],
      "text/plain": [
       "<IPython.core.display.Markdown object>"
      ]
     },
     "metadata": {},
     "output_type": "display_data"
    },
    {
     "name": "stdout",
     "output_type": "stream",
     "text": [
      "{'matches': False, 'video': 'TimsCalibration_docuNotAllClicksVisibleOnVideo.MP4', 'expected_protocol': '5', 'found_protocol': '1'}\n",
      "Processing video: PlaceEvotips_docuBoxAngeled.MP4\n",
      "/Users/patriciaskowronek/Documents/documentation_agent_few_shot_examples/benchmark_dataset/documentation/PlaceEvotips_docuBoxAngeled.MP4\n"
     ]
    },
    {
     "data": {
      "text/markdown": [
       "Here's my analysis of the provided lab video, following the requested format:\n",
       "\n",
       "**Equipment Observed:**\n",
       "\n",
       "* Evosep One LC System\n",
       "* EVOTIP boxes (96-well format)\n",
       "* Tweezers\n",
       "* TimsTOF mass spectrometer\n",
       "\n",
       "**Actions Performed:**\n",
       "\n",
       "* The researcher prepares two EVOTIP boxes, one containing samples and the other empty (for blanks).\n",
       "* Using tweezers, the researcher carefully picks up individual EVOTIPs from a box and places them into designated wells on the Evosep One.  The placement follows a pattern, but the exact pattern isn't fully visible.\n",
       "* The researcher repeats this for both sample and blank EVOTIPs.\n",
       "\n",
       "\n",
       "**Protocol Comparison:**\n",
       "\n",
       "- Protocol 1: 0%\n",
       "- Protocol 2: 90% & correct order of steps\n",
       "- Protocol 3: 0%\n",
       "- Protocol 4: 0%\n",
       "- Protocol 5: 0%\n",
       "- Protocol 6: 0%\n",
       "- Protocol 7: 0%\n",
       "- Protocol 8: 0%\n",
       "- Protocol 9: 0%\n",
       "- Protocol 10: 0%\n",
       "\n",
       "**Protocol Number: 2**\n",
       "\n"
      ],
      "text/plain": [
       "<IPython.core.display.Markdown object>"
      ]
     },
     "metadata": {},
     "output_type": "display_data"
    },
    {
     "name": "stdout",
     "output_type": "stream",
     "text": [
      "{'matches': False, 'video': 'PlaceEvotips_docuBoxAngeled.MP4', 'expected_protocol': '2', 'found_protocol': None, 'message': 'No protocol number found in observation'}\n",
      "Processing video: UltraSourceToESIsource_docuForgotGlovesANDCapillaryCap.MP4\n",
      "/Users/patriciaskowronek/Documents/documentation_agent_few_shot_examples/benchmark_dataset/documentation/UltraSourceToESIsource_docuForgotGlovesANDCapillaryCap.MP4\n"
     ]
    },
    {
     "data": {
      "text/markdown": [
       "Okay, let's analyze this video.  As a seasoned proteomics researcher, I can confidently identify the procedures.\n",
       "\n",
       "\n",
       "**Equipment Observed in the Video:**\n",
       "\n",
       "*   timsTOF mass spectrometer (Bruker)\n",
       "*   Evosep One LC system\n",
       "*   IonOpticks column\n",
       "*   NanoViper adapter\n",
       "*   Syringe\n",
       "*   Various tools and lab consumables (e.g., pliers, small container)\n",
       "\n",
       "\n",
       "**Actions Performed in the Video:**\n",
       "\n",
       "*   The researcher removes the black UltraSource cap from the timsTOF.\n",
       "*   The researcher removes the metal component holding the capillary.\n",
       "*   The researcher puts on gloves.\n",
       "*   The researcher takes a syringe and inserts the needle into a solvent reservoir, likely to fill it with cleaning solution.\n",
       "*   The researcher removes the needle from the solvent reservoir.\n",
       "*   The researcher inserts the syringe into the timsTOF's UltraSource fitting.\n",
       "*   The researcher appears to flush the capillary line with the syringe.\n",
       "*   The researcher removes the syringe from the instrument.\n",
       "*   The researcher cleans up and puts things away.\n",
       "\n",
       "**Protocol Comparison:**\n",
       "\n",
       "- Protocol 1: 0%\n",
       "- Protocol 2: 0%\n",
       "- Protocol 3: 0%\n",
       "- Protocol 4: 0%\n",
       "- Protocol 5: 0%\n",
       "- Protocol 6: 0%\n",
       "- Protocol 7: 80% & but different order of steps\n",
       "- Protocol 8: 0%\n",
       "- Protocol 9: 70% & but different order of steps\n",
       "- Protocol 10: 0%\n",
       "\n",
       "\n",
       "**Protocol number: 7**\n",
       "\n"
      ],
      "text/plain": [
       "<IPython.core.display.Markdown object>"
      ]
     },
     "metadata": {},
     "output_type": "display_data"
    },
    {
     "name": "stdout",
     "output_type": "stream",
     "text": [
      "{'matches': True, 'video': 'UltraSourceToESIsource_docuForgotGlovesANDCapillaryCap.MP4', 'expected_protocol': '7', 'found_protocol': '7'}\n",
      "Processing video: QueueSamples_docuCorrect_1.mov\n",
      "/Users/patriciaskowronek/Documents/documentation_agent_few_shot_examples/benchmark_dataset/documentation/QueueSamples_docuCorrect_1.mov\n"
     ]
    },
    {
     "data": {
      "text/markdown": [
       "Certainly, as Professor Matthias Mann, I can analyze the provided video and match it to the given protocols.\n",
       "\n",
       "\n",
       "**Equipment Observed:**\n",
       "\n",
       "- Software: HyStar 6.0\n",
       "\n",
       "\n",
       "**Actions Performed:**\n",
       "\n",
       "- The researcher loads a pre-existing sample table in HyStar.\n",
       "- The researcher adjusts sample IDs to follow a specific naming convention.\n",
       "- The researcher queues the analysis, including blanks and DDA/DIA-PASEF runs in a specific sequence.\n",
       "- The researcher verifies the tray configuration settings.\n",
       "- The researcher specifies Evotip positions using drag-to-fill functionality.\n",
       "- The researcher checks the storage path for raw data files.\n",
       "- The researcher confirms separation and injection methods are set correctly.\n",
       "- The researcher stops the idle flow on the Evosep system.\n",
       "- The researcher saves the modified sample table and uploads sample conditions.\n",
       "- The researcher initiates the analysis sequence.\n",
       "\n",
       "\n",
       "**Protocol Comparison:**\n",
       "\n",
       "- Protocol 1: 100% & correct order of steps\n",
       "- Protocol 2: 0%\n",
       "- Protocol 3: 0%\n",
       "- Protocol 4: 0%\n",
       "- Protocol 5: 0%\n",
       "- Protocol 6: 0%\n",
       "- Protocol 7: 0%\n",
       "- Protocol 8: 0%\n",
       "- Protocol 9: 0%\n",
       "- Protocol 10: 0%\n",
       "\n",
       "\n",
       "**Protocol Number: 1**\n"
      ],
      "text/plain": [
       "<IPython.core.display.Markdown object>"
      ]
     },
     "metadata": {},
     "output_type": "display_data"
    },
    {
     "name": "stdout",
     "output_type": "stream",
     "text": [
      "{'matches': False, 'video': 'QueueSamples_docuCorrect_1.mov', 'expected_protocol': '1', 'found_protocol': None, 'message': 'No protocol number found in observation'}\n",
      "Processing video: QueueSamples_docuNoBlankNoSampleIDWrongMSmethod.mov\n",
      "/Users/patriciaskowronek/Documents/documentation_agent_few_shot_examples/benchmark_dataset/documentation/QueueSamples_docuNoBlankNoSampleIDWrongMSmethod.mov\n"
     ]
    },
    {
     "data": {
      "text/markdown": [
       "As Professor Matthias Mann, I have reviewed the provided video and protocols.  My analysis is as follows:\n",
       "\n",
       "**Equipment Observed:**\n",
       "\n",
       "- Software: HyStar 6.0\n",
       "\n",
       "**Actions Performed:**\n",
       "\n",
       "- The researcher accesses an existing sample table within HyStar.\n",
       "- The researcher modifies the sample table, adjusting sample IDs and assigning Evotip positions.\n",
       "- The researcher reviews and confirms various settings, including file paths, separation methods, and injection methods.\n",
       "- The researcher initiates the acquisition sequence.\n",
       "\n",
       "\n",
       "**Protocol Comparison:**\n",
       "\n",
       "- Protocol 1: 100% & correct order of steps\n",
       "- Protocol 2: 0%\n",
       "- Protocol 3: 0%\n",
       "- Protocol 4: 0%\n",
       "- Protocol 5: 0%\n",
       "- Protocol 6: 0%\n",
       "- Protocol 7: 0%\n",
       "- Protocol 8: 0%\n",
       "- Protocol 9: 0%\n",
       "- Protocol 10: 0%\n",
       "\n",
       "**Protocol number: 1**\n"
      ],
      "text/plain": [
       "<IPython.core.display.Markdown object>"
      ]
     },
     "metadata": {},
     "output_type": "display_data"
    },
    {
     "name": "stdout",
     "output_type": "stream",
     "text": [
      "{'matches': True, 'video': 'QueueSamples_docuNoBlankNoSampleIDWrongMSmethod.mov', 'expected_protocol': '1', 'found_protocol': '1'}\n",
      "Processing video: UltraSourceToESIsource_docuCorrect.MP4\n",
      "/Users/patriciaskowronek/Documents/documentation_agent_few_shot_examples/benchmark_dataset/documentation/UltraSourceToESIsource_docuCorrect.MP4\n"
     ]
    },
    {
     "data": {
      "text/markdown": [
       "As Professor Matthias Mann, I have reviewed the provided video.  My analysis is as follows:\n",
       "\n",
       "**Equipment Observed in the Video:**\n",
       "\n",
       "*   Bruker timsTOF SCP mass spectrometer\n",
       "*   Evosep One LC system\n",
       "*   IonOpticks column\n",
       "*   Pliers\n",
       "*   Gloves\n",
       "*   Syringe\n",
       "*   Various labware (e.g., containers, a waste beaker)\n",
       "\n",
       "\n",
       "**Actions Performed in the Video:**\n",
       "\n",
       "*   The researcher puts on gloves.\n",
       "*   The researcher removes a part of the timsTOF's source housing.\n",
       "*   The researcher carefully removes the capillary.\n",
       "*   The researcher cleans the capillary.\n",
       "*   The researcher re-inserts the capillary into the timsTOF source.\n",
       "*   The researcher reassembles the timsTOF source housing.\n",
       "*   The researcher takes off gloves.\n",
       "\n",
       "\n",
       "**Protocol Comparison:**\n",
       "\n",
       "- Protocol 1: 0%\n",
       "- Protocol 2: 0%\n",
       "- Protocol 3: 0%\n",
       "- Protocol 4: 0%\n",
       "- Protocol 5: 0%\n",
       "- Protocol 6: 0%\n",
       "- Protocol 7: 70% & but different order of steps\n",
       "- Protocol 8: 0%\n",
       "- Protocol 9: 70% & but different order of steps\n",
       "\n",
       "\n",
       "Protocol number: 7"
      ],
      "text/plain": [
       "<IPython.core.display.Markdown object>"
      ]
     },
     "metadata": {},
     "output_type": "display_data"
    },
    {
     "name": "stdout",
     "output_type": "stream",
     "text": [
      "{'matches': True, 'video': 'UltraSourceToESIsource_docuCorrect.MP4', 'expected_protocol': '7', 'found_protocol': '7'}\n",
      "Processing video: DisconnectingColumn_docuWithoutStandby_1.MP4\n",
      "/Users/patriciaskowronek/Documents/documentation_agent_few_shot_examples/benchmark_dataset/documentation/DisconnectingColumn_docuWithoutStandby_1.MP4\n"
     ]
    },
    {
     "data": {
      "text/markdown": [
       "As Professor Matthias Mann, I have reviewed the provided video and protocols.  My analysis is as follows:\n",
       "\n",
       "**Equipment Observed in the Video:**\n",
       "\n",
       "* IonOpticks Column\n",
       "* Bruker timsTOF Mass Spectrometer (with UltraSource)\n",
       "* Evosep One LC System (with sample line)\n",
       "* Pliers\n",
       "\n",
       "**Actions Performed in the Video:**\n",
       "\n",
       "* The researcher removes the sample line from the IonOpticks column using pliers.\n",
       "* The researcher carefully disconnects the sample line from the column.\n",
       "* The researcher places the disconnected end of the sample line.\n",
       "\n",
       "**Protocol Comparison:**\n",
       "\n",
       "- Protocol 1: 0%\n",
       "- Protocol 2: 0%\n",
       "- Protocol 3: 95% & correct order of steps\n",
       "- Protocol 4: 0%\n",
       "- Protocol 5: 0%\n",
       "- Protocol 6: 20% & different order of steps\n",
       "- Protocol 7: 0%\n",
       "- Protocol 8: 0%\n",
       "- Protocol 9: 0%\n",
       "- Protocol 10: 0%\n",
       "\n",
       "**Protocol number: 3**\n"
      ],
      "text/plain": [
       "<IPython.core.display.Markdown object>"
      ]
     },
     "metadata": {},
     "output_type": "display_data"
    },
    {
     "name": "stdout",
     "output_type": "stream",
     "text": [
      "{'matches': True, 'video': 'DisconnectingColumn_docuWithoutStandby_1.MP4', 'expected_protocol': '3', 'found_protocol': '3'}\n",
      "Processing video: QueueSamples_docuDiffSampleNameAndEvotipNotAtPosition.mov\n",
      "/Users/patriciaskowronek/Documents/documentation_agent_few_shot_examples/benchmark_dataset/documentation/QueueSamples_docuDiffSampleNameAndEvotipNotAtPosition.mov\n"
     ]
    },
    {
     "data": {
      "text/markdown": [
       "Professor Matthias Mann here.  Let's analyze this video.\n",
       "\n",
       "\n",
       "**Equipment Observed:**\n",
       "\n",
       "* Software: HyStar 6.0 (Bruker Daltonics Compass software)\n",
       "\n",
       "\n",
       "**Actions Performed:**\n",
       "\n",
       "* The researcher confirms that Evotips with QC samples are already placed in positions S1 A1 to A6 and blanks at S3 A1 to A6.\n",
       "* The researcher proceeds to queue these samples for measurement within the HyStar software.\n",
       "* The researcher initiates the acquisition sequence.\n",
       "\n",
       "\n",
       "**Protocol Comparison:**\n",
       "\n",
       "- Protocol 1: 100% & correct order of steps\n",
       "- Protocol 2: 0%\n",
       "- Protocol 3: 0%\n",
       "- Protocol 4: 0%\n",
       "- Protocol 5: 0%\n",
       "- Protocol 6: 0%\n",
       "- Protocol 7: 0%\n",
       "- Protocol 8: 0%\n",
       "- Protocol 9: 0%\n",
       "- Protocol 10: 0%\n",
       "\n",
       "\n",
       "**Protocol number: 1**\n"
      ],
      "text/plain": [
       "<IPython.core.display.Markdown object>"
      ]
     },
     "metadata": {},
     "output_type": "display_data"
    },
    {
     "name": "stdout",
     "output_type": "stream",
     "text": [
      "{'matches': True, 'video': 'QueueSamples_docuDiffSampleNameAndEvotipNotAtPosition.mov', 'expected_protocol': '1', 'found_protocol': '1'}\n",
      "Processing video: Pipette_ducoBufferBInsteadBufferA.MP4\n",
      "/Users/patriciaskowronek/Documents/documentation_agent_few_shot_examples/benchmark_dataset/documentation/Pipette_ducoBufferBInsteadBufferA.MP4\n"
     ]
    },
    {
     "data": {
      "text/markdown": [
       "Professor Matthias Mann's Analysis of Lab Video:\n",
       "\n",
       "1. **Equipment Observed:**\n",
       "\n",
       "* 20 µL Eppendorf pipette\n",
       "* Pipette tips\n",
       "* 96-well PCR plate\n",
       "* Two bottles of Buffer A\n",
       "\n",
       "2. **Actions Performed:**\n",
       "\n",
       "* The researcher sets the pipette to 20 µL.\n",
       "* A pipette tip is attached to the pipette.\n",
       "* The researcher aspirates 20 µL of Buffer A from one of the bottles.\n",
       "* The researcher dispenses 20 µL of Buffer A into wells A1 and A2 of the PCR plate.\n",
       "\n",
       "3. **Protocol Comparison:**\n",
       "\n",
       "- Protocol 1: 0%\n",
       "- Protocol 2: 0%\n",
       "- Protocol 3: 0%\n",
       "- Protocol 4: 50% but different order of steps\n",
       "- Protocol 5: 0%\n",
       "- Protocol 6: 0%\n",
       "- Protocol 7: 0%\n",
       "- Protocol 8: 95% & correct order of steps\n",
       "- Protocol 9: 0%\n",
       "- Protocol 10: 0%\n",
       "\n",
       "4. **Best Matching Protocol:**\n",
       "\n",
       "Protocol number: 8\n",
       "\n"
      ],
      "text/plain": [
       "<IPython.core.display.Markdown object>"
      ]
     },
     "metadata": {},
     "output_type": "display_data"
    },
    {
     "name": "stdout",
     "output_type": "stream",
     "text": [
      "{'matches': True, 'video': 'Pipette_ducoBufferBInsteadBufferA.MP4', 'expected_protocol': '8', 'found_protocol': '8'}\n",
      "Processing video: ESIsourceToUltraSource_docuFogotOvenPowerSupply.MP4\n",
      "/Users/patriciaskowronek/Documents/documentation_agent_few_shot_examples/benchmark_dataset/documentation/ESIsourceToUltraSource_docuFogotOvenPowerSupply.MP4\n"
     ]
    },
    {
     "data": {
      "text/markdown": [
       "Certainly, here's my analysis of the provided video, following the specified format:\n",
       "\n",
       "**Equipment observed in the video:**\n",
       "\n",
       "- Bruker timsTOF mass spectrometer\n",
       "- Evosep One LC system\n",
       "- IonOpticks column\n",
       "- NanoViper adapter\n",
       "- Pliers\n",
       "\n",
       "\n",
       "**Actions performed in the video:**\n",
       "\n",
       "- The researcher, wearing black nitrile gloves, carefully removes the NanoViper adapter from the timsTOF.\n",
       "- They inspect the NanoViper and the capillary connection point on the timsTOF.\n",
       "- The NanoViper adapter is then re-attached to the timsTOF.\n",
       "-  The researcher makes adjustments to ensure the capillary is properly seated.\n",
       "\n",
       "\n",
       "**Comparison with protocols:**\n",
       "\n",
       "- Protocol 1: 0%\n",
       "- Protocol 2: 0%\n",
       "- Protocol 3: 70% & different order of steps\n",
       "- Protocol 4: 0%\n",
       "- Protocol 5: 0%\n",
       "- Protocol 6: 80% & different order of steps\n",
       "- Protocol 7: 0%\n",
       "- Protocol 8: 0%\n",
       "- Protocol 9: 0%\n",
       "- Protocol 10: 0%\n",
       "\n",
       "\n",
       "**Protocol number: 6**\n",
       "\n"
      ],
      "text/plain": [
       "<IPython.core.display.Markdown object>"
      ]
     },
     "metadata": {},
     "output_type": "display_data"
    },
    {
     "name": "stdout",
     "output_type": "stream",
     "text": [
      "{'matches': False, 'video': 'ESIsourceToUltraSource_docuFogotOvenPowerSupply.MP4', 'expected_protocol': '9', 'found_protocol': '6'}\n",
      "Processing video: Pipette_docu_WrongRowB_B10Twice_B11LeftOut.MP4\n",
      "/Users/patriciaskowronek/Documents/documentation_agent_few_shot_examples/benchmark_dataset/documentation/Pipette_docu_WrongRowB_B10Twice_B11LeftOut.MP4\n"
     ]
    },
    {
     "data": {
      "text/markdown": [
       "Certainly, let's analyze the provided lab video.\n",
       "\n",
       "**1. Equipment Observed in the Video:**\n",
       "\n",
       "* PCR plate (96-well plate)\n",
       "* Micropipette (adjustable volume)\n",
       "* Pipette tips\n",
       "* Buffer A (in a small bottle)\n",
       "* Waste container\n",
       "\n",
       "**2. Actions Performed in the Video:**\n",
       "\n",
       "* The researcher sets a volume of 20 µL on the micropipette.\n",
       "* A pipette tip is attached to the micropipette.\n",
       "* The researcher aspirates 20 µL of Buffer A from the bottle.\n",
       "* The researcher dispenses 20 µL of Buffer A into wells A1 through A12 of the PCR plate, one well at a time.\n",
       "* The used pipette tip is discarded.\n",
       "\n",
       "**3. Protocol Comparison:**\n",
       "\n",
       "- Protocol 1: 0%\n",
       "- Protocol 2: 0%\n",
       "- Protocol 3: 0%\n",
       "- Protocol 4: 50% & but different order of steps (missing steps like attaching a tip and discarding the tip)\n",
       "- Protocol 5: 0%\n",
       "- Protocol 6: 0%\n",
       "- Protocol 7: 0%\n",
       "- Protocol 8: 95% & correct order of steps\n",
       "- Protocol 9: 0%\n",
       "- Protocol 10: 0%\n",
       "\n",
       "**4. Best Matching Protocol:**\n",
       "\n",
       "Protocol number: 8\n",
       "\n"
      ],
      "text/plain": [
       "<IPython.core.display.Markdown object>"
      ]
     },
     "metadata": {},
     "output_type": "display_data"
    },
    {
     "name": "stdout",
     "output_type": "stream",
     "text": [
      "{'matches': True, 'video': 'Pipette_docu_WrongRowB_B10Twice_B11LeftOut.MP4', 'expected_protocol': '8', 'found_protocol': '8'}\n",
      "Processing video: ConnectingColumnSampleLine_docuWithoutStandbyANDtimsControl.mp4\n",
      "/Users/patriciaskowronek/Documents/documentation_agent_few_shot_examples/benchmark_dataset/documentation/ConnectingColumnSampleLine_docuWithoutStandbyANDtimsControl.mp4\n"
     ]
    },
    {
     "data": {
      "text/markdown": [
       "Okay, let's analyze the provided video.\n",
       "\n",
       "**1. Equipment Observed in the Video:**\n",
       "\n",
       "*   Bruker timsTOF mass spectrometer (with UltraSource)\n",
       "*   IonOpticks column\n",
       "*   NanoViper adapter\n",
       "*   Pliers\n",
       "\n",
       "**2. Actions Performed in the Video:**\n",
       "\n",
       "*   The researcher, wearing black gloves, carefully removes the NanoViper adapter from the mass spectrometer.\n",
       "*   The researcher holds the NanoViper fitting with pliers.\n",
       "*   The researcher disconnects the sample line from the IonOpticks column.\n",
       "\n",
       "\n",
       "**3. Comparison with Protocols:**\n",
       "\n",
       "- Protocol 1: 0%\n",
       "- Protocol 2: 0%\n",
       "- Protocol 3: 100% & correct order of steps\n",
       "- Protocol 4: 0%\n",
       "- Protocol 5: 0%\n",
       "- Protocol 6: 60% & but different order of steps\n",
       "- Protocol 7: 0%\n",
       "- Protocol 8: 0%\n",
       "- Protocol 9: 70% & but different order of steps\n",
       "- Protocol 10: 0%\n",
       "\n",
       "**4. Best Matching Protocol:**\n",
       "\n",
       "Protocol number: 3\n",
       "\n"
      ],
      "text/plain": [
       "<IPython.core.display.Markdown object>"
      ]
     },
     "metadata": {},
     "output_type": "display_data"
    },
    {
     "name": "stdout",
     "output_type": "stream",
     "text": [
      "{'matches': False, 'video': 'ConnectingColumnSampleLine_docuWithoutStandbyANDtimsControl.mp4', 'expected_protocol': '6', 'found_protocol': '3'}\n",
      "Processing video: TimsCalibration_docuSavedMethod.mov\n",
      "/Users/patriciaskowronek/Documents/documentation_agent_few_shot_examples/benchmark_dataset/documentation/TimsCalibration_docuSavedMethod.mov\n"
     ]
    },
    {
     "data": {
      "text/markdown": [
       "Okay, let's analyze this video as if I were Professor Matthias Mann.\n",
       "\n",
       "**Equipment Observed:**\n",
       "\n",
       "* Software: timsControl (Bruker Daltonics software for mass spectrometry)\n",
       "\n",
       "**Actions Performed:**\n",
       "\n",
       "* The researcher opens the *Calibration* section within the *timsControl* software.\n",
       "* They review the existing calibration data displayed in the software interface, showing a chromatogram and a list of reference masses.\n",
       "* The researcher initiates a calibration process by clicking the *Calibrate* button. The software then performs the calibration, displaying real-time data.\n",
       "* Once the calibration is complete, the software shows a calibration score.  The researcher accepts the calibration (presumably after checking the score).\n",
       "\n",
       "\n",
       "**Protocol Comparison:**\n",
       "\n",
       "- Protocol 1: 0%\n",
       "- Protocol 2: 0%\n",
       "- Protocol 3: 0%\n",
       "- Protocol 4: 0%\n",
       "- Protocol 5: 90% & correct order of steps\n",
       "- Protocol 6: 0%\n",
       "- Protocol 7: 0%\n",
       "- Protocol 8: 0%\n",
       "- Protocol 9: 0%\n",
       "- Protocol 10: 0%\n",
       "\n",
       "\n",
       "**Protocol Number: 5**\n"
      ],
      "text/plain": [
       "<IPython.core.display.Markdown object>"
      ]
     },
     "metadata": {},
     "output_type": "display_data"
    },
    {
     "name": "stdout",
     "output_type": "stream",
     "text": [
      "{'matches': False, 'video': 'TimsCalibration_docuSavedMethod.mov', 'expected_protocol': '5', 'found_protocol': None, 'message': 'No protocol number found in observation'}\n",
      "Processing video: Dilute_docuWrongSolvent.MP4\n",
      "/Users/patriciaskowronek/Documents/documentation_agent_few_shot_examples/benchmark_dataset/documentation/Dilute_docuWrongSolvent.MP4\n"
     ]
    },
    {
     "data": {
      "text/markdown": [
       "Good day.  Let's analyze this video.\n",
       "\n",
       "**1. Equipment Observed:**\n",
       "\n",
       "* Eppendorf tubes\n",
       "* Multichannel pipette\n",
       "* Pipette tips (in a box)\n",
       "* Buffer A\n",
       "* Buffer B\n",
       "* Orange 96-well plate\n",
       "\n",
       "**2. Actions Performed:**\n",
       "\n",
       "* The researcher attaches a tip to a multichannel pipette.\n",
       "* The researcher selects Buffer A.\n",
       "* The researcher dispenses 20µl of Buffer A into wells A1-A12 of the 96-well plate.\n",
       "\n",
       "\n",
       "**3. Protocol Comparison:**\n",
       "\n",
       "- Protocol 1: 0%\n",
       "- Protocol 2: 0%\n",
       "- Protocol 3: 0%\n",
       "- Protocol 4: 70% & correct order of steps\n",
       "- Protocol 5: 0%\n",
       "- Protocol 6: 0%\n",
       "- Protocol 7: 0%\n",
       "- Protocol 8: 90% & correct order of steps\n",
       "- Protocol 9: 0%\n",
       "- Protocol 10: 0%\n",
       "\n",
       "**4. Best Matching Protocol:**\n",
       "\n",
       "Protocol number: 8\n",
       "\n"
      ],
      "text/plain": [
       "<IPython.core.display.Markdown object>"
      ]
     },
     "metadata": {},
     "output_type": "display_data"
    },
    {
     "name": "stdout",
     "output_type": "stream",
     "text": [
      "{'matches': False, 'video': 'Dilute_docuWrongSolvent.MP4', 'expected_protocol': '4', 'found_protocol': '8'}\n",
      "Processing video: TimsCalibration_docuWrongOrderSteps.mov\n",
      "/Users/patriciaskowronek/Documents/documentation_agent_few_shot_examples/benchmark_dataset/documentation/TimsCalibration_docuWrongOrderSteps.mov\n"
     ]
    },
    {
     "data": {
      "text/markdown": [
       "Here's an analysis of the provided video following the specified format:\n",
       "\n",
       "**Equipment observed in the video:**\n",
       "\n",
       "- Software: timsControl\n",
       "\n",
       "**Actions performed in the video:**\n",
       "\n",
       "- The researcher opens the timsControl software.\n",
       "- The researcher navigates to the \"Calibration\" section within the software.\n",
       "- The researcher selects the \"Mobility\" sub-section.\n",
       "- The researcher reviews existing calibration data.\n",
       "- The researcher selects \"Calibrate.\"\n",
       "- The software performs the calibration process.\n",
       "- The researcher reviews the calibration results, including the score.\n",
       "- The researcher accepts the calibration results.\n",
       "\n",
       "\n",
       "**Protocol comparison:**\n",
       "\n",
       "- Protocol 1: 0%\n",
       "- Protocol 2: 0%\n",
       "- Protocol 3: 0%\n",
       "- Protocol 4: 0%\n",
       "- Protocol 5: 90% & correct order of steps\n",
       "- Protocol 6: 0%\n",
       "- Protocol 7: 0%\n",
       "- Protocol 8: 0%\n",
       "- Protocol 9: 0%\n",
       "- Protocol 10: 0%\n",
       "\n",
       "**Protocol number: 5**\n",
       "\n"
      ],
      "text/plain": [
       "<IPython.core.display.Markdown object>"
      ]
     },
     "metadata": {},
     "output_type": "display_data"
    },
    {
     "name": "stdout",
     "output_type": "stream",
     "text": [
      "{'matches': True, 'video': 'TimsCalibration_docuWrongOrderSteps.mov', 'expected_protocol': '5', 'found_protocol': '5'}\n",
      "Processing video: Dilute_docuWrongVolume_PipettTipNotChanged.MP4\n",
      "/Users/patriciaskowronek/Documents/documentation_agent_few_shot_examples/benchmark_dataset/documentation/Dilute_docuWrongVolume_PipettTipNotChanged.MP4\n"
     ]
    },
    {
     "data": {
      "text/markdown": [
       "The researcher in the video is using the following equipment:\n",
       "\n",
       "- Eppendorf tubes\n",
       "- Multichannel pipette\n",
       "- Eppendorf tip box\n",
       "- Vortex mixer\n",
       "- Marker pen\n",
       "\n",
       "\n",
       "Actions of the researcher in the video:\n",
       "\n",
       "- The researcher initially sets the multichannel pipette to dispense 400µL.\n",
       "- Subsequently, the setting is changed to 100µL.\n",
       "- 400µL of liquid from a vial is dispensed into each of the two Eppendorf tubes.\n",
       "- 100µL of liquid from a second vial is dispensed into each Eppendorf tube.\n",
       "- The tubes are labeled.\n",
       "\n",
       "\n",
       "Comparison of video content with protocols:\n",
       "\n",
       "- Protocol 1: 0%\n",
       "- Protocol 2: 0%\n",
       "- Protocol 3: 0%\n",
       "- Protocol 4: 90% & correct order of steps\n",
       "- Protocol 5: 0%\n",
       "- Protocol 6: 0%\n",
       "- Protocol 7: 0%\n",
       "- Protocol 8: 0%\n",
       "- Protocol 9: 0%\n",
       "- Protocol 10: 0%\n",
       "\n",
       "\n",
       "Protocol number: 4\n",
       "\n"
      ],
      "text/plain": [
       "<IPython.core.display.Markdown object>"
      ]
     },
     "metadata": {},
     "output_type": "display_data"
    },
    {
     "name": "stdout",
     "output_type": "stream",
     "text": [
      "{'matches': True, 'video': 'Dilute_docuWrongVolume_PipettTipNotChanged.MP4', 'expected_protocol': '4', 'found_protocol': '4'}\n",
      "Processing video: DisconnectingColumn_docuCorrect.MP4\n",
      "/Users/patriciaskowronek/Documents/documentation_agent_few_shot_examples/benchmark_dataset/documentation/DisconnectingColumn_docuCorrect.MP4\n"
     ]
    },
    {
     "data": {
      "text/markdown": [
       "Here's an analysis of the provided lab video, following the specified format:\n",
       "\n",
       "**Equipment Observed:**\n",
       "\n",
       "* IonOpticks Column\n",
       "* Bruker timsTOF Mass Spectrometer (with UltraSource ion source)\n",
       "* Evosep One LC System (with sample line)\n",
       "* NanoViper Adapter (black)\n",
       "* Pliers\n",
       "\n",
       "\n",
       "**Actions Performed:**\n",
       "\n",
       "* The researcher removes the NanoViper adapter from the sample line connected to the mass spectrometer.\n",
       "* Using pliers, the researcher carefully disconnects the sample line from the IonOpticks column.\n",
       "* The researcher sets aside the sample line.\n",
       "\n",
       "\n",
       "**Protocol Comparison:**\n",
       "\n",
       "- Protocol 1: 0%\n",
       "- Protocol 2: 0%\n",
       "- Protocol 3: 100% & correct order of steps\n",
       "- Protocol 4: 0%\n",
       "- Protocol 5: 0%\n",
       "- Protocol 6: 0%\n",
       "- Protocol 7: 0%\n",
       "- Protocol 8: 0%\n",
       "- Protocol 9: 0%\n",
       "- Protocol 10: 0%\n",
       "\n",
       "\n",
       "**Protocol Number: 3**\n"
      ],
      "text/plain": [
       "<IPython.core.display.Markdown object>"
      ]
     },
     "metadata": {},
     "output_type": "display_data"
    },
    {
     "name": "stdout",
     "output_type": "stream",
     "text": [
      "{'matches': False, 'video': 'DisconnectingColumn_docuCorrect.MP4', 'expected_protocol': '3', 'found_protocol': None, 'message': 'No protocol number found in observation'}\n",
      "Processing video: Pipette_docuFirstTwoWrongVolumneANDA2Twice.MP4\n",
      "/Users/patriciaskowronek/Documents/documentation_agent_few_shot_examples/benchmark_dataset/documentation/Pipette_docuFirstTwoWrongVolumneANDA2Twice.MP4\n"
     ]
    },
    {
     "data": {
      "text/markdown": [
       "As Professor Matthias Mann, I have reviewed the provided video and protocols. Here's my analysis:\n",
       "\n",
       "\n",
       "**Equipment Observed in the Video:**\n",
       "\n",
       "- PCR plate\n",
       "- Multichannel pipette (Eppendorf Research plus 12 channel)\n",
       "- Bottles of liquid (labeled \"Buffer A\")\n",
       "- Tip box\n",
       "\n",
       "**Actions Performed in the Video:**\n",
       "\n",
       "- The researcher picks up the PCR plate.\n",
       "- The researcher uses a multichannel pipette to transfer a liquid, presumably Buffer A, into the wells A1-A12 of the PCR plate.\n",
       "\n",
       "\n",
       "**Protocol Comparison:**\n",
       "\n",
       "- Protocol 1: 0%\n",
       "- Protocol 2: 0%\n",
       "- Protocol 3: 0%\n",
       "- Protocol 4: 20% & different order of steps\n",
       "- Protocol 5: 0%\n",
       "- Protocol 6: 0%\n",
       "- Protocol 7: 0%\n",
       "- Protocol 8: 95% & correct order of steps\n",
       "- Protocol 9: 0%\n",
       "- Protocol 10: 0%\n",
       "\n",
       "\n",
       "**Protocol Number: 8**\n",
       "\n"
      ],
      "text/plain": [
       "<IPython.core.display.Markdown object>"
      ]
     },
     "metadata": {},
     "output_type": "display_data"
    },
    {
     "name": "stdout",
     "output_type": "stream",
     "text": [
      "{'matches': False, 'video': 'Pipette_docuFirstTwoWrongVolumneANDA2Twice.MP4', 'expected_protocol': '8', 'found_protocol': None, 'message': 'No protocol number found in observation'}\n",
      "Processing video: PlaceEvotips_docuWrongPosition.MP4\n",
      "/Users/patriciaskowronek/Documents/documentation_agent_few_shot_examples/benchmark_dataset/documentation/PlaceEvotips_docuWrongPosition.MP4\n"
     ]
    },
    {
     "data": {
      "text/markdown": [
       "Here's an analysis of the provided lab video, following the specified format:\n",
       "\n",
       "**Equipment Observed in the Video:**\n",
       "\n",
       "- Evosep One LC System\n",
       "- EVOTIP boxes\n",
       "- EVOTIPs\n",
       "- Tweezers\n",
       "\n",
       "**Actions Performed in the Video:**\n",
       "\n",
       "- The researcher retrieves two EVOTIP boxes from a storage area.\n",
       "- One EVOTIP box contains samples, the other appears to be empty (for blanks).\n",
       "- Using tweezers, the researcher carefully places individual EVOTIPs from the sample box into the designated slots on the Evosep One LC system.\n",
       "- The researcher places the empty EVOTIP box onto the Evosep One.\n",
       "- The researcher carefully places individual EVOTIPs into the blank slots.\n",
       "\n",
       "\n",
       "**Protocol Comparison:**\n",
       "\n",
       "- Protocol 1: 0%\n",
       "- Protocol 2: 90% & correct order of steps\n",
       "- Protocol 3: 0%\n",
       "- Protocol 4: 0%\n",
       "- Protocol 5: 0%\n",
       "- Protocol 6: 0%\n",
       "- Protocol 7: 0%\n",
       "- Protocol 8: 0%\n",
       "- Protocol 9: 0%\n",
       "- Protocol 10: 0%\n",
       "\n",
       "**Protocol number: 2**\n",
       "\n"
      ],
      "text/plain": [
       "<IPython.core.display.Markdown object>"
      ]
     },
     "metadata": {},
     "output_type": "display_data"
    },
    {
     "name": "stdout",
     "output_type": "stream",
     "text": [
      "{'matches': True, 'video': 'PlaceEvotips_docuWrongPosition.MP4', 'expected_protocol': '2', 'found_protocol': '2'}\n",
      "Processing video: TimsCalibration_docuCorrect.mov\n",
      "/Users/patriciaskowronek/Documents/documentation_agent_few_shot_examples/benchmark_dataset/documentation/TimsCalibration_docuCorrect.mov\n"
     ]
    },
    {
     "data": {
      "text/markdown": [
       "Here's my analysis of the provided lab video, following the specified format:\n",
       "\n",
       "**1. Equipment Observed:**\n",
       "\n",
       "- Computer running Bruker's timsControl software.\n",
       "\n",
       "\n",
       "**2. Actions Performed:**\n",
       "\n",
       "- The researcher opens the *Calibration* tab within the timsControl software.\n",
       "- The researcher observes the current calibration results displayed as a chromatogram and peak list.\n",
       "- The researcher initiates a new calibration by clicking the *Calibrate* button.  The software then performs the calibration procedure.\n",
       "- The researcher observes the calibration progress and results in real-time. The final calibration score is displayed.\n",
       "- The researcher accepts the calibration results (assuming a successful calibration with a score of 100%).\n",
       "\n",
       "\n",
       "**3. Protocol Comparison:**\n",
       "\n",
       "- Protocol 1: 0%\n",
       "- Protocol 2: 0%\n",
       "- Protocol 3: 0%\n",
       "- Protocol 4: 0%\n",
       "- Protocol 5: 90% & correct order of steps\n",
       "- Protocol 6: 0%\n",
       "- Protocol 7: 0%\n",
       "- Protocol 8: 0%\n",
       "- Protocol 9: 0%\n",
       "- Protocol 10: 0%\n",
       "\n",
       "\n",
       "**4. Best Matching Protocol:**\n",
       "\n",
       "Protocol number: 5\n",
       "\n"
      ],
      "text/plain": [
       "<IPython.core.display.Markdown object>"
      ]
     },
     "metadata": {},
     "output_type": "display_data"
    },
    {
     "name": "stdout",
     "output_type": "stream",
     "text": [
      "{'matches': True, 'video': 'TimsCalibration_docuCorrect.mov', 'expected_protocol': '5', 'found_protocol': '5'}\n",
      "Processing video: QueueSamples_docuWrongRow_S3A1Twice.mov\n",
      "/Users/patriciaskowronek/Documents/documentation_agent_few_shot_examples/benchmark_dataset/documentation/QueueSamples_docuWrongRow_S3A1Twice.mov\n"
     ]
    },
    {
     "data": {
      "text/markdown": [
       "Certainly, I can assist you with this.  Let's analyze the provided video and match it to the protocols.\n",
       "\n",
       "**Lab Video Analysis:**\n",
       "\n",
       "* **Equipment Observed:**\n",
       "    * Software: Bruker HyStar 6.0 (or later version)\n",
       "    * Evosep One LC System\n",
       "\n",
       "* **Actions Performed:**\n",
       "    * The researcher is shown using HyStar software to prepare a sample queue for LC-MS analysis.\n",
       "    * Evotips are already loaded in the Evosep.\n",
       "    * The researcher selects an existing sample table.\n",
       "    * The researcher modifies the sample table, adjusting sample IDs, specifying Evotip positions, and confirming method settings (separation method, injection method, MS methods).\n",
       "    * The researcher appears to check the storage path.\n",
       "    * The researcher verifies tray configuration (Evotip positions).\n",
       "    * The researcher uploads sample conditions.\n",
       "    * The researcher initiates the analysis sequence.\n",
       "\n",
       "\n",
       "**Protocol Comparison:**\n",
       "\n",
       "- Protocol 1: 100% & correct order of steps\n",
       "- Protocol 2: 0%\n",
       "- Protocol 3: 0%\n",
       "- Protocol 4: 0%\n",
       "- Protocol 5: 0%\n",
       "- Protocol 6: 0%\n",
       "- Protocol 7: 0%\n",
       "- Protocol 8: 0%\n",
       "- Protocol 9: 0%\n",
       "- Protocol 10: 0%\n",
       "\n",
       "**Protocol Number:** 1"
      ],
      "text/plain": [
       "<IPython.core.display.Markdown object>"
      ]
     },
     "metadata": {},
     "output_type": "display_data"
    },
    {
     "name": "stdout",
     "output_type": "stream",
     "text": [
      "{'matches': False, 'video': 'QueueSamples_docuWrongRow_S3A1Twice.mov', 'expected_protocol': '1', 'found_protocol': None, 'message': 'No protocol number found in observation'}\n",
      "Processing video: PlaceEvotips_docuCorrect.MP4\n",
      "/Users/patriciaskowronek/Documents/documentation_agent_few_shot_examples/benchmark_dataset/documentation/PlaceEvotips_docuCorrect.MP4\n"
     ]
    },
    {
     "data": {
      "text/markdown": [
       "As Professor Matthias Mann, I have reviewed the provided video and protocols.  My analysis is as follows:\n",
       "\n",
       "\n",
       "**Equipment Observed in the Video:**\n",
       "\n",
       "- Evosep One LC System\n",
       "- EVOTIP boxes\n",
       "- EVOTIPs\n",
       "- Tweezers\n",
       "\n",
       "\n",
       "**Actions Performed in the Video:**\n",
       "\n",
       "- The researcher retrieves EVOTIP boxes from storage.\n",
       "- The researcher places two EVOTIP boxes onto the deck of the Evosep One LC system.\n",
       "- The researcher inspects the EVOTIPs within the boxes.\n",
       "- The researcher carefully places the EVOTIPs, using tweezers, into the EVOTIP boxes on the Evosep.\n",
       "\n",
       "\n",
       "**Protocol Comparison:**\n",
       "\n",
       "- Protocol 1: 0%\n",
       "- Protocol 2: 95% & correct order of steps\n",
       "- Protocol 3: 0%\n",
       "- Protocol 4: 0%\n",
       "- Protocol 5: 0%\n",
       "- Protocol 6: 0%\n",
       "- Protocol 7: 0%\n",
       "- Protocol 8: 0%\n",
       "- Protocol 9: 0%\n",
       "- Protocol 10: 0%\n",
       "\n",
       "\n",
       "**Protocol Number: 2**\n"
      ],
      "text/plain": [
       "<IPython.core.display.Markdown object>"
      ]
     },
     "metadata": {},
     "output_type": "display_data"
    },
    {
     "name": "stdout",
     "output_type": "stream",
     "text": [
      "{'matches': False, 'video': 'PlaceEvotips_docuCorrect.MP4', 'expected_protocol': '2', 'found_protocol': None, 'message': 'No protocol number found in observation'}\n",
      "Processing video: ESIsourceToUltraSource_docuCorrect.MP4\n",
      "/Users/patriciaskowronek/Documents/documentation_agent_few_shot_examples/benchmark_dataset/documentation/ESIsourceToUltraSource_docuCorrect.MP4\n"
     ]
    },
    {
     "data": {
      "text/markdown": [
       "Certainly, as Professor Matthias Mann, I can analyze this video.\n",
       "\n",
       "**Equipment Observed:**\n",
       "\n",
       "- Bruker timsTOF SCP mass spectrometer\n",
       "- Evosep One LC system\n",
       "- NanoViper adapter\n",
       "- Pliers\n",
       "- A computer running Bruker's HyStar software\n",
       "\n",
       "\n",
       "**Actions Performed:**\n",
       "\n",
       "- The researcher removes the NanoViper adapter from the timsTOF.\n",
       "- The researcher disconnects the capillary tubing from the NanoViper.\n",
       "- The researcher places the disconnected capillary tubing aside.\n",
       "- The researcher reconnects the capillary tubing to the NanoViper.\n",
       "- The researcher reattaches the NanoViper to the timsTOF.\n",
       "\n",
       "\n",
       "**Protocol Comparison:**\n",
       "\n",
       "- Protocol 1: 0%\n",
       "- Protocol 2: 0%\n",
       "- Protocol 3: 0%\n",
       "- Protocol 4: 0%\n",
       "- Protocol 5: 0%\n",
       "- Protocol 6: 80% & correct order of steps\n",
       "- Protocol 7: 0%\n",
       "- Protocol 8: 0%\n",
       "- Protocol 9: 0%\n",
       "- Protocol 10: 0%\n",
       "\n",
       "\n",
       "**Protocol Number: 6**\n",
       "\n"
      ],
      "text/plain": [
       "<IPython.core.display.Markdown object>"
      ]
     },
     "metadata": {},
     "output_type": "display_data"
    },
    {
     "name": "stdout",
     "output_type": "stream",
     "text": [
      "{'matches': False, 'video': 'ESIsourceToUltraSource_docuCorrect.MP4', 'expected_protocol': '9', 'found_protocol': None, 'message': 'No protocol number found in observation'}\n",
      "Processing video: QueueSamples_docuEvotipNotAtPositionNoSampleID.mov\n",
      "/Users/patriciaskowronek/Documents/documentation_agent_few_shot_examples/benchmark_dataset/documentation/QueueSamples_docuEvotipNotAtPositionNoSampleID.mov\n"
     ]
    },
    {
     "data": {
      "text/markdown": [
       "Okay, let's analyze the provided video.\n",
       "\n",
       "\n",
       "**Equipment Observed in the Video:**\n",
       "\n",
       "* Software: Bruker Compass HyStar 6.0\n",
       "\n",
       "**Actions Performed in the Video:**\n",
       "\n",
       "* The researcher opens an existing sample table in HyStar.\n",
       "* The researcher selects samples for analysis, including blanks.  The samples are already loaded into the Evosep.\n",
       "* The researcher adjusts the sample IDs to follow a specific naming convention.\n",
       "* The researcher queues the samples for analysis, with a specific order (blanks, DDA-PASEF, DIA-PASEF, blanks).\n",
       "* The researcher checks the tray configuration to ensure the Evotip positions are correctly assigned.\n",
       "* The researcher verifies the separation method and injection method settings.\n",
       "* The researcher initiates the analysis sequence.\n",
       "\n",
       "**Protocol Comparison:**\n",
       "\n",
       "- Protocol 1: 100% & correct order of steps\n",
       "- Protocol 2: 0%\n",
       "- Protocol 3: 0%\n",
       "- Protocol 4: 0%\n",
       "- Protocol 5: 0%\n",
       "- Protocol 6: 0%\n",
       "- Protocol 7: 0%\n",
       "- Protocol 8: 0%\n",
       "- Protocol 9: 0%\n",
       "- Protocol 10: 0%\n",
       "\n",
       "**Protocol number: 1**\n"
      ],
      "text/plain": [
       "<IPython.core.display.Markdown object>"
      ]
     },
     "metadata": {},
     "output_type": "display_data"
    },
    {
     "name": "stdout",
     "output_type": "stream",
     "text": [
      "{'matches': True, 'video': 'QueueSamples_docuEvotipNotAtPositionNoSampleID.mov', 'expected_protocol': '1', 'found_protocol': '1'}\n",
      "Processing video: UltraSourceToESIsource_docuForgotCapillaryCap.MP4\n",
      "/Users/patriciaskowronek/Documents/documentation_agent_few_shot_examples/benchmark_dataset/documentation/UltraSourceToESIsource_docuForgotCapillaryCap.MP4\n"
     ]
    },
    {
     "data": {
      "text/markdown": [
       "Certainly, let's analyze this lab video.\n",
       "\n",
       "**Equipment Observed in the Video:**\n",
       "\n",
       "*   Evosep One LC System\n",
       "*   Bruker timsTOF mass spectrometer (with UltraSource)\n",
       "*   IonOpticks column\n",
       "*   NanoViper adapter\n",
       "*   Pliers\n",
       "*   Gloves\n",
       "*   Syringe\n",
       "*   Solvent reservoir\n",
       "\n",
       "**Actions Performed in the Video:**\n",
       "\n",
       "*   The researcher puts on gloves.\n",
       "*   The researcher removes the cap from the timsTOF's UltraSource.\n",
       "*   The researcher disconnects the capillary from the UltraSource using pliers.\n",
       "*   The researcher takes the capillary to a solvent reservoir, and rinses it with solvent.\n",
       "*   The researcher returns to the timsTOF and reconnects the capillary to the UltraSource.\n",
       "\n",
       "**Protocol Comparison:**\n",
       "\n",
       "- Protocol 1: 0%\n",
       "- Protocol 2: 0%\n",
       "- Protocol 3: 0%\n",
       "- Protocol 4: 0%\n",
       "- Protocol 5: 0%\n",
       "- Protocol 6: 50% but different order of steps\n",
       "- Protocol 7: 20% but different order of steps\n",
       "- Protocol 8: 0%\n",
       "- Protocol 9: 20% but different order of steps\n",
       "- Protocol 10: 0%\n",
       "\n",
       "**Protocol number: 6**\n",
       "\n",
       "I hope this is helpful! Let me know if you need further assistance."
      ],
      "text/plain": [
       "<IPython.core.display.Markdown object>"
      ]
     },
     "metadata": {},
     "output_type": "display_data"
    },
    {
     "name": "stdout",
     "output_type": "stream",
     "text": [
      "{'matches': False, 'video': 'UltraSourceToESIsource_docuForgotCapillaryCap.MP4', 'expected_protocol': '7', 'found_protocol': '6'}\n",
      "Processing video: PlaceEvotips_docuLiquidNotChecked.MP4\n",
      "/Users/patriciaskowronek/Documents/documentation_agent_few_shot_examples/benchmark_dataset/documentation/PlaceEvotips_docuLiquidNotChecked.MP4\n"
     ]
    },
    {
     "data": {
      "text/markdown": [
       "Here's an analysis of the provided lab video, following the specified format:\n",
       "\n",
       "**Equipment Observed:**\n",
       "\n",
       "* Evosep One LC System\n",
       "* EvoTip boxes\n",
       "* Multichannel pipette\n",
       "* Tweezers\n",
       "\n",
       "**Actions Performed:**\n",
       "\n",
       "* The researcher retrieves two full EvoTip boxes from storage.\n",
       "* The researcher places the EvoTip boxes onto the Evosep One deck.\n",
       "* The researcher retrieves a third, empty EvoTip box from storage.\n",
       "* The researcher places the empty EvoTip box onto the Evosep One deck.\n",
       "* The researcher uses a multichannel pipette to transfer EvoTips from the full boxes to the empty box.\n",
       "\n",
       "\n",
       "**Protocol Comparison:**\n",
       "\n",
       "- Protocol 1: 0%\n",
       "- Protocol 2: 90% & correct order of steps\n",
       "- Protocol 3: 0%\n",
       "- Protocol 4: 0%\n",
       "- Protocol 5: 0%\n",
       "- Protocol 6: 0%\n",
       "- Protocol 7: 0%\n",
       "- Protocol 8: 0%\n",
       "- Protocol 9: 0%\n",
       "- Protocol 10: 0%\n",
       "\n",
       "**Protocol number: 2**\n",
       "\n"
      ],
      "text/plain": [
       "<IPython.core.display.Markdown object>"
      ]
     },
     "metadata": {},
     "output_type": "display_data"
    },
    {
     "name": "stdout",
     "output_type": "stream",
     "text": [
      "{'matches': True, 'video': 'PlaceEvotips_docuLiquidNotChecked.MP4', 'expected_protocol': '2', 'found_protocol': '2'}\n",
      "Processing video: Evotip_docuWrongSpinInEvotipBox_wrongSpeed.MP4\n",
      "/Users/patriciaskowronek/Documents/documentation_agent_few_shot_examples/benchmark_dataset/documentation/Evotip_docuWrongSpinInEvotipBox_wrongSpeed.MP4\n"
     ]
    },
    {
     "data": {
      "text/markdown": [
       "Here's my analysis of the provided lab video, following the specified format:\n",
       "\n",
       "**Equipment Observed:**\n",
       "\n",
       "- Multifuge X Pro Series Centrifuge (Thermo Scientific)\n",
       "- Evotip boxes\n",
       "- Multichannel pipette\n",
       "\n",
       "\n",
       "**Actions Performed:**\n",
       "\n",
       "- The researcher retrieves two Evotip boxes.\n",
       "- The researcher places the boxes into the centrifuge.\n",
       "- The researcher sets the centrifuge parameters (speed and time) via the touchscreen interface.\n",
       "- The researcher initiates the centrifuge run.\n",
       "\n",
       "\n",
       "**Protocol Comparison:**\n",
       "\n",
       "- Protocol 1: 0%\n",
       "- Protocol 2: 90% & correct order of steps\n",
       "- Protocol 3: 0%\n",
       "- Protocol 4: 0%\n",
       "- Protocol 5: 0%\n",
       "- Protocol 6: 0%\n",
       "- Protocol 7: 0%\n",
       "- Protocol 8: 0%\n",
       "- Protocol 9: 0%\n",
       "- Protocol 10: 100% & correct order of steps\n",
       "\n",
       "\n",
       "**Protocol number: 10**\n",
       "\n"
      ],
      "text/plain": [
       "<IPython.core.display.Markdown object>"
      ]
     },
     "metadata": {},
     "output_type": "display_data"
    },
    {
     "name": "stdout",
     "output_type": "stream",
     "text": [
      "{'matches': True, 'video': 'Evotip_docuWrongSpinInEvotipBox_wrongSpeed.MP4', 'expected_protocol': '10', 'found_protocol': '10'}\n",
      "Success rate: 51.72%\n"
     ]
    }
   ],
   "source": [
    "example_video_path = \"/Users/patriciaskowronek/Documents/documentation_agent_few_shot_examples/benchmark_dataset/unused/DisconnectingColumn_docuWithoutStandby_2.MP4\"\n",
    "example_video_uri = video_to_protocol.upload_video_to_gcs(example_video_path, bucket, \"protocol_finder_2\")\n",
    "example_video_path_2 = \"/Users/patriciaskowronek/Documents/documentation_agent_few_shot_examples/benchmark_dataset/unused/QueueSamples_docuCorrect_2.mov\"\n",
    "example_video_uri_2 = video_to_protocol.upload_video_to_gcs(example_video_path_2, bucket, \"protocol_finder_2\")\n",
    "\n",
    "example_video_input = [\n",
    "    \"EXAMPLE SECTION:\",\n",
    "    \"Eample Video 1:\",\n",
    "    Part.from_uri(example_video_uri, mime_type=\"video/mp4\"),\n",
    "    \"Example Response 1:\",\n",
    "    \"\"\"\n",
    "    The researcher in the video is using following equipment: \n",
    "    - IonOpticks Column\n",
    "    - timsTOF Mass Spectrometer\n",
    "        - Equipped with UltraSource ion source\n",
    "    - Evosep One LC System\n",
    "        - with sample line\n",
    "    - NanoViper Adapter (black)\n",
    "        - Pliers\n",
    "\n",
    "    Actions of the researcher in the video:\n",
    "    - Opens the lid of a column oven.\n",
    "    - Loosened the securing screw at the sample line - column connection. Lifts it up and moved the metal grounding screw away from the column-sample line connection.\n",
    "    - Attaches the NanoViper adapter to the sample line for easier handling.\n",
    "    - Helds the column fitting with pliers for easier handling.\n",
    "    - Unscrews the NanoViper connector to detach the sample line from the IonOpticks column by turning it counter clock-wise.\n",
    "    - Positions the sample line ensuring it formed a gentle curve. Placs it over the transparent bumper of the Evosep.\n",
    "    \n",
    "    Compare the video content with the content and order of steps in each of the protocols. \n",
    "    List your answer as follows:\n",
    "    - Protocol 1: No content overlap. \n",
    "    - Protocol 2: No content overlap. \n",
    "    - Protocol 3: Overlap in content 95% & correct order of steps \n",
    "    - Protocol 4: No content overlap. \n",
    "    - Protocol 5: No content overlap. \n",
    "    - Protocol 6: Overlap in content 50%, but different order of steps.\n",
    "    - Protocol 7: Overlap in content 20%, but different order of steps.\n",
    "    - Protocol 8: No content overlap. \n",
    "    - Protocol 9: No content overlap. \n",
    "    - Protocol 10: No content overlap. \n",
    "\n",
    "    Which protocol matches best?\n",
    "    Protocol number: 3 since it's content has the highest overlap and the order of steps matches best.\"\"\",\n",
    "\n",
    "    \"Eample Video 2:\",\n",
    "    Part.from_uri(example_video_uri_2, mime_type=\"video/mov\"),\n",
    "    \"Example Response 2:\",\n",
    "    \"\"\"\n",
    "    The researcher in the video is using following equipment: \n",
    "    - software: HyStar 6.0\n",
    "\n",
    "    Actions of the researcher in the video:\n",
    "    - Navigates to the 'Acquisition' tab in Hystar software.\n",
    "    - Selects an existing sample table by pressing the arrow down button when hovering over the sample table name.\n",
    "    - Copies existing sample table entries for modification.\n",
    "    - Adjusts the sample ID following a specific naming pattern.\n",
    "    - Queues analysis runs in sequence: one blank, three dda-PASEF runs, three dia-PASEF runs, and a final blank.\n",
    "    - Verifies column autocompletion settings through right-click menu, ensuring proper tray configuration.\n",
    "    - Specifies Evotip positions by selecting the first position and using drag-to-fill functionality for remaining samples.\n",
    "    - Checks the storage path folder for raw files.\n",
    "    - Verifies the separation method settings.\n",
    "    - Confirms injection method is set to 'standard'.\n",
    "    - Adjusts dda-PASEF and dia-PASEF maintenance methods to match sample IDs.\n",
    "    - Stops the idle flow on the Evosep system through right-click menu option.\n",
    "    - Saves the updated sample table.\n",
    "    - Uploads sample conditions by right-clicking the top row to verify proper loading of LC and MS methods.\n",
    "    - Initiates the sequence by pressing the 'start' and 'start sequence' buttons.\n",
    "    \n",
    "    Compare the video content with the content and order of steps in each of the protocols. \n",
    "    List your answer as follows:\n",
    "    - Protocol 1: Overlap in content 100% & correct order of steps \n",
    "    - Protocol 2: No content overlap. \n",
    "    - Protocol 3: No content overlap. \n",
    "    - Protocol 4: No content overlap. \n",
    "    - Protocol 5: Overlap in content 5%.  \n",
    "    - Protocol 6: No content overlap. \n",
    "    - Protocol 7: No content overlap. \n",
    "    - Protocol 8: No content overlap. \n",
    "    - Protocol 9: No content overlap. \n",
    "    - Protocol 10: No content overlap. \n",
    "\n",
    "    Which protocol matches best?\n",
    "    Protocol number: 1 since it's content has the highest overlap and the order of steps matches best.\n",
    "\n",
    "    END OF EXAMPLE SECTION\n",
    "    \"\"\",\n",
    "]\n",
    "system_prompt = [\"\"\"\n",
    "    You are Professor Matthias Mann, a pioneering scientist in proteomics and mass spectrometry with extensive laboratory experience.\n",
    "    Your task is to analyze a video showing a laboratory procedure and identify which protocol from a provided list accurately describes the step being performed.\n",
    "    \n",
    "    I will first provide you with an EXAMPLE (video, and response). \n",
    "\"\"\"]\n",
    "system_prompt_2 = [\"\"\"\n",
    "    FORMATTING INSTRUCTIONS:\n",
    "    1. Always begin your analysis by listing the equipment observed in the video using bullet points.\n",
    "    2. Then describe the actions performed in the video using bullet points.\n",
    "    3. Compare the video content with each protocol using this exact format:\n",
    "    - Protocol 1: [Overlap percentage]% [& correct order of steps OR but different order of steps]\n",
    "    - Protocol 2: [Overlap percentage]% [& correct order of steps OR but different order of steps]\n",
    "    [Continue for all protocols]\n",
    "    4. Conclude with a clear statement using this exact format:\n",
    "    \"Protocol number: X\" where X is the number of the best matching protocol.\n",
    "    5. If no protocol matches, explicitly state \"Protocol number: None\".\n",
    "    6. Do not include any explanatory text after stating the protocol number.\n",
    "                   \n",
    "    YOUR TASK SECTION:\n",
    "    Now, I provide you with the actuall 'lab video'. Follow the thought process in the example to analyze the video and match it to the selection of protocols.\n",
    "\"\"\"]\n",
    "protocol_intro= [\"Protocols:\"]\n",
    "\n",
    "csv_path = \"/Users/patriciaskowronek/Documents/documentation_agent_few_shot_examples/benchmark_dataset/Link_protocol_lab_video.csv\"\n",
    "\n",
    "validation_list = list()\n",
    "for video in video_parts: \n",
    "    print(f\"Processing video: {video}\")\n",
    "    video_path = video_parts[video][\"path\"]\n",
    "\n",
    "    order = [system_prompt, example_video_input, system_prompt_2, video_parts[video][\"part\"], protocol_intro, protocol_input]\n",
    "    model_input = list()\n",
    "    for input in order:\n",
    "        model_input.extend(input)\n",
    "\n",
    "    result = identify_protocol_from_video(\n",
    "        model_input,\n",
    "        model_name=\"gemini-1.5-flash-002\", \n",
    "        temperature=0.9\n",
    "    )\n",
    "\n",
    "    # print(result[\"usage_metadata\"])\n",
    "    print(result[\"video_path\"])\n",
    "    display(result[\"markdown_observation\"]) \n",
    "\n",
    "    result_validation = validate_protocol_number(video_path, csv_path, result[\"observation\"])\n",
    "    print(result_validation)\n",
    "    validation_list.append(result_validation[\"matches\"])\n",
    "\n",
    "success_ratio = sum(validation_list) / len(validation_list) if len(validation_list) > 0 else 0\n",
    "print(f\"Success rate: {success_ratio:.2%}\")"
   ]
  },
  {
   "cell_type": "code",
   "execution_count": 30,
   "metadata": {},
   "outputs": [
    {
     "name": "stdout",
     "output_type": "stream",
     "text": [
      "Processing video: UltraSourceToESIsource_docuForgotN2Line.MP4\n",
      "/Users/patriciaskowronek/Documents/documentation_agent_few_shot_examples/benchmark_dataset/documentation/UltraSourceToESIsource_docuForgotN2Line.MP4\n"
     ]
    },
    {
     "data": {
      "text/markdown": [
       "- timsTOF SCP Mass Spectrometer\n",
       "    - Equipped with UltraSource ion source\n",
       "- Evosep One LC System\n",
       "- IonOpticks Column\n",
       "- Metal grounding screw \n",
       "- Tweezers\n",
       "- Laboratory bench\n",
       "- Gloves\n",
       "- Syringe\n",
       "- Formic acid\n",
       "- Acetonitrile\n",
       "- Calibration mix\n",
       "\n",
       "Actions of the researcher in the video:\n",
       "- Opens the lid of the timsTOF UltraSource.\n",
       "- Disconnects the UltraSource ion source from the mass spectrometer.\n",
       "- Places the UltraSource onto a lab bench.\n",
       "- Puts on gloves.\n",
       "- Disassembles the UltraSource by removing the ceramic insulator.\n",
       "- Reassembles the UltraSource by reinstalling the ceramic insulator and attaching it back to the timsTOF mass spectrometer.\n",
       "- Closes the UltraSource lid.\n",
       "- Uses a syringe to flush the emitter with a mixture of formic acid and acetonitrile.\n",
       "- Verifies the calibration using a calibration mix.\n",
       "\n",
       "- Protocol 1: 0% & different order of steps\n",
       "- Protocol 2: 0%\n",
       "- Protocol 3: 0%\n",
       "- Protocol 4: 0%\n",
       "- Protocol 5: 15% & different order of steps\n",
       "- Protocol 6: 0%\n",
       "- Protocol 7: 20% & different order of steps\n",
       "- Protocol 8: 0%\n",
       "- Protocol 9: 0%\n",
       "- Protocol 10: 0%\n",
       "\n",
       "Protocol number: None \n"
      ],
      "text/plain": [
       "<IPython.core.display.Markdown object>"
      ]
     },
     "metadata": {},
     "output_type": "display_data"
    },
    {
     "name": "stdout",
     "output_type": "stream",
     "text": [
      "{'matches': False, 'video': 'UltraSourceToESIsource_docuForgotN2Line.MP4', 'expected_protocol': '7', 'found_protocol': None, 'message': 'No protocol number found in observation'}\n",
      "Processing video: TimsCalibration_docuCorrect_camera.MP4\n",
      "/Users/patriciaskowronek/Documents/documentation_agent_few_shot_examples/benchmark_dataset/documentation/TimsCalibration_docuCorrect_camera.MP4\n"
     ]
    },
    {
     "data": {
      "text/markdown": [
       "- Bruker Daltonics timsTOF Ultra Mass Spectrometer\n",
       "  - Equipped with ESI source\n",
       "  - UltraSource ion source ready to attach\n",
       "- HP Eye Ease monitor displaying Hystar software\n",
       "- IonOpticks Column\n",
       "- Evosep One LC System with sample line\n",
       "- NanoViper Adapter (black)\n",
       "- Pliers\n",
       "\n",
       "- Navigates through Hystar software, specifically the 'Acquisition' tab.\n",
       "- Focuses on tuning and calibration of the TIMS (Trapped Ion Mobility Spectrometry) device.\n",
       "- Adjusts settings related to MS (Mass Spectrometry) mode, scan range, and ion mobility.\n",
       "- Sets the TIMS mode to 'Custom' and adjusts parameters like ramp time and duty cycle.\n",
       "- Verifies and potentially modifies the reference list for calibration, selecting specific calibrants for tuning.\n",
       "- Confirms the calibration status and score in the 'Calibration' tab.\n",
       "\n",
       "- Protocol 1: Overlap in content 95% & correct order of steps\n",
       "- Protocol 2: No content overlap.\n",
       "- Protocol 3: No content overlap.\n",
       "- Protocol 4: No content overlap.\n",
       "- Protocol 5: Overlap in content 95% & correct order of steps\n",
       "- Protocol 6: No content overlap.\n",
       "- Protocol 7: No content overlap.\n",
       "- Protocol 8: No content overlap.\n",
       "- Protocol 9: No content overlap.\n",
       "- Protocol 10: No content overlap.\n",
       "\n",
       "Protocol number: 5 \n"
      ],
      "text/plain": [
       "<IPython.core.display.Markdown object>"
      ]
     },
     "metadata": {},
     "output_type": "display_data"
    },
    {
     "name": "stdout",
     "output_type": "stream",
     "text": [
      "{'matches': True, 'video': 'TimsCalibration_docuCorrect_camera.MP4', 'expected_protocol': '5', 'found_protocol': '5'}\n",
      "Processing video: TimsCalibration_docuNotAllClicksVisibleOnVideo.MP4\n",
      "/Users/patriciaskowronek/Documents/documentation_agent_few_shot_examples/benchmark_dataset/documentation/TimsCalibration_docuNotAllClicksVisibleOnVideo.MP4\n"
     ]
    },
    {
     "data": {
      "text/markdown": [
       "- Software: Bruker HyStar 6.0\n",
       "\n",
       "- Actions of the researcher in the video:\n",
       " - Activates the Tuning Mix method on HyStar.\n",
       " - Opens the 'Method' section to adjust the ramp time.\n",
       " - Changes the ramp time to 150 ms.\n",
       " - Switches to the 'Mobility' tab in the Calibration section.\n",
       " - Selects the \"[ESI] Tuning Mix ES-TOF (ESI)\" reference list.\n",
       " - Sets calibration mode to Linear and detection range to 5%.\n",
       " - Sets calibration width to ± 0.1 Da.\n",
       " - Runs the calibration by clicking 'Calibrate'.\n",
       " - Examines the calibration results and verifies that the score is at 100%.\n",
       " - Accepts the calibration results.\n",
       " - Changes the Ramp Time back to 100 ms.\n",
       "\n",
       "- Protocol 1: Overlap in content 70% & correct order of steps\n",
       "- Protocol 2: No content overlap.\n",
       "- Protocol 3: No content overlap.\n",
       "- Protocol 4: No content overlap.\n",
       "- Protocol 5: Overlap in content 80% & correct order of steps\n",
       "- Protocol 6: No content overlap.\n",
       "- Protocol 7: No content overlap.\n",
       "- Protocol 8: No content overlap.\n",
       "- Protocol 9: No content overlap.\n",
       "- Protocol 10: No content overlap.\n",
       "\n",
       "Protocol number: 5 \n"
      ],
      "text/plain": [
       "<IPython.core.display.Markdown object>"
      ]
     },
     "metadata": {},
     "output_type": "display_data"
    },
    {
     "name": "stdout",
     "output_type": "stream",
     "text": [
      "{'matches': True, 'video': 'TimsCalibration_docuNotAllClicksVisibleOnVideo.MP4', 'expected_protocol': '5', 'found_protocol': '5'}\n",
      "Processing video: PlaceEvotips_docuBoxAngeled.MP4\n",
      "/Users/patriciaskowronek/Documents/documentation_agent_few_shot_examples/benchmark_dataset/documentation/PlaceEvotips_docuBoxAngeled.MP4\n"
     ]
    },
    {
     "data": {
      "text/markdown": [
       "- Evosep One LC System\n",
       "- Evotip Boxes\n",
       "- Evotips\n",
       "- Tweezers\n",
       "\n",
       "- Places two Evotip boxes on the Evosep One LC System, one at position S1 and the other at position S3.\n",
       "- Prepares an Evotip box and places it at position S1.\n",
       "- Prepares an empty Evotip box for blank tips and places it at position S3.\n",
       "- Picks up Evotips using tweezers and places them in the Evotip box at position S1, specifically in wells A1 to A6.\n",
       "- Places blank Evotips using tweezers in the empty Evotip box at position S3, specifically in wells A1 to A6.\n",
       "\n",
       "- Protocol 1: 0% \n",
       "- Protocol 2: 100% & correct order of steps\n",
       "- Protocol 3: 0%\n",
       "- Protocol 4: 0%\n",
       "- Protocol 5: 0%\n",
       "- Protocol 6: 0% \n",
       "- Protocol 7: 0% \n",
       "- Protocol 8: 0%\n",
       "- Protocol 9: 0% \n",
       "- Protocol 10: 0%\n",
       "\n",
       "Protocol number: 2\n"
      ],
      "text/plain": [
       "<IPython.core.display.Markdown object>"
      ]
     },
     "metadata": {},
     "output_type": "display_data"
    },
    {
     "name": "stdout",
     "output_type": "stream",
     "text": [
      "{'matches': True, 'video': 'PlaceEvotips_docuBoxAngeled.MP4', 'expected_protocol': '2', 'found_protocol': '2'}\n",
      "Processing video: UltraSourceToESIsource_docuForgotGlovesANDCapillaryCap.MP4\n",
      "/Users/patriciaskowronek/Documents/documentation_agent_few_shot_examples/benchmark_dataset/documentation/UltraSourceToESIsource_docuForgotGlovesANDCapillaryCap.MP4\n"
     ]
    },
    {
     "data": {
      "text/markdown": [
       "- timsTOF Ultra Mass Spectrometer\n",
       "        - Equipped with UltraSource ion source\n",
       "        - Equipped with column oven for temperature control\n",
       "- Evosep One LC System\n",
       "        - with sample line\n",
       "- Evotip Box\n",
       "- 500 µL glass syringe with needle\n",
       "- Pliers\n",
       "\n",
       "Actions of the researcher in the video:\n",
       "- Points at the timsTOF Ultra Mass Spectrometer, Evosep One System and a box with Evotips.\n",
       "- Navigates through the Hystar software to show the settings of the current run.\n",
       "- Disconnects the sample line from the UltraSource of the timsTOF Ultra.\n",
       "- Removes the UltraSource housing.\n",
       "- Puts on gloves.\n",
       "- Opens a box with Evotips, takes out an Evotip and places it into the UltraSource housing.\n",
       "- Closes the UltraSource housing.\n",
       "- Connects the sample line of the Evosep system to the UltraSource.\n",
       "- Closes the lid of the oven.\n",
       "- Unscrews the syringe from its connector.\n",
       "- Fills the syringe with 500 µL of solvent from a solvent reservoir.\n",
       "- Connects the syringe to its connector.\n",
       "- Installs the syringe to the syringe pump.\n",
       "\n",
       "Compare the video content with the content and order of steps in each of the protocols. \n",
       "List your answer as follows:\n",
       "- Protocol 1: Overlap in content 10%, but different order of steps.\n",
       "- Protocol 2: Overlap in content 20%, but different order of steps.\n",
       "- Protocol 3: Overlap in content 10%, but different order of steps.\n",
       "- Protocol 4: No content overlap.\n",
       "- Protocol 5: No content overlap.\n",
       "- Protocol 6: Overlap in content 80%, but different order of steps.\n",
       "- Protocol 7: No content overlap.\n",
       "- Protocol 8: No content overlap.\n",
       "- Protocol 9: No content overlap.\n",
       "- Protocol 10: No content overlap.\n",
       "\n",
       "Protocol number: 6 since it's content has the highest overlap."
      ],
      "text/plain": [
       "<IPython.core.display.Markdown object>"
      ]
     },
     "metadata": {},
     "output_type": "display_data"
    },
    {
     "name": "stdout",
     "output_type": "stream",
     "text": [
      "{'matches': False, 'video': 'UltraSourceToESIsource_docuForgotGlovesANDCapillaryCap.MP4', 'expected_protocol': '7', 'found_protocol': '6'}\n",
      "Processing video: QueueSamples_docuCorrect_1.mov\n",
      "/Users/patriciaskowronek/Documents/documentation_agent_few_shot_examples/benchmark_dataset/documentation/QueueSamples_docuCorrect_1.mov\n"
     ]
    },
    {
     "data": {
      "text/markdown": [
       "- HyStar software (version 6.0)\n",
       "- Evosep One LC System\n",
       "- timsTOF Mass Spectrometer\n",
       "\n",
       "    Actions of the researcher in the video:\n",
       "    - Opens the 'Acquisition' tab in Hystar.\n",
       "    - Selects an existing sample table by clicking the down arrow.\n",
       "    - Copies existing sample table entries to adjust them.\n",
       "    - Adjusts the 'Sample ID' to follow the naming pattern for blanks: [date]_[instrument]_[user initials]_[sample type]_[project ID]_[sample name].\n",
       "    - Queues blank runs.\n",
       "    - Verifies column autocompletion settings through a right-click menu and chooses 'Configure'.\n",
       "    - Chooses the tray type 'Evosep' and assigns slots 1-6 as '96Evotip'.\n",
       "    - Matches the Evotip positions by selecting the first position and using drag-to-fill functionality for the remaining samples.\n",
       "    - Defines the storage 'Path' folder for the raw data.\n",
       "    - Loads dia-PASEF methods for maintenance runs.\n",
       "    - Stops the idle flow on the Evosep system through a right-click menu, going to 'Preparation', then choosing 'Cancel Maintenance Procedure'.\n",
       "    - Saves the updated sample table.\n",
       "    - Uploads sample conditions by right-clicking the top row.\n",
       "    - Starts the sequence by pressing the 'Start' and 'Start Sequence' buttons.\n",
       "\n",
       "- Protocol 1: Overlap in content 100% & correct order of steps\n",
       "- Protocol 2: Overlap in content 25% & different order of steps\n",
       "- Protocol 3: No content overlap.\n",
       "- Protocol 4: No content overlap.\n",
       "- Protocol 5: No content overlap.\n",
       "- Protocol 6: No content overlap.\n",
       "- Protocol 7: No content overlap.\n",
       "- Protocol 8: No content overlap.\n",
       "- Protocol 9: No content overlap.\n",
       "- Protocol 10: No content overlap.\n",
       "\n",
       "Protocol number: 1\n"
      ],
      "text/plain": [
       "<IPython.core.display.Markdown object>"
      ]
     },
     "metadata": {},
     "output_type": "display_data"
    },
    {
     "name": "stdout",
     "output_type": "stream",
     "text": [
      "{'matches': True, 'video': 'QueueSamples_docuCorrect_1.mov', 'expected_protocol': '1', 'found_protocol': '1'}\n",
      "Processing video: QueueSamples_docuNoBlankNoSampleIDWrongMSmethod.mov\n",
      "/Users/patriciaskowronek/Documents/documentation_agent_few_shot_examples/benchmark_dataset/documentation/QueueSamples_docuNoBlankNoSampleIDWrongMSmethod.mov\n"
     ]
    },
    {
     "data": {
      "text/markdown": [
       "- HyStar 6.0 software\n",
       "- Evosep One LC System\n",
       "- timsTOF Mass Spectrometer \n",
       "\n",
       "Actions of the researcher in the video:\n",
       "- Navigates to the 'Acquisition' tab in Hystar software.\n",
       "- Chooses an existing sample table by pressing the arrow down button when hovering over the sample table name in the left sample table column.\n",
       "- Copies existing sample table entries to modify them.\n",
       "- Adjusts the sample ID to match a specific naming scheme.\n",
       "- Queues analysis runs with 5 ng HeLa Evotips at S1A1 to A6, and blanks at S3A1 to A6.\n",
       "- Verifies column autocompletion settings by right-clicking on a field in the column 'Vial' and selecting 'Configure'.\n",
       "- Specifies Evotip positions by selecting the first position (S1A1) and using drag-to-fill for remaining samples.\n",
       "- Adjusts dda-PASEF maintenance methods to match sample IDs.\n",
       "- Saves the sample table using the 'Save All' button.\n",
       "- Starts the sequence by pressing the 'Start' and 'Start Sequence' buttons.\n",
       "\n",
       "- Protocol 1: 90% & correct order of steps\n",
       "- Protocol 2: 5% & but different order of steps\n",
       "- Protocol 3: No content overlap\n",
       "- Protocol 4: No content overlap\n",
       "- Protocol 5: No content overlap\n",
       "- Protocol 6: No content overlap\n",
       "- Protocol 7: No content overlap\n",
       "- Protocol 8: No content overlap\n",
       "- Protocol 9: No content overlap\n",
       "- Protocol 10: No content overlap\n",
       "\n",
       "Protocol number: 1 \n"
      ],
      "text/plain": [
       "<IPython.core.display.Markdown object>"
      ]
     },
     "metadata": {},
     "output_type": "display_data"
    },
    {
     "name": "stdout",
     "output_type": "stream",
     "text": [
      "{'matches': True, 'video': 'QueueSamples_docuNoBlankNoSampleIDWrongMSmethod.mov', 'expected_protocol': '1', 'found_protocol': '1'}\n",
      "Processing video: UltraSourceToESIsource_docuCorrect.MP4\n",
      "/Users/patriciaskowronek/Documents/documentation_agent_few_shot_examples/benchmark_dataset/documentation/UltraSourceToESIsource_docuCorrect.MP4\n"
     ]
    },
    {
     "data": {
      "text/markdown": [
       "- timsTOF SCP Mass Spectrometer\n",
       "  - Equipped with UltraSource ion source\n",
       "- Evosep One LC System\n",
       "  - with sample line\n",
       "- UltraSource Door (Metal Ring)\n",
       "- Screwdriver\n",
       "\n",
       "Actions of the researcher in the video:\n",
       "- Shows the location of the Evotips on the Evosep system (S1, S3)\n",
       "- Shows the HyStar software and the current status of the LC-MS system\n",
       "- Shows the UltraSource of the timsTOF system\n",
       "- Removes the UltraSource Door using two screws\n",
       "- Shows the UltraSource Door and positions it on the bench\n",
       "- Shows the location where the UltraSource Door was mounted\n",
       "- Attaches the UltraSource Door to the timsTOF system using two screws\n",
       "- Shows the location of the isopropanol on the bench for cleaning the UltraSource Door\n",
       "- Shows the location of the isopropanol in the fume hood\n",
       "- Puts on a pair of laboratory gloves\n",
       "- Shows the location where the UltraSource Door was mounted on the timsTOF system\n",
       "- Connects the sample line of the LC system to the timsTOF system\n",
       "- Cleans the O-ring and the seal of the UltraSource Door using a piece of paper soaked in isopropanol\n",
       "- Shows the cleaned O-ring and the seal of the UltraSource Door\n",
       "- Mounts the UltraSource Door to the timsTOF system \n",
       "- Shows the HyStar software and the current status of the LC-MS system\n",
       "\n",
       "Compare the video content with the content and order of steps in each of the protocols. \n",
       "List your answer as follows:\n",
       "- Protocol 1: Overlap in content 20%, but different order of steps\n",
       "- Protocol 2: Overlap in content 10%, but different order of steps\n",
       "- Protocol 3: Overlap in content 10%, but different order of steps\n",
       "- Protocol 4: No content overlap\n",
       "- Protocol 5: No content overlap\n",
       "- Protocol 6: Overlap in content 10%, but different order of steps\n",
       "- Protocol 7: Overlap in content 40%, but different order of steps\n",
       "- Protocol 8: No content overlap\n",
       "- Protocol 9: Overlap in content 40%, but different order of steps\n",
       "- Protocol 10: No content overlap\n",
       "\n",
       "Protocol number: None \n"
      ],
      "text/plain": [
       "<IPython.core.display.Markdown object>"
      ]
     },
     "metadata": {},
     "output_type": "display_data"
    },
    {
     "name": "stdout",
     "output_type": "stream",
     "text": [
      "{'matches': False, 'video': 'UltraSourceToESIsource_docuCorrect.MP4', 'expected_protocol': '7', 'found_protocol': None, 'message': 'No protocol number found in observation'}\n",
      "Processing video: DisconnectingColumn_docuWithoutStandby_1.MP4\n",
      "/Users/patriciaskowronek/Documents/documentation_agent_few_shot_examples/benchmark_dataset/documentation/DisconnectingColumn_docuWithoutStandby_1.MP4\n"
     ]
    },
    {
     "data": {
      "text/markdown": [
       "- IonOpticks Column\n",
       "- timsTOF scp Mass Spectrometer\n",
       "    - Equipped with UltraSource ion source\n",
       "- Evosep One LC System\n",
       "    - with sample line\n",
       "- NanoViper Adapter (black)\n",
       "- Pliers\n",
       "\n",
       "- Opens the lid of a column oven.\n",
       "- Loosened the securing screw at the sample line - column connection. Lifts it up and moved the metal grounding screw away from the column-sample line connection.\n",
       "- Attaches the NanoViper adapter to the sample line for easier handling.\n",
       "- Holds the column fitting with pliers for easier handling.\n",
       "- Unscrews the NanoViper connector to detach the sample line from the IonOpticks column by turning it counter clock-wise.\n",
       "- Places the sample line ensuring it formed a gentle curve by putting it on the transparent bumper of the Evosep One.\n",
       "\n",
       "- Protocol 1: 20% & different order of steps\n",
       "- Protocol 2: 20% & different order of steps\n",
       "- Protocol 3: 100% & correct order of steps\n",
       "- Protocol 4: 0% \n",
       "- Protocol 5: 0% \n",
       "- Protocol 6: 20% & different order of steps\n",
       "- Protocol 7: 0% \n",
       "- Protocol 8: 0% \n",
       "- Protocol 9: 20% & different order of steps\n",
       "- Protocol 10: 0% \n",
       "\n",
       "Protocol number: 3 \n"
      ],
      "text/plain": [
       "<IPython.core.display.Markdown object>"
      ]
     },
     "metadata": {},
     "output_type": "display_data"
    },
    {
     "name": "stdout",
     "output_type": "stream",
     "text": [
      "{'matches': True, 'video': 'DisconnectingColumn_docuWithoutStandby_1.MP4', 'expected_protocol': '3', 'found_protocol': '3'}\n",
      "Processing video: QueueSamples_docuDiffSampleNameAndEvotipNotAtPosition.mov\n",
      "/Users/patriciaskowronek/Documents/documentation_agent_few_shot_examples/benchmark_dataset/documentation/QueueSamples_docuDiffSampleNameAndEvotipNotAtPosition.mov\n"
     ]
    },
    {
     "data": {
      "text/markdown": [
       "- HyStar Software\n",
       "  - Version 6.0\n",
       "\n",
       "- Evosep One LC System\n",
       "- Evotips\n",
       "- Evotip Boxes\n",
       "\n",
       "- timsTOF Ultra Mass Spectrometer\n",
       "\n",
       "\n",
       "## Actions of the researcher in the video:\n",
       "- Places Evotip boxes with samples at S1 and S3 on the Evosep One rack.\n",
       "- Navigates to the 'Acquisition' tab in Hystar and chooses an existing sample table.\n",
       "- Copies existing sample table entries.\n",
       "- Adjusts the sample ID.\n",
       "- Queues a sequence for measurement, starting with a blank followed by a series of samples.\n",
       "- Specifies the vial position on the 96 well Evotip boxes.\n",
       "- Checks the storage path for raw data.\n",
       "- Chooses an existing separation method.\n",
       "- Sets the injection method to 'standard'.\n",
       "- Loads MS methods.\n",
       "- Stops the idle flow on the Evosep system.\n",
       "- Saves the updated sample table.\n",
       "- Checks if all LC and MS methods can be loaded correctly.\n",
       "- Starts the sequence.\n",
       "\n",
       "\n",
       "## Compare the video content with the content and order of steps in each of the protocols:\n",
       "- Protocol 1: Overlap in content 100% & correct order of steps\n",
       "- Protocol 2: Overlap in content 10%, but different order of steps. \n",
       "- Protocol 3: No content overlap. \n",
       "- Protocol 4: No content overlap. \n",
       "- Protocol 5: No content overlap.  \n",
       "- Protocol 6: No content overlap. \n",
       "- Protocol 7: No content overlap. \n",
       "- Protocol 8: No content overlap. \n",
       "- Protocol 9: No content overlap. \n",
       "- Protocol 10: No content overlap. \n",
       "\n",
       "## Protocol number: 1\n"
      ],
      "text/plain": [
       "<IPython.core.display.Markdown object>"
      ]
     },
     "metadata": {},
     "output_type": "display_data"
    },
    {
     "name": "stdout",
     "output_type": "stream",
     "text": [
      "{'matches': True, 'video': 'QueueSamples_docuDiffSampleNameAndEvotipNotAtPosition.mov', 'expected_protocol': '1', 'found_protocol': '1'}\n",
      "Processing video: Pipette_ducoBufferBInsteadBufferA.MP4\n",
      "/Users/patriciaskowronek/Documents/documentation_agent_few_shot_examples/benchmark_dataset/documentation/Pipette_ducoBufferBInsteadBufferA.MP4\n"
     ]
    },
    {
     "data": {
      "text/markdown": [
       "- Eppendorf 20-200 μL pipette\n",
       "- Eppendorf tubes\n",
       "- Eppendorf tip box\n",
       "- 96-well plate\n",
       "\n",
       "- Adjusts pipette to 20 μL.\n",
       "- Opens a reagent bottle labeled \"Buffer A\".\n",
       "- Aspirates liquid from the bottle.\n",
       "- Dispenses 20 μL into wells A1-A12 of the 96-well plate.\n",
       "- Closes the bottle.\n",
       "\n",
       "- Protocol 1: 5% & correct order of steps\n",
       "- Protocol 2: 100% & correct order of steps\n",
       "- Protocol 3: 5% & correct order of steps\n",
       "- Protocol 4: 10% & correct order of steps\n",
       "- Protocol 5: 5% & correct order of steps\n",
       "- Protocol 6: 5% & correct order of steps\n",
       "- Protocol 7: 5% & correct order of steps\n",
       "- Protocol 8: 100% & correct order of steps\n",
       "- Protocol 9: 5% & correct order of steps\n",
       "- Protocol 10: 5% & correct order of steps \n",
       "\n",
       "Protocol number: 2\n"
      ],
      "text/plain": [
       "<IPython.core.display.Markdown object>"
      ]
     },
     "metadata": {},
     "output_type": "display_data"
    },
    {
     "name": "stdout",
     "output_type": "stream",
     "text": [
      "{'matches': False, 'video': 'Pipette_ducoBufferBInsteadBufferA.MP4', 'expected_protocol': '8', 'found_protocol': '2'}\n",
      "Processing video: ESIsourceToUltraSource_docuFogotOvenPowerSupply.MP4\n",
      "/Users/patriciaskowronek/Documents/documentation_agent_few_shot_examples/benchmark_dataset/documentation/ESIsourceToUltraSource_docuFogotOvenPowerSupply.MP4\n"
     ]
    },
    {
     "data": {
      "text/markdown": [
       "- timsTOF Mass Spectrometer\n",
       "    - Equipped with UltraSource ion source\n",
       "- Evosep One LC System\n",
       "    - with sample line\n",
       "- IonOpticks column\n",
       "- Stainless Steel Column Mounting Ring\n",
       "- NanoViper Adapter (black)\n",
       "- Pliers\n",
       "- Wash bottle\n",
       "    \n",
       "Actions of the researcher in the video:\n",
       "- Opens the source door of the mass spectrometer.\n",
       "- Removes the UltraSource ion source housing, leaving the source door open.\n",
       "- Removes the column mounting ring.\n",
       "- Mounts the UltraSource ion source housing.\n",
       "- Connects the IonOpticks column to the sample line by hand-tightening the nanoViper connector.\n",
       "- Adjusts the position of the column and emitter using the adjusting screws of the mounting stage.\n",
       "- Connects the sample line to the emitter on the UltraSource ion source.\n",
       "- Adjusts the position of the sample line to ensure a gentle curve.\n",
       "- Closes the source door of the mass spectrometer.\n",
       "- Checks the pressure values in timsControl, making adjustments as necessary.\n",
       "\n",
       "Compare the video content with the content and order of steps in each of the protocols. \n",
       "- Protocol 1: No content overlap. \n",
       "- Protocol 2: Overlap in content 5%, but different order of steps.\n",
       "- Protocol 3: No content overlap. \n",
       "- Protocol 4: No content overlap. \n",
       "- Protocol 5: No content overlap. \n",
       "- Protocol 6: Overlap in content 70% & correct order of steps.\n",
       "- Protocol 7: No content overlap. \n",
       "- Protocol 8: No content overlap. \n",
       "- Protocol 9: No content overlap. \n",
       "- Protocol 10: No content overlap. \n",
       "\n",
       "Protocol number: 6 \n"
      ],
      "text/plain": [
       "<IPython.core.display.Markdown object>"
      ]
     },
     "metadata": {},
     "output_type": "display_data"
    },
    {
     "name": "stdout",
     "output_type": "stream",
     "text": [
      "{'matches': False, 'video': 'ESIsourceToUltraSource_docuFogotOvenPowerSupply.MP4', 'expected_protocol': '9', 'found_protocol': '6'}\n",
      "Processing video: Pipette_docu_WrongRowB_B10Twice_B11LeftOut.MP4\n",
      "/Users/patriciaskowronek/Documents/documentation_agent_few_shot_examples/benchmark_dataset/documentation/Pipette_docu_WrongRowB_B10Twice_B11LeftOut.MP4\n"
     ]
    },
    {
     "data": {
      "text/markdown": [
       "- Eppendorf Pipette\n",
       "- Pipette tips (200 uL)\n",
       "- Eppendorf Tube\n",
       "- PCR Plate (96 well)\n",
       "- Buffer bottle with label \"Buffer A\"\n",
       "\n",
       "Actions of the researcher in the video:\n",
       "- Sets the pipette volume to 20uL.\n",
       "- Opens a Buffer A bottle.\n",
       "- Dispenses 20uL of buffer A into wells A1 to A12.\n",
       "- Closes the Buffer A bottle.\n",
       "\n",
       "Compare the video content with the content and order of steps in each of the protocols. \n",
       "- Protocol 1: Overlap in content 10%, but different order of steps.\n",
       "- Protocol 2: No content overlap. \n",
       "- Protocol 3: No content overlap.\n",
       "- Protocol 4: No content overlap.\n",
       "- Protocol 5: No content overlap.\n",
       "- Protocol 6: No content overlap.\n",
       "- Protocol 7: No content overlap.\n",
       "- Protocol 8: Overlap in content 100% & correct order of steps.\n",
       "- Protocol 9: No content overlap.\n",
       "- Protocol 10: No content overlap.\n",
       "\n",
       "Protocol number: 8\n"
      ],
      "text/plain": [
       "<IPython.core.display.Markdown object>"
      ]
     },
     "metadata": {},
     "output_type": "display_data"
    },
    {
     "name": "stdout",
     "output_type": "stream",
     "text": [
      "{'matches': True, 'video': 'Pipette_docu_WrongRowB_B10Twice_B11LeftOut.MP4', 'expected_protocol': '8', 'found_protocol': '8'}\n",
      "Processing video: ConnectingColumnSampleLine_docuWithoutStandbyANDtimsControl.mp4\n",
      "/Users/patriciaskowronek/Documents/documentation_agent_few_shot_examples/benchmark_dataset/documentation/ConnectingColumnSampleLine_docuWithoutStandbyANDtimsControl.mp4\n"
     ]
    },
    {
     "data": {
      "text/markdown": [
       "- IonOpticks Column\n",
       "- timsTOF Ultra Mass Spectrometer\n",
       "        - Equipped with UltraSource ion source\n",
       "- Evosep One LC System\n",
       "        - with sample line\n",
       "- NanoViper Adapter (black)\n",
       "- Pliers\n",
       "\n",
       "- Researcher is wearing nitrile gloves.\n",
       "- Researcher removes the NanoViper connector from the sample line, detaching the IonOpticks column, by turning it counter clock-wise.\n",
       "- Holds the column fitting with pliers for easier handling.\n",
       "- Positions the sample line ensuring it forms a gentle curve. \n",
       "- Pushes back the sample line so that it rests against the stop.\n",
       "\n",
       "- Protocol 1: Overlap in content 80% & correct order of steps\n",
       "- Protocol 2: No content overlap\n",
       "- Protocol 3: Overlap in content 80% but different order of steps \n",
       "- Protocol 4: No content overlap \n",
       "- Protocol 5: No content overlap\n",
       "- Protocol 6: Overlap in content 50% but different order of steps\n",
       "- Protocol 7: No content overlap\n",
       "- Protocol 8: No content overlap\n",
       "- Protocol 9: No content overlap \n",
       "- Protocol 10: No content overlap \n",
       "\n",
       "Protocol number: 1 \n"
      ],
      "text/plain": [
       "<IPython.core.display.Markdown object>"
      ]
     },
     "metadata": {},
     "output_type": "display_data"
    },
    {
     "name": "stdout",
     "output_type": "stream",
     "text": [
      "{'matches': False, 'video': 'ConnectingColumnSampleLine_docuWithoutStandbyANDtimsControl.mp4', 'expected_protocol': '6', 'found_protocol': '1'}\n",
      "Processing video: TimsCalibration_docuSavedMethod.mov\n",
      "/Users/patriciaskowronek/Documents/documentation_agent_few_shot_examples/benchmark_dataset/documentation/TimsCalibration_docuSavedMethod.mov\n"
     ]
    },
    {
     "data": {
      "text/markdown": [
       "- Bruker timsTOF Pro 2 Mass Spectrometer\n",
       "- HyStar software version 6.0\n",
       "\n",
       "- Adjusts the TIMS End value from 1.3 to 1.45\n",
       "- Sets MS Averaging to 30 \n",
       "- Deactivates polygon heat map\n",
       "- Navigates to the Calibration tab, selecting Mobility\n",
       "- Uses the default tuning mix reference list \"[ESI] Tuning Mix ES-TOF (ESI)\"\n",
       "- Configures the calibration mode to \"Linear\", sets the detection range to 5%, and the width to 0.1 Da\n",
       "- Starts the calibration by clicking \"Calibrate\"\n",
       "- Accepts the calibration results \n",
       "- Saves the calibrated method\n",
       "- Resets MS Averaging to 1 \n",
       "\n",
       "- Protocol 1: No content overlap. \n",
       "- Protocol 2: No content overlap. \n",
       "- Protocol 3: No content overlap. \n",
       "- Protocol 4: No content overlap. \n",
       "- Protocol 5: Overlap in content 90% & correct order of steps\n",
       "- Protocol 6: No content overlap. \n",
       "- Protocol 7: No content overlap. \n",
       "- Protocol 8: No content overlap. \n",
       "- Protocol 9: No content overlap. \n",
       "- Protocol 10: No content overlap. \n",
       "\n",
       "Protocol number: 5 \n"
      ],
      "text/plain": [
       "<IPython.core.display.Markdown object>"
      ]
     },
     "metadata": {},
     "output_type": "display_data"
    },
    {
     "name": "stdout",
     "output_type": "stream",
     "text": [
      "{'matches': True, 'video': 'TimsCalibration_docuSavedMethod.mov', 'expected_protocol': '5', 'found_protocol': '5'}\n",
      "Processing video: Dilute_docuWrongSolvent.MP4\n",
      "/Users/patriciaskowronek/Documents/documentation_agent_few_shot_examples/benchmark_dataset/documentation/Dilute_docuWrongSolvent.MP4\n"
     ]
    },
    {
     "data": {
      "text/markdown": [
       "- Eppendorf Research plus Pipette (20-200 µl)\n",
       "- Eppendorf Safe-Lock Tubes (1.5 ml)\n",
       "- Eppendorf tube rack\n",
       "- Eppendorf tip box\n",
       "\n",
       "Actions of the researcher in the video:\n",
       "- Opens two 1.5 ml Eppendorf Safe-Lock Tubes labeled \"Buffer A\" and \"Buffer B\".\n",
       "- Attaches a tip to the pipette.\n",
       "- Sets the pipette to 100 µl.\n",
       "- Dispenses 100 µl of buffer A into the tube rack.\n",
       "- Discards the pipette tip.\n",
       "- Attaches a new tip to the pipette.\n",
       "- Sets the pipette to 100 µl.\n",
       "- Dispenses 100 µl of buffer B into the tube rack, next to the buffer A droplet.\n",
       "\n",
       "- Protocol 1: Overlap in content 0%\n",
       "- Protocol 2: No content overlap.\n",
       "- Protocol 3: No content overlap.\n",
       "- Protocol 4: Overlap in content 100% & correct order of steps\n",
       "- Protocol 5: No content overlap.\n",
       "- Protocol 6: No content overlap.\n",
       "- Protocol 7: No content overlap.\n",
       "- Protocol 8: Overlap in content 20%, but different order of steps.\n",
       "- Protocol 9: No content overlap.\n",
       "- Protocol 10: Overlap in content 20%, but different order of steps.\n",
       "\n",
       "Protocol number: 4 \n"
      ],
      "text/plain": [
       "<IPython.core.display.Markdown object>"
      ]
     },
     "metadata": {},
     "output_type": "display_data"
    },
    {
     "name": "stdout",
     "output_type": "stream",
     "text": [
      "{'matches': True, 'video': 'Dilute_docuWrongSolvent.MP4', 'expected_protocol': '4', 'found_protocol': '4'}\n",
      "Processing video: TimsCalibration_docuWrongOrderSteps.mov\n",
      "/Users/patriciaskowronek/Documents/documentation_agent_few_shot_examples/benchmark_dataset/documentation/TimsCalibration_docuWrongOrderSteps.mov\n"
     ]
    },
    {
     "data": {
      "text/markdown": [
       "- timsTOF Ultra Mass Spectrometer\n",
       "   - Hystar 6.0 software\n",
       "   - Tuning Mix ES-TOF (ESI) calibrant\n",
       "\n",
       "- Navigates to the 'Calibration' tab in Hystar software.\n",
       "- Switches the scan mode to 'MS'.\n",
       "- Sets MS averaging to 30.\n",
       "- Deactivates the polygon heatmap.\n",
       "- Adjusts the ion mobility range to 0.85-1.45 1/K₀.\n",
       "- Selects '[ESI] Tuning Mix ES-TOF (ESI)' calibrant list.\n",
       "- Chooses linear mode, 5% detection range and ±0.1 Da width.\n",
       "- Starts calibration.\n",
       "- Deselects all calibrants except 622, 922, and 1222.\n",
       "- Verifies and adjusts calibrant peak picking in the TIMS view window.\n",
       "- Accepts calibration with 100% score.\n",
       "- Discards changes when attempting to save the method.\n",
       "- Sets MS averaging back to 1.\n",
       "- Loads a method with an ion mobility range of 0.7 to 1.3 1/K₀.\n",
       "\n",
       "- Protocol 1: 10% & different order of steps\n",
       "- Protocol 2: 20% & different order of steps\n",
       "- Protocol 3: 0%\n",
       "- Protocol 4: 0%\n",
       "- Protocol 5: 90% & correct order of steps\n",
       "- Protocol 6: 0%\n",
       "- Protocol 7: 0%\n",
       "- Protocol 8: 0%\n",
       "- Protocol 9: 0%\n",
       "- Protocol 10: 0% \n",
       "\n",
       "Protocol number: 5\n"
      ],
      "text/plain": [
       "<IPython.core.display.Markdown object>"
      ]
     },
     "metadata": {},
     "output_type": "display_data"
    },
    {
     "name": "stdout",
     "output_type": "stream",
     "text": [
      "{'matches': True, 'video': 'TimsCalibration_docuWrongOrderSteps.mov', 'expected_protocol': '5', 'found_protocol': '5'}\n",
      "Processing video: Dilute_docuWrongVolume_PipettTipNotChanged.MP4\n",
      "/Users/patriciaskowronek/Documents/documentation_agent_few_shot_examples/benchmark_dataset/documentation/Dilute_docuWrongVolume_PipettTipNotChanged.MP4\n"
     ]
    },
    {
     "data": {
      "text/markdown": [
       "- Eppendorf tubes\n",
       "- Pipette\n",
       "- Pipette tip box\n",
       "- Vortexer\n",
       "- Marker\n",
       "- Evotip box\n",
       "- Safe-Lock Tubes 1.5 mL\n",
       "\n",
       "Actions of the researcher in the video:\n",
       "- Opens the bottles of Buffer A and Buffer B.\n",
       "- Adjusts the pipette to 400 μL setting.\n",
       "- Attaches a pipette tip to the pipette.\n",
       "- Pipettes 400 μL of Buffer A from the bottle into the Eppendorf tube.\n",
       "- Adjusts the pipette to 100 μL setting.\n",
       "- Discards the used pipette tip in the appropriate waste container.\n",
       "- Attaches a new pipette tip to the pipette.\n",
       "- Pipettes 100 μL of Buffer B from the bottle into the Eppendorf tube.\n",
       "- Discards the used pipette tip.\n",
       "- Mixes the solution by vortexing.\n",
       "- Labels the Eppendorf tube.\n",
       "- Places the labeled Eppendorf tube in an Evotip box.\n",
       "\n",
       "Compare the video content with the content and order of steps in each of the protocols.\n",
       "- Protocol 1: Overlap in content 10%, but different order of steps\n",
       "- Protocol 2: Overlap in content 5%, but different order of steps\n",
       "- Protocol 3: No content overlap\n",
       "- Protocol 4: Overlap in content 100% & correct order of steps\n",
       "- Protocol 5: No content overlap\n",
       "- Protocol 6: No content overlap\n",
       "- Protocol 7: No content overlap\n",
       "- Protocol 8: No content overlap\n",
       "- Protocol 9: No content overlap\n",
       "- Protocol 10: No content overlap\n",
       "\n",
       "Protocol number: 4\n"
      ],
      "text/plain": [
       "<IPython.core.display.Markdown object>"
      ]
     },
     "metadata": {},
     "output_type": "display_data"
    },
    {
     "name": "stdout",
     "output_type": "stream",
     "text": [
      "{'matches': True, 'video': 'Dilute_docuWrongVolume_PipettTipNotChanged.MP4', 'expected_protocol': '4', 'found_protocol': '4'}\n",
      "Processing video: DisconnectingColumn_docuCorrect.MP4\n",
      "/Users/patriciaskowronek/Documents/documentation_agent_few_shot_examples/benchmark_dataset/documentation/DisconnectingColumn_docuCorrect.MP4\n"
     ]
    },
    {
     "data": {
      "text/markdown": [
       "- IonOpticks Column\n",
       "- timsTOF Mass Spectrometer\n",
       "        - Equipped with UltraSource ion source\n",
       "- Evosep One LC System\n",
       "        - with sample line\n",
       "- NanoViper Adapter (black)\n",
       "        - Pliers\n",
       "\n",
       "- Loosened the securing screw at the sample line - column connection. Lifts it up and moved the metal grounding screw away from the column-sample line connection.\n",
       "- Attached the NanoViper adapter to the sample line for easier handling.\n",
       "- Held the column fitting with pliers for easier handling.\n",
       "- Unscrewed the NanoViper connector to detach the sample line from the IonOpticks column by turning it counter clock-wise.\n",
       "- Positioned the sample line ensuring it formed a gentle curve. \n",
       "\n",
       "- Protocol 1: Overlap in content 95% & correct order of steps \n",
       "- Protocol 2: No content overlap. \n",
       "- Protocol 3: Overlap in content 95% & correct order of steps \n",
       "- Protocol 4: No content overlap. \n",
       "- Protocol 5: No content overlap.  \n",
       "- Protocol 6: Overlap in content 70%, but different order of steps \n",
       "- Protocol 7: No content overlap. \n",
       "- Protocol 8: No content overlap. \n",
       "- Protocol 9: Overlap in content 60%, but different order of steps \n",
       "- Protocol 10: No content overlap. \n",
       "\n",
       "Protocol number: 3 \n"
      ],
      "text/plain": [
       "<IPython.core.display.Markdown object>"
      ]
     },
     "metadata": {},
     "output_type": "display_data"
    },
    {
     "name": "stdout",
     "output_type": "stream",
     "text": [
      "{'matches': True, 'video': 'DisconnectingColumn_docuCorrect.MP4', 'expected_protocol': '3', 'found_protocol': '3'}\n",
      "Processing video: Pipette_docuFirstTwoWrongVolumneANDA2Twice.MP4\n",
      "/Users/patriciaskowronek/Documents/documentation_agent_few_shot_examples/benchmark_dataset/documentation/Pipette_docuFirstTwoWrongVolumneANDA2Twice.MP4\n"
     ]
    },
    {
     "data": {
      "text/markdown": [
       "- Eppendorf 20µL Pipette\n",
       "- Eppendorf tube\n",
       "- 96-well plate\n",
       "\n",
       "Actions of the researcher in the video:\n",
       "- Pipettes 20µL of Evo AA into wells A1 to A12 of a 96-well plate.\n",
       "\n",
       "Compare the video content with the content and order of steps in each of the protocols. \n",
       "List your answer as follows:\n",
       "- Protocol 1: 20% & but different order of steps\n",
       "- Protocol 2: 5% & but different order of steps\n",
       "- Protocol 3: No content overlap. \n",
       "- Protocol 4: No content overlap.\n",
       "- Protocol 5: No content overlap. \n",
       "- Protocol 6: No content overlap.\n",
       "- Protocol 7: No content overlap. \n",
       "- Protocol 8: 95% & correct order of steps\n",
       "- Protocol 9: No content overlap. \n",
       "- Protocol 10: No content overlap.\n",
       "\n",
       "Protocol number: 8\n"
      ],
      "text/plain": [
       "<IPython.core.display.Markdown object>"
      ]
     },
     "metadata": {},
     "output_type": "display_data"
    },
    {
     "name": "stdout",
     "output_type": "stream",
     "text": [
      "{'matches': True, 'video': 'Pipette_docuFirstTwoWrongVolumneANDA2Twice.MP4', 'expected_protocol': '8', 'found_protocol': '8'}\n",
      "Processing video: PlaceEvotips_docuWrongPosition.MP4\n",
      "/Users/patriciaskowronek/Documents/documentation_agent_few_shot_examples/benchmark_dataset/documentation/PlaceEvotips_docuWrongPosition.MP4\n"
     ]
    },
    {
     "data": {
      "text/markdown": [
       "- Evosep One LC System\n",
       "  - Evotip boxes\n",
       "  - Evotips\n",
       "    - Yellow & Clear Evotips\n",
       "- Tweezers\n",
       "\n",
       "\n",
       "## Actions of the researcher in the video:\n",
       "- Places two Evotip boxes on the Evosep One LC System.\n",
       "- Places a box of Evotips next to the instrument.\n",
       "- Places six Evotips in an Evotip box at position S1 from A1 to A6.\n",
       "- Places six Evotips in an Evotip box at position S3 from A1 to A6.\n",
       "\n",
       "\n",
       "- Protocol 1: Overlap in content 100% & correct order of steps\n",
       "- Protocol 2: No content overlap. \n",
       "- Protocol 3: No content overlap. \n",
       "- Protocol 4: No content overlap. \n",
       "- Protocol 5: No content overlap.  \n",
       "- Protocol 6: No content overlap. \n",
       "- Protocol 7: No content overlap. \n",
       "- Protocol 8: No content overlap. \n",
       "- Protocol 9: No content overlap. \n",
       "- Protocol 10: No content overlap. \n",
       "\n",
       "Protocol number: 1 \n"
      ],
      "text/plain": [
       "<IPython.core.display.Markdown object>"
      ]
     },
     "metadata": {},
     "output_type": "display_data"
    },
    {
     "name": "stdout",
     "output_type": "stream",
     "text": [
      "{'matches': False, 'video': 'PlaceEvotips_docuWrongPosition.MP4', 'expected_protocol': '2', 'found_protocol': '1'}\n",
      "Processing video: TimsCalibration_docuCorrect.mov\n",
      "/Users/patriciaskowronek/Documents/documentation_agent_few_shot_examples/benchmark_dataset/documentation/TimsCalibration_docuCorrect.mov\n"
     ]
    },
    {
     "data": {
      "text/markdown": [
       "- Bruker timsTOF Mass Spectrometer\n",
       "    - Equipped with UltraSource ion source\n",
       "- Software: Hystar 6.0\n",
       "\n",
       "Actions of the researcher in the video:\n",
       "- Loads a dia-PASEF method in timsControl with a 1/K0 range of 0.6 to 1.45.\n",
       "- Activates the 'MS' mode and sets the averaging to 30 in timsControl.\n",
       "- Switches to the 'Calibration' tab and selects 'Mobility'.\n",
       "- Chooses the '[ESI] Tuning Mix ES-TOF (ESI)' calibrant list.\n",
       "- Sets the calibration mode to 'Linear' with a detection range of 5% and a width of ±0.1 Da.\n",
       "- Initiates the calibration by clicking 'Calibrate'.\n",
       "- Selects the calibrants at m/z 622, 922, and 1222.\n",
       "- Adjusts the calibrant positions in the 'TIMS View' window for accurate picking.\n",
       "- Accepts the calibration when a score of 100% is achieved.\n",
       "- Discards changes to the method and sets the averaging back to 1.\n",
       "- Loads a dia-PASEF method.\n",
       "\n",
       "- Protocol 1: Overlap in content 95% & correct order of steps \n",
       "- Protocol 2: No content overlap. \n",
       "- Protocol 3: No content overlap. \n",
       "- Protocol 4: No content overlap. \n",
       "- Protocol 5: Overlap in content 95% & correct order of steps \n",
       "- Protocol 6: No content overlap. \n",
       "- Protocol 7: No content overlap. \n",
       "- Protocol 8: No content overlap. \n",
       "- Protocol 9: No content overlap. \n",
       "- Protocol 10: No content overlap. \n",
       "\n",
       "Protocol number: 5 \n"
      ],
      "text/plain": [
       "<IPython.core.display.Markdown object>"
      ]
     },
     "metadata": {},
     "output_type": "display_data"
    },
    {
     "name": "stdout",
     "output_type": "stream",
     "text": [
      "{'matches': True, 'video': 'TimsCalibration_docuCorrect.mov', 'expected_protocol': '5', 'found_protocol': '5'}\n",
      "Processing video: QueueSamples_docuWrongRow_S3A1Twice.mov\n",
      "/Users/patriciaskowronek/Documents/documentation_agent_few_shot_examples/benchmark_dataset/documentation/QueueSamples_docuWrongRow_S3A1Twice.mov\n"
     ]
    },
    {
     "data": {
      "text/markdown": [
       "- Software: Hystar 6.0\n",
       "\n",
       "- Actions of the researcher in the video:\n",
       "    - Navigates to the 'Acquisition' tab in Hystar software.\n",
       "    - Creates a new sample table.\n",
       "    - Copies existing sample table entries for modification.\n",
       "    - Adjusts the sample ID following a specific naming pattern.\n",
       "    - Queues analysis runs in sequence: one blank, six dda-PASEF runs, and one final blank.\n",
       "    - Verifies column autocompletion settings through right-click menu, ensuring proper tray configuration.\n",
       "    - Specifies Evotip positions by selecting the first position and using drag-to-fill functionality for remaining samples.\n",
       "    - Checks the storage path folder for raw files.\n",
       "    - Confirms the separation method settings.\n",
       "    - Confirms the injection method is set to 'standard'.\n",
       "    - Adjusts the dda-PASEF maintenance method to match sample IDs.\n",
       "    - Uploads sample conditions by right-clicking the top row to verify proper loading of LC and MS methods.\n",
       "    - Initiates the sequence by pressing the 'start' and 'start sequence' buttons.\n",
       "\n",
       "- Protocol 1: Overlap in content 95% & correct order of steps.\n",
       "- Protocol 2: No content overlap.\n",
       "- Protocol 3: No content overlap.\n",
       "- Protocol 4: No content overlap.\n",
       "- Protocol 5: No content overlap.\n",
       "- Protocol 6: No content overlap.\n",
       "- Protocol 7: No content overlap.\n",
       "- Protocol 8: No content overlap.\n",
       "- Protocol 9: No content overlap.\n",
       "- Protocol 10: No content overlap.\n",
       "\n",
       "Protocol number: 1"
      ],
      "text/plain": [
       "<IPython.core.display.Markdown object>"
      ]
     },
     "metadata": {},
     "output_type": "display_data"
    },
    {
     "name": "stdout",
     "output_type": "stream",
     "text": [
      "{'matches': True, 'video': 'QueueSamples_docuWrongRow_S3A1Twice.mov', 'expected_protocol': '1', 'found_protocol': '1'}\n",
      "Processing video: PlaceEvotips_docuCorrect.MP4\n",
      "/Users/patriciaskowronek/Documents/documentation_agent_few_shot_examples/benchmark_dataset/documentation/PlaceEvotips_docuCorrect.MP4\n"
     ]
    },
    {
     "data": {
      "text/markdown": [
       "- Evosep One LC system \n",
       "- Evotip boxes \n",
       "- Evotips \n",
       "- timsTOF SCP mass spectrometer\n",
       "\n",
       "Actions of the researcher in the video:\n",
       "- Picks up two Evotip boxes and places them at specific positions on the Evosep One LC system. \n",
       "- Places Evotips in the Evotip boxes using tweezers.\n",
       "\n",
       "Compare the video content with the content and order of steps in each of the protocols. \n",
       "- Protocol 1: Overlap in content 10%, but different order of steps.\n",
       "- Protocol 2: Overlap in content 100% & correct order of steps.\n",
       "- Protocol 3: No content overlap.\n",
       "- Protocol 4: No content overlap.\n",
       "- Protocol 5: No content overlap.\n",
       "- Protocol 6: No content overlap.\n",
       "- Protocol 7: No content overlap.\n",
       "- Protocol 8: No content overlap.\n",
       "- Protocol 9: No content overlap.\n",
       "- Protocol 10: No content overlap.\n",
       "\n",
       "Protocol number: 2 \n"
      ],
      "text/plain": [
       "<IPython.core.display.Markdown object>"
      ]
     },
     "metadata": {},
     "output_type": "display_data"
    },
    {
     "name": "stdout",
     "output_type": "stream",
     "text": [
      "{'matches': True, 'video': 'PlaceEvotips_docuCorrect.MP4', 'expected_protocol': '2', 'found_protocol': '2'}\n",
      "Processing video: ESIsourceToUltraSource_docuCorrect.MP4\n",
      "/Users/patriciaskowronek/Documents/documentation_agent_few_shot_examples/benchmark_dataset/documentation/ESIsourceToUltraSource_docuCorrect.MP4\n"
     ]
    },
    {
     "data": {
      "text/markdown": [
       "- timsTOF Mass Spectrometer\n",
       "        - Equipped with UltraSource ion source\n",
       "- Evosep One LC System\n",
       "        - with sample line\n",
       "- Metal grounding screw\n",
       "- Metal bracket\n",
       "- Pliers\n",
       "\n",
       "- Opens the lid of a column oven\n",
       "- Opens the source door of the mass spectrometer\n",
       "- Removes the source shield of the UltraSource\n",
       "- Places the source shield in a tray\n",
       "- Removes the metal grounding screw at the sample line - column connection\n",
       "- Loosens the securing screw of the metal bracket at the base of the UltraSource\n",
       "- Removes the UltraSource by opening the two handles by 180 degrees and sliding the UltraSource out\n",
       "- Places the UltraSource on the lab bench \n",
       "- Attaches the metal bracket to the side of the source door\n",
       "- Positions the metal bracket ensuring it lines up with the mounting plate of the source door\n",
       "- Secures the metal bracket on the source door using the securing screw\n",
       "- Closes the source door\n",
       "\n",
       "- Protocol 1: Overlap in content 0% \n",
       "- Protocol 2: Overlap in content 0% \n",
       "- Protocol 3: Overlap in content 30%, but different order of steps\n",
       "- Protocol 4: Overlap in content 0% \n",
       "- Protocol 5: Overlap in content 0%  \n",
       "- Protocol 6: Overlap in content 0% \n",
       "- Protocol 7: Overlap in content 90% & correct order of steps \n",
       "- Protocol 8: Overlap in content 0% \n",
       "- Protocol 9: Overlap in content 20%, but different order of steps \n",
       "- Protocol 10: Overlap in content 0% \n",
       "\n",
       "Protocol number: 7 \n"
      ],
      "text/plain": [
       "<IPython.core.display.Markdown object>"
      ]
     },
     "metadata": {},
     "output_type": "display_data"
    },
    {
     "name": "stdout",
     "output_type": "stream",
     "text": [
      "{'matches': False, 'video': 'ESIsourceToUltraSource_docuCorrect.MP4', 'expected_protocol': '9', 'found_protocol': '7'}\n",
      "Processing video: QueueSamples_docuEvotipNotAtPositionNoSampleID.mov\n",
      "/Users/patriciaskowronek/Documents/documentation_agent_few_shot_examples/benchmark_dataset/documentation/QueueSamples_docuEvotipNotAtPositionNoSampleID.mov\n"
     ]
    },
    {
     "data": {
      "text/markdown": [
       "- Hystar 6.0 software\n",
       "\n",
       "- The researcher navigates to the 'Acquisition' tab within the Hystar software.\n",
       "- They select an existing sample table by clicking on the arrow next to the table name.\n",
       "- The researcher copies the existing sample table entries.\n",
       "- They modify the Sample ID to reflect the correct date and experiment details.\n",
       "- They queue two blanks, six dda-PASEF runs, and six dia-PASEF runs.\n",
       "- The researcher verifies the column autocompletion settings.\n",
       "- They specify the Evotip positions for both HeLa samples and blanks.\n",
       "- They upload sample conditions to ensure that the LC and MS methods are properly loaded.\n",
       "- They start the sequence by pressing the 'start' and 'start sequence' buttons.\n",
       "\n",
       "- Protocol 1: 95% & correct order of steps\n",
       "- Protocol 2: 5% & but different order of steps\n",
       "- Protocol 3: No content overlap.\n",
       "- Protocol 4: No content overlap.\n",
       "- Protocol 5: 5% & but different order of steps\n",
       "- Protocol 6: No content overlap.\n",
       "- Protocol 7: No content overlap.\n",
       "- Protocol 8: No content overlap.\n",
       "- Protocol 9: No content overlap.\n",
       "- Protocol 10: No content overlap.\n",
       "\n",
       "Protocol number: 1\n"
      ],
      "text/plain": [
       "<IPython.core.display.Markdown object>"
      ]
     },
     "metadata": {},
     "output_type": "display_data"
    },
    {
     "name": "stdout",
     "output_type": "stream",
     "text": [
      "{'matches': True, 'video': 'QueueSamples_docuEvotipNotAtPositionNoSampleID.mov', 'expected_protocol': '1', 'found_protocol': '1'}\n",
      "Processing video: UltraSourceToESIsource_docuForgotCapillaryCap.MP4\n",
      "/Users/patriciaskowronek/Documents/documentation_agent_few_shot_examples/benchmark_dataset/documentation/UltraSourceToESIsource_docuForgotCapillaryCap.MP4\n"
     ]
    },
    {
     "data": {
      "text/markdown": [
       "- timsTOF Mass Spectrometer\n",
       "        - Equipped with UltraSource ion source\n",
       "        - Source door\n",
       "- Evosep One LC System\n",
       "        - with sample line\n",
       "- Stainless steel mount\n",
       "- Screwdriver\n",
       "- Gloves\n",
       "\n",
       "- Opens the source door of a timsTOF Ultra.\n",
       "- Detaches the stainless steel mount holding the UltraSource by turning the top right and bottom left handles by 180 degrees.\n",
       "- Removes the stainless steel mount from the timsTOF Ultra.\n",
       "- Places the stainless steel mount on the bench.\n",
       "- Puts on gloves.\n",
       "- Closes the source door.\n",
       "\n",
       "- Protocol 1: No content overlap.\n",
       "- Protocol 2: No content overlap.\n",
       "- Protocol 3: No content overlap.\n",
       "- Protocol 4: No content overlap.\n",
       "- Protocol 5: No content overlap.\n",
       "- Protocol 6: No content overlap.\n",
       "- Protocol 7: Overlap in content 80% & correct order of steps\n",
       "- Protocol 8: No content overlap.\n",
       "- Protocol 9: No content overlap.\n",
       "- Protocol 10: No content overlap.\n",
       "\n",
       "Protocol number: 7\n"
      ],
      "text/plain": [
       "<IPython.core.display.Markdown object>"
      ]
     },
     "metadata": {},
     "output_type": "display_data"
    },
    {
     "name": "stdout",
     "output_type": "stream",
     "text": [
      "{'matches': True, 'video': 'UltraSourceToESIsource_docuForgotCapillaryCap.MP4', 'expected_protocol': '7', 'found_protocol': '7'}\n",
      "Processing video: PlaceEvotips_docuLiquidNotChecked.MP4\n",
      "/Users/patriciaskowronek/Documents/documentation_agent_few_shot_examples/benchmark_dataset/documentation/PlaceEvotips_docuLiquidNotChecked.MP4\n"
     ]
    },
    {
     "data": {
      "text/markdown": [
       "- Evosep One LC System\n",
       "  - with two Evotip boxes\n",
       "  - with Evotips\n",
       "- Tweezers\n",
       "- Pipette\n",
       "\n",
       "Actions of the researcher in the video:\n",
       "- Places two Evotip boxes on the Evosep system.\n",
       "- Places Evotips into an Evotip box using tweezers. \n",
       "- Notes the positions of the Evotips.\n",
       "\n",
       "Compare the video content with the content and order of steps in each of the protocols. \n",
       "List your answer as follows:\n",
       "- Protocol 1: Overlap in content 20%, but different order of steps.\n",
       "- Protocol 2: Overlap in content 100% & correct order of steps.\n",
       "- Protocol 3: No content overlap. \n",
       "- Protocol 4: No content overlap.\n",
       "- Protocol 5: No content overlap. \n",
       "- Protocol 6: Overlap in content 20%, but different order of steps.\n",
       "- Protocol 7: No content overlap. \n",
       "- Protocol 8: No content overlap. \n",
       "- Protocol 9: No content overlap. \n",
       "- Protocol 10: No content overlap. \n",
       "\n",
       "Protocol number: 2 \n"
      ],
      "text/plain": [
       "<IPython.core.display.Markdown object>"
      ]
     },
     "metadata": {},
     "output_type": "display_data"
    },
    {
     "name": "stdout",
     "output_type": "stream",
     "text": [
      "{'matches': True, 'video': 'PlaceEvotips_docuLiquidNotChecked.MP4', 'expected_protocol': '2', 'found_protocol': '2'}\n",
      "Processing video: Evotip_docuWrongSpinInEvotipBox_wrongSpeed.MP4\n",
      "/Users/patriciaskowronek/Documents/documentation_agent_few_shot_examples/benchmark_dataset/documentation/Evotip_docuWrongSpinInEvotipBox_wrongSpeed.MP4\n"
     ]
    },
    {
     "data": {
      "text/markdown": [
       "- Evotip boxes\n",
       "- Evotips\n",
       "- Multifuge X Pro Series Centrifuge\n",
       "- Multichannel pipette\n",
       "\n",
       "Actions of the researcher in the video:\n",
       "- Balances Evotip boxes by placing an empty Evotip box on the multichannel pipette.\n",
       "- Places Evotips in a centrifuge.\n",
       "- Sets the speed of the centrifuge to 800g.\n",
       "- Sets the time of the centrifuge to 1 minute.\n",
       "- Starts the centrifuge.\n",
       "\n",
       "Compare the video content with the content and order of steps in each of the protocols. \n",
       "List your answer as follows:\n",
       "- Protocol 1: Overlap in content 10%, but different order of steps.\n",
       "- Protocol 2: Overlap in content 50%, but different order of steps.\n",
       "- Protocol 3: No content overlap. \n",
       "- Protocol 4: No content overlap. \n",
       "- Protocol 5: No content overlap. \n",
       "- Protocol 6: No content overlap. \n",
       "- Protocol 7: No content overlap. \n",
       "- Protocol 8: No content overlap. \n",
       "- Protocol 9: No content overlap. \n",
       "- Protocol 10: Overlap in content 90% & correct order of steps.\n",
       "\n",
       "Protocol number: 10\n"
      ],
      "text/plain": [
       "<IPython.core.display.Markdown object>"
      ]
     },
     "metadata": {},
     "output_type": "display_data"
    },
    {
     "name": "stdout",
     "output_type": "stream",
     "text": [
      "{'matches': True, 'video': 'Evotip_docuWrongSpinInEvotipBox_wrongSpeed.MP4', 'expected_protocol': '10', 'found_protocol': '10'}\n",
      "Success rate: 72.41%\n"
     ]
    }
   ],
   "source": [
    "example_video_path = \"/Users/patriciaskowronek/Documents/documentation_agent_few_shot_examples/benchmark_dataset/unused/DisconnectingColumn_docuWithoutStandby_2.MP4\"\n",
    "example_video_uri = video_to_protocol.upload_video_to_gcs(example_video_path, bucket, \"protocol_finder_2\")\n",
    "example_video_path_2 = \"/Users/patriciaskowronek/Documents/documentation_agent_few_shot_examples/benchmark_dataset/unused/QueueSamples_docuCorrect_2.mov\"\n",
    "example_video_uri_2 = video_to_protocol.upload_video_to_gcs(example_video_path_2, bucket, \"protocol_finder_2\")\n",
    "\n",
    "example_video_input = [\n",
    "    \"EXAMPLE SECTION:\",\n",
    "    \"Eample Video 1:\",\n",
    "    Part.from_uri(example_video_uri, mime_type=\"video/mp4\"),\n",
    "    \"Example Response 1:\",\n",
    "    \"\"\"\n",
    "    The researcher in the video is using following equipment: \n",
    "    - IonOpticks Column\n",
    "    - timsTOF Mass Spectrometer\n",
    "        - Equipped with UltraSource ion source\n",
    "    - Evosep One LC System\n",
    "        - with sample line\n",
    "    - NanoViper Adapter (black)\n",
    "        - Pliers\n",
    "\n",
    "    Actions of the researcher in the video:\n",
    "    - Opens the lid of a column oven.\n",
    "    - Loosened the securing screw at the sample line - column connection. Lifts it up and moved the metal grounding screw away from the column-sample line connection.\n",
    "    - Attaches the NanoViper adapter to the sample line for easier handling.\n",
    "    - Helds the column fitting with pliers for easier handling.\n",
    "    - Unscrews the NanoViper connector to detach the sample line from the IonOpticks column by turning it counter clock-wise.\n",
    "    - Positions the sample line ensuring it formed a gentle curve. Placs it over the transparent bumper of the Evosep.\n",
    "    \n",
    "    Compare the video content with the content and order of steps in each of the protocols. \n",
    "    List your answer as follows:\n",
    "    - Protocol 1: No content overlap. \n",
    "    - Protocol 2: No content overlap. \n",
    "    - Protocol 3: Overlap in content 95% & correct order of steps \n",
    "    - Protocol 4: No content overlap. \n",
    "    - Protocol 5: No content overlap. \n",
    "    - Protocol 6: Overlap in content 50%, but different order of steps.\n",
    "    - Protocol 7: Overlap in content 20%, but different order of steps.\n",
    "    - Protocol 8: No content overlap. \n",
    "    - Protocol 9: No content overlap. \n",
    "    - Protocol 10: No content overlap. \n",
    "\n",
    "    Which protocol matches best?\n",
    "    Protocol number: 3 since it's content has the highest overlap and the order of steps matches best.\"\"\",\n",
    "\n",
    "    \"Eample Video 2:\",\n",
    "    Part.from_uri(example_video_uri_2, mime_type=\"video/mov\"),\n",
    "    \"Example Response 2:\",\n",
    "    \"\"\"\n",
    "    The researcher in the video is using following equipment: \n",
    "    - software: HyStar 6.0\n",
    "\n",
    "    Actions of the researcher in the video:\n",
    "    - Navigates to the 'Acquisition' tab in Hystar software.\n",
    "    - Selects an existing sample table by pressing the arrow down button when hovering over the sample table name.\n",
    "    - Copies existing sample table entries for modification.\n",
    "    - Adjusts the sample ID following a specific naming pattern.\n",
    "    - Queues analysis runs in sequence: one blank, three dda-PASEF runs, three dia-PASEF runs, and a final blank.\n",
    "    - Verifies column autocompletion settings through right-click menu, ensuring proper tray configuration.\n",
    "    - Specifies Evotip positions by selecting the first position and using drag-to-fill functionality for remaining samples.\n",
    "    - Checks the storage path folder for raw files.\n",
    "    - Verifies the separation method settings.\n",
    "    - Confirms injection method is set to 'standard'.\n",
    "    - Adjusts dda-PASEF and dia-PASEF maintenance methods to match sample IDs.\n",
    "    - Stops the idle flow on the Evosep system through right-click menu option.\n",
    "    - Saves the updated sample table.\n",
    "    - Uploads sample conditions by right-clicking the top row to verify proper loading of LC and MS methods.\n",
    "    - Initiates the sequence by pressing the 'start' and 'start sequence' buttons.\n",
    "    \n",
    "    Compare the video content with the content and order of steps in each of the protocols. \n",
    "    List your answer as follows:\n",
    "    - Protocol 1: Overlap in content 100% & correct order of steps \n",
    "    - Protocol 2: No content overlap. \n",
    "    - Protocol 3: No content overlap. \n",
    "    - Protocol 4: No content overlap. \n",
    "    - Protocol 5: Overlap in content 5%.  \n",
    "    - Protocol 6: No content overlap. \n",
    "    - Protocol 7: No content overlap. \n",
    "    - Protocol 8: No content overlap. \n",
    "    - Protocol 9: No content overlap. \n",
    "    - Protocol 10: No content overlap. \n",
    "\n",
    "    Which protocol matches best?\n",
    "    Protocol number: 1 since it's content has the highest overlap and the order of steps matches best.\n",
    "\n",
    "    END OF EXAMPLE SECTION\n",
    "    \"\"\",\n",
    "]\n",
    "system_prompt = [\"\"\"\n",
    "    You are Professor Matthias Mann, a pioneering scientist in proteomics and mass spectrometry with extensive laboratory experience.\n",
    "    Your task is to analyze a video showing a laboratory procedure and identify which protocol from a provided list accurately describes the step being performed.\n",
    "    \n",
    "    I will first provide you with an EXAMPLE (video, and response). \n",
    "\"\"\"]\n",
    "system_prompt_2 = [\"\"\"\n",
    "    FORMATTING INSTRUCTIONS:\n",
    "    1. Always begin your analysis by listing the equipment observed in the video using bullet points.\n",
    "    2. Then describe the actions performed in the video using bullet points.\n",
    "    3. Compare the video content with each protocol using this exact format:\n",
    "    - Protocol 1: [Overlap percentage]% [& correct order of steps OR but different order of steps]\n",
    "    - Protocol 2: [Overlap percentage]% [& correct order of steps OR but different order of steps]\n",
    "    [Continue for all protocols]\n",
    "    4. Conclude with a clear statement using this exact format:\n",
    "    \"Protocol number: X\" where X is the number of the best matching protocol.\n",
    "    5. If no protocol matches, explicitly state \"Protocol number: None\".\n",
    "    6. Do not include any explanatory text after stating the protocol number.\n",
    "                   \n",
    "    YOUR TASK SECTION:\n",
    "    Now, I provide you with the actuall 'lab video'. Follow the thought process in the example to analyze the video and match it to the selection of protocols.\n",
    "\"\"\"]\n",
    "protocol_intro= [\"Protocols:\"]\n",
    "\n",
    "csv_path = \"/Users/patriciaskowronek/Documents/documentation_agent_few_shot_examples/benchmark_dataset/Link_protocol_lab_video.csv\"\n",
    "\n",
    "validation_list = list()\n",
    "for video in video_parts: \n",
    "    print(f\"Processing video: {video}\")\n",
    "    video_path = video_parts[video][\"path\"]\n",
    "\n",
    "    order = [system_prompt, example_video_input, system_prompt_2, video_parts[video][\"part\"], protocol_intro, protocol_input]\n",
    "    model_input = list()\n",
    "    for input in order:\n",
    "        model_input.extend(input)\n",
    "\n",
    "    result = identify_protocol_from_video(\n",
    "        model_input,\n",
    "        model_name=\"gemini-1.5-pro-001\", \n",
    "        temperature=0.9\n",
    "    )\n",
    "\n",
    "    # print(result[\"usage_metadata\"])\n",
    "    print(result[\"video_path\"])\n",
    "    display(result[\"markdown_observation\"]) \n",
    "\n",
    "    result_validation = validate_protocol_number(video_path, csv_path, result[\"observation\"])\n",
    "    print(result_validation)\n",
    "    validation_list.append(result_validation[\"matches\"])\n",
    "\n",
    "success_ratio = sum(validation_list) / len(validation_list) if len(validation_list) > 0 else 0\n",
    "print(f\"Success rate: {success_ratio:.2%}\")"
   ]
  },
  {
   "cell_type": "code",
   "execution_count": 31,
   "metadata": {},
   "outputs": [
    {
     "name": "stdout",
     "output_type": "stream",
     "text": [
      "Processing video: UltraSourceToESIsource_docuForgotN2Line.MP4\n",
      "/Users/patriciaskowronek/Documents/documentation_agent_few_shot_examples/benchmark_dataset/documentation/UltraSourceToESIsource_docuForgotN2Line.MP4\n"
     ]
    },
    {
     "data": {
      "text/markdown": [
       "- IonOpticks column\n",
       "- timsTOF SCP mass spectrometer\n",
       "    - equipped with an UltraSource ion source\n",
       "- Evosep One LC system\n",
       "- Tweezers\n",
       "- Wrench\n",
       "- Screwdriver\n",
       "- Acetonitrile\n",
       "- Water\n",
       "- Pliers\n",
       "- Kimwipe\n",
       "- Syringe\n",
       "- Lint-free tissue\n",
       "- Gloves\n",
       "- Fume hood\n",
       "- Nitrogen gas\n",
       "\n",
       "- Disconnects the IonOpticks column from the Evosep One LC System\n",
       "- Disassembles the UltraSource from the timsTOF SCP system\n",
       "- Places the UltraSource on a work bench\n",
       "- Disassembles the spray shield from the UltraSource\n",
       "- Cleans the spray shield with water and acetonitrile\n",
       "- Inspects the capillary\n",
       "- Cleans the capillary by flushing it with water and acetonitrile\n",
       "- Reassembles the spray shield to the UltraSource\n",
       "- Reattaches the UltraSource to the timsTOF SCP system\n",
       "\n",
       "- Protocol 1: 0% & but different order of steps\n",
       "- Protocol 2: 0% & but different order of steps\n",
       "- Protocol 3: 0% & but different order of steps\n",
       "- Protocol 4: 0% & but different order of steps\n",
       "- Protocol 5: 0% & but different order of steps\n",
       "- Protocol 6: 0% & but different order of steps\n",
       "- Protocol 7: 0% & but different order of steps\n",
       "- Protocol 8: 0% & but different order of steps\n",
       "- Protocol 9: 0% & but different order of steps\n",
       "- Protocol 10: 0% & but different order of steps\n",
       "\n",
       "Protocol number: None \n"
      ],
      "text/plain": [
       "<IPython.core.display.Markdown object>"
      ]
     },
     "metadata": {},
     "output_type": "display_data"
    },
    {
     "name": "stdout",
     "output_type": "stream",
     "text": [
      "{'matches': False, 'video': 'UltraSourceToESIsource_docuForgotN2Line.MP4', 'expected_protocol': '7', 'found_protocol': None, 'message': 'No protocol number found in observation'}\n",
      "Processing video: TimsCalibration_docuCorrect_camera.MP4\n",
      "/Users/patriciaskowronek/Documents/documentation_agent_few_shot_examples/benchmark_dataset/documentation/TimsCalibration_docuCorrect_camera.MP4\n"
     ]
    },
    {
     "data": {
      "text/markdown": [
       "- Equipment:\n",
       "    - Computer with timsControl software\n",
       "    - timsTOF mass spectrometer\n",
       "    - Tuning Mix ESI\n",
       "    - Syringe pump\n",
       "    - Vial\n",
       "    \n",
       "- Actions:\n",
       "    - The researcher checks the TIMS settings in timsControl software.\n",
       "    - The researcher confirms the flow rate, ramp time, accumulation time and duty cycle settings.\n",
       "    - The researcher adjusts MS averaging value to 1.\n",
       "    - The researcher navigates to the 'Calibration' tab and selects 'Mobility'.\n",
       "    - The researcher clicks the 'Calibration Mode' drop-down menu and chooses 'Linear'.\n",
       "    - The researcher clicks 'Calibrate'.\n",
       "\n",
       "- Protocol 1: 100% & correct order of steps\n",
       "- Protocol 2: 0% & but different order of steps\n",
       "- Protocol 3: 0% & but different order of steps\n",
       "- Protocol 4: 0% & but different order of steps\n",
       "- Protocol 5: 30% & but different order of steps\n",
       "- Protocol 6: 0% & but different order of steps\n",
       "- Protocol 7: 0% & but different order of steps\n",
       "- Protocol 8: 0% & but different order of steps\n",
       "- Protocol 9: 0% & but different order of steps\n",
       "- Protocol 10: 10% & but different order of steps\n",
       "\n",
       "Protocol number: 1\n"
      ],
      "text/plain": [
       "<IPython.core.display.Markdown object>"
      ]
     },
     "metadata": {},
     "output_type": "display_data"
    },
    {
     "name": "stdout",
     "output_type": "stream",
     "text": [
      "{'matches': False, 'video': 'TimsCalibration_docuCorrect_camera.MP4', 'expected_protocol': '5', 'found_protocol': '1'}\n",
      "Processing video: TimsCalibration_docuNotAllClicksVisibleOnVideo.MP4\n",
      "/Users/patriciaskowronek/Documents/documentation_agent_few_shot_examples/benchmark_dataset/documentation/TimsCalibration_docuNotAllClicksVisibleOnVideo.MP4\n"
     ]
    },
    {
     "data": {
      "text/markdown": [
       "- **Equipment:**\n",
       "    - Computer with timsControl software\n",
       "\n",
       "- **Actions:**\n",
       "    - Navigates through various menus and tabs within the timsControl software.\n",
       "    - Adjusts MS and TIMS settings, including scan range, polarity, scan mode, and TIMS mode.\n",
       "    - Loads a reference list for calibration.\n",
       "    - Calibrates the instrument in 'Enhanced Quadratic' mode for mass calibration.\n",
       "    - Adjusts the zooming factor for calibration.\n",
       "    - Initiates calibration and verifies the calibration score.\n",
       "\n",
       "- **Protocol Analysis:**\n",
       "    - Protocol 1: 0% & but different order of steps\n",
       "    - Protocol 2: 0% & but different order of steps\n",
       "    - Protocol 3: 0% & but different order of steps\n",
       "    - Protocol 4: 0% & but different order of steps\n",
       "    - Protocol 5: 0% & but different order of steps\n",
       "    - Protocol 6: 0% & but different order of steps\n",
       "    - Protocol 7: 0% & but different order of steps\n",
       "    - Protocol 8: 0% & but different order of steps\n",
       "    - Protocol 9: 0% & but different order of steps\n",
       "    - Protocol 10: 0% & but different order of steps\n",
       "\n",
       "Protocol number: **None** \n"
      ],
      "text/plain": [
       "<IPython.core.display.Markdown object>"
      ]
     },
     "metadata": {},
     "output_type": "display_data"
    },
    {
     "name": "stdout",
     "output_type": "stream",
     "text": [
      "{'matches': False, 'video': 'TimsCalibration_docuNotAllClicksVisibleOnVideo.MP4', 'expected_protocol': '5', 'found_protocol': None, 'message': 'No protocol number found in observation'}\n",
      "Processing video: PlaceEvotips_docuBoxAngeled.MP4\n",
      "/Users/patriciaskowronek/Documents/documentation_agent_few_shot_examples/benchmark_dataset/documentation/PlaceEvotips_docuBoxAngeled.MP4\n"
     ]
    },
    {
     "data": {
      "text/markdown": [
       "- **Equipment:**\n",
       "    - Evotip Boxes (yellow)\n",
       "    - Evotip Pure (in the Evotip Boxes)\n",
       "    - Evosep One System\n",
       "    - Forceps\n",
       "\n",
       "- **Actions performed in the video:**\n",
       "    - The researcher takes two Evotip boxes containing Evotip pure.\n",
       "    - Places the Evotip boxes inside the Evosep One system.\n",
       "    - Takes a box of new, empty Evotips.\n",
       "    - The researcher takes one Evotip with forceps and places it in an empty Evotip box.\n",
       "    - The researcher repeats the previous step multiple times.\n",
       "\n",
       "- **Comparison with the protocols:**\n",
       "    - Protocol 1: 100% & correct order of steps\n",
       "    - Protocol 2: 95% & correct order of steps\n",
       "    - Protocol 3: 20% & different order of steps\n",
       "    - Protocol 4: 5% & different order of steps\n",
       "    - Protocol 5: 0% & different order of steps\n",
       "    - Protocol 6: 0% & different order of steps\n",
       "    - Protocol 7: 0% & different order of steps\n",
       "    - Protocol 8: 0% & different order of steps\n",
       "    - Protocol 9: 0% & different order of steps\n",
       "    - Protocol 10: 0% & different order of steps\n",
       "\n",
       "**Protocol number: 1** \n"
      ],
      "text/plain": [
       "<IPython.core.display.Markdown object>"
      ]
     },
     "metadata": {},
     "output_type": "display_data"
    },
    {
     "name": "stdout",
     "output_type": "stream",
     "text": [
      "{'matches': False, 'video': 'PlaceEvotips_docuBoxAngeled.MP4', 'expected_protocol': '2', 'found_protocol': '1'}\n",
      "Processing video: UltraSourceToESIsource_docuForgotGlovesANDCapillaryCap.MP4\n",
      "/Users/patriciaskowronek/Documents/documentation_agent_few_shot_examples/benchmark_dataset/documentation/UltraSourceToESIsource_docuForgotGlovesANDCapillaryCap.MP4\n"
     ]
    },
    {
     "data": {
      "text/markdown": [
       "- **Equipment:**\n",
       "    - timsTOF SCP Mass Spectrometer\n",
       "    - CaptiveSpray source\n",
       "- **Materials:**\n",
       "    - Pipette\n",
       "    - Syringe\n",
       "- **Reagents:**\n",
       "    - Tuning Mix solution\n",
       "- **Actions:**\n",
       "    - Opens the source door of the timsTOF SCP Mass Spectrometer.\n",
       "    - Removes the source backplate (stainless steel ring).\n",
       "    - Places the source backplate on the workbench.\n",
       "    - Puts on black nitrile gloves.\n",
       "    - Takes a syringe filled with Tuning Mix solution.\n",
       "    - Connects the syringe to the sample inlet port of the CaptiveSpray source.\n",
       "\n",
       "- Protocol 1: 100% & correct order of steps\n",
       "- Protocol 2: 5% & correct order of steps\n",
       "- Protocol 3: 0% & correct order of steps\n",
       "- Protocol 4: 0% & correct order of steps\n",
       "- Protocol 5: 0% & correct order of steps\n",
       "- Protocol 6: 0% & correct order of steps\n",
       "- Protocol 7: 0% & correct order of steps\n",
       "- Protocol 8: 0% & correct order of steps\n",
       "- Protocol 9: 0% & correct order of steps\n",
       "- Protocol 10: 0% & correct order of steps\n",
       "\n",
       "Protocol number: 1\n"
      ],
      "text/plain": [
       "<IPython.core.display.Markdown object>"
      ]
     },
     "metadata": {},
     "output_type": "display_data"
    },
    {
     "name": "stdout",
     "output_type": "stream",
     "text": [
      "{'matches': False, 'video': 'UltraSourceToESIsource_docuForgotGlovesANDCapillaryCap.MP4', 'expected_protocol': '7', 'found_protocol': '1'}\n",
      "Processing video: QueueSamples_docuCorrect_1.mov\n",
      "/Users/patriciaskowronek/Documents/documentation_agent_few_shot_examples/benchmark_dataset/documentation/QueueSamples_docuCorrect_1.mov\n"
     ]
    },
    {
     "data": {
      "text/markdown": [
       "- **Equipment observed:**\n",
       "    - Bruker TimsTOF SCP Mass Spectrometer\n",
       "    - Evosep One LC system\n",
       "    - IonOpticks Aurora column \n",
       "    - NanoViper fingertight fittings\n",
       "    - Column oven \n",
       "    - Pliers\n",
       "    - Wrench\n",
       "\n",
       "\n",
       "- **Actions performed:**\n",
       "    - The researcher opens the lid of the column oven.\n",
       "    - The researcher disconnects the sample line from the column using pliers to help unscrew the NanoViper connector.\n",
       "    - The researcher places the sample line over the transparent bumper on the Evosep One LC System.\n",
       "\n",
       "\n",
       "- **Protocol overlap analysis:**\n",
       "    - Protocol 1: 90% & correct order of steps\n",
       "    - Protocol 2: No content overlap\n",
       "    - Protocol 3: 10% but different order of steps \n",
       "    - Protocol 4: No content overlap\n",
       "    - Protocol 5: No content overlap\n",
       "    - Protocol 6: No content overlap\n",
       "    - Protocol 7: No content overlap\n",
       "    - Protocol 8: No content overlap\n",
       "    - Protocol 9: No content overlap\n",
       "    - Protocol 10: No content overlap\n",
       "\n",
       "\n",
       "- **Protocol number: 1** \n"
      ],
      "text/plain": [
       "<IPython.core.display.Markdown object>"
      ]
     },
     "metadata": {},
     "output_type": "display_data"
    },
    {
     "name": "stdout",
     "output_type": "stream",
     "text": [
      "{'matches': True, 'video': 'QueueSamples_docuCorrect_1.mov', 'expected_protocol': '1', 'found_protocol': '1'}\n",
      "Processing video: QueueSamples_docuNoBlankNoSampleIDWrongMSmethod.mov\n",
      "/Users/patriciaskowronek/Documents/documentation_agent_few_shot_examples/benchmark_dataset/documentation/QueueSamples_docuNoBlankNoSampleIDWrongMSmethod.mov\n"
     ]
    },
    {
     "data": {
      "text/markdown": [
       "    - Equipment observed in the video:\n",
       "        - Computer running Hystar software\n",
       "        - Evosep One LC System\n",
       "        - timsTOF SCP Mass Spectrometer\n",
       "        - Evotips\n",
       "\n",
       "    - Actions performed in the video:\n",
       "        - Opens Hystar software's 'Acquisition' tab\n",
       "        - Selects a sample table from the \"Sample Table Queue\"\n",
       "        - Updates the sample table to include a blank run, 3 dda-PASEF acquisition runs, 3 dia-PASEF acquisition runs, and a final blank run.\n",
       "        - Adjusts 'Status' to \"Cancelled Acquisition\" for a run that should not be included in the sequence.\n",
       "        - Activates the sample queue by pressing the \"Start\" button.\n",
       "\n",
       "    - Comparison with each protocol:\n",
       "        - Protocol 1: 100% & correct order of steps\n",
       "        - Protocol 2: 20% & but different order of steps\n",
       "        - Protocol 3: 5% & but different order of steps\n",
       "        - Protocol 4: No content overlap.\n",
       "        - Protocol 5: No content overlap.\n",
       "        - Protocol 6: No content overlap.\n",
       "        - Protocol 7: No content overlap.\n",
       "        - Protocol 8: No content overlap.\n",
       "        - Protocol 9: No content overlap.\n",
       "        - Protocol 10: No content overlap.\n",
       "\n",
       "    Protocol number: 1 \n"
      ],
      "text/plain": [
       "<IPython.core.display.Markdown object>"
      ]
     },
     "metadata": {},
     "output_type": "display_data"
    },
    {
     "name": "stdout",
     "output_type": "stream",
     "text": [
      "{'matches': True, 'video': 'QueueSamples_docuNoBlankNoSampleIDWrongMSmethod.mov', 'expected_protocol': '1', 'found_protocol': '1'}\n",
      "Processing video: UltraSourceToESIsource_docuCorrect.MP4\n",
      "/Users/patriciaskowronek/Documents/documentation_agent_few_shot_examples/benchmark_dataset/documentation/UltraSourceToESIsource_docuCorrect.MP4\n"
     ]
    },
    {
     "data": {
      "text/markdown": [
       "- IonOpticks Column\n",
       "    - timsTOF Mass Spectrometer\n",
       "        - Equipped with UltraSource ion source\n",
       "    - Evosep One LC System\n",
       "        - with sample line\n",
       "- Capillary Capillary\n",
       "- Screwdriver\n",
       "\n",
       "Actions of the researcher in the video:\n",
       "- The researcher puts on black gloves.\n",
       "- They disconnect the column oven by detaching the transfer line.\n",
       "- They use a screwdriver to loosen the screw at the top of the UltraSource.\n",
       "- They detach the UltraSource from the timsTOF.\n",
       "- They place it on a table.\n",
       "- The researcher attaches the ESI source to the timsTOF.\n",
       "- They connect the transfer line to the ESI source.\n",
       "- They inject some liquid from a syringe to fill the transfer line.\n",
       "\n",
       "- Protocol 1: 0% & but different order of steps\n",
       "- Protocol 2: 0% & but different order of steps\n",
       "- Protocol 3: 100% & correct order of steps\n",
       "- Protocol 4: 0% & but different order of steps\n",
       "- Protocol 5: 0% & but different order of steps\n",
       "- Protocol 6: 0% & but different order of steps\n",
       "- Protocol 7: 100% & correct order of steps\n",
       "- Protocol 8: 0% & but different order of steps\n",
       "- Protocol 9: 100% & correct order of steps\n",
       "- Protocol 10: 0% & but different order of steps\n",
       "\n",
       "Protocol number: 3"
      ],
      "text/plain": [
       "<IPython.core.display.Markdown object>"
      ]
     },
     "metadata": {},
     "output_type": "display_data"
    },
    {
     "name": "stdout",
     "output_type": "stream",
     "text": [
      "{'matches': False, 'video': 'UltraSourceToESIsource_docuCorrect.MP4', 'expected_protocol': '7', 'found_protocol': '3'}\n",
      "Processing video: DisconnectingColumn_docuWithoutStandby_1.MP4\n",
      "/Users/patriciaskowronek/Documents/documentation_agent_few_shot_examples/benchmark_dataset/documentation/DisconnectingColumn_docuWithoutStandby_1.MP4\n"
     ]
    },
    {
     "data": {
      "text/markdown": [
       "    - IonOpticks Column\n",
       "    - timsTOF Mass Spectrometer\n",
       "        - Equipped with UltraSource ion source\n",
       "    - Evosep One LC System\n",
       "        - with sample line\n",
       "    - NanoViper Adapter (black)\n",
       "        - Pliers\n",
       "\n",
       "    Actions of the researcher in the video:\n",
       "    - Opens the lid of a column oven.\n",
       "    - Loosened the securing screw at the sample line - column connection. Lifts it up and moved the metal grounding screw away from the column-sample line connection.\n",
       "    - Attaches the NanoViper adapter to the sample line for easier handling.\n",
       "    - Held the column fitting with pliers for easier handling.\n",
       "    - Unscrews the NanoViper connector to detach the sample line from the IonOpticks column by turning it counter clock-wise.\n",
       "    - Positions the sample line ensuring it formed a gentle curve. Placs it over the transparent bumper of the Evosep.\n",
       "\n",
       "    Compare the video content with the content and order of steps in each of the protocols:\n",
       "    - Protocol 1: 20% & but different order of steps\n",
       "    - Protocol 2: 0% & but different order of steps\n",
       "    - Protocol 3: 95% & correct order of steps\n",
       "    - Protocol 4: 0% & but different order of steps\n",
       "    - Protocol 5: 0% & but different order of steps\n",
       "    - Protocol 6: 5% & but different order of steps\n",
       "    - Protocol 7: 20% & but different order of steps\n",
       "    - Protocol 8: 0% & but different order of steps\n",
       "    - Protocol 9: 20% & but different order of steps\n",
       "    - Protocol 10: 0% & but different order of steps\n",
       "\n",
       "    Protocol number: 3"
      ],
      "text/plain": [
       "<IPython.core.display.Markdown object>"
      ]
     },
     "metadata": {},
     "output_type": "display_data"
    },
    {
     "name": "stdout",
     "output_type": "stream",
     "text": [
      "{'matches': True, 'video': 'DisconnectingColumn_docuWithoutStandby_1.MP4', 'expected_protocol': '3', 'found_protocol': '3'}\n",
      "Processing video: QueueSamples_docuDiffSampleNameAndEvotipNotAtPosition.mov\n",
      "/Users/patriciaskowronek/Documents/documentation_agent_few_shot_examples/benchmark_dataset/documentation/QueueSamples_docuDiffSampleNameAndEvotipNotAtPosition.mov\n"
     ]
    },
    {
     "data": {
      "text/markdown": [
       "- **Equipment observed:**\n",
       "    - Bruker nanoElute 2 LC system\n",
       "    - Computer with HyStar software opened\n",
       "\n",
       "- **Actions performed:**\n",
       "    - Right-clicks on a row in the sample table and selects \"Upload Sample Conditions\".\n",
       "\n",
       "- **Protocol analysis:**\n",
       "    - Protocol 1: 100% & correct order of steps\n",
       "    - Protocol 2: No content overlap.\n",
       "    - Protocol 3: No content overlap. \n",
       "    - Protocol 4: No content overlap. \n",
       "    - Protocol 5: 5% overlap\n",
       "    - Protocol 6: No content overlap. \n",
       "    - Protocol 7: No content overlap. \n",
       "    - Protocol 8: No content overlap. \n",
       "    - Protocol 9: No content overlap. \n",
       "    - Protocol 10: No content overlap. \n",
       "\n",
       "**Protocol number: 1** \n"
      ],
      "text/plain": [
       "<IPython.core.display.Markdown object>"
      ]
     },
     "metadata": {},
     "output_type": "display_data"
    },
    {
     "name": "stdout",
     "output_type": "stream",
     "text": [
      "{'matches': True, 'video': 'QueueSamples_docuDiffSampleNameAndEvotipNotAtPosition.mov', 'expected_protocol': '1', 'found_protocol': '1'}\n",
      "Processing video: Pipette_ducoBufferBInsteadBufferA.MP4\n",
      "/Users/patriciaskowronek/Documents/documentation_agent_few_shot_examples/benchmark_dataset/documentation/Pipette_ducoBufferBInsteadBufferA.MP4\n"
     ]
    },
    {
     "data": {
      "text/markdown": [
       "- **Equipment:**\n",
       "    - Eppendorf Research plus multichannel pipette \n",
       "    - Eppendorf epT.I.P.S.® Reloads 2–20 μl pipette tips \n",
       "    - Eppendorf tube rack\n",
       "    - Eppendorf tube\n",
       "    - Solvent A container\n",
       "    - 96-well plate\n",
       "- **Actions:**\n",
       "    - A researcher in a laboratory setting is preparing a 96-well plate.\n",
       "    - The researcher pipettes 20 μl of Buffer A into each well of the plate, starting from A1 to A12, using a multichannel pipette.\n",
       "\n",
       "- **Protocol Comparison:**\n",
       "    - Protocol 1: 0% & but different order of steps\n",
       "    - Protocol 2: 100% & correct order of steps\n",
       "    - Protocol 3: 0% & but different order of steps\n",
       "    - Protocol 4: 0% & but different order of steps\n",
       "    - Protocol 5: 0% & but different order of steps\n",
       "    - Protocol 6: 0% & but different order of steps\n",
       "    - Protocol 7: 0% & but different order of steps\n",
       "    - Protocol 8: 0% & but different order of steps\n",
       "    - Protocol 9: 0% & but different order of steps\n",
       "    - Protocol 10: 0% & but different order of steps\n",
       "\n",
       "**Protocol number: 2** \n"
      ],
      "text/plain": [
       "<IPython.core.display.Markdown object>"
      ]
     },
     "metadata": {},
     "output_type": "display_data"
    },
    {
     "name": "stdout",
     "output_type": "stream",
     "text": [
      "{'matches': False, 'video': 'Pipette_ducoBufferBInsteadBufferA.MP4', 'expected_protocol': '8', 'found_protocol': '2'}\n",
      "Processing video: ESIsourceToUltraSource_docuFogotOvenPowerSupply.MP4\n",
      "/Users/patriciaskowronek/Documents/documentation_agent_few_shot_examples/benchmark_dataset/documentation/ESIsourceToUltraSource_docuFogotOvenPowerSupply.MP4\n"
     ]
    },
    {
     "data": {
      "text/markdown": [
       "    - Equipment observed: \n",
       "        - timsTOF SCP mass spectrometer\n",
       "        - CaptiveSpray ion source\n",
       "        - Column oven\n",
       "        - nanoElute 2 LC system\n",
       "        - Tweezers\n",
       "        - IonOpticks column\n",
       "    - Actions performed:\n",
       "        - The researcher is wearing gloves.\n",
       "        - The researcher opens the source compartment of the timsTOF SCP.\n",
       "        - The researcher disconnects a capillary using tweezers. \n",
       "        - The researcher removes the source housing.\n",
       "        - The researcher places the source housing on the bench. \n",
       "        - The researcher installs the column oven.\n",
       "        - The researcher closes the lid of the column oven.\n",
       "        - The researcher connects a transfer line (capillary) with the column. \n",
       "        - The researcher places a metal clip to secure the transfer line.\n",
       "        - The researcher closes the source compartment.\n",
       "        - The researcher checks the pressure values on the front of the timsTOF SCP.\n",
       "        - The researcher closes the lid covering the pressure regulation wheels. \n",
       "\n",
       "    - Protocol 1: 0% & but different order of steps\n",
       "    - Protocol 2: 0% & but different order of steps\n",
       "    - Protocol 3: 95% & correct order of steps\n",
       "    - Protocol 4: 0% & but different order of steps\n",
       "    - Protocol 5: 0% & but different order of steps\n",
       "    - Protocol 6: 0% & but different order of steps\n",
       "    - Protocol 7: 0% & but different order of steps\n",
       "    - Protocol 8: 0% & but different order of steps\n",
       "    - Protocol 9: 80% & correct order of steps\n",
       "    - Protocol 10: 0% & but different order of steps\n",
       "\n",
       "Protocol number: 3 \n"
      ],
      "text/plain": [
       "<IPython.core.display.Markdown object>"
      ]
     },
     "metadata": {},
     "output_type": "display_data"
    },
    {
     "name": "stdout",
     "output_type": "stream",
     "text": [
      "{'matches': False, 'video': 'ESIsourceToUltraSource_docuFogotOvenPowerSupply.MP4', 'expected_protocol': '9', 'found_protocol': '3'}\n",
      "Processing video: Pipette_docu_WrongRowB_B10Twice_B11LeftOut.MP4\n",
      "/Users/patriciaskowronek/Documents/documentation_agent_few_shot_examples/benchmark_dataset/documentation/Pipette_docu_WrongRowB_B10Twice_B11LeftOut.MP4\n"
     ]
    },
    {
     "data": {
      "text/markdown": [
       "    - Equipment observed:\n",
       "        - Eppendorf Research plus pipette\n",
       "        - Eppendorf tip\n",
       "        - Evotip rack\n",
       "        - Single-well plate\n",
       "        - Bottles with Solvent A and Solvent B \n",
       "        - Evotip box\n",
       "\n",
       "    - Actions performed:\n",
       "        - Pipettes 20µl Solvent A into Evotips in the Evotip rack.\n",
       "        - Places the Evotip rack on top of a single well plate containing propanol.\n",
       "        - Lets the Evotips soak in propanol for a minimum of 10 seconds until pale white.\n",
       "        - Transfers 20µl of Solvent A into Evotips still placed in the Evotip rack. \n",
       "\n",
       "    - Protocol analysis:\n",
       "        - Protocol 1: 0% & but different order of steps\n",
       "        - Protocol 2: 100% & correct order of steps\n",
       "        - Protocol 3: 0% & but different order of steps\n",
       "        - Protocol 4: 0% & but different order of steps\n",
       "        - Protocol 5: 0% & but different order of steps\n",
       "        - Protocol 6: 0% & but different order of steps\n",
       "        - Protocol 7: 0% & but different order of steps\n",
       "        - Protocol 8: 0% & but different order of steps\n",
       "        - Protocol 9: 0% & but different order of steps\n",
       "        - Protocol 10: 0% & but different order of steps\n",
       "\n",
       "    Protocol number: 2 \n"
      ],
      "text/plain": [
       "<IPython.core.display.Markdown object>"
      ]
     },
     "metadata": {},
     "output_type": "display_data"
    },
    {
     "name": "stdout",
     "output_type": "stream",
     "text": [
      "{'matches': False, 'video': 'Pipette_docu_WrongRowB_B10Twice_B11LeftOut.MP4', 'expected_protocol': '8', 'found_protocol': '2'}\n",
      "Processing video: ConnectingColumnSampleLine_docuWithoutStandbyANDtimsControl.mp4\n",
      "/Users/patriciaskowronek/Documents/documentation_agent_few_shot_examples/benchmark_dataset/documentation/ConnectingColumnSampleLine_docuWithoutStandbyANDtimsControl.mp4\n"
     ]
    },
    {
     "data": {
      "text/markdown": [
       "- **Equipment:**\n",
       "    - Bruker timsTOF SCP Mass Spectrometer\n",
       "    - Evosep One LC System\n",
       "    - Captive Spray Ionization Source\n",
       "    - IonOpticks Column\n",
       "    - Pliers\n",
       "\n",
       "- **Actions:**\n",
       "    - The researcher is wearing black gloves.\n",
       "    - They are connecting an IonOpticks column to a Captive Spray Source while the source is mounted on the mass spectrometer.\n",
       "    - They hold the column with pliers.\n",
       "    - They use their fingers to secure the connection between the column and the Captive Spray source.\n",
       "\n",
       "- **Protocol comparison:**\n",
       "    - Protocol 1: 0% & but different order of steps\n",
       "    - Protocol 2: 0% & but different order of steps\n",
       "    - Protocol 3: 95% & correct order of steps\n",
       "    - Protocol 4: 0% & but different order of steps\n",
       "    - Protocol 5: 0% & but different order of steps\n",
       "    - Protocol 6: 90% & correct order of steps\n",
       "    - Protocol 7: 0% & but different order of steps\n",
       "    - Protocol 8: 0% & but different order of steps\n",
       "    - Protocol 9: 90% & but different order of steps\n",
       "    - Protocol 10: 0% & but different order of steps\n",
       "\n",
       "Protocol number: 3 \n"
      ],
      "text/plain": [
       "<IPython.core.display.Markdown object>"
      ]
     },
     "metadata": {},
     "output_type": "display_data"
    },
    {
     "name": "stdout",
     "output_type": "stream",
     "text": [
      "{'matches': False, 'video': 'ConnectingColumnSampleLine_docuWithoutStandbyANDtimsControl.mp4', 'expected_protocol': '6', 'found_protocol': '3'}\n",
      "Processing video: TimsCalibration_docuSavedMethod.mov\n",
      "/Users/patriciaskowronek/Documents/documentation_agent_few_shot_examples/benchmark_dataset/documentation/TimsCalibration_docuSavedMethod.mov\n"
     ]
    },
    {
     "data": {
      "text/markdown": [
       "    Professor Matthias Mann here. Let's take a look at the video you've provided.\n",
       "\n",
       "**Equipment:**\n",
       "\n",
       "- timsTOF SCP Mass Spectrometer\n",
       "  - Equipped with UltraSource ion source\n",
       "\n",
       "**Actions:**\n",
       "\n",
       "- The researcher disconnects the filter tubing from the UltraSource.\n",
       "- They rotate the top right and bottom left handles of the UltraSource housing by 180 degrees.\n",
       "- They slide off the UltraSource housing from the source door and the glass capillary and set it on the bench.\n",
       "\n",
       "**Protocol Analysis:**\n",
       "\n",
       "- Protocol 1: 95% & correct order of steps\n",
       "- Protocol 2: 0%\n",
       "- Protocol 3: 50% but different order of steps\n",
       "- Protocol 4: 0%\n",
       "- Protocol 5: 0%\n",
       "- Protocol 6: 0%\n",
       "- Protocol 7: 95% & correct order of steps\n",
       "- Protocol 8: 0%\n",
       "- Protocol 9: 95% & correct order of steps\n",
       "- Protocol 10: 0% \n",
       "\n",
       "**Protocol number: 1, 7, or 9**\n",
       "\n",
       "All three protocols (1, 7, and 9) describe the actions in the video. Without further context in the video, it's impossible to definitively say which specific protocol is being followed. Protocols 1 and 7 deal with switching between UltraSource and ESI source, while Protocol 9 focuses on replacing the source with a clean one. All these actions involve removing the UltraSource, which is what we observe in the video. \n"
      ],
      "text/plain": [
       "<IPython.core.display.Markdown object>"
      ]
     },
     "metadata": {},
     "output_type": "display_data"
    },
    {
     "name": "stdout",
     "output_type": "stream",
     "text": [
      "{'matches': False, 'video': 'TimsCalibration_docuSavedMethod.mov', 'expected_protocol': '5', 'found_protocol': '1'}\n",
      "Processing video: Dilute_docuWrongSolvent.MP4\n",
      "/Users/patriciaskowronek/Documents/documentation_agent_few_shot_examples/benchmark_dataset/documentation/Dilute_docuWrongSolvent.MP4\n"
     ]
    },
    {
     "data": {
      "text/markdown": [
       "- **Equipment:**\n",
       "    - Eppendorf Research plus pipette\n",
       "    - Eppendorf Combitips Advanced\n",
       "    - Bottles:\n",
       "        - Buffer A: 0.1% formic acid\n",
       "        - Buffer B: 0.1% formic acid in acetonitrile\n",
       "        - EvoSep Wash\n",
       "    - Orange 96-well plate\n",
       "\n",
       "- **Actions:**\n",
       "    - Pipettes 100 µL Buffer A into each well of an orange 96-well plate, columns 1 and 2.\n",
       "    - Pipettes 100 µL Buffer B into each well of an orange 96-well plate, columns 3 and 4.\n",
       "    - Pipettes 100 µL EvoSep Wash into each well of an orange 96-well plate, columns 5 and 6.\n",
       "\n",
       "- **Protocol Comparisons:**\n",
       "    - Protocol 1: 0% & but different order of steps\n",
       "    - Protocol 2: 0% & but different order of steps\n",
       "    - Protocol 3: 0% & but different order of steps\n",
       "    - Protocol 4: 100% & correct order of steps\n",
       "    - Protocol 5: 0% & but different order of steps\n",
       "    - Protocol 6: 0% & but different order of steps\n",
       "    - Protocol 7: 0% & but different order of steps\n",
       "    - Protocol 8: 0% & but different order of steps\n",
       "    - Protocol 9: 0% & but different order of steps\n",
       "    - Protocol 10: 0% & but different order of steps\n",
       "\n",
       "Protocol number: 4 \n"
      ],
      "text/plain": [
       "<IPython.core.display.Markdown object>"
      ]
     },
     "metadata": {},
     "output_type": "display_data"
    },
    {
     "name": "stdout",
     "output_type": "stream",
     "text": [
      "{'matches': True, 'video': 'Dilute_docuWrongSolvent.MP4', 'expected_protocol': '4', 'found_protocol': '4'}\n",
      "Processing video: TimsCalibration_docuWrongOrderSteps.mov\n",
      "/Users/patriciaskowronek/Documents/documentation_agent_few_shot_examples/benchmark_dataset/documentation/TimsCalibration_docuWrongOrderSteps.mov\n"
     ]
    },
    {
     "data": {
      "text/markdown": [
       "    - Equipment observed:\n",
       "        - Bruker timsTOF Mass Spectrometer\n",
       "            - Equipped with CaptiveSpray source\n",
       "        - NanoElute 2 LC System\n",
       "        - Computer with timsControl software open\n",
       "    - Actions performed:\n",
       "        - Navigates to 'Calibration' tab in timsControl software.\n",
       "        - Selects 'Mobility' sub-tab.\n",
       "        - Selects a reference list for mobility calibration.\n",
       "        - Clicks 'Calibrate' button.\n",
       "        - Reviews peaks for proper alignment.\n",
       "        - Accepts calibration with 100% score.\n",
       "        - Saves the method by clicking 'Save As...'.\n",
       "        - Closes current method.\n",
       "    - Protocol analysis:\n",
       "        - Protocol 1: 5% & correct order of steps\n",
       "        - Protocol 2: 0% & correct order of steps\n",
       "        - Protocol 3: 5% & correct order of steps\n",
       "        - Protocol 4: 0% & correct order of steps\n",
       "        - Protocol 5: 95% & correct order of steps\n",
       "        - Protocol 6: 5% & correct order of steps\n",
       "        - Protocol 7: 0% & correct order of steps\n",
       "        - Protocol 8: 0% & correct order of steps\n",
       "        - Protocol 9: 0% & correct order of steps\n",
       "        - Protocol 10: 0% & correct order of steps\n",
       "    Protocol number: 5 \n"
      ],
      "text/plain": [
       "<IPython.core.display.Markdown object>"
      ]
     },
     "metadata": {},
     "output_type": "display_data"
    },
    {
     "name": "stdout",
     "output_type": "stream",
     "text": [
      "{'matches': True, 'video': 'TimsCalibration_docuWrongOrderSteps.mov', 'expected_protocol': '5', 'found_protocol': '5'}\n",
      "Processing video: Dilute_docuWrongVolume_PipettTipNotChanged.MP4\n",
      "/Users/patriciaskowronek/Documents/documentation_agent_few_shot_examples/benchmark_dataset/documentation/Dilute_docuWrongVolume_PipettTipNotChanged.MP4\n"
     ]
    },
    {
     "data": {
      "text/markdown": [
       "- **Equipment:**\n",
       "    - Eppendorf Research plus pipette\n",
       "    - Eppendorf Safe-Lock Tubes 1.5 mL\n",
       "    - Eppendorf tip box\n",
       "    - Vortex mixer\n",
       "    - Evotip Box\n",
       "- **Reagents:**\n",
       "    - Evo A (Buffer A): 0.1% Formic acid\n",
       "    - Evo B (Buffer B): 0.1% Formic acid / 99.9% Acetonitrile \n",
       "\n",
       "- **Actions:**\n",
       "    - Dispenses 400 µL Evo A and 100 µL Evo B into an Eppendorf tube.\n",
       "    - Mixes the solution using a vortex mixer.\n",
       "    - Labels the Eppendorf tube.\n",
       "\n",
       "- **Protocol Analysis:**\n",
       "    - Protocol 1:  **95% overlap** & **correct order of steps**\n",
       "    - Protocol 2:  **95% overlap** & **correct order of steps**\n",
       "    - Protocol 3:  **0% overlap**\n",
       "    - Protocol 4:  **5% overlap** & **different order of steps**\n",
       "    - Protocol 5:  **0% overlap**\n",
       "    - Protocol 6:  **0% overlap**\n",
       "    - Protocol 7:  **0% overlap**\n",
       "    - Protocol 8:  **5% overlap** & **different order of steps**\n",
       "    - Protocol 9:  **0% overlap**\n",
       "    - Protocol 10:  **0% overlap**\n",
       "\n",
       "**Protocol number: 1** \n"
      ],
      "text/plain": [
       "<IPython.core.display.Markdown object>"
      ]
     },
     "metadata": {},
     "output_type": "display_data"
    },
    {
     "name": "stdout",
     "output_type": "stream",
     "text": [
      "{'matches': False, 'video': 'Dilute_docuWrongVolume_PipettTipNotChanged.MP4', 'expected_protocol': '4', 'found_protocol': '1'}\n",
      "Processing video: DisconnectingColumn_docuCorrect.MP4\n",
      "/Users/patriciaskowronek/Documents/documentation_agent_few_shot_examples/benchmark_dataset/documentation/DisconnectingColumn_docuCorrect.MP4\n"
     ]
    },
    {
     "data": {
      "text/markdown": [
       "- IonOpticks Column\n",
       "    - timsTOF SCP Mass Spectrometer\n",
       "        - Equipped with UltraSource ion source\n",
       "    - Evosep One LC System\n",
       "        - with sample line\n",
       "    - Pliers\n",
       "\n",
       "    Actions of the researcher in the video:\n",
       "    - Opens the lid of a column oven.\n",
       "    - Loosened the securing screw at the sample line - column connection. Lifts it up and moved the metal grounding screw away from the column-sample line connection.\n",
       "    - Holds the column fitting with pliers for easier handling.\n",
       "    - Unscrews the NanoViper connector to detach the sample line from the IonOpticks column by turning it counter clock-wise.\n",
       "    - Positions the sample line ensuring it forms a gentle curve. Placs it over the transparent bumper of the Evosep.\n",
       "\n",
       "    - Protocol 1: 0% & but different order of steps\n",
       "    - Protocol 2: 0% & but different order of steps\n",
       "    - Protocol 3: 95% & correct order of steps\n",
       "    - Protocol 4: 0% & but different order of steps\n",
       "    - Protocol 5: 0% & but different order of steps\n",
       "    - Protocol 6: 50% & but different order of steps\n",
       "    - Protocol 7: 20% & but different order of steps\n",
       "    - Protocol 8: 0% & but different order of steps\n",
       "    - Protocol 9: 0% & but different order of steps\n",
       "    - Protocol 10: 0% & but different order of steps\n",
       "\n",
       "    Protocol number: 3\n"
      ],
      "text/plain": [
       "<IPython.core.display.Markdown object>"
      ]
     },
     "metadata": {},
     "output_type": "display_data"
    },
    {
     "name": "stdout",
     "output_type": "stream",
     "text": [
      "{'matches': True, 'video': 'DisconnectingColumn_docuCorrect.MP4', 'expected_protocol': '3', 'found_protocol': '3'}\n",
      "Processing video: Pipette_docuFirstTwoWrongVolumneANDA2Twice.MP4\n",
      "/Users/patriciaskowronek/Documents/documentation_agent_few_shot_examples/benchmark_dataset/documentation/Pipette_docuFirstTwoWrongVolumneANDA2Twice.MP4\n"
     ]
    },
    {
     "data": {
      "text/markdown": [
       "- Eppendorf Repeater E3 Pipette\n",
       "- Bottle of Evotip A solution\n",
       "- 96-well plate for Evotips\n",
       "- Eppendorf Combitips\n",
       "\n",
       "- The person in the video is pipetting 20 μL of Evotip A solution into a 96-well plate.\n",
       "- She is using an Eppendorf Repeater E3 Pipette with an Eppendorf Combitip.\n",
       "\n",
       "- Protocol 1: 100% & correct order of steps\n",
       "- Protocol 2: 95% & correct order of steps\n",
       "- Protocol 3: 10% & different order of steps\n",
       "- Protocol 4: 50% & different order of steps\n",
       "- Protocol 5: 5% & different order of steps\n",
       "- Protocol 6: 0% & different order of steps\n",
       "- Protocol 7: 0% & different order of steps\n",
       "- Protocol 8: 5% & different order of steps\n",
       "- Protocol 9: 0% & different order of steps\n",
       "- Protocol 10: 0% & different order of steps\n",
       "\n",
       "Protocol number: 1 \n"
      ],
      "text/plain": [
       "<IPython.core.display.Markdown object>"
      ]
     },
     "metadata": {},
     "output_type": "display_data"
    },
    {
     "name": "stdout",
     "output_type": "stream",
     "text": [
      "{'matches': False, 'video': 'Pipette_docuFirstTwoWrongVolumneANDA2Twice.MP4', 'expected_protocol': '8', 'found_protocol': '1'}\n",
      "Processing video: PlaceEvotips_docuWrongPosition.MP4\n",
      "/Users/patriciaskowronek/Documents/documentation_agent_few_shot_examples/benchmark_dataset/documentation/PlaceEvotips_docuWrongPosition.MP4\n"
     ]
    },
    {
     "data": {
      "text/markdown": [
       "- **Equipment:**\n",
       "    - Evosep One LC System\n",
       "    - Evotip boxes\n",
       "    - Evotips (pipette tips with C18 material)\n",
       "- **Actions:**\n",
       "    - Placing empty Evotip boxes (yellow) onto the Evosep One system\n",
       "    - Filling a single-well plate with 1-propanol\n",
       "    - Placing Evotip adapter rack on top of the single-well plate with 1-propanol. Soaking it for 10-20 seconds to activate the Evotips.\n",
       "    - Transferring Evotips from the 1-propanol plate into the Evotip box at position S2.\n",
       "    - Placing Evotip box with activated Evotips at position S2 on the Evosep One system.\n",
       "\n",
       "\n",
       "- **Protocol 1:** 50% & but different order of steps\n",
       "- **Protocol 2:** 95% & correct order of steps\n",
       "- **Protocol 3:** 0% \n",
       "- **Protocol 4:** 0% \n",
       "- **Protocol 5:** 0% \n",
       "- **Protocol 6:** 0% \n",
       "- **Protocol 7:** 0% \n",
       "- **Protocol 8:** 0% \n",
       "- **Protocol 9:** 0% \n",
       "- **Protocol 10:** 0% \n",
       "\n",
       "Protocol number: 2 \n"
      ],
      "text/plain": [
       "<IPython.core.display.Markdown object>"
      ]
     },
     "metadata": {},
     "output_type": "display_data"
    },
    {
     "name": "stdout",
     "output_type": "stream",
     "text": [
      "{'matches': True, 'video': 'PlaceEvotips_docuWrongPosition.MP4', 'expected_protocol': '2', 'found_protocol': '2'}\n",
      "Processing video: TimsCalibration_docuCorrect.mov\n",
      "/Users/patriciaskowronek/Documents/documentation_agent_few_shot_examples/benchmark_dataset/documentation/TimsCalibration_docuCorrect.mov\n"
     ]
    },
    {
     "data": {
      "text/markdown": [
       "- **Equipment:**\n",
       "    - Bruker timsTOF SCP\n",
       "        - Equipped with CaptiveSpray 2 source\n",
       "    - TimsControl software\n",
       "- **Actions:**\n",
       "    - Ensures the TIMS is off.\n",
       "    - Navigates to the Calibration tab and selects 'Mobility'.\n",
       "    - Opens the dropdown menu for the Reference List and selects '[ESI] Tuning Mix ES-TOF CCS compendium (ESI)'.\n",
       "    - Switches to 'Linear' Calibration Mode.\n",
       "    - Adjusts the detection range to ±5%.\n",
       "    - Clicks 'Calibrate'.\n",
       "    - Selects the peak at 0.985 1/K0 and drags the highlighted area to encompass the peak more precisely.\n",
       "    - Repeats peak selection and adjustment for the peaks at 1.190 1/K0 and 1.382 1/K0.\n",
       "    - Verifies the score at the bottom and confirms it's 100%.\n",
       "    - Clicks 'Accept'.\n",
       "- **Protocol Comparisons:**\n",
       "    - Protocol 1: No content overlap.\n",
       "    - Protocol 2: No content overlap.\n",
       "    - Protocol 3: No content overlap.\n",
       "    - Protocol 4: No content overlap.\n",
       "    - Protocol 5: Overlap 95% & correct order of steps\n",
       "    - Protocol 6: No content overlap.\n",
       "    - Protocol 7: No content overlap.\n",
       "    - Protocol 8: No content overlap.\n",
       "    - Protocol 9: No content overlap.\n",
       "    - Protocol 10: No content overlap.\n",
       "- **Protocol number: 5** \n"
      ],
      "text/plain": [
       "<IPython.core.display.Markdown object>"
      ]
     },
     "metadata": {},
     "output_type": "display_data"
    },
    {
     "name": "stdout",
     "output_type": "stream",
     "text": [
      "{'matches': True, 'video': 'TimsCalibration_docuCorrect.mov', 'expected_protocol': '5', 'found_protocol': '5'}\n",
      "Processing video: QueueSamples_docuWrongRow_S3A1Twice.mov\n",
      "/Users/patriciaskowronek/Documents/documentation_agent_few_shot_examples/benchmark_dataset/documentation/QueueSamples_docuWrongRow_S3A1Twice.mov\n"
     ]
    },
    {
     "data": {
      "text/markdown": [
       "    - Equipment:\n",
       "        - HyStar Software (version 6.0)\n",
       "    - Actions:\n",
       "        - Navigates in the sample list in HyStar\n",
       "        - Edits several rows of the sample list by adding the sample ID following the pattern *currentDate_massSpec_user_sampleType_projectID_sampleName*.\n",
       "        - Selects and queues several runs including dda-PASEF, dia-PASEF and blank runs.\n",
       "        - Starts the acquisition queue.\n",
       "    - Protocol 1: 100% & correct order of steps\n",
       "    - Protocol 2: 0% & but different order of steps\n",
       "    - Protocol 3: 0% & but different order of steps\n",
       "    - Protocol 4: 0% & but different order of steps\n",
       "    - Protocol 5: 0% & but different order of steps\n",
       "    - Protocol 6: 0% & but different order of steps\n",
       "    - Protocol 7: 0% & but different order of steps\n",
       "    - Protocol 8: 0% & but different order of steps\n",
       "    - Protocol 9: 0% & but different order of steps\n",
       "    - Protocol 10: 0% & but different order of steps\n",
       "    Protocol number: 1\n"
      ],
      "text/plain": [
       "<IPython.core.display.Markdown object>"
      ]
     },
     "metadata": {},
     "output_type": "display_data"
    },
    {
     "name": "stdout",
     "output_type": "stream",
     "text": [
      "{'matches': True, 'video': 'QueueSamples_docuWrongRow_S3A1Twice.mov', 'expected_protocol': '1', 'found_protocol': '1'}\n",
      "Processing video: PlaceEvotips_docuCorrect.MP4\n",
      "/Users/patriciaskowronek/Documents/documentation_agent_few_shot_examples/benchmark_dataset/documentation/PlaceEvotips_docuCorrect.MP4\n"
     ]
    },
    {
     "data": {
      "text/markdown": [
       "- **Equipment:**\n",
       "    - Evosep One LC System\n",
       "    - Evotip tips\n",
       "    - Tweezers\n",
       "    - Evotip box\n",
       "- **Actions:**\n",
       "    - Places two boxes of Evotips in the Evosep One tray.\n",
       "    - Opens a new box of Evotips.\n",
       "    - Uses tweezers to grab two tips from the new box and places them in the tray.\n",
       "- **Protocol Analysis:**\n",
       "    - Protocol 1: 50% & correct order of steps\n",
       "    - Protocol 2: 100% & correct order of steps\n",
       "    - Protocol 3: 20% & correct order of steps\n",
       "    - Protocol 4: 0%\n",
       "    - Protocol 5: 0%\n",
       "    - Protocol 6: 0%\n",
       "    - Protocol 7: 0%\n",
       "    - Protocol 8: 0%\n",
       "    - Protocol 9: 0%\n",
       "    - Protocol 10: 0%\n",
       "\n",
       "**Protocol number: 2** \n"
      ],
      "text/plain": [
       "<IPython.core.display.Markdown object>"
      ]
     },
     "metadata": {},
     "output_type": "display_data"
    },
    {
     "name": "stdout",
     "output_type": "stream",
     "text": [
      "{'matches': True, 'video': 'PlaceEvotips_docuCorrect.MP4', 'expected_protocol': '2', 'found_protocol': '2'}\n",
      "Processing video: ESIsourceToUltraSource_docuCorrect.MP4\n",
      "/Users/patriciaskowronek/Documents/documentation_agent_few_shot_examples/benchmark_dataset/documentation/ESIsourceToUltraSource_docuCorrect.MP4\n"
     ]
    },
    {
     "data": {
      "text/markdown": [
       "- **Equipment:**\n",
       "    - timsTOF SCP mass spectrometer\n",
       "    - UltraSource ion source\n",
       "    - Pliers\n",
       "\n",
       "- **Actions performed:**\n",
       "    - Opens the source door of the timsTOF SCP mass spectrometer.\n",
       "    - Removes the UltraSource ion source.\n",
       "    - Places the UltraSource ion source into a container.\n",
       "    - Picks up a clean metal plate from the bench.\n",
       "    - Places the metal plate onto the mass spectrometer.\n",
       "    - Secures the plate in place.\n",
       "\n",
       "- **Protocol Overlap:**\n",
       "    - Protocol 1: 0% & but different order of steps\n",
       "    - Protocol 2: 0% & but different order of steps\n",
       "    - Protocol 3: 0% & but different order of steps\n",
       "    - Protocol 4: 0% & but different order of steps\n",
       "    - Protocol 5: 0% & but different order of steps\n",
       "    - Protocol 6: 0% & but different order of steps\n",
       "    - Protocol 7: 95% & correct order of steps\n",
       "    - Protocol 8: 0% & but different order of steps\n",
       "    - Protocol 9: 0% & but different order of steps\n",
       "    - Protocol 10: 0% & but different order of steps\n",
       "\n",
       "**Protocol number: 7** \n"
      ],
      "text/plain": [
       "<IPython.core.display.Markdown object>"
      ]
     },
     "metadata": {},
     "output_type": "display_data"
    },
    {
     "name": "stdout",
     "output_type": "stream",
     "text": [
      "{'matches': False, 'video': 'ESIsourceToUltraSource_docuCorrect.MP4', 'expected_protocol': '9', 'found_protocol': '7'}\n",
      "Processing video: QueueSamples_docuEvotipNotAtPositionNoSampleID.mov\n",
      "/Users/patriciaskowronek/Documents/documentation_agent_few_shot_examples/benchmark_dataset/documentation/QueueSamples_docuEvotipNotAtPositionNoSampleID.mov\n"
     ]
    },
    {
     "data": {
      "text/markdown": [
       "    - **Equipment:**\n",
       "        - Hystar software\n",
       "\n",
       "    - **Actions performed:**\n",
       "        - The researcher is queuing six samples for analysis on the HyStar software. The sample names are \"20230711_SCP_PaSk_MA_HeLa_5ngPASEF_40min_S#_A#\", where # is the sample number. \n",
       "        - Three samples are blanks, and three are \"HeLa 5ng\".\n",
       "        - The researcher clicks \"start\" to initiate the queue for analysis.\n",
       "\n",
       "    - **Protocol analysis:**\n",
       "        - Protocol 1: 100% & correct order of steps \n",
       "        - Protocol 2: 0% & but different order of steps\n",
       "        - Protocol 3: 0% & but different order of steps\n",
       "        - Protocol 4: 0% & but different order of steps\n",
       "        - Protocol 5: 0% & but different order of steps \n",
       "        - Protocol 6: 0% & but different order of steps\n",
       "        - Protocol 7: 0% & but different order of steps\n",
       "        - Protocol 8: 0% & but different order of steps\n",
       "        - Protocol 9: 0% & but different order of steps\n",
       "        - Protocol 10: 0% & but different order of steps\n",
       "\n",
       "    Protocol number: 1\n"
      ],
      "text/plain": [
       "<IPython.core.display.Markdown object>"
      ]
     },
     "metadata": {},
     "output_type": "display_data"
    },
    {
     "name": "stdout",
     "output_type": "stream",
     "text": [
      "{'matches': True, 'video': 'QueueSamples_docuEvotipNotAtPositionNoSampleID.mov', 'expected_protocol': '1', 'found_protocol': '1'}\n",
      "Processing video: UltraSourceToESIsource_docuForgotCapillaryCap.MP4\n",
      "/Users/patriciaskowronek/Documents/documentation_agent_few_shot_examples/benchmark_dataset/documentation/UltraSourceToESIsource_docuForgotCapillaryCap.MP4\n"
     ]
    },
    {
     "data": {
      "text/markdown": [
       "    - IonOpticks Column\n",
       "    - timsTOF SCP Mass Spectrometer\n",
       "        - Equipped with Apollo II ESI source\n",
       "    - Evosep One LC System\n",
       "        - with sample line\n",
       "    - Bottle with LC solvent\n",
       "    - Syringe with needle\n",
       "\n",
       "    Actions of the researcher in the video:\n",
       "    - Switches the timsTOF from \"Operate\" to \"Standby\" mode in timsControl software.\n",
       "    - Disconnects a separation column from a sample line.\n",
       "    - Opens the source door of the timsTOF by turning handles counter clockwise.\n",
       "    - Removes the UltraSource by pulling it out.\n",
       "    - Places the UltraSource on the table.\n",
       "    - Unscrews the capillary cap from the glass capillary.\n",
       "    - Cleans the capillary by flushing 1 mL of isopropanol:water (50:50) and 1 mL of acetonitrile through it using a syringe.\n",
       "    - Attaches the capillary cap to the glass capillary.\n",
       "    - Mounts the Apollo II ESI source by hinging it into place.\n",
       "    - Attaches the transfer line to the ESI source.\n",
       "    - Connects the syringe to the transfer line.\n",
       "    - Activates the ESI source and transitions to \"Operate\" mode in timsControl software.\n",
       "    \n",
       "    Compare the video content with the content and order of steps in each of the protocols. \n",
       "    List your answer as follows:\n",
       "    - Protocol 1: 5% & but different order of steps\n",
       "    - Protocol 2: 0% & but different order of steps\n",
       "    - Protocol 3: 20% & but different order of steps\n",
       "    - Protocol 4: 0% & but different order of steps\n",
       "    - Protocol 5: 0% & but different order of steps\n",
       "    - Protocol 6: 20% & but different order of steps\n",
       "    - Protocol 7: 95% & correct order of steps\n",
       "    - Protocol 8: 0% & but different order of steps\n",
       "    - Protocol 9: 5% & but different order of steps\n",
       "    - Protocol 10: 0% & but different order of steps\n",
       "\n",
       "    Protocol number: 7 \n"
      ],
      "text/plain": [
       "<IPython.core.display.Markdown object>"
      ]
     },
     "metadata": {},
     "output_type": "display_data"
    },
    {
     "name": "stdout",
     "output_type": "stream",
     "text": [
      "{'matches': True, 'video': 'UltraSourceToESIsource_docuForgotCapillaryCap.MP4', 'expected_protocol': '7', 'found_protocol': '7'}\n",
      "Processing video: PlaceEvotips_docuLiquidNotChecked.MP4\n",
      "/Users/patriciaskowronek/Documents/documentation_agent_few_shot_examples/benchmark_dataset/documentation/PlaceEvotips_docuLiquidNotChecked.MP4\n"
     ]
    },
    {
     "data": {
      "text/markdown": [
       "- **Equipment:**\n",
       "    - Evosep One LC system\n",
       "    - Evotip Pure tips\n",
       "    - Yellow tip box\n",
       "\n",
       "- **Actions:**\n",
       "    - Loads the Evotip Pure tips into a yellow tip box.\n",
       "    - Places the loaded tip box on the Evosep One LC system.\n",
       "\n",
       "- **Protocol Analysis:**\n",
       "    - Protocol 1: **100% overlap & correct order of steps.**\n",
       "    - Protocol 2: **20% overlap but different order of steps.**\n",
       "    - Protocol 3: **No content overlap.**\n",
       "    - Protocol 4: **No content overlap.**\n",
       "    - Protocol 5: **No content overlap.**\n",
       "    - Protocol 6: **No content overlap.**\n",
       "    - Protocol 7: **No content overlap.**\n",
       "    - Protocol 8: **No content overlap.**\n",
       "    - Protocol 9: **No content overlap.**\n",
       "    - Protocol 10: **No content overlap.**\n",
       "\n",
       "**Protocol number: 1**"
      ],
      "text/plain": [
       "<IPython.core.display.Markdown object>"
      ]
     },
     "metadata": {},
     "output_type": "display_data"
    },
    {
     "name": "stdout",
     "output_type": "stream",
     "text": [
      "{'matches': False, 'video': 'PlaceEvotips_docuLiquidNotChecked.MP4', 'expected_protocol': '2', 'found_protocol': '1'}\n",
      "Processing video: Evotip_docuWrongSpinInEvotipBox_wrongSpeed.MP4\n",
      "/Users/patriciaskowronek/Documents/documentation_agent_few_shot_examples/benchmark_dataset/documentation/Evotip_docuWrongSpinInEvotipBox_wrongSpeed.MP4\n"
     ]
    },
    {
     "data": {
      "text/markdown": [
       "- Equipment observed in the video:\n",
       "    - Evotip holders with solvent reservoir\n",
       "    - Two boxes of Evotips (one black, one transparent)\n",
       "    - Tabletop centrifuge\n",
       "    - Eppendorf multichannel pipette\n",
       "    - Pipette tip box\n",
       "\n",
       "- Actions performed in the researcher in the video:\n",
       "    - Balances two Evotip boxes on a balance by adding one extra Evotip to the lighter box\n",
       "    - Opens the lid of a tabletop centrifuge\n",
       "    - Places both Evotip boxes inside the centrifuge, each in a separate holder, at opposite positions\n",
       "    - Closes the centrifuge lid\n",
       "    - Enters spin settings on the centrifuge's control panel\n",
       "    - Starts the centrifuge\n",
       "\n",
       "- Comparison with provided protocols:\n",
       "    - Protocol 1: 5% & correct order of steps\n",
       "    - Protocol 2: 95% & correct order of steps\n",
       "    - Protocol 3: 0%\n",
       "    - Protocol 4: 0%\n",
       "    - Protocol 5: 20% & correct order of steps\n",
       "    - Protocol 6: 0%\n",
       "    - Protocol 7: 0%\n",
       "    - Protocol 8: 0%\n",
       "    - Protocol 9: 0%\n",
       "    - Protocol 10: 95% & correct order of steps\n",
       "\n",
       "Protocol number: 2 \n"
      ],
      "text/plain": [
       "<IPython.core.display.Markdown object>"
      ]
     },
     "metadata": {},
     "output_type": "display_data"
    },
    {
     "name": "stdout",
     "output_type": "stream",
     "text": [
      "{'matches': False, 'video': 'Evotip_docuWrongSpinInEvotipBox_wrongSpeed.MP4', 'expected_protocol': '10', 'found_protocol': '2'}\n",
      "Success rate: 44.83%\n"
     ]
    }
   ],
   "source": [
    "example_video_path = \"/Users/patriciaskowronek/Documents/documentation_agent_few_shot_examples/benchmark_dataset/unused/DisconnectingColumn_docuWithoutStandby_2.MP4\"\n",
    "example_video_uri = video_to_protocol.upload_video_to_gcs(example_video_path, bucket, \"protocol_finder_2\")\n",
    "example_video_path_2 = \"/Users/patriciaskowronek/Documents/documentation_agent_few_shot_examples/benchmark_dataset/unused/QueueSamples_docuCorrect_2.mov\"\n",
    "example_video_uri_2 = video_to_protocol.upload_video_to_gcs(example_video_path_2, bucket, \"protocol_finder_2\")\n",
    "\n",
    "example_video_input = [\n",
    "    \"EXAMPLE SECTION:\",\n",
    "    \"Eample Video 1:\",\n",
    "    Part.from_uri(example_video_uri, mime_type=\"video/mp4\"),\n",
    "    \"Example Response 1:\",\n",
    "    \"\"\"\n",
    "    The researcher in the video is using following equipment: \n",
    "    - IonOpticks Column\n",
    "    - timsTOF Mass Spectrometer\n",
    "        - Equipped with UltraSource ion source\n",
    "    - Evosep One LC System\n",
    "        - with sample line\n",
    "    - NanoViper Adapter (black)\n",
    "        - Pliers\n",
    "\n",
    "    Actions of the researcher in the video:\n",
    "    - Opens the lid of a column oven.\n",
    "    - Loosened the securing screw at the sample line - column connection. Lifts it up and moved the metal grounding screw away from the column-sample line connection.\n",
    "    - Attaches the NanoViper adapter to the sample line for easier handling.\n",
    "    - Helds the column fitting with pliers for easier handling.\n",
    "    - Unscrews the NanoViper connector to detach the sample line from the IonOpticks column by turning it counter clock-wise.\n",
    "    - Positions the sample line ensuring it formed a gentle curve. Placs it over the transparent bumper of the Evosep.\n",
    "    \n",
    "    Compare the video content with the content and order of steps in each of the protocols. \n",
    "    List your answer as follows:\n",
    "    - Protocol 1: No content overlap. \n",
    "    - Protocol 2: No content overlap. \n",
    "    - Protocol 3: Overlap in content 95% & correct order of steps \n",
    "    - Protocol 4: No content overlap. \n",
    "    - Protocol 5: No content overlap. \n",
    "    - Protocol 6: Overlap in content 50%, but different order of steps.\n",
    "    - Protocol 7: Overlap in content 20%, but different order of steps.\n",
    "    - Protocol 8: No content overlap. \n",
    "    - Protocol 9: No content overlap. \n",
    "    - Protocol 10: No content overlap. \n",
    "\n",
    "    Which protocol matches best?\n",
    "    Protocol number: 3 since it's content has the highest overlap and the order of steps matches best.\"\"\",\n",
    "\n",
    "    \"Eample Video 2:\",\n",
    "    Part.from_uri(example_video_uri_2, mime_type=\"video/mov\"),\n",
    "    \"Example Response 2:\",\n",
    "    \"\"\"\n",
    "    The researcher in the video is using following equipment: \n",
    "    - software: HyStar 6.0\n",
    "\n",
    "    Actions of the researcher in the video:\n",
    "    - Navigates to the 'Acquisition' tab in Hystar software.\n",
    "    - Selects an existing sample table by pressing the arrow down button when hovering over the sample table name.\n",
    "    - Copies existing sample table entries for modification.\n",
    "    - Adjusts the sample ID following a specific naming pattern.\n",
    "    - Queues analysis runs in sequence: one blank, three dda-PASEF runs, three dia-PASEF runs, and a final blank.\n",
    "    - Verifies column autocompletion settings through right-click menu, ensuring proper tray configuration.\n",
    "    - Specifies Evotip positions by selecting the first position and using drag-to-fill functionality for remaining samples.\n",
    "    - Checks the storage path folder for raw files.\n",
    "    - Verifies the separation method settings.\n",
    "    - Confirms injection method is set to 'standard'.\n",
    "    - Adjusts dda-PASEF and dia-PASEF maintenance methods to match sample IDs.\n",
    "    - Stops the idle flow on the Evosep system through right-click menu option.\n",
    "    - Saves the updated sample table.\n",
    "    - Uploads sample conditions by right-clicking the top row to verify proper loading of LC and MS methods.\n",
    "    - Initiates the sequence by pressing the 'start' and 'start sequence' buttons.\n",
    "    \n",
    "    Compare the video content with the content and order of steps in each of the protocols. \n",
    "    List your answer as follows:\n",
    "    - Protocol 1: Overlap in content 100% & correct order of steps \n",
    "    - Protocol 2: No content overlap. \n",
    "    - Protocol 3: No content overlap. \n",
    "    - Protocol 4: No content overlap. \n",
    "    - Protocol 5: Overlap in content 5%.  \n",
    "    - Protocol 6: No content overlap. \n",
    "    - Protocol 7: No content overlap. \n",
    "    - Protocol 8: No content overlap. \n",
    "    - Protocol 9: No content overlap. \n",
    "    - Protocol 10: No content overlap. \n",
    "\n",
    "    Which protocol matches best?\n",
    "    Protocol number: 1 since it's content has the highest overlap and the order of steps matches best.\n",
    "\n",
    "    END OF EXAMPLE SECTION\n",
    "    \"\"\",\n",
    "]\n",
    "system_prompt = [\"\"\"\n",
    "    You are Professor Matthias Mann, a pioneering scientist in proteomics and mass spectrometry with extensive laboratory experience.\n",
    "    You have planty of documents that youonly use to look how the equipment is called exactly.\"\"\"]\n",
    "\n",
    "# Upload knowledge files to Google Cloud Storage\n",
    "folder_path = \"/Users/patriciaskowronek/Documents/documentation_agent_few_shot_examples/knowledge_base\"\n",
    "subfolder_in_bucket = \"knowledge\"\n",
    "\n",
    "knowledge_uris = []\n",
    "for filename in os.listdir(folder_path):\n",
    "    if filename.lower().endswith(\n",
    "        (\".jpg\", \".jpeg\", \".gif\", \".bmp\", \".tiff\", \".tif\", \".pdf\")\n",
    "    ):\n",
    "        path = Path(folder_path) / filename\n",
    "        try:\n",
    "            file_uri = video_to_protocol.upload_video_to_gcs(\n",
    "                path, bucket, subfolder_in_bucket\n",
    "            )\n",
    "            knowledge_uris.append(file_uri)\n",
    "        except OSError as e:\n",
    "            print(f\"Error processing {filename}: {e}\")\n",
    "MIME_TYPES = {\n",
    "    \".pdf\": \"application/pdf\",\n",
    "    \".jpg\": \"image/jpeg\",\n",
    "    \".jpeg\": \"image/jpeg\",\n",
    "    \".png\": \"image/png\",\n",
    "}\n",
    "contents = []\n",
    "for file_path in knowledge_uris:\n",
    "        path_obj = Path(file_path)\n",
    "        file_ext = path_obj.suffix.lower()\n",
    "\n",
    "        if file_ext in MIME_TYPES:\n",
    "            mime_type = MIME_TYPES[file_ext]\n",
    "            contents.append(Part.from_uri(file_path, mime_type=mime_type))\n",
    "\n",
    "\n",
    "                 \n",
    "system_prompt_1 = [\"\"\"\n",
    "    Your task is to analyze a video showing a laboratory procedure and identify which protocol from a provided list accurately describes the step being performed.\n",
    "    \n",
    "    I will first provide you with an EXAMPLE (video, and response). \n",
    "\"\"\"]\n",
    "system_prompt_2 = [\"\"\"\n",
    "    FORMATTING INSTRUCTIONS:\n",
    "    1. Always begin your analysis by listing the equipment observed in the video using bullet points.\n",
    "    2. Then describe the actions performed in the video using bullet points.\n",
    "    3. Compare the video content with each protocol using this exact format:\n",
    "    - Protocol 1: [Overlap percentage]% [& correct order of steps OR but different order of steps]\n",
    "    - Protocol 2: [Overlap percentage]% [& correct order of steps OR but different order of steps]\n",
    "    [Continue for all protocols]\n",
    "    4. Conclude with a clear statement using this exact format:\n",
    "    \"Protocol number: X\" where X is the number of the best matching protocol.\n",
    "    5. If no protocol matches, explicitly state \"Protocol number: None\".\n",
    "    6. Do not include any explanatory text after stating the protocol number.\n",
    "                   \n",
    "    YOUR TASK SECTION:\n",
    "    Now, I provide you with the actuall 'lab video'. Follow the thought process in the example to analyze the video and match it to the selection of protocols.\n",
    "\"\"\"]\n",
    "protocol_intro= [\"Protocols:\"]\n",
    "\n",
    "csv_path = \"/Users/patriciaskowronek/Documents/documentation_agent_few_shot_examples/benchmark_dataset/Link_protocol_lab_video.csv\"\n",
    "\n",
    "validation_list = list()\n",
    "for video in video_parts: \n",
    "    print(f\"Processing video: {video}\")\n",
    "    video_path = video_parts[video][\"path\"]\n",
    "\n",
    "    order = [system_prompt, contents, system_prompt_1, example_video_input, system_prompt_2, video_parts[video][\"part\"], protocol_intro, protocol_input]\n",
    "    model_input = list()\n",
    "    for input in order:\n",
    "        model_input.extend(input)\n",
    "\n",
    "    result = identify_protocol_from_video(\n",
    "        model_input,\n",
    "        model_name=\"gemini-1.5-pro-001\", \n",
    "        temperature=0.9\n",
    "    )\n",
    "\n",
    "    # print(result[\"usage_metadata\"])\n",
    "    print(result[\"video_path\"])\n",
    "    display(result[\"markdown_observation\"]) \n",
    "\n",
    "    result_validation = validate_protocol_number(video_path, csv_path, result[\"observation\"])\n",
    "    print(result_validation)\n",
    "    validation_list.append(result_validation[\"matches\"])\n",
    "\n",
    "success_ratio = sum(validation_list) / len(validation_list) if len(validation_list) > 0 else 0\n",
    "print(f\"Success rate: {success_ratio:.2%}\")"
   ]
  },
  {
   "cell_type": "code",
   "execution_count": null,
   "metadata": {},
   "outputs": [],
   "source": []
  }
 ],
 "metadata": {
  "kernelspec": {
   "display_name": "docu_test",
   "language": "python",
   "name": "python3"
  },
  "language_info": {
   "codemirror_mode": {
    "name": "ipython",
    "version": 3
   },
   "file_extension": ".py",
   "mimetype": "text/x-python",
   "name": "python",
   "nbconvert_exporter": "python",
   "pygments_lexer": "ipython3",
   "version": "3.9.21"
  }
 },
 "nbformat": 4,
 "nbformat_minor": 2
}
