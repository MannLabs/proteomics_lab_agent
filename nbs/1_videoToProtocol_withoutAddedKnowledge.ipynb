{
 "cells": [
  {
   "cell_type": "markdown",
   "metadata": {},
   "source": [
    "# Documentation assistent\n",
    "\n",
    "This notebook demonstrates a documentation assistent:\n",
    "1. Video-to-protocol conversion using Vertex AI\n",
    "2. Without feeding the Gen AI model with knowledge\n"
   ]
  },
  {
   "cell_type": "code",
   "execution_count": 1,
   "metadata": {},
   "outputs": [],
   "source": [
    "# %pip install google-cloud-storage\n",
    "# %pip install --upgrade --user --quiet google-cloud-aiplatform"
   ]
  },
  {
   "cell_type": "code",
   "execution_count": 2,
   "metadata": {},
   "outputs": [
    {
     "data": {
      "text/plain": [
       "['../secrets.ini']"
      ]
     },
     "execution_count": 2,
     "metadata": {},
     "output_type": "execute_result"
    }
   ],
   "source": [
    "# %load_ext autoreload\n",
    "%reload_ext autoreload\n",
    "%autoreload 2\n",
    "\n",
    "import configparser\n",
    "import os\n",
    "\n",
    "from IPython.display import Markdown\n",
    "\n",
    "# path_to_append = Path(Path.cwd()).parent / \"proteomics_specialist\"\n",
    "# sys.path.append(str(path_to_append))\n",
    "# import documentation_agent as doc_agent\n",
    "\n",
    "config = configparser.ConfigParser()\n",
    "config.read(\"../secrets.ini\")"
   ]
  },
  {
   "cell_type": "code",
   "execution_count": 3,
   "metadata": {},
   "outputs": [],
   "source": [
    "import configparser\n",
    "\n",
    "import vertexai\n",
    "\n",
    "config = configparser.ConfigParser()\n",
    "config.read(\"../secrets.ini\")\n",
    "\n",
    "PROJECT_ID = config[\"DEFAULT\"][\"PROJECT_ID\"]\n",
    "vertexai.init(project=PROJECT_ID, location=\"europe-west9\")  # europe-west9 is Paris"
   ]
  },
  {
   "cell_type": "code",
   "execution_count": 4,
   "metadata": {},
   "outputs": [
    {
     "name": "stdout",
     "output_type": "stream",
     "text": [
      "Video uploaded to: gs://mannlab_videos/Connect_ionOpticks_column.mp4\n"
     ]
    }
   ],
   "source": [
    "# Upload video with Vertex AI\n",
    "\n",
    "from google.cloud import storage\n",
    "\n",
    "# 1. Set Project ID\n",
    "os.environ[\"GOOGLE_CLOUD_PROJECT\"] = config[\"DEFAULT\"][\"PROJECT_ID\"]\n",
    "\n",
    "# 2. Initialize Cloud Storage client\n",
    "storage_client = storage.Client()\n",
    "bucket_name = \"mannlab_videos\"\n",
    "bucket = storage_client.bucket(bucket_name)\n",
    "\n",
    "# 3. Upload the video to Cloud Storage\n",
    "video_path = \"/Users/patriciaskowronek/Documents/documentation_agent_few_shot_examples/ready_examples/Disconnect_IonOpticks_column_from_sample_line.mp4\"  # Path to your local video file\n",
    "blob_name = (\n",
    "    \"Connect_ionOpticks_column.mp4\"  # Desired name for the video in Cloud Storage\n",
    ")\n",
    "blob = bucket.blob(blob_name)\n",
    "blob.upload_from_filename(video_path)\n",
    "\n",
    "# 4. Get the Cloud Storage URI\n",
    "video_uri = f\"gs://{bucket_name}/{blob_name}\"\n",
    "print(f\"Video uploaded to: {video_uri}\")"
   ]
  },
  {
   "cell_type": "code",
   "execution_count": 5,
   "metadata": {},
   "outputs": [],
   "source": [
    "prompt = \"\"\"\n",
    "You are a highly observant research assistant in Professor Matthias Mann's proteomics and mass spectrometry laboratory. Your expertise lies in detailed documentation of experimental procedures.\n",
    "\n",
    "Analyze the video and reconstruct a step-by-step protocol by focusing on the actions in the video. Focus on user interactions with equipment, devices, and software. The goal is a clear, concise, unambiguous protocol reproducible by someone with no prior knowledge. \"Think aloud\" as if you were the researcher in the video that describes their work. Describe what you see at every secound. Take deep breath and think step-by-step. Answer direct.\n",
    "\n",
    "For each action, describe:\n",
    "\n",
    "* **Timestamp:** [timestamp]\n",
    "* **Action:** [Specific Action/Change Observed (Include details of tools used, and observable results. (e.g., opening a lid, pressing a button, turning a knob, screwing/unscrewing, connecting/disconnecting, etc.))]\n",
    "\n",
    "**Example:**\n",
    "[02:15] timsControl Software: Mode changed from \"Operate\" to \"Standby\" by clicking the power button.\n",
    "[03:45] Ion Source: NanoViper connector disconnected by unscrewing the nut counterclockwise.\n",
    "\n",
    "\"\"\""
   ]
  },
  {
   "cell_type": "code",
   "execution_count": 6,
   "metadata": {},
   "outputs": [
    {
     "name": "stdout",
     "output_type": "stream",
     "text": [
      "prompt_token_count: 14221\n",
      "candidates_token_count: 470\n",
      "total_token_count: 14691\n",
      "prompt_tokens_details {\n",
      "  modality: VIDEO\n",
      "  token_count: 13965\n",
      "}\n",
      "prompt_tokens_details {\n",
      "  modality: TEXT\n",
      "  token_count: 256\n",
      "}\n",
      "candidates_tokens_details {\n",
      "  modality: TEXT\n",
      "  token_count: 470\n",
      "}\n",
      "\n"
     ]
    },
    {
     "data": {
      "text/markdown": [
       "Okay, let's break down the video step-by-step.  I'll describe each action as it happens.\n",
       "\n",
       "**[00:00-00:07]**: The video starts with a view of a computer screen displaying a chromatogram and other data, likely from mass spectrometry software. A blue nitrile glove lies on the desk next to a keyboard and mouse. The computer is connected to a black desktop tower labeled \"Innacopia\".  No actions are taken during this time.\n",
       "\n",
       "**[00:08-00:11]**: The camera pans to show the laboratory environment, including other equipment and lab benches.  The camera moves to a different bench.\n",
       "\n",
       "**[00:12-00:13]**: The camera focuses on a piece of equipment, possibly a nano-flow HPLC system.  The researcher's hand approaches the equipment.\n",
       "\n",
       "**[00:14-00:32]**: The researcher connects a very thin capillary tubing (likely a nano-ESI emitter) to the ion source of a mass spectrometer. This involves careful manipulation to ensure a secure connection. The emitter is guided into a small opening and appears to be secured by a small screw mechanism.\n",
       "\n",
       "**[00:33-00:39]**: The researcher uses a pair of needle-nose pliers to further secure the capillary tubing connection at the ion source.  This suggests a need for precise positioning and a firm connection.\n",
       "\n",
       "**[00:40-00:43]**: The researcher removes the excess length of the capillary tubing and places it into a small yellow waste container.\n",
       "\n",
       "**[00:44-00:49]**: The camera pans away from the mass spectrometer, showing a general view of the lab again, and then back to the computer. No further actions are performed on the equipment.\n",
       "\n",
       "\n",
       "This protocol describes the connection of a nano-ESI emitter to a mass spectrometer's ion source.  The use of pliers suggests that a very secure connection is crucial for successful analysis. The careful handling of the emitter indicates its fragility and the importance of preventing damage.  Further steps would involve sample loading and initiating the mass spectrometry analysis via the computer software.\n"
      ],
      "text/plain": [
       "<IPython.core.display.Markdown object>"
      ]
     },
     "execution_count": 6,
     "metadata": {},
     "output_type": "execute_result"
    }
   ],
   "source": [
    "# Code from: https://cloud.google.com/vertex-ai/generative-ai/docs/multimodal/video-understanding\n",
    "import vertexai\n",
    "from vertexai.generative_models import GenerativeModel, Part\n",
    "\n",
    "inputs = [\n",
    "    prompt,\n",
    "    \"Input Video:\",\n",
    "    Part.from_uri(video_uri, mime_type=\"video/mp4\"),\n",
    "    \"Observations:\",\n",
    "]\n",
    "model = GenerativeModel(\"gemini-1.5-flash-002\")\n",
    "response = model.generate_content(inputs, generation_config={\"temperature\": 0})\n",
    "observation = response.text\n",
    "print(response.usage_metadata)\n",
    "Markdown(observation)"
   ]
  },
  {
   "cell_type": "code",
   "execution_count": null,
   "metadata": {},
   "outputs": [],
   "source": []
  }
 ],
 "metadata": {
  "kernelspec": {
   "display_name": "docu_test",
   "language": "python",
   "name": "python3"
  },
  "language_info": {
   "codemirror_mode": {
    "name": "ipython",
    "version": 3
   },
   "file_extension": ".py",
   "mimetype": "text/x-python",
   "name": "python",
   "nbconvert_exporter": "python",
   "pygments_lexer": "ipython3",
   "version": "3.9.21"
  }
 },
 "nbformat": 4,
 "nbformat_minor": 2
}
