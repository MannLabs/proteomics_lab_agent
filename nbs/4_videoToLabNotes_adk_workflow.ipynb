{
 "cells": [
  {
   "cell_type": "markdown",
   "id": "d9dadd7f",
   "metadata": {},
   "source": [
    "# Documentation assistant\n",
    "\n",
    "This notebook demonstrates a documentation assistant: Video-to-documentation conversion using Google GenAi\n",
    "\n",
    "Converting videos-to-documentation involves following steps: \n",
    "\n",
    "## Protocol finder:\n",
    "1. Video_analyzer_agent: Analyzes video to get the laboratory procedure that can be compared with protocols on Confluence.\n",
    "2. Protocol_agent: Select protocol name which best captures the actions being performed in the video\n",
    "\n",
    "## Lab note generator:\n",
    "3. Video comparing to ground-of-truth protocol → lab documentation + errors in procedure\n",
    "4. Analytics based on benchmark dataset: automatic comparison of errors found by documentation assistent vs actual errors\n"
   ]
  },
  {
   "cell_type": "code",
   "execution_count": null,
   "id": "505c472d",
   "metadata": {},
   "outputs": [],
   "source": [
    "from __future__ import annotations\n",
    "\n",
    "%reload_ext autoreload\n",
    "%autoreload 2\n",
    "\n",
    "import sys\n",
    "from pathlib import Path\n",
    "\n",
    "path_to_append = Path(Path.cwd()).parent\n",
    "sys.path.append(str(path_to_append))\n",
    "from proteomics_specialist.sub_agents.video_analyzer_agent import agent"
   ]
  },
  {
   "cell_type": "code",
   "execution_count": null,
   "id": "7fc49137",
   "metadata": {},
   "outputs": [],
   "source": [
    "# Step 1: Analyzing video to get the laboratory procedure\n",
    "\n",
    "test_cases = [\n",
    "    # 'Video path: /Users/patriciaskowronek/Documents/documentation_agent_few_shot_examples/benchmark_dataset/documentation/DisconnectingColumn_docuCorrect.MP4. Analyze the video.',\n",
    "    # \"Analyse this video: \\\"/Users/patriciaskowronek/Documents/documentation_agent_few_shot_examples/benchmark_dataset/documentation/DisconnectingColumn_docuCorrect.MP4\\\".\",\n",
    "    # 'Analyse this video: \"gs://ai-proteomics-advisor/input_video/ConnectingColumnSampleLine_docuWithoutStandbyANDtimsControl.mp4\". What is happening?',\n",
    "    # 'Analyse this video: \"gs://ai-proteomics-advisor/input_video/ConnectingColumnSampleLine_docuWithoutStandbyANDtimsControl.mp4\".',\n",
    "    \"gs://ai-proteomics-advisor/input_video/ConnectingColumnSampleLine_docuWithoutStandbyANDtimsControl.mp4\",\n",
    "    # 'Analyse this video: \"/Users/patriciaskowronek/Downloads/ultra_short.mp4\".. What is happening?',\n",
    "    # '\"\"/Users/patriciaskowronek/Downloads/ultra_short.mp4\".\"',\n",
    "    # '\"/Users/patriciaskowronek/Downloads/ultra_short.mp4\".',\n",
    "    # \"Check this document.pdf for errors.\",\n",
    "    # \"Analyse this video: . what is happening.\",\n",
    "]\n",
    "\n",
    "for test in test_cases:\n",
    "    result = agent.analyze_proteomics_video(test)\n",
    "    print(result)\n",
    "    print()"
   ]
  }
 ],
 "metadata": {
  "kernelspec": {
   "display_name": "agent_workflow",
   "language": "python",
   "name": "python3"
  },
  "language_info": {
   "codemirror_mode": {
    "name": "ipython",
    "version": 3
   },
   "file_extension": ".py",
   "mimetype": "text/x-python",
   "name": "python",
   "nbconvert_exporter": "python",
   "pygments_lexer": "ipython3",
   "version": "3.13.5"
  }
 },
 "nbformat": 4,
 "nbformat_minor": 5
}
