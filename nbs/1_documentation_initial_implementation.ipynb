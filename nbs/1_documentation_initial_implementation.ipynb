{
 "cells": [
  {
   "cell_type": "markdown",
   "metadata": {},
   "source": [
    "# Documention Agent\n",
    "\n",
    "This notebook demonstrates a documention agent:\n",
    "1. Video-to-protocol conversion using Gemini API\n",
    "2. Gradio web interface for documention agent"
   ]
  },
  {
   "cell_type": "code",
   "execution_count": 1,
   "metadata": {},
   "outputs": [],
   "source": [
    "# %load_ext autoreload\n",
    "%reload_ext autoreload\n",
    "%autoreload 2\n",
    "\n",
    "import os\n",
    "import sys\n",
    "from pathlib import Path\n",
    "\n",
    "from IPython.display import Markdown\n",
    "\n",
    "path_to_append = Path(Path.cwd()).parent / \"proteomics_specialist\"\n",
    "sys.path.append(str(path_to_append))\n",
    "import documentation_agent as doc_agent"
   ]
  },
  {
   "cell_type": "code",
   "execution_count": 2,
   "metadata": {},
   "outputs": [],
   "source": [
    "# !pip install -q -U google-generativeai\n",
    "# !pip install gradio"
   ]
  },
  {
   "cell_type": "code",
   "execution_count": 3,
   "metadata": {},
   "outputs": [],
   "source": [
    "import configparser\n",
    "\n",
    "import google.generativeai as genai\n",
    "\n",
    "config = configparser.ConfigParser()\n",
    "config.read(\"../secrets.ini\")\n",
    "\n",
    "api_key = config[\"DEFAULT\"][\"API_KEY\"]\n",
    "\n",
    "genai.configure(api_key=api_key)"
   ]
  },
  {
   "cell_type": "code",
   "execution_count": 4,
   "metadata": {},
   "outputs": [],
   "source": [
    "# Test if the API Key is working\n",
    "\n",
    "# model = genai.GenerativeModel(\"gemini-1.5-flash\")  # Use the Gemini model\n",
    "\n",
    "# response = model.generate_content(\"Hello, how are you?\")  # Send a prompt\n",
    "\n",
    "# print(response.text)  # Print the model's response"
   ]
  },
  {
   "cell_type": "code",
   "execution_count": 5,
   "metadata": {},
   "outputs": [],
   "source": [
    "# Define the prompts\n",
    "prompt_1 = \"Example Input video: \"\n",
    "prompt_2 = \"Example Output protocol:\"\n",
    "prompt_3 = \"Glossary:\"\n",
    "prompt_4 = \"\"\"\n",
    "You are Professor Matthias Mann, a pioneering scientist in proteomics and mass spectrometry. You are known for your methodological rigorand clear scientific writing, particularly in the style of Nature Protocols.\n",
    "Your task is to analyze the provided video and extract a detailed experimental protocol.\n",
    "You always stick to the facts in the sources provided, and never make up new facts.\n",
    "You use the terminology provided in the glossary accurately throughout your response.\n",
    "Take a deep breath and think step by step.\n",
    "Answer direct.\n",
    "\"\"\"\n",
    "prompt_5 = \"Input Video:\"\n",
    "prompt_6 = \"Output Protocol:\""
   ]
  },
  {
   "cell_type": "code",
   "execution_count": 9,
   "metadata": {},
   "outputs": [],
   "source": [
    "few_shot_example_folder = \"/Users/patriciaskowronek/Documents/documentation_agent_few_shot_examples/ready_examples/\"\n",
    "\n",
    "# Define the few shot example and domain knowldge\n",
    "video_file_name = Path(few_shot_example_folder, \"tims_calibration.mp4\")\n",
    "video_example = doc_agent.upload_video_and_wait(video_path=video_file_name)\n",
    "\n",
    "path_example = Path(few_shot_example_folder, \"tims_calibration.md\")\n",
    "file_example = doc_agent.read_and_encode_document(path_example)\n",
    "\n",
    "path_glossary = Path.resolve(Path(os.pardir, \"data\", \"glossary.md\"))\n",
    "glossary = doc_agent.read_and_encode_document(path_glossary)\n",
    "\n",
    "config = doc_agent.ProcessingConfig(\n",
    "    prompts=[prompt_1, prompt_2, prompt_3, prompt_4, prompt_5, prompt_6],\n",
    "    video_examples=[video_example],\n",
    "    file_examples=[file_example],\n",
    "    glossary=glossary,\n",
    ")"
   ]
  },
  {
   "cell_type": "code",
   "execution_count": 21,
   "metadata": {},
   "outputs": [
    {
     "name": "stderr",
     "output_type": "stream",
     "text": [
      "2025-03-06 11:08:18,366 - documentation_agent - INFO - Uploading file: /Users/patriciaskowronek/Documents/LlmProjectIdeas/Documentation/Trimmed_video.mov\n",
      "2025-03-06 11:08:20,542 - documentation_agent - INFO - Upload completed. File URI: https://generativelanguage.googleapis.com/v1beta/files/f0jjp39fx4ho\n",
      "2025-03-06 11:08:30,729 - documentation_agent - INFO - Video processing completed successfully\n"
     ]
    },
    {
     "name": "stdout",
     "output_type": "stream",
     "text": [
      "Unexpected exception formatting exception. Falling back to standard exception\n"
     ]
    },
    {
     "name": "stderr",
     "output_type": "stream",
     "text": [
      "Traceback (most recent call last):\n",
      "  File \"/Users/patriciaskowronek/Conda/miniconda3/envs/docu_test/lib/python3.9/site-packages/IPython/core/interactiveshell.py\", line 3526, in run_code\n",
      "    exec(code_obj, self.user_global_ns, self.user_ns)\n",
      "  File \"/var/folders/54/g1_1ycl12hl02xj_g_nm_6cm0000gn/T/ipykernel_84976/519042334.py\", line 10, in <module>\n",
      "    output, filename = doc_agent.process_video(video_path, config, cache_strategy=False)\n",
      "  File \"/Users/patriciaskowronek/Documents/proteomics_specialist/proteomics_specialist/documentation_agent.py\", line 215, in process_video\n",
      "    return _process_without_cache(processed_video, config, video_file)\n",
      "  File \"/Users/patriciaskowronek/Documents/proteomics_specialist/proteomics_specialist/documentation_agent.py\", line 368, in _process_without_cache\n",
      "    return _generate_response(\n",
      "  File \"/Users/patriciaskowronek/Documents/proteomics_specialist/proteomics_specialist/documentation_agent.py\", line 305, in _generate_response\n",
      "    response = model.generate_content(inputs, request_options=request_options)\n",
      "  File \"/Users/patriciaskowronek/Conda/miniconda3/envs/docu_test/lib/python3.9/site-packages/google/generativeai/generative_models.py\", line 305, in generate_content\n",
      "    request = self._prepare_request(\n",
      "  File \"/Users/patriciaskowronek/Conda/miniconda3/envs/docu_test/lib/python3.9/site-packages/google/generativeai/generative_models.py\", line 154, in _prepare_request\n",
      "    contents = content_types.to_contents(contents)\n",
      "  File \"/Users/patriciaskowronek/Conda/miniconda3/envs/docu_test/lib/python3.9/site-packages/google/generativeai/types/content_types.py\", line 333, in to_contents\n",
      "    contents = [to_content(contents)]\n",
      "  File \"/Users/patriciaskowronek/Conda/miniconda3/envs/docu_test/lib/python3.9/site-packages/google/generativeai/types/content_types.py\", line 296, in to_content\n",
      "    return protos.Content(parts=[to_part(part) for part in content])\n",
      "  File \"/Users/patriciaskowronek/Conda/miniconda3/envs/docu_test/lib/python3.9/site-packages/google/generativeai/types/content_types.py\", line 296, in <listcomp>\n",
      "    return protos.Content(parts=[to_part(part) for part in content])\n",
      "  File \"/Users/patriciaskowronek/Conda/miniconda3/envs/docu_test/lib/python3.9/site-packages/google/generativeai/types/content_types.py\", line 264, in to_part\n",
      "    return protos.Part(inline_data=to_blob(part))\n",
      "  File \"/Users/patriciaskowronek/Conda/miniconda3/envs/docu_test/lib/python3.9/site-packages/google/generativeai/types/content_types.py\", line 210, in to_blob\n",
      "    raise TypeError(\n",
      "TypeError: Could not create `Blob`, expected `Blob`, `dict` or an `Image` type(`PIL.Image.Image` or `IPython.display.Image`).\n",
      "Got a: <class 'google.genai.types.Part'>\n",
      "Value: video_metadata=None thought=None code_execution_result=None executable_code=None file_data=None function_call=None function_response=None inline_data=Blob(data=b'Title: Calibrate the TIMS device\\n\\n# Abstract\\n\\nThis protocol details how to calibrate a TIMS device in timsControl.\\n\\nImportant: We recommend to calibrate the TIMS device each time before a sample queue is started.\\n\\n# Materials\\n\\n## Software\\n\\n| Software | Version | Purpose | Source/Link |\\n|----------|----------|----------|------------|\\n| timsControl | 6.0 (latest) | Software to control timsTof mass spectrometers | Available on every instrument computer |\\n\\n# Procedure\\n\\n*Estimated timing: 3 minutes*\\n\\n**Critical step:** If the instrument has been operated with another source than the CaptiveSpray source, it is highly recommended to wait for 3 hours before initiating the TIMS calibration process. This waiting period permits the temperature and pressure to stabilise, thus ensuring a steady TIMS calibration.\\n\\n1. Use timsControl to load a performance evaluation method - a dda-PASEF method. Choose an ion mobility range that matches the ion mobility range intended for use in the study. More details in Figure 4. For proteomics experiments, we typically use an ion mobility range from 0.7 to 1.3 1/K\\xe2\\x82\\x80, hence the 1/K\\xe2\\x82\\x80 start and end values can be set to 0.7 and 1.3, respectively. This consistency in ion mobility range allows for the integration of dda-PASEF quality control (QC) runs into the sample table as reference points without necessitating recalibration of the TIMS tunnel.\\n\\n2. To specifically calibrate a narrow ion mobility range, activate the locked sign at 1/K\\xe2\\x82\\x80 end (Figure 1: 7). Following this, adjust the 1/K\\xe2\\x82\\x80 start from 0.7 to 0.85. This alters the ion mobility range from 0.7-1.3 1/K\\xe2\\x82\\x80 to 0.85-1.45 1/K\\xe2\\x82\\x80. The aim here is to shift the ion mobility range without modifying the interval, enabling all three calibrants to be used for calibration while maintaining a constant TIMS potential.\\n\\n3. Wait until the TIC in Chromatogram View is stable. This can take up to 15 minutes. Switch the scan mode to \\'MS\\', set MS averaging to 1 and deactivate the polygon heatmap (Figure 1: 4, 9, 14).\\n\\n4. In timsControl, navigate to \\'calibration\\', then \\'mobility\\'. From reference lists, select the list \\'[ESI] Tuning Mix ES-TOF (ESI)\\' that contains the calibrant masses 622, 922, 1221. Then, specify the linear mode and 5% as detection range and \\xc2\\xb10.1 Da as width (Figure 2).\\n\\n5. Proceed by selecting \\'calibrate\\' (Figure 2). Deselect all calibrants except 622, 922, and 1222 by right-clicking. To verify that the calibrants have been picked correctly at the center, click on them in the reference list. If they are not picked in the center, make adjustments by clicking on the peak in the TIMS view window. If the score is at 100%, press accept.\\n\\n6. Adjust the ion mobility range to its original values for instance 0.7-1.3 1/K\\xe2\\x82\\x80, reset the scan mode, set MS averaging to 1, and reactivate the polygon heatmap.\\n\\n# Expected Results\\n\\n- The score in the tab \"Calibration Mode\" should be at 100%\\n\\n# Troubleshooting\\n\\n| Problem | Possible Reason | Solution |\\n|---------|----------------|-----------|\\n| A weak Tuning Mix calibrant signal | Over time, the calibrant signal of the Tuning Mix may weaken to a point where they are barely visible in the Mobilogram (TIMS View) and in the mass spectrum. | (1) Check if the UltraSource has the gas flow correctly set (Table 1). (2) Cancel the calibration, put the instrument in standby mode, disconnect the filter tubing from the UltraSource (Figure 3), and inject 5 to 10 \\xc2\\xb5L (up to 40 \\xc2\\xb5L) of Tuning Mix directly into the UltraSource. Reattach the filter tubing and switch the instrument into operating mode. Consider increasing the MS averaging value up to a maximum of 30. Repeat this step until a strong calibrant signal is observed and allow a 1-minute pause after each addition of Tuning Mix. The Tuning Mix signal should be more dominant than the signals of common contaminants and reach a signal intensity of around 5x10\\xe2\\x81\\xb5. If a direct injection of in total 40 \\xc2\\xb5L of Tuning Mix does not significantly enhance the Tuning Mix signal, this may suggest another issue. |\\n\\n\\n# Figures\\n\\n## Figure 1: TimsControl settings \\n[Placeholder for TimsControl settings image showing the settings interface with labeled parameters 1-16]\\n\\n## Figure 2: Mass and ion mobility calibration\\n[Placeholder for mass and ion mobility calibration screenshots]\\n\\n## Figure 3: UltraSource\\n[Placeholder for UltraSource image showing:\\n- Front view with labeled components (A-H)\\n- Back view showing ITI component\\n- Door view showing components (A, J, H, K)]\\n\\n# Tables\\n\\n## Table 1: Gas Flow Parameters for UltraSource\\n\\n| Instrument Type | Calibrant 922 Voltage [V] |\\n|-----------------|-------------------------|\\n| timsTOF Pro, SCP | 160 |\\n| timsTOF HT, Ultra | 200 |\\n\\n# References\\n\\n1. toDO: Refer to user manual of timsTof\\n2. toDO: Maybe upload video which shows calibration in action', mime_type='text/md') text=None\n",
      "\n",
      "During handling of the above exception, another exception occurred:\n",
      "\n",
      "Traceback (most recent call last):\n",
      "  File \"/Users/patriciaskowronek/Conda/miniconda3/envs/docu_test/lib/python3.9/site-packages/IPython/core/interactiveshell.py\", line 2120, in showtraceback\n",
      "    stb = self.InteractiveTB.structured_traceback(\n",
      "  File \"/Users/patriciaskowronek/Conda/miniconda3/envs/docu_test/lib/python3.9/site-packages/IPython/core/ultratb.py\", line 1435, in structured_traceback\n",
      "    return FormattedTB.structured_traceback(\n",
      "  File \"/Users/patriciaskowronek/Conda/miniconda3/envs/docu_test/lib/python3.9/site-packages/IPython/core/ultratb.py\", line 1326, in structured_traceback\n",
      "    return VerboseTB.structured_traceback(\n",
      "  File \"/Users/patriciaskowronek/Conda/miniconda3/envs/docu_test/lib/python3.9/site-packages/IPython/core/ultratb.py\", line 1173, in structured_traceback\n",
      "    formatted_exception = self.format_exception_as_a_whole(etype, evalue, etb, number_of_lines_of_context,\n",
      "  File \"/Users/patriciaskowronek/Conda/miniconda3/envs/docu_test/lib/python3.9/site-packages/IPython/core/ultratb.py\", line 1088, in format_exception_as_a_whole\n",
      "    frames.append(self.format_record(record))\n",
      "  File \"/Users/patriciaskowronek/Conda/miniconda3/envs/docu_test/lib/python3.9/site-packages/IPython/core/ultratb.py\", line 970, in format_record\n",
      "    frame_info.lines, Colors, self.has_colors, lvals\n",
      "  File \"/Users/patriciaskowronek/Conda/miniconda3/envs/docu_test/lib/python3.9/site-packages/IPython/core/ultratb.py\", line 792, in lines\n",
      "    return self._sd.lines\n",
      "  File \"/Users/patriciaskowronek/Conda/miniconda3/envs/docu_test/lib/python3.9/site-packages/stack_data/utils.py\", line 145, in cached_property_wrapper\n",
      "    value = obj.__dict__[self.func.__name__] = self.func(obj)\n",
      "  File \"/Users/patriciaskowronek/Conda/miniconda3/envs/docu_test/lib/python3.9/site-packages/stack_data/core.py\", line 698, in lines\n",
      "    pieces = self.included_pieces\n",
      "  File \"/Users/patriciaskowronek/Conda/miniconda3/envs/docu_test/lib/python3.9/site-packages/stack_data/utils.py\", line 145, in cached_property_wrapper\n",
      "    value = obj.__dict__[self.func.__name__] = self.func(obj)\n",
      "  File \"/Users/patriciaskowronek/Conda/miniconda3/envs/docu_test/lib/python3.9/site-packages/stack_data/core.py\", line 649, in included_pieces\n",
      "    pos = scope_pieces.index(self.executing_piece)\n",
      "  File \"/Users/patriciaskowronek/Conda/miniconda3/envs/docu_test/lib/python3.9/site-packages/stack_data/utils.py\", line 145, in cached_property_wrapper\n",
      "    value = obj.__dict__[self.func.__name__] = self.func(obj)\n",
      "  File \"/Users/patriciaskowronek/Conda/miniconda3/envs/docu_test/lib/python3.9/site-packages/stack_data/core.py\", line 628, in executing_piece\n",
      "    return only(\n",
      "  File \"/Users/patriciaskowronek/Conda/miniconda3/envs/docu_test/lib/python3.9/site-packages/executing/executing.py\", line 164, in only\n",
      "    raise NotOneValueFound('Expected one value, found 0')\n",
      "executing.executing.NotOneValueFound: Expected one value, found 0\n"
     ]
    }
   ],
   "source": [
    "video_path = (\n",
    "    \"/Users/patriciaskowronek/Documents/LlmProjectIdeas/Documentation/Trimmed_video.mov\"\n",
    ")\n",
    "\n",
    "# Process video with caching\n",
    "# cache.delete()\n",
    "# output, filename = doc_agent.process_video(video_path, config)\n",
    "\n",
    "# Process video without caching\n",
    "output, filename = doc_agent.process_video(video_path, config, cache_strategy=False)\n",
    "\n",
    "doc_agent.generate_markdown_for_download(output, filename)\n",
    "\n",
    "print(filename)\n",
    "Markdown(output)"
   ]
  },
  {
   "cell_type": "code",
   "execution_count": 9,
   "metadata": {},
   "outputs": [
    {
     "name": "stderr",
     "output_type": "stream",
     "text": [
      "2025-01-28 18:22:19,356 - httpx - INFO - HTTP Request: GET https://api.gradio.app/gradio-messaging/en \"HTTP/1.1 200 OK\"\n",
      "2025-01-28 18:22:19,360 - httpx - INFO - HTTP Request: GET http://127.0.0.1:7860/startup-events \"HTTP/1.1 200 OK\"\n",
      "2025-01-28 18:22:19,370 - httpx - INFO - HTTP Request: HEAD http://127.0.0.1:7860/ \"HTTP/1.1 200 OK\"\n"
     ]
    },
    {
     "name": "stdout",
     "output_type": "stream",
     "text": [
      "Running on local URL:  http://127.0.0.1:7860\n",
      "\n",
      "To create a public link, set `share=True` in `launch()`.\n"
     ]
    },
    {
     "data": {
      "text/html": [
       "<div><iframe src=\"http://127.0.0.1:7860/\" width=\"100%\" height=\"500\" allow=\"autoplay; camera; microphone; clipboard-read; clipboard-write;\" frameborder=\"0\" allowfullscreen></iframe></div>"
      ],
      "text/plain": [
       "<IPython.core.display.HTML object>"
      ]
     },
     "metadata": {},
     "output_type": "display_data"
    },
    {
     "data": {
      "text/plain": []
     },
     "execution_count": 9,
     "metadata": {},
     "output_type": "execute_result"
    },
    {
     "name": "stderr",
     "output_type": "stream",
     "text": [
      "2025-01-28 18:22:19,494 - httpx - INFO - HTTP Request: GET https://checkip.amazonaws.com/ \"HTTP/1.1 200 \"\n",
      "2025-01-28 18:22:19,507 - httpx - INFO - HTTP Request: GET https://checkip.amazonaws.com/ \"HTTP/1.1 200 \"\n",
      "2025-01-28 18:22:20,114 - httpx - INFO - HTTP Request: GET https://api.gradio.app/pkg-version \"HTTP/1.1 200 OK\"\n",
      "2025-01-28 18:22:26,364 - documentation_agent - INFO - Uploading file: /private/var/folders/54/g1_1ycl12hl02xj_g_nm_6cm0000gn/T/gradio/570716d2985435122e0b104197f76b587c380ff40548f995f2f058999d9079e5/Trimmed_video.mov\n",
      "2025-01-28 18:22:28,433 - documentation_agent - INFO - Upload completed. File URI: https://generativelanguage.googleapis.com/v1beta/files/96s95c2btm8a\n",
      "2025-01-28 18:22:38,632 - documentation_agent - INFO - Video processing completed successfully\n",
      "2025-01-28 18:22:55,670 - documentation_agent - INFO - Model usage metadata: prompt_token_count: 57056\n",
      "candidates_token_count: 2174\n",
      "total_token_count: 59230\n",
      "cached_content_token_count: 52332\n",
      "\n"
     ]
    }
   ],
   "source": [
    "import documentation_agent as doc_agent\n",
    "import gradio as gr\n",
    "\n",
    "css = \"\"\"\n",
    "#top-title {font-size: 2rem; text-align: center; margin-bottom: 1rem;}\n",
    ".download-row {margin-top: 1rem; padding: 1rem; border-top: 1px solid #eee;}\n",
    "\"\"\"\n",
    "\n",
    "with gr.Blocks(css=css) as iface:\n",
    "    gr.HTML(\"\"\"\n",
    "        <h1 id=\"top-title\">Documentation agent</h1>\n",
    "    \"\"\")\n",
    "\n",
    "    with gr.Row():\n",
    "        video_input = gr.Video(label=\"Upload Video\")\n",
    "\n",
    "    gr.Markdown(\"# Protocol extracted from Video:\")\n",
    "\n",
    "    with gr.Row():\n",
    "        text_output = gr.Markdown(label=\"Output Text\")\n",
    "        filename_state = gr.State()\n",
    "\n",
    "    with gr.Row(elem_classes=\"download-row\"):\n",
    "        with gr.Column(scale=2):\n",
    "            download_button = gr.Button(\n",
    "                \"Generate Protocol\", variant=\"primary\", size=\"lg\"\n",
    "            )\n",
    "        with gr.Column(scale=3):\n",
    "            file_output = gr.File(\n",
    "                label=\"Download Protocol\", file_count=\"single\", type=\"filepath\"\n",
    "            )\n",
    "\n",
    "    video_input.change(\n",
    "        fn=lambda x: doc_agent.process_video(x, config),\n",
    "        inputs=video_input,\n",
    "        outputs=[text_output, filename_state],\n",
    "    )\n",
    "\n",
    "    download_button.click(\n",
    "        fn=doc_agent.generate_markdown_for_download,\n",
    "        inputs=[text_output, filename_state],\n",
    "        outputs=file_output,\n",
    "    )\n",
    "\n",
    "iface.launch()"
   ]
  },
  {
   "cell_type": "code",
   "execution_count": null,
   "metadata": {},
   "outputs": [],
   "source": []
  },
  {
   "cell_type": "code",
   "execution_count": null,
   "metadata": {},
   "outputs": [],
   "source": []
  }
 ],
 "metadata": {
  "kernelspec": {
   "display_name": "docu_test",
   "language": "python",
   "name": "python3"
  },
  "language_info": {
   "codemirror_mode": {
    "name": "ipython",
    "version": 3
   },
   "file_extension": ".py",
   "mimetype": "text/x-python",
   "name": "python",
   "nbconvert_exporter": "python",
   "pygments_lexer": "ipython3",
   "version": "3.9.21"
  }
 },
 "nbformat": 4,
 "nbformat_minor": 2
}
