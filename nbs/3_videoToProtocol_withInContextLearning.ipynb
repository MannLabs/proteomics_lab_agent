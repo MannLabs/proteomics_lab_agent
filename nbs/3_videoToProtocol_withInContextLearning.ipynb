{
 "cells": [
  {
   "cell_type": "markdown",
   "metadata": {},
   "source": [
    "# Documention Agent\n",
    "\n",
    "This notebook demonstrates a documention agent:\n",
    "1. Video-to-protocol conversion using Vertex AI\n",
    "2. With knowledge from documents and pictures that are loaded into cache"
   ]
  },
  {
   "cell_type": "code",
   "execution_count": 1,
   "metadata": {},
   "outputs": [],
   "source": [
    "# %pip install google-cloud-storage\n",
    "# %pip install --upgrade --user --quiet google-cloud-aiplatform"
   ]
  },
  {
   "cell_type": "code",
   "execution_count": 2,
   "metadata": {},
   "outputs": [
    {
     "data": {
      "text/plain": [
       "['../secrets.ini']"
      ]
     },
     "execution_count": 2,
     "metadata": {},
     "output_type": "execute_result"
    }
   ],
   "source": [
    "# %load_ext autoreload\n",
    "%reload_ext autoreload\n",
    "%autoreload 2\n",
    "\n",
    "import os\n",
    "import sys\n",
    "from pathlib import Path\n",
    "\n",
    "import configparser\n",
    "from IPython.display import Markdown\n",
    "\n",
    "path_to_append = Path(Path.cwd()).parent / \"proteomics_specialist\"\n",
    "sys.path.append(str(path_to_append))\n",
    "import videoToProtocol as video_to_protocol\n",
    "\n",
    "config = configparser.ConfigParser()\n",
    "config.read(\"../secrets.ini\")"
   ]
  },
  {
   "cell_type": "code",
   "execution_count": 3,
   "metadata": {},
   "outputs": [],
   "source": [
    "import configparser\n",
    "import vertexai\n",
    "\n",
    "config = configparser.ConfigParser()\n",
    "config.read(\"../secrets.ini\")\n",
    "\n",
    "PROJECT_ID = config[\"DEFAULT\"][\"PROJECT_ID\"]\n",
    "vertexai.init(project=PROJECT_ID, location=\"europe-west9\") # europe-west9 is Paris"
   ]
  },
  {
   "cell_type": "code",
   "execution_count": 4,
   "metadata": {},
   "outputs": [],
   "source": [
    "import os\n",
    "from google.cloud import storage\n",
    "\n",
    "os.environ[\"GOOGLE_CLOUD_PROJECT\"] = config[\"DEFAULT\"][\"PROJECT_ID\"]\n",
    "\n",
    "# Initialize Cloud Storage client\n",
    "storage_client = storage.Client()\n",
    "bucket_name = \"mannlab_videos\"\n",
    "bucket = storage_client.bucket(bucket_name)"
   ]
  },
  {
   "cell_type": "code",
   "execution_count": 5,
   "metadata": {},
   "outputs": [],
   "source": [
    "import datetime\n",
    "\n",
    "from vertexai.generative_models import Part\n",
    "from vertexai.preview import caching\n",
    "from vertexai.preview.generative_models import GenerativeModel\n",
    "\n",
    "MODEL_ID = \"gemini-1.5-pro-001\" \n",
    "\n",
    "# Following: https://github.com/GoogleCloudPlatform/generative-ai/blob/main/gemini/context-caching/intro_context_caching_vertex_ai_sdk.ipynb"
   ]
  },
  {
   "cell_type": "code",
   "execution_count": 6,
   "metadata": {},
   "outputs": [
    {
     "name": "stdout",
     "output_type": "stream",
     "text": [
      "Uploaded to: gs://mannlab_videos/knowledge/07a_Getting Started with NanoElute_Revision_F.pdf\n",
      "Uploaded to: gs://mannlab_videos/knowledge/Evosep-One-User-Guide-v18.pdf\n",
      "Uploaded to: gs://mannlab_videos/knowledge/01b(i)_Intro Trapped Ion Mobility_Pro2, fleX, HT_Revision_G.pdf\n",
      "Uploaded to: gs://mannlab_videos/knowledge/02a_Introduction to Electrospray Ionization_Revision_F.pdf\n",
      "Uploaded to: gs://mannlab_videos/knowledge/MSD-Queue and measure samples in HyStar-130225-101612.pdf\n",
      "Uploaded to: gs://mannlab_videos/knowledge/41596_2024_1104_Fig6_ESM.jpg\n",
      "Uploaded to: gs://mannlab_videos/knowledge/03a_TIMS-TOF Calibration with ESI Sources_Revision_F.pdf\n",
      "Uploaded to: gs://mannlab_videos/knowledge/07h_diagonal-PASEF_User_Guide_timsControl_Revision_A.pdf\n",
      "Uploaded to: gs://mannlab_videos/knowledge/41596_2024_1104_Fig7_ESM.jpg\n",
      "Uploaded to: gs://mannlab_videos/knowledge/MSD-Troubleshooting- Refilling Tuning Mix in the timsTOF Ultra UltraSource-130225-101559.pdf\n",
      "Uploaded to: gs://mannlab_videos/knowledge/04a_DataAnalysis Getting Started_Revision_F.pdf\n",
      "Uploaded to: gs://mannlab_videos/knowledge/07b_Shotgun Proteomics using timsTOF Pro and nanoElute_Revision_F.pdf\n",
      "Uploaded to: gs://mannlab_videos/knowledge/01b(iii)_Intro to Trapped Ion Mobility_timsTOF_Revision_B.pdf\n",
      "Uploaded to: gs://mannlab_videos/knowledge/05b_Getting Started with Elute (U)HPLC_Revision_F.pdf\n",
      "Uploaded to: gs://mannlab_videos/knowledge/04b_SmartFormula Manual and SF3D_Revision_F.pdf\n",
      "Uploaded to: gs://mannlab_videos/knowledge/07c_timsControl PASEF Method Parameters_Revision_F.pdf\n",
      "Uploaded to: gs://mannlab_videos/knowledge/05a_Quick Start Guide for Hystar_Revision_F.pdf\n",
      "Uploaded to: gs://mannlab_videos/knowledge/01c_Introduction to Bruker Software_Revision_F.pdf\n",
      "Uploaded to: gs://mannlab_videos/knowledge/07g_prm-PASEF user_guide_Revision B.pdf\n",
      "Uploaded to: gs://mannlab_videos/knowledge/Mantis_Troubleshooting.pdf\n",
      "Uploaded to: gs://mannlab_videos/knowledge/0b_Training Documents timsTOFs_Revision_F.pdf\n",
      "Uploaded to: gs://mannlab_videos/knowledge/07f_Intro to BioPharma Compass_Revision_F.pdf\n",
      "Uploaded to: gs://mannlab_videos/knowledge/0a_Help Support_Revision_F.pdf\n",
      "Uploaded to: gs://mannlab_videos/knowledge/04d_Report Designer_Revision_F.pdf\n",
      "Uploaded to: gs://mannlab_videos/knowledge/41596_2024_1104_Fig8_ESM.jpg\n",
      "Uploaded to: gs://mannlab_videos/knowledge/02b_Further Ionization Techniques_Revision_F.pdf\n",
      "Uploaded to: gs://mannlab_videos/knowledge/figure-3-1.jpg\n",
      "Uploaded to: gs://mannlab_videos/knowledge/01b(ii)_Intro Trapped Ion Mobility_SCP, Ultra, Ultra 2_Revision_B.pdf\n",
      "Uploaded to: gs://mannlab_videos/knowledge/02c_Introduction to Nano Electrospray Interfaces_Revision_E.pdf\n",
      "Uploaded to: gs://mannlab_videos/knowledge/41596_2024_1104_Fig9_ESM.jpg\n",
      "Uploaded to: gs://mannlab_videos/knowledge/MSD-Disconnecting a IonOpticks column from an Evosep System-130225-101544.pdf\n",
      "Uploaded to: gs://mannlab_videos/knowledge/04c_FragmentationExplorer_Revision_F.pdf\n",
      "Uploaded to: gs://mannlab_videos/knowledge/03b_TIMS-TOF Calibration with NanoSpray Sources_Revision_E.pdf\n",
      "Uploaded to: gs://mannlab_videos/knowledge/Mantis_Instrument Overview.pdf\n",
      "Uploaded to: gs://mannlab_videos/knowledge/06a_LCMSMS Analysis of Polyphenols in Green Tea_Revison_F.pdf\n",
      "Uploaded to: gs://mannlab_videos/knowledge/s41596-024-01104-w.pdf\n",
      "Uploaded to: gs://mannlab_videos/knowledge/07e_Workflow for the Analysis of Intact Proteins_Revision_F.pdf\n",
      "Uploaded to: gs://mannlab_videos/knowledge/03c_Good Working Conditions & Maintenance_Revision_F.pdf\n",
      "Uploaded to: gs://mannlab_videos/knowledge/06d_Stepping Strategies in Small Molecule Research_Revision_G.pdf\n",
      "Uploaded to: gs://mannlab_videos/knowledge/ConnectingIonOpticksColumn.pdf\n",
      "Uploaded to: gs://mannlab_videos/knowledge/MSD-Placing Evotips in Evotip Boxes on the Evosep One System-130225-101519.pdf\n",
      "Uploaded to: gs://mannlab_videos/knowledge/Mantis_QuickStartGuide.pdf\n",
      "Uploaded to: gs://mannlab_videos/knowledge/Evotip_PR-001C-Sample-loading-protocolWEB.pdf\n",
      "Uploaded to: gs://mannlab_videos/knowledge/figure-2-2.jpg\n",
      "Uploaded to: gs://mannlab_videos/knowledge/41596_2024_1104_MOESM2_ESM.pdf\n",
      "Uploaded to: gs://mannlab_videos/knowledge/07d_dia-PASEF_User_Guide_timsControl_Revision_F.pdf\n",
      "Uploaded to: gs://mannlab_videos/knowledge/06b_timsTOF An Application Example_Revision_F.pdf\n",
      "Uploaded to: gs://mannlab_videos/knowledge/figure-2-1.jpg\n",
      "Uploaded to: gs://mannlab_videos/knowledge/MSD-Calibrate the TIMS device-130225-101451.pdf\n",
      "Uploaded to: gs://mannlab_videos/knowledge/06e_HowTo Nanoflow Lipidomics_Revision_C.pdf\n",
      "Uploaded to: gs://mannlab_videos/knowledge/01a_Introduction to QTOF Series_Revision_F.pdf\n"
     ]
    }
   ],
   "source": [
    "# Upload knowledge files to Google Cloud Storage\n",
    "folder_path = '/Users/patriciaskowronek/Documents/documentation_agent_few_shot_examples/knowledge_base'\n",
    "subfolder_in_bucket = \"knowledge\"\n",
    "\n",
    "knowledge_uris=[]\n",
    "for filename in os.listdir(folder_path):\n",
    "    if filename.lower().endswith(('.jpg', '.jpeg', '.gif', '.bmp', '.tiff', '.tif', '.pdf')):\n",
    "        path = os.path.join(folder_path, filename)\n",
    "        try:\n",
    "            file_uri = video_to_protocol.upload_video_to_gcs(path, bucket, subfolder_in_bucket)\n",
    "            knowledge_uris.append(file_uri) \n",
    "        except Exception as e:\n",
    "                print(f\"Error processing {filename}: {e}\")"
   ]
  },
  {
   "cell_type": "code",
   "execution_count": 13,
   "metadata": {},
   "outputs": [
    {
     "name": "stdout",
     "output_type": "stream",
     "text": [
      "Total files processed: 51\n",
      "  PDF: 44\n",
      "  JPG: 7\n",
      "Cached content created successfully!\n"
     ]
    }
   ],
   "source": [
    "# Create cache with Vertex AI\n",
    "import os\n",
    "from collections import defaultdict\n",
    "\n",
    "# Define supported file types with corresponding MIME types\n",
    "MIME_TYPES = {\n",
    "    '.pdf': 'application/pdf',\n",
    "    '.jpg': 'image/jpeg',\n",
    "    '.jpeg': 'image/jpeg',\n",
    "    '.png': 'image/png' \n",
    "}\n",
    "\n",
    "def create_cached_content(knowledge_uris, bucket_name, subfolder_in_bucket, model_id):\n",
    "    contents = []\n",
    "    file_counts = defaultdict(int)\n",
    "    \n",
    "    for file_path in knowledge_uris:\n",
    "        filename = os.path.basename(file_path)\n",
    "        file_ext = os.path.splitext(filename)[1].lower()\n",
    "        \n",
    "        if file_ext in MIME_TYPES:\n",
    "            mime_type = MIME_TYPES[file_ext]\n",
    "            \n",
    "            try:\n",
    "                contents.append(Part.from_uri(file_path, mime_type=mime_type))\n",
    "                file_counts[file_ext] += 1\n",
    "            except Exception as e:\n",
    "                print(f\"Error creating Part from {file_path}: {e}\")\n",
    "        else:\n",
    "            print(f\"Skipping unsupported file: {filename}\")\n",
    "    \n",
    "    print(f\"Total files processed: {len(contents)}\")\n",
    "    for ext, count in file_counts.items():\n",
    "        print(f\"  {ext[1:].upper()}: {count}\")\n",
    "    \n",
    "    if contents:\n",
    "        cached_content = caching.CachedContent.create(\n",
    "            model_name=model_id,\n",
    "            contents=contents,\n",
    "            ttl=datetime.timedelta(minutes=60),\n",
    "        )\n",
    "        print(\"Cached content created successfully!\")\n",
    "        return cached_content\n",
    "    else:\n",
    "        print(\"No matching files found. Cached content not created.\")\n",
    "        return None\n",
    "\n",
    "cached_content = create_cached_content(\n",
    "    knowledge_uris,\n",
    "    bucket_name,\n",
    "    subfolder_in_bucket,\n",
    "    model_id=MODEL_ID\n",
    ")"
   ]
  },
  {
   "cell_type": "code",
   "execution_count": 15,
   "metadata": {},
   "outputs": [],
   "source": [
    "# cached_content.delete()"
   ]
  },
  {
   "cell_type": "code",
   "execution_count": 16,
   "metadata": {},
   "outputs": [
    {
     "name": "stdout",
     "output_type": "stream",
     "text": [
      "8978981388325748736\n",
      "2025-03-06 16:52:46.391281+00:00\n",
      "2025-03-06 17:52:46.385585+00:00\n"
     ]
    }
   ],
   "source": [
    "print(cached_content.name)\n",
    "# print(cached_content.resource_name)\n",
    "# print(cached_content.model_name)\n",
    "print(cached_content.create_time)\n",
    "print(cached_content.expire_time)"
   ]
  },
  {
   "cell_type": "code",
   "execution_count": 17,
   "metadata": {},
   "outputs": [],
   "source": [
    "from vertexai.preview.generative_models import GenerativeModel\n",
    "model = GenerativeModel.from_cached_content(cached_content=cached_content)"
   ]
  },
  {
   "cell_type": "code",
   "execution_count": 18,
   "metadata": {},
   "outputs": [
    {
     "name": "stdout",
     "output_type": "stream",
     "text": [
      "Uploaded to: gs://mannlab_videos/Disconnect_IonOpticks_column_from_sample_line.mp4\n"
     ]
    }
   ],
   "source": [
    "video_path = \"/Users/patriciaskowronek/Documents/documentation_agent_few_shot_examples/ready_examples/Disconnect_IonOpticks_column_from_sample_line.mp4\"\n",
    "video_uri_input = video_to_protocol.upload_video_to_gcs(video_path, bucket)"
   ]
  },
  {
   "cell_type": "code",
   "execution_count": 19,
   "metadata": {},
   "outputs": [],
   "source": [
    "prompt = \"\"\"\n",
    "You are a highly observant research assistant in Professor Matthias Mann's proteomics and mass spectrometry laboratory. Your expertise lies in detailed documentation of experimental procedures.\n",
    "\n",
    "Analyze the video and reconstruct a step-by-step protocol by focusing on the actions in the video. Focus on user interactions with equipment, devices, and software. The goal is a clear, concise, unambiguous protocol reproducible by someone with no prior knowledge. \"Think aloud\" as if you were the researcher in the video that describes their work. Describe what you see at every secound. Take deep breath and think step-by-step. Answer direct.\n",
    "\n",
    "For each action, describe:\n",
    "\n",
    "* **Timestamp:** [timestamp]\n",
    "* **Action:** [Specific Action/Change Observed (Include details of tools used, and observable results. (e.g., opening a lid, pressing a button, turning a knob, screwing/unscrewing, connecting/disconnecting, etc.))]\n",
    "\n",
    "**Example:**\n",
    "[02:15] timsControl Software: Mode changed from \"Operate\" to \"Standby\" by clicking the power button.\n",
    "[03:45] Ion Source: NanoViper connector disconnected by unscrewing the nut counterclockwise.\n",
    "\n",
    "\"\"\""
   ]
  },
  {
   "cell_type": "code",
   "execution_count": 20,
   "metadata": {},
   "outputs": [
    {
     "name": "stdout",
     "output_type": "stream",
     "text": [
      "prompt_token_count: 274027\n",
      "candidates_token_count: 273\n",
      "total_token_count: 274300\n",
      "cached_content_token_count: 259807\n",
      "prompt_tokens_details {\n",
      "  modality: TEXT\n",
      "  token_count: 256\n",
      "}\n",
      "prompt_tokens_details {\n",
      "  modality: VIDEO\n",
      "  token_count: 13965\n",
      "}\n",
      "prompt_tokens_details {\n",
      "  modality: IMAGE\n",
      "  token_count: 1806\n",
      "}\n",
      "prompt_tokens_details {\n",
      "  modality: DOCUMENT\n",
      "  token_count: 258000\n",
      "}\n",
      "candidates_tokens_details {\n",
      "  modality: TEXT\n",
      "  token_count: 273\n",
      "}\n",
      "\n"
     ]
    },
    {
     "data": {
      "text/markdown": [
       "[00:00] **Action:** The video starts with a view of a computer screen displaying a chromatogram and a list of files. The user is wearing a red sweater.\n",
       "[00:08] **Action:** The user moves the camera to show the back of a timsTOF SCP instrument.\n",
       "[00:12] **Action:** The user moves the camera to show the front of an Evosep One LC system.\n",
       "[00:14] **Action:** Ion Source: The user starts to connect the transfer line to the timsTOF SCP instrument using both hands.\n",
       "[00:20] **Action:** Ion Source: The user uses both hands to connect the transfer line to the column.\n",
       "[00:33] **Action:** Ion Source: The user uses pliers to tighten the connection between the transfer line and the column.\n",
       "[00:40] **Action:** Ion Source: The user removes the protective cap from the transfer line and places it in a yellow container.\n",
       "[00:43] **Action:** The user moves the camera to show the front of the timsTOF SCP instrument.\n",
       "[00:48] **Action:** The user moves the camera back to the computer screen displaying the chromatogram and files."
      ],
      "text/plain": [
       "<IPython.core.display.Markdown object>"
      ]
     },
     "execution_count": 20,
     "metadata": {},
     "output_type": "execute_result"
    }
   ],
   "source": [
    "inputs = [\n",
    "    prompt,\n",
    "    \"Input Video:\",\n",
    "    Part.from_uri(\n",
    "        video_uri_input, mime_type=\"video/mp4\"\n",
    "    ),\n",
    "    \"Observations:\"\n",
    "]\n",
    "\n",
    "response = model.generate_content(\n",
    "    inputs,\n",
    "    generation_config={\"temperature\": 0} \n",
    ")\n",
    "observation = response.text\n",
    "print(response.usage_metadata)\n",
    "Markdown(observation)"
   ]
  },
  {
   "cell_type": "code",
   "execution_count": null,
   "metadata": {},
   "outputs": [],
   "source": []
  }
 ],
 "metadata": {
  "kernelspec": {
   "display_name": "docu_test",
   "language": "python",
   "name": "python3"
  },
  "language_info": {
   "codemirror_mode": {
    "name": "ipython",
    "version": 3
   },
   "file_extension": ".py",
   "mimetype": "text/x-python",
   "name": "python",
   "nbconvert_exporter": "python",
   "pygments_lexer": "ipython3",
   "version": "3.9.21"
  }
 },
 "nbformat": 4,
 "nbformat_minor": 2
}
