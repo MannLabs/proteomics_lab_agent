{
 "cells": [
  {
   "cell_type": "markdown",
   "metadata": {},
   "source": [
    "# Documention Agent\n",
    "\n",
    "This notebook demonstrates a documention agent:\n",
    "1. Video-to-protocol conversion using Vertex AI\n",
    "2. With knowledge from few-shot-learning (video and protocol examples)"
   ]
  },
  {
   "cell_type": "code",
   "execution_count": 1,
   "metadata": {},
   "outputs": [],
   "source": [
    "# %pip install google-cloud-storage\n",
    "# %pip install --upgrade --user --quiet google-cloud-aiplatform"
   ]
  },
  {
   "cell_type": "code",
   "execution_count": 2,
   "metadata": {},
   "outputs": [
    {
     "data": {
      "text/plain": [
       "['../secrets.ini']"
      ]
     },
     "execution_count": 2,
     "metadata": {},
     "output_type": "execute_result"
    }
   ],
   "source": [
    "# %load_ext autoreload\n",
    "%reload_ext autoreload\n",
    "%autoreload 2\n",
    "\n",
    "import os\n",
    "import sys\n",
    "from pathlib import Path\n",
    "\n",
    "import configparser\n",
    "from IPython.display import Markdown\n",
    "\n",
    "path_to_append = Path(Path.cwd()).parent / \"proteomics_specialist\"\n",
    "sys.path.append(str(path_to_append))\n",
    "import videoToProtocol as video_to_protocol\n",
    "\n",
    "config = configparser.ConfigParser()\n",
    "config.read(\"../secrets.ini\")"
   ]
  },
  {
   "cell_type": "code",
   "execution_count": 3,
   "metadata": {},
   "outputs": [],
   "source": [
    "import configparser\n",
    "import vertexai\n",
    "\n",
    "config = configparser.ConfigParser()\n",
    "config.read(\"../secrets.ini\")\n",
    "\n",
    "PROJECT_ID = config[\"DEFAULT\"][\"PROJECT_ID\"]\n",
    "vertexai.init(project=PROJECT_ID, location=\"europe-west9\") # europe-west9 is Paris"
   ]
  },
  {
   "cell_type": "code",
   "execution_count": 4,
   "metadata": {},
   "outputs": [],
   "source": [
    "def upload_few_shot_examples(few_shot_example_folder, few_shot_examples, bucket, subfolder_in_bucket=None, custom_blob_name=None):\n",
    "    uploaded_uris = {}\n",
    "    \n",
    "    for example in few_shot_examples:\n",
    "        # Upload video file\n",
    "        video_path = os.path.join(few_shot_example_folder, f\"{example}.mp4\")\n",
    "        video_uri = video_to_protocol.upload_video_to_gcs(video_path, bucket, \"fewShotExamples\")\n",
    "        \n",
    "        # Upload protocol file\n",
    "        protocol_path = os.path.join(few_shot_example_folder, f\"{example}.md\")\n",
    "        protocol_uri = video_to_protocol.upload_video_to_gcs(protocol_path, bucket, \"fewShotExamples\")\n",
    "        \n",
    "        # Store the URIs in a dictionary\n",
    "        uploaded_uris[example] = {\n",
    "            \"video\": video_uri,\n",
    "            \"protocol\": protocol_uri\n",
    "        }\n",
    "    \n",
    "    return uploaded_uris"
   ]
  },
  {
   "cell_type": "code",
   "execution_count": 5,
   "metadata": {},
   "outputs": [],
   "source": [
    "import os\n",
    "from google.cloud import storage\n",
    "\n",
    "os.environ[\"GOOGLE_CLOUD_PROJECT\"] = config[\"DEFAULT\"][\"PROJECT_ID\"]\n",
    "\n",
    "# Initialize Cloud Storage client\n",
    "storage_client = storage.Client()\n",
    "bucket_name = \"mannlab_videos\"\n",
    "bucket = storage_client.bucket(bucket_name)"
   ]
  },
  {
   "cell_type": "code",
   "execution_count": 6,
   "metadata": {},
   "outputs": [
    {
     "name": "stdout",
     "output_type": "stream",
     "text": [
      "Uploaded to: gs://mannlab_videos/fewShotExamples/tims_calibration.mp4\n",
      "Uploaded to: gs://mannlab_videos/fewShotExamples/tims_calibration.md\n",
      "Uploaded to: gs://mannlab_videos/fewShotExamples/Refilling_tuneMix_at_timsTOFUltra.mp4\n",
      "Uploaded to: gs://mannlab_videos/fewShotExamples/Refilling_tuneMix_at_timsTOFUltra.md\n",
      "Uploaded to: gs://mannlab_videos/fewShotExamples/Connect_ionOpticks_column.mp4\n",
      "Uploaded to: gs://mannlab_videos/fewShotExamples/Connect_ionOpticks_column.md\n",
      "Uploaded to: gs://mannlab_videos/fewShotExamples/Disconnect_IonOpticks_column_from_sample_line.mp4\n",
      "Uploaded to: gs://mannlab_videos/fewShotExamples/Disconnect_IonOpticks_column_from_sample_line.md\n",
      "Uploaded to: gs://mannlab_videos/fewShotExamples/Placing_Evotips_on_Evosep.mp4\n",
      "Uploaded to: gs://mannlab_videos/fewShotExamples/Placing_Evotips_on_Evosep.md\n"
     ]
    },
    {
     "data": {
      "text/plain": [
       "{'tims_calibration': {'video': 'gs://mannlab_videos/fewShotExamples/tims_calibration.mp4',\n",
       "  'protocol': 'gs://mannlab_videos/fewShotExamples/tims_calibration.md'},\n",
       " 'Refilling_tuneMix_at_timsTOFUltra': {'video': 'gs://mannlab_videos/fewShotExamples/Refilling_tuneMix_at_timsTOFUltra.mp4',\n",
       "  'protocol': 'gs://mannlab_videos/fewShotExamples/Refilling_tuneMix_at_timsTOFUltra.md'},\n",
       " 'Connect_ionOpticks_column': {'video': 'gs://mannlab_videos/fewShotExamples/Connect_ionOpticks_column.mp4',\n",
       "  'protocol': 'gs://mannlab_videos/fewShotExamples/Connect_ionOpticks_column.md'},\n",
       " 'Disconnect_IonOpticks_column_from_sample_line': {'video': 'gs://mannlab_videos/fewShotExamples/Disconnect_IonOpticks_column_from_sample_line.mp4',\n",
       "  'protocol': 'gs://mannlab_videos/fewShotExamples/Disconnect_IonOpticks_column_from_sample_line.md'},\n",
       " 'Placing_Evotips_on_Evosep': {'video': 'gs://mannlab_videos/fewShotExamples/Placing_Evotips_on_Evosep.mp4',\n",
       "  'protocol': 'gs://mannlab_videos/fewShotExamples/Placing_Evotips_on_Evosep.md'}}"
      ]
     },
     "execution_count": 6,
     "metadata": {},
     "output_type": "execute_result"
    }
   ],
   "source": [
    "# Upload few shot examples to Google Cloud Storage\n",
    "\n",
    "subfolder_in_bucket = \"fewShotExamples\"\n",
    "\n",
    "few_shot_example_folder = \"/Users/patriciaskowronek/Documents/documentation_agent_few_shot_examples/ready_examples/\"\n",
    "\n",
    "few_shot_examples = [\n",
    "    \"tims_calibration\",\n",
    "    \"Refilling_tuneMix_at_timsTOFUltra\",\n",
    "    \"Connect_ionOpticks_column\",\n",
    "    \"Disconnect_IonOpticks_column_from_sample_line\",\n",
    "    \"Placing_Evotips_on_Evosep\"\n",
    "]\n",
    "\n",
    "uploaded_examples = upload_few_shot_examples(few_shot_example_folder, few_shot_examples, bucket, subfolder_in_bucket)\n",
    "uploaded_examples"
   ]
  },
  {
   "cell_type": "code",
   "execution_count": 7,
   "metadata": {},
   "outputs": [
    {
     "name": "stdout",
     "output_type": "stream",
     "text": [
      "Uploaded to: gs://mannlab_videos/Disconnect_IonOpticks_column_from_sample_line.mp4\n"
     ]
    }
   ],
   "source": [
    "video_path = \"/Users/patriciaskowronek/Documents/documentation_agent_few_shot_examples/ready_examples/Disconnect_IonOpticks_column_from_sample_line.mp4\"\n",
    "video_uri_input = video_to_protocol.upload_video_to_gcs(video_path, bucket)"
   ]
  },
  {
   "cell_type": "code",
   "execution_count": 8,
   "metadata": {},
   "outputs": [],
   "source": [
    "system_instructions = \"\"\"\n",
    "You are a highly observant research assistant in Professor Matthias Mann's proteomics and mass spectrometry laboratory. Your expertise lies in detailed documentation of experimental procedures.\n",
    "\n",
    "Analyze the video and reconstruct a step-by-step protocol by focusing on the actions in the video. Focus on user interactions with equipment, devices, and software. The goal is a clear, concise, unambiguous protocol reproducible by someone with no prior knowledge. \"Think aloud\" as if you were the researcher in the video that describes their work. Describe what you see at every secound. \n",
    "Your task is to analyze the provided video and extract a detailed experimental protocol.\n",
    "You always stick to the facts in the sources provided, and never make up new facts.\n",
    "Take a deep breath and think step by step.\n",
    "Answer direct.\n",
    "\"\"\""
   ]
  },
  {
   "cell_type": "code",
   "execution_count": 9,
   "metadata": {},
   "outputs": [
    {
     "name": "stdout",
     "output_type": "stream",
     "text": [
      "prompt_token_count: 134356\n",
      "candidates_token_count: 614\n",
      "total_token_count: 134970\n",
      "prompt_tokens_details {\n",
      "  modality: VIDEO\n",
      "  token_count: 129675\n",
      "}\n",
      "prompt_tokens_details {\n",
      "  modality: TEXT\n",
      "  token_count: 4681\n",
      "}\n",
      "candidates_tokens_details {\n",
      "  modality: TEXT\n",
      "  token_count: 614\n",
      "}\n",
      "\n"
     ]
    },
    {
     "data": {
      "text/markdown": [
       "Here is a step-by-step protocol based on the provided video.  I will describe what is happening in each section of the video.\n",
       "\n",
       "**Protocol: Connecting and Disconnecting Evosep Stage Tips**\n",
       "\n",
       "**Abstract:** This protocol details the procedure for connecting and disconnecting Evosep stage tips (Evotips) on the Evosep One system.  Proper connection and disconnection are crucial for maintaining system integrity and preventing sample carryover.\n",
       "\n",
       "**Materials:**\n",
       "\n",
       "* Evosep One System\n",
       "* Evotips (Evosep, 100 x 96 tips, cat. no. EV2018)\n",
       "* Evotip Boxes (96-well format) filled with Buffer A (0.1% formic acid)\n",
       "\n",
       "**Procedure:**\n",
       "\n",
       "**Part 1: Connecting Evotips**\n",
       "\n",
       "1. **(0:00-0:14):** The video begins with a view of the computer screen displaying the Evosep One software interface. The researcher then moves to the Evosep One system. Three empty Evotip boxes are visible in the rack system. The researcher picks up three new Evotip boxes from the bench.\n",
       "\n",
       "2. **(0:14-0:15):** The researcher places the three Evotip boxes into the rack system on the Evosep One.\n",
       "\n",
       "3. **(0:15-0:16):** The researcher checks the level of Buffer A in the Evotip boxes.\n",
       "\n",
       "4. **(0:16-0:20):** The researcher picks up three new Evotip strips from the bench.\n",
       "\n",
       "5. **(0:20-0:30):** The researcher carefully places the Evotips into the Evotip boxes, ensuring they are correctly oriented.\n",
       "\n",
       "**Part 2: Disconnecting Evotips**\n",
       "\n",
       "1. **(0:30-0:44):** The researcher approaches the Evosep One system. The researcher picks up the pliers.\n",
       "\n",
       "2. **(0:44-0:50):** The researcher uses the pliers to carefully remove the Evotips from the Evotip boxes.\n",
       "\n",
       "3. **(0:50-0:51):** The researcher places the used Evotips into a waste container.\n",
       "\n",
       "4. **(0:51-1:00):** The researcher moves away from the Evosep One system.\n",
       "\n",
       "\n",
       "**Expected Results:**\n",
       "\n",
       "* Evotips are correctly placed in the Evotip boxes.\n",
       "* Used Evotips are properly disposed of.\n",
       "\n",
       "**Troubleshooting:**\n",
       "\n",
       "* If Evotips are difficult to remove, use the pliers to gently loosen them.\n",
       "* If Evotips are damaged or dry, discard them and replace them with new ones.\n",
       "\n",
       "**Note:** The video does not show the entire process of running a sample on the Evosep One system.  This protocol only covers the connection and disconnection of the Evotips.  Additional steps would be required for a complete sample analysis protocol."
      ],
      "text/plain": [
       "<IPython.core.display.Markdown object>"
      ]
     },
     "execution_count": 9,
     "metadata": {},
     "output_type": "execute_result"
    }
   ],
   "source": [
    "import vertexai\n",
    "from vertexai.generative_models import GenerativeModel, Part\n",
    "\n",
    "inputs = []\n",
    "\n",
    "# few shot examples\n",
    "for i, uris in enumerate(uploaded_examples.values(), 1):\n",
    "    video_expl_uri = uris['video']\n",
    "    file_expl_uri = uris['protocol']\n",
    "    \n",
    "    inputs.extend([\n",
    "        \"Example Video {num}:\",\n",
    "        Part.from_uri(\n",
    "            video_expl_uri, mime_type=\"video/mp4\"\n",
    "        ),\n",
    "        \"Example Protocol {num}:\",\n",
    "        Part.from_uri(\n",
    "            file_expl_uri, mime_type=\"text/md\"\n",
    "        ),\n",
    "    ])\n",
    "\n",
    "# system prompts, and processed video\n",
    "inputs.extend([\n",
    "    system_instructions,\n",
    "    \"Video:\",\n",
    "    Part.from_uri(\n",
    "        video_uri_input, mime_type=\"video/mp4\"\n",
    "    ),\n",
    "    \"Protocol:\"\n",
    "])\n",
    "\n",
    "model = GenerativeModel(\"gemini-1.5-flash-002\")\n",
    "response = model.generate_content(\n",
    "    inputs,\n",
    "    generation_config={\"temperature\": 0} \n",
    ")\n",
    "observation = response.text\n",
    "print(response.usage_metadata)\n",
    "Markdown(observation)"
   ]
  },
  {
   "cell_type": "code",
   "execution_count": null,
   "metadata": {},
   "outputs": [],
   "source": []
  }
 ],
 "metadata": {
  "kernelspec": {
   "display_name": "docu_test",
   "language": "python",
   "name": "python3"
  },
  "language_info": {
   "codemirror_mode": {
    "name": "ipython",
    "version": 3
   },
   "file_extension": ".py",
   "mimetype": "text/x-python",
   "name": "python",
   "nbconvert_exporter": "python",
   "pygments_lexer": "ipython3",
   "version": "3.9.21"
  }
 },
 "nbformat": 4,
 "nbformat_minor": 2
}
