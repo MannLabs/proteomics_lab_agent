{
 "cells": [
  {
   "cell_type": "markdown",
   "metadata": {},
   "source": [
    "# Documentation assistant\n",
    "\n",
    "This notebook demonstrates a documentation assistant: Video-to-documentation conversion using Vertex AI\n",
    "\n",
    "Converting videos-to-documentation involves three steps: \n",
    "1. Protocol finder: Select protocol which best captures the step being performed in the video\n",
    "2. Video comparing to ground-of-truth protocol → lab documentation + errors in procedure\n",
    "3. Analytics based on benchmark dataset: automatic comparison of errors found by documentation assistent vs actual errors\n",
    "\n",
    "In this notebook, I will focus on the first step - the protocol finder."
   ]
  },
  {
   "cell_type": "code",
   "execution_count": 1,
   "metadata": {},
   "outputs": [],
   "source": [
    "# %pip install google-cloud-storage\n",
    "# %pip install --upgrade --user --quiet google-cloud-aiplatform"
   ]
  },
  {
   "cell_type": "code",
   "execution_count": 2,
   "metadata": {},
   "outputs": [
    {
     "data": {
      "text/plain": [
       "['../secrets.ini']"
      ]
     },
     "execution_count": 2,
     "metadata": {},
     "output_type": "execute_result"
    }
   ],
   "source": [
    "from __future__ import annotations\n",
    "\n",
    "# %load_ext autoreload\n",
    "%reload_ext autoreload\n",
    "%autoreload 2\n",
    "\n",
    "import configparser\n",
    "import os\n",
    "import sys\n",
    "from pathlib import Path\n",
    "\n",
    "from IPython.display import Markdown\n",
    "\n",
    "path_to_append = Path(Path.cwd()).parent / \"proteomics_specialist\"\n",
    "sys.path.append(str(path_to_append))\n",
    "import video_to_protocol\n",
    "\n",
    "config = configparser.ConfigParser()\n",
    "config.read(\"../secrets.ini\")"
   ]
  },
  {
   "cell_type": "code",
   "execution_count": 3,
   "metadata": {},
   "outputs": [],
   "source": [
    "import vertexai\n",
    "\n",
    "config = configparser.ConfigParser()\n",
    "config.read(\"../secrets.ini\")\n",
    "\n",
    "PROJECT_ID = config[\"DEFAULT\"][\"PROJECT_ID\"]\n",
    "vertexai.init(project=PROJECT_ID, location=\"europe-west9\")  # europe-west9 is Paris"
   ]
  },
  {
   "cell_type": "code",
   "execution_count": 4,
   "metadata": {},
   "outputs": [],
   "source": [
    "from google.cloud import storage\n",
    "\n",
    "os.environ[\"GOOGLE_CLOUD_PROJECT\"] = config[\"DEFAULT\"][\"PROJECT_ID\"]\n",
    "\n",
    "# Initialize Cloud Storage client\n",
    "storage_client = storage.Client()\n",
    "bucket_name = \"mannlab_videos\"\n",
    "bucket = storage_client.bucket(bucket_name)"
   ]
  },
  {
   "cell_type": "code",
   "execution_count": null,
   "metadata": {},
   "outputs": [],
   "source": [
    "from vertexai.generative_models import Part\n",
    "from vertexai.preview.generative_models import GenerativeModel\n",
    "\n",
    "MODEL_ID = \"gemini-1.5-pro-001\""
   ]
  },
  {
   "cell_type": "code",
   "execution_count": 6,
   "metadata": {},
   "outputs": [
    {
     "data": {
      "text/plain": [
       "['gs://mannlab_videos/protocol_finder/QueueSamples_protocolCorrect.md',\n",
       " 'gs://mannlab_videos/protocol_finder/PlaceEvotips_protocolCorrect.md',\n",
       " 'gs://mannlab_videos/protocol_finder/DisconnectColumn_protocolCorrect.md',\n",
       " 'gs://mannlab_videos/protocol_finder/Diluting_protocolCorrect.md',\n",
       " 'gs://mannlab_videos/protocol_finder/TimsCalibration_protocolCorrect.md',\n",
       " 'gs://mannlab_videos/protocol_finder/ConnectingColumnSampleLine_protocolCorrect.md',\n",
       " 'gs://mannlab_videos/protocol_finder/UltraSourceToESIsource_protocolCorrect.md',\n",
       " 'gs://mannlab_videos/protocol_finder/Pipette_protocolCorrect.md',\n",
       " 'gs://mannlab_videos/protocol_finder/ESIsourceToUltraSource_protocolCorrect_CapillaryPushedIn.md',\n",
       " 'gs://mannlab_videos/protocol_finder/Evotip_protocolCorrect.md']"
      ]
     },
     "execution_count": 6,
     "metadata": {},
     "output_type": "execute_result"
    }
   ],
   "source": [
    "# Upload protocols to GCS\n",
    "\n",
    "directory = \"/Users/patriciaskowronek/Documents/proteomics_specialist/data/\"\n",
    "\n",
    "list_protocol_gcs = [\n",
    "    video_to_protocol.upload_video_to_gcs(Path(directory) / file, bucket, \"protocol_finder\")\n",
    "    for file in os.listdir(directory) \n",
    "    if \"protocol\" in file.lower()\n",
    "]\n",
    "\n",
    "list_protocol_gcs"
   ]
  },
  {
   "cell_type": "code",
   "execution_count": 7,
   "metadata": {},
   "outputs": [],
   "source": [
    "# Prepare protocols as model input\n",
    "\n",
    "protocol_input = []\n",
    "count = 1\n",
    "for protocol in list_protocol_gcs:\n",
    "    protocol_input.append(\"number: \" + str(count))\n",
    "    protocol_input.append(\"file name: \" + os.path.basename(protocol))\n",
    "    protocol_input.append(Part.from_uri(protocol, mime_type=\"text/md\"))\n",
    "    count += 1"
   ]
  },
  {
   "cell_type": "code",
   "execution_count": 8,
   "metadata": {},
   "outputs": [],
   "source": [
    "# Prepare video for model input\n",
    "video_path = \"/Users/patriciaskowronek/Documents/documentation_agent_few_shot_examples/benchmark_dataset/documentation/PlaceEvotips_docuLiquidNotChecked.MP4\"\n",
    "video_uri = video_to_protocol.upload_video_to_gcs(video_path, bucket, \"protocol_finder\")\n",
    "\n",
    "video_input = [\n",
    "    \"Lab video:\",\n",
    "    Part.from_uri(video_uri, mime_type=\"video/mp4\"),\n",
    "]"
   ]
  },
  {
   "cell_type": "code",
   "execution_count": 9,
   "metadata": {},
   "outputs": [],
   "source": [
    "# Prompt\n",
    "\n",
    "import enum\n",
    "\n",
    "class ProtocolClass(enum.Enum):\n",
    "    protocol1 = \"1\"\n",
    "    protocol2 = \"2\"\n",
    "    protocol3 = \"3\"\n",
    "    protocol4 = \"4\"\n",
    "    protocol5 = \"5\"\n",
    "\n",
    "inputs = [\n",
    "    \"\"\"\n",
    "    You are Professor Matthias Mann, a pioneering scientist in proteomics and mass spectrometry.\n",
    "    Your task is to find the protocol that captures the step being performed in the video. \n",
    "    Protocols:\n",
    "    \"\"\"\n",
    "]\n",
    "\n",
    "inputs.extend(protocol_input)\n",
    "inputs.extend(video_input)\n",
    "\n",
    "inputs.append(\n",
    "    \"Output: Protocol number.\"\n",
    ")"
   ]
  },
  {
   "cell_type": "code",
   "execution_count": 10,
   "metadata": {},
   "outputs": [
    {
     "name": "stdout",
     "output_type": "stream",
     "text": [
      "/Users/patriciaskowronek/Documents/documentation_agent_few_shot_examples/benchmark_dataset/documentation/PlaceEvotips_docuLiquidNotChecked.MP4\n",
      "prompt_token_count: 17654\n",
      "candidates_token_count: 25\n",
      "total_token_count: 17679\n",
      "prompt_tokens_details {\n",
      "  modality: VIDEO\n",
      "  token_count: 10545\n",
      "}\n",
      "prompt_tokens_details {\n",
      "  modality: TEXT\n",
      "  token_count: 7109\n",
      "}\n",
      "candidates_tokens_details {\n",
      "  modality: TEXT\n",
      "  token_count: 25\n",
      "}\n",
      "\n",
      "The video shows the step of spinning Evotips in a centrifuge. Therefore, protocol number 10 is the correct one.\n"
     ]
    }
   ],
   "source": [
    "import vertexai\n",
    "from vertexai.generative_models import GenerativeModel, Part, GenerationConfig\n",
    "\n",
    "model = GenerativeModel(\"gemini-1.5-flash-002\")\n",
    "\n",
    "response = model.generate_content(\n",
    "    inputs, \n",
    "    generation_config=GenerationConfig(\n",
    "        temperature=0.9,\n",
    "    )\n",
    "    )\n",
    "\n",
    "print(video_path)\n",
    "verbose_eval = response.text\n",
    "print(response.usage_metadata)\n",
    "print(verbose_eval)\n"
   ]
  },
  {
   "cell_type": "code",
   "execution_count": 11,
   "metadata": {},
   "outputs": [],
   "source": [
    "import vertexai\n",
    "from vertexai.generative_models import GenerativeModel, Part\n",
    "from IPython.display import Markdown\n",
    "\n",
    "def identify_protocol_from_video(\n",
    "    model_input,\n",
    "    # options,\n",
    "    model_name=\"gemini-1.5-flash-002\", \n",
    "    temperature=0.9,\n",
    "):\n",
    "    \"\"\"Identifies the protocol number from a lab video using Gemini model with customizable prompts.\n",
    "    \n",
    "    Parameters\n",
    "    ----------\n",
    "    model_input : object\n",
    "        Input to be processed by the model\n",
    "    model_name : str\n",
    "        Name of the Gemini model to use\n",
    "    temperature : float\n",
    "        Temperature for model generation\n",
    "    \n",
    "    Returns\n",
    "    -------\n",
    "    dict\n",
    "        Dictionary containing the model response and metadata including:\n",
    "        - observation: The text response from the model\n",
    "        - usage_metadata: Usage statistics from the model\n",
    "        - markdown_observation: Markdown formatted observation\n",
    "    \"\"\"\n",
    "    model = GenerativeModel(model_name) #, client_options=options)\n",
    "    response = model.generate_content(\n",
    "        model_input, \n",
    "        generation_config={\"temperature\": temperature}\n",
    "    )\n",
    "    verbose_eval = response.text\n",
    "    \n",
    "    return {\n",
    "        \"observation\": verbose_eval,\n",
    "        \"usage_metadata\": response.usage_metadata,\n",
    "        \"video_path\": video_path,\n",
    "        \"markdown_observation\": Markdown(verbose_eval)\n",
    "    }"
   ]
  },
  {
   "cell_type": "code",
   "execution_count": 12,
   "metadata": {},
   "outputs": [],
   "source": [
    "import enum\n",
    "\n",
    "protocol_members = {}\n",
    "\n",
    "for index, file_path in enumerate(list_protocol_gcs):\n",
    "    member_name = os.path.basename(file_path)\n",
    "    protocol_members[member_name] = str(index + 1)\n",
    "\n",
    "# Dynamically create the enum class\n",
    "ProtocolNum = enum.Enum('ProtocolNum', protocol_members)"
   ]
  },
  {
   "cell_type": "code",
   "execution_count": 13,
   "metadata": {},
   "outputs": [],
   "source": [
    "def score_protocol_from_video(\n",
    "    verbose_eval,\n",
    "    protocol_enum=ProtocolNum,\n",
    "    model_name=\"gemini-1.5-flash-002\",\n",
    "    temperature=0.9\n",
    "):\n",
    "    \"\"\"Scores and classifies a protocol number from verbose evaluation using Gemini model.\n",
    "    \n",
    "    Parameters\n",
    "    ----------\n",
    "    verbose_eval : str\n",
    "        The verbose evaluation text from a previous model run\n",
    "    protocol_enum : Enum\n",
    "        Enumeration containing valid protocol numbers\n",
    "    model_name : str\n",
    "        Name of the Gemini model to use\n",
    "    temperature : float\n",
    "        Temperature for model generation\n",
    "        \n",
    "    Returns\n",
    "    -------\n",
    "    dict\n",
    "        Dictionary containing the model response and metadata including:\n",
    "        - score_str: The raw text response from the model\n",
    "        - structured_eval: The protocol number as enum value\n",
    "        - usage_metadata: Usage statistics from the model\n",
    "    \"\"\"\n",
    "    model = GenerativeModel(model_name)\n",
    "    \n",
    "    score_prompt = f\"{verbose_eval}\\n\\nWhich protocol number is this? Please respond with only one of the following: {[e.value for e in protocol_enum]}.\"\n",
    "    \n",
    "    response_score = model.generate_content(\n",
    "        score_prompt,\n",
    "        generation_config=GenerationConfig(temperature=temperature, max_output_tokens=2)\n",
    "    )\n",
    "    \n",
    "    score_str = response_score.text.strip()\n",
    "    structured_eval = protocol_enum(score_str)\n",
    "    \n",
    "    return {\n",
    "        \"score_str\": score_str,\n",
    "        \"structured_eval\": structured_eval,\n",
    "        \"usage_metadata\": response_score.usage_metadata\n",
    "    }"
   ]
  },
  {
   "cell_type": "code",
   "execution_count": 14,
   "metadata": {},
   "outputs": [],
   "source": [
    "# Evaluation if correct\n",
    "\n",
    "import re\n",
    "import os\n",
    "import pandas as pd\n",
    "\n",
    "def validate_protocol_number(video_path, csv_path, verbose_eval, ProtocolNum):\n",
    "    \"\"\"Validates if the protocol number in the observation matches the expected protocol number from the benchmark dataset (csv).\n",
    "    \n",
    "    Parameters\n",
    "    ----------\n",
    "    video_path : str\n",
    "        Path to the video file\n",
    "    csv_path : str\n",
    "        Path to the benchmark dataset as csv file containing protocol information\n",
    "    observation : str\n",
    "        Text containing protocol number to be extracted\n",
    "    \n",
    "    Returns\n",
    "    -------\n",
    "    dict\n",
    "        Result of the validation containing match status and relevant details including:\n",
    "        - matches: Boolean indicating if protocol numbers match\n",
    "        - video: Basename of the video file\n",
    "        - expected_protocol: Protocol number from CSV\n",
    "        - found_protocol: Protocol number extracted from observation\n",
    "        - message: Optional explanation message (only present on failure)\n",
    "    \"\"\"\n",
    "    video_basename = os.path.basename(video_path)\n",
    "    \n",
    "    df_link = pd.read_csv(csv_path, delimiter=\";\")\n",
    "    df_link = df_link.dropna()\n",
    "    \n",
    "    if video_basename not in list(df_link[\"documentation video\"]):\n",
    "        return {\n",
    "            \"matches\": False,\n",
    "            \"video\": video_basename,\n",
    "            \"expected_protocol\": [],\n",
    "            \"found_protocol\": [],\n",
    "            \"message\": f\"Video not part of benchmark dataset: {video_basename}\"\n",
    "        }\n",
    "    \n",
    "    expected_protocol_number = str(df_link['Number'][df_link[\"documentation video\"]==video_basename].item())\n",
    "\n",
    "    try:\n",
    "        result_score = score_protocol_from_video(\n",
    "            verbose_eval,\n",
    "            protocol_enum=ProtocolNum\n",
    "        )\n",
    "        found_protocol_number = result_score[\"score_str\"]\n",
    "\n",
    "        return {\n",
    "            \"matches\": expected_protocol_number == found_protocol_number,\n",
    "            \"video\": video_basename,\n",
    "            \"expected_protocol\": expected_protocol_number,\n",
    "            \"found_protocol\": found_protocol_number,\n",
    "            \"verbos_eval\": verbose_eval\n",
    "        }\n",
    "    \n",
    "    except (ValueError, KeyError, AttributeError, Exception) as e:\n",
    "        # Catch any exception that might occur during scoring or protocol parsing\n",
    "        return {\n",
    "            \"matches\": False,\n",
    "            \"video\": video_basename,\n",
    "            \"expected_protocol\": expected_protocol_number,\n",
    "            \"found_protocol\":f\"Error extracting protocol number: {str(e)}\",\n",
    "            \"verbose_eval\": verbose_eval\n",
    "        }\n",
    "    "
   ]
  },
  {
   "cell_type": "code",
   "execution_count": 15,
   "metadata": {},
   "outputs": [
    {
     "name": "stdout",
     "output_type": "stream",
     "text": [
      "UltraSourceToESIsource_docuForgotN2Line.MP4\n",
      ".DS_Store\n",
      "TimsCalibration_docuCorrect_camera.MP4\n",
      "TimsCalibration_docuNotAllClicksVisibleOnVideo.MP4\n",
      "PlaceEvotips_docuBoxAngeled.MP4\n",
      "UltraSourceToESIsource_docuForgotGlovesANDCapillaryCap.MP4\n",
      "QueueSamples_docuCorrect_1.mov\n",
      "QueueSamples_docuNoBlankNoSampleIDWrongMSmethod.mov\n",
      "UltraSourceToESIsource_docuCorrect.MP4\n",
      "DisconnectingColumn_docuWithoutStandby_1.MP4\n",
      "QueueSamples_docuDiffSampleNameAndEvotipNotAtPosition.mov\n",
      "Pipette_ducoBufferBInsteadBufferA.MP4\n",
      "ESIsourceToUltraSource_docuFogotOvenPowerSupply.MP4\n",
      "Pipette_docu_WrongRowB_B10Twice_B11LeftOut.MP4\n",
      "ConnectingColumnSampleLine_docuWithoutStandbyANDtimsControl.mp4\n",
      "TimsCalibration_docuSavedMethod.mov\n",
      "Dilute_docuWrongSolvent.MP4\n",
      "TimsCalibration_docuWrongOrderSteps.mov\n",
      "Dilute_docuWrongVolume_PipettTipNotChanged.MP4\n",
      "DisconnectingColumn_docuCorrect.MP4\n",
      "Pipette_docuFirstTwoWrongVolumneANDA2Twice.MP4\n",
      "PlaceEvotips_docuWrongPosition.MP4\n",
      "TimsCalibration_docuCorrect.mov\n",
      "QueueSamples_docuWrongRow_S3A1Twice.mov\n",
      "PlaceEvotips_docuCorrect.MP4\n",
      "ESIsourceToUltraSource_docuCorrect.MP4\n",
      "QueueSamples_docuEvotipNotAtPositionNoSampleID.mov\n",
      "UltraSourceToESIsource_docuForgotCapillaryCap.MP4\n",
      "PlaceEvotips_docuLiquidNotChecked.MP4\n",
      "Evotip_docuWrongSpinInEvotipBox_wrongSpeed.MP4\n"
     ]
    }
   ],
   "source": [
    "# First upload videos to Google Cloud Storage and convert to model input (reusable info, time consuming step)\n",
    "\n",
    "video_directory = \"/Users/patriciaskowronek/Documents/documentation_agent_few_shot_examples/benchmark_dataset/documentation\"\n",
    "\n",
    "video_parts = {}\n",
    "\n",
    "for video in os.listdir(video_directory):\n",
    "    print(video)\n",
    "    video_path = Path(video_directory) / video\n",
    "    \n",
    "    if video.lower().endswith(('.mp4', '.mov')):\n",
    "        file_extension = os.path.splitext(video_path)[1].lower()[1:]\n",
    "        \n",
    "        video_uri = video_to_protocol.upload_video_to_gcs(video_path, bucket, \"protocol_finder_2\")\n",
    "\n",
    "        video_parts[video] = {\n",
    "            \"path\": str(video_path),\n",
    "            \"gcs_uri\": video_uri,\n",
    "            \"part\": [\n",
    "                \"Lab video:\",\n",
    "                Part.from_uri(video_uri, mime_type=f\"video/{file_extension}\")\n",
    "            ]\n",
    "        }"
   ]
  },
  {
   "cell_type": "code",
   "execution_count": null,
   "metadata": {},
   "outputs": [
    {
     "name": "stdout",
     "output_type": "stream",
     "text": [
      "Processing video: UltraSourceToESIsource_docuForgotN2Line.MP4\n",
      "/Users/patriciaskowronek/Documents/documentation_agent_few_shot_examples/benchmark_dataset/documentation/UltraSourceToESIsource_docuForgotN2Line.MP4\n"
     ]
    },
    {
     "data": {
      "text/markdown": [
       "Okay, Professor Mann here. Based on the lab video I've reviewed, the lab technician is performing procedures related to the ion source of a Bruker timsTOF mass spectrometer, specifically, they are changing or maintaining the ion source. After careful consideration of the various protocols, the actions in the video most closely align with the following:\n",
       "\n",
       "The actions in the video most closely align with protocol number: 9.\n",
       "\n",
       "**Reasoning:**\n",
       "\n",
       "The video shows the technician:\n",
       "\n",
       "1.  Removing parts of an ion source.\n",
       "2.  Changing equipment on the timsTOF mass spectrometer.\n",
       "3. Handling and replacing components within the timsTOF mass spectrometer\n",
       "4. The technician is working on a region of the mass spectrometer that is consistent with the location of the ion source.\n"
      ],
      "text/plain": [
       "<IPython.core.display.Markdown object>"
      ]
     },
     "metadata": {},
     "output_type": "display_data"
    },
    {
     "name": "stdout",
     "output_type": "stream",
     "text": [
      "{'matches': False, 'video': 'UltraSourceToESIsource_docuForgotN2Line.MP4', 'expected_protocol': '7', 'found_protocol': '9', 'verbos_eval': \"Okay, Professor Mann here. Based on the lab video I've reviewed, the lab technician is performing procedures related to the ion source of a Bruker timsTOF mass spectrometer, specifically, they are changing or maintaining the ion source. After careful consideration of the various protocols, the actions in the video most closely align with the following:\\n\\nThe actions in the video most closely align with protocol number: 9.\\n\\n**Reasoning:**\\n\\nThe video shows the technician:\\n\\n1.  Removing parts of an ion source.\\n2.  Changing equipment on the timsTOF mass spectrometer.\\n3. Handling and replacing components within the timsTOF mass spectrometer\\n4. The technician is working on a region of the mass spectrometer that is consistent with the location of the ion source.\\n\"}\n",
      "Processing video: TimsCalibration_docuCorrect_camera.MP4\n",
      "/Users/patriciaskowronek/Documents/documentation_agent_few_shot_examples/benchmark_dataset/documentation/TimsCalibration_docuCorrect_camera.MP4\n"
     ]
    },
    {
     "data": {
      "text/markdown": [
       "Okay, let's analyze the video to determine the protocol being performed.\n",
       "\n",
       "**Video Analysis:**\n",
       "\n",
       "The video shows a computer screen displaying software related to mass spectrometry. Specifically, it shows a chromatogram, instrument settings (MS Settings, TIMS Settings), and a list of reference compounds. Actions performed include selection of a reference list, setting of calibration parameters such as detection range and width, and then initiating a calibration. Moreover, it shows that a TIMS device is being calibrated as it shows the score in the tab \"Calibration\" is at 100%.\n",
       "\n",
       "**Protocol Matching:**\n",
       "\n",
       "Based on the video analysis, the activity being performed aligns with the procedure for calibrating the TIMS (Trapped Ion Mobility Spectrometer) device in a mass spectrometer.\n",
       "\n",
       "**Therefore, I believe the correct protocol is:**\n",
       "\n",
       "**protocol number: 5**\n"
      ],
      "text/plain": [
       "<IPython.core.display.Markdown object>"
      ]
     },
     "metadata": {},
     "output_type": "display_data"
    },
    {
     "name": "stdout",
     "output_type": "stream",
     "text": [
      "{'matches': True, 'video': 'TimsCalibration_docuCorrect_camera.MP4', 'expected_protocol': '5', 'found_protocol': '5', 'verbos_eval': 'Okay, let\\'s analyze the video to determine the protocol being performed.\\n\\n**Video Analysis:**\\n\\nThe video shows a computer screen displaying software related to mass spectrometry. Specifically, it shows a chromatogram, instrument settings (MS Settings, TIMS Settings), and a list of reference compounds. Actions performed include selection of a reference list, setting of calibration parameters such as detection range and width, and then initiating a calibration. Moreover, it shows that a TIMS device is being calibrated as it shows the score in the tab \"Calibration\" is at 100%.\\n\\n**Protocol Matching:**\\n\\nBased on the video analysis, the activity being performed aligns with the procedure for calibrating the TIMS (Trapped Ion Mobility Spectrometer) device in a mass spectrometer.\\n\\n**Therefore, I believe the correct protocol is:**\\n\\n**protocol number: 5**\\n'}\n",
      "Processing video: TimsCalibration_docuNotAllClicksVisibleOnVideo.MP4\n",
      "/Users/patriciaskowronek/Documents/documentation_agent_few_shot_examples/benchmark_dataset/documentation/TimsCalibration_docuNotAllClicksVisibleOnVideo.MP4\n"
     ]
    },
    {
     "data": {
      "text/markdown": [
       "Okay, let's analyze the video and determine the most relevant protocol.\n",
       "\n",
       "**Analysis of the Video:**\n",
       "\n",
       "The video shows a computer screen displaying software used to control a mass spectrometer.  Specifically, we can see:\n",
       "\n",
       "*   A chromatogram (intensity vs. time) displaying peaks.\n",
       "*   Settings related to MS parameters like scan range, polarity, and scan mode.\n",
       "*   A display of the ion mobility range (dia-PASEF settings)\n",
       "*   A calibration interface, showing a list of reference compounds and their calibration status.\n",
       "\n",
       "Based on these observations, the activity being performed is most likely **calibrating the TIMS device**. The calibration process involves using known reference compounds to ensure accurate mass and ion mobility measurements. The software interface shows the selection of reference compounds, assessment of calibration quality, and adjustment of parameters.\n",
       "\n",
       "**The Protocol:**\n",
       "\n",
       "The protocol that best captures this activity is:\n",
       "\n",
       "*   **TimsCalibration_protocolCorrect.md# Calibrate the TIMS device**\n",
       "\n",
       "**Reasoning:**\n",
       "\n",
       "This protocol provides a detailed step-by-step guide on how to calibrate a TIMS device using the timsControl software. It includes instructions on selecting reference compounds, setting calibration parameters, and verifying the calibration quality. The video shows the user interacting with these settings and parameters in the software.\n",
       "\n",
       "**Therefore, the answer is:**\n",
       "\n",
       "protocol number: 5"
      ],
      "text/plain": [
       "<IPython.core.display.Markdown object>"
      ]
     },
     "metadata": {},
     "output_type": "display_data"
    },
    {
     "name": "stdout",
     "output_type": "stream",
     "text": [
      "{'matches': True, 'video': 'TimsCalibration_docuNotAllClicksVisibleOnVideo.MP4', 'expected_protocol': '5', 'found_protocol': '5', 'verbos_eval': \"Okay, let's analyze the video and determine the most relevant protocol.\\n\\n**Analysis of the Video:**\\n\\nThe video shows a computer screen displaying software used to control a mass spectrometer.  Specifically, we can see:\\n\\n*   A chromatogram (intensity vs. time) displaying peaks.\\n*   Settings related to MS parameters like scan range, polarity, and scan mode.\\n*   A display of the ion mobility range (dia-PASEF settings)\\n*   A calibration interface, showing a list of reference compounds and their calibration status.\\n\\nBased on these observations, the activity being performed is most likely **calibrating the TIMS device**. The calibration process involves using known reference compounds to ensure accurate mass and ion mobility measurements. The software interface shows the selection of reference compounds, assessment of calibration quality, and adjustment of parameters.\\n\\n**The Protocol:**\\n\\nThe protocol that best captures this activity is:\\n\\n*   **TimsCalibration_protocolCorrect.md# Calibrate the TIMS device**\\n\\n**Reasoning:**\\n\\nThis protocol provides a detailed step-by-step guide on how to calibrate a TIMS device using the timsControl software. It includes instructions on selecting reference compounds, setting calibration parameters, and verifying the calibration quality. The video shows the user interacting with these settings and parameters in the software.\\n\\n**Therefore, the answer is:**\\n\\nprotocol number: 5\"}\n",
      "Processing video: PlaceEvotips_docuBoxAngeled.MP4\n",
      "/Users/patriciaskowronek/Documents/documentation_agent_few_shot_examples/benchmark_dataset/documentation/PlaceEvotips_docuBoxAngeled.MP4\n"
     ]
    },
    {
     "data": {
      "text/markdown": [
       "Okay, let's analyze the video and determine the most appropriate protocol.\n",
       "\n",
       "The video shows a person in a lab wearing gloves placing two yellow Evotip boxes onto an Evosep One system. They then use a pair of tweezers to remove pipette tips from a container and insert them into the Evotip boxes.\n",
       "\n",
       "Considering this, the most relevant protocol from the list is:\n",
       "\n",
       "**Protocol number: 2**\n",
       "\n",
       "**Reasoning:**\n",
       "\n",
       "Protocol number 2, titled \"Placing Evotips in Evotip Boxes on the Evosep One System\", directly describes the action of placing Evotips (and presumably, pipette tips meant to be used with them) onto the Evosep One.  The video shows exactly this. While some aspects of other protocols might be tangentially related (e.g., preparing samples for LC-MS), this protocol is the most direct and accurate description of the observed action.  Specifically, placing filled Evotips at S1 and empty Blanks at S3 is consistent with the video.\n"
      ],
      "text/plain": [
       "<IPython.core.display.Markdown object>"
      ]
     },
     "metadata": {},
     "output_type": "display_data"
    },
    {
     "name": "stdout",
     "output_type": "stream",
     "text": [
      "{'matches': True, 'video': 'PlaceEvotips_docuBoxAngeled.MP4', 'expected_protocol': '2', 'found_protocol': '2', 'verbos_eval': 'Okay, let\\'s analyze the video and determine the most appropriate protocol.\\n\\nThe video shows a person in a lab wearing gloves placing two yellow Evotip boxes onto an Evosep One system. They then use a pair of tweezers to remove pipette tips from a container and insert them into the Evotip boxes.\\n\\nConsidering this, the most relevant protocol from the list is:\\n\\n**Protocol number: 2**\\n\\n**Reasoning:**\\n\\nProtocol number 2, titled \"Placing Evotips in Evotip Boxes on the Evosep One System\", directly describes the action of placing Evotips (and presumably, pipette tips meant to be used with them) onto the Evosep One.  The video shows exactly this. While some aspects of other protocols might be tangentially related (e.g., preparing samples for LC-MS), this protocol is the most direct and accurate description of the observed action.  Specifically, placing filled Evotips at S1 and empty Blanks at S3 is consistent with the video.\\n'}\n",
      "Processing video: UltraSourceToESIsource_docuForgotGlovesANDCapillaryCap.MP4\n",
      "/Users/patriciaskowronek/Documents/documentation_agent_few_shot_examples/benchmark_dataset/documentation/UltraSourceToESIsource_docuForgotGlovesANDCapillaryCap.MP4\n"
     ]
    },
    {
     "data": {
      "text/markdown": [
       "Okay, I've reviewed the video and considered the lab context. Here's my assessment:\n",
       "\n",
       "**Analysis:**\n",
       "\n",
       "The video shows a person working on the UltraSource of a timsTOF mass spectrometer. The steps involve:\n",
       "\n",
       "1.  Taking off the UltraSource housing.\n",
       "2.  Removing the UltraSource itself.\n",
       "3.  Checking the capillary position to ensure it is properly seated and not blocking the gas flow.\n",
       "4.  Putting the UltraSource housing back on, and connecting the sample line.\n",
       "\n",
       "Based on these steps, the closest matching protocol is:\n",
       "\n",
       "**Protocol Number: 9**\n",
       "\n",
       "**Reasoning:**\n",
       "\n",
       "Protocol 9: ESIsourceToUltraSource_protocolCorrect_CapillaryPushedIn.md# Change source: ESI source to UltraSource describes swapping the instrument source from ESI to UltraSource, including:\n",
       "\n",
       "*   Switching the instrument to standby\n",
       "*   Changing the software settings\n",
       "*   Removing the ESI source and capillary cap\n",
       "*   **Critically:** Inspecting the capillary position\n",
       "*   Mounting the UltraSource hardware.\n",
       "*   Connecting the sample line\n",
       "*   Switching the instrument to operate.\n",
       "\n",
       "While the video doesn't show every step of protocol 9, the actions performed and the equipment involved align most closely with this specific protocol.\n"
      ],
      "text/plain": [
       "<IPython.core.display.Markdown object>"
      ]
     },
     "metadata": {},
     "output_type": "display_data"
    },
    {
     "name": "stdout",
     "output_type": "stream",
     "text": [
      "{'matches': False, 'video': 'UltraSourceToESIsource_docuForgotGlovesANDCapillaryCap.MP4', 'expected_protocol': '7', 'found_protocol': '9', 'verbos_eval': \"Okay, I've reviewed the video and considered the lab context. Here's my assessment:\\n\\n**Analysis:**\\n\\nThe video shows a person working on the UltraSource of a timsTOF mass spectrometer. The steps involve:\\n\\n1.  Taking off the UltraSource housing.\\n2.  Removing the UltraSource itself.\\n3.  Checking the capillary position to ensure it is properly seated and not blocking the gas flow.\\n4.  Putting the UltraSource housing back on, and connecting the sample line.\\n\\nBased on these steps, the closest matching protocol is:\\n\\n**Protocol Number: 9**\\n\\n**Reasoning:**\\n\\nProtocol 9: ESIsourceToUltraSource_protocolCorrect_CapillaryPushedIn.md# Change source: ESI source to UltraSource describes swapping the instrument source from ESI to UltraSource, including:\\n\\n*   Switching the instrument to standby\\n*   Changing the software settings\\n*   Removing the ESI source and capillary cap\\n*   **Critically:** Inspecting the capillary position\\n*   Mounting the UltraSource hardware.\\n*   Connecting the sample line\\n*   Switching the instrument to operate.\\n\\nWhile the video doesn't show every step of protocol 9, the actions performed and the equipment involved align most closely with this specific protocol.\\n\"}\n",
      "Processing video: QueueSamples_docuCorrect_1.mov\n",
      "/Users/patriciaskowronek/Documents/documentation_agent_few_shot_examples/benchmark_dataset/documentation/QueueSamples_docuCorrect_1.mov\n"
     ]
    },
    {
     "data": {
      "text/markdown": [
       "Okay, I have reviewed the video and the provided protocols. The actions performed in the video most closely resemble the steps involved in queuing and running samples within the HyStar software environment, specifically for a Bruker timsTOF system with an Evosep One LC.\n",
       "\n",
       "The individual in the video is:\n",
       "\n",
       "1.  **Reviewing and modifying an existing sample table.** This is evident from the software interface showing a table with sample names, vial positions, methods, etc.\n",
       "2.  **Assigning sample names and vial positions.** You can see the individual editing the sample table entries, suggesting they are preparing to run a sequence of samples.\n",
       "3. **Loading sample conditions**: The person in the video is uploading sample conditions.\n",
       "4. **Starting the sample sequence**: After modifying the table, the user clicks on the start button to start the measurement.\n",
       "\n",
       "These actions align perfectly with the procedure described in **protocol number: 1**."
      ],
      "text/plain": [
       "<IPython.core.display.Markdown object>"
      ]
     },
     "metadata": {},
     "output_type": "display_data"
    },
    {
     "name": "stdout",
     "output_type": "stream",
     "text": [
      "{'matches': True, 'video': 'QueueSamples_docuCorrect_1.mov', 'expected_protocol': '1', 'found_protocol': '1', 'verbos_eval': 'Okay, I have reviewed the video and the provided protocols. The actions performed in the video most closely resemble the steps involved in queuing and running samples within the HyStar software environment, specifically for a Bruker timsTOF system with an Evosep One LC.\\n\\nThe individual in the video is:\\n\\n1.  **Reviewing and modifying an existing sample table.** This is evident from the software interface showing a table with sample names, vial positions, methods, etc.\\n2.  **Assigning sample names and vial positions.** You can see the individual editing the sample table entries, suggesting they are preparing to run a sequence of samples.\\n3. **Loading sample conditions**: The person in the video is uploading sample conditions.\\n4. **Starting the sample sequence**: After modifying the table, the user clicks on the start button to start the measurement.\\n\\nThese actions align perfectly with the procedure described in **protocol number: 1**.'}\n",
      "Processing video: QueueSamples_docuNoBlankNoSampleIDWrongMSmethod.mov\n",
      "/Users/patriciaskowronek/Documents/documentation_agent_few_shot_examples/benchmark_dataset/documentation/QueueSamples_docuNoBlankNoSampleIDWrongMSmethod.mov\n"
     ]
    },
    {
     "data": {
      "text/markdown": [
       "Okay, I have analyzed the video and the provided protocols. The video shows the user interacting with the HyStar software to queue samples for LC-MS analysis. The user is selecting specific samples (5ng HeLa QC samples) from a sample table, configuring tray settings, modifying the sample ID, verifying the column autocompletion settings.\n",
       "The user is then starting the MS acquision.\n",
       "The protocol that captures the steps being performed in the video is:\n",
       "\n",
       "**protocol number: 1**"
      ],
      "text/plain": [
       "<IPython.core.display.Markdown object>"
      ]
     },
     "metadata": {},
     "output_type": "display_data"
    },
    {
     "name": "stdout",
     "output_type": "stream",
     "text": [
      "{'matches': True, 'video': 'QueueSamples_docuNoBlankNoSampleIDWrongMSmethod.mov', 'expected_protocol': '1', 'found_protocol': '1', 'verbos_eval': 'Okay, I have analyzed the video and the provided protocols. The video shows the user interacting with the HyStar software to queue samples for LC-MS analysis. The user is selecting specific samples (5ng HeLa QC samples) from a sample table, configuring tray settings, modifying the sample ID, verifying the column autocompletion settings.\\nThe user is then starting the MS acquision.\\nThe protocol that captures the steps being performed in the video is:\\n\\n**protocol number: 1**'}\n",
      "Processing video: UltraSourceToESIsource_docuCorrect.MP4\n",
      "/Users/patriciaskowronek/Documents/documentation_agent_few_shot_examples/benchmark_dataset/documentation/UltraSourceToESIsource_docuCorrect.MP4\n"
     ]
    },
    {
     "data": {
      "text/markdown": [
       "Okay, Professor Mann here. After reviewing the lab video, I've identified the most relevant protocol. The video focuses on the manipulation of the UltraSource and connecting it to the chromatography system, specifically the Evosep One. It shows how to connect the IonOpticks column and sample line of the Evosep.\n",
       "\n",
       "**Therefore, the most relevant protocol is:**\n",
       "\n",
       "**protocol number: 6** (ConnectingColumnSampleLine_protocolCorrect.md)"
      ],
      "text/plain": [
       "<IPython.core.display.Markdown object>"
      ]
     },
     "metadata": {},
     "output_type": "display_data"
    },
    {
     "name": "stdout",
     "output_type": "stream",
     "text": [
      "{'matches': False, 'video': 'UltraSourceToESIsource_docuCorrect.MP4', 'expected_protocol': '7', 'found_protocol': '6', 'verbos_eval': \"Okay, Professor Mann here. After reviewing the lab video, I've identified the most relevant protocol. The video focuses on the manipulation of the UltraSource and connecting it to the chromatography system, specifically the Evosep One. It shows how to connect the IonOpticks column and sample line of the Evosep.\\n\\n**Therefore, the most relevant protocol is:**\\n\\n**protocol number: 6** (ConnectingColumnSampleLine_protocolCorrect.md)\"}\n",
      "Processing video: DisconnectingColumn_docuWithoutStandby_1.MP4\n",
      "/Users/patriciaskowronek/Documents/documentation_agent_few_shot_examples/benchmark_dataset/documentation/DisconnectingColumn_docuWithoutStandby_1.MP4\n"
     ]
    },
    {
     "data": {
      "text/markdown": [
       "Okay, let's analyze the video and determine the most relevant protocol.\n",
       "\n",
       "**Video Analysis:**\n",
       "\n",
       "The video shows someone working on the front of a mass spectrometer, specifically around the source region. The person is disconnecting a column, presumably an IonOpticks column, from the liquid chromatography system (Evosep) and timsTOF mass spectrometer. Pliers are used to disconnect the column fitting. Once the column is disconnected, it is moved away from the mass spectrometer.\n",
       "\n",
       "**Protocol Matching:**\n",
       "\n",
       "Based on the video, the protocol that most closely describes the actions being performed is **DisconnectColumn_protocolCorrect.md**.\n",
       "\n",
       "**Reasoning:**\n",
       "\n",
       "*   The protocol focuses on disconnecting an IonOpticks column from an Evosep system.\n",
       "*   The protocol mentions the timsTOF mass spectrometer, which is the system shown in the video.\n",
       "*   The video shows the person disconnecting the column fitting, which is a key step in the protocol.\n",
       "\n",
       "Therefore, the best match is protocol number: 3."
      ],
      "text/plain": [
       "<IPython.core.display.Markdown object>"
      ]
     },
     "metadata": {},
     "output_type": "display_data"
    },
    {
     "name": "stdout",
     "output_type": "stream",
     "text": [
      "{'matches': True, 'video': 'DisconnectingColumn_docuWithoutStandby_1.MP4', 'expected_protocol': '3', 'found_protocol': '3', 'verbos_eval': \"Okay, let's analyze the video and determine the most relevant protocol.\\n\\n**Video Analysis:**\\n\\nThe video shows someone working on the front of a mass spectrometer, specifically around the source region. The person is disconnecting a column, presumably an IonOpticks column, from the liquid chromatography system (Evosep) and timsTOF mass spectrometer. Pliers are used to disconnect the column fitting. Once the column is disconnected, it is moved away from the mass spectrometer.\\n\\n**Protocol Matching:**\\n\\nBased on the video, the protocol that most closely describes the actions being performed is **DisconnectColumn_protocolCorrect.md**.\\n\\n**Reasoning:**\\n\\n*   The protocol focuses on disconnecting an IonOpticks column from an Evosep system.\\n*   The protocol mentions the timsTOF mass spectrometer, which is the system shown in the video.\\n*   The video shows the person disconnecting the column fitting, which is a key step in the protocol.\\n\\nTherefore, the best match is protocol number: 3.\"}\n",
      "Processing video: QueueSamples_docuDiffSampleNameAndEvotipNotAtPosition.mov\n",
      "/Users/patriciaskowronek/Documents/documentation_agent_few_shot_examples/benchmark_dataset/documentation/QueueSamples_docuDiffSampleNameAndEvotipNotAtPosition.mov\n"
     ]
    },
    {
     "data": {
      "text/markdown": [
       "Okay, I've analyzed the lab video and the provided protocols. Here's my assessment:\n",
       "\n",
       "**Explanation of what's happening in the video:**\n",
       "\n",
       "The video shows someone using the HyStar software interface for the Evosep/timsTOF system. The person is selecting samples in the sample table and configuring them for acquisition. They seem to be setting up a queue to run the samples on the mass spectrometer, including blanks and real samples. The selection of the samples in the sample table is performed by clicking on the the wells of the well plate displayed in the sample table. Once the sample entries were selected, they are started for measurement.\n",
       "\n",
       "**Why Protocol 1 fits best:**\n",
       "\n",
       "Protocol 1, \"Queue and measure samples in HyStar\" perfectly describes the action performed in the video. It includes all the steps that are seen in the video: selecting the samples, adjusting the sample table, and starting the measurement. The other protocols are more specific to other actions, like Evotip handling, column connections, or source changes.\n",
       "\n",
       "**Therefore, my answer is:**\n",
       "\n",
       "protocol number: 1"
      ],
      "text/plain": [
       "<IPython.core.display.Markdown object>"
      ]
     },
     "metadata": {},
     "output_type": "display_data"
    },
    {
     "name": "stdout",
     "output_type": "stream",
     "text": [
      "{'matches': True, 'video': 'QueueSamples_docuDiffSampleNameAndEvotipNotAtPosition.mov', 'expected_protocol': '1', 'found_protocol': '1', 'verbos_eval': 'Okay, I\\'ve analyzed the lab video and the provided protocols. Here\\'s my assessment:\\n\\n**Explanation of what\\'s happening in the video:**\\n\\nThe video shows someone using the HyStar software interface for the Evosep/timsTOF system. The person is selecting samples in the sample table and configuring them for acquisition. They seem to be setting up a queue to run the samples on the mass spectrometer, including blanks and real samples. The selection of the samples in the sample table is performed by clicking on the the wells of the well plate displayed in the sample table. Once the sample entries were selected, they are started for measurement.\\n\\n**Why Protocol 1 fits best:**\\n\\nProtocol 1, \"Queue and measure samples in HyStar\" perfectly describes the action performed in the video. It includes all the steps that are seen in the video: selecting the samples, adjusting the sample table, and starting the measurement. The other protocols are more specific to other actions, like Evotip handling, column connections, or source changes.\\n\\n**Therefore, my answer is:**\\n\\nprotocol number: 1'}\n",
      "Processing video: Pipette_ducoBufferBInsteadBufferA.MP4\n",
      "/Users/patriciaskowronek/Documents/documentation_agent_few_shot_examples/benchmark_dataset/documentation/Pipette_ducoBufferBInsteadBufferA.MP4\n"
     ]
    },
    {
     "data": {
      "text/markdown": [
       "Okay, let's analyze the video and find the best-fitting protocol.\n",
       "\n",
       "The video shows a scientist using a pipette to transfer a liquid, Buffer A, into a multi-well plate.  They are setting the pipette to 20 microliters and dispensing the liquid into wells labeled as A1 and A2, and appear to be continuing to fill more wells.\n",
       "\n",
       "Considering the protocols available, **protocol number 8, \"Pipette_protocolCorrect.md\"** aligns most closely with the actions being performed.\n",
       "\n",
       "**Reasoning:**\n",
       "\n",
       "*   **Matches the Task:** Protocol 8 explicitly describes how to pipette 20 uL of Buffer A into a PCR plate from A1. This directly mirrors the video's action.\n",
       "*   **Materials and Reagents Alignment:** The materials (PCR plate, pipette) and reagent (Buffer A) listed in protocol 8 are consistent with what's visible in the video.\n",
       "\n",
       "Therefore, the protocol that best captures the step being performed in the video is **protocol number 8**."
      ],
      "text/plain": [
       "<IPython.core.display.Markdown object>"
      ]
     },
     "metadata": {},
     "output_type": "display_data"
    },
    {
     "name": "stdout",
     "output_type": "stream",
     "text": [
      "{'matches': True, 'video': 'Pipette_ducoBufferBInsteadBufferA.MP4', 'expected_protocol': '8', 'found_protocol': '8', 'verbos_eval': 'Okay, let\\'s analyze the video and find the best-fitting protocol.\\n\\nThe video shows a scientist using a pipette to transfer a liquid, Buffer A, into a multi-well plate.  They are setting the pipette to 20 microliters and dispensing the liquid into wells labeled as A1 and A2, and appear to be continuing to fill more wells.\\n\\nConsidering the protocols available, **protocol number 8, \"Pipette_protocolCorrect.md\"** aligns most closely with the actions being performed.\\n\\n**Reasoning:**\\n\\n*   **Matches the Task:** Protocol 8 explicitly describes how to pipette 20 uL of Buffer A into a PCR plate from A1. This directly mirrors the video\\'s action.\\n*   **Materials and Reagents Alignment:** The materials (PCR plate, pipette) and reagent (Buffer A) listed in protocol 8 are consistent with what\\'s visible in the video.\\n\\nTherefore, the protocol that best captures the step being performed in the video is **protocol number 8**.'}\n",
      "Processing video: ESIsourceToUltraSource_docuFogotOvenPowerSupply.MP4\n",
      "/Users/patriciaskowronek/Documents/documentation_agent_few_shot_examples/benchmark_dataset/documentation/ESIsourceToUltraSource_docuFogotOvenPowerSupply.MP4\n"
     ]
    },
    {
     "data": {
      "text/markdown": [
       "Okay, Professor Mann here. After careful examination of the lab video, I've determined the relevant protocol being performed.\n",
       "\n",
       "The video shows the technician assembling the UltraSource on the timsTOF mass spectrometer. Specifically, they are:\n",
       "\n",
       "1.  Removing the UltraSource housing.\n",
       "2.  Inserting the column.\n",
       "3.  Connecting tubing.\n",
       "\n",
       "These actions closely align with the steps described in protocol 9.\n",
       "\n",
       "Therefore, protocol number: 9"
      ],
      "text/plain": [
       "<IPython.core.display.Markdown object>"
      ]
     },
     "metadata": {},
     "output_type": "display_data"
    },
    {
     "name": "stdout",
     "output_type": "stream",
     "text": [
      "{'matches': True, 'video': 'ESIsourceToUltraSource_docuFogotOvenPowerSupply.MP4', 'expected_protocol': '9', 'found_protocol': '9', 'verbos_eval': \"Okay, Professor Mann here. After careful examination of the lab video, I've determined the relevant protocol being performed.\\n\\nThe video shows the technician assembling the UltraSource on the timsTOF mass spectrometer. Specifically, they are:\\n\\n1.  Removing the UltraSource housing.\\n2.  Inserting the column.\\n3.  Connecting tubing.\\n\\nThese actions closely align with the steps described in protocol 9.\\n\\nTherefore, protocol number: 9\"}\n",
      "Processing video: Pipette_docu_WrongRowB_B10Twice_B11LeftOut.MP4\n",
      "/Users/patriciaskowronek/Documents/documentation_agent_few_shot_examples/benchmark_dataset/documentation/Pipette_docu_WrongRowB_B10Twice_B11LeftOut.MP4\n"
     ]
    },
    {
     "data": {
      "text/markdown": [
       "Okay, let's analyze the video and determine the most relevant protocol.\n",
       "\n",
       "The video shows someone using a pipette to transfer liquid from a vial to a multi-well plate. The person is pipetting multiple times.\n",
       "\n",
       "Considering all the steps and materials, the most appropriate protocol is:\n",
       "\n",
       "**protocol number: 8**"
      ],
      "text/plain": [
       "<IPython.core.display.Markdown object>"
      ]
     },
     "metadata": {},
     "output_type": "display_data"
    },
    {
     "name": "stdout",
     "output_type": "stream",
     "text": [
      "{'matches': True, 'video': 'Pipette_docu_WrongRowB_B10Twice_B11LeftOut.MP4', 'expected_protocol': '8', 'found_protocol': '8', 'verbos_eval': \"Okay, let's analyze the video and determine the most relevant protocol.\\n\\nThe video shows someone using a pipette to transfer liquid from a vial to a multi-well plate. The person is pipetting multiple times.\\n\\nConsidering all the steps and materials, the most appropriate protocol is:\\n\\n**protocol number: 8**\"}\n",
      "Processing video: ConnectingColumnSampleLine_docuWithoutStandbyANDtimsControl.mp4\n",
      "/Users/patriciaskowronek/Documents/documentation_agent_few_shot_examples/benchmark_dataset/documentation/ConnectingColumnSampleLine_docuWithoutStandbyANDtimsControl.mp4\n"
     ]
    },
    {
     "data": {
      "text/markdown": [
       "Okay, let's analyze the video and determine the protocol being performed.\n",
       "\n",
       "The video shows someone working with a mass spectrometer, specifically a Bruker timsTOF. The person is:\n",
       "\n",
       "1.  **Connecting a blue sample line to the IonOpticks column:** The key action is attaching a capillary, likely carrying the LC eluent, to the column.\n",
       "2.  **Using pliers to tighten the connection.**\n",
       "3.  **Securing the oven.**\n",
       "4.  **The green light indicating the functionality of the connection**\n",
       "\n",
       "Based on these actions, the most relevant protocol is **Connecting IonOpticks Column & sample line of Evosep**.\n",
       "\n",
       "protocol number: 6"
      ],
      "text/plain": [
       "<IPython.core.display.Markdown object>"
      ]
     },
     "metadata": {},
     "output_type": "display_data"
    },
    {
     "name": "stdout",
     "output_type": "stream",
     "text": [
      "{'matches': True, 'video': 'ConnectingColumnSampleLine_docuWithoutStandbyANDtimsControl.mp4', 'expected_protocol': '6', 'found_protocol': '6', 'verbos_eval': \"Okay, let's analyze the video and determine the protocol being performed.\\n\\nThe video shows someone working with a mass spectrometer, specifically a Bruker timsTOF. The person is:\\n\\n1.  **Connecting a blue sample line to the IonOpticks column:** The key action is attaching a capillary, likely carrying the LC eluent, to the column.\\n2.  **Using pliers to tighten the connection.**\\n3.  **Securing the oven.**\\n4.  **The green light indicating the functionality of the connection**\\n\\nBased on these actions, the most relevant protocol is **Connecting IonOpticks Column & sample line of Evosep**.\\n\\nprotocol number: 6\"}\n",
      "Processing video: TimsCalibration_docuSavedMethod.mov\n",
      "/Users/patriciaskowronek/Documents/documentation_agent_few_shot_examples/benchmark_dataset/documentation/TimsCalibration_docuSavedMethod.mov\n"
     ]
    },
    {
     "data": {
      "text/markdown": [
       "Okay, let's analyze the video and determine the appropriate protocol.\n",
       "\n",
       "The video shows someone operating a timsTOF mass spectrometer, specifically calibrating the TIMS (Trapped Ion Mobility Spectrometer) device. Here's how I came to this conclusion:\n",
       "\n",
       "1.  **Software Interface:** The software displayed is clearly for controlling a Bruker timsTOF mass spectrometer.\n",
       "2.  **Calibration Tab:** The video shows the \"Calibration\" tab within the software, specifically the \"Mobility\" calibration settings. This is a clear indicator that a mobility calibration is being performed.\n",
       "3.  **Calibrant List:** The reference mass list visible is the standard list used for calibrating the mobility of the TIMS device on Bruker instruments.\n",
       "4.  **Parameter Adjustments:** The user is adjusting parameters within the calibration window, such as the m/z range and the \"calibrate\" and 'accept' buttons are being clicked.\n",
       "5. The video show the user modifying and applying changes to timscontrol.\n",
       "\n",
       "Given these observations, the most appropriate protocol is the one that describes calibrating the TIMS device within the timsControl software.\n",
       "\n",
       "**Therefore, the answer is:**\n",
       "\n",
       "protocol number: 5\n"
      ],
      "text/plain": [
       "<IPython.core.display.Markdown object>"
      ]
     },
     "metadata": {},
     "output_type": "display_data"
    },
    {
     "name": "stdout",
     "output_type": "stream",
     "text": [
      "{'matches': True, 'video': 'TimsCalibration_docuSavedMethod.mov', 'expected_protocol': '5', 'found_protocol': '5', 'verbos_eval': 'Okay, let\\'s analyze the video and determine the appropriate protocol.\\n\\nThe video shows someone operating a timsTOF mass spectrometer, specifically calibrating the TIMS (Trapped Ion Mobility Spectrometer) device. Here\\'s how I came to this conclusion:\\n\\n1.  **Software Interface:** The software displayed is clearly for controlling a Bruker timsTOF mass spectrometer.\\n2.  **Calibration Tab:** The video shows the \"Calibration\" tab within the software, specifically the \"Mobility\" calibration settings. This is a clear indicator that a mobility calibration is being performed.\\n3.  **Calibrant List:** The reference mass list visible is the standard list used for calibrating the mobility of the TIMS device on Bruker instruments.\\n4.  **Parameter Adjustments:** The user is adjusting parameters within the calibration window, such as the m/z range and the \"calibrate\" and \\'accept\\' buttons are being clicked.\\n5. The video show the user modifying and applying changes to timscontrol.\\n\\nGiven these observations, the most appropriate protocol is the one that describes calibrating the TIMS device within the timsControl software.\\n\\n**Therefore, the answer is:**\\n\\nprotocol number: 5\\n'}\n",
      "Processing video: Dilute_docuWrongSolvent.MP4\n",
      "/Users/patriciaskowronek/Documents/documentation_agent_few_shot_examples/benchmark_dataset/documentation/Dilute_docuWrongSolvent.MP4\n"
     ]
    },
    {
     "data": {
      "text/markdown": [
       "Okay, let's analyze the video and determine the appropriate protocol.\n",
       "\n",
       "**Observations from the Video:**\n",
       "\n",
       "*   The person in the video is using a pipette to transfer liquid from a glass bottle into a tube held in an orange rack.\n",
       "*   The pipette is being set to a specific volume using the adjustment dial.\n",
       "*   The person is using pipette tips from a box.\n",
       "* The person is dispensing liquid into an eppendorf tube\n",
       "\n",
       "Based on these observations, the closest matching protocol appears to be: \"Dispensing Protocol\" where the technician dispenses 400 uL buffer A and then 100 uL buffer B in an Eppendorf tube.\n",
       "\n",
       "Therefore, the answer is:\n",
       "\n",
       "protocol number: 4"
      ],
      "text/plain": [
       "<IPython.core.display.Markdown object>"
      ]
     },
     "metadata": {},
     "output_type": "display_data"
    },
    {
     "name": "stdout",
     "output_type": "stream",
     "text": [
      "{'matches': True, 'video': 'Dilute_docuWrongSolvent.MP4', 'expected_protocol': '4', 'found_protocol': '4', 'verbos_eval': 'Okay, let\\'s analyze the video and determine the appropriate protocol.\\n\\n**Observations from the Video:**\\n\\n*   The person in the video is using a pipette to transfer liquid from a glass bottle into a tube held in an orange rack.\\n*   The pipette is being set to a specific volume using the adjustment dial.\\n*   The person is using pipette tips from a box.\\n* The person is dispensing liquid into an eppendorf tube\\n\\nBased on these observations, the closest matching protocol appears to be: \"Dispensing Protocol\" where the technician dispenses 400 uL buffer A and then 100 uL buffer B in an Eppendorf tube.\\n\\nTherefore, the answer is:\\n\\nprotocol number: 4'}\n",
      "Processing video: TimsCalibration_docuWrongOrderSteps.mov\n",
      "/Users/patriciaskowronek/Documents/documentation_agent_few_shot_examples/benchmark_dataset/documentation/TimsCalibration_docuWrongOrderSteps.mov\n"
     ]
    },
    {
     "data": {
      "text/markdown": [
       "The video shows a user calibrating the TIMS device in timsControl software. This involves setting parameters in the software to ensure accurate mass and mobility measurements. The user is adjusting the mobility range, selecting calibrants, and monitoring the calibration score. This is described in the protocol:\n",
       "\n",
       "**protocol number: 5**"
      ],
      "text/plain": [
       "<IPython.core.display.Markdown object>"
      ]
     },
     "metadata": {},
     "output_type": "display_data"
    },
    {
     "name": "stdout",
     "output_type": "stream",
     "text": [
      "{'matches': True, 'video': 'TimsCalibration_docuWrongOrderSteps.mov', 'expected_protocol': '5', 'found_protocol': '5', 'verbos_eval': 'The video shows a user calibrating the TIMS device in timsControl software. This involves setting parameters in the software to ensure accurate mass and mobility measurements. The user is adjusting the mobility range, selecting calibrants, and monitoring the calibration score. This is described in the protocol:\\n\\n**protocol number: 5**'}\n",
      "Processing video: Dilute_docuWrongVolume_PipettTipNotChanged.MP4\n",
      "/Users/patriciaskowronek/Documents/documentation_agent_few_shot_examples/benchmark_dataset/documentation/Dilute_docuWrongVolume_PipettTipNotChanged.MP4\n"
     ]
    },
    {
     "data": {
      "text/markdown": [
       "Okay, I've reviewed the video and the provided protocols.\n",
       "\n",
       "The video shows someone setting up a dilution and then pipetting liquid from a bottle to an Eppendorf tube using a pipette. The activity of adjusting the pipette volume by twisting the wheel on the pipette is also present.\n",
       "\n",
       "Based on this, the protocol that best captures the performed action is:\n",
       "\n",
       "**protocol number: 4**"
      ],
      "text/plain": [
       "<IPython.core.display.Markdown object>"
      ]
     },
     "metadata": {},
     "output_type": "display_data"
    },
    {
     "name": "stdout",
     "output_type": "stream",
     "text": [
      "{'matches': True, 'video': 'Dilute_docuWrongVolume_PipettTipNotChanged.MP4', 'expected_protocol': '4', 'found_protocol': '4', 'verbos_eval': \"Okay, I've reviewed the video and the provided protocols.\\n\\nThe video shows someone setting up a dilution and then pipetting liquid from a bottle to an Eppendorf tube using a pipette. The activity of adjusting the pipette volume by twisting the wheel on the pipette is also present.\\n\\nBased on this, the protocol that best captures the performed action is:\\n\\n**protocol number: 4**\"}\n",
      "Processing video: DisconnectingColumn_docuCorrect.MP4\n",
      "/Users/patriciaskowronek/Documents/documentation_agent_few_shot_examples/benchmark_dataset/documentation/DisconnectingColumn_docuCorrect.MP4\n"
     ]
    },
    {
     "data": {
      "text/markdown": [
       "Okay, let's analyze the video and determine the most appropriate protocol.\n",
       "\n",
       "**Video Analysis:**\n",
       "\n",
       "The video clearly shows someone working at the front end of a mass spectrometer, specifically around the source region. The key actions include:\n",
       "\n",
       "1.  Removing a component (likely a part of the electrospray source).\n",
       "2.  Manipulating a capillary or connection with tweezers or pliers.\n",
       "3.  Potentially working with a liquid chromatography column connection.\n",
       "\n",
       "Looking at the protocols I have, the following are relevant:\n",
       "\n",
       "*   **Protocol 3: Disconnecting an IonOpticks column from an Evosep System:** This deals with disconnecting a column, which is part of what's observed.\n",
       "*   **Protocol 6: Connecting IonOpticks Column & sample line of Evosep:** This deals with connecting a column, which is part of what's observed.\n",
       "*   **Protocol 7: Change source: UltraSource to ESI source:**  This deals with switching from UltraSource to ESI, which could involve manipulating parts near the source.\n",
       "*   **Protocol 9: Change source: ESI source to UltraSource:** This deals with switching from ESI to UltraSource, and the final step of pushing back the capillary.\n",
       "\n",
       "Given that the person is handling a capillary and it is about connecting the column again after the ESI source has been applied to the UltraSource housing, the best fitting protocol is:\n",
       "\n",
       "**protocol number: 9**"
      ],
      "text/plain": [
       "<IPython.core.display.Markdown object>"
      ]
     },
     "metadata": {},
     "output_type": "display_data"
    },
    {
     "name": "stdout",
     "output_type": "stream",
     "text": [
      "{'matches': False, 'video': 'DisconnectingColumn_docuCorrect.MP4', 'expected_protocol': '3', 'found_protocol': '9', 'verbos_eval': \"Okay, let's analyze the video and determine the most appropriate protocol.\\n\\n**Video Analysis:**\\n\\nThe video clearly shows someone working at the front end of a mass spectrometer, specifically around the source region. The key actions include:\\n\\n1.  Removing a component (likely a part of the electrospray source).\\n2.  Manipulating a capillary or connection with tweezers or pliers.\\n3.  Potentially working with a liquid chromatography column connection.\\n\\nLooking at the protocols I have, the following are relevant:\\n\\n*   **Protocol 3: Disconnecting an IonOpticks column from an Evosep System:** This deals with disconnecting a column, which is part of what's observed.\\n*   **Protocol 6: Connecting IonOpticks Column & sample line of Evosep:** This deals with connecting a column, which is part of what's observed.\\n*   **Protocol 7: Change source: UltraSource to ESI source:**  This deals with switching from UltraSource to ESI, which could involve manipulating parts near the source.\\n*   **Protocol 9: Change source: ESI source to UltraSource:** This deals with switching from ESI to UltraSource, and the final step of pushing back the capillary.\\n\\nGiven that the person is handling a capillary and it is about connecting the column again after the ESI source has been applied to the UltraSource housing, the best fitting protocol is:\\n\\n**protocol number: 9**\"}\n",
      "Processing video: Pipette_docuFirstTwoWrongVolumneANDA2Twice.MP4\n",
      "/Users/patriciaskowronek/Documents/documentation_agent_few_shot_examples/benchmark_dataset/documentation/Pipette_docuFirstTwoWrongVolumneANDA2Twice.MP4\n"
     ]
    },
    {
     "data": {
      "text/markdown": [
       "Okay, let's analyze the video and determine the most appropriate protocol.\n",
       "\n",
       "The video shows a scientist using a pipette to transfer liquid from a vial into a multi-well plate. This involves setting the pipette volume, aspirating liquid from the vial, and dispensing it into the wells of the plate. The scientist is transferring the same solution into each well one by one.\n",
       "\n",
       "Based on this observation, here's my assessment:\n",
       "\n",
       "*   **Protocol 8 (Pipette_protocolCorrect.md):** This protocol describes dispensing 20 uL of Buffer A into a PCR plate from A1 to A12. The steps of opening the bottle, setting the volume of the pipette, attaching a pipette tip, aspirating, and dispensing are aligned with the actions performed in the video.\n",
       "*   **Protocol 4 (Diluting_protocolCorrect.md):** This protocol describes pipetting Buffer A and Buffer B into an Eppendorf tube, but it focuses on dilution and doesn't directly address the well-by-well transfer seen in the video.\n",
       "*   **Other Protocols:** The other protocols are not relevant because they focus on calibration of a TIMS, changing the ESI source, or handling of Evotips.\n",
       "\n",
       "Therefore, **protocol 8** most closely aligns with the actions observed in the lab video.\n",
       "\n",
       "protocol number: 8"
      ],
      "text/plain": [
       "<IPython.core.display.Markdown object>"
      ]
     },
     "metadata": {},
     "output_type": "display_data"
    },
    {
     "name": "stdout",
     "output_type": "stream",
     "text": [
      "{'matches': True, 'video': 'Pipette_docuFirstTwoWrongVolumneANDA2Twice.MP4', 'expected_protocol': '8', 'found_protocol': '8', 'verbos_eval': \"Okay, let's analyze the video and determine the most appropriate protocol.\\n\\nThe video shows a scientist using a pipette to transfer liquid from a vial into a multi-well plate. This involves setting the pipette volume, aspirating liquid from the vial, and dispensing it into the wells of the plate. The scientist is transferring the same solution into each well one by one.\\n\\nBased on this observation, here's my assessment:\\n\\n*   **Protocol 8 (Pipette_protocolCorrect.md):** This protocol describes dispensing 20 uL of Buffer A into a PCR plate from A1 to A12. The steps of opening the bottle, setting the volume of the pipette, attaching a pipette tip, aspirating, and dispensing are aligned with the actions performed in the video.\\n*   **Protocol 4 (Diluting_protocolCorrect.md):** This protocol describes pipetting Buffer A and Buffer B into an Eppendorf tube, but it focuses on dilution and doesn't directly address the well-by-well transfer seen in the video.\\n*   **Other Protocols:** The other protocols are not relevant because they focus on calibration of a TIMS, changing the ESI source, or handling of Evotips.\\n\\nTherefore, **protocol 8** most closely aligns with the actions observed in the lab video.\\n\\nprotocol number: 8\"}\n",
      "Processing video: PlaceEvotips_docuWrongPosition.MP4\n",
      "/Users/patriciaskowronek/Documents/documentation_agent_few_shot_examples/benchmark_dataset/documentation/PlaceEvotips_docuWrongPosition.MP4\n"
     ]
    },
    {
     "data": {
      "text/markdown": [
       "Okay, let's analyze the video to determine which protocol best captures the action being performed.\n",
       "\n",
       "The video shows a researcher placing Evotips into an Evosep One system. This involves taking boxes of Evotips, removing the lids, and placing tips into designated spots within the Evotip boxes already present on the instrument.\n",
       "\n",
       "Now let's look through our protocol options:\n",
       "\n",
       "*   **Protocol 1 (QueueSamples_protocolCorrect.md):** This is about queuing samples in HyStar software, which isn't shown in the video.\n",
       "*   **Protocol 2 (PlaceEvotips_protocolCorrect.md):** This protocol directly addresses placing Evotips in Evotip boxes on an Evosep One system, which is exactly what's happening in the video.\n",
       "*   **Protocol 3 (DisconnectColumn_protocolCorrect.md):** This focuses on disconnecting a column, which is irrelevant to the video.\n",
       "*   **Protocol 4 (Diluting_protocolCorrect.md):** This is about diluting samples using pipettes, a step that is not shown on the video.\n",
       "*   **Protocol 5 (TimsCalibration_protocolCorrect.md):** This is about calibrating the TIMS device.\n",
       "*   **Protocol 6 (ConnectingColumnSampleLine_protocolCorrect.md):** This is about connecting IonOpticks Column & sample line of Evosep.\n",
       "*   **Protocol 7 (UltraSourceToESIsource_protocolCorrect.md):** This is about changing the source.\n",
       "*   **Protocol 8 (Pipette_protocolCorrect.md):** This protocol is dispensing protocol using pipette.\n",
       "*   **Protocol 9 (ESIsourceToUltraSource_protocolCorrect_CapillaryPushedIn.md):** This is about changing the source.\n",
       "*   **Protocol 10 (Evotip_protocolCorrect.md):** This protocol is about spinning the Evotips.\n",
       "\n",
       "Therefore, the protocol that best matches the video is about placing Evotips on the Evosep One system.\n",
       "\n",
       "protocol number: 2\n"
      ],
      "text/plain": [
       "<IPython.core.display.Markdown object>"
      ]
     },
     "metadata": {},
     "output_type": "display_data"
    },
    {
     "name": "stdout",
     "output_type": "stream",
     "text": [
      "{'matches': True, 'video': 'PlaceEvotips_docuWrongPosition.MP4', 'expected_protocol': '2', 'found_protocol': '2', 'verbos_eval': \"Okay, let's analyze the video to determine which protocol best captures the action being performed.\\n\\nThe video shows a researcher placing Evotips into an Evosep One system. This involves taking boxes of Evotips, removing the lids, and placing tips into designated spots within the Evotip boxes already present on the instrument.\\n\\nNow let's look through our protocol options:\\n\\n*   **Protocol 1 (QueueSamples_protocolCorrect.md):** This is about queuing samples in HyStar software, which isn't shown in the video.\\n*   **Protocol 2 (PlaceEvotips_protocolCorrect.md):** This protocol directly addresses placing Evotips in Evotip boxes on an Evosep One system, which is exactly what's happening in the video.\\n*   **Protocol 3 (DisconnectColumn_protocolCorrect.md):** This focuses on disconnecting a column, which is irrelevant to the video.\\n*   **Protocol 4 (Diluting_protocolCorrect.md):** This is about diluting samples using pipettes, a step that is not shown on the video.\\n*   **Protocol 5 (TimsCalibration_protocolCorrect.md):** This is about calibrating the TIMS device.\\n*   **Protocol 6 (ConnectingColumnSampleLine_protocolCorrect.md):** This is about connecting IonOpticks Column & sample line of Evosep.\\n*   **Protocol 7 (UltraSourceToESIsource_protocolCorrect.md):** This is about changing the source.\\n*   **Protocol 8 (Pipette_protocolCorrect.md):** This protocol is dispensing protocol using pipette.\\n*   **Protocol 9 (ESIsourceToUltraSource_protocolCorrect_CapillaryPushedIn.md):** This is about changing the source.\\n*   **Protocol 10 (Evotip_protocolCorrect.md):** This protocol is about spinning the Evotips.\\n\\nTherefore, the protocol that best matches the video is about placing Evotips on the Evosep One system.\\n\\nprotocol number: 2\\n\"}\n",
      "Processing video: TimsCalibration_docuCorrect.mov\n",
      "/Users/patriciaskowronek/Documents/documentation_agent_few_shot_examples/benchmark_dataset/documentation/TimsCalibration_docuCorrect.mov\n"
     ]
    },
    {
     "data": {
      "text/markdown": [
       "Okay, I have reviewed the video and considered the context of my expertise. The video shows actions being performed within the Bruker timsControl software. Specifically, it shows steps involved in calibrating the mobility separation within the mass spectrometer. The user adjusts parameters related to the TIMS device and initiates the calibration process.\n",
       "\n",
       "Therefore, the protocol that best captures the step being performed in the video is:\n",
       "\n",
       "**protocol number: 5**"
      ],
      "text/plain": [
       "<IPython.core.display.Markdown object>"
      ]
     },
     "metadata": {},
     "output_type": "display_data"
    },
    {
     "name": "stdout",
     "output_type": "stream",
     "text": [
      "{'matches': True, 'video': 'TimsCalibration_docuCorrect.mov', 'expected_protocol': '5', 'found_protocol': '5', 'verbos_eval': 'Okay, I have reviewed the video and considered the context of my expertise. The video shows actions being performed within the Bruker timsControl software. Specifically, it shows steps involved in calibrating the mobility separation within the mass spectrometer. The user adjusts parameters related to the TIMS device and initiates the calibration process.\\n\\nTherefore, the protocol that best captures the step being performed in the video is:\\n\\n**protocol number: 5**'}\n",
      "Processing video: QueueSamples_docuWrongRow_S3A1Twice.mov\n",
      "/Users/patriciaskowronek/Documents/documentation_agent_few_shot_examples/benchmark_dataset/documentation/QueueSamples_docuWrongRow_S3A1Twice.mov\n"
     ]
    },
    {
     "data": {
      "text/markdown": [
       "Okay, I have analyzed the video and considered the various proteomics and mass spectrometry protocols I am familiar with. Based on the actions shown in the lab video, the protocol that best captures the steps being performed is:\n",
       "\n",
       "**Queue and measure samples in HyStar**\n",
       "\n",
       "I can say this because the video shows the user interacting with the HyStar software interface. Specifically, they are:\n",
       "\n",
       "*   Selecting a sample table\n",
       "*   Modifying sample names\n",
       "*   Adjusting vial positions to match samples to Evotip positions\n",
       "*   Changing and uploading sample conditions to start data acquisition\n",
       "\n",
       "These steps are all integral to setting up and queuing samples for LC-MS analysis within the HyStar environment. The other protocols are either pre-steps or post-steps, and do not involve the actions seen in the video.\n",
       "\n",
       "Therefore,\n",
       "\n",
       "**protocol number: 1**"
      ],
      "text/plain": [
       "<IPython.core.display.Markdown object>"
      ]
     },
     "metadata": {},
     "output_type": "display_data"
    },
    {
     "name": "stdout",
     "output_type": "stream",
     "text": [
      "{'matches': True, 'video': 'QueueSamples_docuWrongRow_S3A1Twice.mov', 'expected_protocol': '1', 'found_protocol': '1', 'verbos_eval': 'Okay, I have analyzed the video and considered the various proteomics and mass spectrometry protocols I am familiar with. Based on the actions shown in the lab video, the protocol that best captures the steps being performed is:\\n\\n**Queue and measure samples in HyStar**\\n\\nI can say this because the video shows the user interacting with the HyStar software interface. Specifically, they are:\\n\\n*   Selecting a sample table\\n*   Modifying sample names\\n*   Adjusting vial positions to match samples to Evotip positions\\n*   Changing and uploading sample conditions to start data acquisition\\n\\nThese steps are all integral to setting up and queuing samples for LC-MS analysis within the HyStar environment. The other protocols are either pre-steps or post-steps, and do not involve the actions seen in the video.\\n\\nTherefore,\\n\\n**protocol number: 1**'}\n",
      "Processing video: PlaceEvotips_docuCorrect.MP4\n",
      "/Users/patriciaskowronek/Documents/documentation_agent_few_shot_examples/benchmark_dataset/documentation/PlaceEvotips_docuCorrect.MP4\n"
     ]
    },
    {
     "data": {
      "text/markdown": [
       "Okay, let's analyze the video and determine the most appropriate protocol.\n",
       "\n",
       "The video shows someone placing Evotips in Evotip boxes on the Evosep One system. They are handling the Evotips with gloved hands, inspecting them, and placing them into the wells of the box.\n",
       "\n",
       "Based on this, the best-fitting protocol is the one titled: **\"Placing Evotips in Evotip Boxes on the Evosep One System.\"** It directly addresses the actions being performed in the video.\n",
       "\n",
       "protocol number: 2"
      ],
      "text/plain": [
       "<IPython.core.display.Markdown object>"
      ]
     },
     "metadata": {},
     "output_type": "display_data"
    },
    {
     "name": "stdout",
     "output_type": "stream",
     "text": [
      "{'matches': True, 'video': 'PlaceEvotips_docuCorrect.MP4', 'expected_protocol': '2', 'found_protocol': '2', 'verbos_eval': 'Okay, let\\'s analyze the video and determine the most appropriate protocol.\\n\\nThe video shows someone placing Evotips in Evotip boxes on the Evosep One system. They are handling the Evotips with gloved hands, inspecting them, and placing them into the wells of the box.\\n\\nBased on this, the best-fitting protocol is the one titled: **\"Placing Evotips in Evotip Boxes on the Evosep One System.\"** It directly addresses the actions being performed in the video.\\n\\nprotocol number: 2'}\n",
      "Processing video: ESIsourceToUltraSource_docuCorrect.MP4\n",
      "/Users/patriciaskowronek/Documents/documentation_agent_few_shot_examples/benchmark_dataset/documentation/ESIsourceToUltraSource_docuCorrect.MP4\n"
     ]
    },
    {
     "data": {
      "text/markdown": [
       "Okay, let's analyze the video and determine the most appropriate protocol.\n",
       "\n",
       "**Video Analysis:**\n",
       "\n",
       "The video shows someone:\n",
       "\n",
       "1.  Taking a part of a Bruker timsTOF mass spectrometer. This part is the sphere with the spray cone in it. This sphere is opened.\n",
       "2.  The sphere is placed on a bench to open it.\n",
       "3.  The spray cone is disconnected.\n",
       "4.  A new part is taken and placed inside the sphere.\n",
       "5.  A blue line was connected and shortend.\n",
       "\n",
       "This video is showing that the person is switching from an ESI source to UltraSource. The capillary appears to be partially pulled out, which is then pushed back into proper position.\n",
       "\n",
       "**Matching Protocol:**\n",
       "\n",
       "Based on the actions observed, the protocol that best captures the procedure being performed is:\n",
       "\n",
       "*   **protocol number: 9** (file name: ESIsourceToUltraSource\\_protocolCorrect\\_CapillaryPushedIn.md# Change source: ESI source to UltraSource).\n",
       "\n",
       "**Reasoning:**\n",
       "\n",
       "This protocol is the only one that completely matches the procedure shown in the video.\n"
      ],
      "text/plain": [
       "<IPython.core.display.Markdown object>"
      ]
     },
     "metadata": {},
     "output_type": "display_data"
    },
    {
     "name": "stdout",
     "output_type": "stream",
     "text": [
      "{'matches': True, 'video': 'ESIsourceToUltraSource_docuCorrect.MP4', 'expected_protocol': '9', 'found_protocol': '9', 'verbos_eval': \"Okay, let's analyze the video and determine the most appropriate protocol.\\n\\n**Video Analysis:**\\n\\nThe video shows someone:\\n\\n1.  Taking a part of a Bruker timsTOF mass spectrometer. This part is the sphere with the spray cone in it. This sphere is opened.\\n2.  The sphere is placed on a bench to open it.\\n3.  The spray cone is disconnected.\\n4.  A new part is taken and placed inside the sphere.\\n5.  A blue line was connected and shortend.\\n\\nThis video is showing that the person is switching from an ESI source to UltraSource. The capillary appears to be partially pulled out, which is then pushed back into proper position.\\n\\n**Matching Protocol:**\\n\\nBased on the actions observed, the protocol that best captures the procedure being performed is:\\n\\n*   **protocol number: 9** (file name: ESIsourceToUltraSource\\\\_protocolCorrect\\\\_CapillaryPushedIn.md# Change source: ESI source to UltraSource).\\n\\n**Reasoning:**\\n\\nThis protocol is the only one that completely matches the procedure shown in the video.\\n\"}\n",
      "Processing video: QueueSamples_docuEvotipNotAtPositionNoSampleID.mov\n",
      "/Users/patriciaskowronek/Documents/documentation_agent_few_shot_examples/benchmark_dataset/documentation/QueueSamples_docuEvotipNotAtPositionNoSampleID.mov\n"
     ]
    },
    {
     "data": {
      "text/markdown": [
       "Okay, Professor Mann here. After carefully reviewing the video, I've determined that the primary action being performed is setting up the sample queue in the HyStar software for the Evosep LC-MS system.  The user is specifying the positions of the Evotips containing the QC samples and blanks within the sample table. They are also configuring various parameters, suggesting they are preparing the instrument for a run. Therefore, the protocol that best captures this action is the one that details how to queue samples in HyStar.\n",
       "\n",
       "protocol number: 1"
      ],
      "text/plain": [
       "<IPython.core.display.Markdown object>"
      ]
     },
     "metadata": {},
     "output_type": "display_data"
    },
    {
     "name": "stdout",
     "output_type": "stream",
     "text": [
      "{'matches': True, 'video': 'QueueSamples_docuEvotipNotAtPositionNoSampleID.mov', 'expected_protocol': '1', 'found_protocol': '1', 'verbos_eval': \"Okay, Professor Mann here. After carefully reviewing the video, I've determined that the primary action being performed is setting up the sample queue in the HyStar software for the Evosep LC-MS system.  The user is specifying the positions of the Evotips containing the QC samples and blanks within the sample table. They are also configuring various parameters, suggesting they are preparing the instrument for a run. Therefore, the protocol that best captures this action is the one that details how to queue samples in HyStar.\\n\\nprotocol number: 1\"}\n",
      "Processing video: UltraSourceToESIsource_docuForgotCapillaryCap.MP4\n",
      "/Users/patriciaskowronek/Documents/documentation_agent_few_shot_examples/benchmark_dataset/documentation/UltraSourceToESIsource_docuForgotCapillaryCap.MP4\n"
     ]
    },
    {
     "data": {
      "text/markdown": [
       "Okay, let's analyze the video provided and determine the most appropriate protocol.\n",
       "\n",
       "**Analysis of the Video:**\n",
       "\n",
       "The video shows a scientist working with a timsTOF mass spectrometer and associated equipment, including what appears to be an Evosep LC system. The key actions observed are:\n",
       "\n",
       "1.  **Disassembly/Assembly of parts within the UltraSource ion source:** The scientist removes components from within the UltraSource, including the spray shield. This involves some manipulation of small parts and a potential concern for cleanliness and correct reassembly. It appears the scientist either switches from an electrospray ionization source to another or changes the ion source within the UltraSource or performs maintenance work.\n",
       "2.  **General maintenance or cleaning** As the video continues, the scientist seems to be cleaning other parts and putting in new parts.\n",
       "\n",
       "Considering these actions, the most suitable protocol appears to be **ESIsourceToUltraSource_protocolCorrect_CapillaryPushedIn.md**, which describes changing from an ESI source to the UltraSource. Disassembly and assembly of parts within the UltraSource are also detailed in this protocol.\n",
       "\n",
       "**Rationale for Selection:**\n",
       "\n",
       "*   The protocol directly addresses the task of replacing a part of the UltraSource.\n",
       "*   It aligns with the observed handling of the parts within the IonSource and the use of the NanoViper Adapter.\n",
       "\n",
       "**Conclusion:**\n",
       "\n",
       "protocol number: 9"
      ],
      "text/plain": [
       "<IPython.core.display.Markdown object>"
      ]
     },
     "metadata": {},
     "output_type": "display_data"
    },
    {
     "name": "stdout",
     "output_type": "stream",
     "text": [
      "{'matches': False, 'video': 'UltraSourceToESIsource_docuForgotCapillaryCap.MP4', 'expected_protocol': '7', 'found_protocol': '9', 'verbos_eval': \"Okay, let's analyze the video provided and determine the most appropriate protocol.\\n\\n**Analysis of the Video:**\\n\\nThe video shows a scientist working with a timsTOF mass spectrometer and associated equipment, including what appears to be an Evosep LC system. The key actions observed are:\\n\\n1.  **Disassembly/Assembly of parts within the UltraSource ion source:** The scientist removes components from within the UltraSource, including the spray shield. This involves some manipulation of small parts and a potential concern for cleanliness and correct reassembly. It appears the scientist either switches from an electrospray ionization source to another or changes the ion source within the UltraSource or performs maintenance work.\\n2.  **General maintenance or cleaning** As the video continues, the scientist seems to be cleaning other parts and putting in new parts.\\n\\nConsidering these actions, the most suitable protocol appears to be **ESIsourceToUltraSource_protocolCorrect_CapillaryPushedIn.md**, which describes changing from an ESI source to the UltraSource. Disassembly and assembly of parts within the UltraSource are also detailed in this protocol.\\n\\n**Rationale for Selection:**\\n\\n*   The protocol directly addresses the task of replacing a part of the UltraSource.\\n*   It aligns with the observed handling of the parts within the IonSource and the use of the NanoViper Adapter.\\n\\n**Conclusion:**\\n\\nprotocol number: 9\"}\n",
      "Processing video: PlaceEvotips_docuLiquidNotChecked.MP4\n",
      "/Users/patriciaskowronek/Documents/documentation_agent_few_shot_examples/benchmark_dataset/documentation/PlaceEvotips_docuLiquidNotChecked.MP4\n"
     ]
    },
    {
     "data": {
      "text/markdown": [
       "Okay, let's analyze the video and determine the appropriate protocol.\n",
       "\n",
       "The video shows a person in a lab, wearing gloves, who is placing Evotips (sample tips used with the Evosep system) into Evotip boxes on the Evosep One instrument. The person then proceeds to fill those tips with the sample.\n",
       "\n",
       "Based on this action, the protocol that best describes the step being performed is **PlaceEvotips_protocolCorrect.md**. This protocol covers the inspection and placement of Evotips in Evotip boxes on the Evosep One system.\n",
       "\n",
       "protocol number: 2"
      ],
      "text/plain": [
       "<IPython.core.display.Markdown object>"
      ]
     },
     "metadata": {},
     "output_type": "display_data"
    },
    {
     "name": "stdout",
     "output_type": "stream",
     "text": [
      "{'matches': True, 'video': 'PlaceEvotips_docuLiquidNotChecked.MP4', 'expected_protocol': '2', 'found_protocol': '2', 'verbos_eval': \"Okay, let's analyze the video and determine the appropriate protocol.\\n\\nThe video shows a person in a lab, wearing gloves, who is placing Evotips (sample tips used with the Evosep system) into Evotip boxes on the Evosep One instrument. The person then proceeds to fill those tips with the sample.\\n\\nBased on this action, the protocol that best describes the step being performed is **PlaceEvotips_protocolCorrect.md**. This protocol covers the inspection and placement of Evotips in Evotip boxes on the Evosep One system.\\n\\nprotocol number: 2\"}\n",
      "Processing video: Evotip_docuWrongSpinInEvotipBox_wrongSpeed.MP4\n",
      "/Users/patriciaskowronek/Documents/documentation_agent_few_shot_examples/benchmark_dataset/documentation/Evotip_docuWrongSpinInEvotipBox_wrongSpeed.MP4\n"
     ]
    },
    {
     "data": {
      "text/markdown": [
       "Okay, let's analyze the video. The person in the video is using a multichannel pipette to take tips and then spin them in a centrifuge. I think this best matches the 'Dispensing Protocol' protocol.\n",
       "\n",
       "protocol number: 10"
      ],
      "text/plain": [
       "<IPython.core.display.Markdown object>"
      ]
     },
     "metadata": {},
     "output_type": "display_data"
    },
    {
     "name": "stdout",
     "output_type": "stream",
     "text": [
      "{'matches': True, 'video': 'Evotip_docuWrongSpinInEvotipBox_wrongSpeed.MP4', 'expected_protocol': '10', 'found_protocol': '10', 'verbos_eval': \"Okay, let's analyze the video. The person in the video is using a multichannel pipette to take tips and then spin them in a centrifuge. I think this best matches the 'Dispensing Protocol' protocol.\\n\\nprotocol number: 10\"}\n",
      "Success rate: 82.76%\n"
     ]
    }
   ],
   "source": [
    "system_prompt = [\"\"\"\n",
    "    You are Professor Matthias Mann, a pioneering scientist in proteomics and mass spectrometry.\n",
    "    Your task is to find the protocol that captures the step being performed in the video.\n",
    "    \"\"\"]\n",
    "protocol_intro= [\"Protocols:\"]\n",
    "output_format = [\"Output: Explanation why this protocol fits and then number of protocol e.g. 'protocol number: 1'. You always decide for one protocol number.\"]\n",
    "\n",
    "csv_path = \"/Users/patriciaskowronek/Documents/documentation_agent_few_shot_examples/benchmark_dataset/Link_protocol_lab_video.csv\"\n",
    "\n",
    "validation_list = list()\n",
    "for video in video_parts: \n",
    "    print(f\"Processing video: {video}\")\n",
    "    video_path = video_parts[video][\"path\"]\n",
    "    order = [system_prompt, video_parts[video][\"part\"], protocol_intro, protocol_input, output_format ]\n",
    "    model_input = list()\n",
    "    for input in order:\n",
    "        model_input.extend(input)\n",
    "\n",
    "    result = identify_protocol_from_video(\n",
    "        model_input,\n",
    "        model_name=\"gemini-2.0-flash\", \n",
    "        temperature=0.9\n",
    "    )\n",
    "\n",
    "    # print(result[\"usage_metadata\"])\n",
    "    print(result[\"video_path\"])\n",
    "    display(result[\"markdown_observation\"]) \n",
    "\n",
    "    result_validation = validate_protocol_number(video_path, csv_path, result[\"observation\"], ProtocolNum)\n",
    "    print(result_validation)\n",
    "    validation_list.append(result_validation[\"matches\"])\n",
    "\n",
    "success_ratio = sum(validation_list) / len(validation_list) if len(validation_list) > 0 else 0\n",
    "print(f\"Success rate: {success_ratio:.2%}\")"
   ]
  },
  {
   "cell_type": "code",
   "execution_count": 37,
   "metadata": {},
   "outputs": [
    {
     "name": "stdout",
     "output_type": "stream",
     "text": [
      "Processing video: UltraSourceToESIsource_docuForgotN2Line.MP4\n",
      "/Users/patriciaskowronek/Documents/documentation_agent_few_shot_examples/benchmark_dataset/documentation/UltraSourceToESIsource_docuForgotN2Line.MP4\n"
     ]
    },
    {
     "data": {
      "text/markdown": [
       "Alright, let's meticulously analyze this video to determine the most suitable protocol.\n",
       "\n",
       "1. **Starting State (0:00-0:01):**\n",
       "   The video begins focused on the UltraSource of a timsTOF mass spectrometer. The column oven is open, revealing the column connection to what appears to be the Evosep sample line. A grounding screw is present. There is a black NanoViper adapter present.\n",
       "\n",
       "2. **Observed Actions (0:01-2:31):**\n",
       "   a. The technician moves to a computer and appears to interact with the TimsControl software, potentially related to source settings (0:11-0:17).\n",
       "   b. The technician returns to the mass spectrometer (0:23) and loosens something at the UltraSource, detaching the grounding screw (0:24-0:29).\n",
       "   c. The technician carefully disconnects the Evosep sample line from the column (0:32-0:35).\n",
       "   d. The technician removes the column oven (0:40-0:47).\n",
       "   e. The technician sets down the column oven and removes the UltraSource (0:52-0:58).\n",
       "   f. The technician puts on gloves (1:01-1:07).\n",
       "   g. The technician picks up the UltraSource door and attaches it to the device (1:10-1:20).\n",
       "   h. The technician proceeds to place, arrange, and connect items to the top of the instrument (1:48-1:53)\n",
       "   i. The technician moves to withdraw liquid with a syringe (1:55-2:07).\n",
       "   j. The technician fills the sample line and connects the syringe to the system (2:10-2:31).\n",
       "\n",
       "3. **Ending State (2:31-3:04):**\n",
       "   The UltraSource is removed and the ESI source is placed. The system is running and being monitored via computer interface (2:35-3:04)\n",
       "\n",
       "Given these observations, the procedure most closely aligns with the swapping of the ion source from the UltraSource to the ESI source. Crucially, the disconnection of the IonOpticks column at the beginning, and the connection of the source door, as well as the connection of the syringe at the end, confirm that the transition from the UltraSource to the ESI source is what has occurred.\n",
       "\n",
       "Protocol number: 7"
      ],
      "text/plain": [
       "<IPython.core.display.Markdown object>"
      ]
     },
     "metadata": {},
     "output_type": "display_data"
    },
    {
     "name": "stdout",
     "output_type": "stream",
     "text": [
      "{'matches': True, 'video': 'UltraSourceToESIsource_docuForgotN2Line.MP4', 'expected_protocol': '7', 'found_protocol': '7', 'verbos_eval': \"Alright, let's meticulously analyze this video to determine the most suitable protocol.\\n\\n1. **Starting State (0:00-0:01):**\\n   The video begins focused on the UltraSource of a timsTOF mass spectrometer. The column oven is open, revealing the column connection to what appears to be the Evosep sample line. A grounding screw is present. There is a black NanoViper adapter present.\\n\\n2. **Observed Actions (0:01-2:31):**\\n   a. The technician moves to a computer and appears to interact with the TimsControl software, potentially related to source settings (0:11-0:17).\\n   b. The technician returns to the mass spectrometer (0:23) and loosens something at the UltraSource, detaching the grounding screw (0:24-0:29).\\n   c. The technician carefully disconnects the Evosep sample line from the column (0:32-0:35).\\n   d. The technician removes the column oven (0:40-0:47).\\n   e. The technician sets down the column oven and removes the UltraSource (0:52-0:58).\\n   f. The technician puts on gloves (1:01-1:07).\\n   g. The technician picks up the UltraSource door and attaches it to the device (1:10-1:20).\\n   h. The technician proceeds to place, arrange, and connect items to the top of the instrument (1:48-1:53)\\n   i. The technician moves to withdraw liquid with a syringe (1:55-2:07).\\n   j. The technician fills the sample line and connects the syringe to the system (2:10-2:31).\\n\\n3. **Ending State (2:31-3:04):**\\n   The UltraSource is removed and the ESI source is placed. The system is running and being monitored via computer interface (2:35-3:04)\\n\\nGiven these observations, the procedure most closely aligns with the swapping of the ion source from the UltraSource to the ESI source. Crucially, the disconnection of the IonOpticks column at the beginning, and the connection of the source door, as well as the connection of the syringe at the end, confirm that the transition from the UltraSource to the ESI source is what has occurred.\\n\\nProtocol number: 7\"}\n",
      "Processing video: TimsCalibration_docuCorrect_camera.MP4\n",
      "/Users/patriciaskowronek/Documents/documentation_agent_few_shot_examples/benchmark_dataset/documentation/TimsCalibration_docuCorrect_camera.MP4\n"
     ]
    },
    {
     "data": {
      "text/markdown": [
       "Alright, let's analyze this video with the precision required for accurate laboratory documentation.\n",
       "\n",
       "**1. Starting State:**\n",
       "\n",
       "The video begins with a computer monitor displaying the timsControl software interface. Key features visible include:\n",
       "\n",
       "*   A chromatogram view showing signal intensities over time, suggesting an active LC-MS run.\n",
       "*   The instrument status indicates \"Operating\" and \"Mobility OK\", suggesting that the mass spectrometer is actively acquiring data with the TIMS device enabled.\n",
       "*   Various settings are displayed on the left-hand side of the screen, related to MS settings and TIMS settings. These include parameters like \"Scan Begin\", \"Scan End\", \"Ion Polarity\", \"Mode\", \"Ramp Time,\" and \"Duty Cycle.\"\n",
       "*   A table is visible, possibly displaying reference lists or calibration data.\n",
       "\n",
       "**2. Actions Taken (Sequential):**\n",
       "\n",
       "The video shows the following sequence of actions performed via the timsControl software interface:\n",
       "\n",
       "1.  **Data Review/Analysis:** The focus remains on the computer screen. Throughout the video, the chromatogram is displayed and updated, suggesting the instrument is still running.\n",
       "2.  **Parameter adjustments:** The user adjusts parameters in the software. For instance, \"MS Averaging\" is changed. The user adjusts settings related to calibration, focusing on ion mobility.\n",
       "3. **Calibration Menu Navigation:** The user navigates to the 'Calibration' menu within timsControl.\n",
       "4. **Calibration Execution:** The user clicks 'Calibrate', suggesting an attempt to re-calibrate the instrument based on the displayed data and parameters.\n",
       "5. **Saving attempt:** The user attempts to save the changes and presses \"Discard all changes\"\n",
       "\n",
       "**3. Ending State:**\n",
       "\n",
       "The ending state mirrors the initial state, with the timsControl software interface displaying updated chromatogram data and modified calibration settings. The instrument status continues to indicate \"Operating\" and \"Mobility OK\"\n",
       "\n",
       "**4. Protocol Matching:**\n",
       "\n",
       "Based on the observed actions, the protocol that best matches the video is **Protocol 5: Calibrate the TIMS device**. The video clearly shows attempts to adjust calibration parameters and navigate the timsControl software to initiate a mobility calibration, which aligns with the key procedures outlined in Protocol 5.\n",
       "\n",
       "Protocol number: 5\n"
      ],
      "text/plain": [
       "<IPython.core.display.Markdown object>"
      ]
     },
     "metadata": {},
     "output_type": "display_data"
    },
    {
     "name": "stdout",
     "output_type": "stream",
     "text": [
      "{'matches': True, 'video': 'TimsCalibration_docuCorrect_camera.MP4', 'expected_protocol': '5', 'found_protocol': '5', 'verbos_eval': 'Alright, let\\'s analyze this video with the precision required for accurate laboratory documentation.\\n\\n**1. Starting State:**\\n\\nThe video begins with a computer monitor displaying the timsControl software interface. Key features visible include:\\n\\n*   A chromatogram view showing signal intensities over time, suggesting an active LC-MS run.\\n*   The instrument status indicates \"Operating\" and \"Mobility OK\", suggesting that the mass spectrometer is actively acquiring data with the TIMS device enabled.\\n*   Various settings are displayed on the left-hand side of the screen, related to MS settings and TIMS settings. These include parameters like \"Scan Begin\", \"Scan End\", \"Ion Polarity\", \"Mode\", \"Ramp Time,\" and \"Duty Cycle.\"\\n*   A table is visible, possibly displaying reference lists or calibration data.\\n\\n**2. Actions Taken (Sequential):**\\n\\nThe video shows the following sequence of actions performed via the timsControl software interface:\\n\\n1.  **Data Review/Analysis:** The focus remains on the computer screen. Throughout the video, the chromatogram is displayed and updated, suggesting the instrument is still running.\\n2.  **Parameter adjustments:** The user adjusts parameters in the software. For instance, \"MS Averaging\" is changed. The user adjusts settings related to calibration, focusing on ion mobility.\\n3. **Calibration Menu Navigation:** The user navigates to the \\'Calibration\\' menu within timsControl.\\n4. **Calibration Execution:** The user clicks \\'Calibrate\\', suggesting an attempt to re-calibrate the instrument based on the displayed data and parameters.\\n5. **Saving attempt:** The user attempts to save the changes and presses \"Discard all changes\"\\n\\n**3. Ending State:**\\n\\nThe ending state mirrors the initial state, with the timsControl software interface displaying updated chromatogram data and modified calibration settings. The instrument status continues to indicate \"Operating\" and \"Mobility OK\"\\n\\n**4. Protocol Matching:**\\n\\nBased on the observed actions, the protocol that best matches the video is **Protocol 5: Calibrate the TIMS device**. The video clearly shows attempts to adjust calibration parameters and navigate the timsControl software to initiate a mobility calibration, which aligns with the key procedures outlined in Protocol 5.\\n\\nProtocol number: 5\\n'}\n",
      "Processing video: TimsCalibration_docuNotAllClicksVisibleOnVideo.MP4\n",
      "/Users/patriciaskowronek/Documents/documentation_agent_few_shot_examples/benchmark_dataset/documentation/TimsCalibration_docuNotAllClicksVisibleOnVideo.MP4\n"
     ]
    },
    {
     "data": {
      "text/markdown": [
       "Alright, let's analyze this laboratory video with my usual precision.\n",
       "\n",
       "1.  **Starting State:** The video begins with a computer screen displaying the timsControl software interface. The system appears to be in operation, with a chromatogram visible. MS settings are displayed. The interface indicates the instrument is a mass spectrometer, likely a timsTOF, as evidenced by the software. The Vacuum is reported as OK.\n",
       "\n",
       "2.  **Actions Taken:**\n",
       "\n",
       "    *   The operator is seen making adjustments to the software parameters on the timsControl interface.\n",
       "    *   Specifically, the operator navigates through various menus, including those related to 'Mobility', 'Calibration' and 'Reference lists'.\n",
       "    *   The parameters being modified appear to be related to the calibration process, including the selection of calibrants and adjustment of detection ranges.\n",
       "    *   The operator selects a calibrant list, likely for mass calibration and ion mobility calibration.\n",
       "    *   The operator then runs the calibration.\n",
       "    *   The operator loads a new method.\n",
       "    *   The operator saves the method.\n",
       "\n",
       "3.  **Ending State:** The video concludes with the software reflecting the adjusted calibration parameters. The chromatogram view is stable.\n",
       "\n",
       "4.  **Protocol Matching:** Based on the observed actions, the procedure most closely aligns with Protocol 5: \"Calibrate the TIMS device\". This protocol details steps for calibrating the instrument using timsControl, specifying parameters like mobility range, calibrant selection, and detection range adjustments. The observed actions are consistent with this protocol's instructions, specifically with section numbers:\n",
       "    *   1\n",
       "    *   6\n",
       "    *   7\n",
       "    *   8\n",
       "\n",
       "Protocol number: 5\n"
      ],
      "text/plain": [
       "<IPython.core.display.Markdown object>"
      ]
     },
     "metadata": {},
     "output_type": "display_data"
    },
    {
     "name": "stdout",
     "output_type": "stream",
     "text": [
      "{'matches': True, 'video': 'TimsCalibration_docuNotAllClicksVisibleOnVideo.MP4', 'expected_protocol': '5', 'found_protocol': '5', 'verbos_eval': 'Alright, let\\'s analyze this laboratory video with my usual precision.\\n\\n1.  **Starting State:** The video begins with a computer screen displaying the timsControl software interface. The system appears to be in operation, with a chromatogram visible. MS settings are displayed. The interface indicates the instrument is a mass spectrometer, likely a timsTOF, as evidenced by the software. The Vacuum is reported as OK.\\n\\n2.  **Actions Taken:**\\n\\n    *   The operator is seen making adjustments to the software parameters on the timsControl interface.\\n    *   Specifically, the operator navigates through various menus, including those related to \\'Mobility\\', \\'Calibration\\' and \\'Reference lists\\'.\\n    *   The parameters being modified appear to be related to the calibration process, including the selection of calibrants and adjustment of detection ranges.\\n    *   The operator selects a calibrant list, likely for mass calibration and ion mobility calibration.\\n    *   The operator then runs the calibration.\\n    *   The operator loads a new method.\\n    *   The operator saves the method.\\n\\n3.  **Ending State:** The video concludes with the software reflecting the adjusted calibration parameters. The chromatogram view is stable.\\n\\n4.  **Protocol Matching:** Based on the observed actions, the procedure most closely aligns with Protocol 5: \"Calibrate the TIMS device\". This protocol details steps for calibrating the instrument using timsControl, specifying parameters like mobility range, calibrant selection, and detection range adjustments. The observed actions are consistent with this protocol\\'s instructions, specifically with section numbers:\\n    *   1\\n    *   6\\n    *   7\\n    *   8\\n\\nProtocol number: 5\\n'}\n",
      "Processing video: PlaceEvotips_docuBoxAngeled.MP4\n",
      "/Users/patriciaskowronek/Documents/documentation_agent_few_shot_examples/benchmark_dataset/documentation/PlaceEvotips_docuBoxAngeled.MP4\n"
     ]
    },
    {
     "data": {
      "text/markdown": [
       "Alright, let's analyze this laboratory video with the precision that I demand.\n",
       "\n",
       "**1. Starting State:**\n",
       "\n",
       "The video begins with a view of an Evosep One system. The system appears to be in a clean and operational state. The protective transparent cover is in place. The sample loading area is visible, along with the Evosep One control panel and connections for liquid handling. The UltraSource of the timsTOF mass spectrometer is positioned behind the Evosep One.\n",
       "\n",
       "**2. Actions Taken (in sequence):**\n",
       "\n",
       "*   **0:02 - 0:14:** The operator wearing black gloves retrieves a rack of Evotips, labeled \"EVOTIP\". The rack contains a yellow grid structure holding multiple Evotips. The rack is placed into a designated position on the Evosep One system.\n",
       "*   **0:15 - 0:19:** A second rack of Evotips is retrieved and placed on the Evosep One system.\n",
       "*   **0:20 - 0:31:** The operator retrieves a container holding pipette tips. Using these tips and the Evotips placed on the Evosep One, the operator places pipette tips into some of the Evotips. The box with the pipette tips is removed from the system.\n",
       "*   **0:32 - 0:46:** The operator refills pipette tips into other Evotips.\n",
       "*   **0:47 - 0:52:** The operator closes the transparent cover of the system.\n",
       "\n",
       "**3. Ending State:**\n",
       "\n",
       "The Evosep One system now has two Evotip racks placed on it. Several of the Evotips within these racks contain pipette tips. The transparent protective cover is closed.\n",
       "\n",
       "**4. Protocol Matching:**\n",
       "\n",
       "Based on the observed actions, the protocol that best matches the procedure being performed in the video is **\"Placing Evotips in Evotip Boxes on the Evosep One System\"** and **\"Dispensing Protocol\"** due to the placing of the Evotips and pipette tips.\n",
       "\n",
       "Protocol number: 2\n"
      ],
      "text/plain": [
       "<IPython.core.display.Markdown object>"
      ]
     },
     "metadata": {},
     "output_type": "display_data"
    },
    {
     "name": "stdout",
     "output_type": "stream",
     "text": [
      "{'matches': True, 'video': 'PlaceEvotips_docuBoxAngeled.MP4', 'expected_protocol': '2', 'found_protocol': '2', 'verbos_eval': 'Alright, let\\'s analyze this laboratory video with the precision that I demand.\\n\\n**1. Starting State:**\\n\\nThe video begins with a view of an Evosep One system. The system appears to be in a clean and operational state. The protective transparent cover is in place. The sample loading area is visible, along with the Evosep One control panel and connections for liquid handling. The UltraSource of the timsTOF mass spectrometer is positioned behind the Evosep One.\\n\\n**2. Actions Taken (in sequence):**\\n\\n*   **0:02 - 0:14:** The operator wearing black gloves retrieves a rack of Evotips, labeled \"EVOTIP\". The rack contains a yellow grid structure holding multiple Evotips. The rack is placed into a designated position on the Evosep One system.\\n*   **0:15 - 0:19:** A second rack of Evotips is retrieved and placed on the Evosep One system.\\n*   **0:20 - 0:31:** The operator retrieves a container holding pipette tips. Using these tips and the Evotips placed on the Evosep One, the operator places pipette tips into some of the Evotips. The box with the pipette tips is removed from the system.\\n*   **0:32 - 0:46:** The operator refills pipette tips into other Evotips.\\n*   **0:47 - 0:52:** The operator closes the transparent cover of the system.\\n\\n**3. Ending State:**\\n\\nThe Evosep One system now has two Evotip racks placed on it. Several of the Evotips within these racks contain pipette tips. The transparent protective cover is closed.\\n\\n**4. Protocol Matching:**\\n\\nBased on the observed actions, the protocol that best matches the procedure being performed in the video is **\"Placing Evotips in Evotip Boxes on the Evosep One System\"** and **\"Dispensing Protocol\"** due to the placing of the Evotips and pipette tips.\\n\\nProtocol number: 2\\n'}\n",
      "Processing video: UltraSourceToESIsource_docuForgotGlovesANDCapillaryCap.MP4\n",
      "/Users/patriciaskowronek/Documents/documentation_agent_few_shot_examples/benchmark_dataset/documentation/UltraSourceToESIsource_docuForgotGlovesANDCapillaryCap.MP4\n"
     ]
    },
    {
     "data": {
      "text/markdown": [
       "Alright, let's meticulously analyze this video and identify the correct protocol.\n",
       "\n",
       "**1. Starting State:**\n",
       "\n",
       "The video begins with the timsTOF mass spectrometer in, ostensibly, a 'standby' mode. The UltraSource is currently installed, with a column oven. The sample line is disconnected from the column. The grounding screw is not in place. A variety of tools and supplies are on the bench nearby including pliers, wrench, and waste container.\n",
       "\n",
       "**2. Actions Taken (Chronological Order):**\n",
       "\n",
       "*   **0:19:** The technician removes tape securing a protective covering from the tip of the IonOpticks column.\n",
       "*   **0:26:** The technician connects the LC sample line to the IonOpticks column using a NanoViper adapter.\n",
       "*   **0:34:** The oven is drawn closer to the UltraSource, securing it with a bottom screw.\n",
       "*   **0:39:** Removal of the UltraSource housing.\n",
       "*   **0:42:** UltraSource housing is set on the bench.\n",
       "*   **0:48:** Metal grounding screw placed and secured at the column-sample line connection.\n",
       "*   **0:49:** Removal of the source door.\n",
       "*   **1:00:** An Apollo ESI source is shown and prepped for attachment.\n",
       "*   **1:11:** Hinging the ESI source into position.\n",
       "*   **1:16:** Sample inlet of the ESI source connected to the peak tubing lines originating from the syringe by turning it clock-wise.\n",
       "*   **1:36:** Nebulizer gas inlet connected to the N₂ line.\n",
       "*   **1:50:** Syringe filled with tuning mix liquid.\n",
       "*   **2:16:** Syringe connected to the peak tubing of the sample line.\n",
       "*   **2:32:** Syringe connected to the external syringe pump setup.\n",
       "*   **2:36:** TimsCOntrol software is set up and tuned.\n",
       "\n",
       "**3. Ending State:**\n",
       "\n",
       "The timsTOF mass spectrometer is configured with the ESI source. The sample line and N₂ lines are connected. A syringe containing tuning mix is connected via peak tubing. The instrument is presumably ready for operation.\n",
       "\n",
       "**4. Protocol Matching:**\n",
       "\n",
       "Based on the observed actions, this procedure most closely resembles the steps outlined in \"Change source: UltraSource to ESI source\". The actions involve the removal of the UltraSource, installation of the Apollo ESI source, and connecting lines for sample introduction and nebulization.\n",
       "\n",
       "Protocol number: 7"
      ],
      "text/plain": [
       "<IPython.core.display.Markdown object>"
      ]
     },
     "metadata": {},
     "output_type": "display_data"
    },
    {
     "name": "stdout",
     "output_type": "stream",
     "text": [
      "{'matches': True, 'video': 'UltraSourceToESIsource_docuForgotGlovesANDCapillaryCap.MP4', 'expected_protocol': '7', 'found_protocol': '7', 'verbos_eval': 'Alright, let\\'s meticulously analyze this video and identify the correct protocol.\\n\\n**1. Starting State:**\\n\\nThe video begins with the timsTOF mass spectrometer in, ostensibly, a \\'standby\\' mode. The UltraSource is currently installed, with a column oven. The sample line is disconnected from the column. The grounding screw is not in place. A variety of tools and supplies are on the bench nearby including pliers, wrench, and waste container.\\n\\n**2. Actions Taken (Chronological Order):**\\n\\n*   **0:19:** The technician removes tape securing a protective covering from the tip of the IonOpticks column.\\n*   **0:26:** The technician connects the LC sample line to the IonOpticks column using a NanoViper adapter.\\n*   **0:34:** The oven is drawn closer to the UltraSource, securing it with a bottom screw.\\n*   **0:39:** Removal of the UltraSource housing.\\n*   **0:42:** UltraSource housing is set on the bench.\\n*   **0:48:** Metal grounding screw placed and secured at the column-sample line connection.\\n*   **0:49:** Removal of the source door.\\n*   **1:00:** An Apollo ESI source is shown and prepped for attachment.\\n*   **1:11:** Hinging the ESI source into position.\\n*   **1:16:** Sample inlet of the ESI source connected to the peak tubing lines originating from the syringe by turning it clock-wise.\\n*   **1:36:** Nebulizer gas inlet connected to the N₂ line.\\n*   **1:50:** Syringe filled with tuning mix liquid.\\n*   **2:16:** Syringe connected to the peak tubing of the sample line.\\n*   **2:32:** Syringe connected to the external syringe pump setup.\\n*   **2:36:** TimsCOntrol software is set up and tuned.\\n\\n**3. Ending State:**\\n\\nThe timsTOF mass spectrometer is configured with the ESI source. The sample line and N₂ lines are connected. A syringe containing tuning mix is connected via peak tubing. The instrument is presumably ready for operation.\\n\\n**4. Protocol Matching:**\\n\\nBased on the observed actions, this procedure most closely resembles the steps outlined in \"Change source: UltraSource to ESI source\". The actions involve the removal of the UltraSource, installation of the Apollo ESI source, and connecting lines for sample introduction and nebulization.\\n\\nProtocol number: 7'}\n",
      "Processing video: QueueSamples_docuCorrect_1.mov\n",
      "/Users/patriciaskowronek/Documents/documentation_agent_few_shot_examples/benchmark_dataset/documentation/QueueSamples_docuCorrect_1.mov\n"
     ]
    },
    {
     "data": {
      "text/markdown": [
       "Okay, let's analyze the video step-by-step to determine the corresponding protocol.\n",
       "\n",
       "1.  **Starting State:**\n",
       "    *   The Bruker Compass HyStar software is open, displaying a sample table.\n",
       "    *   The \"Instruments\" section indicates the Bruker timsTOF is in \"Standby\" mode.\n",
       "    *   The Evosep One is operational, with specific HP pressure and flow rate values displayed.\n",
       "    *   Multiple samples are listed in the sample table, with 'Acquisition One' status.\n",
       "    *   The bottom panel shows a chromatogram view.\n",
       "\n",
       "2.  **Actions Taken (Chronological Order):**\n",
       "    *   The user selects multiple rows in the sample table, spanning from S3-A7 to S3-A12.\n",
       "    *   The user uses keyboard shortcuts to make adjustments to the names of the sample IDs.\n",
       "    *   The user right-clicks on a selection within the sample table and chooses \"Configure\".\n",
       "    *   A \"Tray Configuration\" window appears, showing the settings for the Evosep tray type and slot assignments.\n",
       "    *   The user confirms the settings by pressing \"OK\".\n",
       "    *   The user right-clicks again on an item in the \"Sample Table\" and choose \"Add New Samples\".\n",
       "    *   A pop-up appears to select which well position contains the samples.\n",
       "    *   The user selects multiple rows in the sample table and again uses keyboard shortcuts to make adjustments to the names of the sample IDs.\n",
       "    *   The user right-clicks on the Evosep logo, selects \"Cancel Maintenance Procedure\".\n",
       "    *   The user saves the sample table.\n",
       "    *   The user right-clicks and selects \"Upload Sample Conditions\".\n",
       "    *   The user clicks the \"Start Sequence\" button.\n",
       "    *   The acquisition begins and status indicates that the \"Sample is loaded\".\n",
       "\n",
       "3.  **Ending State:**\n",
       "    *   The Bruker Compass HyStar software is running the sample queue on the Evosep One, initiating data acquisition for the selected samples.\n",
       "    *   A timer is running, indicating the remaining time for the analysis.\n",
       "\n",
       "Based on this detailed analysis, the actions performed in the video are most closely aligned with the process of queuing samples in HyStar for LC-MS measurement, specifically involving an Evosep One LC system and a timsTOF mass spectrometer. This includes setting up the sample table, defining sample positions, and starting the acquisition sequence. The described steps perfectly match the abstract.\n",
       "\n",
       "**Protocol number: 1**"
      ],
      "text/plain": [
       "<IPython.core.display.Markdown object>"
      ]
     },
     "metadata": {},
     "output_type": "display_data"
    },
    {
     "name": "stdout",
     "output_type": "stream",
     "text": [
      "{'matches': True, 'video': 'QueueSamples_docuCorrect_1.mov', 'expected_protocol': '1', 'found_protocol': '1', 'verbos_eval': 'Okay, let\\'s analyze the video step-by-step to determine the corresponding protocol.\\n\\n1.  **Starting State:**\\n    *   The Bruker Compass HyStar software is open, displaying a sample table.\\n    *   The \"Instruments\" section indicates the Bruker timsTOF is in \"Standby\" mode.\\n    *   The Evosep One is operational, with specific HP pressure and flow rate values displayed.\\n    *   Multiple samples are listed in the sample table, with \\'Acquisition One\\' status.\\n    *   The bottom panel shows a chromatogram view.\\n\\n2.  **Actions Taken (Chronological Order):**\\n    *   The user selects multiple rows in the sample table, spanning from S3-A7 to S3-A12.\\n    *   The user uses keyboard shortcuts to make adjustments to the names of the sample IDs.\\n    *   The user right-clicks on a selection within the sample table and chooses \"Configure\".\\n    *   A \"Tray Configuration\" window appears, showing the settings for the Evosep tray type and slot assignments.\\n    *   The user confirms the settings by pressing \"OK\".\\n    *   The user right-clicks again on an item in the \"Sample Table\" and choose \"Add New Samples\".\\n    *   A pop-up appears to select which well position contains the samples.\\n    *   The user selects multiple rows in the sample table and again uses keyboard shortcuts to make adjustments to the names of the sample IDs.\\n    *   The user right-clicks on the Evosep logo, selects \"Cancel Maintenance Procedure\".\\n    *   The user saves the sample table.\\n    *   The user right-clicks and selects \"Upload Sample Conditions\".\\n    *   The user clicks the \"Start Sequence\" button.\\n    *   The acquisition begins and status indicates that the \"Sample is loaded\".\\n\\n3.  **Ending State:**\\n    *   The Bruker Compass HyStar software is running the sample queue on the Evosep One, initiating data acquisition for the selected samples.\\n    *   A timer is running, indicating the remaining time for the analysis.\\n\\nBased on this detailed analysis, the actions performed in the video are most closely aligned with the process of queuing samples in HyStar for LC-MS measurement, specifically involving an Evosep One LC system and a timsTOF mass spectrometer. This includes setting up the sample table, defining sample positions, and starting the acquisition sequence. The described steps perfectly match the abstract.\\n\\n**Protocol number: 1**'}\n",
      "Processing video: QueueSamples_docuNoBlankNoSampleIDWrongMSmethod.mov\n",
      "/Users/patriciaskowronek/Documents/documentation_agent_few_shot_examples/benchmark_dataset/documentation/QueueSamples_docuNoBlankNoSampleIDWrongMSmethod.mov\n"
     ]
    },
    {
     "data": {
      "text/markdown": [
       "Okay, let's analyze the video to determine the protocol being performed.\n",
       "\n",
       "1.  **Starting State:** The video begins with the Bruker Compass HyStar software interface displayed. The software is connected to the Bruker timsTOF instrument, indicated by the \"ready\" status. A sample table named \"2024_maintenanceream_...\" is open, containing a list of samples with various parameters such as vial, sample ID, volume, separation method, injection method, and MS method. Most entries in the \"Status\" column are labeled \"Cancelled Acquisition.\" The chromatography signal display at the bottom is currently inactive.\n",
       "\n",
       "2.  **Actions Taken (Sequential, Chronological Precision):**\n",
       "\n",
       "    *   **0:00-0:29:** The user verbally identifies several samples from S1 and S3 that are intended for measurement. The user then selects several rows (samples).\n",
       "    *   **0:30-0:32:** The user right-clicks on one of the selected rows, opens a configuration dialog for Tray Configuration and presses OK.\n",
       "    *   **0:33-0:47:** The user selects a location by clicking the arrow and choosing the well position within a 96-well plate layout. This action is repeated for several samples.\n",
       "    *   **0:48-0:56:** The user updates one of the \"sample ID\" fields, then clicks the \"Save\" button.\n",
       "    *   **1:02-1:08:** The user clicks \"Start Sequence\", initiating the sample acquisition process. The status of the runs in the sample table change from \"Cancelled Acquisition\" to \"Acquisition\" and then \"Running\", indicating the start of the LC-MS run.\n",
       "    *   **1:08-1:18:** The acquisition is in progress (\"waiting for CP System\").\n",
       "\n",
       "3.  **Ending State:** The Bruker Compass HyStar software is actively running a sample acquisition sequence. The software displays the current state of the run, including the instrument status, remaining time, and the chromatogram. The sample table indicates that the selected samples are being processed.\n",
       "\n",
       "4.  **Protocol Matching:** Based on the detailed analysis, the video demonstrates the process of queuing and starting a sample run within the HyStar software environment for LC-MS analysis. Specifically, the video shows the steps of selecting samples from a sample table, configuring the sample ID, specifying the tray configuration and starting the sample acquisition sequence.\n",
       "\n",
       "Protocol number: 1\n"
      ],
      "text/plain": [
       "<IPython.core.display.Markdown object>"
      ]
     },
     "metadata": {},
     "output_type": "display_data"
    },
    {
     "name": "stdout",
     "output_type": "stream",
     "text": [
      "{'matches': True, 'video': 'QueueSamples_docuNoBlankNoSampleIDWrongMSmethod.mov', 'expected_protocol': '1', 'found_protocol': '1', 'verbos_eval': 'Okay, let\\'s analyze the video to determine the protocol being performed.\\n\\n1.  **Starting State:** The video begins with the Bruker Compass HyStar software interface displayed. The software is connected to the Bruker timsTOF instrument, indicated by the \"ready\" status. A sample table named \"2024_maintenanceream_...\" is open, containing a list of samples with various parameters such as vial, sample ID, volume, separation method, injection method, and MS method. Most entries in the \"Status\" column are labeled \"Cancelled Acquisition.\" The chromatography signal display at the bottom is currently inactive.\\n\\n2.  **Actions Taken (Sequential, Chronological Precision):**\\n\\n    *   **0:00-0:29:** The user verbally identifies several samples from S1 and S3 that are intended for measurement. The user then selects several rows (samples).\\n    *   **0:30-0:32:** The user right-clicks on one of the selected rows, opens a configuration dialog for Tray Configuration and presses OK.\\n    *   **0:33-0:47:** The user selects a location by clicking the arrow and choosing the well position within a 96-well plate layout. This action is repeated for several samples.\\n    *   **0:48-0:56:** The user updates one of the \"sample ID\" fields, then clicks the \"Save\" button.\\n    *   **1:02-1:08:** The user clicks \"Start Sequence\", initiating the sample acquisition process. The status of the runs in the sample table change from \"Cancelled Acquisition\" to \"Acquisition\" and then \"Running\", indicating the start of the LC-MS run.\\n    *   **1:08-1:18:** The acquisition is in progress (\"waiting for CP System\").\\n\\n3.  **Ending State:** The Bruker Compass HyStar software is actively running a sample acquisition sequence. The software displays the current state of the run, including the instrument status, remaining time, and the chromatogram. The sample table indicates that the selected samples are being processed.\\n\\n4.  **Protocol Matching:** Based on the detailed analysis, the video demonstrates the process of queuing and starting a sample run within the HyStar software environment for LC-MS analysis. Specifically, the video shows the steps of selecting samples from a sample table, configuring the sample ID, specifying the tray configuration and starting the sample acquisition sequence.\\n\\nProtocol number: 1\\n'}\n",
      "Processing video: UltraSourceToESIsource_docuCorrect.MP4\n",
      "/Users/patriciaskowronek/Documents/documentation_agent_few_shot_examples/benchmark_dataset/documentation/UltraSourceToESIsource_docuCorrect.MP4\n"
     ]
    },
    {
     "data": {
      "text/markdown": [
       "Okay, let's analyze this laboratory video with the necessary precision.\n",
       "\n",
       "**1. Starting State:**\n",
       "\n",
       "The video begins with a timsTOF mass spectrometer equipped with what appears to be an UltraSource ion source. The column oven is open, and the IonOpticks column is connected. The sample line, a transparent corrugated tube, is attached. The operator is visible and standing next to EVOSEP. There is a black, half-spherical ESI source sitting on the bench.\n",
       "\n",
       "**2. Actions Taken (in Sequence):**\n",
       "\n",
       "*   **0:24**: The operator removes a grounding screw from the column oven.\n",
       "*   **0:30**: The sample line is disconnected from the column.\n",
       "*   **0:41**: A mechanism on the column oven is turned counter-clockwise, eventually opening the housing.\n",
       "*   **0:51**: The operator removes the UltraSource housing and sets it aside on the bench.\n",
       "*   **1:00**: An internal plate is removed to reveal the UltraSource elements.\n",
       "*   **1:19**: The operator puts on black gloves.\n",
       "*   **1:43**: The operator attaches the ESI source housing.\n",
       "*   **2:04**: Sample and gas lines are attached to the ESI source.\n",
       "*   **2:36**: The operator takes a syringe from an interior cabinet.\n",
       "*   **2:53**: The syringe is primed.\n",
       "*   **3:05**: The syringe and ESI source are connected.\n",
       "\n",
       "**3. Ending State:**\n",
       "\n",
       "The timsTOF mass spectrometer is now configured with the ESI source instead of the UltraSource. Tubing connections are established, and the ESI source housing is in place.\n",
       "\n",
       "**4. Protocol Matching:**\n",
       "\n",
       "The video demonstrates a clear process of switching from an UltraSource to an ESI source on the timsTOF mass spectrometer. This best matches Protocol number 7.\n",
       "\n",
       "Protocol number: 7"
      ],
      "text/plain": [
       "<IPython.core.display.Markdown object>"
      ]
     },
     "metadata": {},
     "output_type": "display_data"
    },
    {
     "name": "stdout",
     "output_type": "stream",
     "text": [
      "{'matches': True, 'video': 'UltraSourceToESIsource_docuCorrect.MP4', 'expected_protocol': '7', 'found_protocol': '7', 'verbos_eval': \"Okay, let's analyze this laboratory video with the necessary precision.\\n\\n**1. Starting State:**\\n\\nThe video begins with a timsTOF mass spectrometer equipped with what appears to be an UltraSource ion source. The column oven is open, and the IonOpticks column is connected. The sample line, a transparent corrugated tube, is attached. The operator is visible and standing next to EVOSEP. There is a black, half-spherical ESI source sitting on the bench.\\n\\n**2. Actions Taken (in Sequence):**\\n\\n*   **0:24**: The operator removes a grounding screw from the column oven.\\n*   **0:30**: The sample line is disconnected from the column.\\n*   **0:41**: A mechanism on the column oven is turned counter-clockwise, eventually opening the housing.\\n*   **0:51**: The operator removes the UltraSource housing and sets it aside on the bench.\\n*   **1:00**: An internal plate is removed to reveal the UltraSource elements.\\n*   **1:19**: The operator puts on black gloves.\\n*   **1:43**: The operator attaches the ESI source housing.\\n*   **2:04**: Sample and gas lines are attached to the ESI source.\\n*   **2:36**: The operator takes a syringe from an interior cabinet.\\n*   **2:53**: The syringe is primed.\\n*   **3:05**: The syringe and ESI source are connected.\\n\\n**3. Ending State:**\\n\\nThe timsTOF mass spectrometer is now configured with the ESI source instead of the UltraSource. Tubing connections are established, and the ESI source housing is in place.\\n\\n**4. Protocol Matching:**\\n\\nThe video demonstrates a clear process of switching from an UltraSource to an ESI source on the timsTOF mass spectrometer. This best matches Protocol number 7.\\n\\nProtocol number: 7\"}\n",
      "Processing video: DisconnectingColumn_docuWithoutStandby_1.MP4\n",
      "/Users/patriciaskowronek/Documents/documentation_agent_few_shot_examples/benchmark_dataset/documentation/DisconnectingColumn_docuWithoutStandby_1.MP4\n"
     ]
    },
    {
     "data": {
      "text/markdown": [
       "Alright, let's analyze this video with scientific rigor.\n",
       "\n",
       "1.  **Starting State:** The video begins with the UltraSource of a timsTOF mass spectrometer in view. An IonOpticks column is connected to the sample line, and the metal grounding screw is in place on top of the column oven.\n",
       "\n",
       "2.  **Observed Actions (Chronological Order):**\n",
       "    *   The operator removes the securing screw, moves away the metal grounding screw from the column-sample line connection, and opens the lid of the column oven.\n",
       "    *   The operator then proceeds to unscrew the NanoViper connector, detaching the sample line from the IonOpticks column, employing a pair of pliers to hold the column fitting.\n",
       "    *   The operator removes the NanoViper adapter for easier handling.\n",
       "    *   The detached NanoViper connector with the sample line is then moved away from the column and the IonOpticks column is placed in a box.\n",
       "\n",
       "3.  **Ending State:** The IonOpticks column is now disconnected from the sample line.\n",
       "\n",
       "4.  **Protocol Matching:** Based on the steps observed, the procedure aligns most closely with disconnecting a column from the Evosep system.\n",
       "\n",
       "Protocol number: 3"
      ],
      "text/plain": [
       "<IPython.core.display.Markdown object>"
      ]
     },
     "metadata": {},
     "output_type": "display_data"
    },
    {
     "name": "stdout",
     "output_type": "stream",
     "text": [
      "{'matches': True, 'video': 'DisconnectingColumn_docuWithoutStandby_1.MP4', 'expected_protocol': '3', 'found_protocol': '3', 'verbos_eval': \"Alright, let's analyze this video with scientific rigor.\\n\\n1.  **Starting State:** The video begins with the UltraSource of a timsTOF mass spectrometer in view. An IonOpticks column is connected to the sample line, and the metal grounding screw is in place on top of the column oven.\\n\\n2.  **Observed Actions (Chronological Order):**\\n    *   The operator removes the securing screw, moves away the metal grounding screw from the column-sample line connection, and opens the lid of the column oven.\\n    *   The operator then proceeds to unscrew the NanoViper connector, detaching the sample line from the IonOpticks column, employing a pair of pliers to hold the column fitting.\\n    *   The operator removes the NanoViper adapter for easier handling.\\n    *   The detached NanoViper connector with the sample line is then moved away from the column and the IonOpticks column is placed in a box.\\n\\n3.  **Ending State:** The IonOpticks column is now disconnected from the sample line.\\n\\n4.  **Protocol Matching:** Based on the steps observed, the procedure aligns most closely with disconnecting a column from the Evosep system.\\n\\nProtocol number: 3\"}\n",
      "Processing video: QueueSamples_docuDiffSampleNameAndEvotipNotAtPosition.mov\n",
      "/Users/patriciaskowronek/Documents/documentation_agent_few_shot_examples/benchmark_dataset/documentation/QueueSamples_docuDiffSampleNameAndEvotipNotAtPosition.mov\n"
     ]
    },
    {
     "data": {
      "text/markdown": [
       "Alright, let's meticulously analyze this video.\n",
       "\n",
       "1.  **Starting State:** The Bruker Compass HyStar software is open on a computer. The instrument appears to be in \"Idle\" mode. A sample table is displayed, with several entries already populated, some marked as \"Acquisition Done\" and others as \"Cancelled Acquisition\". A chromatogram window shows some traces, but no active acquisition is occurring.\n",
       "\n",
       "2.  **Actions Taken (Sequential):**\n",
       "    *   The user selects a row labelled \"20250123_PAtk_hardware_tests\" from the \"Samples\" list on the left side of the HyStar window.\n",
       "    *   The user clicks the \"Load Sample Table\" button (represented by an arrow pointing right). This populates the sample table with the contents of the selected row.\n",
       "    *   The user selects a number of rows in the table, from H1-A1 to H1-A12, by highlighting them.\n",
       "    *   A dialog box appears allowing the user to select the position of the samples (S1 to S6), and a range of positions (A1 to A12, etc)\n",
       "    *   The user selects a number of rows in the table, from S3-A1 to S3-A12, by highlighting them.\n",
       "    *   A dialog box appears allowing the user to select the position of the samples (S1 to S6), and a range of positions (A1 to A12, etc)\n",
       "    *   The user selects a number of rows in the table, from S4-A1 to S4-A12, by highlighting them.\n",
       "    *   A dialog box appears allowing the user to select the position of the samples (S1 to S6), and a range of positions (A1 to A12, etc)\n",
       "    *   The user presses \"Save All\"\n",
       "    *   The user highlights samples S1-A1 to S1-A12 and some blank samples.\n",
       "    *   The user right-clicks and chooses \"Upload Sample Conditions\". The status column of the sample table updates to 'loading'\n",
       "    *   The user presses \"Start\" and then \"Start Sequence\". The status column of the sample table shows \"Acquisition\", and a real-time chromatogram begins to be generated.\n",
       "\n",
       "3.  **Ending State:** The HyStar software is actively acquiring data. The status column indicates that acquisition is in progress, and the real-time chromatogram is displaying the signal.\n",
       "\n",
       "4.  **Protocol Matching:** Based on the above analysis, this procedure best aligns with **Protocol number: 1**, which outlines the steps for \"Queue and measure samples in HyStar\". The video demonstrates the process of loading a sample table, adjusting sample positions, uploading sample conditions, and initiating the LC-MS acquisition sequence.\n",
       "\n",
       "Protocol number: 1"
      ],
      "text/plain": [
       "<IPython.core.display.Markdown object>"
      ]
     },
     "metadata": {},
     "output_type": "display_data"
    },
    {
     "name": "stdout",
     "output_type": "stream",
     "text": [
      "{'matches': True, 'video': 'QueueSamples_docuDiffSampleNameAndEvotipNotAtPosition.mov', 'expected_protocol': '1', 'found_protocol': '1', 'verbos_eval': 'Alright, let\\'s meticulously analyze this video.\\n\\n1.  **Starting State:** The Bruker Compass HyStar software is open on a computer. The instrument appears to be in \"Idle\" mode. A sample table is displayed, with several entries already populated, some marked as \"Acquisition Done\" and others as \"Cancelled Acquisition\". A chromatogram window shows some traces, but no active acquisition is occurring.\\n\\n2.  **Actions Taken (Sequential):**\\n    *   The user selects a row labelled \"20250123_PAtk_hardware_tests\" from the \"Samples\" list on the left side of the HyStar window.\\n    *   The user clicks the \"Load Sample Table\" button (represented by an arrow pointing right). This populates the sample table with the contents of the selected row.\\n    *   The user selects a number of rows in the table, from H1-A1 to H1-A12, by highlighting them.\\n    *   A dialog box appears allowing the user to select the position of the samples (S1 to S6), and a range of positions (A1 to A12, etc)\\n    *   The user selects a number of rows in the table, from S3-A1 to S3-A12, by highlighting them.\\n    *   A dialog box appears allowing the user to select the position of the samples (S1 to S6), and a range of positions (A1 to A12, etc)\\n    *   The user selects a number of rows in the table, from S4-A1 to S4-A12, by highlighting them.\\n    *   A dialog box appears allowing the user to select the position of the samples (S1 to S6), and a range of positions (A1 to A12, etc)\\n    *   The user presses \"Save All\"\\n    *   The user highlights samples S1-A1 to S1-A12 and some blank samples.\\n    *   The user right-clicks and chooses \"Upload Sample Conditions\". The status column of the sample table updates to \\'loading\\'\\n    *   The user presses \"Start\" and then \"Start Sequence\". The status column of the sample table shows \"Acquisition\", and a real-time chromatogram begins to be generated.\\n\\n3.  **Ending State:** The HyStar software is actively acquiring data. The status column indicates that acquisition is in progress, and the real-time chromatogram is displaying the signal.\\n\\n4.  **Protocol Matching:** Based on the above analysis, this procedure best aligns with **Protocol number: 1**, which outlines the steps for \"Queue and measure samples in HyStar\". The video demonstrates the process of loading a sample table, adjusting sample positions, uploading sample conditions, and initiating the LC-MS acquisition sequence.\\n\\nProtocol number: 1'}\n",
      "Processing video: Pipette_ducoBufferBInsteadBufferA.MP4\n",
      "/Users/patriciaskowronek/Documents/documentation_agent_few_shot_examples/benchmark_dataset/documentation/Pipette_ducoBufferBInsteadBufferA.MP4\n"
     ]
    },
    {
     "data": {
      "text/markdown": [
       "Alright, let's meticulously analyze this video and determine the most appropriate protocol.\n",
       "\n",
       "**1. Starting State:**\n",
       "\n",
       "The scene presents a laboratory bench with the following items:\n",
       "\n",
       "*   A clear 96-well PCR plate.\n",
       "*   A pipette, seemingly set to deliver a volume in the microliter range.\n",
       "*   A tip box containing yellow pipette tips.\n",
       "*   A labeled bottle with a blue cap, presumably containing \"Buffer A\" as referenced by the narrator.\n",
       "*   Other lab supplies such as test tubes and additional pipettes are visible in the background.\n",
       "\n",
       "**2. Actions Taken (Chronological Order):**\n",
       "\n",
       "1.  The operator adjusts the volume setting on the pipette, seemingly aiming for 20 microliters.\n",
       "2.  The operator opens the bottle of Buffer A.\n",
       "3.  The operator affixes a fresh pipette tip to the pipette.\n",
       "4.  The operator aspirates a small amount of Buffer A from the bottle using the pipette.\n",
       "5.  The operator dispenses the aspirated Buffer A into a well of the 96-well plate, specifically proceeding from well A1 and subsequently to well A2, and continuing to fill multiple wells.\n",
       "6.  The operator closes the bottle of Buffer A.\n",
       "7.  The operator places the cap on the bottle of Buffer A.\n",
       "\n",
       "**3. Ending State:**\n",
       "\n",
       "The 96-well plate will have Buffer A added into multiple wells, with the filling process continuing. The bench setup is otherwise unchanged.\n",
       "\n",
       "**4. Protocol Match:**\n",
       "\n",
       "Given the actions observed, the procedure aligns best with the description in Protocol 8. Specifically, the dispensing of 20 uL of Buffer A from a bottle to a PCR plate, in wells from A1 to A12.\n",
       "\n",
       "Protocol number: 8"
      ],
      "text/plain": [
       "<IPython.core.display.Markdown object>"
      ]
     },
     "metadata": {},
     "output_type": "display_data"
    },
    {
     "name": "stdout",
     "output_type": "stream",
     "text": [
      "{'matches': True, 'video': 'Pipette_ducoBufferBInsteadBufferA.MP4', 'expected_protocol': '8', 'found_protocol': '8', 'verbos_eval': 'Alright, let\\'s meticulously analyze this video and determine the most appropriate protocol.\\n\\n**1. Starting State:**\\n\\nThe scene presents a laboratory bench with the following items:\\n\\n*   A clear 96-well PCR plate.\\n*   A pipette, seemingly set to deliver a volume in the microliter range.\\n*   A tip box containing yellow pipette tips.\\n*   A labeled bottle with a blue cap, presumably containing \"Buffer A\" as referenced by the narrator.\\n*   Other lab supplies such as test tubes and additional pipettes are visible in the background.\\n\\n**2. Actions Taken (Chronological Order):**\\n\\n1.  The operator adjusts the volume setting on the pipette, seemingly aiming for 20 microliters.\\n2.  The operator opens the bottle of Buffer A.\\n3.  The operator affixes a fresh pipette tip to the pipette.\\n4.  The operator aspirates a small amount of Buffer A from the bottle using the pipette.\\n5.  The operator dispenses the aspirated Buffer A into a well of the 96-well plate, specifically proceeding from well A1 and subsequently to well A2, and continuing to fill multiple wells.\\n6.  The operator closes the bottle of Buffer A.\\n7.  The operator places the cap on the bottle of Buffer A.\\n\\n**3. Ending State:**\\n\\nThe 96-well plate will have Buffer A added into multiple wells, with the filling process continuing. The bench setup is otherwise unchanged.\\n\\n**4. Protocol Match:**\\n\\nGiven the actions observed, the procedure aligns best with the description in Protocol 8. Specifically, the dispensing of 20 uL of Buffer A from a bottle to a PCR plate, in wells from A1 to A12.\\n\\nProtocol number: 8'}\n",
      "Processing video: ESIsourceToUltraSource_docuFogotOvenPowerSupply.MP4\n",
      "/Users/patriciaskowronek/Documents/documentation_agent_few_shot_examples/benchmark_dataset/documentation/ESIsourceToUltraSource_docuFogotOvenPowerSupply.MP4\n"
     ]
    },
    {
     "data": {
      "text/markdown": [
       "Alright, let's dissect this video with the necessary precision.\n",
       "\n",
       "1.  **Starting State:** The video commences with an ESI source attached to the mass spectrometer. The ESI source is housed within a distinctive half-sphere shaped housing. Transparent tubing and red tubing are connected to it. The instrument is operational, as evidenced by the presence of data displayed on the connected computer monitors.\n",
       "\n",
       "2.  **Actions Taken (Chronological Order):**\n",
       "\n",
       "    *   At 0:00, the operator starts to work with the ESI source.\n",
       "    *   At 0:21, the operator selects \"Captive Spray\" in the software - so UltraSource, not the ESI source is intended to be used.\n",
       "    *   From 0:29 to 0:47, the tubing is removed and placed at the side.\n",
       "    *   From 0:47 to 1:01, the ESI source is being disassembled.\n",
       "    *   From 1:01 to 1:15, the ESI source housing is being removed and placed to the side.\n",
       "    *   From 1:16 to 2:40, the UltraSource is being attached and being connected to the tubing.\n",
       "    *   From 2:40 to 3:31, the device is being activated via the software.\n",
       "\n",
       "3.  **Ending State:** The UltraSource is fully installed. The chromatography system is attached to the UltraSource. The computer displays an operational mass spectrometer system, showing data being acquired with the UltraSource.\n",
       "\n",
       "4.  **Protocol Matching:** The sequence of actions described is consistent with changing from the ESI source to UltraSource, with the required connections to the LC system.\n",
       "\n",
       "Protocol number: 9"
      ],
      "text/plain": [
       "<IPython.core.display.Markdown object>"
      ]
     },
     "metadata": {},
     "output_type": "display_data"
    },
    {
     "name": "stdout",
     "output_type": "stream",
     "text": [
      "{'matches': True, 'video': 'ESIsourceToUltraSource_docuFogotOvenPowerSupply.MP4', 'expected_protocol': '9', 'found_protocol': '9', 'verbos_eval': 'Alright, let\\'s dissect this video with the necessary precision.\\n\\n1.  **Starting State:** The video commences with an ESI source attached to the mass spectrometer. The ESI source is housed within a distinctive half-sphere shaped housing. Transparent tubing and red tubing are connected to it. The instrument is operational, as evidenced by the presence of data displayed on the connected computer monitors.\\n\\n2.  **Actions Taken (Chronological Order):**\\n\\n    *   At 0:00, the operator starts to work with the ESI source.\\n    *   At 0:21, the operator selects \"Captive Spray\" in the software - so UltraSource, not the ESI source is intended to be used.\\n    *   From 0:29 to 0:47, the tubing is removed and placed at the side.\\n    *   From 0:47 to 1:01, the ESI source is being disassembled.\\n    *   From 1:01 to 1:15, the ESI source housing is being removed and placed to the side.\\n    *   From 1:16 to 2:40, the UltraSource is being attached and being connected to the tubing.\\n    *   From 2:40 to 3:31, the device is being activated via the software.\\n\\n3.  **Ending State:** The UltraSource is fully installed. The chromatography system is attached to the UltraSource. The computer displays an operational mass spectrometer system, showing data being acquired with the UltraSource.\\n\\n4.  **Protocol Matching:** The sequence of actions described is consistent with changing from the ESI source to UltraSource, with the required connections to the LC system.\\n\\nProtocol number: 9'}\n",
      "Processing video: Pipette_docu_WrongRowB_B10Twice_B11LeftOut.MP4\n",
      "/Users/patriciaskowronek/Documents/documentation_agent_few_shot_examples/benchmark_dataset/documentation/Pipette_docu_WrongRowB_B10Twice_B11LeftOut.MP4\n"
     ]
    },
    {
     "data": {
      "text/markdown": [
       "Alright, let's analyze this video with the due diligence it deserves.\n",
       "\n",
       "1. **Starting State:** A laboratory bench is visible, populated with various items. We observe:\n",
       "    - A 96-well PCR plate sitting empty on the bench.\n",
       "    - An Eppendorf pipette, calibrated for adjustable volumes, is also present.\n",
       "    - A bottle labeled as containing Buffer A.\n",
       "    - A tip box, holding multiple pipette tips.\n",
       "    - Several test tubes in a rack are visible.\n",
       "\n",
       "2. **Actions Taken (in sequence):**\n",
       "    - The operator adjusts the volume setting of the pipette. It is not possible to read the number in the video with accuracy, but the operator mentions this will be set to 20 microliters.\n",
       "    - A new pipette tip is then retrieved from the tip box and attached to the pipette.\n",
       "    - The bottle containing Buffer A is opened, and the pipette is used to aspirate liquid from it.\n",
       "    - The pipette tip containing Buffer A is positioned over a well in the 96-well PCR plate and the contents are dispensed.\n",
       "    - The operator repeats this action multiple times, dispensing Buffer A into the wells of the 96-well PCR plate.\n",
       "    - The bottle of Buffer A is closed.\n",
       "\n",
       "3. **Ending State:**\n",
       "    - Buffer A has been transferred from the bottle into multiple wells of the 96-well PCR plate.\n",
       "\n",
       "4. **Protocol Matching:**\n",
       "\n",
       "Based on the actions observed, this procedure aligns directly with **Dispensing Protocol 8**. The protocol details the steps to pipette 20 uL buffer A in a PCR Plate from A1 to A12 which matches the observed actions in the video.\n",
       "\n",
       "Protocol number: 8\n"
      ],
      "text/plain": [
       "<IPython.core.display.Markdown object>"
      ]
     },
     "metadata": {},
     "output_type": "display_data"
    },
    {
     "name": "stdout",
     "output_type": "stream",
     "text": [
      "{'matches': True, 'video': 'Pipette_docu_WrongRowB_B10Twice_B11LeftOut.MP4', 'expected_protocol': '8', 'found_protocol': '8', 'verbos_eval': \"Alright, let's analyze this video with the due diligence it deserves.\\n\\n1. **Starting State:** A laboratory bench is visible, populated with various items. We observe:\\n    - A 96-well PCR plate sitting empty on the bench.\\n    - An Eppendorf pipette, calibrated for adjustable volumes, is also present.\\n    - A bottle labeled as containing Buffer A.\\n    - A tip box, holding multiple pipette tips.\\n    - Several test tubes in a rack are visible.\\n\\n2. **Actions Taken (in sequence):**\\n    - The operator adjusts the volume setting of the pipette. It is not possible to read the number in the video with accuracy, but the operator mentions this will be set to 20 microliters.\\n    - A new pipette tip is then retrieved from the tip box and attached to the pipette.\\n    - The bottle containing Buffer A is opened, and the pipette is used to aspirate liquid from it.\\n    - The pipette tip containing Buffer A is positioned over a well in the 96-well PCR plate and the contents are dispensed.\\n    - The operator repeats this action multiple times, dispensing Buffer A into the wells of the 96-well PCR plate.\\n    - The bottle of Buffer A is closed.\\n\\n3. **Ending State:**\\n    - Buffer A has been transferred from the bottle into multiple wells of the 96-well PCR plate.\\n\\n4. **Protocol Matching:**\\n\\nBased on the actions observed, this procedure aligns directly with **Dispensing Protocol 8**. The protocol details the steps to pipette 20 uL buffer A in a PCR Plate from A1 to A12 which matches the observed actions in the video.\\n\\nProtocol number: 8\\n\"}\n",
      "Processing video: ConnectingColumnSampleLine_docuWithoutStandbyANDtimsControl.mp4\n",
      "/Users/patriciaskowronek/Documents/documentation_agent_few_shot_examples/benchmark_dataset/documentation/ConnectingColumnSampleLine_docuWithoutStandbyANDtimsControl.mp4\n"
     ]
    },
    {
     "data": {
      "text/markdown": [
       "Okay, let's analyze the video and determine the most appropriate protocol.\n",
       "\n",
       "1.  **Starting State:** The video begins with an IonOpticks column connected to what appears to be the UltraSource of a Bruker timsTOF mass spectrometer. The column is inside a column oven. A sample line is connected to the column. A grounding screw of the oven is placed on top of the column sample line connection.\n",
       "\n",
       "2.  **Actions Taken (Chronological Order):**\n",
       "\n",
       "    *   First, the operator loosens the grounding screw at the sample line - column connection and moves it away from the column-sample line connection.\n",
       "    *   The operator then connects the NanoViper adapter to the sample line.\n",
       "    *   Next, the operator uses pliers to hold the column fitting.\n",
       "    *   The NanoViper connector is unscrewed to detach the sample line from the IonOpticks column by turning it counter clock-wise.\n",
       "    *   The sample line is positioned into place.\n",
       "    *   The grounding screw is then placed again at the column-sample line connection.\n",
       "    *   The second connector is mounted to the column fitting.\n",
       "    *   The lights next to the column are turned on.\n",
       "    *   Finally, a second cable is connected to the mass spectrometer.\n",
       "\n",
       "3.  **Ending State:** The IonOpticks column is connected to the UltraSource. A sample line of an Evosep is connected to the column. The grounding screw of the oven is placed on top of the column sample line connection.\n",
       "\n",
       "4.  **Protocol Matching:** Based on the observed actions, the procedure in the video best matches protocol **Connecting IonOpticks Column & sample line of Evosep.**\n",
       "    *   Protocol 6 describes: \"connect an IonOpticks column inserted into a timsTOF Ultra with an sample line of an Evosep\".\n",
       "    *   Protocol 3 describes: \"disconnect an IonOpticks column from an Evosep liquid chromatography system when the column is installed in the UltraSource of a timsTOF mass spectrometer.\".\n",
       "\n",
       "Protocol number: 6\n"
      ],
      "text/plain": [
       "<IPython.core.display.Markdown object>"
      ]
     },
     "metadata": {},
     "output_type": "display_data"
    },
    {
     "name": "stdout",
     "output_type": "stream",
     "text": [
      "{'matches': True, 'video': 'ConnectingColumnSampleLine_docuWithoutStandbyANDtimsControl.mp4', 'expected_protocol': '6', 'found_protocol': '6', 'verbos_eval': 'Okay, let\\'s analyze the video and determine the most appropriate protocol.\\n\\n1.  **Starting State:** The video begins with an IonOpticks column connected to what appears to be the UltraSource of a Bruker timsTOF mass spectrometer. The column is inside a column oven. A sample line is connected to the column. A grounding screw of the oven is placed on top of the column sample line connection.\\n\\n2.  **Actions Taken (Chronological Order):**\\n\\n    *   First, the operator loosens the grounding screw at the sample line - column connection and moves it away from the column-sample line connection.\\n    *   The operator then connects the NanoViper adapter to the sample line.\\n    *   Next, the operator uses pliers to hold the column fitting.\\n    *   The NanoViper connector is unscrewed to detach the sample line from the IonOpticks column by turning it counter clock-wise.\\n    *   The sample line is positioned into place.\\n    *   The grounding screw is then placed again at the column-sample line connection.\\n    *   The second connector is mounted to the column fitting.\\n    *   The lights next to the column are turned on.\\n    *   Finally, a second cable is connected to the mass spectrometer.\\n\\n3.  **Ending State:** The IonOpticks column is connected to the UltraSource. A sample line of an Evosep is connected to the column. The grounding screw of the oven is placed on top of the column sample line connection.\\n\\n4.  **Protocol Matching:** Based on the observed actions, the procedure in the video best matches protocol **Connecting IonOpticks Column & sample line of Evosep.**\\n    *   Protocol 6 describes: \"connect an IonOpticks column inserted into a timsTOF Ultra with an sample line of an Evosep\".\\n    *   Protocol 3 describes: \"disconnect an IonOpticks column from an Evosep liquid chromatography system when the column is installed in the UltraSource of a timsTOF mass spectrometer.\".\\n\\nProtocol number: 6\\n'}\n",
      "Processing video: TimsCalibration_docuSavedMethod.mov\n",
      "/Users/patriciaskowronek/Documents/documentation_agent_few_shot_examples/benchmark_dataset/documentation/TimsCalibration_docuSavedMethod.mov\n"
     ]
    },
    {
     "data": {
      "text/markdown": [
       "Alright, let's analyze this video with the precision it deserves.\n",
       "\n",
       "1. **Starting State:** The video presents a software interface, presumably timsControl, displaying chromatograms and various instrument parameters. The 'Automation' section shows 'HyStar' is operating, 'Calibration' is highlighted in green indicating it is running, 'Mobility' and 'Vacuum' are also marked as 'OK'. The 'TIMS' settings are in custom mode. The scan mode is set to 'dia-PASEF'. The 'Calibration' tab is selected, showing a list of reference masses. The lower part of the window indicates that the mobility calibration is valid.\n",
       "\n",
       "2. **Actions Taken (in sequence):**\n",
       "    *   0:06 - The value in the '1/K0 End' field is manually adjusted to 1.45 V.s/cm2.\n",
       "    *   0:17 - The scan mode is changed from 'dia-PASEF' to 'MS'.\n",
       "    *   0:21 - The 'MS Averaging' value is manually changed to 30.\n",
       "    *   0:27 - The 'Calibration' tab is selected.\n",
       "    *   0:36 - The Calibrate' button is clicked under the Calibration Mode.\n",
       "    *   0:38 - The Calibration result OK' is shown.\n",
       "    *   0:41 - Selecting calibrants by clicking at them in the reference list.\n",
       "    *   0:51 - The 'Accept' button is clicked.\n",
       "    *   1:10 - Accessing \"Application Methods\" menu and choosing \"Load Recent\".\n",
       "    *   1:14 - Loading the DIA_maintenance file from the list.\n",
       "\n",
       "3. **Ending State:** The software interface is again visible, with the updated values. The 'Calibration' tab shows a list of reference masses.\n",
       "\n",
       "4. **Matching Protocol:** The video demonstrates a calibration process within the timsControl software. The actions include setting the mobility range, choosing a calibration list, selecting calibrants, running the calibration, and accepting the results.\n",
       "\n",
       "Therefore, the procedure shown in the video best matches **Protocol number: 5**\n"
      ],
      "text/plain": [
       "<IPython.core.display.Markdown object>"
      ]
     },
     "metadata": {},
     "output_type": "display_data"
    },
    {
     "name": "stdout",
     "output_type": "stream",
     "text": [
      "{'matches': True, 'video': 'TimsCalibration_docuSavedMethod.mov', 'expected_protocol': '5', 'found_protocol': '5', 'verbos_eval': 'Alright, let\\'s analyze this video with the precision it deserves.\\n\\n1. **Starting State:** The video presents a software interface, presumably timsControl, displaying chromatograms and various instrument parameters. The \\'Automation\\' section shows \\'HyStar\\' is operating, \\'Calibration\\' is highlighted in green indicating it is running, \\'Mobility\\' and \\'Vacuum\\' are also marked as \\'OK\\'. The \\'TIMS\\' settings are in custom mode. The scan mode is set to \\'dia-PASEF\\'. The \\'Calibration\\' tab is selected, showing a list of reference masses. The lower part of the window indicates that the mobility calibration is valid.\\n\\n2. **Actions Taken (in sequence):**\\n    *   0:06 - The value in the \\'1/K0 End\\' field is manually adjusted to 1.45 V.s/cm2.\\n    *   0:17 - The scan mode is changed from \\'dia-PASEF\\' to \\'MS\\'.\\n    *   0:21 - The \\'MS Averaging\\' value is manually changed to 30.\\n    *   0:27 - The \\'Calibration\\' tab is selected.\\n    *   0:36 - The Calibrate\\' button is clicked under the Calibration Mode.\\n    *   0:38 - The Calibration result OK\\' is shown.\\n    *   0:41 - Selecting calibrants by clicking at them in the reference list.\\n    *   0:51 - The \\'Accept\\' button is clicked.\\n    *   1:10 - Accessing \"Application Methods\" menu and choosing \"Load Recent\".\\n    *   1:14 - Loading the DIA_maintenance file from the list.\\n\\n3. **Ending State:** The software interface is again visible, with the updated values. The \\'Calibration\\' tab shows a list of reference masses.\\n\\n4. **Matching Protocol:** The video demonstrates a calibration process within the timsControl software. The actions include setting the mobility range, choosing a calibration list, selecting calibrants, running the calibration, and accepting the results.\\n\\nTherefore, the procedure shown in the video best matches **Protocol number: 5**\\n'}\n",
      "Processing video: Dilute_docuWrongSolvent.MP4\n",
      "/Users/patriciaskowronek/Documents/documentation_agent_few_shot_examples/benchmark_dataset/documentation/Dilute_docuWrongSolvent.MP4\n"
     ]
    },
    {
     "data": {
      "text/markdown": [
       "Alright, let's analyze this lab video with the meticulous detail required for proper documentation.\n",
       "\n",
       "**1. Starting State:**\n",
       "\n",
       "The workspace is set up with the following items visible:\n",
       "*   A bag of unopened Eppendorf tubes.\n",
       "*   Boxes of pipette tips, including an open box with tips.\n",
       "*   Two small glass bottles, labeled \"Evo B\" and \"Buffer A\", containing clear liquids.\n",
       "*   A bright orange tube rack with one clear Eppendorf tube positioned in a slot.\n",
       "*   An Eppendorf Research pipette.\n",
       "*   A notepad and pen.\n",
       "*   Additional lab supplies are visible in the background, including bottles and boxes of supplies\n",
       "\n",
       "**2. Actions Taken (Chronological Sequence):**\n",
       "\n",
       "1.  The researcher verbally identifies a desire to pipette 400 microliters of Buffer A and 100 microliters of Buffer B.\n",
       "2.  The researcher manually sets the Eppendorf Research pipette to a volume of 100 microliters.\n",
       "3.  The researcher inserts a pipette tip onto the pipette.\n",
       "4.  The researcher aspirates liquid from the \"Evo B\" bottle.\n",
       "5.  The researcher dispenses the liquid into the tube in the orange tube rack.\n",
       "6.  The researcher ejects the pipette tip.\n",
       "7.  The researcher manually sets the Eppendorf Research pipette to a volume of 400 microliters.\n",
       "8.  The researcher inserts a pipette tip onto the pipette.\n",
       "9.  The researcher aspirates liquid from the \"Buffer A\" bottle.\n",
       "10. The researcher dispenses the liquid into the tube in the orange tube rack.\n",
       "11. The researcher ejects the pipette tip.\n",
       "\n",
       "**3. Ending State:**\n",
       "\n",
       "At the end of the provided video, we see:\n",
       "\n",
       "*   The Eppendorf tube in the orange rack now contains a larger volume of liquid, presumably a combination of Buffer A and Evo B.\n",
       "*   The pipette is resting on the bench.\n",
       "*   The other materials remain in the same relative positions as at the start.\n",
       "\n",
       "**4. Protocol Identification:**\n",
       "\n",
       "Based on the observed starting state, the actions taken, and the resulting ending state, this procedure most closely resembles a dispensing protocol where specific volumes of reagents are being combined into a single tube.\n",
       "\n",
       "Protocol number: 4"
      ],
      "text/plain": [
       "<IPython.core.display.Markdown object>"
      ]
     },
     "metadata": {},
     "output_type": "display_data"
    },
    {
     "name": "stdout",
     "output_type": "stream",
     "text": [
      "{'matches': True, 'video': 'Dilute_docuWrongSolvent.MP4', 'expected_protocol': '4', 'found_protocol': '4', 'verbos_eval': 'Alright, let\\'s analyze this lab video with the meticulous detail required for proper documentation.\\n\\n**1. Starting State:**\\n\\nThe workspace is set up with the following items visible:\\n*   A bag of unopened Eppendorf tubes.\\n*   Boxes of pipette tips, including an open box with tips.\\n*   Two small glass bottles, labeled \"Evo B\" and \"Buffer A\", containing clear liquids.\\n*   A bright orange tube rack with one clear Eppendorf tube positioned in a slot.\\n*   An Eppendorf Research pipette.\\n*   A notepad and pen.\\n*   Additional lab supplies are visible in the background, including bottles and boxes of supplies\\n\\n**2. Actions Taken (Chronological Sequence):**\\n\\n1.  The researcher verbally identifies a desire to pipette 400 microliters of Buffer A and 100 microliters of Buffer B.\\n2.  The researcher manually sets the Eppendorf Research pipette to a volume of 100 microliters.\\n3.  The researcher inserts a pipette tip onto the pipette.\\n4.  The researcher aspirates liquid from the \"Evo B\" bottle.\\n5.  The researcher dispenses the liquid into the tube in the orange tube rack.\\n6.  The researcher ejects the pipette tip.\\n7.  The researcher manually sets the Eppendorf Research pipette to a volume of 400 microliters.\\n8.  The researcher inserts a pipette tip onto the pipette.\\n9.  The researcher aspirates liquid from the \"Buffer A\" bottle.\\n10. The researcher dispenses the liquid into the tube in the orange tube rack.\\n11. The researcher ejects the pipette tip.\\n\\n**3. Ending State:**\\n\\nAt the end of the provided video, we see:\\n\\n*   The Eppendorf tube in the orange rack now contains a larger volume of liquid, presumably a combination of Buffer A and Evo B.\\n*   The pipette is resting on the bench.\\n*   The other materials remain in the same relative positions as at the start.\\n\\n**4. Protocol Identification:**\\n\\nBased on the observed starting state, the actions taken, and the resulting ending state, this procedure most closely resembles a dispensing protocol where specific volumes of reagents are being combined into a single tube.\\n\\nProtocol number: 4'}\n",
      "Processing video: TimsCalibration_docuWrongOrderSteps.mov\n",
      "/Users/patriciaskowronek/Documents/documentation_agent_few_shot_examples/benchmark_dataset/documentation/TimsCalibration_docuWrongOrderSteps.mov\n"
     ]
    },
    {
     "data": {
      "text/markdown": [
       "Alright, let's analyze this laboratory video with the precision it deserves.\n",
       "\n",
       "1.  **Starting State:** The video begins with the Bruker timsTOF instrument running, as evidenced by the active HyStar software interface displaying chromatograms, mobility plots, and various instrument parameters. The system appears to be in a calibrated state (\"Calibration OK\" is displayed) and set for \"Mobility\" mode, specifically \"dia-PASEF.\"\n",
       "\n",
       "2.  **Actions Taken (in sequence):**\n",
       "    *   0:07 User changes the V/k0 end value.\n",
       "    *   0:15 User clicks on the calibration tab.\n",
       "    *   0:27 User clicks on the calibrate tab.\n",
       "    *   0:33 User selects MS scan mode.\n",
       "    *   0:36 User changes the MS Averaging to 30.\n",
       "    *   0:39 User clicks calibrate tab.\n",
       "    *   0:50 User clicks accept.\n",
       "    *   0:55 User selects load method.\n",
       "    *   0:59 User selects discard changes.\n",
       "    *   1:01 User changes the MS Averaging to 1.\n",
       "\n",
       "3.  **Ending State:** The system is back to a calibrated state.\n",
       "\n",
       "Based on these observations, the video demonstrates the process of calibrating the TIMS device, specifically focusing on the ion mobility aspect.\n",
       "\n",
       "Protocol number: 5"
      ],
      "text/plain": [
       "<IPython.core.display.Markdown object>"
      ]
     },
     "metadata": {},
     "output_type": "display_data"
    },
    {
     "name": "stdout",
     "output_type": "stream",
     "text": [
      "{'matches': True, 'video': 'TimsCalibration_docuWrongOrderSteps.mov', 'expected_protocol': '5', 'found_protocol': '5', 'verbos_eval': 'Alright, let\\'s analyze this laboratory video with the precision it deserves.\\n\\n1.  **Starting State:** The video begins with the Bruker timsTOF instrument running, as evidenced by the active HyStar software interface displaying chromatograms, mobility plots, and various instrument parameters. The system appears to be in a calibrated state (\"Calibration OK\" is displayed) and set for \"Mobility\" mode, specifically \"dia-PASEF.\"\\n\\n2.  **Actions Taken (in sequence):**\\n    *   0:07 User changes the V/k0 end value.\\n    *   0:15 User clicks on the calibration tab.\\n    *   0:27 User clicks on the calibrate tab.\\n    *   0:33 User selects MS scan mode.\\n    *   0:36 User changes the MS Averaging to 30.\\n    *   0:39 User clicks calibrate tab.\\n    *   0:50 User clicks accept.\\n    *   0:55 User selects load method.\\n    *   0:59 User selects discard changes.\\n    *   1:01 User changes the MS Averaging to 1.\\n\\n3.  **Ending State:** The system is back to a calibrated state.\\n\\nBased on these observations, the video demonstrates the process of calibrating the TIMS device, specifically focusing on the ion mobility aspect.\\n\\nProtocol number: 5'}\n",
      "Processing video: Dilute_docuWrongVolume_PipettTipNotChanged.MP4\n",
      "/Users/patriciaskowronek/Documents/documentation_agent_few_shot_examples/benchmark_dataset/documentation/Dilute_docuWrongVolume_PipettTipNotChanged.MP4\n"
     ]
    },
    {
     "data": {
      "text/markdown": [
       "Okay, let's analyze the laboratory video to determine the most appropriate protocol.\n",
       "\n",
       "1.  **Starting State:** The workbench is populated with various items: a bag of Eppendorf tubes, several boxes of pipette tips, two small glass bottles with blue caps, an orange tube rack with a couple of tubes already in it, a pipette, a pen, and a piece of paper with written instructions. A gloved hand is present.\n",
       "\n",
       "2.  **Actions Taken (in sequence):**\n",
       "    *   0:05 A pipette is adjusted and a tip is attached.\n",
       "    *   0:13 A glass bottle is opened.\n",
       "    *   0:21 A pipette tip is attached.\n",
       "    *   0:24 A volume from the bottle is aspirated using the pipette.\n",
       "    *   0:27 The aspirated volume is dispensed into a tube held in the orange rack.\n",
       "    *   0:30 A used pipette tip is ejected.\n",
       "    *   0:30 A pipette is adjusted to a new volume and a new pipette tip is attached.\n",
       "    *   0:39 A volume is aspirated from a different bottle using the pipette.\n",
       "    *   0:41 The aspirated volume is dispensed into a different tube held in the orange rack.\n",
       "    *   0:45 A used pipette tip is ejected.\n",
       "    *   0:47 The tube is removed from the rack, closed, and mixed.\n",
       "    *   0:56 The tube is labeled with a pen.\n",
       "\n",
       "3.  **Ending State:** The tube rack contains tubes that have been filled, closed, and labeled. The bottles have had liquid removed and the workbench setup is disassembled\n",
       "\n",
       "4.  **Matching to a protocol:** The observed actions are consistent with a dilution or dispensing procedure where specific volumes of reagents are transferred and mixed.\n",
       "\n",
       "Protocol number: 4"
      ],
      "text/plain": [
       "<IPython.core.display.Markdown object>"
      ]
     },
     "metadata": {},
     "output_type": "display_data"
    },
    {
     "name": "stdout",
     "output_type": "stream",
     "text": [
      "{'matches': True, 'video': 'Dilute_docuWrongVolume_PipettTipNotChanged.MP4', 'expected_protocol': '4', 'found_protocol': '4', 'verbos_eval': \"Okay, let's analyze the laboratory video to determine the most appropriate protocol.\\n\\n1.  **Starting State:** The workbench is populated with various items: a bag of Eppendorf tubes, several boxes of pipette tips, two small glass bottles with blue caps, an orange tube rack with a couple of tubes already in it, a pipette, a pen, and a piece of paper with written instructions. A gloved hand is present.\\n\\n2.  **Actions Taken (in sequence):**\\n    *   0:05 A pipette is adjusted and a tip is attached.\\n    *   0:13 A glass bottle is opened.\\n    *   0:21 A pipette tip is attached.\\n    *   0:24 A volume from the bottle is aspirated using the pipette.\\n    *   0:27 The aspirated volume is dispensed into a tube held in the orange rack.\\n    *   0:30 A used pipette tip is ejected.\\n    *   0:30 A pipette is adjusted to a new volume and a new pipette tip is attached.\\n    *   0:39 A volume is aspirated from a different bottle using the pipette.\\n    *   0:41 The aspirated volume is dispensed into a different tube held in the orange rack.\\n    *   0:45 A used pipette tip is ejected.\\n    *   0:47 The tube is removed from the rack, closed, and mixed.\\n    *   0:56 The tube is labeled with a pen.\\n\\n3.  **Ending State:** The tube rack contains tubes that have been filled, closed, and labeled. The bottles have had liquid removed and the workbench setup is disassembled\\n\\n4.  **Matching to a protocol:** The observed actions are consistent with a dilution or dispensing procedure where specific volumes of reagents are transferred and mixed.\\n\\nProtocol number: 4\"}\n",
      "Processing video: DisconnectingColumn_docuCorrect.MP4\n",
      "/Users/patriciaskowronek/Documents/documentation_agent_few_shot_examples/benchmark_dataset/documentation/DisconnectingColumn_docuCorrect.MP4\n"
     ]
    },
    {
     "data": {
      "text/markdown": [
       "Alright, let's analyze this video with the necessary rigor.\n",
       "\n",
       "**1. Initial State:**\n",
       "\n",
       "The video begins with a close-up view of the UltraSource on a timsTOF mass spectrometer. An IonOpticks column is connected to the UltraSource via a NanoViper connector. The column oven is present. A sample line is connected to the column. The instrument appears to be in a ready state.\n",
       "\n",
       "**2. Actions Taken (Chronological Order):**\n",
       "\n",
       "*   The operator removes the grounding connector from the column-sample line connection.\n",
       "*   The operator detaches the sample line (NanoViper connector) from the IonOpticks column. Pliers were utilized to grip the column fitting during this process.\n",
       "*   The detached sample line is then moved out of the way.\n",
       "*   The operator places something in a small waste container.\n",
       "\n",
       "**3. Ending State:**\n",
       "\n",
       "The IonOpticks column is now disconnected from the sample line of the Evosep system. The sample line is positioned away from the column.\n",
       "\n",
       "**4. Protocol Matching:**\n",
       "\n",
       "Based on the starting state, the sequence of actions, and the final state, the procedure documented in the video corresponds to the protocol for disconnecting an IonOpticks column from an Evosep system.\n",
       "\n",
       "Protocol number: 3"
      ],
      "text/plain": [
       "<IPython.core.display.Markdown object>"
      ]
     },
     "metadata": {},
     "output_type": "display_data"
    },
    {
     "name": "stdout",
     "output_type": "stream",
     "text": [
      "{'matches': True, 'video': 'DisconnectingColumn_docuCorrect.MP4', 'expected_protocol': '3', 'found_protocol': '3', 'verbos_eval': \"Alright, let's analyze this video with the necessary rigor.\\n\\n**1. Initial State:**\\n\\nThe video begins with a close-up view of the UltraSource on a timsTOF mass spectrometer. An IonOpticks column is connected to the UltraSource via a NanoViper connector. The column oven is present. A sample line is connected to the column. The instrument appears to be in a ready state.\\n\\n**2. Actions Taken (Chronological Order):**\\n\\n*   The operator removes the grounding connector from the column-sample line connection.\\n*   The operator detaches the sample line (NanoViper connector) from the IonOpticks column. Pliers were utilized to grip the column fitting during this process.\\n*   The detached sample line is then moved out of the way.\\n*   The operator places something in a small waste container.\\n\\n**3. Ending State:**\\n\\nThe IonOpticks column is now disconnected from the sample line of the Evosep system. The sample line is positioned away from the column.\\n\\n**4. Protocol Matching:**\\n\\nBased on the starting state, the sequence of actions, and the final state, the procedure documented in the video corresponds to the protocol for disconnecting an IonOpticks column from an Evosep system.\\n\\nProtocol number: 3\"}\n",
      "Processing video: Pipette_docuFirstTwoWrongVolumneANDA2Twice.MP4\n",
      "/Users/patriciaskowronek/Documents/documentation_agent_few_shot_examples/benchmark_dataset/documentation/Pipette_docuFirstTwoWrongVolumneANDA2Twice.MP4\n"
     ]
    },
    {
     "data": {
      "text/markdown": [
       "Alright, let's analyze this video with the meticulous approach that laboratory documentation demands.\n",
       "\n",
       "1.  **Starting State:** We observe a laboratory bench with an array of equipment. Prominent are two capped reagent bottles labeled, presumably containing the buffer of interest. Also present is a clear 96-well PCR plate, a multi-channel pipette, a yellow pipette tip box, and other miscellaneous lab supplies. The user is wearing black gloves.\n",
       "\n",
       "2.  **Observed Actions (Chronological Order):**\n",
       "\n",
       "    *   The user opens a reagent bottle, removes the cap.\n",
       "    *   The user attaches a pipette tip to a pipette.\n",
       "    *   The user aspirates solution from the reagent bottle.\n",
       "    *   The user dispenses the solution into a well of the 96 well plate.\n",
       "    *   The user repeats the previous two actions into another well of the 96 well plate.\n",
       "    *   The user repeats the previous two actions into another well of the 96 well plate.\n",
       "    *   The user repeats the previous two actions into another well of the 96 well plate.\n",
       "    *   The user repeats the previous two actions into another well of the 96 well plate.\n",
       "    *   The user repeats the previous two actions into another well of the 96 well plate.\n",
       "    *   The user repeats the previous two actions into another well of the 96 well plate.\n",
       "    *   The user repeats the previous two actions into another well of the 96 well plate.\n",
       "    *   The user repeats the previous two actions into another well of the 96 well plate.\n",
       "    *   The user repeats the previous two actions into another well of the 96 well plate.\n",
       "    *   The user repeats the previous two actions into another well of the 96 well plate.\n",
       "    *   The user repeats the previous two actions into another well of the 96 well plate.\n",
       "    *   The user discards pipette tip.\n",
       "\n",
       "3.  **Ending State:** The laboratory bench remains with the same equipment present, but now wells A1 through A12 of the clear 96-well PCR plate contain a volume of clear liquid, presumably the reagent aspirated from the bottle. The reagent bottle is uncapped.\n",
       "\n",
       "4.  **Protocol Matching:** Based on the observed actions, this most closely resembles a dispensing protocol where a reagent is being added to multiple wells of a PCR plate. This is described in protocol 8.\n",
       "\n",
       "Protocol number: 8\n"
      ],
      "text/plain": [
       "<IPython.core.display.Markdown object>"
      ]
     },
     "metadata": {},
     "output_type": "display_data"
    },
    {
     "name": "stdout",
     "output_type": "stream",
     "text": [
      "{'matches': True, 'video': 'Pipette_docuFirstTwoWrongVolumneANDA2Twice.MP4', 'expected_protocol': '8', 'found_protocol': '8', 'verbos_eval': \"Alright, let's analyze this video with the meticulous approach that laboratory documentation demands.\\n\\n1.  **Starting State:** We observe a laboratory bench with an array of equipment. Prominent are two capped reagent bottles labeled, presumably containing the buffer of interest. Also present is a clear 96-well PCR plate, a multi-channel pipette, a yellow pipette tip box, and other miscellaneous lab supplies. The user is wearing black gloves.\\n\\n2.  **Observed Actions (Chronological Order):**\\n\\n    *   The user opens a reagent bottle, removes the cap.\\n    *   The user attaches a pipette tip to a pipette.\\n    *   The user aspirates solution from the reagent bottle.\\n    *   The user dispenses the solution into a well of the 96 well plate.\\n    *   The user repeats the previous two actions into another well of the 96 well plate.\\n    *   The user repeats the previous two actions into another well of the 96 well plate.\\n    *   The user repeats the previous two actions into another well of the 96 well plate.\\n    *   The user repeats the previous two actions into another well of the 96 well plate.\\n    *   The user repeats the previous two actions into another well of the 96 well plate.\\n    *   The user repeats the previous two actions into another well of the 96 well plate.\\n    *   The user repeats the previous two actions into another well of the 96 well plate.\\n    *   The user repeats the previous two actions into another well of the 96 well plate.\\n    *   The user repeats the previous two actions into another well of the 96 well plate.\\n    *   The user repeats the previous two actions into another well of the 96 well plate.\\n    *   The user repeats the previous two actions into another well of the 96 well plate.\\n    *   The user discards pipette tip.\\n\\n3.  **Ending State:** The laboratory bench remains with the same equipment present, but now wells A1 through A12 of the clear 96-well PCR plate contain a volume of clear liquid, presumably the reagent aspirated from the bottle. The reagent bottle is uncapped.\\n\\n4.  **Protocol Matching:** Based on the observed actions, this most closely resembles a dispensing protocol where a reagent is being added to multiple wells of a PCR plate. This is described in protocol 8.\\n\\nProtocol number: 8\\n\"}\n",
      "Processing video: PlaceEvotips_docuWrongPosition.MP4\n",
      "/Users/patriciaskowronek/Documents/documentation_agent_few_shot_examples/benchmark_dataset/documentation/PlaceEvotips_docuWrongPosition.MP4\n"
     ]
    },
    {
     "data": {
      "text/markdown": [
       "Okay, let's analyze the video and determine the best matching protocol.\n",
       "\n",
       "**1. Starting State:**\n",
       "\n",
       "The video begins with a view of an Evosep One system. The system appears to be in a ready state, presumably awaiting sample loading. The platform is clean and empty, ready to receive Evotip boxes.\n",
       "\n",
       "**2. Actions Taken (in sequence):**\n",
       "\n",
       "1.  A gloved hand presents a box labeled \"EVOTIP\" and opens it (0:03-0:06).\n",
       "2.  The box is closed again (0:06-0:10).\n",
       "3.  The Evotip box is placed into one of the designated slots on the Evosep One (0:10-0:15).\n",
       "4.  The gloved hand presents a second Evotip box and places it into another designated slot on the Evosep One (0:15-0:18).\n",
       "5.  The presenter shows a tray containing individual Evotips (0:21-0:26).\n",
       "6.  The presenter removes individual Evotips from the tray and places them into the Evotip boxes. (0:26-0:47)\n",
       "7.  The presenter states that they want to place samples from A1 to A6 of the boxes. (0:22-0:47)\n",
       "8.  The tray with Evotips is placed aside (0:47-0:55).\n",
       "\n",
       "**3. Ending State:**\n",
       "\n",
       "Two Evotip boxes are now placed on the Evosep One platform. Some of the Evotips from the tray have been manually transferred into the two boxes from positions A1 to A6.\n",
       "\n",
       "**4. Protocol Match:**\n",
       "\n",
       "Based on the actions observed, this best matches Protocol 2, \"Placing Evotips in Evotip Boxes on the Evosep One System\". The video clearly demonstrates the placement of Evotip boxes onto the Evosep One and the manual transfer of individual Evotips into the boxes. All of the other protocols address later or earlier steps in the procedure.\n",
       "\n",
       "Protocol number: 2\n"
      ],
      "text/plain": [
       "<IPython.core.display.Markdown object>"
      ]
     },
     "metadata": {},
     "output_type": "display_data"
    },
    {
     "name": "stdout",
     "output_type": "stream",
     "text": [
      "{'matches': True, 'video': 'PlaceEvotips_docuWrongPosition.MP4', 'expected_protocol': '2', 'found_protocol': '2', 'verbos_eval': 'Okay, let\\'s analyze the video and determine the best matching protocol.\\n\\n**1. Starting State:**\\n\\nThe video begins with a view of an Evosep One system. The system appears to be in a ready state, presumably awaiting sample loading. The platform is clean and empty, ready to receive Evotip boxes.\\n\\n**2. Actions Taken (in sequence):**\\n\\n1.  A gloved hand presents a box labeled \"EVOTIP\" and opens it (0:03-0:06).\\n2.  The box is closed again (0:06-0:10).\\n3.  The Evotip box is placed into one of the designated slots on the Evosep One (0:10-0:15).\\n4.  The gloved hand presents a second Evotip box and places it into another designated slot on the Evosep One (0:15-0:18).\\n5.  The presenter shows a tray containing individual Evotips (0:21-0:26).\\n6.  The presenter removes individual Evotips from the tray and places them into the Evotip boxes. (0:26-0:47)\\n7.  The presenter states that they want to place samples from A1 to A6 of the boxes. (0:22-0:47)\\n8.  The tray with Evotips is placed aside (0:47-0:55).\\n\\n**3. Ending State:**\\n\\nTwo Evotip boxes are now placed on the Evosep One platform. Some of the Evotips from the tray have been manually transferred into the two boxes from positions A1 to A6.\\n\\n**4. Protocol Match:**\\n\\nBased on the actions observed, this best matches Protocol 2, \"Placing Evotips in Evotip Boxes on the Evosep One System\". The video clearly demonstrates the placement of Evotip boxes onto the Evosep One and the manual transfer of individual Evotips into the boxes. All of the other protocols address later or earlier steps in the procedure.\\n\\nProtocol number: 2\\n'}\n",
      "Processing video: TimsCalibration_docuCorrect.mov\n",
      "/Users/patriciaskowronek/Documents/documentation_agent_few_shot_examples/benchmark_dataset/documentation/TimsCalibration_docuCorrect.mov\n"
     ]
    },
    {
     "data": {
      "text/markdown": [
       "Alright, let's analyze this video with the precision it deserves.\n",
       "\n",
       "1. **Starting State:** The video presents the timsControl software interface. The system appears to be in an operational state, as indicated by the \"Operating\" status. A chromatogram is displayed, showing peaks evolving over time. The TIMS is on. In the \"Source\" pane, the software is set to DIA-PASEF.\n",
       "\n",
       "2. **Actions Taken (in sequence):**\n",
       "    *   (0:14) Changes V/K0 end from 1.30 V.s/cm2 to 1.45 V.s/cm2 and enters into DIA-PASEF settings.\n",
       "    *   (0:26) The scan mode setting is changed from \"dia-PASEF\" to \"MS.\"\n",
       "    *   (0:30)MS Averaging is set to 30.\n",
       "    *   (0:37) Calibration tab is selected.\n",
       "    *   (0:48) Starts the calibration process by clicking on the \"Calibrate\" button within the \"Calibration Mode\" section of the software.\n",
       "    *   (0:50) The calibration result shows 'Calibration result OK'\n",
       "    *   (1:10) Accepts calibration results.\n",
       "    *   (1:13) A method is loaded by selecting 'Load Method'.\n",
       "    *   (1:20) Discards the method changes.\n",
       "    *   (1:23) MS Averaging is set to 1.\n",
       "\n",
       "3. **Ending State:** The system has undergone a TIMS calibration and a method is loaded. Calibration result is \"OK.\" The display shows a new chromatogram consistent with a system that has been recently calibrated.\n",
       "\n",
       "4. **Matching to Protocol:** Based on the observed actions, the video demonstrates steps outlined in Protocol 5: \"Calibrate the TIMS device\". The video shows the user setting up the parameters, calibrating the instrument, accepting the calibration results, and setting the MS averaging.\n",
       "\n",
       "Protocol number: 5"
      ],
      "text/plain": [
       "<IPython.core.display.Markdown object>"
      ]
     },
     "metadata": {},
     "output_type": "display_data"
    },
    {
     "name": "stdout",
     "output_type": "stream",
     "text": [
      "{'matches': True, 'video': 'TimsCalibration_docuCorrect.mov', 'expected_protocol': '5', 'found_protocol': '5', 'verbos_eval': 'Alright, let\\'s analyze this video with the precision it deserves.\\n\\n1. **Starting State:** The video presents the timsControl software interface. The system appears to be in an operational state, as indicated by the \"Operating\" status. A chromatogram is displayed, showing peaks evolving over time. The TIMS is on. In the \"Source\" pane, the software is set to DIA-PASEF.\\n\\n2. **Actions Taken (in sequence):**\\n    *   (0:14) Changes V/K0 end from 1.30 V.s/cm2 to 1.45 V.s/cm2 and enters into DIA-PASEF settings.\\n    *   (0:26) The scan mode setting is changed from \"dia-PASEF\" to \"MS.\"\\n    *   (0:30)MS Averaging is set to 30.\\n    *   (0:37) Calibration tab is selected.\\n    *   (0:48) Starts the calibration process by clicking on the \"Calibrate\" button within the \"Calibration Mode\" section of the software.\\n    *   (0:50) The calibration result shows \\'Calibration result OK\\'\\n    *   (1:10) Accepts calibration results.\\n    *   (1:13) A method is loaded by selecting \\'Load Method\\'.\\n    *   (1:20) Discards the method changes.\\n    *   (1:23) MS Averaging is set to 1.\\n\\n3. **Ending State:** The system has undergone a TIMS calibration and a method is loaded. Calibration result is \"OK.\" The display shows a new chromatogram consistent with a system that has been recently calibrated.\\n\\n4. **Matching to Protocol:** Based on the observed actions, the video demonstrates steps outlined in Protocol 5: \"Calibrate the TIMS device\". The video shows the user setting up the parameters, calibrating the instrument, accepting the calibration results, and setting the MS averaging.\\n\\nProtocol number: 5'}\n",
      "Processing video: QueueSamples_docuWrongRow_S3A1Twice.mov\n",
      "/Users/patriciaskowronek/Documents/documentation_agent_few_shot_examples/benchmark_dataset/documentation/QueueSamples_docuWrongRow_S3A1Twice.mov\n"
     ]
    },
    {
     "data": {
      "text/markdown": [
       "Okay, let's analyze the video and determine the most appropriate protocol.\n",
       "\n",
       "1.  **Starting State:** We observe a computer screen displaying the HyStar software interface. It shows a sample table with several entries, some marked as \"Acquisition One\" and others as \"Cancelled Acquisition.\" The instrument status at the top left indicates \"idle\" and \"operate.\"\n",
       "\n",
       "2.  **Actions Taken (Sequential):**\n",
       "    *   The user modifies sample IDs by typing new names in the \"Sample ID\" column. The user is changing the names of the samples.\n",
       "    *   The user then clicks on \"configure\" option. The arrows allows one to define the direction in which the vial positions on the 96-well are autocompleted when dragging values similar to Excel in the sample table. The user then selects \"OK\".\n",
       "    *   The user is selecting wells to add for analysis, using the software interface.\n",
       "    *   The user selects the wells starting from \"S1 - A7\".\n",
       "    *   The user selects \"upload sample conditions\".\n",
       "    *   The user then clicks \"Start\" to initiate a new sequence.\n",
       "\n",
       "3.  **Ending State:** The HyStar software shows a modified sample table with newly defined sample names and well positions, with the \"acquisition one\" samples in queue. The acquisition begins.\n",
       "\n",
       "4. **Protocol Match:** Based on the steps observed, the procedure aligns with queuing samples in HyStar for LC-MS measurement, as described in Protocol 1, \"Queue and measure samples in HyStar\". The user is preparing and queueing samples for LC-MS analysis. Specifically, the actions align with steps 2-15 of protocol 1.\n",
       "\n",
       "Protocol number: 1"
      ],
      "text/plain": [
       "<IPython.core.display.Markdown object>"
      ]
     },
     "metadata": {},
     "output_type": "display_data"
    },
    {
     "name": "stdout",
     "output_type": "stream",
     "text": [
      "{'matches': True, 'video': 'QueueSamples_docuWrongRow_S3A1Twice.mov', 'expected_protocol': '1', 'found_protocol': '1', 'verbos_eval': 'Okay, let\\'s analyze the video and determine the most appropriate protocol.\\n\\n1.  **Starting State:** We observe a computer screen displaying the HyStar software interface. It shows a sample table with several entries, some marked as \"Acquisition One\" and others as \"Cancelled Acquisition.\" The instrument status at the top left indicates \"idle\" and \"operate.\"\\n\\n2.  **Actions Taken (Sequential):**\\n    *   The user modifies sample IDs by typing new names in the \"Sample ID\" column. The user is changing the names of the samples.\\n    *   The user then clicks on \"configure\" option. The arrows allows one to define the direction in which the vial positions on the 96-well are autocompleted when dragging values similar to Excel in the sample table. The user then selects \"OK\".\\n    *   The user is selecting wells to add for analysis, using the software interface.\\n    *   The user selects the wells starting from \"S1 - A7\".\\n    *   The user selects \"upload sample conditions\".\\n    *   The user then clicks \"Start\" to initiate a new sequence.\\n\\n3.  **Ending State:** The HyStar software shows a modified sample table with newly defined sample names and well positions, with the \"acquisition one\" samples in queue. The acquisition begins.\\n\\n4. **Protocol Match:** Based on the steps observed, the procedure aligns with queuing samples in HyStar for LC-MS measurement, as described in Protocol 1, \"Queue and measure samples in HyStar\". The user is preparing and queueing samples for LC-MS analysis. Specifically, the actions align with steps 2-15 of protocol 1.\\n\\nProtocol number: 1'}\n",
      "Processing video: PlaceEvotips_docuCorrect.MP4\n",
      "/Users/patriciaskowronek/Documents/documentation_agent_few_shot_examples/benchmark_dataset/documentation/PlaceEvotips_docuCorrect.MP4\n"
     ]
    },
    {
     "data": {
      "text/markdown": [
       "Alright, let's analyze this video with the precision required for proper laboratory documentation.\n",
       "\n",
       "1.  **Starting State:** We observe an Evosep One liquid chromatography system. Two Evotip boxes, both labelled \"EVOTIP\", are present on the platform. A container with yellow tips is present as well. The timsTOF mass spectrometer with the UltraSource is visible in the background. The person in the video is wearing black gloves.\n",
       "\n",
       "2.  **Observed Actions (Chronological Order):**\n",
       "    *   0:02 - 0:15: The operator takes one Evotip box and places it on the Evosep system.\n",
       "    *   0:17 - 0:31: The operator takes another Evotip box with what appear to be empty tips and places it on the Evosep system.\n",
       "    *   0:34 - 0:43: The operator fills the first Evotip box with the pipette tips from the container.\n",
       "    *   0:44 - 0:52: The operator adjusts the tips to the first Evotip box.\n",
       "\n",
       "3.  **Ending State:** Two Evotip boxes are on the Evosep system's platform. One box is filled with pipette tips, the other box is empty.\n",
       "\n",
       "4.  **Protocol Matching:**\n",
       "Based on the actions observed, the closest match is placing Evotips in Evotip boxes on the Evosep One System. Therefore, this is related to protocol 2.\n",
       "\n",
       "Protocol number: 2"
      ],
      "text/plain": [
       "<IPython.core.display.Markdown object>"
      ]
     },
     "metadata": {},
     "output_type": "display_data"
    },
    {
     "name": "stdout",
     "output_type": "stream",
     "text": [
      "{'matches': True, 'video': 'PlaceEvotips_docuCorrect.MP4', 'expected_protocol': '2', 'found_protocol': '2', 'verbos_eval': 'Alright, let\\'s analyze this video with the precision required for proper laboratory documentation.\\n\\n1.  **Starting State:** We observe an Evosep One liquid chromatography system. Two Evotip boxes, both labelled \"EVOTIP\", are present on the platform. A container with yellow tips is present as well. The timsTOF mass spectrometer with the UltraSource is visible in the background. The person in the video is wearing black gloves.\\n\\n2.  **Observed Actions (Chronological Order):**\\n    *   0:02 - 0:15: The operator takes one Evotip box and places it on the Evosep system.\\n    *   0:17 - 0:31: The operator takes another Evotip box with what appear to be empty tips and places it on the Evosep system.\\n    *   0:34 - 0:43: The operator fills the first Evotip box with the pipette tips from the container.\\n    *   0:44 - 0:52: The operator adjusts the tips to the first Evotip box.\\n\\n3.  **Ending State:** Two Evotip boxes are on the Evosep system\\'s platform. One box is filled with pipette tips, the other box is empty.\\n\\n4.  **Protocol Matching:**\\nBased on the actions observed, the closest match is placing Evotips in Evotip boxes on the Evosep One System. Therefore, this is related to protocol 2.\\n\\nProtocol number: 2'}\n",
      "Processing video: ESIsourceToUltraSource_docuCorrect.MP4\n",
      "/Users/patriciaskowronek/Documents/documentation_agent_few_shot_examples/benchmark_dataset/documentation/ESIsourceToUltraSource_docuCorrect.MP4\n"
     ]
    },
    {
     "data": {
      "text/markdown": [
       "Alright, let's analyze the video to determine the correct protocol.\n",
       "\n",
       "1.  **Starting State:**\n",
       "    *   The timsTOF Ultra mass spectrometer is equipped with what appears to be an ESI source. The source door is closed. Tubing for gas and sample delivery is connected. The timsControl software is displayed, indicating a syringe pump is active.\n",
       "\n",
       "2.  **Actions Taken (Sequential):**\n",
       "    *   The operator first navigates the software to select Captive Spray as source and to stop Syringe pump.\n",
       "    *   The operator then opens the source door. The gas line (nebulizer) and sample inlet line are disconnected. The spray shield and capillary cap are then removed. The operator seems to slightly push the capillary inward.\n",
       "    *   The ESI source door is removed. The UltraSource housing is slid into place and secured with handles. The filter tubing is connected.\n",
       "    *   The IonOpticks column is connected to the sample line, with the NanoViper adapter. Excess liquid is removed. The NanoViper is then hand-tightened to the column fitting. The grounding screw is placed back in place.\n",
       "    *   The UltraSource door is closed. The cable is connected to the column heater to maintain 50°C.\n",
       "    *    The TimsControl software is again observed, and the CaptiveSpray function is activated. The instrument is transitioned to operate mode. Syringe parameters are set in tab \"Source\".\n",
       "\n",
       "3.  **Ending State:**\n",
       "    *   The timsTOF Ultra now has the UltraSource attached. The IonOpticks column is correctly connected to the Evosep sample line. The software shows the CaptiveSpray is activated, and the instrument is operating.\n",
       "\n",
       "Based on these observations, the procedure shown in the video most closely aligns with the protocol for changing the source from an ESI source to the UltraSource, where the capillary has to be pushed in.\n",
       "\n",
       "Protocol number: 9"
      ],
      "text/plain": [
       "<IPython.core.display.Markdown object>"
      ]
     },
     "metadata": {},
     "output_type": "display_data"
    },
    {
     "name": "stdout",
     "output_type": "stream",
     "text": [
      "{'matches': True, 'video': 'ESIsourceToUltraSource_docuCorrect.MP4', 'expected_protocol': '9', 'found_protocol': '9', 'verbos_eval': 'Alright, let\\'s analyze the video to determine the correct protocol.\\n\\n1.  **Starting State:**\\n    *   The timsTOF Ultra mass spectrometer is equipped with what appears to be an ESI source. The source door is closed. Tubing for gas and sample delivery is connected. The timsControl software is displayed, indicating a syringe pump is active.\\n\\n2.  **Actions Taken (Sequential):**\\n    *   The operator first navigates the software to select Captive Spray as source and to stop Syringe pump.\\n    *   The operator then opens the source door. The gas line (nebulizer) and sample inlet line are disconnected. The spray shield and capillary cap are then removed. The operator seems to slightly push the capillary inward.\\n    *   The ESI source door is removed. The UltraSource housing is slid into place and secured with handles. The filter tubing is connected.\\n    *   The IonOpticks column is connected to the sample line, with the NanoViper adapter. Excess liquid is removed. The NanoViper is then hand-tightened to the column fitting. The grounding screw is placed back in place.\\n    *   The UltraSource door is closed. The cable is connected to the column heater to maintain 50°C.\\n    *    The TimsControl software is again observed, and the CaptiveSpray function is activated. The instrument is transitioned to operate mode. Syringe parameters are set in tab \"Source\".\\n\\n3.  **Ending State:**\\n    *   The timsTOF Ultra now has the UltraSource attached. The IonOpticks column is correctly connected to the Evosep sample line. The software shows the CaptiveSpray is activated, and the instrument is operating.\\n\\nBased on these observations, the procedure shown in the video most closely aligns with the protocol for changing the source from an ESI source to the UltraSource, where the capillary has to be pushed in.\\n\\nProtocol number: 9'}\n",
      "Processing video: QueueSamples_docuEvotipNotAtPositionNoSampleID.mov\n",
      "/Users/patriciaskowronek/Documents/documentation_agent_few_shot_examples/benchmark_dataset/documentation/QueueSamples_docuEvotipNotAtPositionNoSampleID.mov\n"
     ]
    },
    {
     "data": {
      "text/markdown": [
       "Okay, let's analyze the provided video to determine the corresponding protocol.\n",
       "\n",
       "1. **Starting State:**\n",
       "   - The Bruker Compass HyStar software is open, displaying a sample table. The table contains entries for various samples and blanks, with their corresponding vial positions, separation methods, and MS methods. The instrument appears to be ready for sample acquisition.\n",
       "\n",
       "2. **Actions Taken (Chronological Sequence):**\n",
       "   - The user selects rows in the sample table, specifically rows 57 to 62 and rows 63 to 68.\n",
       "   - The user then clicks the arrow in the 'vial' column.\n",
       "   - The user then selects numbers in the plate layout scheme that then appear in the 'vial' column.\n",
       "   - The user clicks on \"upload sample conditions\" by right-clicking on the selection. This confirms the loading of the LC and MS methods.\n",
       "   - The user clicks on the \"start\" button and \"start sequence\" to begin the acquisition process.\n",
       "   - The acquisition starts and the instrument measures.\n",
       "   - The user clicks on the \"Stop\" button.\n",
       "\n",
       "3. **Ending State:**\n",
       "   - The samples have been assigned to tray positions within the HyStar software. The instrument is now running samples from the sample table.\n",
       "\n",
       "This process most closely aligns with queuing samples in HyStar for LC-MS measurement. I can not see the loading of the Evotips on the Evosep One from this video.\n",
       "\n",
       "Protocol number: 1"
      ],
      "text/plain": [
       "<IPython.core.display.Markdown object>"
      ]
     },
     "metadata": {},
     "output_type": "display_data"
    },
    {
     "name": "stdout",
     "output_type": "stream",
     "text": [
      "{'matches': True, 'video': 'QueueSamples_docuEvotipNotAtPositionNoSampleID.mov', 'expected_protocol': '1', 'found_protocol': '1', 'verbos_eval': 'Okay, let\\'s analyze the provided video to determine the corresponding protocol.\\n\\n1. **Starting State:**\\n   - The Bruker Compass HyStar software is open, displaying a sample table. The table contains entries for various samples and blanks, with their corresponding vial positions, separation methods, and MS methods. The instrument appears to be ready for sample acquisition.\\n\\n2. **Actions Taken (Chronological Sequence):**\\n   - The user selects rows in the sample table, specifically rows 57 to 62 and rows 63 to 68.\\n   - The user then clicks the arrow in the \\'vial\\' column.\\n   - The user then selects numbers in the plate layout scheme that then appear in the \\'vial\\' column.\\n   - The user clicks on \"upload sample conditions\" by right-clicking on the selection. This confirms the loading of the LC and MS methods.\\n   - The user clicks on the \"start\" button and \"start sequence\" to begin the acquisition process.\\n   - The acquisition starts and the instrument measures.\\n   - The user clicks on the \"Stop\" button.\\n\\n3. **Ending State:**\\n   - The samples have been assigned to tray positions within the HyStar software. The instrument is now running samples from the sample table.\\n\\nThis process most closely aligns with queuing samples in HyStar for LC-MS measurement. I can not see the loading of the Evotips on the Evosep One from this video.\\n\\nProtocol number: 1'}\n",
      "Processing video: UltraSourceToESIsource_docuForgotCapillaryCap.MP4\n",
      "/Users/patriciaskowronek/Documents/documentation_agent_few_shot_examples/benchmark_dataset/documentation/UltraSourceToESIsource_docuForgotCapillaryCap.MP4\n"
     ]
    },
    {
     "data": {
      "text/markdown": [
       "Alright, let's analyze this laboratory video with the precision it demands.\n",
       "\n",
       "1.  **Starting State:**\n",
       "    *   The timsTOF mass spectrometer is present, equipped with what appears to be a half-spherical housing indicative of an ESIsource.\n",
       "    *   The IonOpticks column is presumably disconnected, as the UltraSource, which is part of the Evosep system is not present. A corrugated sample line and other apparatus are visible nearby.\n",
       "    *   The instrument is presumably in standby mode.\n",
       "\n",
       "2.  **Actions Taken (in Sequence):**\n",
       "    *   0:24 The technician retrieves a section of tubing and a fitting from the desktop.\n",
       "    *   0:32 The technician carefully installs the tubing and fitting onto the inlet of the ESIsource.\n",
       "    *   0:50 The technician removes the half-spherical housing revealing a metal mounting bracket.\n",
       "    *   0:55 The technician picks up an UltraSource housing and places it on the table.\n",
       "    *   1:12 The technician places gloves on.\n",
       "    *   1:18 The technician picks up the UltraSource housing.\n",
       "    *   1:31 The technician attaches the source door of the UltraSource.\n",
       "    *   1:39 The technician attaches the UltraSource housing to the source door.\n",
       "    *   1:47 The technician attempts to attach the tubing.\n",
       "    *   2:13 The technician retrieves a syringe and syringe needle.\n",
       "    *   2:18 The technician fills the syringe.\n",
       "    *   2:46 The technician attaches the syringe to the tubing.\n",
       "    *   2:57 The technician activates the source via the software.\n",
       "\n",
       "3.  **Ending State:**\n",
       "    *   The timsTOF now has an UltraSource (CaptiveSpray) installed and connected.\n",
       "    *   The LC sample line is connected to the UltraSource via a fitting.\n",
       "    *   The device is presumably set to 'operate' in the software.\n",
       "    * The system is set to MS mode.\n",
       "\n",
       "4.  **Protocol Matching:**\n",
       "   Given the sequential actions of removing the ESI source and installing the UltraSource in timsControl, it seems that the closest match to this procedure is protocol 9.\n",
       "\n",
       "Protocol number: 9"
      ],
      "text/plain": [
       "<IPython.core.display.Markdown object>"
      ]
     },
     "metadata": {},
     "output_type": "display_data"
    },
    {
     "name": "stdout",
     "output_type": "stream",
     "text": [
      "{'matches': False, 'video': 'UltraSourceToESIsource_docuForgotCapillaryCap.MP4', 'expected_protocol': '7', 'found_protocol': '9', 'verbos_eval': \"Alright, let's analyze this laboratory video with the precision it demands.\\n\\n1.  **Starting State:**\\n    *   The timsTOF mass spectrometer is present, equipped with what appears to be a half-spherical housing indicative of an ESIsource.\\n    *   The IonOpticks column is presumably disconnected, as the UltraSource, which is part of the Evosep system is not present. A corrugated sample line and other apparatus are visible nearby.\\n    *   The instrument is presumably in standby mode.\\n\\n2.  **Actions Taken (in Sequence):**\\n    *   0:24 The technician retrieves a section of tubing and a fitting from the desktop.\\n    *   0:32 The technician carefully installs the tubing and fitting onto the inlet of the ESIsource.\\n    *   0:50 The technician removes the half-spherical housing revealing a metal mounting bracket.\\n    *   0:55 The technician picks up an UltraSource housing and places it on the table.\\n    *   1:12 The technician places gloves on.\\n    *   1:18 The technician picks up the UltraSource housing.\\n    *   1:31 The technician attaches the source door of the UltraSource.\\n    *   1:39 The technician attaches the UltraSource housing to the source door.\\n    *   1:47 The technician attempts to attach the tubing.\\n    *   2:13 The technician retrieves a syringe and syringe needle.\\n    *   2:18 The technician fills the syringe.\\n    *   2:46 The technician attaches the syringe to the tubing.\\n    *   2:57 The technician activates the source via the software.\\n\\n3.  **Ending State:**\\n    *   The timsTOF now has an UltraSource (CaptiveSpray) installed and connected.\\n    *   The LC sample line is connected to the UltraSource via a fitting.\\n    *   The device is presumably set to 'operate' in the software.\\n    * The system is set to MS mode.\\n\\n4.  **Protocol Matching:**\\n   Given the sequential actions of removing the ESI source and installing the UltraSource in timsControl, it seems that the closest match to this procedure is protocol 9.\\n\\nProtocol number: 9\"}\n",
      "Processing video: PlaceEvotips_docuLiquidNotChecked.MP4\n",
      "/Users/patriciaskowronek/Documents/documentation_agent_few_shot_examples/benchmark_dataset/documentation/PlaceEvotips_docuLiquidNotChecked.MP4\n"
     ]
    },
    {
     "data": {
      "text/markdown": [
       "Alright, let's analyze this video with the precision it deserves.\n",
       "\n",
       "1.  **Starting State:** The video begins with a view of the Evosep One liquid chromatography system. The system's deck appears to be empty except for some accessories.\n",
       "\n",
       "2.  **Observed Actions (Chronological Order):**\n",
       "\n",
       "    *   The operator, wearing black gloves, places two Evotip boxes onto the designated positions on the Evosep One system. These boxes appear to be the 96-well format.\n",
       "    *   The operator is seen filling the Evotip boxes with pipette tips (Evotips). The tips are placed in a row-by-row fashion from an organizer.\n",
       "\n",
       "3.  **Ending State:** Two Evotip boxes are now positioned on the Evosep One system.  Both boxes contain several pipette tips in the wells.\n",
       "\n",
       "4.  **Protocol Matching:**\n",
       "\n",
       "Based on these observations, the procedure closely matches the description in \"Placing Evotips in Evotip Boxes on the Evosep One System\" protocol.\n",
       "\n",
       "Protocol number: 2"
      ],
      "text/plain": [
       "<IPython.core.display.Markdown object>"
      ]
     },
     "metadata": {},
     "output_type": "display_data"
    },
    {
     "name": "stdout",
     "output_type": "stream",
     "text": [
      "{'matches': True, 'video': 'PlaceEvotips_docuLiquidNotChecked.MP4', 'expected_protocol': '2', 'found_protocol': '2', 'verbos_eval': 'Alright, let\\'s analyze this video with the precision it deserves.\\n\\n1.  **Starting State:** The video begins with a view of the Evosep One liquid chromatography system. The system\\'s deck appears to be empty except for some accessories.\\n\\n2.  **Observed Actions (Chronological Order):**\\n\\n    *   The operator, wearing black gloves, places two Evotip boxes onto the designated positions on the Evosep One system. These boxes appear to be the 96-well format.\\n    *   The operator is seen filling the Evotip boxes with pipette tips (Evotips). The tips are placed in a row-by-row fashion from an organizer.\\n\\n3.  **Ending State:** Two Evotip boxes are now positioned on the Evosep One system.  Both boxes contain several pipette tips in the wells.\\n\\n4.  **Protocol Matching:**\\n\\nBased on these observations, the procedure closely matches the description in \"Placing Evotips in Evotip Boxes on the Evosep One System\" protocol.\\n\\nProtocol number: 2'}\n",
      "Processing video: Evotip_docuWrongSpinInEvotipBox_wrongSpeed.MP4\n",
      "/Users/patriciaskowronek/Documents/documentation_agent_few_shot_examples/benchmark_dataset/documentation/Evotip_docuWrongSpinInEvotipBox_wrongSpeed.MP4\n"
     ]
    },
    {
     "data": {
      "text/markdown": [
       "Alright, let's analyze this video with the precision it deserves.\n",
       "\n",
       "**1. Initial State:**\n",
       "The scene presents a laboratory bench with various items arranged on it. These items include a rack holding multiple test tubes, bottles, boxes containing what appear to be pipette tips (Evotips), an orange tube rack, and a multichannel pipette. A white piece of paper with handwritten notes is also visible. Several boxes labelled \"Evotip\" are present.\n",
       "\n",
       "**2. Actions Taken:**\n",
       "The technician, wearing black gloves, picks up a multichannel pipette. Then, they proceed to firmly attach multiple Evotips to the pipette. Next, using the pipette, the technician seemingly picks up multiple Evotips from an Evotip box. The technician then picks up two boxes labelled 'Evotip' and 'Not low retention'. Then the technician walks away.\n",
       "The technician returns with the boxes and places them into a centrifuge. The lid is closed and the centrifuge settings are adjusted (presumably to 800g for 1 minute), and finally the centrifuge is started.\n",
       "\n",
       "**3. Ending State:**\n",
       "The centrifuge is running, which contains Evotips. The scientist walks away and will presumably will return to remove the boxes containing Evotips from the centrifuge.\n",
       "\n",
       "**4. Protocol Matching:**\n",
       "Based on the observed actions, specifically using a multi channel pipette to pick up Evotips, placing the Evotips in a centrifuge, and setting the centrifuge parameters to spin them, the most appropriate matching protocol is:\n",
       "Protocol number: 10"
      ],
      "text/plain": [
       "<IPython.core.display.Markdown object>"
      ]
     },
     "metadata": {},
     "output_type": "display_data"
    },
    {
     "name": "stdout",
     "output_type": "stream",
     "text": [
      "{'matches': True, 'video': 'Evotip_docuWrongSpinInEvotipBox_wrongSpeed.MP4', 'expected_protocol': '10', 'found_protocol': '10', 'verbos_eval': 'Alright, let\\'s analyze this video with the precision it deserves.\\n\\n**1. Initial State:**\\nThe scene presents a laboratory bench with various items arranged on it. These items include a rack holding multiple test tubes, bottles, boxes containing what appear to be pipette tips (Evotips), an orange tube rack, and a multichannel pipette. A white piece of paper with handwritten notes is also visible. Several boxes labelled \"Evotip\" are present.\\n\\n**2. Actions Taken:**\\nThe technician, wearing black gloves, picks up a multichannel pipette. Then, they proceed to firmly attach multiple Evotips to the pipette. Next, using the pipette, the technician seemingly picks up multiple Evotips from an Evotip box. The technician then picks up two boxes labelled \\'Evotip\\' and \\'Not low retention\\'. Then the technician walks away.\\nThe technician returns with the boxes and places them into a centrifuge. The lid is closed and the centrifuge settings are adjusted (presumably to 800g for 1 minute), and finally the centrifuge is started.\\n\\n**3. Ending State:**\\nThe centrifuge is running, which contains Evotips. The scientist walks away and will presumably will return to remove the boxes containing Evotips from the centrifuge.\\n\\n**4. Protocol Matching:**\\nBased on the observed actions, specifically using a multi channel pipette to pick up Evotips, placing the Evotips in a centrifuge, and setting the centrifuge parameters to spin them, the most appropriate matching protocol is:\\nProtocol number: 10'}\n",
      "Success rate: 96.55%\n"
     ]
    }
   ],
   "source": [
    "# indices_to_select = [0, 4, 7, 26]\n",
    "\n",
    "# # Get keys at specific positions\n",
    "# all_keys = list(video_parts.keys())\n",
    "# selected_keys = [all_keys[i] for i in indices_to_select if i < len(all_keys)]\n",
    "\n",
    "# # Create dictionary with selected entries\n",
    "# selected_videos = {k: video_parts[k] for k in selected_keys}\n",
    "\n",
    "system_prompt = [\"\"\"\n",
    "    You are Professor Matthias Mann, a pioneering scientist in proteomics and mass spectrometry with extensive laboratory experience.\n",
    "    \n",
    "    ## Your Background Knowledge:\n",
    "    [These documents are for building your proteomics background knowldge and are not part of today's task.]\n",
    "    \"\"\"]\n",
    "\n",
    "system_prompt_1 = [\n",
    "    \"## Today's Task:\",\n",
    "    \"You need to analyze a laboratory video and identify which of the numbered protocols best matches the procedure being performed in the video.\",\n",
    "    \"\"\"Your analysis must include these verification steps:\n",
    "    1. Identify the starting state (describe visible features)\n",
    "    2. List the specific actions taken in sequence while naming the involved equipment\n",
    "    3. Identify the ending state (describe visible features)\n",
    "    4. ONLY THEN match to a protocol number\n",
    "    Your scientific reputation was built on exactitude - you cannot help but insist on proper technical terminology and chronological precision in all laboratory documentation.\"\"\"\n",
    "    ]\n",
    "\n",
    "protocol_intro= [\"## Available Protocols (You must select ONE):\"]\n",
    "output_format = [\"\"\"## Your response should be: Your explanation followed by \"Protocol number: X\" \n",
    "\"\"\",\n",
    "f\"Important: Choose exactly one protocol number. It is very important to you to focus only on matching the video to the protocols provided: {[e.value for e in ProtocolNum]}.\"\n",
    "]\n",
    "\n",
    "# Upload knowledge files to Google Cloud Storage\n",
    "folder_path = \"/Users/patriciaskowronek/Documents/documentation_agent_few_shot_examples/knowledge_base_selected\"\n",
    "subfolder_in_bucket = \"knowledge\"\n",
    "\n",
    "knowledge_uris = []\n",
    "for filename in os.listdir(folder_path):\n",
    "    if filename.lower().endswith(\n",
    "        (\".jpg\", \".jpeg\", \".gif\", \".bmp\", \".tiff\", \".tif\", \".pdf\")\n",
    "    ):\n",
    "        path = Path(folder_path) / filename\n",
    "        try:\n",
    "            file_uri = video_to_protocol.upload_video_to_gcs(\n",
    "                path, bucket, subfolder_in_bucket\n",
    "            )\n",
    "            knowledge_uris.append(file_uri)\n",
    "        except OSError as e:\n",
    "            print(f\"Error processing {filename}: {e}\")\n",
    "MIME_TYPES = {\n",
    "    \".pdf\": \"application/pdf\",\n",
    "    \".jpg\": \"image/jpeg\",\n",
    "    \".jpeg\": \"image/jpeg\",\n",
    "    \".png\": \"image/png\",\n",
    "}\n",
    "contents = []\n",
    "for file_path in knowledge_uris:\n",
    "        path_obj = Path(file_path)\n",
    "        file_ext = path_obj.suffix.lower()\n",
    "\n",
    "        if file_ext in MIME_TYPES:\n",
    "            mime_type = MIME_TYPES[file_ext]\n",
    "            contents.append(Part.from_uri(file_path, mime_type=mime_type))\n",
    "\n",
    "csv_path = \"/Users/patriciaskowronek/Documents/documentation_agent_few_shot_examples/benchmark_dataset/Link_protocol_lab_video.csv\"\n",
    "\n",
    "validation_list = list()\n",
    "for video in video_parts: \n",
    "    print(f\"Processing video: {video}\")\n",
    "    video_path = video_parts[video][\"path\"]\n",
    "    order = [system_prompt, contents, system_prompt_1, video_parts[video][\"part\"], protocol_intro, protocol_input, output_format]\n",
    "    model_input = list()\n",
    "    for input in order:\n",
    "        model_input.extend(input)\n",
    "\n",
    "    result = identify_protocol_from_video(\n",
    "        model_input,\n",
    "        model_name=\"gemini-2.0-flash\", \n",
    "        temperature=0.9\n",
    "    )\n",
    "\n",
    "    # print(result[\"usage_metadata\"])\n",
    "    print(result[\"video_path\"])\n",
    "    display(result[\"markdown_observation\"]) \n",
    "\n",
    "    result_validation = validate_protocol_number(video_path, csv_path, result[\"observation\"], ProtocolNum)\n",
    "    print(result_validation)\n",
    "    validation_list.append(result_validation[\"matches\"])\n",
    "\n",
    "success_ratio = sum(validation_list) / len(validation_list) if len(validation_list) > 0 else 0\n",
    "print(f\"Success rate: {success_ratio:.2%}\")"
   ]
  },
  {
   "cell_type": "code",
   "execution_count": 25,
   "metadata": {},
   "outputs": [
    {
     "data": {
      "text/plain": [
       "['UltraSourceToESIsource_docuForgotN2Line.MP4',\n",
       " 'UltraSourceToESIsource_docuForgotGlovesANDCapillaryCap.MP4',\n",
       " 'UltraSourceToESIsource_docuCorrect.MP4',\n",
       " 'DisconnectingColumn_docuWithoutStandby_1.MP4',\n",
       " 'DisconnectingColumn_docuCorrect.MP4',\n",
       " 'UltraSourceToESIsource_docuForgotCapillaryCap.MP4']"
      ]
     },
     "execution_count": 25,
     "metadata": {},
     "output_type": "execute_result"
    }
   ],
   "source": [
    "indices_to_select = [0, 4, 7, 8, 18, 26]\n",
    "\n",
    "# Get keys at specific positions\n",
    "all_keys = list(video_parts.keys())\n",
    "selected_keys = [all_keys[i] for i in indices_to_select if i < len(all_keys)]\n",
    "selected_keys"
   ]
  },
  {
   "cell_type": "code",
   "execution_count": 36,
   "metadata": {},
   "outputs": [
    {
     "data": {
      "text/plain": [
       "[\"\\n    You are Professor Matthias Mann, a pioneering scientist in proteomics and mass spectrometry with extensive laboratory experience.\\n    \\n    ## Your Background Knowledge:\\n    [This is a reference library containing numerous technical documents about proteomics equipment and procedures. These are for your reference only and are not part of today's task.]\\n    \",\n",
       " file_data {\n",
       "   mime_type: \"application/pdf\"\n",
       "   file_uri: \"gs://mannlab_videos/knowledge/Connecting_or_disconnecting_column_2.pdf\"\n",
       " },\n",
       " \"## Today's Task:\",\n",
       " 'You need to analyze a laboratory video and identify which of the numbered protocols best matches the procedure being performed in the video.',\n",
       " 'Your analysis must include these verification steps:\\n    1. Identify the starting state (describe visible features)\\n    2. List the specific actions taken in sequence while naming the involved equipment\\n    3. Identify the ending state (describe visible features)\\n    4. ONLY THEN match to a protocol number\\n    It is very important for you as a scientist to name equipment and step correctly.',\n",
       " 'Lab video:',\n",
       " file_data {\n",
       "   mime_type: \"video/mp4\"\n",
       "   file_uri: \"gs://mannlab_videos/protocol_finder_2/Evotip_docuWrongSpinInEvotipBox_wrongSpeed.MP4\"\n",
       " },\n",
       " '## Available Protocols (You must select ONE):',\n",
       " 'number: 1',\n",
       " 'file name: QueueSamples_protocolCorrect.md',\n",
       " file_data {\n",
       "   mime_type: \"text/md\"\n",
       "   file_uri: \"gs://mannlab_videos/protocol_finder/QueueSamples_protocolCorrect.md\"\n",
       " },\n",
       " 'number: 2',\n",
       " 'file name: PlaceEvotips_protocolCorrect.md',\n",
       " file_data {\n",
       "   mime_type: \"text/md\"\n",
       "   file_uri: \"gs://mannlab_videos/protocol_finder/PlaceEvotips_protocolCorrect.md\"\n",
       " },\n",
       " 'number: 3',\n",
       " 'file name: DisconnectColumn_protocolCorrect.md',\n",
       " file_data {\n",
       "   mime_type: \"text/md\"\n",
       "   file_uri: \"gs://mannlab_videos/protocol_finder/DisconnectColumn_protocolCorrect.md\"\n",
       " },\n",
       " 'number: 4',\n",
       " 'file name: Diluting_protocolCorrect.md',\n",
       " file_data {\n",
       "   mime_type: \"text/md\"\n",
       "   file_uri: \"gs://mannlab_videos/protocol_finder/Diluting_protocolCorrect.md\"\n",
       " },\n",
       " 'number: 5',\n",
       " 'file name: TimsCalibration_protocolCorrect.md',\n",
       " file_data {\n",
       "   mime_type: \"text/md\"\n",
       "   file_uri: \"gs://mannlab_videos/protocol_finder/TimsCalibration_protocolCorrect.md\"\n",
       " },\n",
       " 'number: 6',\n",
       " 'file name: ConnectingColumnSampleLine_protocolCorrect.md',\n",
       " file_data {\n",
       "   mime_type: \"text/md\"\n",
       "   file_uri: \"gs://mannlab_videos/protocol_finder/ConnectingColumnSampleLine_protocolCorrect.md\"\n",
       " },\n",
       " 'number: 7',\n",
       " 'file name: UltraSourceToESIsource_protocolCorrect.md',\n",
       " file_data {\n",
       "   mime_type: \"text/md\"\n",
       "   file_uri: \"gs://mannlab_videos/protocol_finder/UltraSourceToESIsource_protocolCorrect.md\"\n",
       " },\n",
       " 'number: 8',\n",
       " 'file name: Pipette_protocolCorrect.md',\n",
       " file_data {\n",
       "   mime_type: \"text/md\"\n",
       "   file_uri: \"gs://mannlab_videos/protocol_finder/Pipette_protocolCorrect.md\"\n",
       " },\n",
       " 'number: 9',\n",
       " 'file name: ESIsourceToUltraSource_protocolCorrect_CapillaryPushedIn.md',\n",
       " file_data {\n",
       "   mime_type: \"text/md\"\n",
       "   file_uri: \"gs://mannlab_videos/protocol_finder/ESIsourceToUltraSource_protocolCorrect_CapillaryPushedIn.md\"\n",
       " },\n",
       " 'number: 10',\n",
       " 'file name: Evotip_protocolCorrect.md',\n",
       " file_data {\n",
       "   mime_type: \"text/md\"\n",
       "   file_uri: \"gs://mannlab_videos/protocol_finder/Evotip_protocolCorrect.md\"\n",
       " },\n",
       " '## Your response should be: Your explanation followed by \"Protocol number: X\" \\n',\n",
       " \"Important: Choose exactly one protocol number. It is very important to you to focus only on matching the video to the protocols provided: ['1', '2', '3', '4', '5', '6', '7', '8', '9', '10'].\"]"
      ]
     },
     "execution_count": 36,
     "metadata": {},
     "output_type": "execute_result"
    }
   ],
   "source": [
    "model_input"
   ]
  },
  {
   "cell_type": "code",
   "execution_count": null,
   "metadata": {},
   "outputs": [],
   "source": []
  }
 ],
 "metadata": {
  "kernelspec": {
   "display_name": "docu_test",
   "language": "python",
   "name": "python3"
  },
  "language_info": {
   "codemirror_mode": {
    "name": "ipython",
    "version": 3
   },
   "file_extension": ".py",
   "mimetype": "text/x-python",
   "name": "python",
   "nbconvert_exporter": "python",
   "pygments_lexer": "ipython3",
   "version": "3.9.21"
  }
 },
 "nbformat": 4,
 "nbformat_minor": 2
}
