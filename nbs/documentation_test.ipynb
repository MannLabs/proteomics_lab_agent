{
 "cells": [
  {
   "cell_type": "code",
   "execution_count": 6,
   "metadata": {},
   "outputs": [],
   "source": [
    "# %load_ext autoreload\n",
    "%reload_ext autoreload\n",
    "%autoreload 2\n",
    "\n",
    "import sys\n",
    "import os\n",
    "\n",
    "path_to_append = os.path.abspath(os.path.join(os.pardir, 'proteomics_specialist'))\n",
    "sys.path.append(path_to_append)\n",
    "\n",
    "# Now import your module\n",
    "import documentation_agent as doc_agent "
   ]
  },
  {
   "cell_type": "code",
   "execution_count": 13,
   "metadata": {},
   "outputs": [],
   "source": [
    "# !pip install -q -U google-generativeai\n",
    "# !pip install gradio"
   ]
  },
  {
   "cell_type": "code",
   "execution_count": 10,
   "metadata": {},
   "outputs": [],
   "source": [
    "import configparser\n",
    "import google.generativeai as genai\n",
    "\n",
    "config = configparser.ConfigParser()\n",
    "config.read(\"../secrets.ini\")\n",
    "\n",
    "api_key = config[\"DEFAULT\"][\"API_KEY\"]\n",
    "\n",
    "genai.configure(api_key=api_key)"
   ]
  },
  {
   "cell_type": "code",
   "execution_count": 12,
   "metadata": {},
   "outputs": [],
   "source": [
    "# Test if the API Key is working\n",
    "\n",
    "# model = genai.GenerativeModel(\"gemini-1.5-flash\")  # Use the Gemini Pro model\n",
    "\n",
    "# response = model.generate_content(\"Hello, how are you?\")  # Send a prompt\n",
    "\n",
    "# print(response.text)  # Print the model's response"
   ]
  },
  {
   "cell_type": "code",
   "execution_count": 15,
   "metadata": {},
   "outputs": [],
   "source": [
    "# few_shot_example_folder = \"/Users/patriciaskowronek/Documents/documentation_agent_few_shot_examples/ready_examples/\"\n",
    "\n",
    "# # Define the few shot example and domain knowldge\n",
    "# video_file_name = os.path.join(few_shot_example_folder + \"tims_calibration.mov\")\n",
    "# video_example = doc_agent.upload_video_and_wait(\n",
    "#     video_path = video_file_name\n",
    "# )\n",
    "\n",
    "# path_example = os.path.join(few_shot_example_folder + \"tims_calibration.md\")\n",
    "# file_example = doc_agent.read_and_encode_document(path_example)\n",
    "\n",
    "path_glossary = os.path.abspath(os.path.join(os.pardir, 'data', 'glossary.md'))\n",
    "glossary = doc_agent.read_and_encode_document(path_glossary)"
   ]
  },
  {
   "cell_type": "code",
   "execution_count": 16,
   "metadata": {},
   "outputs": [],
   "source": [
    "# Define the prompts\n",
    "prompt_1 = \"Example Input video: \"\n",
    "prompt_2 = \"Example Output protocol:\"\n",
    "prompt_3 = \"Glossary:\"\n",
    "prompt_4 =  \"\"\"\n",
    "You are Professor Matthias Mann, a pioneering scientist in proteomics and mass spectrometry. You are known for your methodological rigorand clear scientific writing, particularly in the style of Nature Protocols.\n",
    "Your task is to analyze the provided video and extract a detailed experimental protocol.\n",
    "You always stick to the facts in the sources provided, and never make up new facts. \n",
    "You use the terminology provided in the glossary accurately throughout your response. \n",
    "Take a deep breath and think step by step. \n",
    "Answer direct.\n",
    "\"\"\"\n",
    "prompt_5 = \"Input Video:\"\n",
    "prompt_6 = \"Output Protocol:\""
   ]
  },
  {
   "cell_type": "code",
   "execution_count": 17,
   "metadata": {},
   "outputs": [],
   "source": [
    "# Create configuration\n",
    "config = doc_agent.ProcessingConfig(\n",
    "    prompts=[prompt_1, prompt_2, prompt_3, prompt_4, prompt_5, prompt_6],\n",
    "    video_example=video_example,\n",
    "    file_example=file_example,\n",
    "    glossary=glossary\n",
    ")"
   ]
  },
  {
   "cell_type": "code",
   "execution_count": 18,
   "metadata": {},
   "outputs": [
    {
     "name": "stdout",
     "output_type": "stream",
     "text": [
      "Uploading file: /Users/patriciaskowronek/Documents/LlmProjectIdeas/Documentation/Trimmed_video.mov\n",
      "Upload completed. File URI: https://generativelanguage.googleapis.com/v1beta/files/klm9aqxtlacu\n",
      ".\n",
      "Video processing completed successfully\n",
      "prompt_token_count: 57058\n",
      "candidates_token_count: 1236\n",
      "total_token_count: 58294\n",
      "\n",
      "Created markdown file: /var/folders/54/g1_1ycl12hl02xj_g_nm_6cm0000gn/T/Trimmed_video.md\n",
      "Trimmed_video\n"
     ]
    },
    {
     "data": {
      "text/markdown": [
       "# Calibration of a TIMS Device\n",
       "\n",
       "## Abstract\n",
       "\n",
       "This protocol describes how to calibrate a trapped ion mobility spectrometry (TIMS) device in timsControl software (version 6.0 or later). It is recommended to calibrate the TIMS device each time before a sample queue is started.\n",
       "\n",
       "\n",
       "## Materials\n",
       "\n",
       "### Software\n",
       "\n",
       "| Software | Version | Purpose | Source/Link |\n",
       "|----------|----------|----------|------------|\n",
       "| timsControl | 6.0 (latest) | Software to control timsTof mass spectrometers | Available on every instrument computer |\n",
       "\n",
       "## Procedure\n",
       "\n",
       "**Important:** If the instrument has been operated with another source than the CaptiveSpray source, it is highly recommended to wait for 3 hours before initiating the TIMS calibration process. This waiting period permits the temperature and pressure to stabilise, thus ensuring a steady TIMS calibration.\n",
       "\n",
       "*Estimated timing: 3 minutes*\n",
       "\n",
       "1. Use timsControl to load a performance evaluation method - a dda-PASEF method. Choose an ion mobility range that matches the ion mobility range intended for use in the study. More details in Figure 4. For proteomics experiments, we typically use an ion mobility range from 0.7 to 1.3 1/K₀, hence the 1/K₀ start and end values can be set to 0.7 and 1.3, respectively. This consistency in ion mobility range allows for the integration of dda-PASEF quality control (QC) runs into the sample table as reference points without necessitating recalibration of the TIMS tunnel.\n",
       "\n",
       "2. To specifically calibrate a narrow ion mobility range, activate the locked sign at 1/K₀ end (Figure 1: 7). Following this, adjust the 1/K₀ start from 0.7 to 0.85. This alters the ion mobility range from 0.7-1.3 1/K₀ to 0.85-1.45 1/K₀. The aim here is to shift the ion mobility range without modifying the interval, enabling all three calibrants to be used for calibration while maintaining a constant TIMS potential.\n",
       "\n",
       "3. Wait until the TIC in Chromatogram View is stable. This can take up to 15 minutes. Switch the scan mode to 'MS', set MS averaging to 1 and deactivate the polygon heatmap (Figure 1: 4, 9, 14).\n",
       "\n",
       "4. In timsControl, navigate to 'calibration', then 'mobility'. From reference lists, select the list '[ESI] Tuning Mix ES-TOF (ESI)' that contains the calibrant masses 622, 922, 1221. Then, specify the linear mode and 5% as detection range and ±0.1 Da as width (Figure 2).\n",
       "\n",
       "5. Proceed by selecting 'calibrate' (Figure 2). Deselect all calibrants except 622, 922, and 1222 by right-clicking. To verify that the calibrants have been picked correctly at the center, click on them in the reference list. If they are not picked in the center, make adjustments by clicking on the peak in the TIMS view window. If the score is at 100%, press accept.\n",
       "\n",
       "6. Adjust the ion mobility range to its original values for instance 0.7-1.3 1/K₀, reset the scan mode, set MS averaging to 1, and reactivate the polygon heatmap.\n",
       "\n",
       "\n",
       "## Expected Results\n",
       "\n",
       "- The score in the tab \"Calibration Mode\" should be at 100%\n",
       "\n",
       "\n",
       "## Troubleshooting\n",
       "\n",
       "| Problem | Possible Reason | Solution |\n",
       "|---------|----------------|-----------|\n",
       "| A weak Tuning Mix calibrant signal | Over time, the calibrant signal of the Tuning Mix may weaken to a point where they are barely visible in the Mobilogram (TIMS View) and in the mass spectrum. | (1) Check if the UltraSource has the gas flow correctly set (Table 1). (2) Cancel the calibration, put the instrument in standby mode, disconnect the filter tubing from the UltraSource (Figure 3), and inject 5 to 10 µL (up to 40 µL) of Tuning Mix directly into the UltraSource. Reattach the filter tubing and switch the instrument into operating mode. Consider increasing the MS averaging value up to a maximum of 30. Repeat this step until a strong calibrant signal is observed and allow a 1-minute pause after each addition of Tuning Mix. The Tuning Mix signal should be more dominant than the signals of common contaminants and reach a signal intensity of around 5x10⁵. If a direct injection of in total 40 µL of Tuning Mix does not significantly enhance the Tuning Mix signal, this may suggest another issue. |\n",
       "\n",
       "\n",
       "## Figures\n",
       "\n",
       "**Figure 1: timsControl settings** \n",
       "[Placeholder for TimsControl settings image showing the settings interface with labeled parameters 1-16]\n",
       "\n",
       "**Figure 2: Mass and ion mobility calibration**\n",
       "[Placeholder for mass and ion mobility calibration screenshots]\n",
       "\n",
       "**Figure 3: UltraSource**\n",
       "[Placeholder for UltraSource image showing:\n",
       "- Front view with labeled components (A-H)\n",
       "- Back view showing ITI component\n",
       "- Door view showing components (A, J, H, K)]\n",
       "\n",
       "## Tables\n",
       "\n",
       "**Table 1: Gas Flow Parameters for UltraSource**\n",
       "\n",
       "| Instrument Type | Calibrant 922 Voltage [V] |\n",
       "|-----------------|-------------------------|\n",
       "| timsTOF Pro, SCP | 160 |\n",
       "| timsTOF HT, Ultra | 200 |\n",
       "\n",
       "\n",
       "# References\n",
       "\n",
       "1. toDO: Refer to user manual of timsTof\n",
       "2. toDO: Maybe upload video which shows calibration in action\n"
      ],
      "text/plain": [
       "<IPython.core.display.Markdown object>"
      ]
     },
     "execution_count": 18,
     "metadata": {},
     "output_type": "execute_result"
    }
   ],
   "source": [
    "video_path = \"/Users/patriciaskowronek/Documents/LlmProjectIdeas/Documentation/Trimmed_video.mov\"\n",
    "\n",
    "# Process video with caching\n",
    "# cache.delete()\n",
    "# output, filename = doc_agent.process_video(video_path, config)\n",
    "\n",
    "# Process video without caching\n",
    "output, filename = doc_agent.process_video(video_path, config, use_cache=False)\n",
    "\n",
    "# Create a markdown file\n",
    "doc_agent.generate_markdown_for_download(output, filename)\n",
    "\n",
    "from IPython.display import display, Markdown\n",
    "print(filename)\n",
    "Markdown(output)"
   ]
  },
  {
   "cell_type": "code",
   "execution_count": 19,
   "metadata": {},
   "outputs": [
    {
     "name": "stdout",
     "output_type": "stream",
     "text": [
      "Running on local URL:  http://127.0.0.1:7863\n",
      "\n",
      "To create a public link, set `share=True` in `launch()`.\n"
     ]
    },
    {
     "data": {
      "text/html": [
       "<div><iframe src=\"http://127.0.0.1:7863/\" width=\"100%\" height=\"500\" allow=\"autoplay; camera; microphone; clipboard-read; clipboard-write;\" frameborder=\"0\" allowfullscreen></iframe></div>"
      ],
      "text/plain": [
       "<IPython.core.display.HTML object>"
      ]
     },
     "metadata": {},
     "output_type": "display_data"
    },
    {
     "data": {
      "text/plain": []
     },
     "execution_count": 19,
     "metadata": {},
     "output_type": "execute_result"
    },
    {
     "name": "stdout",
     "output_type": "stream",
     "text": [
      "Uploading file: /private/var/folders/54/g1_1ycl12hl02xj_g_nm_6cm0000gn/T/gradio/570716d2985435122e0b104197f76b587c380ff40548f995f2f058999d9079e5/Trimmed_video.mov\n",
      "Upload completed. File URI: https://generativelanguage.googleapis.com/v1beta/files/nfgy4f0j63c4\n",
      ".\n",
      "Video processing completed successfully\n",
      "prompt_token_count: 57059\n",
      "candidates_token_count: 2222\n",
      "total_token_count: 59281\n",
      "cached_content_token_count: 52335\n",
      "\n"
     ]
    }
   ],
   "source": [
    "import gradio as gr\n",
    "import documentation_agent as doc_agent\n",
    "\n",
    "css = \"\"\"\n",
    "#top-title {font-size: 2rem; text-align: center; margin-bottom: 1rem;}\n",
    ".download-row {margin-top: 1rem; padding: 1rem; border-top: 1px solid #eee;}\n",
    "\"\"\"\n",
    "\n",
    "with gr.Blocks(css=css) as iface:\n",
    "    gr.HTML(\"\"\"\n",
    "        <h1 id=\"top-title\">Documentation agent</h1>\n",
    "    \"\"\")\n",
    "    \n",
    "    with gr.Row():\n",
    "        video_input = gr.Video(label=\"Upload Video\")\n",
    "    \n",
    "    gr.Markdown(\"# Protocol extracted from Video:\")\n",
    "    \n",
    "    with gr.Row():\n",
    "        text_output = gr.Markdown(label=\"Output Text\")\n",
    "        filename_state = gr.State()\n",
    "    \n",
    "    with gr.Row(elem_classes=\"download-row\"):\n",
    "        with gr.Column(scale=2):\n",
    "            download_button = gr.Button(\"Generate Protocol\", variant=\"primary\", size=\"lg\")\n",
    "        with gr.Column(scale=3):\n",
    "            file_output = gr.File(label=\"Download Protocol\", file_count=\"single\", type=\"filepath\")\n",
    "\n",
    "    # Use the existing process_video function directly\n",
    "    video_input.change(\n",
    "        fn=lambda x: doc_agent.process_video(x, config),\n",
    "        inputs=video_input,\n",
    "        outputs=[text_output, filename_state]\n",
    "    )\n",
    "\n",
    "    # Use the existing generate_markdown_for_download function\n",
    "    download_button.click(\n",
    "        fn=doc_agent.generate_markdown_for_download,\n",
    "        inputs=[text_output, filename_state],\n",
    "        outputs=file_output\n",
    "    )\n",
    "\n",
    "iface.launch()"
   ]
  },
  {
   "cell_type": "code",
   "execution_count": null,
   "metadata": {},
   "outputs": [],
   "source": []
  }
 ],
 "metadata": {
  "kernelspec": {
   "display_name": "docu_test",
   "language": "python",
   "name": "python3"
  },
  "language_info": {
   "codemirror_mode": {
    "name": "ipython",
    "version": 3
   },
   "file_extension": ".py",
   "mimetype": "text/x-python",
   "name": "python",
   "nbconvert_exporter": "python",
   "pygments_lexer": "ipython3",
   "version": "3.9.21"
  }
 },
 "nbformat": 4,
 "nbformat_minor": 2
}
