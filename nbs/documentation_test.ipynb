{
 "cells": [
  {
   "cell_type": "code",
   "execution_count": 2,
   "metadata": {},
   "outputs": [],
   "source": [
    "# %load_ext autoreload\n",
    "%reload_ext autoreload\n",
    "%autoreload 2\n",
    "\n",
    "import os\n",
    "import sys\n",
    "from pathlib import Path\n",
    "\n",
    "from IPython.display import Markdown\n",
    "\n",
    "path_to_append = Path(Path.cwd()).parent / \"proteomics_specialist\"\n",
    "sys.path.append(str(path_to_append))\n",
    "import documentation_agent as doc_agent"
   ]
  },
  {
   "cell_type": "code",
   "execution_count": 3,
   "metadata": {},
   "outputs": [],
   "source": [
    "# !pip install -q -U google-generativeai\n",
    "# !pip install gradio"
   ]
  },
  {
   "cell_type": "code",
   "execution_count": 4,
   "metadata": {},
   "outputs": [],
   "source": [
    "import configparser\n",
    "\n",
    "import google.generativeai as genai\n",
    "\n",
    "config = configparser.ConfigParser()\n",
    "config.read(\"../secrets.ini\")\n",
    "\n",
    "api_key = config[\"DEFAULT\"][\"API_KEY\"]\n",
    "\n",
    "genai.configure(api_key=api_key)"
   ]
  },
  {
   "cell_type": "code",
   "execution_count": 5,
   "metadata": {},
   "outputs": [],
   "source": [
    "# Test if the API Key is working\n",
    "\n",
    "# model = genai.GenerativeModel(\"gemini-1.5-flash\")  # Use the Gemini Pro model\n",
    "\n",
    "# response = model.generate_content(\"Hello, how are you?\")  # Send a prompt\n",
    "\n",
    "# print(response.text)  # Print the model's response"
   ]
  },
  {
   "cell_type": "code",
   "execution_count": 6,
   "metadata": {},
   "outputs": [],
   "source": [
    "# Define the prompts\n",
    "prompt_1 = \"Example Input video: \"\n",
    "prompt_2 = \"Example Output protocol:\"\n",
    "prompt_3 = \"Glossary:\"\n",
    "prompt_4 = \"\"\"\n",
    "You are Professor Matthias Mann, a pioneering scientist in proteomics and mass spectrometry. You are known for your methodological rigorand clear scientific writing, particularly in the style of Nature Protocols.\n",
    "Your task is to analyze the provided video and extract a detailed experimental protocol.\n",
    "You always stick to the facts in the sources provided, and never make up new facts.\n",
    "You use the terminology provided in the glossary accurately throughout your response.\n",
    "Take a deep breath and think step by step.\n",
    "Answer direct.\n",
    "\"\"\"\n",
    "prompt_5 = \"Input Video:\"\n",
    "prompt_6 = \"Output Protocol:\""
   ]
  },
  {
   "cell_type": "code",
   "execution_count": 7,
   "metadata": {},
   "outputs": [
    {
     "name": "stderr",
     "output_type": "stream",
     "text": [
      "2025-01-28 18:19:48,098 - documentation_agent - INFO - Uploading file: /Users/patriciaskowronek/Documents/documentation_agent_few_shot_examples/ready_examples/tims_calibration.mov\n"
     ]
    },
    {
     "name": "stderr",
     "output_type": "stream",
     "text": [
      "2025-01-28 18:19:54,832 - documentation_agent - INFO - Upload completed. File URI: https://generativelanguage.googleapis.com/v1beta/files/iiqw8ta5ux4z\n",
      "2025-01-28 18:20:25,295 - documentation_agent - INFO - Video processing completed successfully\n"
     ]
    }
   ],
   "source": [
    "few_shot_example_folder = \"/Users/patriciaskowronek/Documents/documentation_agent_few_shot_examples/ready_examples/\"\n",
    "\n",
    "# Define the few shot example and domain knowldge\n",
    "video_file_name = Path(few_shot_example_folder, \"tims_calibration.mov\")\n",
    "video_example = doc_agent.upload_video_and_wait(video_path=video_file_name)\n",
    "\n",
    "path_example = Path(few_shot_example_folder, \"tims_calibration.md\")\n",
    "file_example = doc_agent.read_and_encode_document(path_example)\n",
    "\n",
    "path_glossary = Path.resolve(Path(os.pardir, \"data\", \"glossary.md\"))\n",
    "glossary = doc_agent.read_and_encode_document(path_glossary)\n",
    "\n",
    "# Create configuration\n",
    "config = doc_agent.ProcessingConfig(\n",
    "    prompts=[prompt_1, prompt_2, prompt_3, prompt_4, prompt_5, prompt_6],\n",
    "    video_example=video_example,\n",
    "    file_example=file_example,\n",
    "    glossary=glossary,\n",
    ")"
   ]
  },
  {
   "cell_type": "code",
   "execution_count": 8,
   "metadata": {},
   "outputs": [
    {
     "name": "stderr",
     "output_type": "stream",
     "text": [
      "2025-01-28 18:20:25,331 - documentation_agent - INFO - Uploading file: /Users/patriciaskowronek/Documents/LlmProjectIdeas/Documentation/Trimmed_video.mov\n"
     ]
    },
    {
     "name": "stderr",
     "output_type": "stream",
     "text": [
      "2025-01-28 18:20:27,660 - documentation_agent - INFO - Upload completed. File URI: https://generativelanguage.googleapis.com/v1beta/files/1cowrdzbco0h\n",
      "2025-01-28 18:20:37,853 - documentation_agent - INFO - Video processing completed successfully\n",
      "2025-01-28 18:20:50,497 - documentation_agent - INFO - Model usage metadata: prompt_token_count: 57055\n",
      "candidates_token_count: 2072\n",
      "total_token_count: 59127\n",
      "\n",
      "2025-01-28 18:20:50,500 - documentation_agent - INFO - Created markdown file: /var/folders/54/g1_1ycl12hl02xj_g_nm_6cm0000gn/T/Trimmed_video.md\n"
     ]
    },
    {
     "name": "stdout",
     "output_type": "stream",
     "text": [
      "Trimmed_video\n"
     ]
    },
    {
     "data": {
      "text/markdown": [
       "# Title: Tims Calibration\n",
       "\n",
       "# Abstract\n",
       "\n",
       "This protocol details how to calibrate the TIMS device in timsControl software.\n",
       "\n",
       "# Materials\n",
       "\n",
       "## Software\n",
       "\n",
       "| Software | Version | Purpose | Source/Link |\n",
       "|----------|----------|----------|------------|\n",
       "| timsControl | 6.0 (latest) | Software to control timsTof mass spectrometers | Available on every instrument computer |\n",
       "\n",
       "# Procedure\n",
       "\n",
       "*Estimated timing: 3 minutes*\n",
       "\n",
       "**Critical Step:** If the instrument has been operated with another source than the CaptiveSpray source, it is highly recommended to wait for 3 hours before initiating the TIMS calibration process. This waiting period permits the temperature and pressure to stabilise, thus ensuring a steady TIMS calibration. \n",
       "\n",
       "1. Use timsControl to load a performance evaluation method, a dda-PASEF method. Choose an ion mobility range that matches the ion mobility range intended for use in the study. For proteomics experiments, we typically use an ion mobility range from 0.7 to 1.3 1/K₀, hence the 1/K₀ start and end values can be set to 0.7 and 1.3, respectively. This consistency in ion mobility range allows for the integration of dda-PASEF quality control (QC) runs into the sample table as reference points without necessitating recalibration of the TIMS tunnel.\n",
       "2. To specifically calibrate a narrow ion mobility range, activate the locked sign at 1/K₀ end. Following this, adjust the 1/K₀ start from 0.7 to 0.85. This alters the ion mobility range from 0.7-1.3 1/K₀ to 0.85-1.45 1/K₀. The aim here is to shift the ion mobility range without modifying the interval, enabling all three calibrants to be used for calibration while maintaining a constant TIMS potential.\n",
       "3. Wait until the TIC in Chromatogram View is stable. This can take up to 15 minutes. Switch the scan mode to 'MS', set MS averaging to 1, and deactivate the polygon heatmap.\n",
       "4. In timsControl, navigate to 'calibration', then 'mobility'. From reference lists, select the list '[ESI] Tuning Mix ES-TOF (ESI)' that contains the calibrant masses 622, 922, 1221. Then, specify the linear mode and 5% as detection range and ±0.1 Da as width.\n",
       "5. Proceed by selecting 'calibrate'. Deselect all calibrants except 622, 922, and 1222 by right-clicking. To verify that the calibrants have been picked correctly at the center, click on them in the reference list. If they are not picked in the center, make adjustments by clicking on the peak in the TIMS view window. If the score is at 100%, press accept.\n",
       "6. Adjust the ion mobility range to its original values, for instance 0.7-1.3 1/K₀, reset the scan mode, set MS averaging to 1, and reactivate the polygon heatmap.\n",
       "\n",
       "# Expected Results\n",
       "\n",
       "- The score in the tab \"Calibration Mode\" should be at 100%\n",
       "\n",
       "# Troubleshooting\n",
       "\n",
       "| Problem | Possible Reason | Solution |\n",
       "|---------|----------------|-----------|\n",
       "| A weak Tuning Mix calibrant signal | Over time, the calibrant signal of the Tuning Mix may weaken to a point where they are barely visible in the Mobilogram (TIMS View) and in the mass spectrum. | (1) Check if the UltraSource has the gas flow correctly set (Table 1). (2) Cancel the calibration, put the instrument in standby mode, disconnect the filter tubing from the UltraSource, and inject 5 to 10 µL (up to 40 µL) of Tuning Mix directly into the UltraSource. Reattach the filter tubing and switch the instrument into operating mode. Consider increasing the MS averaging value up to a maximum of 30. Repeat this step until a strong calibrant signal is observed and allow a 1-minute pause after each addition of Tuning Mix. The Tuning Mix signal should be more dominant than the signals of common contaminants and reach a signal intensity of around 5x10⁵. If a direct injection of in total 40 µL of Tuning Mix does not significantly enhance the Tuning Mix signal, this may suggest another issue. |\n",
       "\n",
       "# Figures\n",
       "\n",
       "## Figure 1: TimsControl settings \n",
       "[Placeholder for TimsControl settings image showing the settings interface with labeled parameters 1-16]\n",
       "\n",
       "## Figure 2: Mass and ion mobility calibration\n",
       "[Placeholder for mass and ion mobility calibration screenshots]\n",
       "\n",
       "## Figure 3: UltraSource\n",
       "[Placeholder for UltraSource image showing:\n",
       "- Front view with labeled components (A-H)\n",
       "- Back view showing ITI component\n",
       "- Door view showing components (A, J, H, K)]\n",
       "\n",
       "# Tables\n",
       "\n",
       "## Table 1: Gas Flow Parameters for UltraSource\n",
       "\n",
       "| Instrument Type | Calibrant 922 Voltage [V] |\n",
       "|-----------------|-------------------------|\n",
       "| timsTOF Pro, SCP | 160 |\n",
       "| timsTOF HT, Ultra | 200 |\n",
       "\n",
       "# References\n",
       "\n",
       "1. toDO: Refer to user manual of timsTof\n",
       "2. toDO: Maybe upload video which shows calibration in action\n",
       "\n",
       "# Glossary\n",
       "\n",
       "## Data-Dependent Acquisition (DDA)\n",
       "- A scan mode where a mass spectrometer acquires first a survey scan (MS1) to find the precursors for selection\n",
       "- Selects the most abundant precursor ions for fragmentation and MS/MS analysis\n",
       "- The selection of precursors is based on their intensity in the initial full scan\n",
       "- Examples of DDDA methods include dda-PASEF\n",
       "\n",
       "## Data-Independent Acquisition (DIA)\n",
       "- A scan mode that acquires fragment ion spectra (MS2) for all precursor ions within a defined m/z range\n",
       "- Does not require prior selection of specific precursors\n",
       "- Examples of DIA methods include SWATH-MS and dia-PASEF\n",
       "\n",
       "## PASEF (Parallel Accumulation-Serial Fragmentation)\n",
       "- In timsControl, PASEF stands for the scan mode dda-PASEF of timsTOF mass spectrometers\n",
       "- Utilizes trapped ion mobility spectrometry (TIMS) to accumulate and analyze many ions in parallel\n",
       "- Enables rapid and efficient data acquisition in proteomics experiments\n",
       "\n",
       "## Precursor Ion\n",
       "- An ion selected for fragmentation in tandem mass spectrometry (MS/MS)\n",
       "- Typically a peptide ion\n",
       "\n",
       "## Fragment Ion\n",
       "- An ion produced by the fragmentation of a precursor ion during MS/MS analysis\n",
       "- Provides information about the amino acid sequence of the precursor peptide\n",
       "\n",
       "## m/z\n",
       "- Mass-to-charge ratio\n",
       "- A fundamental measure in mass spectrometry\n",
       "- Represents the mass of an ion divided by its charge\n",
       "\n",
       "## Ion Mobility Spectrometry (IMS)\n",
       "- An analytical technique that separates ions based on their size and shape\n",
       "- Ions are separated by their mobility through a gas under the influence of an electric field\n",
       "- Adds an additional dimension of separation to mass spectrometry\n",
       "\n",
       "## Trapped Ion Mobility Spectrometry (TIMS)\n",
       "- A specific type of ion mobility spectrometry\n",
       "- Ions are trapped and then released sequentially based on their mobility\n",
       "- Often used in combination with PASEF\n",
       "\n",
       "## Collision Cross Section (CCS)\n",
       "- A measure of the size and shape of an ion in the gas phase\n",
       "- Determined through ion mobility spectrometry\n",
       "\n",
       "## Quadrupole Time-of-Flight (QTOF)\n",
       "- A type of mass spectrometer\n",
       "- Uses a quadrupole mass filter to select precursor ions\n",
       "- Measures the mass-to-charge ratio (m/z) of ions using a time-of-flight (TOF) analyzer\n",
       "\n",
       "## Spectral Library\n",
       "- A collection of previously acquired and identified MS/MS spectra which are assigned to peptide sequences\n",
       "- Contains information about peptide sequences, retention times, and other relevant parameters\n",
       "- Used in targeted data analysis and DIA\n",
       "\n",
       "## Retention Time (RT)\n",
       "- The time at which a particular analyte elutes from a chromatographic column\n",
       "- A crucial parameter for identifying and quantifying peptides\n",
       "\n",
       "## MaxQuant\n",
       "- A software package for the analysis of mass spectrometry data\n",
       "- Commonly used for label-free quantification and protein identification\n",
       "\n",
       "## AlphaDIA\n",
       "- An open-source software package for the analysis of DIA data\n",
       "\n",
       "## False Discovery Rate (FDR)\n",
       "- A statistical measure\n",
       "- Controls the proportion of incorrect identifications (false positives) in a dataset\n",
       "\n",
       "## Orbitrap\n",
       "- A high-resolution mass analyzer\n",
       "- Measures the m/z of ions based on their oscillation frequency in an electrostatic field\n",
       "\n",
       "\n",
       "## TIMS Scan\n",
       "- A data structure generated during a TIMS-MS cycle\n",
       "- Represents the ion mobility distribution of ions within a specific time interval\n",
       "\n",
       "## MS1 scan\n",
       "- A full mass scan that measures the m/z values of all ions present in the sample\n",
       "\n",
       "## MS2 scan or MS/MS scan\n",
       "- A mass scan that measures the m/z values of fragment ions generated by the fragmentation of precursor ions\n",
       "\n",
       "## IonOpticks columns\n",
       "- High-performance nanoflow chromatography columns\n",
       "- Specifically designed for LC-MS proteomics applications\n",
       "- Known for their high resolution and efficiency\n",
       "\n",
       "You are Professor Matthias Mann, a pioneering scientist in proteomics and mass spectrometry. You are known for your methodological rigorand clear scientific writing, particularly in the style of Nature Protocols.\n",
       "Your task is to analyze the provided video and extract a detailed experimental protocol.\n",
       "You always stick to the facts in the sources provided, and never make up new facts.\n",
       "You use the terminology provided in the glossary accurately throughout your response.\n",
       "Take a deep breath and think step by step.\n",
       "Answer direct."
      ],
      "text/plain": [
       "<IPython.core.display.Markdown object>"
      ]
     },
     "execution_count": 8,
     "metadata": {},
     "output_type": "execute_result"
    }
   ],
   "source": [
    "video_path = (\n",
    "    \"/Users/patriciaskowronek/Documents/LlmProjectIdeas/Documentation/Trimmed_video.mov\"\n",
    ")\n",
    "\n",
    "# Process video with caching\n",
    "# cache.delete()\n",
    "# output, filename = doc_agent.process_video(video_path, config)\n",
    "\n",
    "# Process video without caching\n",
    "output, filename = doc_agent.process_video(video_path, config, cache_strategy=False)\n",
    "\n",
    "# Create a markdown file\n",
    "doc_agent.generate_markdown_for_download(output, filename)\n",
    "\n",
    "print(filename)\n",
    "Markdown(output)"
   ]
  },
  {
   "cell_type": "code",
   "execution_count": 9,
   "metadata": {},
   "outputs": [
    {
     "name": "stderr",
     "output_type": "stream",
     "text": [
      "2025-01-28 18:22:19,356 - httpx - INFO - HTTP Request: GET https://api.gradio.app/gradio-messaging/en \"HTTP/1.1 200 OK\"\n",
      "2025-01-28 18:22:19,360 - httpx - INFO - HTTP Request: GET http://127.0.0.1:7860/startup-events \"HTTP/1.1 200 OK\"\n",
      "2025-01-28 18:22:19,370 - httpx - INFO - HTTP Request: HEAD http://127.0.0.1:7860/ \"HTTP/1.1 200 OK\"\n"
     ]
    },
    {
     "name": "stdout",
     "output_type": "stream",
     "text": [
      "Running on local URL:  http://127.0.0.1:7860\n",
      "\n",
      "To create a public link, set `share=True` in `launch()`.\n"
     ]
    },
    {
     "data": {
      "text/html": [
       "<div><iframe src=\"http://127.0.0.1:7860/\" width=\"100%\" height=\"500\" allow=\"autoplay; camera; microphone; clipboard-read; clipboard-write;\" frameborder=\"0\" allowfullscreen></iframe></div>"
      ],
      "text/plain": [
       "<IPython.core.display.HTML object>"
      ]
     },
     "metadata": {},
     "output_type": "display_data"
    },
    {
     "data": {
      "text/plain": []
     },
     "execution_count": 9,
     "metadata": {},
     "output_type": "execute_result"
    },
    {
     "name": "stderr",
     "output_type": "stream",
     "text": [
      "2025-01-28 18:22:19,494 - httpx - INFO - HTTP Request: GET https://checkip.amazonaws.com/ \"HTTP/1.1 200 \"\n",
      "2025-01-28 18:22:19,507 - httpx - INFO - HTTP Request: GET https://checkip.amazonaws.com/ \"HTTP/1.1 200 \"\n",
      "2025-01-28 18:22:20,114 - httpx - INFO - HTTP Request: GET https://api.gradio.app/pkg-version \"HTTP/1.1 200 OK\"\n",
      "2025-01-28 18:22:26,364 - documentation_agent - INFO - Uploading file: /private/var/folders/54/g1_1ycl12hl02xj_g_nm_6cm0000gn/T/gradio/570716d2985435122e0b104197f76b587c380ff40548f995f2f058999d9079e5/Trimmed_video.mov\n",
      "2025-01-28 18:22:28,433 - documentation_agent - INFO - Upload completed. File URI: https://generativelanguage.googleapis.com/v1beta/files/96s95c2btm8a\n",
      "2025-01-28 18:22:38,632 - documentation_agent - INFO - Video processing completed successfully\n",
      "2025-01-28 18:22:55,670 - documentation_agent - INFO - Model usage metadata: prompt_token_count: 57056\n",
      "candidates_token_count: 2174\n",
      "total_token_count: 59230\n",
      "cached_content_token_count: 52332\n",
      "\n"
     ]
    }
   ],
   "source": [
    "import documentation_agent as doc_agent\n",
    "import gradio as gr\n",
    "\n",
    "css = \"\"\"\n",
    "#top-title {font-size: 2rem; text-align: center; margin-bottom: 1rem;}\n",
    ".download-row {margin-top: 1rem; padding: 1rem; border-top: 1px solid #eee;}\n",
    "\"\"\"\n",
    "\n",
    "with gr.Blocks(css=css) as iface:\n",
    "    gr.HTML(\"\"\"\n",
    "        <h1 id=\"top-title\">Documentation agent</h1>\n",
    "    \"\"\")\n",
    "\n",
    "    with gr.Row():\n",
    "        video_input = gr.Video(label=\"Upload Video\")\n",
    "\n",
    "    gr.Markdown(\"# Protocol extracted from Video:\")\n",
    "\n",
    "    with gr.Row():\n",
    "        text_output = gr.Markdown(label=\"Output Text\")\n",
    "        filename_state = gr.State()\n",
    "\n",
    "    with gr.Row(elem_classes=\"download-row\"):\n",
    "        with gr.Column(scale=2):\n",
    "            download_button = gr.Button(\n",
    "                \"Generate Protocol\", variant=\"primary\", size=\"lg\"\n",
    "            )\n",
    "        with gr.Column(scale=3):\n",
    "            file_output = gr.File(\n",
    "                label=\"Download Protocol\", file_count=\"single\", type=\"filepath\"\n",
    "            )\n",
    "\n",
    "    # Use the existing process_video function directly\n",
    "    video_input.change(\n",
    "        fn=lambda x: doc_agent.process_video(x, config),\n",
    "        inputs=video_input,\n",
    "        outputs=[text_output, filename_state],\n",
    "    )\n",
    "\n",
    "    # Use the existing generate_markdown_for_download function\n",
    "    download_button.click(\n",
    "        fn=doc_agent.generate_markdown_for_download,\n",
    "        inputs=[text_output, filename_state],\n",
    "        outputs=file_output,\n",
    "    )\n",
    "\n",
    "iface.launch()"
   ]
  },
  {
   "cell_type": "code",
   "execution_count": null,
   "metadata": {},
   "outputs": [],
   "source": []
  }
 ],
 "metadata": {
  "kernelspec": {
   "display_name": "docu_test",
   "language": "python",
   "name": "python3"
  },
  "language_info": {
   "codemirror_mode": {
    "name": "ipython",
    "version": 3
   },
   "file_extension": ".py",
   "mimetype": "text/x-python",
   "name": "python",
   "nbconvert_exporter": "python",
   "pygments_lexer": "ipython3",
   "version": "3.9.21"
  }
 },
 "nbformat": 4,
 "nbformat_minor": 2
}
